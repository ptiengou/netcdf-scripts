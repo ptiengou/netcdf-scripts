{
 "cells": [
  {
   "cell_type": "markdown",
   "metadata": {},
   "source": [
    "# Imports and setting up viz\n",
    "\n",
    "NB : conda env1 on Mac, lam1env on spirit (Python3.12)"
   ]
  },
  {
   "cell_type": "code",
   "execution_count": 1,
   "metadata": {},
   "outputs": [
    {
     "name": "stderr",
     "output_type": "stream",
     "text": [
      "/home/ptiengou/.conda/envs/lam1env/lib/python3.12/site-packages/pyproj/__init__.py:89: UserWarning: pyproj unable to set database path.\n",
      "  _pyproj_global_context_initialize()\n"
     ]
    }
   ],
   "source": [
    "import numpy as np\n",
    "import netCDF4 as nc\n",
    "import xarray as xr\n",
    "import pandas as pd\n",
    "import matplotlib.pyplot as plt\n",
    "from cycler import cycler\n",
    "import cartopy.crs as ccrs\n",
    "import cartopy\n",
    "import matplotlib as mpl\n",
    "from matplotlib.colors import ListedColormap\n",
    "%matplotlib inline"
   ]
  },
  {
   "cell_type": "code",
   "execution_count": 2,
   "metadata": {},
   "outputs": [],
   "source": [
    "plt.rcParams.update(\n",
    "        {\n",
    "            'figure.facecolor': 'white',\n",
    "            'axes.facecolor': 'white',\n",
    "            'font.size': 12,\n",
    "            'figure.dpi': 72.0,\n",
    "            'xtick.direction': 'in',\n",
    "            'ytick.direction': 'in',\n",
    "            'xtick.major.size': 5.0,\n",
    "            'xtick.minor.size': 2.5,\n",
    "            'ytick.major.size': 5.0,\n",
    "            'ytick.minor.size': 2.5,\n",
    "            'xtick.minor.visible': True,\n",
    "            'ytick.minor.visible': True,\n",
    "            'axes.grid': True,\n",
    "            'axes.titlesize': 'larger',\n",
    "            'axes.labelsize': 'larger',\n",
    "            'grid.color': 'dimgray',\n",
    "            'grid.linestyle': '-',\n",
    "            'grid.alpha': 0.3,\n",
    "            'axes.prop_cycle': cycler(\n",
    "                color=[\n",
    "                    '#0C5DA5',\n",
    "                    '#FF9500',\n",
    "                    '#00B945',\n",
    "                    '#FF2C00',\n",
    "                    '#845B97',\n",
    "                    '#474747',\n",
    "                    '#9E9E9E',\n",
    "                ]\n",
    "            ) * cycler(alpha=[0.8]),\n",
    "            'scatter.marker': 'x',\n",
    "            'lines.linewidth': 1.0,\n",
    "        })"
   ]
  },
  {
   "cell_type": "code",
   "execution_count": 3,
   "metadata": {},
   "outputs": [],
   "source": [
    "rivers = cartopy.feature.NaturalEarthFeature('physical', 'rivers_lake_centerlines', '10m',edgecolor=(0, 0, 0, 0.3), facecolor='none')"
   ]
  },
  {
   "cell_type": "markdown",
   "metadata": {},
   "source": []
  },
  {
   "cell_type": "code",
   "execution_count": 4,
   "metadata": {},
   "outputs": [
    {
     "data": {
      "image/png": "[encoded data removed]",
      "text/html": [
       "<div style=\"vertical-align: middle;\"><strong>from_list</strong> </div><div class=\"cmap\"><img alt=\"from_list colormap\" title=\"from_list\" style=\"border: 1px solid #555;\" src=\"data:image/png;base64,iVBORw0KGgoAAAANSUhEUgAAAgAAAABACAYAAABsv8+/AAAAGHRFWHRUaXRsZQBmcm9tX2xpc3QgY29sb3JtYXBDL89FAAAAHnRFWHREZXNjcmlwdGlvbgBmcm9tX2xpc3QgY29sb3JtYXABtCnOAAAAMHRFWHRBdXRob3IATWF0cGxvdGxpYiB2My44LjAsIGh0dHBzOi8vbWF0cGxvdGxpYi5vcmefc/hPAAAAMnRFWHRTb2Z0d2FyZQBNYXRwbG90bGliIHYzLjguMCwgaHR0cHM6Ly9tYXRwbG90bGliLm9yZ7HVZ2gAAAF4SURBVHic7dYxLgRgGABR3ECFSvSaLWgkqr2i0+y2KtvotBIXUEg0si7xx5eY904w5Zxu7p+OJ//I5fZmOmGZu4fr6YRlHm+vphOW2Vx8Ticsc/71PJ2wzPH1MJ2wzPfubTphmY/9+3TCMoeXn+mEpc6mAwCAv2cAACDIAABAkAEAgCADAABBBgAAggwAAAQZAAAIMgAAEGQAACDIAABAkAEAgCADAABBBgAAggwAAAQZAAAIMgAAEGQAACDIAABAkAEAgCADAABBBgAAggwAAAQZAAAIMgAAEGQAACDIAABAkAEAgCADAABBBgAAggwAAAQZAAAIMgAAEGQAACDIAABAkAEAgCADAABBBgAAggwAAAQZAAAIMgAAEGQAACDIAABAkAEAgCADAABBBgAAggwAAAQZAAAIMgAAEGQAACDIAABAkAEAgCADAABBBgAAggwAAAQZAAAIMgAAEGQAACDIAABAkAEAgCADAABBBgAAggwAAAT9AjVwEUps4BlhAAAAAElFTkSuQmCC\"></div><div style=\"vertical-align: middle; max-width: 514px; display: flex; justify-content: space-between;\"><div style=\"float: left;\"><div title=\"#313695ff\" style=\"display: inline-block; width: 1em; height: 1em; margin: 0; vertical-align: middle; border: 1px solid #555; background-color: #313695ff;\"></div> under</div><div style=\"margin: 0 auto; display: inline-block;\">bad <div title=\"#00000000\" style=\"display: inline-block; width: 1em; height: 1em; margin: 0; vertical-align: middle; border: 1px solid #555; background-color: #00000000;\"></div></div><div style=\"float: right;\">over <div title=\"#a50026ff\" style=\"display: inline-block; width: 1em; height: 1em; margin: 0; vertical-align: middle; border: 1px solid #555; background-color: #a50026ff;\"></div></div>"
      ],
      "text/plain": [
       "<matplotlib.colors.ListedColormap at 0x7f6485a76a80>"
      ]
     },
     "execution_count": 4,
     "metadata": {},
     "output_type": "execute_result"
    }
   ],
   "source": [
    "#define centered colorbar\n",
    "emb = ListedColormap(mpl.colormaps['RdYlBu_r'](np.linspace(0, 1, 10)))\n",
    "emb"
   ]
  },
  {
   "cell_type": "code",
   "execution_count": 5,
   "metadata": {},
   "outputs": [
    {
     "data": {
      "image/png": "[encoded data removed]",
      "text/html": [
       "<div style=\"vertical-align: middle;\"><strong>from_list</strong> </div><div class=\"cmap\"><img alt=\"from_list colormap\" title=\"from_list\" style=\"border: 1px solid #555;\" src=\"data:image/png;base64,iVBORw0KGgoAAAANSUhEUgAAAgAAAABACAYAAABsv8+/AAAAGHRFWHRUaXRsZQBmcm9tX2xpc3QgY29sb3JtYXBDL89FAAAAHnRFWHREZXNjcmlwdGlvbgBmcm9tX2xpc3QgY29sb3JtYXABtCnOAAAAMHRFWHRBdXRob3IATWF0cGxvdGxpYiB2My44LjAsIGh0dHBzOi8vbWF0cGxvdGxpYi5vcmefc/hPAAAAMnRFWHRTb2Z0d2FyZQBNYXRwbG90bGliIHYzLjguMCwgaHR0cHM6Ly9tYXRwbG90bGliLm9yZ7HVZ2gAAAF1SURBVHic7daxSYNhFEBRf7VKI9gEDFgoOIMDWGQAN3cBRxBBJDZxiQ8feM+Z4JZ3e9lezxf/yNXT43TCMt8Pt9MJy3zeX08nLPN12KYTljkdfqYTltnffUwnLPO8f59OWOZ48zadsMxxd5pOWOpyOgAA+HsGAACCDAAABBkAAAgyAAAQZAAAIMgAAECQAQCAIAMAAEEGAACCDAAABBkAAAgyAAAQZAAAIMgAAECQAQCAIAMAAEEGAACCDAAABBkAAAgyAAAQZAAAIMgAAECQAQCAIAMAAEEGAACCDAAABBkAAAgyAAAQZAAAIMgAAECQAQCAIAMAAEEGAACCDAAABBkAAAgyAAAQZAAAIMgAAECQAQCAIAMAAEEGAACCDAAABBkAAAgyAAAQZAAAIMgAAECQAQCAIAMAAEEGAACCDAAABBkAAAgyAAAQZAAAIMgAAECQAQCAIAMAAEEGAACCDAAABBkAAAgyAAAQZAAAIMgAAEDQL0eiDId12tLyAAAAAElFTkSuQmCC\"></div><div style=\"vertical-align: middle; max-width: 514px; display: flex; justify-content: space-between;\"><div style=\"float: left;\"><div title=\"#440154ff\" style=\"display: inline-block; width: 1em; height: 1em; margin: 0; vertical-align: middle; border: 1px solid #555; background-color: #440154ff;\"></div> under</div><div style=\"margin: 0 auto; display: inline-block;\">bad <div title=\"#00000000\" style=\"display: inline-block; width: 1em; height: 1em; margin: 0; vertical-align: middle; border: 1px solid #555; background-color: #00000000;\"></div></div><div style=\"float: right;\">over <div title=\"#fde725ff\" style=\"display: inline-block; width: 1em; height: 1em; margin: 0; vertical-align: middle; border: 1px solid #555; background-color: #fde725ff;\"></div></div>"
      ],
      "text/plain": [
       "<matplotlib.colors.ListedColormap at 0x7f64859e0860>"
      ]
     },
     "execution_count": 5,
     "metadata": {},
     "output_type": "execute_result"
    }
   ],
   "source": [
    "#define progressive colorbar\n",
    "myvir = ListedColormap(mpl.colormaps['viridis'](np.linspace(0, 1, 10)))\n",
    "myvir"
   ]
  },
  {
   "cell_type": "code",
   "execution_count": 6,
   "metadata": {},
   "outputs": [
    {
     "data": {
      "image/png": "[encoded data removed]",
      "text/html": [
       "<div style=\"vertical-align: middle;\"><strong>from_list</strong> </div><div class=\"cmap\"><img alt=\"from_list colormap\" title=\"from_list\" style=\"border: 1px solid #555;\" src=\"data:image/png;base64,iVBORw0KGgoAAAANSUhEUgAAAgAAAABACAYAAABsv8+/AAAAGHRFWHRUaXRsZQBmcm9tX2xpc3QgY29sb3JtYXBDL89FAAAAHnRFWHREZXNjcmlwdGlvbgBmcm9tX2xpc3QgY29sb3JtYXABtCnOAAAAMHRFWHRBdXRob3IATWF0cGxvdGxpYiB2My44LjAsIGh0dHBzOi8vbWF0cGxvdGxpYi5vcmefc/hPAAAAMnRFWHRTb2Z0d2FyZQBNYXRwbG90bGliIHYzLjguMCwgaHR0cHM6Ly9tYXRwbG90bGliLm9yZ7HVZ2gAAAFsSURBVHic7dYxSkNRFABRdf8rSy8KiaKFNqIIUUhS+N3EwwvOOSuYcq6378/t6h/Z3l+mE5b5eb6bTljncDtdsMz2sJ9OWOZy/zSdsMzH/m06YZnH16/phGUOp/N0wjK742k6Yamb6QAA4O8ZAAAIMgAAEGQAACDIAABAkAEAgCADAABBBgAAggwAAAQZAAAIMgAAEGQAACDIAABAkAEAgCADAABBBgAAggwAAAQZAAAIMgAAEGQAACDIAABAkAEAgCADAABBBgAAggwAAAQZAAAIMgAAEGQAACDIAABAkAEAgCADAABBBgAAggwAAAQZAAAIMgAAEGQAACDIAABAkAEAgCADAABBBgAAggwAAAQZAAAIMgAAEGQAACDIAABAkAEAgCADAABBBgAAggwAAAQZAAAIMgAAEGQAACDIAABAkAEAgCADAABBBgAAggwAAAQZAAAIMgAAEGQAACDIAABAkAEAgCADAABBvzKpG/LIB9CsAAAAAElFTkSuQmCC\"></div><div style=\"vertical-align: middle; max-width: 514px; display: flex; justify-content: space-between;\"><div style=\"float: left;\"><div title=\"#fff5f0ff\" style=\"display: inline-block; width: 1em; height: 1em; margin: 0; vertical-align: middle; border: 1px solid #555; background-color: #fff5f0ff;\"></div> under</div><div style=\"margin: 0 auto; display: inline-block;\">bad <div title=\"#00000000\" style=\"display: inline-block; width: 1em; height: 1em; margin: 0; vertical-align: middle; border: 1px solid #555; background-color: #00000000;\"></div></div><div style=\"float: right;\">over <div title=\"#67000dff\" style=\"display: inline-block; width: 1em; height: 1em; margin: 0; vertical-align: middle; border: 1px solid #555; background-color: #67000dff;\"></div></div>"
      ],
      "text/plain": [
       "<matplotlib.colors.ListedColormap at 0x7f64c5e41400>"
      ]
     },
     "execution_count": 6,
     "metadata": {},
     "output_type": "execute_result"
    }
   ],
   "source": [
    "#define progressive colorbar\n",
    "reds = ListedColormap(mpl.colormaps['Reds'](np.linspace(0, 1, 10)))\n",
    "reds"
   ]
  },
  {
   "cell_type": "code",
   "execution_count": 7,
   "metadata": {},
   "outputs": [
    {
     "data": {
      "image/png": "[encoded data removed]",
      "text/html": [
       "<div style=\"vertical-align: middle;\"><strong>from_list</strong> </div><div class=\"cmap\"><img alt=\"from_list colormap\" title=\"from_list\" style=\"border: 1px solid #555;\" src=\"data:image/png;base64,iVBORw0KGgoAAAANSUhEUgAAAgAAAABACAYAAABsv8+/AAAAGHRFWHRUaXRsZQBmcm9tX2xpc3QgY29sb3JtYXBDL89FAAAAHnRFWHREZXNjcmlwdGlvbgBmcm9tX2xpc3QgY29sb3JtYXABtCnOAAAAMHRFWHRBdXRob3IATWF0cGxvdGxpYiB2My44LjAsIGh0dHBzOi8vbWF0cGxvdGxpYi5vcmefc/hPAAAAMnRFWHRTb2Z0d2FyZQBNYXRwbG90bGliIHYzLjguMCwgaHR0cHM6Ly9tYXRwbG90bGliLm9yZ7HVZ2gAAAFtSURBVHic7dZbSgJgGEVRa/7D883AwOyCSFJUBEFN4qcP3GuN4MB52TdfPx+/myty+T5PT1jm6fM4PWGZ/fv99IRldq/76QnLbE8P0xOW2T2fpicsczi8TE9Y5vF4Pb9s7t6mFyx1Oz0AAPh/AgAAggQAAAQJAAAIEgAAECQAACBIAABAkAAAgCABAABBAgAAggQAAAQJAAAIEgAAECQAACBIAABAkAAAgCABAABBAgAAggQAAAQJAAAIEgAAECQAACBIAABAkAAAgCABAABBAgAAggQAAAQJAAAIEgAAECQAACBIAABAkAAAgCABAABBAgAAggQAAAQJAAAIEgAAECQAACBIAABAkAAAgCABAABBAgAAggQAAAQJAAAIEgAAECQAACBIAABAkAAAgCABAABBAgAAggQAAAQJAAAIEgAAECQAACBIAABAkAAAgCABAABBAgAAggQAAAQJAAAIEgAAECQAACBIAABA0B9wyhveTsvBggAAAABJRU5ErkJggg==\"></div><div style=\"vertical-align: middle; max-width: 514px; display: flex; justify-content: space-between;\"><div style=\"float: left;\"><div title=\"#f7fcf5ff\" style=\"display: inline-block; width: 1em; height: 1em; margin: 0; vertical-align: middle; border: 1px solid #555; background-color: #f7fcf5ff;\"></div> under</div><div style=\"margin: 0 auto; display: inline-block;\">bad <div title=\"#00000000\" style=\"display: inline-block; width: 1em; height: 1em; margin: 0; vertical-align: middle; border: 1px solid #555; background-color: #00000000;\"></div></div><div style=\"float: right;\">over <div title=\"#00441bff\" style=\"display: inline-block; width: 1em; height: 1em; margin: 0; vertical-align: middle; border: 1px solid #555; background-color: #00441bff;\"></div></div>"
      ],
      "text/plain": [
       "<matplotlib.colors.ListedColormap at 0x7f64c5e40440>"
      ]
     },
     "execution_count": 7,
     "metadata": {},
     "output_type": "execute_result"
    }
   ],
   "source": [
    "#define progressive colorbar\n",
    "greens = ListedColormap(mpl.colormaps['Greens'](np.linspace(0, 1, 10)))\n",
    "greens"
   ]
  },
  {
   "cell_type": "code",
   "execution_count": 8,
   "metadata": {},
   "outputs": [
    {
     "data": {
      "image/png": "[encoded data removed]",
      "text/html": [
       "<div style=\"vertical-align: middle;\"><strong>from_list</strong> </div><div class=\"cmap\"><img alt=\"from_list colormap\" title=\"from_list\" style=\"border: 1px solid #555;\" src=\"data:image/png;base64,iVBORw0KGgoAAAANSUhEUgAAAgAAAABACAYAAABsv8+/AAAAGHRFWHRUaXRsZQBmcm9tX2xpc3QgY29sb3JtYXBDL89FAAAAHnRFWHREZXNjcmlwdGlvbgBmcm9tX2xpc3QgY29sb3JtYXABtCnOAAAAMHRFWHRBdXRob3IATWF0cGxvdGxpYiB2My44LjAsIGh0dHBzOi8vbWF0cGxvdGxpYi5vcmefc/hPAAAAMnRFWHRTb2Z0d2FyZQBNYXRwbG90bGliIHYzLjguMCwgaHR0cHM6Ly9tYXRwbG90bGliLm9yZ7HVZ2gAAAFwSURBVHic7dY9SkNRGABRf3H/m9LGLpUoQgoJiSIWItj43MTFD5xzVjDlnG/bw3b2j3x8P00nLLP//JlOWObudD2dsMzt6WY6YZndy+V0wjLvj1/TCctc7V6nE5bZno/TCcsc3u6nE5a6mA4AAP6eAQCAIAMAAEEGAACCDAAABBkAAAgyAAAQZAAAIMgAAECQAQCAIAMAAEEGAACCDAAABBkAAAgyAAAQZAAAIMgAAECQAQCAIAMAAEEGAACCDAAABBkAAAgyAAAQZAAAIMgAAECQAQCAIAMAAEEGAACCDAAABBkAAAgyAAAQZAAAIMgAAECQAQCAIAMAAEEGAACCDAAABBkAAAgyAAAQZAAAIMgAAECQAQCAIAMAAEEGAACCDAAABBkAAAgyAAAQZAAAIMgAAECQAQCAIAMAAEEGAACCDAAABBkAAAgyAAAQZAAAIMgAAECQAQCAIAMAAEEGAACCDAAABBkAAAgyAAAQ9Av6bxj8bZQGggAAAABJRU5ErkJggg==\"></div><div style=\"vertical-align: middle; max-width: 514px; display: flex; justify-content: space-between;\"><div style=\"float: left;\"><div title=\"#ffffd9ff\" style=\"display: inline-block; width: 1em; height: 1em; margin: 0; vertical-align: middle; border: 1px solid #555; background-color: #ffffd9ff;\"></div> under</div><div style=\"margin: 0 auto; display: inline-block;\">bad <div title=\"#00000000\" style=\"display: inline-block; width: 1em; height: 1em; margin: 0; vertical-align: middle; border: 1px solid #555; background-color: #00000000;\"></div></div><div style=\"float: right;\">over <div title=\"#081d58ff\" style=\"display: inline-block; width: 1em; height: 1em; margin: 0; vertical-align: middle; border: 1px solid #555; background-color: #081d58ff;\"></div></div>"
      ],
      "text/plain": [
       "<matplotlib.colors.ListedColormap at 0x7f64851091c0>"
      ]
     },
     "execution_count": 8,
     "metadata": {},
     "output_type": "execute_result"
    }
   ],
   "source": [
    "#define progressive colorbar\n",
    "wet = ListedColormap(mpl.colormaps['YlGnBu'](np.linspace(0, 1, 10)))\n",
    "wet"
   ]
  },
  {
   "cell_type": "markdown",
   "metadata": {},
   "source": [
    "# Load files\n",
    "\n",
    "LAM output analysis.\n",
    "\n",
    "Simu irr et simu no-irr."
   ]
  },
  {
   "cell_type": "code",
   "execution_count": 9,
   "metadata": {},
   "outputs": [],
   "source": [
    "noirr_dir='noirr_2010_2022'\n",
    "irr_dir='irr_2010_2022'"
   ]
  },
  {
   "cell_type": "code",
   "execution_count": 10,
   "metadata": {},
   "outputs": [],
   "source": [
    "#open netcdf files for native routing on ORC grid\n",
    "# filename = '../../LAM/{}/SRF/MO/*history.nc'.format(noirr_dir)\n",
    "# ORCnoirr0 = xr.open_mfdataset(filename)\n",
    "# filename = '../../LAM/{}/SRF/MO/*history.nc'.format(irr_dir)\n",
    "# ORCirr0 = xr.open_mfdataset(filename)\n",
    "# ORCirr0"
   ]
  },
  {
   "cell_type": "code",
   "execution_count": 11,
   "metadata": {},
   "outputs": [],
   "source": [
    "#open netcdf files for native routing diag_routing_r.nc (on MERIT grid)\n",
    "# filename = '../../LAM/{}/SRF/MO/*diag_routing_r.nc'.format(noirr_dir)\n",
    "# DIAGRnoirr0 = xr.open_mfdataset(filename)\n",
    "# filename = '../../LAM/{}/SRF/MO/*diag_routing_r.nc'.format(irr_dir)\n",
    "# DIAGRirr0 = xr.open_mfdataset(filename)\n",
    "# DIAGRirr0"
   ]
  },
  {
   "cell_type": "code",
   "execution_count": null,
   "metadata": {},
   "outputs": [],
   "source": [
    "#open histmth files\n",
    "filename = '../../LAM/{}/ATM/MO/*histmth.nc'.format(noirr_dir)\n",
    "HISTMTHnoirr0 = xr.open_mfdataset(filename)"
   ]
  },
  {
   "cell_type": "code",
   "execution_count": 12,
   "metadata": {},
   "outputs": [],
   "source": [
    "filename = '../../LAM/{}/ATM/MO/*histmth.nc'.format(irr_dir)\n",
    "HISTMTHirr0 = xr.open_mfdataset(filename)\n",
    "HISTMTHirr0"
   ]
  },
  {
   "cell_type": "markdown",
   "metadata": {},
   "source": [
    "# File manipulations"
   ]
  },
  {
   "cell_type": "code",
   "execution_count": null,
   "metadata": {},
   "outputs": [],
   "source": [
    "#rename time_counter to time all files\n",
    "# ORCnoirr = ORCnoirr0.rename({'time_counter':'time'})\n",
    "# ORCirr = ORCirr0.rename({'time_counter':'time'})\n",
    "# DIAGRnoirr = DIAGRnoirr0.rename({'time_counter':'time'})\n",
    "# DIAGRirr = DIAGRirr0.rename({'time_counter':'time'})\n",
    "HISTMTHnoirr = HISTMTHnoirr0.rename({'time_counter':'time'})\n",
    "HISTMTHirr = HISTMTHirr0.rename({'time_counter':'time'})"
   ]
  },
  {
   "cell_type": "code",
   "execution_count": null,
   "metadata": {},
   "outputs": [],
   "source": [
    "#Change dataset names attribute for automatic labeling\n",
    "# ORCirr.attrs['name'] = 'ORC_irr'\n",
    "# ORCnoirr.attrs['name'] = 'ORC_noirr'\n",
    "# DIAGRirr.attrs['name'] = 'DIAGR_irr'\n",
    "# DIAGRnoirr.attrs['name'] = 'DIAGR_noirr'\n",
    "HISTMTHirr.attrs['name'] = 'HISTMTH_irr'\n",
    "HISTMTHnoirr.attrs['name'] = 'HISTMTH_noirr'"
   ]
  },
  {
   "cell_type": "code",
   "execution_count": null,
   "metadata": {},
   "outputs": [],
   "source": [
    "#Rename variables in natDIAG_R_month and natDIAG_R\n",
    "# dict = {\n",
    "#         'routing_stream_reservoir_r' : 'streamr',\n",
    "#         'routing_fast_reservoir_r' : 'fastr',\n",
    "#         'routing_slow_reservoir_r' : 'slowr',\n",
    "#         'routing_drainage_r' : 'drainage',\n",
    "#         'routing_runoff_r' : 'runoff',\n",
    "#         'routing_hydrographs_r' : 'hydrographs',\n",
    "#         # 'routing_irrigation_r' : 'irrigation',\n",
    "#         # 'irrig_netereq_r' : 'netirrig'\n",
    "#         # 'routing_riverflow_r' : 'riverflow',\n",
    "#         # 'routing_coastalflow_r' : 'coastalflow'\n",
    "#         }\n",
    "#change the variables that exist according to the dictionary\n",
    "# DIAGRnoirr = DIAGRnoirr.rename(dict)\n",
    "# DIAGRirr = DIAGRirr.rename(dict)"
   ]
  },
  {
   "cell_type": "code",
   "execution_count": null,
   "metadata": {},
   "outputs": [],
   "source": [
    "#manually define irrig_deficit as netirrig-irrigation in ORC file\n",
    "# ORCirr['irrig_deficit'] = ORCirr['netirrig'] - ORCirr['irrigation']\n",
    "# #make irrig_deficit units mm/day\n",
    "# ORCirr['irrig_deficit'].attrs['units'] = 'mm/day'\n",
    "# # ORCirr\n",
    "# ORCirr['irrig_frac'] = ORCirr['irrigmap_dyn']/ORCirr['Areas']\n",
    "HISTMTHnoirr['netrad']= HISTMTHnoirr['SWdnSFC']+HISTMTHnoirr['LWdnSFC'] - HISTMTHnoirr['SWupSFC'] - HISTMTHnoirr['LWupSFC']\n",
    "HISTMTHirr['netrad']= HISTMTHirr['SWdnSFC']+HISTMTHirr['LWdnSFC'] - HISTMTHirr['SWupSFC'] - HISTMTHirr['LWupSFC']"
   ]
  },
  {
   "cell_type": "code",
   "execution_count": null,
   "metadata": {},
   "outputs": [],
   "source": [
    "# limit data to lon and lat of interest (-13,6) and (32,49)\n",
    "# ORCirr = ORCirr.sel(lon=slice(-13,6),lat=slice(32,49))\n",
    "# ORCnoirr = ORCnoirr.sel(lon=slice(-13,6),lat=slice(32,49))\n",
    "HISTMTHirr = HISTMTHirr.sel(lon=slice(-13,6),lat=slice(32,49))\n",
    "HISTMTHnoirr = HISTMTHnoirr.sel(lon=slice(-13,6),lat=slice(32,49))"
   ]
  },
  {
   "cell_type": "code",
   "execution_count": null,
   "metadata": {},
   "outputs": [],
   "source": [
    "# Select the JJA months (June, July, August)\n",
    "# ORCirr = ORCirr.sel(time=ORCirr['time.month'].isin([6, 7, 8]))\n",
    "# ORCnoirr = ORCnoirr.sel(time=ORCnoirr['time.month'].isin([6, 7, 8]))\n",
    "HISTMTHirr = HISTMTHirr.sel(time=HISTMTHirr['time.month'].isin([6, 7, 8]))\n",
    "HISTMTHnoirr = HISTMTHnoirr.sel(time=HISTMTHnoirr['time.month'].isin([6, 7, 8]))"
   ]
  },
  {
   "cell_type": "markdown",
   "metadata": {},
   "source": [
    "# Maps"
   ]
  },
  {
   "cell_type": "code",
   "execution_count": null,
   "metadata": {},
   "outputs": [],
   "source": [
    "#Display map of var for ds\n",
    "var='Wind'\n",
    "ds=HISTMTHnoirr\n",
    "color_map=reds\n",
    "max_value=6\n",
    "plotvar = ds[var].mean(dim='time') #*100 #*3600*24\n",
    "fig = plt.figure(figsize=(10, 7.5))\n",
    "ax = plt.axes(projection=ccrs.PlateCarree())\n",
    "ax.coastlines()\n",
    "ax.add_feature(rivers)\n",
    "gl = ax.gridlines(draw_labels=True, dms=True, x_inline=False, y_inline=False, alpha=0.8)\n",
    "gl.right_labels = False\n",
    "gl.top_labels = False\n",
    "gl.xlocator = plt.MaxNLocator(10)\n",
    "gl.ylocator = plt.MaxNLocator(9)\n",
    "#use colormap reds\n",
    "plotvar.plot(ax=ax, transform=ccrs.PlateCarree(), cmap=color_map, vmax=max_value)\n",
    "plt.title(var + ' ({}, {})' .format(ds.attrs['name'], ds[var].attrs['units']))\n",
    "# plt.title('Applied irrigation (mm/day)')# ({})' .format(ds[var].attrs['units']))\n",
    "plt.tight_layout()"
   ]
  },
  {
   "cell_type": "code",
   "execution_count": null,
   "metadata": {},
   "outputs": [],
   "source": [
    "#Display map of var for ds on restricted area\n",
    "var='hydrographs'\n",
    "ds = HISTMTHnoirr\n",
    "# ds = std\n",
    "latmin=36.7\n",
    "latmax=36.9\n",
    "lonmin=-6.4\n",
    "lonmax=-6.2\n",
    "\n",
    "#restrict ds to latmin, latmax, lonmin, lonmax\n",
    "ds = ds.where(ds.lat >= latmin, drop=True)\n",
    "ds = ds.where(ds.lat <= latmax, drop=True)\n",
    "ds = ds.where(ds.lon >= lonmin, drop=True)\n",
    "ds = ds.where(ds.lon <= lonmax, drop=True)\n",
    "plotvar = ds[var].mean(dim='time')\n",
    "fig = plt.figure(figsize=(10, 6))\n",
    "ax = plt.axes(projection=ccrs.PlateCarree())\n",
    "ax.coastlines()\n",
    "ax.gridlines(draw_labels=True, dms=True, x_inline=False, y_inline=False)\n",
    "#use colormap reds\n",
    "plotvar.plot(ax=ax, transform=ccrs.PlateCarree(), cmap=reds)\n",
    "plt.title(var + ' (' + ds.name + ')')"
   ]
  },
  {
   "cell_type": "code",
   "execution_count": null,
   "metadata": {},
   "outputs": [],
   "source": [
    "#Display map of var for ds averaged on a given year\n",
    "var='hydrographs'\n",
    "year=2012\n",
    "ds = HISTMTHnoirr\n",
    "# ds = ds.where(ds['time.year'] == year, drop=True)\n",
    "plotvar = ds[var].mean(dim='time')\n",
    "fig = plt.figure(figsize=(10, 6))\n",
    "ax = plt.axes(projection=ccrs.PlateCarree())\n",
    "ax.coastlines()\n",
    "ax.gridlines(draw_labels=True, dms=True, x_inline=False, y_inline=False)\n",
    "#use colormap reds\n",
    "plotvar.plot(ax=ax, transform=ccrs.PlateCarree(), cmap=myvir)\n",
    "plt.title(var + ' (' + ds.name + ')')"
   ]
  },
  {
   "cell_type": "code",
   "execution_count": null,
   "metadata": {},
   "outputs": [],
   "source": [
    "#Diff map\n",
    "var='tran'\n",
    "max_value=None\n",
    "ds1=HISTMTHirr\n",
    "ds2=HISTMTHnoirr\n",
    "#compute diff between ds1 and ds2\n",
    "diff = (ds1[var]-ds2[var]).mean(dim='time') * 3600 * 24\n",
    "#display map\n",
    "fig = plt.figure(figsize=(10, 7.5))\n",
    "ax = plt.axes(projection=ccrs.PlateCarree())\n",
    "# gridline setup\n",
    "ax.coastlines()\n",
    "ax.add_feature(rivers)\n",
    "gl = ax.gridlines(draw_labels=True, dms=True, x_inline=False, y_inline=False, alpha=0.8)\n",
    "gl.right_labels = False\n",
    "gl.top_labels = False\n",
    "gl.xlocator = plt.MaxNLocator(10)\n",
    "gl.ylocator = plt.MaxNLocator(9)\n",
    "\n",
    "diff.plot(ax=ax, transform=ccrs.PlateCarree(), cmap=emb, vmax=max_value)\n",
    "plt.title(var + ' difference (' + ds1.name + ' - ' + ds2.name + ', ' + ds1[var].attrs['units'] + ')')\n",
    "plt.title('Transpiration difference (mm/day)')"
   ]
  },
  {
   "cell_type": "code",
   "execution_count": null,
   "metadata": {},
   "outputs": [],
   "source": [
    "#Relative diff map\n",
    "var='sfcWind'\n",
    "maxvalue=None\n",
    "ds1=HISTMTHirr\n",
    "ds2=HISTMTHnoirr\n",
    "#compute diff between ds1 and ds2\n",
    "diff = (ds1[var]-ds2[var]).mean(dim='time')\n",
    "rel_diff = ((ds1[var]-ds2[var] + 1E-16) / (ds2[var] + 1E-16)).mean(dim='time') * 100\n",
    "# Transform rel_diff using log10\n",
    "rel_diff_log = np.log10(rel_diff)\n",
    "#display map\n",
    "fig = plt.figure(figsize=(8, 6))\n",
    "ax = plt.axes(projection=ccrs.PlateCarree())\n",
    "ax.coastlines()\n",
    "ax.add_feature(rivers)\n",
    "gl = ax.gridlines(draw_labels=True, dms=True, x_inline=False, y_inline=False, alpha=0.8)\n",
    "gl.right_labels = False\n",
    "gl.top_labels = False\n",
    "gl.xlocator = plt.MaxNLocator(10)\n",
    "gl.ylocator = plt.MaxNLocator(9)\n",
    "rel_diff.plot(ax=ax, transform=ccrs.PlateCarree(), cmap=emb, vmax=maxvalue)\n",
    "# rel_diff_log.plot(ax=ax, transform=ccrs.PlateCarree(), cmap=emb)\n",
    "plt.title(var + ' relative difference (' + ds1.name + ' - ' + ds2.name + '; %)')\n",
    "# plt.title('Gross primary production relative difference (%)')"
   ]
  },
  {
   "cell_type": "code",
   "execution_count": null,
   "metadata": {},
   "outputs": [],
   "source": [
    "# Display 2 maps of var\n",
    "var = 'plul'\n",
    "maxvalue=2\n",
    "color_map=reds\n",
    "\n",
    "ds1 = HISTMTHirr\n",
    "ds2 = HISTMTHnoirr\n",
    "plotvar_1 = ds1[var].mean(dim='time') #*3600*24\n",
    "plotvar_2 = ds2[var].mean(dim='time') #*3600*24\n",
    "\n",
    "# Create a figure with two subplots side by side\n",
    "fig, axs = plt.subplots(1, 2, figsize=(12, 4), subplot_kw={'projection': ccrs.PlateCarree()})\n",
    "fig.suptitle(var + ' ({})'.format(ds1[var].units))\n",
    "\n",
    "# Plot for std dataset\n",
    "axs[0].coastlines()\n",
    "plotvar_1.plot(ax=axs[0], transform=ccrs.PlateCarree(), cmap=color_map, vmax=maxvalue)\n",
    "axs[0].set_title(f'{var} ({ds1.name})')\n",
    "\n",
    "# Plot for natORC dataset\n",
    "axs[1].coastlines()\n",
    "plotvar_2.plot(ax=axs[1], transform=ccrs.PlateCarree(), cmap=color_map, vmax=maxvalue)\n",
    "axs[1].set_title(f'{var} ({ds2.name})')"
   ]
  },
  {
   "cell_type": "code",
   "execution_count": null,
   "metadata": {},
   "outputs": [],
   "source": [
    "# create map of wind as vector combining u and v components\n",
    "ds = HISTMTHirr\n",
    "dist=6\n",
    "\n",
    "#compute wind speed\n",
    "wind_speed = (ds['u850'][0,:,:]**2 + ds['v850'][0,:,:]**2)**(1/2)\n",
    "#extract x and y (u and v) components and reduce dimension\n",
    "windx = ds['u850'][0,::dist,::dist]\n",
    "windy = ds['v850'][0,::dist,::dist]\n",
    "longi=ds['lon'][::dist]\n",
    "lati=ds['lat'][::dist]\n",
    "# wind_speed=(windx**2+windy**2)**(1/2)\n",
    "# longi,lati=np.meshgrid(longi,lati)\n",
    "\n",
    "#display map\n",
    "fig = plt.figure(figsize=(10, 7.5))\n",
    "ax = plt.axes(projection=ccrs.PlateCarree())\n",
    "# gridline setup\n",
    "ax.coastlines()\n",
    "ax.add_feature(rivers)\n",
    "gl = ax.gridlines(draw_labels=True, dms=True, x_inline=False, y_inline=False, alpha=0.8)\n",
    "gl.right_labels = False\n",
    "gl.top_labels = False\n",
    "gl.xlocator = plt.MaxNLocator(10)\n",
    "gl.ylocator = plt.MaxNLocator(9)\n",
    "#use colormap reds\n",
    "wind_speed.plot(ax=ax, transform=ccrs.PlateCarree(), cmap=reds)\n",
    "ax.quiver(longi, lati, windx, windy, transform=ccrs.PlateCarree(), scale=100)\n",
    "plt.title('850hPa wind speed (m/s) and direction in Irr simulation')\n",
    "plt.show()\n"
   ]
  },
  {
   "cell_type": "code",
   "execution_count": null,
   "metadata": {},
   "outputs": [],
   "source": [
    "# wind difference\n",
    "ds1 = HISTMTHirr\n",
    "ds2 = HISTMTHnoirr\n",
    "dist=6\n",
    "\n",
    "#compute wind speed\n",
    "wind_speed1 = (ds1['u850'][0,:,:]**2 + ds1['v850'][0,:,:]**2)**(1/2)\n",
    "wind_speed2 = (ds2['u850'][0,:,:]**2 + ds2['v850'][0,:,:]**2)**(1/2)\n",
    "wind_speed_diff = wind_speed1 - wind_speed2\n",
    "#extract x and y (u and v) components and reduce dimension\n",
    "longi=ds['lon'][::dist]\n",
    "lati=ds['lat'][::dist]\n",
    "windx1 = ds1['u850'][0,::dist,::dist]\n",
    "windy1 = ds1['v850'][0,::dist,::dist]\n",
    "windx2 = ds2['u850'][0,::dist,::dist]\n",
    "windy2 = ds2['v850'][0,::dist,::dist]\n",
    "windx_diff = windx1 - windx2\n",
    "windy_diff = windy1 - windy2\n",
    "\n",
    "\n",
    "#display map\n",
    "fig = plt.figure(figsize=(10, 7.5))\n",
    "ax = plt.axes(projection=ccrs.PlateCarree())\n",
    "# gridline setup\n",
    "ax.coastlines()\n",
    "ax.add_feature(rivers)\n",
    "gl = ax.gridlines(draw_labels=True, dms=True, x_inline=False, y_inline=False, alpha=0.8)\n",
    "gl.right_labels = False\n",
    "gl.top_labels = False\n",
    "gl.xlocator = plt.MaxNLocator(10)\n",
    "gl.ylocator = plt.MaxNLocator(9)\n",
    "#use colormap reds\n",
    "wind_speed_diff.plot(ax=ax, transform=ccrs.PlateCarree(), cmap=emb)\n",
    "ax.quiver(longi, lati, windx_diff, windy_diff, transform=ccrs.PlateCarree(), scale=10)\n",
    "plt.title('850hPa wind speed (m/s) and direction difference')\n",
    "plt.show()\n"
   ]
  },
  {
   "cell_type": "markdown",
   "metadata": {},
   "source": [
    "# Time series"
   ]
  },
  {
   "cell_type": "code",
   "execution_count": null,
   "metadata": {},
   "outputs": [],
   "source": [
    "#Average time series\n",
    "var='evap'\n",
    "ds1=HISTMTHirr\n",
    "ds2=HISTMTHnoirr\n",
    "# ds1 = ds1.where(ds1['time.year'] >= year_min, drop=True).where(ds1['time.year'] <= year_max, drop=True)\n",
    "# ds2 = ds2.where(ds2['time.year'] >= year_min, drop=True).where(ds2['time.year'] <= year_max, drop=True)\n",
    "fig = plt.figure(figsize=(10, 6))\n",
    "ax = plt.axes()\n",
    "ax.grid()\n",
    "ds1[var].mean(dim=['lon','lat']).plot(ax=ax, label=ds1.name)\n",
    "ds2[var].mean(dim=['lon','lat']).plot(ax=ax, label=ds2.name)\n",
    "plt.title(var)\n",
    "plt.legend()"
   ]
  },
  {
   "cell_type": "code",
   "execution_count": null,
   "metadata": {},
   "outputs": [],
   "source": [
    "#Average seasonnal cycle\n",
    "var='evap'\n",
    "ds1=HISTMTHirr\n",
    "ds2=HISTMTHnoirr\n",
    "# ds1 = ds1.where(ds1['time.year'] >= year_min, drop=True).where(ds1['time.year'] <= year_max, drop=True)\n",
    "# ds2 = ds2.where(ds2['time.year'] >= year_min, drop=True).where(ds2['time.year'] <= year_max, drop=True)\n",
    "fig = plt.figure(figsize=(10, 6))\n",
    "ax = plt.axes()\n",
    "ax.grid()\n",
    "ds1[var].mean(dim=['lon','lat']).groupby('time.month').mean(dim='time').plot(ax=ax, label=ds1.name)\n",
    "ds2[var].mean(dim=['lon','lat']).groupby('time.month').mean(dim='time').plot(ax=ax, label=ds2.name)\n",
    "plt.title(var)\n",
    "plt.legend()"
   ]
  }
 ],
 "metadata": {
  "kernelspec": {
   "display_name": "Python 3.12.2 64-bit",
   "language": "python",
   "name": "python3"
  },
  "language_info": {
   "codemirror_mode": {
    "name": "ipython",
    "version": 3
   },
   "file_extension": ".py",
   "mimetype": "text/x-python",
   "name": "python",
   "nbconvert_exporter": "python",
   "pygments_lexer": "ipython3",
   "version": "3.12.2"
  },
  "vscode": {
   "interpreter": {
    "hash": "9715f220877aa1dd3a10bcc1f3e7aef151ac70eccc8d755f78d50313f1675c6a"
   }
  }
 },
 "nbformat": 4,
 "nbformat_minor": 2
}
