{
 "cells": [
  {
   "cell_type": "markdown",
   "metadata": {},
   "source": [
    "# Imports and setting up viz\n",
    "\n",
    "NB : conda env1 on Mac, lam1env on spirit (Python3.12)"
   ]
  },
  {
   "cell_type": "code",
   "execution_count": null,
   "metadata": {},
   "outputs": [],
   "source": [
    "%load_ext autoreload\n",
    "%autoreload 2\n",
    "%matplotlib inline\n",
    "\n",
    "#import personnal tools\n",
    "import sys\n",
    "sys.path.append('../../python_tools/')\n",
    "from tools import *"
   ]
  },
  {
   "cell_type": "code",
   "execution_count": null,
   "metadata": {},
   "outputs": [],
   "source": [
    "rivers = cfeature.NaturalEarthFeature('physical', 'rivers_lake_centerlines', '10m',edgecolor=(0, 0, 0, 0.3), facecolor='none')"
   ]
  },
  {
   "cell_type": "markdown",
   "metadata": {},
   "source": [
    "# Load files and edit datasets\n",
    "\n",
    "LAM output analysis.\n",
    "\n",
    "Simu irr et simu no-irr."
   ]
  },
  {
   "cell_type": "code",
   "execution_count": null,
   "metadata": {},
   "outputs": [],
   "source": [
    "# one_file=xr.open_dataset('/data/ptiengou/JZ_simu_outputs/LAM/noirr_2010_2022/ATM/MO/sim12_20150101_20150131_1M_histmth.nc')\n",
    "# one_file"
   ]
  },
  {
   "cell_type": "code",
   "execution_count": null,
   "metadata": {},
   "outputs": [],
   "source": [
    "noirr_dir='../../../JZ_simu_outputs/LAM/noirr_2010_2022'\n",
    "irr_dir='../../../JZ_simu_outputs/LAM/irr_2010_2022'"
   ]
  },
  {
   "cell_type": "code",
   "execution_count": null,
   "metadata": {},
   "outputs": [],
   "source": [
    "#open histmth files\n",
    "filename = '{}/ATM/TS*.nc'.format(noirr_dir)\n",
    "# filename = '{}/ATM/MO/*.nc'.format(noirr_dir)\n",
    "sim_noirr0 = xr.open_mfdataset(filename)\n",
    "sim_noirr = sim_noirr0.rename({'time_counter':'time'})\n",
    "sim_noirr.attrs['name'] = 'no_irr'\n",
    "sim_noirr = sim_noirr.sel(lon=slice(-13,6),lat=slice(32,49))\n",
    "\n",
    "sim_noirr['evap']=sim_noirr['evap'] * 3600 * 24\n",
    "sim_noirr['evap'].attrs['units']='mm/d'\n",
    "sim_noirr['precip']=sim_noirr['precip'] * 3600 * 24\n",
    "sim_noirr['precip'].attrs['units']='mm/d'\n",
    "sim_noirr['sens']=-sim_noirr['sens']\n",
    "sim_noirr['flat']=-sim_noirr['flat']"
   ]
  },
  {
   "cell_type": "code",
   "execution_count": null,
   "metadata": {},
   "outputs": [],
   "source": [
    "filename = '{}/ATM/TS*.nc'.format(irr_dir)\n",
    "# filename = '{}/ATM/MO/*.nc'.format(irr_dir)\n",
    "sim_irr0 = xr.open_mfdataset(filename)\n",
    "sim_irr = sim_irr0.rename({'time_counter':'time'})\n",
    "sim_irr.attrs['name'] = 'irr'\n",
    "sim_irr = sim_irr.sel(lon=slice(-13,6),lat=slice(32,49))\n",
    "\n",
    "sim_irr['evap']=sim_irr['evap'] * 3600 * 24\n",
    "sim_irr['evap'].attrs['units']='mm/d'\n",
    "sim_irr['precip']=sim_irr['precip'] * 3600 * 24\n",
    "sim_irr['precip'].attrs['units']='mm/d'\n",
    "sim_irr['sens']=-sim_irr['sens']\n",
    "sim_irr['flat']=-sim_irr['flat']\n",
    "sim_irr0"
   ]
  },
  {
   "cell_type": "code",
   "execution_count": null,
   "metadata": {},
   "outputs": [],
   "source": [
    "# Select months\n",
    "# months=[6,7,8]\n",
    "# sim_irr = sim_irr.sel(time=sim_irr['time.month'].isin(months))\n",
    "# sim_noirr = sim_noirr.sel(time=sim_noirr['time.month'].isin(months))"
   ]
  },
  {
   "cell_type": "markdown",
   "metadata": {},
   "source": [
    "# Maps"
   ]
  },
  {
   "cell_type": "code",
   "execution_count": null,
   "metadata": {},
   "outputs": [],
   "source": [
    "var='evap'\n",
    "ds=sim_noirr\n",
    "map_ave(ds, var, hex=True)"
   ]
  },
  {
   "cell_type": "code",
   "execution_count": null,
   "metadata": {},
   "outputs": [],
   "source": [
    "#Diff map\n",
    "var='t2m'\n",
    "ds1=sim_irr\n",
    "ds2=sim_noirr\n",
    "\n",
    "map_diff_ave(ds1, ds2, var, hex=True)\n",
    "\n",
    "# diff=ds1[var]-ds2[var]\n",
    "# title='{} bias, {} vs {} ({})'.format( var, ds1.attrs['name'], ds2.attrs['name'], ds1[var].attrs['units'])\n",
    "# map_seasons(diff, in_cmap=emb, in_title=title, hex=True)"
   ]
  },
  {
   "cell_type": "code",
   "execution_count": null,
   "metadata": {},
   "outputs": [],
   "source": [
    "#Diff map with significance\n",
    "var='evap'\n",
    "ds1=sim_irr\n",
    "ds2=sim_noirr\n",
    "\n",
    "map_diff_ave(ds1, ds2, var, sig=True)"
   ]
  },
  {
   "cell_type": "code",
   "execution_count": null,
   "metadata": {},
   "outputs": [],
   "source": [
    "#pvalue plot\n",
    "var='sens'\n",
    "max_value=0.2\n",
    "min_value=0\n",
    "ds1=sim_irr\n",
    "ds2=sim_noirr\n",
    "p_values = xr.apply_ufunc(\n",
    "    lambda x, y: ttest_ind(x, y, axis=0, nan_policy='omit').pvalue, \n",
    "    ds1[var], ds2[var],\n",
    "    input_core_dims=[['time'], ['time']],\n",
    "    output_core_dims=[[]],\n",
    "    vectorize=True,\n",
    "    dask='parallelized',\n",
    "    output_dtypes=[float]\n",
    ")\n",
    "title='pvalues for {}, JJA'.format(var)\n",
    "map_plotvar(p_values, in_vmin=min_value, in_vmax=max_value, in_title=title)"
   ]
  },
  {
   "cell_type": "code",
   "execution_count": null,
   "metadata": {},
   "outputs": [],
   "source": [
    "# Display 2 maps of var\n",
    "var = 'sens'\n",
    "ds1 = sim_irr\n",
    "ds2 = sim_noirr\n",
    "color_map=reds\n",
    "\n",
    "map_two_ds(ds1, ds2, var, in_cmap=color_map)"
   ]
  },
  {
   "cell_type": "code",
   "execution_count": null,
   "metadata": {},
   "outputs": [],
   "source": [
    "#Relative diff map\n",
    "var='sfcWind'\n",
    "maxvalue=None\n",
    "ds1=sim_irr\n",
    "ds2=sim_noirr\n",
    "\n",
    "map_rel_diff_ave(ds1, ds2, var, in_vmax=maxvalue)"
   ]
  },
  {
   "cell_type": "code",
   "execution_count": null,
   "metadata": {},
   "outputs": [],
   "source": [
    "#Display map of var for ds on restricted area\n",
    "var='t2m'\n",
    "ds = sim_noirr\n",
    "# ds = std\n",
    "latmin=36.0\n",
    "latmax=44\n",
    "lonmin=-10\n",
    "lonmax=3.5\n",
    "\n",
    "#restrict ds to latmin, latmax, lonmin, lonmax\n",
    "ds = ds.where(ds.lat >= latmin, drop=True).where(ds.lat <= latmax, drop=True)\n",
    "ds = ds.where(ds.lon >= lonmin, drop=True).where(ds.lon <= lonmax, drop=True)\n",
    "plotvar = ds[var].mean(dim='time')\n",
    "\n",
    "map_plotvar(plotvar, in_cmap=emb_neutral, in_vmax=None, in_title=var)"
   ]
  },
  {
   "cell_type": "markdown",
   "metadata": {},
   "source": [
    "# Wind"
   ]
  },
  {
   "cell_type": "code",
   "execution_count": null,
   "metadata": {},
   "outputs": [],
   "source": [
    "ds = sim_irr\n",
    "dist=6\n",
    "height='850'\n",
    "scale=100\n",
    "map_wind(ds, dist=dist, height=height, in_scale=scale)"
   ]
  },
  {
   "cell_type": "code",
   "execution_count": null,
   "metadata": {},
   "outputs": [],
   "source": [
    "ds1 = sim_irr\n",
    "ds1=ds1.sel(time=ds1['time.month'].isin([6,7,8]))\n",
    "ds2 = sim_noirr\n",
    "ds2=ds2.sel(time=ds2['time.month'].isin([6,7,8]))\n",
    "dist=6\n",
    "height='10m'\n",
    "scale=1\n",
    "map_wind_diff(ds1, ds2, dist=dist, height=height, in_scale=scale)"
   ]
  },
  {
   "cell_type": "code",
   "execution_count": null,
   "metadata": {},
   "outputs": [],
   "source": [
    "# wind difference\n",
    "ds1 = sim_irr\n",
    "ds2 = sim_noirr\n",
    "dist=6\n",
    "\n",
    "#compute wind speed\n",
    "wind_speed1 = (ds1['u850'][0,:,:]**2 + ds1['v850'][0,:,:]**2)**(1/2)\n",
    "wind_speed2 = (ds2['u850'][0,:,:]**2 + ds2['v850'][0,:,:]**2)**(1/2)\n",
    "wind_speed_diff = wind_speed1 - wind_speed2\n",
    "#extract x and y (u and v) components and reduce dimension\n",
    "longi=ds['lon'][::dist]\n",
    "lati=ds['lat'][::dist]\n",
    "windx1 = ds1['u850'][0,::dist,::dist]\n",
    "windy1 = ds1['v850'][0,::dist,::dist]\n",
    "windx2 = ds2['u850'][0,::dist,::dist]\n",
    "windy2 = ds2['v850'][0,::dist,::dist]\n",
    "windx_diff = windx1 - windx2\n",
    "windy_diff = windy1 - windy2\n",
    "\n",
    "\n",
    "#display map\n",
    "fig = plt.figure(figsize=(10, 7.5))\n",
    "ax = plt.axes(projection=ccrs.PlateCarree())\n",
    "# gridline setup\n",
    "ax.coastlines()\n",
    "ax.add_feature(rivers)\n",
    "gl = ax.gridlines(draw_labels=True, dms=True, x_inline=False, y_inline=False, alpha=0.8)\n",
    "gl.right_labels = False\n",
    "gl.top_labels = False\n",
    "gl.xlocator = plt.MaxNLocator(10)\n",
    "gl.ylocator = plt.MaxNLocator(9)\n",
    "#use colormap reds\n",
    "wind_speed_diff.plot(ax=ax, transform=ccrs.PlateCarree(), cmap=emb)\n",
    "ax.quiver(longi, lati, windx_diff, windy_diff, transform=ccrs.PlateCarree(), scale=10)\n",
    "plt.title('850hPa wind speed (m/s) and direction difference')\n",
    "plt.show()\n"
   ]
  },
  {
   "cell_type": "markdown",
   "metadata": {},
   "source": [
    "# Time series and seasonnal cycle"
   ]
  },
  {
   "cell_type": "code",
   "execution_count": null,
   "metadata": {},
   "outputs": [],
   "source": [
    "var='t850'\n",
    "\n",
    "ds1=sim_noirr\n",
    "ds2=sim_irr\n",
    "ds_list=[ds1, ds2]\n",
    "\n",
    "year_max=2022\n",
    "time_series(ds_list, var, year_max=year_max, in_title='{} ({})'.format(var, ds1[var].attrs['units']))\n",
    "seasonal_cycle(ds_list, var, year_max=year_max, in_title='Seasonal cycle of {} ({})'.format(var, ds1[var].attrs['units']))"
   ]
  },
  {
   "cell_type": "markdown",
   "metadata": {},
   "source": [
    "# Vertical profiles"
   ]
  },
  {
   "cell_type": "code",
   "execution_count": null,
   "metadata": {},
   "outputs": [],
   "source": [
    "filename='../../../JZ_simu_outputs/LAM/HF_outputs_LAM_concat/TS_MO_irr_*.nc'\n",
    "lvls_irr=xr.open_mfdataset(filename)\n",
    "lvls_irr.attrs[\"name\"]='irr'\n",
    "#rename time_counter to time\n",
    "lvls_irr = lvls_irr.rename({'time_counter':'time'})\n",
    "lvls_irr"
   ]
  },
  {
   "cell_type": "code",
   "execution_count": null,
   "metadata": {},
   "outputs": [],
   "source": [
    "filename='../../../JZ_simu_outputs/LAM/HF_outputs_LAM_concat/TS_MO_noirr_*.nc'\n",
    "lvls_noirr=xr.open_mfdataset(filename)\n",
    "lvls_noirr.attrs[\"name\"]='no_irr'\n",
    "#rename time_counter to time\n",
    "lvls_noirr = lvls_noirr.rename({'time_counter':'time'})\n",
    "lvls_noirr"
   ]
  },
  {
   "cell_type": "code",
   "execution_count": null,
   "metadata": {},
   "outputs": [],
   "source": [
    "filename = '{}/SRF/MO/*history.nc'.format(irr_dir)\n",
    "orc0 = xr.open_mfdataset(filename)\n",
    "orc = orc0.rename({'time_counter':'time'})\n"
   ]
  },
  {
   "cell_type": "code",
   "execution_count": null,
   "metadata": {},
   "outputs": [],
   "source": [
    "orc_interp=orc.interp_like(lvls_irr)\n",
    "irr_mask = (orc_interp['irrigmap_dyn']/orc_interp['Areas'])>0.1\n",
    "nonirr_mask = (orc_interp['irrigmap_dyn']/orc_interp['Areas'])<=0.1"
   ]
  },
  {
   "cell_type": "code",
   "execution_count": null,
   "metadata": {},
   "outputs": [],
   "source": [
    "lvls_irr_irrigated=lvls_irr.where(irr_mask)\n",
    "lvls_irr_irrigated.attrs['name']='irrigated'\n",
    "lvls_irr_nonirrigated=lvls_noirr.where(nonirr_mask)\n",
    "lvls_irr_nonirrigated.attrs['name']='non_irrigated'"
   ]
  },
  {
   "cell_type": "code",
   "execution_count": null,
   "metadata": {},
   "outputs": [],
   "source": [
    "ip_mask=polygon_to_mask(lvls_irr, iberic_peninsula)\n",
    "\n",
    "ip_lvls_irr=lvls_irr.where(ip_mask['mask'], drop=False)\n",
    "ip_lvls_irr.attrs['name']='irr'\n",
    "\n",
    "ip_lvls_noirr=lvls_noirr.where(ip_mask['mask'], drop=False)\n",
    "ip_lvls_noirr.attrs['name']='no_irr'\n",
    "\n",
    "ip_lvls_irr_irrigated = lvls_irr.where(irr_mask).where(ip_mask['mask'], drop=False)\n",
    "ip_lvls_irr_irrigated.attrs['name']='irrigated'\n",
    "\n",
    "ip_lvls_irr_nonirrigated = lvls_irr.where(nonirr_mask).where(ip_mask['mask'], drop=False)\n",
    "ip_lvls_irr_nonirrigated.attrs['name']='nonirrigated'"
   ]
  },
  {
   "cell_type": "code",
   "execution_count": null,
   "metadata": {},
   "outputs": [],
   "source": [
    "# t and q profiles\n",
    "#select a lon-lat box\n",
    "latmin=41\n",
    "latmax=43\n",
    "lonmin=-2\n",
    "lonmax=1\n",
    "var='q'\n",
    "ds1=sim_irr.sel(lon=slice(lonmin,lonmax),lat=slice(latmin,latmax))\n",
    "ds2=sim_noirr.sel(lon=slice(lonmin,lonmax),lat=slice(latmin,latmax))\n",
    "\n",
    "ds_list=[ds1, ds2]\n",
    "\n",
    "profile_reflevs(ds_list, var)"
   ]
  },
  {
   "cell_type": "code",
   "execution_count": null,
   "metadata": {},
   "outputs": [],
   "source": [
    "# profile\n",
    "preslevelmax=50\n",
    "var='ovap'\n",
    "# select a lon-lat box\n",
    "latmin=41\n",
    "latmax=43\n",
    "lonmin=-2\n",
    "lonmax=1\n",
    "# #spain\n",
    "# latmin=36\n",
    "# latmax=44\n",
    "# lonmin=-9.5\n",
    "# lonmax=3\n",
    "\n",
    "ds1=ip_lvls_irr_irrigated\n",
    "ds1= ds1.sel(lon=slice(lonmin,lonmax),lat=slice(latmin,latmax))\n",
    "#select only JJA season\n",
    "# ds1=ds1.sel(time=ds1['time.month'].isin([6,7,8]))\n",
    "\n",
    "ds2=ip_lvls_irr_nonirrigated\n",
    "ds2=ds2.sel(lon=slice(lonmin,lonmax),lat=slice(latmin,latmax))\n",
    "#select only JJA season\n",
    "# ds2=ds2.sel(time=ds2['time.month'].isin([6,7,8]))\n",
    "\n",
    "ds_list=[ds1, ds2]\n",
    "profile_preslevs(ds_list, var, preslevelmax=preslevelmax)"
   ]
  },
  {
   "cell_type": "code",
   "execution_count": null,
   "metadata": {},
   "outputs": [],
   "source": [
    "#temp at first level (better than t2m)\n",
    "months=[6,7,8]\n",
    "var1=ip_lvls_noirr['ovap'][:,0,:,:].sel(time=sim_irr['time.month'].isin(months))\n",
    "var2=ip_lvls_irr['ovap'][:,0,:,:].sel(time=sim_irr['time.month'].isin(months))\n",
    "temp_diff=(var2-var1).mean(dim='time')\n",
    "temp_diff.attrs['units']='K'\n",
    "# p_values = xr.apply_ufunc(\n",
    "#     lambda x, y: ttest_ind(x, y, axis=0, nan_policy='omit').pvalue, \n",
    "#     var1, var2,\n",
    "#     input_core_dims=[['time'], ['time']],\n",
    "#     output_core_dims=[[]],\n",
    "#     vectorize=True,\n",
    "#     dask='parallelized',\n",
    "#     output_dtypes=[float]\n",
    "# )\n",
    "# mask=p_values<0.05\n",
    "# temp_diff=temp_diff.where(mask)\n",
    "map_plotvar(temp_diff, in_cmap=emb, in_vmax=None, in_title='First level temperature (K) diff (irr-noirr)')"
   ]
  },
  {
   "cell_type": "markdown",
   "metadata": {},
   "source": [
    "# Testing seasonnal dataset"
   ]
  },
  {
   "cell_type": "code",
   "execution_count": null,
   "metadata": {},
   "outputs": [],
   "source": [
    "ds=sim_irr#.where(sim_irr['time.year']<=2010)\n",
    "var='evap'\n",
    "ds_seasons=seasonnal_ds_list(ds)\n",
    "# time_series_ave(ds_seasons, var)\n",
    "for ds_season in ds_seasons:\n",
    "    map_ave(ds_season, var, cmap=wet, vmax=5, title='{} ({})'.format(var, ds_season.attrs['name']))"
   ]
  }
 ],
 "metadata": {
  "kernelspec": {
   "display_name": "Python 3.12.2 64-bit",
   "language": "python",
   "name": "python3"
  },
  "language_info": {
   "codemirror_mode": {
    "name": "ipython",
    "version": 3
   },
   "file_extension": ".py",
   "mimetype": "text/x-python",
   "name": "python",
   "nbconvert_exporter": "python",
   "pygments_lexer": "ipython3",
   "version": "3.12.2"
  },
  "vscode": {
   "interpreter": {
    "hash": "9715f220877aa1dd3a10bcc1f3e7aef151ac70eccc8d755f78d50313f1675c6a"
   }
  }
 },
 "nbformat": 4,
 "nbformat_minor": 2
}
