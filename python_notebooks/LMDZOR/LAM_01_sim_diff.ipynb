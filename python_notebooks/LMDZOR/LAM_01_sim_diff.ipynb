{
 "cells": [
  {
   "cell_type": "markdown",
   "metadata": {},
   "source": [
    "# Imports and setting up viz\n",
    "\n",
    "NB : conda env1 on Mac, lam1env on spirit (Python3.12)"
   ]
  },
  {
   "cell_type": "code",
   "execution_count": null,
   "metadata": {},
   "outputs": [],
   "source": [
    "%load_ext autoreload\n",
    "%autoreload 2\n",
    "%matplotlib inline\n",
    "\n",
    "#import personnal tools\n",
    "import sys\n",
    "sys.path.append('../../python_tools/')\n",
    "from tools import *\n",
    "from tools_mapping import *"
   ]
  },
  {
   "cell_type": "code",
   "execution_count": null,
   "metadata": {},
   "outputs": [],
   "source": [
    "rivers = cfeature.NaturalEarthFeature('physical', 'rivers_lake_centerlines', '10m',edgecolor=(0, 0, 0, 0.3), facecolor='none')"
   ]
  },
  {
   "cell_type": "markdown",
   "metadata": {},
   "source": [
    "# Load files and edit datasets\n",
    "\n",
    "LAM output analysis.\n",
    "\n",
    "Simu irr et simu no-irr."
   ]
  },
  {
   "cell_type": "code",
   "execution_count": null,
   "metadata": {},
   "outputs": [],
   "source": [
    "# lon_min=-10\n",
    "# lon_max=4\n",
    "# lat_min=34\n",
    "# lat_max=46"
   ]
  },
  {
   "cell_type": "code",
   "execution_count": null,
   "metadata": {},
   "outputs": [],
   "source": [
    "noirr_dir='../../../JZ_simu_outputs/LAM/LAM_1500_60/noirr'\n",
    "irr_dir='../../../JZ_simu_outputs/LAM/LAM_1500_60/irr'"
   ]
  },
  {
   "cell_type": "markdown",
   "metadata": {},
   "source": [
    "## LMDZ"
   ]
  },
  {
   "cell_type": "code",
   "execution_count": null,
   "metadata": {},
   "outputs": [],
   "source": [
    "filename = '{}/*/ATM/MO/*.nc'.format(irr_dir)\n",
    "\n",
    "lmdz_full = xr.open_mfdataset(filename)\n",
    "lmdz_full = lmdz_full.rename({'time_counter':'time'})\n",
    "lmdz_full.attrs['name'] = 'no_irr'\n",
    "lmdz_full = lmdz_full.sel(lon=slice(lon_min,lon_max),lat=slice(lat_min,lat_max))\n",
    "lmdz_full"
   ]
  },
  {
   "cell_type": "code",
   "execution_count": null,
   "metadata": {},
   "outputs": [],
   "source": [
    "LMDZ_TS=False"
   ]
  },
  {
   "cell_type": "code",
   "execution_count": null,
   "metadata": {},
   "outputs": [],
   "source": [
    "#open histmth files\n",
    "if LMDZ_TS:\n",
    "    filename = '{}/*/ATM/TS_MO/*.nc'.format(noirr_dir)\n",
    "    # filename = '{}/ATM/TS_MO*.nc'.format(noirr_dir)\n",
    "else:\n",
    "    filename = '{}/*/ATM/MO/*.nc'.format(noirr_dir)\n",
    "\n",
    "lmdz_noirr0 = xr.open_mfdataset(filename)\n",
    "lmdz_noirr = lmdz_noirr0.rename({'time_counter':'time'})\n",
    "lmdz_noirr.attrs['name'] = 'no_irr'\n",
    "lmdz_noirr.attrs['plot_color']='red'\n",
    "lmdz_noirr = lmdz_noirr.sel(lon=slice(lon_min,lon_max),lat=slice(lat_min,lat_max))\n",
    "\n",
    "lmdz_noirr['evap']=lmdz_noirr['evap'] * 3600 * 24\n",
    "lmdz_noirr['evap'].attrs['units']='mm/d'\n",
    "lmdz_noirr['evap'].attrs['long_name'] = 'Evapotranspiration'\n",
    "\n",
    "lmdz_noirr['precip']=lmdz_noirr['precip'] * 3600 * 24\n",
    "lmdz_noirr['precip'].attrs['long_name'] = 'Total precipitation'\n",
    "lmdz_noirr['precip'].attrs['units']='mm/d'\n",
    "\n",
    "lmdz_noirr['sens']=-lmdz_noirr['sens']\n",
    "lmdz_noirr['flat']=-lmdz_noirr['flat']\n",
    "\n",
    "lmdz_noirr = compute_grid_cell_width(lmdz_noirr)\n",
    "lmdz_noirr = add_moisture_divergence(lmdz_noirr)\n",
    "\n",
    "lmdz_noirr"
   ]
  },
  {
   "cell_type": "code",
   "execution_count": null,
   "metadata": {},
   "outputs": [],
   "source": [
    "if LMDZ_TS:\n",
    "    filename = '{}/*/ATM/TS_MO/*.nc'.format(irr_dir)\n",
    "else:\n",
    "    filename = '{}/*/ATM/MO/*.nc'.format(irr_dir)\n",
    "\n",
    "lmdz_irr0 = xr.open_mfdataset(filename)\n",
    "lmdz_irr =lmdz_irr0.rename({'time_counter':'time'})\n",
    "lmdz_irr.attrs['name'] = 'irr'\n",
    "lmdz_irr.attrs['plot_color']='#0C5DA5'\n",
    "lmdz_irr = lmdz_irr.sel(lon=slice(lon_min,lon_max),lat=slice(lat_min,lat_max))\n",
    "\n",
    "lmdz_irr['evap']=lmdz_irr['evap'] * 3600 * 24\n",
    "lmdz_irr['evap'].attrs['units']='mm/d'\n",
    "lmdz_irr['precip']=lmdz_irr['precip'] * 3600 * 24\n",
    "lmdz_irr['precip'].attrs['units']='mm/d'\n",
    "lmdz_irr['sens']=-lmdz_irr['sens']\n",
    "lmdz_irr['flat']=-lmdz_irr['flat']\n",
    "\n",
    "lmdz_irr = compute_grid_cell_width(lmdz_irr)\n",
    "lmdz_irr = add_moisture_divergence(lmdz_irr)\n",
    "lmdz_irr"
   ]
  },
  {
   "cell_type": "code",
   "execution_count": null,
   "metadata": {},
   "outputs": [],
   "source": [
    "if LMDZ_TS:\n",
    "    # drop unused coordinates\n",
    "    lmdz_noirr = lmdz_noirr.drop_vars('presnivs')\n",
    "    lmdz_noirr = lmdz_noirr.drop_vars('time_centered')\n",
    "    lmdz_irr = lmdz_irr.drop_vars('presnivs')\n",
    "    lmdz_irr = lmdz_irr.drop_vars('time_centered')\n",
    "    print('using TimeSeries outputs')\n",
    "\n",
    "else:\n",
    "    #add var t1 to lmdz datasets (first level of temp)\n",
    "    lmdz_noirr['t1']    = lmdz_noirr['temp'][:,0,:,:]\n",
    "    lmdz_noirr['t1'].attrs['long_name'] = 'Temperature at first level'\n",
    "    lmdz_noirr['t1'].attrs['units']='K'\n",
    "    \n",
    "    lmdz_irr['t1']      = lmdz_irr['temp'][:,0,:,:]\n",
    "    lmdz_irr['t1'].attrs['long_name'] = 'Temperature at first level'\n",
    "    lmdz_irr['t1'].attrs['units']='K'\n",
    "\n",
    "    lmdz_noirr['Altitude'] = lmdz_noirr['phis'] / 9.81\n",
    "    lmdz_noirr['Altitude'].attrs['units'] = 'm'\n",
    "    lmdz_noirr['Altitude'].attrs['long_name'] = 'Altitude'\n",
    "    \n",
    "    print('using full outputs')"
   ]
  },
  {
   "cell_type": "markdown",
   "metadata": {},
   "source": [
    "## ORCHIDEE"
   ]
  },
  {
   "cell_type": "code",
   "execution_count": null,
   "metadata": {},
   "outputs": [],
   "source": [
    "fullirr=True\n",
    "if fullirr:\n",
    "    filename = '{}/*/SRF/MO/*history.nc'.format(irr_dir)\n",
    "    name='irr'\n",
    "else: \n",
    "    filename = '{}/*/SRF/MO/*history.nc'.format(noirr_dir)\n",
    "    name='noirr'\n",
    "\n",
    "orc_full = xr.open_mfdataset(filename)\n",
    "orc_full = orc_full.rename({'time_counter':'time'})\n",
    "orc_full.attrs['name'] = name\n",
    "orc_full = orc_full.sel(lon=slice(lon_min,lon_max),lat=slice(lat_min,lat_max))\n",
    "\n",
    "if fullirr:\n",
    "    orc_full['irrig_frac'] = orc_full['irrigmap_dyn']/orc_full['Areas'] * 100\n",
    "    orc_full['irrig_frac'].attrs['units'] = '%'\n",
    "\n",
    "orc_full"
   ]
  },
  {
   "cell_type": "code",
   "execution_count": null,
   "metadata": {},
   "outputs": [],
   "source": [
    "# filename = '{}/*/SRF/MO/*sechiba_history.nc'.format(noirr_dir)\n",
    "filename = '{}/*/SRF/TS_MO/*.nc'.format(noirr_dir)\n",
    "\n",
    "orc_noirr0 = xr.open_mfdataset(filename)\n",
    "orc_noirr = orc_noirr0.rename({'time_counter':'time'})\n",
    "orc_noirr.attrs['name'] = 'no_irr'\n",
    "orc_noirr.attrs['plot_color']='red'\n",
    "orc_noirr = orc_noirr.sel(lon=slice(lon_min,lon_max),lat=slice(lat_min,lat_max))\n",
    "\n",
    "# orc_noirr['irrig_frac'] = orc_full['irrig_frac']\n",
    "# orc_noirr['irrigation'] = orc_full['irrigation'][:,:,:]\n",
    "\n",
    "orc_noirr"
   ]
  },
  {
   "cell_type": "code",
   "execution_count": null,
   "metadata": {},
   "outputs": [],
   "source": [
    "# filename = '{}/*/SRF/MO/*history.nc'.format(irr_dir)\n",
    "filename = '{}/*/SRF/TS_MO/*.nc'.format(irr_dir)\n",
    "\n",
    "orc_irr0 = xr.open_mfdataset(filename)\n",
    "orc_irr = orc_irr0.rename({'time_counter':'time'})\n",
    "orc_irr.attrs['name'] = 'irr'\n",
    "orc_irr.attrs['plot_color']='#0C5DA5'\n",
    "orc_irr = orc_irr.sel(lon=slice(lon_min,lon_max),lat=slice(lat_min,lat_max))\n",
    "\n",
    "# orc_irr['irrigation'] = orc_full['irrigation'][:,:,:]\n",
    "# orc_irr['irrig_frac'] = orc_full['irrig_frac']\n",
    "\n",
    "orc_irr"
   ]
  },
  {
   "cell_type": "markdown",
   "metadata": {},
   "source": [
    "## Period selection"
   ]
  },
  {
   "cell_type": "code",
   "execution_count": null,
   "metadata": {},
   "outputs": [],
   "source": [
    "# Select months\n",
    "months=[7]\n",
    "# lmdz_irr =lmdz_irr.sel(time=lmdz_irr['time.month'].isin(months))\n",
    "# lmdz_noirr = lmdz_noirr.sel(time=lmdz_noirr['time.month'].isin(months))\n",
    "# lmdz_full = lmdz_full.sel(time=lmdz_full['time.month'].isin(months))\n",
    "\n",
    "# orc_irr = orc_irr.sel(time=orc_irr['time.month'].isin(months))\n",
    "# orc_noirr = orc_noirr.sel(time=orc_noirr['time.month'].isin(months))\n",
    "# orc_full = orc_full.sel(time=orc_full['time.month'].isin(months))\n",
    "\n",
    "# select only July 2021\n",
    "# lmdz_irr = lmdz_irr.sel(time=lmdz_irr['time.year']==2021)\n",
    "# lmdz_noirr = lmdz_noirr.sel(time=lmdz_noirr['time.year']==2021)\n",
    "# lmdz_full = lmdz_full.sel(time=lmdz_full['time.year']==2021)\n",
    "\n",
    "# orc_irr = orc_irr.sel(time=orc_irr['time.year']==2021)\n",
    "# orc_noirr = orc_noirr.sel(time=orc_noirr['time.year']==2021)\n",
    "# orc_full = orc_full.sel(time=orc_full['time.year']==2021)"
   ]
  },
  {
   "cell_type": "markdown",
   "metadata": {},
   "source": [
    "## Masking"
   ]
  },
  {
   "cell_type": "markdown",
   "metadata": {},
   "source": [
    "### IP continental subdomain"
   ]
  },
  {
   "cell_type": "code",
   "execution_count": null,
   "metadata": {},
   "outputs": [],
   "source": [
    "# Define masks\n",
    " \n",
    "con_mask_2D_ORC= orc_full.mean(dim='time')['Contfrac']>0.95\n",
    "con_mask_2D_ORC.attrs['name']='Continental mask (95%)'\n",
    "\n",
    "ip_polygon_mask_2D=polygon_to_mask(orc_noirr.mean(dim=\"time\"), iberian_peninsula)\n",
    "ip_polygon_mask_2D.attrs['name']='Iberian Peninsula polygon mask'\n",
    "\n",
    "#combine two masks\n",
    "ip_mask = con_mask_2D_ORC * ip_polygon_mask_2D\n",
    "ip_mask.attrs['name']='IPmask'"
   ]
  },
  {
   "cell_type": "code",
   "execution_count": null,
   "metadata": {},
   "outputs": [],
   "source": [
    "#ORC\n",
    "# ip_orc_noirr    = orc_noirr.where(con_mask_ORC).where(ip_mask_ORC['mask'])\n",
    "# ip_orc_irr      = orc_irr.where(con_mask_ORC).where(ip_mask_ORC['mask'])\n",
    "ip_orc_noirr = apply_2Dmask_to_dataset(orc_noirr, ip_mask, dsname='no_irr')\n",
    "ip_orc_irr = apply_2Dmask_to_dataset(orc_irr, ip_mask, dsname='irr')"
   ]
  },
  {
   "cell_type": "code",
   "execution_count": null,
   "metadata": {},
   "outputs": [],
   "source": [
    "#LMDZ\n",
    "# ip_lmdz_noirr   = lmdz_noirr.where(con_mask_ORC).where(ip_mask_ORC['mask'])\n",
    "# ip_lmdz_irr     = lmdz_irr.where(con_mask_ORC).where(ip_mask_ORC['mask'])\n",
    "ip_lmdz_noirr = apply_2Dmask_to_dataset(lmdz_noirr, ip_mask, dsname='no_irr')\n",
    "ip_lmdz_irr = apply_2Dmask_to_dataset(lmdz_irr, ip_mask, dsname='irr')"
   ]
  },
  {
   "cell_type": "code",
   "execution_count": null,
   "metadata": {},
   "outputs": [],
   "source": [
    "# Full irrsims\n",
    "ip_orc_full     = apply_2Dmask_to_dataset(orc_full, ip_mask, dsname='irr')\n",
    "ip_lmdz_full    = apply_2Dmask_to_dataset(lmdz_full, ip_mask, dsname='irr')"
   ]
  },
  {
   "cell_type": "code",
   "execution_count": null,
   "metadata": {},
   "outputs": [],
   "source": [
    "#define evaporative fraction\n",
    "ip_orc_noirr['evap_frac'] = ip_orc_noirr['fluxlat'] / (ip_orc_noirr['fluxlat'] + ip_orc_noirr['fluxsens'])\n",
    "ip_orc_irr['evap_frac'] = ip_orc_irr['fluxlat'] / (ip_orc_irr['fluxlat'] + ip_orc_irr['fluxsens'])\n",
    "# add units\n",
    "ip_orc_noirr['evap_frac'].attrs['units']=''\n",
    "ip_orc_irr['evap_frac'].attrs['units']=''"
   ]
  },
  {
   "cell_type": "markdown",
   "metadata": {},
   "source": [
    "### Irrigated areas"
   ]
  },
  {
   "cell_type": "code",
   "execution_count": null,
   "metadata": {},
   "outputs": [],
   "source": [
    "# Define 2D masks\n",
    "\n",
    "# Applied irrigation\n",
    "#bad placeholders\n",
    "irr_mask_low    = ip_orc_noirr.mean(dim='time')['evap']<0.05\n",
    "irr_mask_high   = ip_orc_noirr.mean(dim='time')['evap']>0.1 \n",
    "irr_mask_med    = (~irr_mask_low) * (~irr_mask_high) * ip_mask\n",
    "\n",
    "# irr_mask_low    = ip_orc_irr.mean(dim='time')['irrigation']<0.05\n",
    "# irr_mask_high   = ip_orc_irr.mean(dim='time')['irrigation']>0.1\n",
    "# irr_mask_med    = (~irr_mask_low) * (~irr_mask_high) * ip_mask"
   ]
  },
  {
   "cell_type": "code",
   "execution_count": null,
   "metadata": {},
   "outputs": [],
   "source": [
    "# Define datasets orc\n",
    "lowirr_ip_orc_noirr = apply_2Dmask_to_dataset(ip_orc_noirr, irr_mask_low, dsname='lowirr_noirr')\n",
    "lowirr_ip_orc_irr = apply_2Dmask_to_dataset(ip_orc_irr, irr_mask_low, dsname='lowirr_irr')\n",
    "\n",
    "medirr_ip_orc_noirr = apply_2Dmask_to_dataset(ip_orc_noirr, irr_mask_med, dsname='medirr_noirr')\n",
    "medirr_ip_orc_irr = apply_2Dmask_to_dataset(ip_orc_irr, irr_mask_med, dsname='medirr_irr')\n",
    "\n",
    "highirr_ip_orc_noirr = apply_2Dmask_to_dataset(ip_orc_noirr, irr_mask_high, dsname='highirr_noirr')\n",
    "highirr_ip_orc_irr = apply_2Dmask_to_dataset(ip_orc_irr, irr_mask_high, dsname='highirr_irr')"
   ]
  },
  {
   "cell_type": "code",
   "execution_count": null,
   "metadata": {},
   "outputs": [],
   "source": [
    "#Define datasets lmdz\n",
    "lowirr_ip_lmdz_irr = apply_2Dmask_to_dataset(ip_lmdz_irr, irr_mask_low, dsname='lowirr_irr')\n",
    "lowirr_ip_lmdz_noirr = apply_2Dmask_to_dataset(ip_lmdz_noirr, irr_mask_low, dsname='lowirr_noirr')\n",
    "\n",
    "medirr_ip_lmdz_irr = apply_2Dmask_to_dataset(ip_lmdz_irr, irr_mask_med, dsname='medirr_irr')\n",
    "medirr_ip_lmdz_noirr = apply_2Dmask_to_dataset(ip_lmdz_noirr, irr_mask_med, dsname='medirr_noirr')\n",
    "\n",
    "highirr_ip_lmdz_irr = apply_2Dmask_to_dataset(ip_lmdz_irr, irr_mask_high, dsname='highirr_irr')\n",
    "highirr_ip_lmdz_noirr = apply_2Dmask_to_dataset(ip_lmdz_noirr, irr_mask_high, dsname='highirr_noirr')"
   ]
  },
  {
   "cell_type": "markdown",
   "metadata": {},
   "source": [
    "## Mean, difference, and (spatially) aggregated datasets"
   ]
  },
  {
   "cell_type": "code",
   "execution_count": null,
   "metadata": {},
   "outputs": [],
   "source": [
    "# Temporal mean for IP sims\n",
    "\n",
    "ip_orc_noirr_mean = mean_dataset(ip_orc_noirr)\n",
    "ip_orc_irr_mean = mean_dataset(ip_orc_irr)\n",
    "ip_lmdz_noirr_mean = mean_dataset(ip_lmdz_noirr)\n",
    "ip_lmdz_irr_mean = mean_dataset(ip_lmdz_irr)\n",
    "\n",
    "#Full\n",
    "ip_orc_full_mean = mean_dataset(ip_orc_full)\n",
    "ip_lmdz_full_mean = mean_dataset(ip_lmdz_full)\n",
    "\n",
    "#by irrig class\n",
    "lowirr_ip_orc_noirr_mean = mean_dataset(lowirr_ip_orc_noirr)\n",
    "lowirr_ip_orc_irr_mean = mean_dataset(lowirr_ip_orc_irr)\n",
    "medirr_ip_orc_noirr_mean = mean_dataset(medirr_ip_orc_noirr)\n",
    "medirr_ip_orc_irr_mean = mean_dataset(medirr_ip_orc_irr)\n",
    "highirr_ip_orc_noirr_mean = mean_dataset(highirr_ip_orc_noirr)\n",
    "highirr_ip_orc_irr_mean = mean_dataset(highirr_ip_orc_irr)"
   ]
  },
  {
   "cell_type": "code",
   "execution_count": null,
   "metadata": {},
   "outputs": [],
   "source": [
    "#diff\n",
    "lmdz_diff, lmdz_diff_mean = diff_dataset(lmdz_irr, lmdz_noirr)\n",
    "#over whole IP\n",
    "ip_orc_diff, ip_orc_diff_mean = diff_dataset(ip_orc_irr, ip_orc_noirr)\n",
    "ip_lmdz_diff, ip_lmdz_diff_mean = diff_dataset(ip_lmdz_irr, ip_lmdz_noirr)\n",
    "\n",
    "#by irrig class\n",
    "lowirr_ip_orc_diff, lowirr_ip_orc_diff_mean     = diff_dataset(lowirr_ip_orc_irr, lowirr_ip_orc_noirr)\n",
    "medirr_ip_orc_diff, medirr_ip_orc_diff_mean     = diff_dataset(medirr_ip_orc_irr, medirr_ip_orc_noirr)\n",
    "highirr_ip_orc_diff, highirr_ip_orc_diff_mean   = diff_dataset(highirr_ip_orc_irr, highirr_ip_orc_noirr)\n",
    "\n",
    "lowirr_ip_lmdz_diff, lowirr_ip_lmdz_diff_mean   = diff_dataset(lowirr_ip_lmdz_irr, lowirr_ip_lmdz_noirr)\n",
    "medirr_ip_lmdz_diff, medirr_ip_lmdz_diff_mean   = diff_dataset(medirr_ip_lmdz_irr, medirr_ip_lmdz_noirr)\n",
    "highirr_ip_lmdz_diff, highirr_ip_lmdz_diff_mean = diff_dataset(highirr_ip_lmdz_irr, highirr_ip_lmdz_noirr)"
   ]
  },
  {
   "cell_type": "code",
   "execution_count": null,
   "metadata": {},
   "outputs": [],
   "source": [
    "#spatial aggregation over domain or subdomain\n",
    "#Whole IP domain\n",
    "ip_orc_noirr_aggr = aggr_dataset(ip_orc_noirr)\n",
    "ip_orc_irr_aggr = aggr_dataset(ip_orc_irr)\n",
    "ip_lmdz_noirr_aggr = aggr_dataset(ip_lmdz_noirr)\n",
    "ip_lmdz_irr_aggr = aggr_dataset(ip_lmdz_irr)\n",
    "\n",
    "ip_orc_diff_aggr = aggr_dataset(ip_orc_diff)\n",
    "ip_lmdz_diff_aggr = aggr_dataset(ip_lmdz_diff)\n",
    "\n",
    "# By irrigation class\n",
    "# ORC\n",
    "lowirr_ip_orc_noirr_aggr = aggr_dataset(lowirr_ip_orc_noirr)\n",
    "lowirr_ip_orc_irr_aggr = aggr_dataset(lowirr_ip_orc_irr)\n",
    "lowirr_ip_orc_diff_aggr = aggr_dataset(lowirr_ip_orc_diff)\n",
    "\n",
    "medirr_ip_orc_noirr_aggr = aggr_dataset(medirr_ip_orc_noirr)\n",
    "medirr_ip_orc_irr_aggr = aggr_dataset(medirr_ip_orc_irr)\n",
    "medirr_ip_orc_diff_aggr = aggr_dataset(medirr_ip_orc_diff)\n",
    "\n",
    "highirr_ip_orc_noirr_aggr = aggr_dataset(highirr_ip_orc_noirr)\n",
    "highirr_ip_orc_irr_aggr = aggr_dataset(highirr_ip_orc_irr)\n",
    "highirr_ip_orc_diff_aggr = aggr_dataset(highirr_ip_orc_diff)\n",
    "\n",
    "# LMDZ\n",
    "lowirr_ip_lmdz_irr_aggr = aggr_dataset(lowirr_ip_lmdz_irr)\n",
    "lowirr_ip_lmdz_noirr_aggr = aggr_dataset(lowirr_ip_lmdz_noirr)\n",
    "lowirr_ip_lmdz_diff_aggr = aggr_dataset(lowirr_ip_lmdz_diff)\n",
    "\n",
    "medirr_ip_lmdz_irr_aggr = aggr_dataset(medirr_ip_lmdz_irr)\n",
    "medirr_ip_lmdz_noirr_aggr = aggr_dataset(medirr_ip_lmdz_noirr)\n",
    "medirr_ip_lmdz_diff_aggr = aggr_dataset(medirr_ip_lmdz_diff)\n",
    "\n",
    "highirr_ip_lmdz_irr_aggr = aggr_dataset(highirr_ip_lmdz_irr)\n",
    "highirr_ip_lmdz_noirr_aggr = aggr_dataset(highirr_ip_lmdz_noirr)\n",
    "highirr_ip_lmdz_diff_aggr = aggr_dataset(highirr_ip_lmdz_diff)"
   ]
  },
  {
   "cell_type": "markdown",
   "metadata": {},
   "source": [
    "# Maps"
   ]
  },
  {
   "cell_type": "code",
   "execution_count": null,
   "metadata": {},
   "outputs": [],
   "source": [
    "#make cin positive\n",
    "ip_lmdz_noirr['cin'] = -ip_lmdz_noirr['cin']\n",
    "ip_lmdz_irr['cin'] = -ip_lmdz_irr['cin']"
   ]
  },
  {
   "cell_type": "code",
   "execution_count": null,
   "metadata": {},
   "outputs": [],
   "source": [
    "ip_orc_diff_mean['deltaET_minus_irrig'] = ip_orc_diff_mean['evap'] - ip_orc_irr_mean['irrigation']"
   ]
  },
  {
   "cell_type": "code",
   "execution_count": null,
   "metadata": {},
   "outputs": [],
   "source": [
    "ip_lmdz_noirr['diff_pbl_lcl'] = ip_lmdz_noirr['s_pblh'] - ip_lmdz_noirr['s_lcl']"
   ]
  },
  {
   "cell_type": "code",
   "execution_count": null,
   "metadata": {},
   "outputs": [],
   "source": [
    "orc_full['reservoir_diff']= orc_full['streamr'] - orc_full['slowr']\n",
    "orc_full['reservoir_diff'].attrs['units']='kg/m²'"
   ]
  },
  {
   "cell_type": "code",
   "execution_count": null,
   "metadata": {},
   "outputs": [],
   "source": [
    "var='t850'\n",
    "ds=ip_lmdz_noirr\n",
    "\n",
    "months=[6,7,8]\n",
    "ds = ds.sel(time=ds['time.month'].isin(months))\n",
    "\n",
    "vmin= 0\n",
    "vmax= 2700\n",
    "vmin,vmax = None, None\n",
    "cmap=reds\n",
    "# title='off'\n",
    "title=None\n",
    "# title='Evaporative fraction (irr, JJA)'\n",
    "# clabel='Irrigation (mm/d)'\n",
    "clabel=None\n",
    "map_ave(ds, var, vmin=vmin, vmax=vmax, cmap=cmap,\n",
    "        title=title, clabel=clabel)"
   ]
  },
  {
   "cell_type": "code",
   "execution_count": null,
   "metadata": {},
   "outputs": [],
   "source": [
    "var=''\n",
    "ds=ip_orc_noirr_mean\n",
    "vmin=-0.0\n",
    "vmax= 1\n",
    "vmin,vmax = None, None\n",
    "cmap=reds\n",
    "map_plotvar(ds[var], vmin=vmin, vmax=vmax, cmap=cmap)"
   ]
  },
  {
   "cell_type": "code",
   "execution_count": null,
   "metadata": {},
   "outputs": [],
   "source": [
    "#Diff map\n",
    "var='t850'\n",
    "ds1=ip_lmdz_irr\n",
    "ds2=ip_lmdz_noirr\n",
    "\n",
    "vmax= 5e-2\n",
    "vmin=-5e-2\n",
    "# vmin,vmax = None, None\n",
    "cmap=emb_neutral\n",
    "pvalue=0.05\n",
    "sig_method=1\n",
    "check_norm=False\n",
    "sig_viz=6\n",
    "# title='off'\n",
    "title=None\n",
    "# clabel='Convergence change (mm/d)'\n",
    "clabel=None\n",
    "\n",
    "#chose matplotlib hatch styles\n",
    "mpl.rcParams['hatch.linewidth'] = 0.7\n",
    "mpl.rcParams['hatch.color'] = 'black'"
   ]
  },
  {
   "cell_type": "code",
   "execution_count": null,
   "metadata": {},
   "outputs": [],
   "source": [
    "months=[6,7,8]\n",
    "ds1 = ds1.sel(time=ds1['time.month'].isin(months))\n",
    "ds2 = ds2.sel(time=ds2['time.month'].isin(months))"
   ]
  },
  {
   "cell_type": "code",
   "execution_count": null,
   "metadata": {},
   "outputs": [],
   "source": [
    "map_diff_ave(ds1, ds2, var, vmin=vmin, vmax=vmax, cmap=cmap, \n",
    "             sig=False,\n",
    "             title=title, clabel=clabel)"
   ]
  },
  {
   "cell_type": "code",
   "execution_count": null,
   "metadata": {},
   "outputs": [],
   "source": [
    "map_diff_ave(ds1, ds2, var, vmin=vmin, vmax=vmax, cmap=cmap, \n",
    "             sig=True, sig_method=sig_method, sig_viz=sig_viz, check_norm=check_norm, \n",
    "             hatch='xxx', pvalue=pvalue,\n",
    "             title=title, clabel=clabel)"
   ]
  },
  {
   "cell_type": "code",
   "execution_count": null,
   "metadata": {},
   "outputs": [],
   "source": [
    "map_diff_ave(ds1, ds2, var, vmin=vmin, vmax=vmax, cmap=cmap, \n",
    "             sig=True, sig_method=sig_method, sig_viz=0, pvalue=pvalue)"
   ]
  },
  {
   "cell_type": "code",
   "execution_count": null,
   "metadata": {},
   "outputs": [],
   "source": [
    "maxvalue= 0.005\n",
    "minvalue=-0.005\n",
    "# minvalue,maxvalue = None, None\n",
    "map_rel_diff_ave(ds1, ds2, var, cmap=cmap, vmin=minvalue, vmax=maxvalue)"
   ]
  },
  {
   "cell_type": "code",
   "execution_count": null,
   "metadata": {},
   "outputs": [],
   "source": [
    "brr"
   ]
  },
  {
   "cell_type": "code",
   "execution_count": null,
   "metadata": {},
   "outputs": [],
   "source": [
    "#Relative diff map\n",
    "var='s_lcl'\n",
    "minvalue=-10\n",
    "maxvalue= 10\n",
    "minvalue, maxvalue = None, None\n",
    "\n",
    "months=[6,7,8]\n",
    "ds1=ip_lmdz_irr.sel(time=ip_lmdz_irr['time.month'].isin(months))\n",
    "ds2=ip_lmdz_noirr.sel(time=ip_lmdz_noirr['time.month'].isin(months))\n",
    "cmap=emb_neutral\n",
    "\n",
    "map_rel_diff_ave(ds1, ds2, var, cmap=cmap, vmin=minvalue, vmax=maxvalue)"
   ]
  },
  {
   "cell_type": "code",
   "execution_count": null,
   "metadata": {},
   "outputs": [],
   "source": [
    "#ttest pvalue plot\n",
    "var='sens'\n",
    "max_value=0.2\n",
    "min_value=0\n",
    "min_value, max_value= None, None\n",
    "ds1=lmdz_irr\n",
    "ds2=lmdz_noirr\n",
    "p_values = xr.apply_ufunc(\n",
    "    lambda x, y: ttest_ind(x, y, axis=0, nan_policy='omit').pvalue, \n",
    "    ds1[var], ds2[var],\n",
    "    input_core_dims=[['time'], ['time']],\n",
    "    output_core_dims=[[]],\n",
    "    vectorize=True,\n",
    "    dask='parallelized',\n",
    "    output_dtypes=[float],\n",
    "    dask_gufunc_kwargs={'allow_rechunk': True}\n",
    ")\n",
    "title='pvalues for {}, JJA'.format(var)\n",
    "map_plotvar(p_values, vmin=min_value, vmax=max_value, cmap=wet,title=title)"
   ]
  },
  {
   "cell_type": "code",
   "execution_count": null,
   "metadata": {},
   "outputs": [],
   "source": [
    "# Display 2 maps of var\n",
    "var = 'sens'\n",
    "ds1 = lmdz_irr\n",
    "ds2 = lmdz_noirr\n",
    "color_map=reds\n",
    "\n",
    "map_two_ds(ds1, ds2, var, in_cmap=color_map)"
   ]
  },
  {
   "cell_type": "code",
   "execution_count": null,
   "metadata": {},
   "outputs": [],
   "source": [
    "#Display map of var for ds on restricted area\n",
    "var='t2m'\n",
    "ds = lmdz_noirr\n",
    "# ds = std\n",
    "latmin=36.0\n",
    "latmax=44\n",
    "lonmin=-10\n",
    "lonmax=3.5\n",
    "\n",
    "#restrict ds to latmin, latmax, lonmin, lonmax\n",
    "ds = ds.where(ds.lat >= latmin, drop=True).where(ds.lat <= latmax, drop=True)\n",
    "ds = ds.where(ds.lon >= lonmin, drop=True).where(ds.lon <= lonmax, drop=True)\n",
    "plotvar = ds[var].mean(dim='time')\n",
    "\n",
    "map_plotvar(plotvar, in_cmap=emb_neutral, in_vmax=None, title=var)"
   ]
  },
  {
   "cell_type": "markdown",
   "metadata": {},
   "source": [
    "### Wind and q transport"
   ]
  },
  {
   "cell_type": "code",
   "execution_count": null,
   "metadata": {},
   "outputs": [],
   "source": [
    "months=[6,7,8]\n",
    "ds=ip_lmdz_noirr.sel(time=ip_lmdz_noirr['time.month'].isin(months))\n",
    "extra_ds=ip_orc_irr.sel(time=ip_lmdz_noirr['time.month'].isin(months))\n",
    "map_wind(ds, \n",
    "         extra_var='irrigation', extra_ds=extra_ds, cmap=wet,\n",
    "         height='850', \n",
    "         vmin=0, \n",
    "         vmax=1.5,\n",
    "         dist=2, scale=30)"
   ]
  },
  {
   "cell_type": "code",
   "execution_count": null,
   "metadata": {},
   "outputs": [],
   "source": [
    "months=[6,7,8]\n",
    "ds1=lmdz_irr.sel(time=lmdz_irr['time.month'].isin(months))\n",
    "ds2=lmdz_noirr.sel(time=ip_lmdz_noirr['time.month'].isin(months))\n",
    "map_wind_diff(ds1, ds2,  height='10m', \n",
    "         vmin=-0.1, \n",
    "         vmax=0.1,\n",
    "         dist=2, scale=0.3\n",
    "        )"
   ]
  },
  {
   "cell_type": "code",
   "execution_count": null,
   "metadata": {},
   "outputs": [],
   "source": [
    "months=[6,7,8]\n",
    "ds=lmdz_noirr.sel(time=ip_lmdz_noirr['time.month'].isin(months))\n",
    "map_moisture_transport(ds,\n",
    "         vmin=0, \n",
    "         vmax=150,\n",
    "         dist=3, scale=1000)"
   ]
  },
  {
   "cell_type": "code",
   "execution_count": null,
   "metadata": {},
   "outputs": [],
   "source": [
    "months=[6,7,8]\n",
    "ds1=ip_lmdz_irr.sel(time=lmdz_irr['time.month'].isin(months))\n",
    "ds2=ip_lmdz_noirr.sel(time=ip_lmdz_noirr['time.month'].isin(months))\n",
    "map_moisture_transport_diff(ds1, ds2,\n",
    "         vmin=-1.5, \n",
    "         vmax= 1.5,\n",
    "         cmap=emb_neutral,\n",
    "         dist=3, scale=20)"
   ]
  },
  {
   "cell_type": "markdown",
   "metadata": {},
   "source": [
    "# Time series and seasonnal cycle"
   ]
  },
  {
   "cell_type": "code",
   "execution_count": null,
   "metadata": {},
   "outputs": [],
   "source": [
    "months=[6,7,8]\n",
    "ds_list=[ip_lmdz_noirr.sel(time=ip_lmdz_noirr['time.month'].isin(months)),\n",
    "         ip_lmdz_irr.sel(time=ip_lmdz_irr['time.month'].isin(months)),\n",
    "         ip_lmdz_diff.sel(time=ip_lmdz_diff['time.month'].isin(months))]\n",
    "var='q2m'\n",
    "means=compute_mean(ds_list, var)\n",
    "print (means)\n",
    "print(means[2]/means[0] * 100)"
   ]
  },
  {
   "cell_type": "code",
   "execution_count": null,
   "metadata": {},
   "outputs": [],
   "source": [
    "cen_orc_irr['PFT12']=cen_orc_irr['vegetfrac'][:,11]\n",
    "cen_orc_irr['PFT12max']=cen_orc_irr['maxvegetfrac'][:,12]\n",
    "cen_orc_irr['soiltile_irrig']=cen_orc_irr['soiltile'][:,2]"
   ]
  },
  {
   "cell_type": "code",
   "execution_count": null,
   "metadata": {},
   "outputs": [],
   "source": [
    "var='netirrig'\n",
    "\n",
    "# ds1=cen_lmdz_irr\n",
    "# ds2=els_lmdz_irr\n",
    "# ds_list=[ds1, ds2]\n",
    "ds_list=[ip_lmdz_noirr, ip_lmdz_irr]\n",
    "ds_list=[ip_orc_irr]\n",
    "\n",
    "# title='{} ({})'.format(var, ds_list[0][var].attrs['units'])\n",
    "title=None\n",
    "time_series_ave(ds_list, var, title=title)\n",
    "# seasonal_cycle_ave(ds_list, var, title=title)\n",
    "plt.grid()"
   ]
  },
  {
   "cell_type": "code",
   "execution_count": null,
   "metadata": {},
   "outputs": [],
   "source": [
    "varlist=['sens', 'flat']\n",
    "varlist=['moisture_divergence']\n",
    "\n",
    "# ds1=ip_lmdz_irr\n",
    "# ds2=ip_lmdz_noirr\n",
    "# ds1= lowirr_ip_orc_diff\n",
    "# ds2= medirr_ip_orc_diff\n",
    "# ds3=highirr_ip_orc_diff\n",
    "ds1= lowirr_ip_lmdz_diff\n",
    "ds2= medirr_ip_lmdz_diff\n",
    "ds3=highirr_ip_lmdz_diff\n",
    "ds_list=[ds1, ds2, ds3]\n",
    "# ds_list=[ds1]\n",
    "\n",
    "year_max=2022\n",
    "for var in varlist:\n",
    "    print(var)\n",
    "    # time_series_ave(ds_list, var, year_max=year_max, title='{} ({})'.format(var, ds1[var].attrs['units']))\n",
    "    seasonal_cycle_ave(ds_list, var, year_max=year_max, title='Seasonal cycle of {} diff ({})'.format(var, ds1[var].attrs['units']))\n",
    "    # seasonal_cycle_ave(ds_list, var, year_max=year_max, title='Seasonal cycle of {} relative diff (%)'.format(var))\n",
    "    plt.savefig('figures/diff_SC_irrClasses_{}.png'.format(var), dpi=300)"
   ]
  },
  {
   "cell_type": "code",
   "execution_count": null,
   "metadata": {},
   "outputs": [],
   "source": [
    "#en un point precis\n",
    "lon=0.5\n",
    "lat=41.7\n",
    "# lon=-2\n",
    "# lat=41\n",
    "var='cldt'\n",
    "ds1=lmdz_noirr\n",
    "ds2=lmdz_irr\n",
    "# ds1=orc_noirr\n",
    "# ds2=orc_irr\n",
    "ds_list=[ds1, ds2]\n",
    "time_series_ave_lonlat(ds_list, var, lon, lat)\n",
    "seasonal_cycle_lonlat(ds_list, var, lon, lat)"
   ]
  },
  {
   "cell_type": "markdown",
   "metadata": {},
   "source": [
    "# Scatter plots"
   ]
  },
  {
   "cell_type": "code",
   "execution_count": null,
   "metadata": {},
   "outputs": [],
   "source": [
    "ip_lmdz_diff['plul'] = ip_lmdz_diff['plul'] * (3600 * 24)\n",
    "ip_lmdz_diff['plul'].attrs['units']='mm/d'\n",
    "\n",
    "ip_lmdz_diff['pluc'] = ip_lmdz_diff['pluc'] * (3600 * 24)\n",
    "ip_lmdz_diff['pluc'].attrs['units']='mm/d'\n",
    "\n",
    "ip_lmdz_diff['pl'] = ip_lmdz_diff['pluc'] + ip_lmdz_diff['plul']\n",
    "ip_lmdz_diff['pl'].attrs['units']='mm/d'"
   ]
  },
  {
   "cell_type": "code",
   "execution_count": null,
   "metadata": {},
   "outputs": [],
   "source": [
    "ip_lmdz_noirr['plul'] = ip_lmdz_noirr['plul'] * (3600 * 24)\n",
    "ip_lmdz_noirr['plul'].attrs['units']='mm/d'\n",
    "ip_lmdz_noirr['pluc'] = ip_lmdz_noirr['pluc'] * (3600 * 24)\n",
    "ip_lmdz_noirr['pluc'].attrs['units']='mm/d'\n",
    "ip_lmdz_noirr['pl'] = ip_lmdz_noirr['pluc'] + ip_lmdz_noirr['plul']\n",
    "ip_lmdz_noirr['pl'].attrs['units']='mm/d'"
   ]
  },
  {
   "cell_type": "markdown",
   "metadata": {},
   "source": [
    "## By grid cell (local recycling)"
   ]
  },
  {
   "cell_type": "code",
   "execution_count": null,
   "metadata": {},
   "outputs": [],
   "source": [
    "varlist=['pluc', 'plul','evap', 'sens',  's_pblh', 's_lcl', 'fbase',\n",
    "         'cape', 'wape', 'convoccur', 'ale', 'alp', 'moisture_divergence',\n",
    "         'sfcWind', 'SWupSFC', 'SWdnSFC', 'LWupSFC', 'LWdnSFC',\n",
    "         'cldt', 'cldl', 'cldm', 'cldh']\n",
    "varlist=['plul','evap', 'sens',  's_pblh', 's_lcl', 'fbase',\n",
    "         'cape', 'wape', 'convoccur', 'ale', 'alp', 'moisture_divergence']\n",
    "varlist=['flat', 'sens']"
   ]
  },
  {
   "cell_type": "code",
   "execution_count": null,
   "metadata": {},
   "outputs": [],
   "source": [
    "months=[6,7,8]\n",
    "\n",
    "ds1 = ip_lmdz_diff\n",
    "ds1 = ds1.sel(time=ds1['time.month'].isin(months))\n",
    "\n",
    "ds11 = ip_lmdz_noirr\n",
    "ds11 = ds11.sel(time=ds11['time.month'].isin(months))\n",
    "\n",
    "ds2 = ip_lmdz_diff\n",
    "ds2 = ds2.sel(time=ds2['time.month'].isin(months))\n",
    "\n",
    "var2='s_lcl'\n",
    "\n",
    "title='JJA mean (1 data pt = 1 grid cell)'\n",
    "for var1 in varlist:\n",
    "    print(var1)\n",
    "    scatter_annual_mean(ds11, ds2, var1, var2, reg=True, title=title, plot_one=False)\n",
    "    # plt.savefig('figures/rainDiff_vs_JJAvalue/plulDiff_vs_JJAvalue_{}.png'.format(var1), dpi=300)\n",
    "\n",
    "    figname1='figures/rainDiff_vs_JJADiff/plulDiff_vs_JJADiff_{}.png'.format(var1)\n",
    "    scatter_annual_mean(ds1, ds2, var1, var2, reg=True, title=title, plot_one=False)\n",
    "    # plt.savefig(figname1, dpi=300)\n",
    "\n",
    "# scatter_vars(ds1, ds2, var1, var2, reg=True, plot_one=True, title=title)\n",
    "# scatter_annual_mean(ds1, ds2, var1, var2, reg=True, plot_one=False)"
   ]
  },
  {
   "cell_type": "code",
   "execution_count": null,
   "metadata": {},
   "outputs": [],
   "source": [
    "var1='irrigation'\n",
    "var2='mrro'\n",
    "\n",
    "# ds1=lowirr_ip_lmdz_noirr\n",
    "# ds2=lowirr_ip_orc_diff\n",
    "# ds1=ip_lmdz_diff\n",
    "ds1=ip_orc_full\n",
    "# ds1=ip_orc_irr\n",
    "ds2=ip_orc_diff\n",
    "\n",
    "title='Annual mean (1 data pt = 1 grid cell)'\n",
    "# title=None\n",
    "\n",
    "# scatter_vars(ds1, ds2, var1, var2, reg=True, plot_one=True, title=title)\n",
    "scatter_annual_mean(ds1, ds2, var1, var2, reg=True, plot_one=False)"
   ]
  },
  {
   "cell_type": "code",
   "execution_count": null,
   "metadata": {},
   "outputs": [],
   "source": [
    "var1='irrigation'\n",
    "ds1=ip_orc_irr_mean\n",
    "\n",
    "var2='evap_frac'\n",
    "ds2=ip_orc_diff_mean\n",
    "\n",
    "scatter_vars(ds1, ds2, var1, var2, reg=True, plot_one=False)"
   ]
  },
  {
   "cell_type": "markdown",
   "metadata": {},
   "source": [
    "## Spatial aggregation (regional recycling on a given month)"
   ]
  },
  {
   "cell_type": "code",
   "execution_count": null,
   "metadata": {},
   "outputs": [],
   "source": [
    "var1='irrigation'\n",
    "ds1=ip_orc_irr_aggr\n",
    "#shift ds1 to the right\n",
    "# ds1=ds1.shift(time=1)\n",
    "\n",
    "var2='rain'\n",
    "# ds2=ip_orc_diff_aggr\n",
    "ds2=ip_orc_diff_aggr\n",
    "seasons=['SON']\n",
    "seasons=['MAM', 'JJA', 'SON']\n",
    "title='Monthly mean over Iberian Peninsula'\n",
    "xlabel='Irrigation (mm/d)'\n",
    "ylabel='Precipitation change (mm/d)'\n",
    "\n",
    "scatter_vars_seasons(ds1, ds2, var1, var2, reg=True, plot_one=True, title=title, coloring=True,\n",
    "                      is_1D=True, seasons_list=seasons, xlabel=xlabel, ylabel=ylabel)"
   ]
  },
  {
   "cell_type": "code",
   "execution_count": null,
   "metadata": {},
   "outputs": [],
   "source": [
    "var1='irrigation'\n",
    "ds1=ip_orc_full_aggr\n",
    "\n",
    "var2='evap'\n",
    "ds2=irr_ip_orc_diff_aggr\n",
    "\n",
    "title='Irrigated areas domain mean (1 data pt = 1 sim month)'\n",
    "title=None\n",
    "\n",
    "seasons=['JJA']\n",
    "months=[6,7,8]\n",
    "scatter_vars_months(ds1, ds2, var1, var2, reg=True, plot_one=True, is_1D=True, months_list=months, coloring=True, title=title)"
   ]
  },
  {
   "cell_type": "markdown",
   "metadata": {},
   "source": [
    "# Aggregate values by irrig class (temporal mean and spatial aggr)"
   ]
  },
  {
   "cell_type": "code",
   "execution_count": null,
   "metadata": {},
   "outputs": [],
   "source": [
    "recalc_df=True"
   ]
  },
  {
   "cell_type": "code",
   "execution_count": null,
   "metadata": {},
   "outputs": [],
   "source": [
    "#irrigation by zone\n",
    "if recalc_df:\n",
    "    vars=['irrigation']\n",
    "    ds_list=[ lowirr_ip_orc_irr_mean, \n",
    "            medirr_ip_orc_irr_mean, \n",
    "            highirr_ip_orc_irr_mean]\n",
    "\n",
    "    # irrig_by_zone = compute_means(ds_list, vars)\n",
    "    irrig_by_zone = build_stats_df(ds_list, vars)\n",
    "    rename_dict={\n",
    "                \"lowirr_irr\":\"lowirr\",\n",
    "                \"medirr_irr\":\"medirr\",\n",
    "                \"highirr_irr\":\"highirr\"\n",
    "                }\n",
    "    irrig_by_zone.rename(index=rename_dict, inplace=True)\n",
    "    irrig_by_zone.to_csv('irrig_by_zone.csv')\n",
    "    irrig_by_zone.attrs['name']='Irrigation by zone'\n",
    "    irrig_by_zone\n",
    "else:\n",
    "    pass"
   ]
  },
  {
   "cell_type": "code",
   "execution_count": null,
   "metadata": {},
   "outputs": [],
   "source": [
    "#diffs by zone\n",
    "if recalc_df:\n",
    "    vars=['evap', 'rain', 'tair', 'runoff', 'mrro']\n",
    "    ds_list=[ lowirr_ip_orc_diff_mean,\n",
    "             medirr_ip_orc_diff_mean, \n",
    "             highirr_ip_orc_diff_mean]\n",
    "\n",
    "    diff_by_zone = build_stats_df(ds_list, vars)\n",
    "    #change name of rows\n",
    "    rename_dict={\n",
    "                \"lowirr_irr\":\"lowirr\",\n",
    "                \"medirr_irr\":\"medirr\",\n",
    "                \"highirr_irr\":\"highirr\"\n",
    "                }\n",
    "    diff_by_zone.rename(index=rename_dict, inplace=True)\n",
    "    #add all subcolumns of irrigation to diff_by_zone\n",
    "    diff_by_zone_withirr = pd.concat([diff_by_zone, irrig_by_zone], axis=1)\n",
    "    #export to csv\n",
    "    diff_by_zone_withirr.to_csv('figures/diff_by_zone.csv')\n",
    "    diff_by_zone_withirr.attrs['name']='Diff by zone'\n",
    "    diff_by_zone.attrs['name']='Diff by zone'\n",
    "    diff_by_zone_withirr\n",
    "else:\n",
    "    # pass\n",
    "    diff_by_zone_csv=pd.read_csv('figures/diff_by_zone.csv', index_col=0)\n",
    "    # diff_by_zone_csv.attrs['name']='Diff by zone'\n",
    "    diff_by_zone_csv"
   ]
  },
  {
   "cell_type": "code",
   "execution_count": null,
   "metadata": {},
   "outputs": [],
   "source": [
    "diff_by_zone"
   ]
  },
  {
   "cell_type": "code",
   "execution_count": null,
   "metadata": {},
   "outputs": [],
   "source": [
    "print(diff_by_zone)"
   ]
  },
  {
   "cell_type": "code",
   "execution_count": null,
   "metadata": {},
   "outputs": [],
   "source": [
    "#scatter plot diff of evap on y axis with irrigation on x axis for all 3 diff datasets\n",
    "var='evap'\n",
    "var1=irrig_by_zone[\"irrigation\"]['mean']\n",
    "var2=diff_by_zone[\"evap\"]['mean']\n",
    "var3=diff_by_zone[\"rain\"]['mean']\n",
    "var4=diff_by_zone[\"tair\"]['mean']\n",
    "xmin=0\n",
    "xmax=0.2\n",
    "ymin=0\n",
    "ymax=0.2\n",
    "# plt.scatter(var1, var2)\n",
    "plt.scatter(var1, diff_by_zone[var]['mean'])\n",
    "plt.xlim(xmin, xmax)  # Set x-axis limits\n",
    "plt.ylim(ymin, ymax)  # Set y-axis limits\n",
    "\n",
    "# plt.scatter(var1, diff_by_zone[var]['min'], vmin=ymin, vmax=ymax)\n",
    "# plt.scatter(var1, diff_by_zone[var]['max'], vmin=ymin, vmax=ymax)\n",
    "#plot 1:1 line\n",
    "plt.plot([0, 0.2], [0, 0.2], color='black', linestyle='--')\n",
    "title='{} diff vs irrigation for different irrigation zones'.format(var)\n",
    "plt.title(title)"
   ]
  },
  {
   "cell_type": "code",
   "execution_count": null,
   "metadata": {},
   "outputs": [],
   "source": [
    "def plot_variable_boxplots(data, variable, irrigation_means):\n",
    "    \"\"\"\n",
    "    Creates boxplots for a given variable, positioned on the x-axis according to irrigation mean values.\n",
    "\n",
    "    Args:\n",
    "    - data: pd.DataFrame, DataFrame containing rows for datasets (e.g., lowirr, medirr, highirr) \n",
    "            and subcolumns with statistics (mean, min, max, std) for various variables.\n",
    "    - variable: str, the name of the variable to plot (e.g., 'evap', 'rain', 'tair').\n",
    "    - irrigation_means: list, the mean irrigation values corresponding to the datasets.\n",
    "\n",
    "    Returns:\n",
    "    - A matplotlib figure and axis with the plot.\n",
    "    \"\"\"\n",
    "    # Extract the relevant statistics for the variable\n",
    "    stats = data[variable]\n",
    "\n",
    "    fig, ax = plt.subplots(figsize=(8, 6))\n",
    "    box_width = 0.01\n",
    "    # Loop over datasets and plot individual boxes\n",
    "    for idx, (irrigation_mean, row) in enumerate(zip(irrigation_means, stats.iterrows())):\n",
    "        dataset_name, row_data = row\n",
    "        min_val = row_data['min']\n",
    "        max_val = row_data['max']\n",
    "        mean_val = row_data['mean']\n",
    "        std_dev = row_data['std']\n",
    "\n",
    "        # Box components\n",
    "        lower_whisker = min_val\n",
    "        lower_box = mean_val - std_dev\n",
    "        upper_box = mean_val + std_dev\n",
    "        upper_whisker = max_val\n",
    "\n",
    "        # Create the box and whiskers at the specified x position (irrigation_mean)\n",
    "        ax.plot([irrigation_mean, irrigation_mean], [lower_whisker, lower_box], color='black', linestyle='-')  # Lower whisker\n",
    "        ax.plot([irrigation_mean, irrigation_mean], [upper_box, upper_whisker], color='black', linestyle='-')  # Upper whisker\n",
    "        ax.plot([irrigation_mean - box_width / 4, irrigation_mean + box_width / 4], [lower_whisker, lower_whisker], color='black', linewidth=1)  # Min (horizontal bar)\n",
    "        ax.plot([irrigation_mean - box_width / 4, irrigation_mean + box_width / 4], [upper_whisker, upper_whisker], color='black', linewidth=1)  # Max (horizontal bar)\n",
    "\n",
    "        ax.plot([irrigation_mean], [mean_val], 'r+')  # Mean value (red dot)\n",
    "        # ax.plot([irrigation_mean - box_width / 2, irrigation_mean + box_width / 2], [mean_val, mean_val], color='red', linewidth=2)  # Mean value (red bar)\n",
    "\n",
    "        ax.add_patch(plt.Rectangle((irrigation_mean - 0.005, lower_box), box_width, upper_box - lower_box, \n",
    "                                    color='lightblue', alpha=0.5, edgecolor='black'))  # Box\n",
    "\n",
    "    # Customize plot appearance\n",
    "    ax.set_xlabel(\"Irrigation Mean (mm/d)\", fontsize=12)\n",
    "    ax.set_ylabel(f\"{variable} diff (irr-no_irr)\", fontsize=12)\n",
    "    ax.set_title(f\"Boxplots of {variable} diff for 3 irrigation classes\", fontsize=14)\n",
    "    plt.xticks(fontsize=10)\n",
    "    plt.tight_layout()\n",
    "\n",
    "    return fig, ax\n",
    "\n"
   ]
  },
  {
   "cell_type": "code",
   "execution_count": null,
   "metadata": {},
   "outputs": [],
   "source": [
    "irrigation_means = irrig_by_zone[\"irrigation\"]['mean'].values\n",
    "irrigation_means"
   ]
  },
  {
   "cell_type": "code",
   "execution_count": null,
   "metadata": {},
   "outputs": [],
   "source": [
    "fig, ax = plot_variable_boxplots(diff_by_zone, 'runoff', irrigation_means)\n",
    "#add 1:1 line\n",
    "# plt.plot([0, 0.2], [0, 0.2], color='black', linestyle='--')\n",
    "plt.xlim(0, 0.2)\n",
    "plt.show()"
   ]
  },
  {
   "cell_type": "code",
   "execution_count": null,
   "metadata": {},
   "outputs": [],
   "source": [
    "ds1=irrig_by_zone\n",
    "ds2=diff_by_zone\n",
    "var1='irrigation'\n",
    "var2='tair'\n",
    "vmin=0\n",
    "vmax=0.2\n",
    "scatter_vars(ds1, ds2, var1, var2, reg=False, plot_one=False, title=title)"
   ]
  },
  {
   "cell_type": "markdown",
   "metadata": {},
   "source": [
    "# Moisture flux and water budgets"
   ]
  },
  {
   "cell_type": "markdown",
   "metadata": {},
   "source": [
    "## Budgets dataframe and SC viz for each sim and diff"
   ]
  },
  {
   "cell_type": "code",
   "execution_count": null,
   "metadata": {},
   "outputs": [],
   "source": [
    "mask=polygon_to_mask(lmdz_noirr, ebro)\n",
    "# mask=ip_mask\n",
    "mask_area=compute_mask_area(lmdz_noirr, mask)"
   ]
  },
  {
   "cell_type": "code",
   "execution_count": null,
   "metadata": {},
   "outputs": [],
   "source": [
    "ds=lmdz_noirr\n",
    "noirr_budget=moisture_budget_mean_table(ds, mask, mask_area)\n",
    "noirr_budget"
   ]
  },
  {
   "cell_type": "code",
   "execution_count": null,
   "metadata": {},
   "outputs": [],
   "source": [
    "ds=lmdz_irr\n",
    "irr_budget=moisture_budget_mean_table(ds, mask, mask_area)\n",
    "irr_budget"
   ]
  },
  {
   "cell_type": "code",
   "execution_count": null,
   "metadata": {},
   "outputs": [],
   "source": [
    "ds, ds_mean=diff_dataset(lmdz_irr, lmdz_noirr)\n",
    "diff_budget=moisture_budget_mean_table(ds, mask, mask_area, recalc_width=True)\n",
    "diff_budget"
   ]
  },
  {
   "cell_type": "code",
   "execution_count": null,
   "metadata": {},
   "outputs": [],
   "source": [
    "#concatenate all budget df\n",
    "budget_df=pd.concat([noirr_budget, irr_budget, diff_budget], axis=0)\n",
    "#format df\n",
    "budget_df = budget_df.map(lambda x: f\"{x:.3f}\").astype(float)\n",
    "#add a row for diff in %\n",
    "budget_df.loc['Diff (%)']=budget_df.loc['Diff (irr - no_irr) (mm/d)']/budget_df.loc['no_irr (mm/d)']*100\n",
    "\n",
    "#drop rows\n",
    "droplist=['no_irr (kg/s)', 'irr (kg/s)', 'Diff (irr - no_irr) (kg/s)']\n",
    "budget_df=budget_df.drop(droplist)\n",
    "\n",
    "budget_df.loc['Diff (%)'] = budget_df.loc['Diff (%)'].map(lambda x: f\"{x:.3f}\").astype(float)\n",
    "budget_df"
   ]
  },
  {
   "cell_type": "code",
   "execution_count": null,
   "metadata": {},
   "outputs": [],
   "source": [
    "irrig = apply_2Dmask_to_dataset(orc_irr, mask).mean(dim=['time', 'lon', 'lat'])['irrigation']\n",
    "print(irrig.values)"
   ]
  },
  {
   "cell_type": "code",
   "execution_count": null,
   "metadata": {},
   "outputs": [],
   "source": [
    "# mask=ip_mask\n",
    "mask=polygon_to_mask(lmdz_noirr, ebro)\n",
    "ds = lmdz_noirr\n",
    "ip_ds= lmdz_noirr.where(mask)\n",
    "title=ds.attrs['name']\n",
    "vmin=-2\n",
    "vmax= 2\n",
    "\n",
    "mf_ds=add_moisture_flux_to_ds(ds, mask, recalc_width= False)\n",
    "\n",
    "p1=mf_ds['q_total']\n",
    "c1, l1 = 'black', 'q_flux'\n",
    "\n",
    "p2=ip_ds.mean(dim=['lon', 'lat'])['precip']\n",
    "c2, l2 = 'blue', 'precip'\n",
    "p3=ip_ds.mean(dim=['lon', 'lat'])['evap']\n",
    "c3,l3='green', 'evap'\n",
    "\n",
    "p4=p1 - p2 + p3\n",
    "c4, l4='red', 'total'\n",
    "\n",
    "plotvars=[p1, p2, p3, p4]\n",
    "# plotvars=[p1]\n",
    "colors=[c1, c2, c3, c4]\n",
    "labels=[l1, l2, l3, l4]\n",
    "\n",
    "# time_series(plotvars, colors=colors, labels=labels, title=title)\n",
    "seasonal_cycle(plotvars, colors=colors, labels=labels, title=title, vmin=vmin, vmax=vmax)"
   ]
  },
  {
   "cell_type": "code",
   "execution_count": null,
   "metadata": {},
   "outputs": [],
   "source": [
    "# mask=ip_mask\n",
    "mask=polygon_to_mask(lmdz_noirr, ebro)\n",
    "mask=ip_mask\n",
    "\n",
    "ds = lmdz_diff\n",
    "ip_ds= lmdz_irr.where(mask)\n",
    "title=ds.attrs['name']\n",
    "vmin=-3\n",
    "vmax= 3\n",
    "\n",
    "mf_ds=add_moisture_flux_to_ds(ds, mask, recalc_width= False)\n",
    "\n",
    "p1=mf_ds['q_total']\n",
    "c1, l1 = 'black', 'q_flux'\n",
    "\n",
    "p2=ip_ds.mean(dim=['lon', 'lat'])['precip']\n",
    "c2, l2 = 'blue', 'precip'\n",
    "p3=ip_ds.mean(dim=['lon', 'lat'])['evap']\n",
    "c3,l3='green', 'evap'\n",
    "\n",
    "p4=p1 - p2 + p3\n",
    "c4, l4='red', 'total'\n",
    "\n",
    "plotvars=[p1, p2, p3, p4]\n",
    "plotvars=[p1,p2,p3,p4]\n",
    "colors=[c1, c2, c3, c4]\n",
    "labels=[l1, l2, l3, l4]\n",
    "\n",
    "time_series(plotvars, colors=colors, labels=labels, title=title)\n",
    "seasonal_cycle(plotvars, colors=colors, labels=labels, title=title, vmin=vmin, vmax=vmax)\n",
    "# plt.grid()"
   ]
  },
  {
   "cell_type": "code",
   "execution_count": null,
   "metadata": {},
   "outputs": [],
   "source": [
    "var='moisture_divergence'\n",
    "ds1=ip_lmdz_noirr_aggr\n",
    "print(ds1[var].mean(dim='time').values)"
   ]
  },
  {
   "cell_type": "code",
   "execution_count": null,
   "metadata": {},
   "outputs": [],
   "source": [
    "0.057/0.1454"
   ]
  },
  {
   "cell_type": "markdown",
   "metadata": {},
   "source": [
    "## For various irrig classes"
   ]
  },
  {
   "cell_type": "code",
   "execution_count": null,
   "metadata": {},
   "outputs": [],
   "source": [
    "ds_area=ip_lmdz_irr\n",
    "\n",
    "mask1=irr_mask_low\n",
    "mask_area_low=compute_mask_area(ds_area, mask1)\n",
    "\n",
    "mask2=irr_mask_med\n",
    "mask_area_med=compute_mask_area(ds_area, mask2)\n",
    "\n",
    "mask3=irr_mask_high\n",
    "mask_area_high=compute_mask_area(ds_area, mask3)\n",
    "\n",
    "IP_mask_area=compute_mask_area(ds_area, ip_mask)\n",
    "\n",
    "ebro_mask=polygon_to_mask(ds_area, ebro)\n",
    "Ebro_mask_area=compute_mask_area(ds_area, ebro_mask)"
   ]
  },
  {
   "cell_type": "code",
   "execution_count": null,
   "metadata": {},
   "outputs": [],
   "source": [
    "# mask=irr_mask_low\n",
    "# mask_area=mask_area_low\n",
    "# ds_lmdz = lowirr_ip_lmdz_diff\n",
    "# ds_orc  = lowirr_ip_orc_irr\n",
    "\n",
    "mask=ip_mask\n",
    "# mask_area=mask_area_low\n",
    "ds_lmdz = ip_lmdz_diff\n",
    "ds_orc  = ip_orc_irr\n",
    "ds_orc_diff  = ip_orc_diff\n",
    "title='Moisture budget change (Iberian Peninsula)'\n",
    "vmin=-0.0\n",
    "vmax= 0.25\n",
    "\n",
    "# mf_ds=add_moisture_flux_to_ds(lmdz_diff, mask, mask_area=mask_area, recalc_width= True)\n",
    "# p1=-mf_ds['q_total']\n",
    "# c1, l1 = 'black', 'q_exports'\n",
    "p1=ds_lmdz.mean(dim=['lon', 'lat'])['moisture_divergence']\n",
    "c1, l1 = 'black', 'divergence'\n",
    "\n",
    "p2=ds_lmdz.mean(dim=['lon', 'lat'])['precip']\n",
    "c2, l2 = 'blue', 'precip'\n",
    "p3=ds_lmdz.mean(dim=['lon', 'lat'])['evap']\n",
    "c3,l3='green', 'evap'\n",
    "\n",
    "p5=ds_orc.mean(dim=['lon', 'lat'])['irrigation']\n",
    "c5, l5 = 'grey', 'irrigation'\n",
    "# p6=ds_orc_diff.where(mask).mean(dim=['lon', 'lat'])['mrro']\n",
    "# c6, l6 = 'purple', 'total runoff'\n",
    "# p7=ds_orc_diff.where(mask).mean(dim=['lon', 'lat'])['mrsos']\n",
    "# c7, l7 = 'brown', 'Top soil moisture'\n",
    "\n",
    "# plotvars =  [p2, p3, p6, p7]\n",
    "# colors =    [c2, c3, c6, c7]\n",
    "# labels =    [l2, l3, l6, l7]\n",
    "\n",
    "plotvars=[p1, p2, p3, p5]\n",
    "colors=[c1, c2, c3, c5]\n",
    "labels=[l1, l2, l3, l5]\n",
    "\n",
    "ylabel='mm/d'\n",
    "# time_series(plotvars, colors=colors, labels=labels, title=title)\n",
    "seasonal_cycle(plotvars, colors=colors, labels=labels, title=title, \n",
    "               vmin=vmin, vmax=vmax,\n",
    "               ylabel=ylabel)\n",
    "plt.grid()"
   ]
  },
  {
   "cell_type": "code",
   "execution_count": null,
   "metadata": {},
   "outputs": [],
   "source": [
    "var='q_total'\n",
    "ds = lmdz_diff\n",
    "# mask=\n",
    "# mask_area=IP_mask_area\n",
    "mf_ds1=add_moisture_flux_to_ds(ds, mask1, mask_area=mask_area_low, recalc_width=True)\n",
    "mf_ds2=add_moisture_flux_to_ds(ds, mask2, mask_area=mask_area_med, recalc_width=True)\n",
    "mf_ds3=add_moisture_flux_to_ds(ds, mask3, mask_area=mask_area_high, recalc_width=True)\n",
    "\n",
    "# plotvars=[-mf_ds1[var], -mf_ds2[var], -mf_ds3[var]]\n",
    "\n",
    "var2='moisture_divergence'\n",
    "# ds2=ds.where(mask).mean(dim=['lon', 'lat'])\n",
    "\n",
    "plotvars=[\n",
    "        # -mf_ds1[var], -mf_ds2[var], -mf_ds3[var],\n",
    "          lowirr_ip_lmdz_diff_aggr[var2],\n",
    "          medirr_ip_lmdz_diff_aggr[var2],\n",
    "          highirr_ip_lmdz_diff_aggr[var2]\n",
    "          ]\n",
    "\n",
    "colors=['blue', 'red', 'green', \n",
    "        'lightskyblue', 'lightcoral', 'lightgreen']\n",
    "labels=['low_irr', 'med_irr', 'high_irr',\n",
    "        'low_irr', 'med_irr', 'high_irr']\n",
    "# labels=[var, var2]\n",
    "\n",
    "title='Seasonal cycle of change in moisture flux (mm/d)'\n",
    "\n",
    "# time_series(plotvars, colors=colors, labels=labels)\n",
    "seasonal_cycle(plotvars, colors=colors, labels=labels, title=title)\n",
    "plt.grid()"
   ]
  },
  {
   "cell_type": "code",
   "execution_count": null,
   "metadata": {},
   "outputs": [],
   "source": [
    "colors=['blue', 'red', 'green', \n",
    "        'lightskyblue', 'lightcoral', 'lightgreen']\n",
    "# labels=['low_irr', 'med_irr', 'high_irr',\n",
    "#         'low_irr', 'med_irr', 'high_irr']\n",
    "labels=[var, var2]\n",
    "\n",
    "title='Seasonal cycle of change in moisture flux (mm/d)'\n",
    "\n",
    "# time_series(plotvars, colors=colors, labels=labels)\n",
    "seasonal_cycle(plotvars, colors=colors, labels=labels, title=title)"
   ]
  },
  {
   "cell_type": "code",
   "execution_count": null,
   "metadata": {},
   "outputs": [],
   "source": [
    "data_dict = {\n",
    "    \"Variable\": [\"irrigation\",  \"evap\",\"precip\", \"divergence\"],\n",
    "    \"Low_irr\":          [0.028, 0.036, 0.025, 0.027],\n",
    "    \"Med_irr\":          [0.071, 0.079, 0.010, 0.069],\n",
    "    \"High_irr\":         [0.175, 0.186, 0.011, 0.129],\n",
    "    \"Iberian Peninsula\":[0.067, 0.075, 0.017, 0.057]\n",
    "}\n",
    "data_dict = {\n",
    "    \"Variable\": [\"Irrigation\",  \"ET change\",\"P change\"],\n",
    "    \"Low irrigation\":               [0.028, 0.036, 0.025],\n",
    "    \"Medium irrigation\":            [0.071, 0.079, 0.010],\n",
    "    \"High irrigation\":              [0.175, 0.186, 0.011],\n",
    "    \"Iberian Peninsula\":            [0.067, 0.075, 0.017]\n",
    "}\n",
    "#make key index\n",
    "irrZone_df = pd.DataFrame(data_dict)\n",
    "# irrZone_df = irrZone_df.set_index('Variable')\n",
    "\n",
    "irrZone_df"
   ]
  },
  {
   "cell_type": "code",
   "execution_count": null,
   "metadata": {},
   "outputs": [],
   "source": [
    "irrZone_df_peryear=irrZone_df.copy()\n",
    "irrZone_df_peryear['(a) Low irrigation'] = irrZone_df['Low irrigation'] * 365\n",
    "irrZone_df_peryear['(b) Medium irrigation'] = irrZone_df['Medium irrigation'] * 365\n",
    "irrZone_df_peryear['(c) High irrigation'] = irrZone_df['High irrigation'] * 365\n",
    "irrZone_df_peryear['(d) Iberian Peninsula'] = irrZone_df['Iberian Peninsula'] * 365\n",
    "#drop 4 initial columns\n",
    "irrZone_df_peryear.drop(columns=irrZone_df.columns[1:5], inplace=True)\n",
    "\n",
    "irrZone_df_peryear"
   ]
  },
  {
   "cell_type": "code",
   "execution_count": null,
   "metadata": {},
   "outputs": [],
   "source": [
    "# Using the function to plot for the current DataFrame\n",
    "#drop divergence row\n",
    "plot_side_by_side_barplots(irrZone_df_peryear)"
   ]
  },
  {
   "cell_type": "markdown",
   "metadata": {},
   "source": [
    "# Caractérisation sites et golden days LIAISE"
   ]
  },
  {
   "cell_type": "code",
   "execution_count": null,
   "metadata": {},
   "outputs": [],
   "source": [
    "#one grid cell\n",
    "#highirr\n",
    "Cendrosa_lon=0.6\n",
    "Cendrosa_lat=41.7\n",
    "#lowirr\n",
    "ElsPlans_lon=1.1\n",
    "ElsPlans_lat=41.5"
   ]
  },
  {
   "cell_type": "code",
   "execution_count": null,
   "metadata": {},
   "outputs": [],
   "source": [
    "cen_lmdz_noirr = lmdz_noirr.sel(lon=Cendrosa_lon,lat=Cendrosa_lat,method='nearest').copy()\n",
    "cen_lmdz_noirr.attrs['name']='La Cendrosa no_irr'\n",
    "cen_lmdz_irr = lmdz_irr.sel(lon=Cendrosa_lon,lat=Cendrosa_lat,method='nearest').copy()\n",
    "cen_lmdz_irr.attrs['name']='La Cendrosa irr'\n",
    "cen_orc_noirr = orc_noirr.sel(lon=Cendrosa_lon,lat=Cendrosa_lat,method='nearest').copy()\n",
    "cen_orc_noirr.attrs['name']='La Cendrosa no_irr'\n",
    "cen_orc_irr = orc_full.sel(lon=Cendrosa_lon,lat=Cendrosa_lat,method='nearest').copy()\n",
    "cen_orc_irr.attrs['name']='La Cendrosa irr'"
   ]
  },
  {
   "cell_type": "code",
   "execution_count": null,
   "metadata": {},
   "outputs": [],
   "source": [
    "els_lmdz_noirr = lmdz_noirr.sel(lon=ElsPlans_lon,lat=ElsPlans_lat,method='nearest').copy()\n",
    "els_lmdz_noirr.attrs['name']='Els Plans no_irr'\n",
    "els_lmdz_irr = lmdz_irr.sel(lon=ElsPlans_lon,lat=ElsPlans_lat,method='nearest').copy()\n",
    "els_lmdz_irr.attrs['name']='Els Plans irr'\n",
    "els_orc_noirr = orc_noirr.sel(lon=ElsPlans_lon,lat=ElsPlans_lat,method='nearest').copy()\n",
    "els_orc_noirr.attrs['name']='Els Plans no_irr'\n",
    "els_orc_irr = orc_full.sel(lon=ElsPlans_lon,lat=ElsPlans_lat,method='nearest').copy()\n",
    "els_orc_irr.attrs['name']='Els Plans irr'"
   ]
  },
  {
   "cell_type": "code",
   "execution_count": null,
   "metadata": {},
   "outputs": [],
   "source": [
    "def process_list(input_list):\n",
    "    return [round(x * 100, 1) for x in input_list]"
   ]
  },
  {
   "cell_type": "code",
   "execution_count": null,
   "metadata": {},
   "outputs": [],
   "source": [
    "process_list(cen_orc_irr['maxvegetfrac'].mean(dim='time').values)"
   ]
  },
  {
   "cell_type": "code",
   "execution_count": null,
   "metadata": {},
   "outputs": [],
   "source": [
    "process_list(els_orc_irr['maxvegetfrac'].mean(dim='time').values)"
   ]
  },
  {
   "cell_type": "code",
   "execution_count": null,
   "metadata": {},
   "outputs": [],
   "source": [
    "#print value for July\n",
    "var='psol'\n",
    "# print(cen_orc_irr[var].sel(time=cen_orc_irr['time.month']==7).mean().values)\n",
    "# print(els_orc_irr[var].sel(time=els_orc_irr['time.month']==7).mean().values)\n",
    "# print(cen_orc_noirr[var].sel(time=cen_orc_noirr['time.month']==7).mean().values)\n",
    "# print(els_orc_noirr[var].sel(time=els_orc_noirr['time.month']==7).mean().values)\n",
    "\n",
    "print(cen_lmdz_irr[var].sel(time=cen_lmdz_irr['time.month']==7).mean().values)\n",
    "print(els_lmdz_irr[var].sel(time=els_lmdz_irr['time.month']==7).mean().values)\n",
    "print(cen_lmdz_noirr[var].sel(time=cen_lmdz_noirr['time.month']==7).mean().values)\n",
    "print(els_lmdz_noirr[var].sel(time=els_lmdz_noirr['time.month']==7).mean().values)"
   ]
  }
 ],
 "metadata": {
  "kernelspec": {
   "display_name": "env1",
   "language": "python",
   "name": "python3"
  },
  "language_info": {
   "codemirror_mode": {
    "name": "ipython",
    "version": 3
   },
   "file_extension": ".py",
   "mimetype": "text/x-python",
   "name": "python",
   "nbconvert_exporter": "python",
   "pygments_lexer": "ipython3",
   "version": "3.12.2"
  }
 },
 "nbformat": 4,
 "nbformat_minor": 2
}
