{
 "cells": [
  {
   "cell_type": "markdown",
   "metadata": {},
   "source": [
    "# Imports and setting up viz\n",
    "\n",
    "NB : conda env1 on Mac, lam1env on spirit (Python3.12)"
   ]
  },
  {
   "cell_type": "code",
   "execution_count": null,
   "metadata": {},
   "outputs": [],
   "source": [
    "%load_ext autoreload\n",
    "%autoreload 2\n",
    "%matplotlib inline\n",
    "\n",
    "#import personnal tools\n",
    "import sys\n",
    "sys.path.append('../../python_tools/')\n",
    "from tools import *\n",
    "from tools_mapping import *"
   ]
  },
  {
   "cell_type": "code",
   "execution_count": 2,
   "metadata": {},
   "outputs": [],
   "source": [
    "rivers = cfeature.NaturalEarthFeature('physical', 'rivers_lake_centerlines', '10m',edgecolor=(0, 0, 0, 0.3), facecolor='none')"
   ]
  },
  {
   "cell_type": "markdown",
   "metadata": {},
   "source": [
    "# Load files and edit datasets\n",
    "\n",
    "LAM output analysis.\n",
    "\n",
    "Simu irr et simu no-irr."
   ]
  },
  {
   "cell_type": "code",
   "execution_count": 3,
   "metadata": {},
   "outputs": [],
   "source": [
    "# lon_min=-10\n",
    "# lon_max=4\n",
    "# lat_min=34\n",
    "# lat_max=46"
   ]
  },
  {
   "cell_type": "code",
   "execution_count": 4,
   "metadata": {},
   "outputs": [],
   "source": [
    "noirr_dir='../../../JZ_simu_outputs/LAM/LAM_1500_60/noirr'\n",
    "irr_dir='../../../JZ_simu_outputs/LAM/LAM_1500_60/irr'"
   ]
  },
  {
   "cell_type": "markdown",
   "metadata": {},
   "source": [
    "## LMDZ"
   ]
  },
  {
   "cell_type": "code",
   "execution_count": null,
   "metadata": {},
   "outputs": [],
   "source": [
    "filename = '{}/*/ATM/MO/*.nc'.format(irr_dir)\n",
    "\n",
    "lmdz_full = xr.open_mfdataset(filename)\n",
    "lmdz_full = lmdz_full.rename({'time_counter':'time'})\n",
    "lmdz_full.attrs['name'] = 'no_irr'\n",
    "lmdz_full = lmdz_full.sel(lon=slice(lon_min,lon_max),lat=slice(lat_min,lat_max))\n",
    "lmdz_full"
   ]
  },
  {
   "cell_type": "code",
   "execution_count": 6,
   "metadata": {},
   "outputs": [],
   "source": [
    "LMDZ_TS=True"
   ]
  },
  {
   "cell_type": "code",
   "execution_count": null,
   "metadata": {},
   "outputs": [],
   "source": [
    "#open histmth files\n",
    "if LMDZ_TS:\n",
    "    filename = '{}/*/ATM/TS_MO/*.nc'.format(noirr_dir)\n",
    "    # filename = '{}/ATM/TS_MO*.nc'.format(noirr_dir)\n",
    "else:\n",
    "    filename = '{}/*/ATM/MO/*.nc'.format(noirr_dir)\n",
    "\n",
    "lmdz_noirr0 = xr.open_mfdataset(filename)\n",
    "lmdz_noirr = lmdz_noirr0.rename({'time_counter':'time'})\n",
    "lmdz_noirr.attrs['name'] = 'no_irr'\n",
    "lmdz_noirr.attrs['plot_color']='red'\n",
    "lmdz_noirr = lmdz_noirr.sel(lon=slice(lon_min,lon_max),lat=slice(lat_min,lat_max))\n",
    "\n",
    "lmdz_noirr['evap']=lmdz_noirr['evap'] * 3600 * 24\n",
    "lmdz_noirr['evap'].attrs['units']='mm/d'\n",
    "lmdz_noirr['evap'].attrs['long_name'] = 'Evapotranspiration'\n",
    "\n",
    "lmdz_noirr['precip']=lmdz_noirr['precip'] * 3600 * 24\n",
    "lmdz_noirr['precip'].attrs['long_name'] = 'Total precipitation'\n",
    "lmdz_noirr['precip'].attrs['units']='mm/d'\n",
    "\n",
    "lmdz_noirr['sens']=lmdz_noirr['sens']\n",
    "lmdz_noirr['flat']=lmdz_noirr['flat']\n",
    "\n",
    "lmdz_noirr"
   ]
  },
  {
   "cell_type": "code",
   "execution_count": null,
   "metadata": {},
   "outputs": [],
   "source": [
    "if LMDZ_TS:\n",
    "    filename = '{}/*/ATM/TS_MO/*.nc'.format(irr_dir)\n",
    "else:\n",
    "    filename = '{}/*/ATM/MO/*.nc'.format(irr_dir)\n",
    "\n",
    "lmdz_irr0 = xr.open_mfdataset(filename)\n",
    "lmdz_irr =lmdz_irr0.rename({'time_counter':'time'})\n",
    "lmdz_irr.attrs['name'] = 'irr'\n",
    "lmdz_irr.attrs['plot_color']='#0C5DA5'\n",
    "lmdz_irr = lmdz_irr.sel(lon=slice(lon_min,lon_max),lat=slice(lat_min,lat_max))\n",
    "\n",
    "lmdz_irr['evap']=lmdz_irr['evap'] * 3600 * 24\n",
    "lmdz_irr['evap'].attrs['units']='mm/d'\n",
    "lmdz_irr['precip']=lmdz_irr['precip'] * 3600 * 24\n",
    "lmdz_irr['precip'].attrs['units']='mm/d'\n",
    "lmdz_irr['sens']=-lmdz_irr['sens']\n",
    "lmdz_irr['flat']=-lmdz_irr['flat']\n",
    "\n",
    "lmdz_irr"
   ]
  },
  {
   "cell_type": "code",
   "execution_count": null,
   "metadata": {},
   "outputs": [],
   "source": [
    "if LMDZ_TS:\n",
    "    # drop unused coordinates\n",
    "    lmdz_noirr = lmdz_noirr.drop_vars('presnivs')\n",
    "    lmdz_noirr = lmdz_noirr.drop_vars('time_centered')\n",
    "    lmdz_irr = lmdz_irr.drop_vars('presnivs')\n",
    "    lmdz_irr = lmdz_irr.drop_vars('time_centered')\n",
    "    print('using TimeSeries outputs')\n",
    "\n",
    "else:\n",
    "    #add var t1 to lmdz datasets (first level of temp)\n",
    "    lmdz_noirr['t1']    = lmdz_noirr['temp'][:,0,:,:]\n",
    "    lmdz_noirr['t1'].attrs['long_name'] = 'Temperature at first level'\n",
    "    lmdz_noirr['t1'].attrs['units']='K'\n",
    "    \n",
    "    lmdz_irr['t1']      = lmdz_irr['temp'][:,0,:,:]\n",
    "    lmdz_irr['t1'].attrs['long_name'] = 'Temperature at first level'\n",
    "    lmdz_irr['t1'].attrs['units']='K'\n",
    "    print('using full outputs')"
   ]
  },
  {
   "cell_type": "markdown",
   "metadata": {},
   "source": [
    "## ORCHIDEE"
   ]
  },
  {
   "cell_type": "code",
   "execution_count": null,
   "metadata": {},
   "outputs": [],
   "source": [
    "filename = '{}/*/SRF/MO/*history.nc'.format(irr_dir)\n",
    "\n",
    "orc_full = xr.open_mfdataset(filename)\n",
    "orc_full = orc_full.rename({'time_counter':'time'})\n",
    "orc_full.attrs['name'] = 'irr'\n",
    "orc_full = orc_full.sel(lon=slice(lon_min,lon_max),lat=slice(lat_min,lat_max))\n",
    "\n",
    "orc_full['irrig_frac'] = orc_full['irrigmap_dyn']/orc_full['Areas'] * 100\n",
    "orc_full['irrig_frac'].attrs['units'] = '%'\n",
    "\n",
    "orc_full"
   ]
  },
  {
   "cell_type": "code",
   "execution_count": null,
   "metadata": {},
   "outputs": [],
   "source": [
    "# filename = '{}/*/SRF/MO/*sechiba_history.nc'.format(noirr_dir)\n",
    "filename = '{}/*/SRF/TS_MO/*.nc'.format(noirr_dir)\n",
    "\n",
    "orc_noirr0 = xr.open_mfdataset(filename)\n",
    "orc_noirr = orc_noirr0.rename({'time_counter':'time'})\n",
    "orc_noirr.attrs['name'] = 'no_irr'\n",
    "orc_noirr.attrs['plot_color']='red'\n",
    "orc_noirr = orc_noirr.sel(lon=slice(lon_min,lon_max),lat=slice(lat_min,lat_max))\n",
    "\n",
    "orc_noirr['irrig_frac'] = orc_full['irrig_frac']\n",
    "orc_noirr['irrigation'] = orc_full['irrigation'][:,:,:]\n",
    "\n",
    "orc_noirr"
   ]
  },
  {
   "cell_type": "code",
   "execution_count": null,
   "metadata": {},
   "outputs": [],
   "source": [
    "# filename = '{}/*/SRF/MO/*history.nc'.format(irr_dir)\n",
    "filename = '{}/*/SRF/TS_MO/*.nc'.format(irr_dir)\n",
    "\n",
    "orc_irr0 = xr.open_mfdataset(filename)\n",
    "orc_irr = orc_irr0.rename({'time_counter':'time'})\n",
    "orc_irr.attrs['name'] = 'irr'\n",
    "orc_irr.attrs['plot_color']='#0C5DA5'\n",
    "orc_irr = orc_irr.sel(lon=slice(lon_min,lon_max),lat=slice(lat_min,lat_max))\n",
    "\n",
    "orc_irr['irrigation'] = orc_full['irrigation'][:,:,:]\n",
    "orc_irr['irrig_frac'] = orc_full['irrig_frac']\n",
    "\n",
    "orc_irr"
   ]
  },
  {
   "cell_type": "markdown",
   "metadata": {},
   "source": [
    "## Period selection"
   ]
  },
  {
   "cell_type": "code",
   "execution_count": 13,
   "metadata": {},
   "outputs": [],
   "source": [
    "# Select months\n",
    "months=[6,7,8]\n",
    "# lmdz_irr =lmdz_irr.sel(time=lmdz_irr['time.month'].isin(months))\n",
    "# lmdz_noirr = lmdz_noirr.sel(time=lmdz_noirr['time.month'].isin(months))\n",
    "# lmdz_full = lmdz_full.sel(time=lmdz_full['time.month'].isin(months))\n",
    "\n",
    "# orc_irr = orc_irr.sel(time=orc_irr['time.month'].isin(months))\n",
    "# orc_noirr = orc_noirr.sel(time=orc_noirr['time.month'].isin(months))\n",
    "# orc_full = orc_full.sel(time=orc_full['time.month'].isin(months))"
   ]
  },
  {
   "cell_type": "markdown",
   "metadata": {},
   "source": [
    "## Masking"
   ]
  },
  {
   "cell_type": "markdown",
   "metadata": {},
   "source": [
    "### IP continental subdomain"
   ]
  },
  {
   "cell_type": "code",
   "execution_count": 14,
   "metadata": {},
   "outputs": [],
   "source": [
    "# Define masks\n",
    " \n",
    "con_mask_2D_ORC= orc_full.mean(dim='time')['Contfrac']>0.95\n",
    "con_mask_2D_ORC.attrs['name']='Continental mask (95%)'\n",
    "\n",
    "ip_polygon_mask_2D=polygon_to_mask(orc_noirr.mean(dim=\"time\"), iberian_peninsula)\n",
    "ip_polygon_mask_2D.attrs['name']='Iberian Peninsula polygon mask'\n",
    "\n",
    "#combine two masks\n",
    "ip_mask = con_mask_2D_ORC * ip_polygon_mask_2D\n",
    "ip_mask.attrs['name']='IPmask'"
   ]
  },
  {
   "cell_type": "code",
   "execution_count": 15,
   "metadata": {},
   "outputs": [],
   "source": [
    "#ORC\n",
    "# ip_orc_noirr    = orc_noirr.where(con_mask_ORC).where(ip_mask_ORC['mask'])\n",
    "# ip_orc_irr      = orc_irr.where(con_mask_ORC).where(ip_mask_ORC['mask'])\n",
    "ip_orc_noirr = apply_2Dmask_to_dataset(orc_noirr, ip_mask, dsname='no_irr')\n",
    "ip_orc_irr = apply_2Dmask_to_dataset(orc_irr, ip_mask, dsname='irr')"
   ]
  },
  {
   "cell_type": "code",
   "execution_count": 16,
   "metadata": {},
   "outputs": [],
   "source": [
    "#LMDZ\n",
    "# ip_lmdz_noirr   = lmdz_noirr.where(con_mask_ORC).where(ip_mask_ORC['mask'])\n",
    "# ip_lmdz_irr     = lmdz_irr.where(con_mask_ORC).where(ip_mask_ORC['mask'])\n",
    "ip_lmdz_noirr = apply_2Dmask_to_dataset(lmdz_noirr, ip_mask, dsname='no_irr')\n",
    "ip_lmdz_irr = apply_2Dmask_to_dataset(lmdz_irr, ip_mask, dsname='irr')"
   ]
  },
  {
   "cell_type": "code",
   "execution_count": 17,
   "metadata": {},
   "outputs": [],
   "source": [
    "# Full irrsims\n",
    "# ip_orc_full     = apply_2Dmask_to_dataset(orc_full, ip_mask, dsname='irr')\n",
    "# ip_lmdz_full    = apply_2Dmask_to_dataset(lmdz_full, ip_mask, dsname='irr')"
   ]
  },
  {
   "cell_type": "markdown",
   "metadata": {},
   "source": [
    "### Irrigated areas"
   ]
  },
  {
   "cell_type": "code",
   "execution_count": 18,
   "metadata": {},
   "outputs": [],
   "source": [
    "# Old masks and methods\n",
    "#create a masks of data points where irrig_frac >5%\n",
    "# irr_mask = (orc_full['irrigmap_dyn']/orc_full['Areas'])>0.05\n",
    "\n",
    "#irrigated vs nonirr areas\n",
    "# irr_orc_noirr=orc_noirr.where(irr_mask)\n",
    "# irr_orc_irr=orc_irr.where(irr_mask)\n",
    "# irr_lmdz_noirr=lmdz_noirr.where(irr_mask)\n",
    "# irr_lmdz_irr=lmdz_irr.where(irr_mask)\n",
    "\n",
    "# irr_ip_orc_noirr=ip_orc_noirr.where(irr_mask)\n",
    "# irr_ip_orc_irr=ip_orc_irr.where(irr_mask)\n",
    "# irr_ip_lmdz_noirr=ip_lmdz_noirr.where(irr_mask)\n",
    "# irr_ip_lmdz_irr=ip_lmdz_irr.where(irr_mask)\n",
    "\n",
    "# #non irrigated areas\n",
    "# nonirr_orc_noirr=orc_noirr.where(~irr_mask)\n",
    "# nonirr_orc_irr=orc_irr.where(~irr_mask)\n",
    "# nonirr_lmdz_noirr=lmdz_noirr.where(~irr_mask)\n",
    "# nonirr_lmdz_irr=lmdz_irr.where(~irr_mask)\n",
    "\n",
    "# nonirr_ip_orc_noirr=ip_orc_noirr.where(~irr_mask)\n",
    "# nonirr_ip_orc_irr=ip_orc_irr.where(~irr_mask)\n",
    "# nonirr_ip_lmdz_noirr=ip_lmdz_noirr.where(~irr_mask)\n",
    "# nonirr_ip_lmdz_irr=ip_lmdz_irr.where(~irr_mask)\n",
    "\n",
    "#for both full datasets\n",
    "# ip_orc_full=orc_full.where(ip_mask_ORC['mask']).where(con_mask_ORC)\n",
    "# ip_lmdz_full=lmdz_full.where(ip_mask_ORC['mask']).where(con_mask_ORC)\n",
    "# irr_ip_orc_full=ip_orc_full.where(irr_mask)\n",
    "# nonirr_ip_orc_full=ip_orc_full.where(~irr_mask)"
   ]
  },
  {
   "cell_type": "code",
   "execution_count": 19,
   "metadata": {},
   "outputs": [],
   "source": [
    "# Define 2D masks\n",
    "\n",
    "# Applied irrigation\n",
    "irr_mask_low    = ip_orc_irr.mean(dim='time')['irrigation']<0.05\n",
    "irr_mask_high   = ip_orc_irr.mean(dim='time')['irrigation']>0.1\n",
    "irr_mask_med    = (~irr_mask_low) * (~irr_mask_high)"
   ]
  },
  {
   "cell_type": "code",
   "execution_count": 20,
   "metadata": {},
   "outputs": [],
   "source": [
    "#irrigated fraction\n",
    "# irr_mask5   = ip_orc_full.mean(dim='time')['irrig_frac']<5\n",
    "# irr_mask10  = ip_orc_full.mean(dim='time')['irrig_frac']<10\n",
    "# irr_mask15  = ip_orc_full.mean(dim='time')['irrig_frac']<15\n",
    "# irr_mask20  = ip_orc_full.mean(dim='time')['irrig_frac']<20\n",
    "# irr_mask30  = ip_orc_full.mean(dim='time')['irrig_frac']<30\n",
    "# irr_mask40  = ip_orc_full.mean(dim='time')['irrig_frac']<40"
   ]
  },
  {
   "cell_type": "code",
   "execution_count": 21,
   "metadata": {},
   "outputs": [],
   "source": [
    "# Define datasets\n",
    "lowirr_ip_orc_noirr = apply_2Dmask_to_dataset(ip_orc_noirr, irr_mask_low, dsname='lowirr_noirr')\n",
    "lowirr_ip_orc_irr = apply_2Dmask_to_dataset(ip_orc_irr, irr_mask_low, dsname='lowirr_irr')\n",
    "\n",
    "medirr_ip_orc_noirr = apply_2Dmask_to_dataset(ip_orc_noirr, irr_mask_med, dsname='medirr_noirr')\n",
    "medirr_ip_orc_irr = apply_2Dmask_to_dataset(ip_orc_irr, irr_mask_med, dsname='medirr_irr')\n",
    "\n",
    "highirr_ip_orc_noirr = apply_2Dmask_to_dataset(ip_orc_noirr, irr_mask_high, dsname='highirr_noirr')\n",
    "highirr_ip_orc_irr = apply_2Dmask_to_dataset(ip_orc_irr, irr_mask_high, dsname='highirr_irr')"
   ]
  },
  {
   "cell_type": "markdown",
   "metadata": {},
   "source": [
    "## Mean, difference, and (spatially) aggregated datasets"
   ]
  },
  {
   "cell_type": "code",
   "execution_count": 22,
   "metadata": {},
   "outputs": [],
   "source": [
    "# ip_orc_noirr_mean=ip_orc_noirr.mean(dim='time')\n",
    "# ip_orc_noirr_mean.attrs['name']='IP ORC no_irr'\n",
    "# ip_orc_irr_mean=ip_orc_irr.mean(dim='time')\n",
    "# ip_orc_irr_mean.attrs['name']='IP ORC irr'\n",
    "# ip_lmdz_noirr_mean=ip_lmdz_noirr.mean(dim='time')\n",
    "# ip_lmdz_noirr_mean.attrs['name']='IP LMDZ no_irr'\n",
    "# ip_lmdz_irr_mean=ip_lmdz_irr.mean(dim='time')\n",
    "# ip_lmdz_irr_mean.attrs['name']='IP LMDZ irr'\n",
    "\n",
    "# orc_full_mean=orc_full.mean(dim='time')\n",
    "# orc_full_mean.attrs['name']='ORC irr'\n",
    "# lmdz_full_mean=lmdz_full.mean(dim='time')\n",
    "# lmdz_full_mean.attrs['name']='LMDZ irr'\n",
    "\n",
    "# ip_orc_full_mean=ip_orc_full.mean(dim='time')\n",
    "# ip_orc_full_mean.attrs['name']='IP ORC irr'\n",
    "# ip_lmdz_full_mean=ip_lmdz_full.mean(dim='time')\n",
    "# ip_lmdz_full_mean.attrs['name']='IP LMDZ irr'"
   ]
  },
  {
   "cell_type": "code",
   "execution_count": 23,
   "metadata": {},
   "outputs": [],
   "source": [
    "#old aggr datasets\n",
    "# # ip_orc_full_aggr = ip_orc_full.mean(dim='lon').mean(dim='lat')\n",
    "# ip_lmdz_full_aggr = ip_lmdz_full.mean(dim='lon').mean(dim='lat')\n",
    "# ip_orc_irr_aggr = ip_orc_irr.mean(dim='lon').mean(dim='lat')\n",
    "# ip_lmdz_irr_aggr = ip_lmdz_irr.mean(dim='lon').mean(dim='lat')\n",
    "# ip_orc_noirr_aggr = ip_orc_noirr.mean(dim='lon').mean(dim='lat')\n",
    "# ip_lmdz_noirr_aggr = ip_lmdz_noirr.mean(dim='lon').mean(dim='lat')\n",
    "# ip_orc_diff_aggr = ip_orc_diff.mean(dim='lon').mean(dim='lat')\n",
    "# ip_lmdz_diff_aggr = ip_lmdz_diff.mean(dim='lon').mean(dim='lat')\n",
    "\n",
    "# irr_ip_orc_full_aggr = irr_ip_orc_full.mean(dim='lon').mean(dim='lat')\n",
    "# irr_ip_orc_irr_aggr = irr_ip_orc_irr.mean(dim='lon').mean(dim='lat')\n",
    "# irr_ip_lmdz_irr_aggr = irr_ip_lmdz_irr.mean(dim='lon').mean(dim='lat')\n",
    "# irr_ip_orc_noirr_aggr = irr_ip_orc_noirr.mean(dim='lon').mean(dim='lat')\n",
    "# irr_ip_lmdz_noirr_aggr = irr_ip_lmdz_noirr.mean(dim='lon').mean(dim='lat')\n",
    "# nonirr_ip_orc_full_aggr = nonirr_ip_orc_full.mean(dim='lon').mean(dim='lat')\n",
    "\n",
    "#name new datasets\n",
    "# ip_orc_full_aggr.attrs['name']='ORC irr IP mean'\n",
    "# ip_lmdz_full_aggr.attrs['name']='LMDZ irr IP mean'\n",
    "# ip_orc_irr_aggr.attrs['name']='ORC irr IP mean'\n",
    "# ip_lmdz_irr_aggr.attrs['name']='LMDZ irr IP mean'\n",
    "# ip_orc_noirr_aggr.attrs['name']='ORC no_irr IP mean'\n",
    "# ip_lmdz_noirr_aggr.attrs['name']='LMDZ no_irr IP mean'\n",
    "# ip_orc_diff_aggr.attrs['name']='ORC diff IP mean'\n",
    "# ip_lmdz_diff_aggr.attrs['name']='LMDZ diff IP mean'\n",
    "\n",
    "# irr_ip_orc_full_aggr.attrs['name']='ORC_irr IP irrZone mean'\n",
    "# irr_ip_orc_irr_aggr.attrs['name']='ORC_irr IP irrZone mean'\n",
    "# irr_ip_lmdz_irr_aggr.attrs['name']='LMDZ_irr IP irrZone mean'\n",
    "# irr_ip_orc_noirr_aggr.attrs['name']='ORC_no_irr IP irrZone mean'\n",
    "# irr_ip_lmdz_noirr_aggr.attrs['name']='LMDZ_no_irr IP irrZone mean'\n",
    "# nonirr_ip_orc_full_aggr.attrs['name']='ORC_irr IP nonirrZone mean'\n",
    "\n",
    "#add irr and nonirr distinction for diff datasets\n",
    "# irr_ip_orc_diff_aggr = irr_ip_orc_diff.mean(dim='lon').mean(dim='lat')\n",
    "# nonirr_ip_orc_diff_aggr = nonirr_ip_orc_diff.mean(dim='lon').mean(dim='lat')\n",
    "\n",
    "# irr_ip_orc_diff_aggr.attrs['name']='ORC diff IP irrZone mean'\n",
    "# nonirr_ip_orc_diff_aggr.attrs['name']='ORC diff IP nonirrZone mean'"
   ]
  },
  {
   "cell_type": "code",
   "execution_count": 24,
   "metadata": {},
   "outputs": [],
   "source": [
    "# Temporal mean for IP sims\n",
    "\n",
    "ip_orc_noirr_mean = mean_dataset(ip_orc_noirr)\n",
    "ip_orc_irr_mean = mean_dataset(ip_orc_irr)\n",
    "ip_lmdz_noirr_mean = mean_dataset(ip_lmdz_noirr)\n",
    "ip_lmdz_irr_mean = mean_dataset(ip_lmdz_irr)\n",
    "\n",
    "#Full\n",
    "# ip_orc_full_mean = mean_dataset(ip_orc_full)\n",
    "# ip_lmdz_full_mean = mean_dataset(ip_lmdz_full)\n",
    "\n",
    "#by irrig class\n",
    "lowirr_ip_orc_noirr_mean = mean_dataset(lowirr_ip_orc_noirr)\n",
    "lowirr_ip_orc_irr_mean = mean_dataset(lowirr_ip_orc_irr)\n",
    "medirr_ip_orc_noirr_mean = mean_dataset(medirr_ip_orc_noirr)\n",
    "medirr_ip_orc_irr_mean = mean_dataset(medirr_ip_orc_irr)\n",
    "highirr_ip_orc_noirr_mean = mean_dataset(highirr_ip_orc_noirr)\n",
    "highirr_ip_orc_irr_mean = mean_dataset(highirr_ip_orc_irr)"
   ]
  },
  {
   "cell_type": "code",
   "execution_count": 25,
   "metadata": {},
   "outputs": [],
   "source": [
    "#diff (with mean of irr)\n",
    "#over whole IP\n",
    "ip_orc_diff, ip_orc_diff_mean = diff_dataset(ip_orc_irr, ip_orc_noirr)\n",
    "ip_lmdz_diff, ip_lmdz_diff_mean = diff_dataset(ip_lmdz_irr, ip_lmdz_noirr)\n",
    "\n",
    "#by irrig class\n",
    "lowirr_ip_orc_diff, lowirr_ip_orc_diff_mean     = diff_dataset(lowirr_ip_orc_irr, lowirr_ip_orc_noirr)\n",
    "medirr_ip_orc_diff, medirr_ip_orc_diff_mean     = diff_dataset(medirr_ip_orc_irr, medirr_ip_orc_noirr)\n",
    "highirr_ip_orc_diff, highirr_ip_orc_diff_mean   = diff_dataset(highirr_ip_orc_irr, highirr_ip_orc_noirr)"
   ]
  },
  {
   "cell_type": "code",
   "execution_count": 26,
   "metadata": {},
   "outputs": [],
   "source": [
    "#spatial aggregation over domain or subdomain\n",
    "#Whole IP domain\n",
    "ip_orc_noirr_aggr = aggr_dataset(ip_orc_noirr)\n",
    "ip_orc_irr_aggr = aggr_dataset(ip_orc_irr)\n",
    "ip_lmdz_noirr_aggr = aggr_dataset(ip_lmdz_noirr)\n",
    "ip_lmdz_irr_aggr = aggr_dataset(ip_lmdz_irr)\n",
    "\n",
    "ip_orc_diff_aggr = aggr_dataset(ip_orc_diff)\n",
    "ip_lmdz_diff_aggr = aggr_dataset(ip_lmdz_diff)\n",
    "\n",
    "# By irrigation class\n",
    "lowirr_ip_orc_noirr_aggr = aggr_dataset(lowirr_ip_orc_noirr)\n",
    "lowirr_ip_orc_irr_aggr = aggr_dataset(lowirr_ip_orc_irr)\n",
    "lowirr_ip_orc_diff_aggr = aggr_dataset(lowirr_ip_orc_diff)\n",
    "\n",
    "medirr_ip_orc_noirr_aggr = aggr_dataset(medirr_ip_orc_noirr)\n",
    "medirr_ip_orc_irr_aggr = aggr_dataset(medirr_ip_orc_irr)\n",
    "medirr_ip_orc_diff_aggr = aggr_dataset(medirr_ip_orc_diff)\n",
    "\n",
    "highirr_ip_orc_noirr_aggr = aggr_dataset(highirr_ip_orc_noirr)\n",
    "highirr_ip_orc_irr_aggr = aggr_dataset(highirr_ip_orc_irr)\n",
    "highirr_ip_orc_diff_aggr = aggr_dataset(highirr_ip_orc_diff)"
   ]
  },
  {
   "cell_type": "markdown",
   "metadata": {},
   "source": [
    "# Maps"
   ]
  },
  {
   "cell_type": "code",
   "execution_count": null,
   "metadata": {},
   "outputs": [],
   "source": [
    "var='evap'\n",
    "ds=ip_orc_diff\n",
    "vmin=-0.0\n",
    "vmax= 1.5\n",
    "vmin,vmax = None, None\n",
    "cmap=wet\n",
    "map_ave(ds, var, vmin=vmin, vmax=vmax, cmap=cmap)"
   ]
  },
  {
   "cell_type": "code",
   "execution_count": null,
   "metadata": {},
   "outputs": [],
   "source": [
    "var='evap'\n",
    "ds=ip_orc_diff_mean\n",
    "vmin=-0.0\n",
    "vmax= 1.5\n",
    "vmin,vmax = None, None\n",
    "cmap=wet\n",
    "map_plotvar(ds[var], vmin=vmin, vmax=vmax, cmap=cmap)"
   ]
  },
  {
   "cell_type": "code",
   "execution_count": 100,
   "metadata": {},
   "outputs": [],
   "source": [
    "#Diff map\n",
    "var='runoff'\n",
    "ds1=ip_orc_irr\n",
    "ds2=ip_orc_noirr\n",
    "vmax= 0.3\n",
    "vmin=-0.3\n",
    "# vmin,vmax = None, None\n",
    "cmap=emb_neutral\n",
    "pvalue=0.05\n",
    "sig_method=1\n",
    "check_norm=False\n",
    "sig_viz=3"
   ]
  },
  {
   "cell_type": "code",
   "execution_count": null,
   "metadata": {},
   "outputs": [],
   "source": [
    "map_diff_ave(ds1, ds2, var, vmin=vmin, vmax=vmax, cmap=cmap, \n",
    "             sig=False)"
   ]
  },
  {
   "cell_type": "code",
   "execution_count": null,
   "metadata": {},
   "outputs": [],
   "source": [
    "map_diff_ave(ds1, ds2, var, vmin=vmin, vmax=vmax, cmap=cmap, \n",
    "             sig=True, sig_method=sig_method, sig_viz=sig_viz, check_norm=check_norm, pvalue=pvalue, hatch='xxx')"
   ]
  },
  {
   "cell_type": "code",
   "execution_count": null,
   "metadata": {},
   "outputs": [],
   "source": [
    "map_diff_ave(ds1, ds2, var, vmin=vmin, vmax=vmax, cmap=cmap, \n",
    "             sig=True, sig_method=sig_method, sig_viz=0, pvalue=pvalue)"
   ]
  },
  {
   "cell_type": "code",
   "execution_count": null,
   "metadata": {},
   "outputs": [],
   "source": [
    "brr"
   ]
  },
  {
   "cell_type": "code",
   "execution_count": null,
   "metadata": {},
   "outputs": [],
   "source": [
    "#ttest pvalue plot\n",
    "var='sens'\n",
    "max_value=0.2\n",
    "min_value=0\n",
    "min_value, max_value= None, None\n",
    "ds1=lmdz_irr\n",
    "ds2=lmdz_noirr\n",
    "p_values = xr.apply_ufunc(\n",
    "    lambda x, y: ttest_ind(x, y, axis=0, nan_policy='omit').pvalue, \n",
    "    ds1[var], ds2[var],\n",
    "    input_core_dims=[['time'], ['time']],\n",
    "    output_core_dims=[[]],\n",
    "    vectorize=True,\n",
    "    dask='parallelized',\n",
    "    output_dtypes=[float],\n",
    "    dask_gufunc_kwargs={'allow_rechunk': True}\n",
    ")\n",
    "title='pvalues for {}, JJA'.format(var)\n",
    "map_plotvar(p_values, vmin=min_value, vmax=max_value, cmap=wet,title=title)"
   ]
  },
  {
   "cell_type": "code",
   "execution_count": null,
   "metadata": {},
   "outputs": [],
   "source": [
    "# Display 2 maps of var\n",
    "var = 'sens'\n",
    "ds1 = lmdz_irr\n",
    "ds2 = lmdz_noirr\n",
    "color_map=reds\n",
    "\n",
    "map_two_ds(ds1, ds2, var, in_cmap=color_map)"
   ]
  },
  {
   "cell_type": "code",
   "execution_count": null,
   "metadata": {},
   "outputs": [],
   "source": [
    "#Relative diff map\n",
    "var='sfcWind'\n",
    "maxvalue=None\n",
    "ds1=lmdz_irr\n",
    "ds2=lmdz_noirr\n",
    "\n",
    "map_rel_diff_ave(ds1, ds2, var, in_vmax=maxvalue)"
   ]
  },
  {
   "cell_type": "code",
   "execution_count": null,
   "metadata": {},
   "outputs": [],
   "source": [
    "#Display map of var for ds on restricted area\n",
    "var='t2m'\n",
    "ds = lmdz_noirr\n",
    "# ds = std\n",
    "latmin=36.0\n",
    "latmax=44\n",
    "lonmin=-10\n",
    "lonmax=3.5\n",
    "\n",
    "#restrict ds to latmin, latmax, lonmin, lonmax\n",
    "ds = ds.where(ds.lat >= latmin, drop=True).where(ds.lat <= latmax, drop=True)\n",
    "ds = ds.where(ds.lon >= lonmin, drop=True).where(ds.lon <= lonmax, drop=True)\n",
    "plotvar = ds[var].mean(dim='time')\n",
    "\n",
    "map_plotvar(plotvar, in_cmap=emb_neutral, in_vmax=None, title=var)"
   ]
  },
  {
   "cell_type": "markdown",
   "metadata": {},
   "source": [
    "# Time series and seasonnal cycle"
   ]
  },
  {
   "cell_type": "code",
   "execution_count": null,
   "metadata": {},
   "outputs": [],
   "source": [
    "var='irrigation'\n",
    "\n",
    "ds1=lowirr_ip_orc_irr\n",
    "ds2=medirr_ip_orc_irr\n",
    "ds3=highirr_ip_orc_irr\n",
    "ds_list=[ds1, ds2, ds3]\n",
    "# ds_list=[ds1]\n",
    "\n",
    "year_max=2022\n",
    "time_series_ave(ds_list, var, year_max=year_max, title='{} ({})'.format(var, ds1[var].attrs['units']))\n",
    "seasonal_cycle_ave(ds_list, var, year_max=year_max, title='Seasonal cycle of {} ({})'.format(var, ds1[var].attrs['units']))"
   ]
  },
  {
   "cell_type": "markdown",
   "metadata": {},
   "source": [
    "# Scatter plots"
   ]
  },
  {
   "cell_type": "markdown",
   "metadata": {},
   "source": [
    "## By grid cell (local recycling)"
   ]
  },
  {
   "cell_type": "code",
   "execution_count": null,
   "metadata": {},
   "outputs": [],
   "source": [
    "var1='irrigation'\n",
    "ds1=irr_ip_orc_full\n",
    "\n",
    "var2='runoff'\n",
    "ds2=irr_ip_orc_diff\n",
    "\n",
    "title='Annual mean (1 data pt = 1 grid cell)'\n",
    "# title=None\n",
    "\n",
    "# scatter_vars(ds1, ds2, var1, var2, reg=True, plot_one=True, title=title)\n",
    "scatter_annual_mean(ds1, ds2, var1, var2, reg=True, plot_one=True)"
   ]
  },
  {
   "cell_type": "code",
   "execution_count": null,
   "metadata": {},
   "outputs": [],
   "source": [
    "var1='evap'\n",
    "ds1=ip_lmdz_diff_mean\n",
    "\n",
    "var2='rain'\n",
    "ds2=ip_orc_diff_mean\n",
    "\n",
    "scatter_vars_density(ds1, ds2, var1, var2, reg=True, plot_one=False)"
   ]
  },
  {
   "cell_type": "markdown",
   "metadata": {},
   "source": [
    "## Spatial aggregation (regional recycling on a given month)"
   ]
  },
  {
   "cell_type": "code",
   "execution_count": null,
   "metadata": {},
   "outputs": [],
   "source": [
    "var1='irrigation'\n",
    "ds1=ip_orc_full_aggr\n",
    "\n",
    "var2='s_pblh'\n",
    "# ds2=ip_orc_diff_aggr\n",
    "ds2=irr_ip_lmdz_diff_aggr\n",
    "seasons=['MAM', 'JJA', 'SON']\n",
    "scatter_vars_seasons(ds1, ds2, var1, var2, reg=True, plot_one=False, coloring=True,\n",
    "                      is_1D=True, seasons_list=seasons)"
   ]
  },
  {
   "cell_type": "code",
   "execution_count": null,
   "metadata": {},
   "outputs": [],
   "source": [
    "var1='irrigation'\n",
    "ds1=ip_orc_full_aggr\n",
    "\n",
    "var2='evap'\n",
    "ds2=irr_ip_orc_diff_aggr\n",
    "\n",
    "title='Irrigated areas domain mean (1 data pt = 1 sim month)'\n",
    "title=None\n",
    "\n",
    "seasons=['JJA']\n",
    "months=[6,7,8]\n",
    "scatter_vars_months(ds1, ds2, var1, var2, reg=True, plot_one=True, is_1D=True, months_list=months, coloring=True, title=title)"
   ]
  },
  {
   "cell_type": "markdown",
   "metadata": {},
   "source": [
    "# Irrigation class subdatasets"
   ]
  },
  {
   "cell_type": "code",
   "execution_count": 36,
   "metadata": {},
   "outputs": [],
   "source": [
    "#write a function that takes several datasets and computes the average over the domain for a list of vars and return all means as pd.DataFrame\n",
    "def compute_describe(ds_list, vars):\n",
    "    out=pd.DataFrame()\n",
    "    for ds in ds_list:\n",
    "        ds_name=ds.attrs['name']\n",
    "        for var in vars:\n",
    "            #add a line in the dataframe\n",
    "            out.loc[ds_name, var]=ds[var].mean(dim='lon').mean(dim='lat').values\n",
    "            #add a \n",
    "    return out"
   ]
  },
  {
   "cell_type": "code",
   "execution_count": null,
   "metadata": {},
   "outputs": [],
   "source": [
    "vars=['irrigation']\n",
    "ds_list=[ lowirr_ip_orc_irr_mean, \n",
    "          medirr_ip_orc_irr_mean, \n",
    "         highirr_ip_orc_irr_mean]\n",
    "\n",
    "# irrig_by_zone = compute_means(ds_list, vars)\n",
    "irrig_by_zone = build_stats_df(ds_list, vars)\n",
    "rename_dict={\n",
    "            \"lowirr_irr\":\"lowirr\",\n",
    "            \"medirr_irr\":\"medirr\",\n",
    "            \"highirr_irr\":\"highirr\"\n",
    "            }\n",
    "irrig_by_zone.rename(index=rename_dict, inplace=True)\n",
    "irrig_by_zone"
   ]
  },
  {
   "cell_type": "code",
   "execution_count": null,
   "metadata": {},
   "outputs": [],
   "source": [
    "vars=['evap', 'rain', 'tair', 'runoff', 'mrro']\n",
    "ds_list=[ lowirr_ip_orc_diff_mean,\n",
    "          medirr_ip_orc_diff_mean, \n",
    "         highirr_ip_orc_diff_mean]\n",
    "\n",
    "diff_by_zone = build_stats_df(ds_list, vars)\n",
    "#change name of rows\n",
    "rename_dict={\n",
    "            \"lowirr_irr\":\"lowirr\",\n",
    "            \"medirr_irr\":\"medirr\",\n",
    "            \"highirr_irr\":\"highirr\"\n",
    "            }\n",
    "diff_by_zone.rename(index=rename_dict, inplace=True)\n",
    "diff_by_zone"
   ]
  },
  {
   "cell_type": "code",
   "execution_count": 66,
   "metadata": {},
   "outputs": [],
   "source": [
    "irrig_by_zone.attrs['name']='Irrigation by zone'\n",
    "diff_by_zone.attrs['name']='Diff by zone'"
   ]
  },
  {
   "cell_type": "code",
   "execution_count": 80,
   "metadata": {},
   "outputs": [],
   "source": [
    "#add all subcolumns of irrigation to diff_by_zone\n",
    "# irrig_by_zone\n",
    "diff_by_zone_withirr = pd.concat([diff_by_zone, irrig_by_zone], axis=1)\n",
    "\n",
    "#export to csv\n",
    "diff_by_zone_withirr.to_csv('figures/diff_by_zone.csv')"
   ]
  },
  {
   "cell_type": "code",
   "execution_count": null,
   "metadata": {},
   "outputs": [],
   "source": [
    "#remove irrigation from diff_by_zone\n",
    "diff_by_zone = diff_by_zone.drop(columns=['irrigation'])\n",
    "diff_by_zone"
   ]
  },
  {
   "cell_type": "code",
   "execution_count": null,
   "metadata": {},
   "outputs": [],
   "source": [
    "diff_by_zone_withirr[\"irrigation\"]"
   ]
  },
  {
   "cell_type": "code",
   "execution_count": null,
   "metadata": {},
   "outputs": [],
   "source": [
    "#scatter plot diff of evap on y axis with irrigation on x axis for all 3 diff datasets\n",
    "var1=diff_by_zone_withirr[\"irrigation\"]['mean']\n",
    "var2=diff_by_zone_withirr[\"evap\"]['mean']\n",
    "var3=diff_by_zone_withirr[\"rain\"]['mean']\n",
    "var4=diff_by_zone_withirr[\"tair\"]['mean']\n",
    "title='Evap diff vs irrigation for different irrigation zones'\n",
    "xmin=0\n",
    "xmax=0.16\n",
    "ymin=0\n",
    "ymax=0.02\n",
    "# plt.scatter(var1, var2)\n",
    "plt.scatter(var1, var2, vmin=ymin, vmax=ymax)\n",
    "# plt.scatter(var1, var4)\n",
    "#plot 1:1 line\n",
    "# plt.plot([0, 0.2], [0, 0.2], color='black', linestyle='--')"
   ]
  },
  {
   "cell_type": "code",
   "execution_count": null,
   "metadata": {},
   "outputs": [],
   "source": [
    "ds1=irrig_by_zone\n",
    "ds2=diff_by_zone\n",
    "var1='irrigation'\n",
    "var2='tair'\n",
    "vmin=0\n",
    "vmax=0.2\n",
    "scatter_vars(ds1, ds2, var1, var2, reg=False, plot_one=False, title=title)"
   ]
  }
 ],
 "metadata": {
  "kernelspec": {
   "display_name": "Python 3.12.2 64-bit",
   "language": "python",
   "name": "python3"
  },
  "language_info": {
   "codemirror_mode": {
    "name": "ipython",
    "version": 3
   },
   "file_extension": ".py",
   "mimetype": "text/x-python",
   "name": "python",
   "nbconvert_exporter": "python",
   "pygments_lexer": "ipython3",
   "version": "3.12.2"
  },
  "vscode": {
   "interpreter": {
    "hash": "9715f220877aa1dd3a10bcc1f3e7aef151ac70eccc8d755f78d50313f1675c6a"
   }
  }
 },
 "nbformat": 4,
 "nbformat_minor": 2
}
