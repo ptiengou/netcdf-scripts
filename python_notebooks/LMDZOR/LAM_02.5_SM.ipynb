{
 "cells": [
  {
   "cell_type": "markdown",
   "metadata": {},
   "source": [
    "# Imports and setting up viz\n",
    "\n",
    "NB : conda env1 on Mac, lam1env on spirit (Python3.12)"
   ]
  },
  {
   "cell_type": "code",
   "execution_count": null,
   "metadata": {},
   "outputs": [],
   "source": [
    "%load_ext autoreload\n",
    "%autoreload 2\n",
    "%matplotlib inline\n",
    "\n",
    "#import personnal tools\n",
    "import sys\n",
    "sys.path.append('../../python_tools/')\n",
    "from tools import *\n",
    "from tools_mapping import *"
   ]
  },
  {
   "cell_type": "code",
   "execution_count": null,
   "metadata": {},
   "outputs": [],
   "source": [
    "rivers = cfeature.NaturalEarthFeature('physical', 'rivers_lake_centerlines', '10m',edgecolor=(0, 0, 0, 0.3), facecolor='none')"
   ]
  },
  {
   "cell_type": "markdown",
   "metadata": {},
   "source": [
    "# Load files\n",
    "\n",
    "LAM output analysis.\n",
    "\n",
    "Simu irr et simu no-irr."
   ]
  },
  {
   "cell_type": "markdown",
   "metadata": {},
   "source": [
    "## Area and period selection"
   ]
  },
  {
   "cell_type": "code",
   "execution_count": null,
   "metadata": {},
   "outputs": [],
   "source": [
    "# lon_min=-13\n",
    "# lon_max=6\n",
    "# lat_min=32\n",
    "# lat_max=49\n",
    "\n",
    "date_min = '2010-01-01'\n",
    "date_max = '2022-12-31'"
   ]
  },
  {
   "cell_type": "markdown",
   "metadata": {},
   "source": [
    "## Sims"
   ]
  },
  {
   "cell_type": "code",
   "execution_count": null,
   "metadata": {},
   "outputs": [],
   "source": [
    "# noirr_dir='../../../JZ_simu_outputs/LAM/LAM_1000_40/noirr_2010_2022'\n",
    "# irr_dir='../../../JZ_simu_outputs/LAM/LAM_1000_40/irr_2010_2022'\n",
    "noirr_dir='../../../JZ_simu_outputs/LAM/LAM_1500_60/noirr'\n",
    "irr_dir='../../../JZ_simu_outputs/LAM/LAM_1500_60/irr'"
   ]
  },
  {
   "cell_type": "code",
   "execution_count": null,
   "metadata": {},
   "outputs": [],
   "source": [
    "TS_flag=False"
   ]
  },
  {
   "cell_type": "code",
   "execution_count": null,
   "metadata": {},
   "outputs": [],
   "source": [
    "#open netcdf files\n",
    "if TS_flag:\n",
    "    filename = '{}/*/SRF/TS_MO/*.nc'.format(noirr_dir)\n",
    "elif not TS_flag:\n",
    "    filename = '{}/*/SRF/MO/*sechiba_history.nc'.format(noirr_dir)\n",
    "\n",
    "ORCnoirr0 = xr.open_mfdataset(filename)\n",
    "ORCnoirr = ORCnoirr0.rename({'time_counter':'time'})\n",
    "ORCnoirr.attrs['name'] = 'no_irr'\n",
    "ORCnoirr.attrs['plot_color'] = \"red\"\n",
    "ORCnoirr = ORCnoirr.sel(lon=slice(lon_min,lon_max),lat=slice(lat_min,lat_max))\n",
    "\n",
    "ORCnoirr['snowmelt'] = ORCnoirr['snowmelt'] * 24 * 3600\n",
    "ORCnoirr['snowmelt'].attrs['units'] = 'mm/day'\n",
    "\n",
    "ORCnoirr['snow_contrib'] = ORCnoirr['snowmelt'] / (ORCnoirr['snowmelt'] + ORCnoirr['rain']) * 100\n",
    "ORCnoirr['snow_contrib'].attrs['units'] = '%'\n",
    "\n",
    "ORCnoirr"
   ]
  },
  {
   "cell_type": "code",
   "execution_count": null,
   "metadata": {},
   "outputs": [],
   "source": [
    "#add spinup\n",
    "filename = '{}/*/SRF/*history.nc'.format(noirr_dir)\n",
    "spinup_noirr = xr.open_mfdataset(filename)\n",
    "\n",
    "spinup_noirr = spinup_noirr.rename({'time_counter':'time'})\n",
    "spinup_noirr.attrs['name'] = 'no_irr'\n",
    "spinup_noirr.attrs['plot_color'] = \"red\"\n",
    "spinup_noirr = spinup_noirr.sel(lon=slice(lon_min,lon_max),lat=slice(lat_min,lat_max))\n",
    "\n",
    "spinup_noirr\n"
   ]
  },
  {
   "cell_type": "code",
   "execution_count": null,
   "metadata": {},
   "outputs": [],
   "source": [
    "if TS_flag:\n",
    "    filename = '{}/*/SRF/TS_MO/*.nc'.format(noirr_dir)\n",
    "elif not TS_flag:\n",
    "    filename = '{}/*/SRF/MO/*history.nc'.format(irr_dir)\n",
    "\n",
    "ORCirr0 = xr.open_mfdataset(filename)\n",
    "ORCirr = ORCirr0.rename({'time_counter':'time'})\n",
    "ORCirr.attrs['name'] = 'irr'\n",
    "ORCirr.attrs['plot_color'] = \"#0C5DA5\"\n",
    "ORCirr = ORCirr.sel(lon=slice(lon_min,lon_max),lat=slice(lat_min,lat_max))\n",
    "\n",
    "ORCirr['snowmelt'] = ORCirr['snowmelt'] * 24 * 3600\n",
    "ORCirr['snowmelt'].attrs['units'] = 'mm/day'\n",
    "\n",
    "ORCirr"
   ]
  },
  {
   "cell_type": "code",
   "execution_count": null,
   "metadata": {},
   "outputs": [],
   "source": [
    "#add spinup\n",
    "filename = '{}/*/SRF/*history.nc'.format(irr_dir)\n",
    "spinup_irr = xr.open_mfdataset(filename)\n",
    "spinup_irr = spinup_irr.rename({'time_counter':'time'})\n",
    "spinup_irr.attrs['name'] = 'irr'\n",
    "spinup_irr.attrs['plot_color'] = \"blue\"\n",
    "spinup_irr = spinup_irr.sel(lon=slice(lon_min,lon_max),lat=slice(lat_min,lat_max))\n",
    "spinup_irr"
   ]
  },
  {
   "cell_type": "code",
   "execution_count": null,
   "metadata": {},
   "outputs": [],
   "source": [
    "if not TS_flag:\n",
    "    # #manually define irrig_deficit as netirrig-irrigation in ORC file\n",
    "    # ORCirr['irrig_deficit'] = ORCirr['netirrig'] - ORCirr['irrigation']\n",
    "    # #make irrig_deficit units mm/day\n",
    "    # ORCirr['irrig_deficit'].attrs['units'] = 'mm/day'\n",
    "    # ORCirr['irrig_frac'] = ORCirr['irrigmap_dyn']/ORCirr['Areas']\n",
    "\n",
    "    ORCnoirr['irrig_frac'] = ORCirr['irrigmap_dyn']/ORCirr['Areas'] * 100\n",
    "    ORCnoirr['irrig_frac'].attrs['units'] = '%'\n",
    "    ORCirr['irrig_frac'] = ORCirr['irrigmap_dyn']/ORCirr['Areas'] * 100\n",
    "    ORCirr['irrig_frac'].attrs['units'] = '%'"
   ]
  },
  {
   "cell_type": "markdown",
   "metadata": {},
   "source": [
    "## Obs"
   ]
  },
  {
   "cell_type": "code",
   "execution_count": null,
   "metadata": {},
   "outputs": [],
   "source": [
    "outfilename='../../../obs/CCI-SM/cci_sm_monthly_filtered.nc'\n",
    "newcci = xr.open_mfdataset(outfilename)\n",
    "newcci['flag'].attrs['units']='-'\n",
    "\n",
    "newcci"
   ]
  },
  {
   "cell_type": "markdown",
   "metadata": {},
   "source": [
    "## Interpolation and masks"
   ]
  },
  {
   "cell_type": "code",
   "execution_count": null,
   "metadata": {},
   "outputs": [],
   "source": [
    "#create a masks of data points where irrig_frac >5%\n",
    "irr_mask = (ORCirr['irrigmap_dyn']/ORCirr['Areas'])>0.05\n",
    "con_mask=ORCnoirr['Contfrac']>0.95\n",
    "ip_mask=polygon_to_mask(ORCnoirr, iberian_peninsula)"
   ]
  },
  {
   "cell_type": "code",
   "execution_count": null,
   "metadata": {},
   "outputs": [],
   "source": [
    "#iberian peninsula ds\n",
    "ip_ORCnoirr=ORCnoirr.where(con_mask).where(ip_mask)\n",
    "ip_ORCirr=ORCirr.where(con_mask).where(ip_mask)"
   ]
  },
  {
   "cell_type": "code",
   "execution_count": null,
   "metadata": {},
   "outputs": [],
   "source": [
    "ip_spinup_noirr = spinup_noirr.where(con_mask).where(ip_mask)\n",
    "ip_spinup_noirr['time'] = ip_spinup_noirr['time'] - pd.to_timedelta(5 * 365.25, unit='D')\n",
    "ip_long_noirr = xr.concat([ip_spinup_noirr,ip_ORCnoirr], dim='time')\n",
    "ip_long_noirr\n",
    "\n",
    "ip_spinup_irr = spinup_irr.where(con_mask).where(ip_mask)\n",
    "ip_spinup_irr['time'] = ip_spinup_irr['time'] - pd.to_timedelta(5 * 365.25, unit='D')\n",
    "ip_long_irr = xr.concat([ip_spinup_irr,ip_ORCirr], dim='time')\n",
    "ip_long_irr"
   ]
  },
  {
   "cell_type": "code",
   "execution_count": null,
   "metadata": {},
   "outputs": [],
   "source": [
    "#mask on irrigated areas only\n",
    "# irr_ORCirr=ORCirr.where(irr_mask)\n",
    "# irr_ORCnoirr=ORCnoirr.where(irr_mask)\n",
    "\n",
    "# ip_irr_ORCirr=ip_ORCirr.where(irr_mask)\n",
    "# ip_irr_ORCnoirr=ip_ORCnoirr.where(irr_mask)"
   ]
  },
  {
   "cell_type": "code",
   "execution_count": null,
   "metadata": {},
   "outputs": [],
   "source": [
    "cci_iORC = newcci.interp_like(ORCnoirr)\n",
    "ip_cci_iORC = cci_iORC.where(ip_mask)"
   ]
  },
  {
   "cell_type": "code",
   "execution_count": null,
   "metadata": {},
   "outputs": [],
   "source": [
    "# ebro_mask = polygon_to_mask(ORCnoirr, ebro)\n",
    "# ebro_ORCirr = ip_ORCirr.where(ebro_mask)\n",
    "# ebro_ORCnoirr = ip_ORCnoirr.where(ebro_mask)\n",
    "# ebro_irr_ORCirr = ebro_ORCirr.where(irr_mask)\n",
    "# ebro_irr_ORCnoirr = ebro_ORCnoirr.where(irr_mask)"
   ]
  },
  {
   "cell_type": "markdown",
   "metadata": {},
   "source": [
    "# Maps"
   ]
  },
  {
   "cell_type": "code",
   "execution_count": null,
   "metadata": {},
   "outputs": [],
   "source": [
    "ds=ORCirr\n",
    "var='evap'\n",
    "\n",
    "vmin = 0\n",
    "vmax = 1\n",
    "vmin, vmax = None, None\n",
    "# vmax=None\n",
    "\n",
    "title=None\n",
    "# title='off'\n",
    "\n",
    "# clabel=\"Share of surface withdrawals (%)\"\n",
    "clabel=None\n",
    "\n",
    "cmap=wet\n",
    "\n",
    "map_ave(ds, var, vmin=vmin, vmax=vmax, title=title, clabel=clabel, cmap=cmap, poly=None)"
   ]
  },
  {
   "cell_type": "code",
   "execution_count": null,
   "metadata": {},
   "outputs": [],
   "source": [
    "ds=ip_ORCnoirr\n",
    "var='mrsos'\n",
    "\n",
    "vmin = -1\n",
    "vmax = 1\n",
    "# vmin, vmax = None, None\n",
    "# vmax=None\n",
    "\n",
    "title=None\n",
    "# title='off'\n",
    "\n",
    "# clabel=\"Share of surface withdrawals (%)\"\n",
    "clabel=None\n",
    "\n",
    "cmap=wet\n",
    "\n",
    "map_ave(ds, var, vmin=vmin, vmax=vmax, title=title, clabel=clabel, cmap=cmap, poly=None)"
   ]
  },
  {
   "cell_type": "code",
   "execution_count": null,
   "metadata": {},
   "outputs": [],
   "source": [
    "#diff\n",
    "ds1=ip_ORCirr\n",
    "ds2=ip_ORCnoirr\n",
    "var='mrsos'\n",
    "vmax= 1.5\n",
    "vmin=-1.5\n",
    "# vmin, vmax=None, None\n",
    "\n",
    "title=None\n",
    "# title='off'\n",
    "\n",
    "cmap=emb_neutral\n",
    "\n",
    "clabel=None\n",
    "\n",
    "map_diff_ave(ds1, ds2, var,cmap=cmap, title=title, clabel=clabel, vmin=vmin, vmax=vmax)"
   ]
  },
  {
   "cell_type": "code",
   "execution_count": null,
   "metadata": {},
   "outputs": [],
   "source": [
    "#relative difference\n",
    "ds1=ip_ORCirr\n",
    "ds2=ip_ORCnoirr\n",
    "var='mrsos'\n",
    "vmax= 10\n",
    "vmin=-10\n",
    "# vmin, vmax=None,None\n",
    "\n",
    "title='off'\n",
    "title=None\n",
    "\n",
    "# clabel='Slow reservoir difference (%)'\n",
    "clabel=None\n",
    "\n",
    "map_rel_diff_ave(ds1, ds2, var,cmap=emb_neutral, title=title, clabel=clabel, vmin=vmin, vmax=vmax)"
   ]
  },
  {
   "cell_type": "code",
   "execution_count": null,
   "metadata": {},
   "outputs": [],
   "source": [
    "#map for 4 seasons\n",
    "var='norm_sm'\n",
    "ds1=normalize_sm(ip_ORCnoirr, 'mrsos', '2010-01-01', '2019-12-31')\n",
    "ds2=normalize_sm(ip_cci_iORC, 'sm', '2010-01-01', '2019-12-31')\n",
    "max_value= 1.5\n",
    "min_value=-1.5\n",
    "# min_value,max_value=None, None\n",
    "cmap=emb_neutral\n",
    "\n",
    "diff=ds1[var]-ds2[var]\n",
    "title='{} diff, {} vs {} ({})'.format( var, ds1.attrs['name'], ds2.attrs['name'], ds1[var].attrs['units'])\n",
    "plotvar=diff\n",
    "\n",
    "map_seasons(plotvar, cmap=cmap, vmin=min_value, vmax=max_value, title=title, hex=False)"
   ]
  },
  {
   "cell_type": "markdown",
   "metadata": {},
   "source": [
    "### Discrete colormap"
   ]
  },
  {
   "cell_type": "code",
   "execution_count": null,
   "metadata": {},
   "outputs": [],
   "source": [
    "# Your list of discrete values\n",
    "data_values = np.array([0, 1, 2, 4, 8, 16, 32, 64, 128])\n",
    "N = len(data_values) # Number of unique values (and colours)\n",
    "\n",
    "# ----------------------------------------------------\n",
    "# 1. Define the Colormap\n",
    "# ----------------------------------------------------\n",
    "\n",
    "# Choose a built-in colormap to sample from, e.g., 'viridis' or 'Spectral'.\n",
    "# The number of colours sampled must equal the number of discrete values.\n",
    "cmap_base = plt.cm.get_cmap('Spectral', N)\n",
    "\n",
    "# Create a ListedColormap from the sampled colours\n",
    "cmap = mcolors.ListedColormap(cmap_base(np.arange(N)))\n",
    "\n",
    "# ----------------------------------------------------\n",
    "# 2. Define the Boundaries (Norm)\n",
    "# ----------------------------------------------------\n",
    "\n",
    "# The boundaries must be defined to sit *between* your discrete values.\n",
    "# The list of boundaries should have N+1 elements.\n",
    "# A simple way is to find the mid-points between your data values.\n",
    "\n",
    "# Calculate midpoints: (v_i + v_{i+1}) / 2\n",
    "bounds = (data_values[:-1] + data_values[1:]) / 2\n",
    "\n",
    "# Add boundaries for the start and end. We assume the bins are centred,\n",
    "# so we extend the first and last boundaries outwards.\n",
    "# For the first one: bounds[0] - (bounds[1] - bounds[0])\n",
    "bounds = np.insert(bounds, 0, data_values[0] - (bounds[0] - data_values[0]))\n",
    "bounds = np.append(bounds, data_values[-1] + (data_values[-1] - bounds[-1]))\n",
    "\n",
    "# Create the BoundaryNorm object\n",
    "norm = mcolors.BoundaryNorm(bounds, cmap.N)\n",
    "\n",
    "# ----------------------------------------------------\n",
    "# 3. Create a Dummy Plot and Colorbar\n",
    "# ----------------------------------------------------\n",
    "\n",
    "fig, ax = plt.subplots(figsize=(8, 2))\n",
    "\n",
    "# Create a ScalarMappable object for the colorbar, \n",
    "# as you may not have an image/plot yet.\n",
    "sm = plt.cm.ScalarMappable(cmap=cmap, norm=norm)\n",
    "sm.set_array([]) # The ScalarMappable needs a dummy array, but it can be empty\n",
    "\n",
    "# Draw the colourbar\n",
    "cbar = fig.colorbar(\n",
    "    sm,\n",
    "    ax=ax,\n",
    "    boundaries=bounds,       # Pass the boundaries\n",
    "    ticks=data_values,       # Set the ticks to be your original values\n",
    "    spacing='uniform',       # Ensure uniform spacing of colors\n",
    "    orientation='horizontal' # Choose horizontal or vertical\n",
    ")\n",
    "\n",
    "# Label the colourbar\n",
    "cbar.set_label('Discrete Data Values (Unit)')\n",
    "ax.set_title('Discrete Colormap for Specific Values', pad=20)\n",
    "\n",
    "# Remove the dummy axes\n",
    "ax.set_visible(False) \n",
    "\n",
    "plt.show()"
   ]
  },
  {
   "cell_type": "code",
   "execution_count": null,
   "metadata": {},
   "outputs": [],
   "source": [
    "def nice_map_discrete(\n",
    "    plotvar, \n",
    "    ax, \n",
    "    cmap_discrete,     # <--- REQUIRED: Your custom ListedColormap\n",
    "    norm_discrete,     # <--- REQUIRED: Your custom BoundaryNorm\n",
    "    clabel=None, \n",
    "    cbar_on=True, \n",
    "    xloc=8, \n",
    "    yloc=9, \n",
    "    left_labels=True, \n",
    "    poly=None\n",
    "):\n",
    "    \"\"\"\n",
    "    Plots a geographical map with discrete, fixed-value colour categories.\n",
    "\n",
    "    Uses a custom Matplotlib ListedColormap and BoundaryNorm for precise \n",
    "    discrete colour mapping, maintaining all existing nice_map features.\n",
    "    \"\"\"\n",
    "    \n",
    "    # --- 1. Cartopy/Axes Setup ---\n",
    "    ax.coastlines()\n",
    "    ax.add_feature(cfeature.RIVERS)\n",
    "    gl = ax.gridlines(draw_labels=True, dms=False, x_inline=False, y_inline=False, alpha=0.8)\n",
    "    gl.right_labels = False\n",
    "    gl.left_labels = left_labels\n",
    "    gl.top_labels = False\n",
    "    gl.xlocator = plt.MaxNLocator(xloc)\n",
    "    gl.ylocator = plt.MaxNLocator(yloc)\n",
    "\n",
    "    # --- 2. Plotting Logic ---\n",
    "    plot_obj = None\n",
    "\n",
    "    # Determine plotting arguments\n",
    "    plot_kwargs = {\n",
    "        'ax': ax, \n",
    "        'transform': ccrs.PlateCarree(),\n",
    "        'cmap': cmap_discrete, # Use the required discrete map\n",
    "        'norm': norm_discrete   # Use the required boundary norm\n",
    "        # vmin/vmax are NOT used here as they are defined by the norm\n",
    "    }\n",
    "\n",
    "    # 🚨 CRITICAL FIX: Explicitly call .plot.pcolormesh() \n",
    "    # to ensure the 'cmap' and 'norm' keywords are handled correctly.\n",
    "    plot_obj = plotvar.plot.pcolormesh(**plot_kwargs) \n",
    "\n",
    "    # --- 3. Colourbar Customisation ---\n",
    "    if cbar_on and plot_obj is not None:\n",
    "        cbar = plot_obj.colorbar\n",
    "        \n",
    "        # 🚨 CRITICAL CHANGE FOR DISCRETE MAPS 🚨\n",
    "        # Ticks are set to the midpoint of the discrete bins, which correspond \n",
    "        # to the original data values used to create the norm.\n",
    "        \n",
    "        # Calculate the centre of each bin from the BoundaryNorm's boundaries\n",
    "        discrete_ticks = (norm_discrete.boundaries[:-1] + norm_discrete.boundaries[1:]) / 2\n",
    "        \n",
    "        cbar.set_label(clabel)\n",
    "        cbar.set_ticks(discrete_ticks) # Use the calculated tick positions\n",
    "        \n",
    "        # You will likely want to format these ticks to match your specific\n",
    "        # data values (0, 1, 2, 4, 8, 16, 32, 64, 128) for the final display.\n",
    "        # This requires passing the original list of values to set_ticklabels().\n",
    "        # Assuming your original values are the actual centres:\n",
    "        cbar.set_ticklabels(discrete_ticks.astype(int)) \n",
    "        \n",
    "        # Retaining your original formatting logic\n",
    "        cbar.ax.yaxis.set_major_formatter(ticker.ScalarFormatter())\n",
    "        cbar.ax.yaxis.get_major_formatter().set_scientific(False) # Turn off scientific notation for discrete integers\n",
    "        # cbar.ax.yaxis.get_major_formatter().set_powerlimits((-2, 4)) # Powerlimits unnecessary with False above\n",
    "\n",
    "    elif cbar_on and plot_obj is None:\n",
    "        print(\"Warning: Plot object not created, cannot draw colorbar.\")\n",
    "        \n",
    "    elif not cbar_on and plot_obj is not None:\n",
    "        # Attempt to remove colorbar if requested\n",
    "        if hasattr(plot_obj, 'colorbar') and plot_obj.colorbar is not None:\n",
    "            plot_obj.colorbar.remove()\n",
    "\n",
    "\n",
    "    # --- 4. Final Touches ---\n",
    "    if poly:\n",
    "        # Assuming you have a function called plot_polygon\n",
    "        plot_polygon(poly, ax)\n",
    "\n",
    "    plt.tight_layout()\n",
    "\n",
    "    return plot_obj"
   ]
  },
  {
   "cell_type": "code",
   "execution_count": null,
   "metadata": {},
   "outputs": [],
   "source": [
    "fig = plt.figure(figsize=(7.5, 4))\n",
    "ax = plt.axes(projection=ccrs.PlateCarree())\n",
    "\n",
    "plotvar=newcci['flag'].mean(dim='time')\n",
    "plotvar=newcci['flag'].isel(time=2)\n",
    "\n",
    "nice_map_discrete(plotvar, ax, cmap, norm)"
   ]
  },
  {
   "cell_type": "markdown",
   "metadata": {},
   "source": [
    "# Time series"
   ]
  },
  {
   "cell_type": "code",
   "execution_count": null,
   "metadata": {},
   "outputs": [],
   "source": [
    "var='sm'\n",
    "\n",
    "ds1=ip_cci_iORC\n",
    "# ds2=ip_ORCnoirr\n",
    "# ds3=ip_ORCirr\n",
    "\n",
    "ds2=ip_long_noirr\n",
    "ds3=ip_long_irr\n",
    "\n",
    "# ds_list=[ds3]\n",
    "ds_list=[ds2, ds3]\n",
    "\n",
    "year_min = 2007\n",
    "year_max = 2022\n",
    "\n",
    "# title='off'\n",
    "title=None\n",
    "\n",
    "vmin=0\n",
    "vmax=22\n",
    "vmin, vmax= None, None\n",
    "\n",
    "time_series_ave(    ds_list, var, ds_colors=True, year_min=year_min, year_max=year_max, title=title)\n",
    "# seasonal_cycle_ave( ds_list, var, ds_colors=True, vmin=vmin, vmax=vmax,year_min=year_min, year_max=year_max, title=title)"
   ]
  },
  {
   "cell_type": "code",
   "execution_count": null,
   "metadata": {},
   "outputs": [],
   "source": [
    "ds_list=[ds1, ds2, ds3]\n",
    "\n",
    "year_min = 2010\n",
    "year_max = 2022\n",
    "\n",
    "# title='off'\n",
    "title=None\n",
    "\n",
    "# ylabel=\"Irrigation (mm/d)\"\n",
    "time_series_ave(ds_list, var, ds_colors=True, year_min=year_min, year_max=year_max, title=title)\n",
    "seasonal_cycle_ave(ds_list, var, ds_colors=True, year_min=year_min, year_max=year_max, title=title)\n",
    "plt.grid()"
   ]
  },
  {
   "cell_type": "code",
   "execution_count": null,
   "metadata": {},
   "outputs": [],
   "source": [
    "# multiple variables\n",
    "\n",
    "varlist=['mrsos', 'humtot']\n",
    "varlist=['streamr', 'slowr', 'fastr']\n",
    "\n",
    "ds1=ip_ORCnoirr\n",
    "ds1=ip_long_noirr\n",
    "\n",
    "year_min = 2007\n",
    "year_max = 2022\n",
    "\n",
    "# title='off'\n",
    "title=None\n",
    "\n",
    "fig = plt.figure(figsize=(7.5, 4))\n",
    "ax = plt.axes()\n",
    "\n",
    "for var in varlist:\n",
    "    plotvar=ds1[var].mean(dim=['lon', 'lat'])\n",
    "    nice_time_plot(plotvar, ax)\n",
    "plt.legend()"
   ]
  },
  {
   "cell_type": "markdown",
   "metadata": {},
   "source": [
    "# Figures"
   ]
  },
  {
   "cell_type": "code",
   "execution_count": null,
   "metadata": {},
   "outputs": [],
   "source": [
    "#seasonal cycle of norm sm for irr, noirr, and obs\n",
    "#maps of norm sm diff for both figs\n",
    "fig = plt.figure(figsize=(18, 12))\n",
    "gs = gridspec.GridSpec(3, 3, width_ratios=[1.1,1,1.2], height_ratios=[1, 1, 1])\n",
    "\n",
    "vmin_p=-1\n",
    "vmax_p= 1\n",
    "vmin_et=-1\n",
    "vmax_et= 1\n",
    "vmin_sm = -1.5\n",
    "vmax_sm=1.5\n",
    "\n",
    "\n",
    "# Normalized SSM\n",
    "date_min = '2010-01-01'\n",
    "# date_max = '2022-12-31'\n",
    "date_max = '2019-12-31' # to match with GPCC\n",
    "ds_obs=ip_cci_iORC.sel(time=slice(date_min,date_max))\n",
    "ds_irr=ip_ORCirr.sel(time=slice(date_min,date_max))\n",
    "ds_noirr=ip_ORCnoirr.sel(time=slice(date_min,date_max))\n",
    "var='norm_sm'\n",
    "\n",
    "#compute normalized SSM over the given period\n",
    "ds_noirr = normalize_sm(ds_noirr, 'mrsos', date_min, date_max)\n",
    "ds_irr = normalize_sm(ds_irr, 'mrsos', date_min, date_max)\n",
    "ds_obs = normalize_sm(ds_obs, 'sm', date_min, date_max)\n",
    "\n",
    "# Seasonal cycle\n",
    "ax7 = fig.add_subplot(gs[2,0])\n",
    "vmin_sm_ts=-1.3\n",
    "vmax_sm_ts=1.3\n",
    "ylabel=\"Normalized SSM (-)\"\n",
    "plotvar1 = ds_obs[var].mean(dim=['lon', 'lat']).groupby('time.month').mean(dim='time')\n",
    "color1 = 'black'\n",
    "label1 = 'CCI'\n",
    "nice_time_plot(plotvar1, ax7, vmin=vmin_sm_ts, label=label1, color=color1, ylabel=ylabel)\n",
    "plotvar2 = ds_noirr[var].mean(dim=['lon', 'lat']).groupby('time.month').mean(dim='time')\n",
    "color2 = 'red'\n",
    "label2 = 'no_irr'\n",
    "nice_time_plot(plotvar2, ax7, vmin=vmin_sm_ts, label=label2, color=color2, ylabel=ylabel)\n",
    "plotvar3 = ds_irr[var].mean(dim=['lon', 'lat']).groupby('time.month').mean(dim='time')\n",
    "color3 = 'blue'\n",
    "label3 = 'irr'\n",
    "nice_time_plot(plotvar3, ax7, vmin=vmin_sm_ts, vmax=vmax_sm_ts, label=label3, color=color3, ylabel=ylabel)\n",
    "ax7.set_title('(g) Mean seasonnal cycle (2010-2019)')\n",
    "ax7.set_xticks(np.arange(1, 13))\n",
    "ax7.set_xticklabels(months_name_list)\n",
    "\n",
    "#Diff\n",
    "ax8 = fig.add_subplot(gs[2,1], projection=ccrs.PlateCarree())\n",
    "plotvar=(ds_noirr[var]-ds_obs[var]).mean(dim='time')\n",
    "cmap=emb_neutral\n",
    "vmin=vmin_sm\n",
    "vmax=vmax_sm\n",
    "clabel=\"Normalized SSM bias (-)\"\n",
    "nice_map(plotvar, ax8, cmap, vmin, vmax, clabel=clabel, cbar_on=False)\n",
    "ax8.set_title('(h) no_irr - CCI')\n",
    "\n",
    "ax9 = fig.add_subplot(gs[2,2], projection=ccrs.PlateCarree())\n",
    "plotvar=(ds_irr[var]-ds_obs[var]).mean(dim='time')\n",
    "cmap=emb_neutral\n",
    "vmin=vmin_sm\n",
    "vmax=vmax_sm\n",
    "clabel=\"Normalized SSM bias (-)\"\n",
    "nice_map(plotvar, ax9, cmap, vmin, vmax, clabel=clabel, left_labels=False)\n",
    "ax9.set_title('(i) irr - CCI')\n",
    "\n",
    "plt.tight_layout()"
   ]
  },
  {
   "cell_type": "markdown",
   "metadata": {},
   "source": [
    "# Screening and masking CCI data"
   ]
  },
  {
   "cell_type": "code",
   "execution_count": null,
   "metadata": {},
   "outputs": [],
   "source": [
    "stop"
   ]
  },
  {
   "cell_type": "code",
   "execution_count": null,
   "metadata": {},
   "outputs": [],
   "source": [
    "# filename = '../../../obs/CCI-SM_old/C3S*.nc'\n",
    "filename = '../../../obs/CCI-SM/esacci/soil_moisture/data/daily_files/COMBINED/v09.1/*/ESACCI*.nc'\n",
    "\n",
    "cci = xr.open_mfdataset(filename)\n",
    "cci.attrs['name'] = 'CCI'\n",
    "cci.attrs['plot_color']='black'\n",
    "\n",
    "cci = cci.sel(lon=slice(lon_min,lon_max),lat=slice(lat_max,lat_min))\n",
    "\n",
    "\n",
    "cci['humtot'] = cci['sm'] * 2 * 1000\n",
    "cci['humtot'].attrs['units'] = 'mm'\n",
    "cci['mrsos'] = cci['sm'] * 0.1 * 1000\n",
    "cci['mrsos'].attrs['units'] = 'mm'\n",
    "\n",
    "cci"
   ]
  },
  {
   "cell_type": "code",
   "execution_count": null,
   "metadata": {},
   "outputs": [],
   "source": [
    "cci_monthly = cci.resample(time='MS').mean()\n",
    "cci_monthly['time'] = cci_monthly['time'] + pd.Timedelta(days=14)\n",
    "cci_monthly"
   ]
  },
  {
   "cell_type": "code",
   "execution_count": null,
   "metadata": {},
   "outputs": [],
   "source": [
    "# Export to NetCDF\n",
    "outfilename='../../../obs/CCI-SM/cci_sm_monthly.nc'\n",
    "cci_monthly.to_netcdf(outfilename)"
   ]
  },
  {
   "cell_type": "code",
   "execution_count": null,
   "metadata": {},
   "outputs": [],
   "source": [
    "def count_var_value(ds: xr.Dataset, var: str, threshold: float) -> int:\n",
    "    \"\"\"\n",
    "    Function to count how many data records are over a specific threshold.\n",
    "\n",
    "    Accounts for dimensions time, lon, lat. The count is performed along the \n",
    "    'time' dimension, resulting in a 2D map (lat, lon) of event counts.\n",
    "\n",
    "    Args:\n",
    "        ds: The xarray.Dataset containing the variable.\n",
    "        var: The string name of the variable to check (e.g., 'pr' for precipitation).\n",
    "        threshold: The numeric value that data records must exceed.\n",
    "\n",
    "    Returns:\n",
    "        An xarray.DataArray (lat, lon) showing the total count of times \n",
    "        the threshold was exceeded at each grid cell.\n",
    "    \"\"\"\n",
    "    \n",
    "    # 1. Select the DataArray and apply the threshold condition\n",
    "    # This creates a boolean DataArray where True indicates the threshold is met.\n",
    "    # Dimensions: (time, lat, lon)\n",
    "    exceedance_mask = ds[var] > threshold\n",
    "    \n",
    "    # 2. Convert the boolean mask to integers (True -> 1, False -> 0)\n",
    "    # This prepares the data for summation.\n",
    "    # Dimensions: (time, lat, lon)\n",
    "    count_data = exceedance_mask.astype(int)\n",
    "    \n",
    "    # 3. Sum the counts along the 'time' dimension\n",
    "    # The sum of 1s and 0s gives the total number of exceedances.\n",
    "    # Dimensions: (lat, lon)\n",
    "    exceedance_count = count_data.sum(dim=['time','lon','lat'])\n",
    "\n",
    "    return exceedance_count"
   ]
  },
  {
   "cell_type": "code",
   "execution_count": null,
   "metadata": {},
   "outputs": [],
   "source": [
    "for threshold in [-1, 0, 1]:#, 2, 4, 8, 16, 32, 64, 128]:\n",
    "    test = count_var_value(newcci, 'flag', threshold)\n",
    "    print(f'threshold: {threshold} : {test.values}')"
   ]
  },
  {
   "cell_type": "code",
   "execution_count": null,
   "metadata": {},
   "outputs": [],
   "source": [
    "for threshold in [0, 0.01, 0.06]:\n",
    "    test = count_var_value(newcci, 'sm_uncertainty', threshold)\n",
    "    print(f'threshold: {threshold} : {test.values}')"
   ]
  },
  {
   "cell_type": "code",
   "execution_count": null,
   "metadata": {},
   "outputs": [],
   "source": [
    "for threshold in [-1e10, -1, 0]:\n",
    "    test = count_var_value(newcci, 'mrsos', threshold)\n",
    "    print(f'threshold: {threshold} : {test.values}')"
   ]
  },
  {
   "cell_type": "code",
   "execution_count": null,
   "metadata": {},
   "outputs": [],
   "source": [
    "quality_mask = (cci['flag']<= 0)\n",
    "uncertainty_mask = (cci['sm_uncertainty'] < 0.06)\n",
    "\n",
    "screened_cci = cci.where(quality_mask).where(uncertainty_mask)\n",
    "screened_cci\n"
   ]
  },
  {
   "cell_type": "code",
   "execution_count": null,
   "metadata": {},
   "outputs": [],
   "source": [
    "monthly_screened = screened_cci.resample(time='MS').mean()\n",
    "monthly_screened"
   ]
  },
  {
   "cell_type": "code",
   "execution_count": null,
   "metadata": {},
   "outputs": [],
   "source": [
    "# Export to NetCDF\n",
    "outfilename='../../../obs/CCI-SM/cci_sm_monthly_filtered.nc'\n",
    "monthly_screened.to_netcdf(outfilename)"
   ]
  }
 ],
 "metadata": {
  "kernelspec": {
   "display_name": "Python (lam1env)",
   "language": "python",
   "name": "lam1env"
  },
  "language_info": {
   "codemirror_mode": {
    "name": "ipython",
    "version": 3
   },
   "file_extension": ".py",
   "mimetype": "text/x-python",
   "name": "python",
   "nbconvert_exporter": "python",
   "pygments_lexer": "ipython3",
   "version": "3.12.10"
  }
 },
 "nbformat": 4,
 "nbformat_minor": 2
}
