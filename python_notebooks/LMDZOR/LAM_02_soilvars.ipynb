{
 "cells": [
  {
   "cell_type": "markdown",
   "metadata": {},
   "source": [
    "# Imports and setting up viz\n",
    "\n",
    "NB : conda env1 on Mac, lam1env on spirit (Python3.12)"
   ]
  },
  {
   "cell_type": "code",
   "execution_count": null,
   "metadata": {},
   "outputs": [],
   "source": [
    "%load_ext autoreload\n",
    "%autoreload 2\n",
    "%matplotlib inline\n",
    "\n",
    "#import personnal tools\n",
    "import sys\n",
    "sys.path.append('../../python_tools/')\n",
    "from tools import *"
   ]
  },
  {
   "cell_type": "code",
   "execution_count": 72,
   "metadata": {},
   "outputs": [],
   "source": [
    "rivers = cfeature.NaturalEarthFeature('physical', 'rivers_lake_centerlines', '10m',edgecolor=(0, 0, 0, 0.3), facecolor='none')"
   ]
  },
  {
   "cell_type": "markdown",
   "metadata": {},
   "source": [
    "# Load files\n",
    "\n",
    "LAM output analysis.\n",
    "\n",
    "Simu irr et simu no-irr."
   ]
  },
  {
   "cell_type": "markdown",
   "metadata": {},
   "source": [
    "## Sims"
   ]
  },
  {
   "cell_type": "code",
   "execution_count": 73,
   "metadata": {},
   "outputs": [],
   "source": [
    "noirr_dir='../../../JZ_simu_outputs/LAM/LAM_1000_40/noirr_2010_2022'\n",
    "irr_dir='../../../JZ_simu_outputs/LAM/LAM_1000_40/irr_2010_2022'"
   ]
  },
  {
   "cell_type": "code",
   "execution_count": null,
   "metadata": {},
   "outputs": [],
   "source": [
    "#open netcdf files for native routing on ORC grid\n",
    "# filename = '{}/SRF/MO/*history.nc'.format(noirr_dir)\n",
    "filename = '{}/SRF/TS_MO_noirr*.nc'.format(noirr_dir)\n",
    "\n",
    "ORCnoirr0 = xr.open_mfdataset(filename)\n",
    "ORCnoirr = ORCnoirr0.rename({'time_counter':'time'})\n",
    "ORCnoirr.attrs['name'] = 'no_irr'\n",
    "ORCnoirr = ORCnoirr.sel(lon=slice(-13,6),lat=slice(32,49))\n",
    "ORCnoirr"
   ]
  },
  {
   "cell_type": "code",
   "execution_count": null,
   "metadata": {},
   "outputs": [],
   "source": [
    "filename = '{}/SRF/MO/*history.nc'.format(irr_dir)\n",
    "# filename = '{}/SRF/TS_MO_irr*.nc'.format(irr_dir)\n",
    "\n",
    "ORCirr0 = xr.open_mfdataset(filename)\n",
    "ORCirr = ORCirr0.rename({'time_counter':'time'})\n",
    "ORCirr.attrs['name'] = 'irr'\n",
    "ORCirr = ORCirr.sel(lon=slice(-13,6),lat=slice(32,49))\n",
    "\n",
    "# #manually define irrig_deficit as netirrig-irrigation in ORC file\n",
    "# ORCirr['irrig_deficit'] = ORCirr['netirrig'] - ORCirr['irrigation']\n",
    "# #make irrig_deficit units mm/day\n",
    "# ORCirr['irrig_deficit'].attrs['units'] = 'mm/day'\n",
    "# ORCirr['irrig_frac'] = ORCirr['irrigmap_dyn']/ORCirr['Areas']\n",
    "\n",
    "ORCirr0"
   ]
  },
  {
   "cell_type": "markdown",
   "metadata": {},
   "source": [
    "## Obs"
   ]
  },
  {
   "cell_type": "code",
   "execution_count": 76,
   "metadata": {},
   "outputs": [],
   "source": [
    "load_Ebro_obs=True"
   ]
  },
  {
   "cell_type": "code",
   "execution_count": 77,
   "metadata": {},
   "outputs": [],
   "source": [
    "if (load_Ebro_obs):\n",
    "    filename = '../../../obs/SM_based_inversion_approach_EBRO_Irrigation.nc'\n",
    "    irr_Ebro = xr.open_dataset(filename)\n",
    "    irr_Ebro = irr_Ebro.rename({'Time':'time'})\n",
    "    irr_Ebro = irr_Ebro.rename({'Longitude':'lon'})\n",
    "    irr_Ebro = irr_Ebro.rename({'Latitude':'lat'})\n",
    "    irr_Ebro = irr_Ebro.rename({'Irrigation':'irrigation'})\n",
    "    #make lon and lat coordinates and not variables\n",
    "    # irr_Ebro = irr_Ebro.set_coords(['lon','lat'])\n",
    "\n",
    "    irr_Ebro = regrid_to_lon_lat(irr_Ebro)\n",
    "    irr_Ebro.attrs['name'] = 'obs_Ebro'\n",
    "\n",
    "    #convert to mm/day\n",
    "    irr_Ebro['irrigation'] = irr_Ebro['irrigation']/30\n",
    "    irr_Ebro['irrigation'].attrs['units'] = 'mm/day'\n",
    "    \n",
    "    #resample irr_Ebro to monthly values\n",
    "    irr_Ebro = irr_Ebro.resample(time='1M').mean()\n",
    "    \n",
    "    irr_Ebro"
   ]
  },
  {
   "cell_type": "code",
   "execution_count": null,
   "metadata": {},
   "outputs": [],
   "source": [
    "#resample irr_Ebro to monthly values\n",
    "irr_Ebro = irr_Ebro.resample(time='1M').mean()\n",
    "irr_Ebro"
   ]
  },
  {
   "cell_type": "markdown",
   "metadata": {},
   "source": [
    "## Period selection"
   ]
  },
  {
   "cell_type": "code",
   "execution_count": 79,
   "metadata": {},
   "outputs": [],
   "source": [
    "#select only JJA\n",
    "# ORCnoirr = ORCnoirr.sel(time=ORCnoirr['time.season']=='JJA')\n",
    "# ORCirr = ORCirr.sel(time=ORCirr['time.season']=='JJA')\n",
    "# newORC = newORC.sel(time=newORC['time.season']=='JJA')"
   ]
  },
  {
   "cell_type": "code",
   "execution_count": 80,
   "metadata": {},
   "outputs": [],
   "source": [
    "#match the period of Ebro data\n",
    "date_min='2016-01-01'\n",
    "date_max='2020-08-31'\n",
    "\n",
    "ORCnoirr = ORCnoirr.sel(time=slice(date_min,date_max))\n",
    "ORCirr = ORCirr.sel(time=slice(date_min,date_max))\n",
    "irr_Ebro = irr_Ebro.sel(time=slice(date_min,date_max))"
   ]
  },
  {
   "cell_type": "markdown",
   "metadata": {},
   "source": [
    "## Masks"
   ]
  },
  {
   "cell_type": "code",
   "execution_count": 81,
   "metadata": {},
   "outputs": [],
   "source": [
    "#create a masks of data points where irrig_frac >5%\n",
    "irr_mask = (ORCirr['irrigmap_dyn']/ORCirr['Areas'])>0.05"
   ]
  },
  {
   "cell_type": "code",
   "execution_count": 82,
   "metadata": {},
   "outputs": [],
   "source": [
    "mORCirr=ORCirr.where(irr_mask)\n",
    "mORCirr.attrs['name'] = 'irr'\n",
    "\n",
    "mORCnoirr=ORCnoirr.where(irr_mask)\n",
    "mORCnoirr.attrs['name'] = 'no_irr'"
   ]
  },
  {
   "cell_type": "code",
   "execution_count": 83,
   "metadata": {},
   "outputs": [],
   "source": [
    "con_mask=ORCnoirr['Contfrac']>0.9\n",
    "ip_mask=polygon_to_mask(ORCnoirr, iberic_peninsula)"
   ]
  },
  {
   "cell_type": "code",
   "execution_count": 84,
   "metadata": {},
   "outputs": [],
   "source": [
    "ip_ORCnoirr=ORCnoirr.where(con_mask).where(ip_mask['mask'])\n",
    "ip_ORCirr=ORCirr.where(con_mask).where(ip_mask['mask'])"
   ]
  },
  {
   "cell_type": "code",
   "execution_count": 85,
   "metadata": {},
   "outputs": [],
   "source": [
    "ebro_mask = irr_Ebro['irrigation']>0"
   ]
  },
  {
   "cell_type": "code",
   "execution_count": 86,
   "metadata": {},
   "outputs": [],
   "source": [
    "ORCirr_iObsEbro = ORCirr.interp_like(irr_Ebro)\n",
    "ebro_ORCirr_iObsEbro = ORCirr_iObsEbro.where(ebro_mask)"
   ]
  },
  {
   "cell_type": "code",
   "execution_count": 103,
   "metadata": {},
   "outputs": [],
   "source": [
    "obsEbro_iORCirr = irr_Ebro.interp_like(ORCirr)\n",
    "ebro_mask_iORCirr = obsEbro_iORCirr['irrigation']>0\n",
    "ebro_ORCirr = ORCirr.where(ebro_mask_iORCirr)"
   ]
  },
  {
   "cell_type": "markdown",
   "metadata": {},
   "source": [
    "# Maps"
   ]
  },
  {
   "cell_type": "code",
   "execution_count": null,
   "metadata": {},
   "outputs": [],
   "source": [
    "ds=obsEbro_iORCirr\n",
    "var='irrigation'\n",
    "vmin=0\n",
    "vmax=0.8\n",
    "map_ave(ds, var, vmin=vmin, vmax=vmax, cmap=wet)"
   ]
  },
  {
   "cell_type": "code",
   "execution_count": null,
   "metadata": {},
   "outputs": [],
   "source": [
    "ds=ebro_ORCirr\n",
    "var='irrigation'\n",
    "vmin=0\n",
    "vmax=0.8\n",
    "title='Irrigation (mm/day)'\n",
    "map_ave(ds, var, vmin=vmin, vmax=vmax, title=title, cmap=wet, hex=False)"
   ]
  },
  {
   "cell_type": "code",
   "execution_count": null,
   "metadata": {},
   "outputs": [],
   "source": [
    "#diff\n",
    "ds1=ebro_ORCirr\n",
    "ds2=obsEbro_iORCirr\n",
    "var='irrigation'\n",
    "vmax=0.8\n",
    "vmin=-vmax\n",
    "map_diff_ave(ds1, ds2, var, vmin=vmin, vmax=vmax)"
   ]
  },
  {
   "cell_type": "code",
   "execution_count": null,
   "metadata": {},
   "outputs": [],
   "source": [
    "#diff with significance\n",
    "ds1=ip_ORCirr   \n",
    "ds2=ip_ORCnoirr\n",
    "var='streamr'\n",
    "vmax=45\n",
    "vmin=-vmax\n",
    "map_diff_ave(ds1, ds2, var, vmin=vmin, vmax=vmax, sig=True)"
   ]
  },
  {
   "cell_type": "code",
   "execution_count": null,
   "metadata": {},
   "outputs": [],
   "source": [
    "#relative difference\n",
    "ds1=ip_ORCirr\n",
    "ds2=ip_ORCnoirr\n",
    "var='streamr'\n",
    "vmax=50\n",
    "vmin=-50\n",
    "map_rel_diff_ave(ds1, ds2, var, vmin=vmin, vmax=vmax)"
   ]
  },
  {
   "cell_type": "code",
   "execution_count": null,
   "metadata": {},
   "outputs": [],
   "source": [
    "#Display map of var for ds on restricted area\n",
    "var='irrigation'\n",
    "ds = ORCirr\n",
    "latmin=39.75\n",
    "latmax=44.05\n",
    "lonmin= -4.5\n",
    "lonmax= 2.5\n",
    "# latmin=41.\n",
    "# latmax=42.5\n",
    "# lonmin= 0.\n",
    "# lonmax= 1.5\n",
    "\n",
    "#restrict ds to latmin, latmax, lonmin, lonmax\n",
    "ds = ds.where(ds.lat >= latmin, drop=True).where(ds.lat <= latmax, drop=True)\n",
    "ds = ds.where(ds.lon >= lonmin, drop=True).where(ds.lon <= lonmax, drop=True)\n",
    "plotvar = ds[var].mean(dim='time')\n",
    "map_plotvar(plotvar, cmap=wet, vmin=0, vmax=0.8, title='Applied irrigation (mm/day)')"
   ]
  },
  {
   "cell_type": "code",
   "execution_count": null,
   "metadata": {},
   "outputs": [],
   "source": [
    "#Display map of var for ds on restricted area\n",
    "var='irrigation'\n",
    "ds1 = ORCirr\n",
    "ds2 = obsEbro_iORCirr\n",
    "latmin=39.75\n",
    "latmax=44.05\n",
    "lonmin= -4.5\n",
    "lonmax= 2.5\n",
    "# latmin=41.\n",
    "# latmax=42.5\n",
    "# lonmin= 0.\n",
    "# lonmax= 1.5\n",
    "\n",
    "#restrict ds to latmin, latmax, lonmin, lonmax\n",
    "ds1 =ds1.where(ds1.lat >= latmin, drop=True).where(ds1.lat <= latmax, drop=True)\n",
    "ds1 =ds1.where(ds1.lon >= lonmin, drop=True).where(ds1.lon <= lonmax, drop=True)\n",
    "ds2 =ds2.where(ds2.lat >= latmin, drop=True).where(ds2.lat <= latmax, drop=True)\n",
    "ds2 =ds2.where(ds2.lon >= lonmin, drop=True).where(ds2.lon <= lonmax, drop=True)\n",
    "\n",
    "map_diff_ave(ds1, ds2, var, vmin=vmin, vmax=vmax)"
   ]
  },
  {
   "cell_type": "markdown",
   "metadata": {},
   "source": [
    "# Time series"
   ]
  },
  {
   "cell_type": "code",
   "execution_count": null,
   "metadata": {},
   "outputs": [],
   "source": [
    "var='irrigation'\n",
    "\n",
    "ds1=ebro_ORCirr\n",
    "ds2=obsEbro_iORCirr\n",
    "ds3=irr_Ebro\n",
    "ds_list=[ds1, ds2]\n",
    "# ds_list=[ds2]\n",
    "\n",
    "year_min=2016\n",
    "year_max=2020\n",
    "time_series_ave(ds_list, var, year_min=year_min, year_max=year_max, title=var)\n",
    "seasonal_cycle_ave(ds_list, var, year_min=year_min, year_max=year_max, title=var)"
   ]
  },
  {
   "cell_type": "code",
   "execution_count": null,
   "metadata": {},
   "outputs": [],
   "source": [
    "seasonal_cycle_ave(ds_list, 'precisol', title=var)"
   ]
  },
  {
   "cell_type": "code",
   "execution_count": null,
   "metadata": {},
   "outputs": [],
   "source": [
    "seasonal_cycle_ave(ds_list, 'snow', title=var)"
   ]
  }
 ],
 "metadata": {
  "kernelspec": {
   "display_name": "Python 3.12.2 64-bit",
   "language": "python",
   "name": "python3"
  },
  "language_info": {
   "codemirror_mode": {
    "name": "ipython",
    "version": 3
   },
   "file_extension": ".py",
   "mimetype": "text/x-python",
   "name": "python",
   "nbconvert_exporter": "python",
   "pygments_lexer": "ipython3",
   "version": "3.12.2"
  },
  "vscode": {
   "interpreter": {
    "hash": "9715f220877aa1dd3a10bcc1f3e7aef151ac70eccc8d755f78d50313f1675c6a"
   }
  }
 },
 "nbformat": 4,
 "nbformat_minor": 2
}
