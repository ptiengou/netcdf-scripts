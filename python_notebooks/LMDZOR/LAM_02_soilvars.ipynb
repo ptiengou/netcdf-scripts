{
 "cells": [
  {
   "cell_type": "markdown",
   "metadata": {},
   "source": [
    "# Imports and setting up viz\n",
    "\n",
    "NB : conda env1 on Mac, lam1env on spirit (Python3.12)"
   ]
  },
  {
   "cell_type": "code",
   "execution_count": null,
   "metadata": {},
   "outputs": [],
   "source": [
    "%load_ext autoreload\n",
    "%autoreload 2\n",
    "%matplotlib inline\n",
    "\n",
    "#import personnal tools\n",
    "from tools import *"
   ]
  },
  {
   "cell_type": "markdown",
   "metadata": {},
   "source": []
  },
  {
   "cell_type": "markdown",
   "metadata": {},
   "source": [
    "# Load files\n",
    "\n",
    "LAM output analysis.\n",
    "\n",
    "Simu irr et simu no-irr."
   ]
  },
  {
   "cell_type": "code",
   "execution_count": null,
   "metadata": {},
   "outputs": [],
   "source": [
    "noirr_dir='../../../JZ_simu_outputs/LAM/noirr_2010_2022'\n",
    "irr_dir='../../../JZ_simu_outputs/LAM/irr_2010_2022'"
   ]
  },
  {
   "cell_type": "code",
   "execution_count": null,
   "metadata": {},
   "outputs": [],
   "source": [
    "#open netcdf files for native routing on ORC grid\n",
    "filename = '{}/SRF/MO/*history.nc'.format(noirr_dir)\n",
    "ORCnoirr0 = xr.open_mfdataset(filename)\n",
    "ORCnoirr = ORCnoirr0.rename({'time_counter':'time'})\n",
    "ORCnoirr.attrs['name'] = 'no_irr'\n",
    "ORCnoirr = ORCnoirr.sel(lon=slice(-13,6),lat=slice(32,49))\n"
   ]
  },
  {
   "cell_type": "code",
   "execution_count": null,
   "metadata": {},
   "outputs": [],
   "source": [
    "filename = '{}/SRF/MO/*history.nc'.format(irr_dir)\n",
    "ORCirr0 = xr.open_mfdataset(filename)\n",
    "ORCirr = ORCirr0.rename({'time_counter':'time'})\n",
    "ORCirr.attrs['name'] = 'irr'\n",
    "ORCirr = ORCirr.sel(lon=slice(-13,6),lat=slice(32,49))\n",
    "\n",
    "#manually define irrig_deficit as netirrig-irrigation in ORC file\n",
    "ORCirr['irrig_deficit'] = ORCirr['netirrig'] - ORCirr['irrigation']\n",
    "#make irrig_deficit units mm/day\n",
    "ORCirr['irrig_deficit'].attrs['units'] = 'mm/day'\n",
    "ORCirr['irrig_frac'] = ORCirr['irrigmap_dyn']/ORCirr['Areas']\n",
    "\n",
    "ORCirr0"
   ]
  },
  {
   "cell_type": "code",
   "execution_count": null,
   "metadata": {},
   "outputs": [],
   "source": [
    "# Select the JJA months (June, July, August)\n",
    "months=[6, 7, 8]\n",
    "ORCirr = ORCirr.sel(time=ORCirr['time.month'].isin(months))\n",
    "ORCnoirr = ORCnoirr.sel(time=ORCnoirr['time.month'].isin(months))"
   ]
  },
  {
   "cell_type": "code",
   "execution_count": null,
   "metadata": {},
   "outputs": [],
   "source": [
    "#open netcdf files for native routing diag_routing_r.nc (on MERIT grid)\n",
    "# filename = '../../LAM/{}/SRF/MO/*diag_routing_r.nc'.format(noirr_dir)\n",
    "# DIAGRnoirr0 = xr.open_mfdataset(filename)\n",
    "# filename = '../../LAM/{}/SRF/MO/*diag_routing_r.nc'.format(irr_dir)\n",
    "# DIAGRirr0 = xr.open_mfdataset(filename)\n",
    "# DIAGRirr0\n",
    "\n",
    "#rename time_counter to time all files\n",
    "# DIAGRnoirr = DIAGRnoirr0.rename({'time_counter':'time'})\n",
    "# DIAGRirr = DIAGRirr0.rename({'time_counter':'time'})\n",
    "\n",
    "#Change dataset names attribute for automatic labeling\n",
    "# DIAGRirr.attrs['name'] = 'DIAGR_irr'\n",
    "# DIAGRnoirr.attrs['name'] = 'DIAGR_noirr'\n",
    "\n",
    "#Rename variables in natDIAG_R_month and natDIAG_R\n",
    "# dict = {\n",
    "#         'routing_stream_reservoir_r' : 'streamr',\n",
    "#         'routing_fast_reservoir_r' : 'fastr',\n",
    "#         'routing_slow_reservoir_r' : 'slowr',\n",
    "#         'routing_drainage_r' : 'drainage',\n",
    "#         'routing_runoff_r' : 'runoff',\n",
    "#         'routing_hydrographs_r' : 'hydrographs',\n",
    "#         # 'routing_irrigation_r' : 'irrigation',\n",
    "#         # 'irrig_netereq_r' : 'netirrig'\n",
    "#         # 'routing_riverflow_r' : 'riverflow',\n",
    "#         # 'routing_coastalflow_r' : 'coastalflow'\n",
    "#         }\n",
    "#change the variables that exist according to the dictionary\n",
    "# DIAGRnoirr = DIAGRnoirr.rename(dict)\n",
    "# DIAGRirr = DIAGRirr.rename(dict)"
   ]
  },
  {
   "cell_type": "markdown",
   "metadata": {},
   "source": [
    "## Masks"
   ]
  },
  {
   "cell_type": "code",
   "execution_count": null,
   "metadata": {},
   "outputs": [],
   "source": [
    "#create a masks of data points where irrig_frac >5%\n",
    "irr_mask = (ORCirr['irrigmap_dyn']/ORCirr['Areas'])>0.05"
   ]
  },
  {
   "cell_type": "code",
   "execution_count": null,
   "metadata": {},
   "outputs": [],
   "source": [
    "mORCirr=ORCirr.where(irr_mask)\n",
    "mORCirr.attrs['name'] = 'irr'\n",
    "\n",
    "mORCnoirr=ORCnoirr.where(irr_mask)\n",
    "mORCnoirr.attrs['name'] = 'no_irr'"
   ]
  },
  {
   "cell_type": "markdown",
   "metadata": {},
   "source": [
    "# Maps"
   ]
  },
  {
   "cell_type": "code",
   "execution_count": null,
   "metadata": {},
   "outputs": [],
   "source": [
    "ds=ORCirr\n",
    "var='irrigation'\n",
    "map_ave(ds, var, in_cmap=wet, hex=True)"
   ]
  },
  {
   "cell_type": "code",
   "execution_count": null,
   "metadata": {},
   "outputs": [],
   "source": [
    "#diff\n",
    "ds1=ORCirr\n",
    "ds2=ORCnoirr\n",
    "var='fluxsens'\n",
    "map_diff_ave(ds1, ds2, var)"
   ]
  },
  {
   "cell_type": "code",
   "execution_count": null,
   "metadata": {},
   "outputs": [],
   "source": [
    "#diff with significance (not ready with ORC yet...)\n",
    "ds1=ORCirr\n",
    "ds2=ORCnoirr\n",
    "var='fluxsens'\n",
    "map_diff_ave(ds1, ds2, var, sig=False)"
   ]
  },
  {
   "cell_type": "code",
   "execution_count": null,
   "metadata": {},
   "outputs": [],
   "source": [
    "#Diff map with significance\n",
    "var='evap'\n",
    "max_value=None\n",
    "ds1=ORCirr\n",
    "ds2=ORCnoirr\n",
    "# ds1=DIAGRirr\n",
    "# ds2=DIAGRnoirr\n",
    "#compute diff between ds1 and ds2\n",
    "diff = (ds1[var]-ds2[var]).mean(dim='time') #* 3600 * 24\n",
    "\n",
    "p_values = xr.apply_ufunc(\n",
    "    lambda x, y: ttest_ind(x, y, axis=0, nan_policy='omit').pvalue, \n",
    "    ds1[var], ds2[var],\n",
    "    input_core_dims=[['time'], ['time']],\n",
    "    output_core_dims=[[]],\n",
    "    vectorize=True,\n",
    "    dask='parallelized',\n",
    "    output_dtypes=[float]\n",
    ")\n",
    "mask=p_values<0.05\n",
    "\n",
    "#display map\n",
    "fig = plt.figure(figsize=(10, 7.5))\n",
    "ax = plt.axes(projection=ccrs.PlateCarree())\n",
    "# gridline setup\n",
    "ax.coastlines()\n",
    "ax.add_feature(rivers)\n",
    "gl = ax.gridlines(draw_labels=True, dms=True, x_inline=False, y_inline=False, alpha=0.8)\n",
    "gl.right_labels = False\n",
    "gl.top_labels = False\n",
    "gl.xlocator = plt.MaxNLocator(10)\n",
    "gl.ylocator = plt.MaxNLocator(9)\n",
    "\n",
    "# diff.plot(ax=ax, transform=ccrs.PlateCarree(), cmap=emb, vmax=max_value)\n",
    "diff.where(mask).plot(ax=ax, transform=ccrs.PlateCarree(), cmap=emb, vmax=max_value)\n",
    "plt.title(var + ' difference (' + ds1.name + ' - ' + ds2.name + ', ' + ds1[var].attrs['units'] + ')')\n",
    "# plt.title('Precipitation difference (irr - no_irr, April to September, mm/day)')"
   ]
  },
  {
   "cell_type": "code",
   "execution_count": null,
   "metadata": {},
   "outputs": [],
   "source": [
    "#pvalue plot\n",
    "var='evap'\n",
    "min_value=0\n",
    "max_value=None\n",
    "ds1=ORCirr\n",
    "ds2=ORCnoirr\n",
    "p_values = xr.apply_ufunc(\n",
    "    lambda x, y: ttest_ind(x, y, axis=0, nan_policy='omit').pvalue, \n",
    "    ds1[var], ds2[var],\n",
    "    input_core_dims=[['time'], ['time']],\n",
    "    output_core_dims=[[]],\n",
    "    vectorize=True,\n",
    "    dask='parallelized',\n",
    "    output_dtypes=[float]\n",
    ")\n",
    "p_values"
   ]
  },
  {
   "cell_type": "code",
   "execution_count": null,
   "metadata": {},
   "outputs": [],
   "source": [
    "# Display 2 maps of var\n",
    "var = 'flat'\n",
    "maxvalue=2\n",
    "color_map=reds\n",
    "\n",
    "ds1 = ORCirr\n",
    "ds2 = ORCnoirr\n",
    "# ds1=DIAGRirr\n",
    "# ds2=DIAGRnoirr\n",
    "plotvar_1 = ds1[var].mean(dim='time') *3600*24\n",
    "plotvar_2 = ds2[var].mean(dim='time') #*3600*24\n",
    "\n",
    "# Create a figure with two subplots side by side\n",
    "fig, axs = plt.subplots(1, 2, figsize=(12, 4), subplot_kw={'projection': ccrs.PlateCarree()})\n",
    "fig.suptitle(var + ' ({})'.format(ds1[var].units))\n",
    "\n",
    "# Plot for std dataset\n",
    "axs[0].coastlines()\n",
    "plotvar_1.plot(ax=axs[0], transform=ccrs.PlateCarree(), cmap=color_map, vmax=maxvalue)\n",
    "axs[0].set_title(f'{var} ({ds1.name})')\n",
    "\n",
    "# Plot for natORC dataset\n",
    "axs[1].coastlines()\n",
    "plotvar_2.plot(ax=axs[1], transform=ccrs.PlateCarree(), cmap=color_map, vmax=maxvalue)\n",
    "axs[1].set_title(f'{var} ({ds2.name})')"
   ]
  },
  {
   "cell_type": "code",
   "execution_count": null,
   "metadata": {},
   "outputs": [],
   "source": [
    "#Relative diff map\n",
    "var='sfcWind'\n",
    "maxvalue=None\n",
    "ds1=ORCirr\n",
    "ds2=ORCnoirr\n",
    "#compute diff between ds1 and ds2\n",
    "diff = (ds1[var]-ds2[var]).mean(dim='time')\n",
    "rel_diff = ((ds1[var]-ds2[var] + 1E-16) / (ds2[var] + 1E-16)).mean(dim='time') * 100\n",
    "# Transform rel_diff using log10\n",
    "rel_diff_log = np.log10(rel_diff)\n",
    "#display map\n",
    "fig = plt.figure(figsize=(8, 6))\n",
    "ax = plt.axes(projection=ccrs.PlateCarree())\n",
    "ax.coastlines()\n",
    "ax.add_feature(rivers)\n",
    "gl = ax.gridlines(draw_labels=True, dms=True, x_inline=False, y_inline=False, alpha=0.8)\n",
    "gl.right_labels = False\n",
    "gl.top_labels = False\n",
    "gl.xlocator = plt.MaxNLocator(10)\n",
    "gl.ylocator = plt.MaxNLocator(9)\n",
    "rel_diff.plot(ax=ax, transform=ccrs.PlateCarree(), cmap=emb, vmax=maxvalue)\n",
    "# rel_diff_log.plot(ax=ax, transform=ccrs.PlateCarree(), cmap=emb)\n",
    "plt.title(var + ' relative difference (' + ds1.name + ' - ' + ds2.name + '; %)')\n",
    "# plt.title('Gross primary production relative difference (%)')"
   ]
  },
  {
   "cell_type": "code",
   "execution_count": null,
   "metadata": {},
   "outputs": [],
   "source": [
    "#Display map of var for ds on restricted area\n",
    "var='irrigation'\n",
    "ds = ORCirr\n",
    "# ds = std\n",
    "latmin=36\n",
    "latmax=44\n",
    "lonmin=-9.5\n",
    "lonmax=3\n",
    "\n",
    "latmin=41\n",
    "latmax=43\n",
    "lonmin=-2\n",
    "lonmax=1\n",
    "\n",
    "#restrict ds to latmin, latmax, lonmin, lonmax\n",
    "ds = ds.where(ds.lat >= latmin, drop=True)\n",
    "ds = ds.where(ds.lat <= latmax, drop=True)\n",
    "ds = ds.where(ds.lon >= lonmin, drop=True)\n",
    "ds = ds.where(ds.lon <= lonmax, drop=True)\n",
    "plotvar = ds[var].mean(dim='time')\n",
    "fig = plt.figure(figsize=(10, 6))\n",
    "ax = plt.axes(projection=ccrs.PlateCarree())\n",
    "ax.coastlines()\n",
    "ax.gridlines(draw_labels=True, dms=True, x_inline=False, y_inline=False)\n",
    "#use colormap reds\n",
    "plotvar.plot(ax=ax, transform=ccrs.PlateCarree(), cmap=wet)\n",
    "plt.title(var + ' (' + ds.name + ')')\n",
    "ax.add_feature(rivers)\n"
   ]
  },
  {
   "cell_type": "code",
   "execution_count": null,
   "metadata": {},
   "outputs": [],
   "source": [
    "#Display map of var for ds averaged on a given year\n",
    "var='evap'\n",
    "year=2012\n",
    "ds = ORCnoirr\n",
    "# ds = ds.where(ds['time.year'] == year, drop=True)\n",
    "plotvar = ds[var].mean(dim='time')\n",
    "fig = plt.figure(figsize=(10, 6))\n",
    "ax = plt.axes(projection=ccrs.PlateCarree())\n",
    "ax.coastlines()\n",
    "ax.gridlines(draw_labels=True, dms=True, x_inline=False, y_inline=False)\n",
    "#use colormap reds\n",
    "plotvar.plot(ax=ax, transform=ccrs.PlateCarree(), cmap=myvir)\n",
    "plt.title(var + ' (' + ds.name + ')')"
   ]
  },
  {
   "cell_type": "markdown",
   "metadata": {},
   "source": [
    "# Time series"
   ]
  },
  {
   "cell_type": "code",
   "execution_count": null,
   "metadata": {},
   "outputs": [],
   "source": [
    "var='precip'\n",
    "\n",
    "ds1=ORCnoirr\n",
    "ds2=ORCirr\n",
    "ds_list=[ds1, ds2]\n",
    "\n",
    "year_max=2022\n",
    "time_series(ds_list, var, year_max=year_max, in_title=var)\n",
    "seasonal_cycle(ds_list, var, in_title=var)"
   ]
  },
  {
   "cell_type": "code",
   "execution_count": null,
   "metadata": {},
   "outputs": [],
   "source": [
    "#Average time series\n",
    "var='evap'\n",
    "ds1=ORCirr\n",
    "ds2=ORCnoirr\n",
    "# ds1 = ds1.where(ds1['time.year'] >= year_min, drop=True).where(ds1['time.year'] <= year_max, drop=True)\n",
    "# ds2 = ds2.where(ds2['time.year'] >= year_min, drop=True).where(ds2['time.year'] <= year_max, drop=True)\n",
    "fig = plt.figure(figsize=(10, 6))\n",
    "ax = plt.axes()\n",
    "ax.grid()\n",
    "ds1[var].mean(dim=['lon','lat']).plot(ax=ax, label=ds1.name)\n",
    "ds2[var].mean(dim=['lon','lat']).plot(ax=ax, label=ds2.name)\n",
    "plt.title(var)\n",
    "plt.legend()"
   ]
  },
  {
   "cell_type": "code",
   "execution_count": null,
   "metadata": {},
   "outputs": [],
   "source": [
    "#Average seasonnal cycle\n",
    "var='evap'\n",
    "ds1=mORCirr\n",
    "ds2=mORCnoirr\n",
    "# ds1 = ds1.where(ds1['time.year'] >= year_min, drop=True).where(ds1['time.year'] <= year_max, drop=True)\n",
    "# ds2 = ds2.where(ds2['time.year'] >= year_min, drop=True).where(ds2['time.year'] <= year_max, drop=True)\n",
    "fig = plt.figure(figsize=(10, 6))\n",
    "ax = plt.axes()\n",
    "ax.grid()\n",
    "\n",
    "ds1[var].mean(dim=['lon','lat']).groupby('time.month').mean(dim='time').plot(ax=ax, label=ds1.name)\n",
    "ds2[var].mean(dim=['lon','lat']).groupby('time.month').mean(dim='time').plot(ax=ax, label=ds2.name)\n",
    "\n",
    "months=['Jan','Feb','Mar','Apr','May','Jun','Jul','Aug','Sep','Oct','Nov','Dec']\n",
    "ax.set_xticks(np.arange(1,13))\n",
    "ax.set_xticklabels(months)\n",
    "ax.set_ylabel('')\n",
    "ax.set_xlabel('')\n",
    "# plt.title(var)\n",
    "plt.title('Average evaporation (mm/day)')\n",
    "plt.title('Average evaporation (irrigated cells only, mm/day)')\n",
    "plt.legend()"
   ]
  },
  {
   "cell_type": "markdown",
   "metadata": {},
   "source": [
    "# Hydrographs en un point"
   ]
  },
  {
   "cell_type": "code",
   "execution_count": null,
   "metadata": {},
   "outputs": [],
   "source": [
    "river_coordinates = {\n",
    "    'Ebre': {'lon': 0.75, 'lat': 40.75},\n",
    "    'Minho': {'lon': -8.75, 'lat': 42.25},\n",
    "    'Tage': {'lon': -9.25, 'lat': 39.25},\n",
    "    'Douro': {'lon': -8.75, 'lat': 41.25},\n",
    "    'Guadiana': {'lon': -7.25, 'lat': 38.25},\n",
    "    'Guadalquivir': {'lon': -6.25, 'lat': 36.75}\n",
    "}\n",
    "river_coordinates_native = {\n",
    "    'Ebre': {'lon': 0.86, 'lat': 40.725},\n",
    "    'Minho': {'lon': -8.875, 'lat': 41.86},\n",
    "    'Tage': {'lon': -9.175, 'lat': 38.6875},\n",
    "    'Douro': {'lon': -8.675, 'lat': 41.1375},\n",
    "    'Guadiana': {'lon': -7.39, 'lat': 37.175},\n",
    "    'Guadalquivir': {'lon': -6.34, 'lat': 36.79}\n",
    "}"
   ]
  },
  {
   "cell_type": "code",
   "execution_count": null,
   "metadata": {},
   "outputs": [],
   "source": [
    "#Time series\n",
    "year_min=2003\n",
    "year_max=2012\n",
    "lon=-6.34\n",
    "lat=36.79\n",
    "\n",
    "var=\"hydrographs\"\n",
    "ds1=std\n",
    "ds1 = ds1.where(ds1['time.year'] >= year_min, drop=True).where(ds1['time.year'] <= year_max, drop=True)\n",
    "ds2=natDIAG_R\n",
    "ds2 = ds2.where(ds2['time.year'] >= year_min, drop=True).where(ds2['time.year'] <= year_max, drop=True)\n",
    "#plot the time series of hydrographs at the point (lon,lat)\n",
    "fig = plt.figure(figsize=(10, 6))\n",
    "ax = plt.axes()\n",
    "ax.grid()\n",
    "ax.set_ylabel('hydrographs')\n",
    "# ds1[var].sel(lon=lon, lat=lat, method='nearest').plot(ax=ax, label=ds1.name)\n",
    "ds2[var].sel(lon=lon, lat=lat, method='nearest').plot(ax=ax, label=ds2.name)\n",
    "# ds2['runoff'].sel(lon=lon, lat=lat, method='nearest').plot(ax=ax, label='runoff')\n",
    "plt.title('hydrographs at (' + str(lon) + ',' + str(lat) + '), m³/s')\n",
    "plt.legend()"
   ]
  },
  {
   "cell_type": "code",
   "execution_count": null,
   "metadata": {},
   "outputs": [],
   "source": [
    "#Time series\n",
    "year_min=2003\n",
    "year_max=2012\n",
    "lon=-8.875\n",
    "lat=41.86\n",
    "ds1=natDIAG_R\n",
    "ds1 = ds1.where(ds1['time.year'] >= year_min, drop=True).where(ds1['time.year'] <= year_max, drop=True)\n",
    "#plot the time series of hydrographs at the point (lon,lat)\n",
    "fig = plt.figure(figsize=(10, 6))\n",
    "ax = plt.axes()\n",
    "ax.grid()\n",
    "ds1['runoff'].sel(lon=lon, lat=lat, method='nearest').plot(ax=ax, label='runoff',c='green')\n",
    "ds1['drainage'].sel(lon=lon, lat=lat, method='nearest').plot(ax=ax, label='drainage',c='brown')\n",
    "# ['rain'].sel(lon=lon, lat=lat, method='nearest').plot(ax=ax, label='rainfall',c='blue')\n",
    "plt.title('Runoff and drainage at (' + str(lon) + ',' + str(lat) + '), mm/d')\n",
    "plt.legend()"
   ]
  },
  {
   "cell_type": "code",
   "execution_count": null,
   "metadata": {},
   "outputs": [],
   "source": [
    "#Cycle saisonnier (moyenne par jour de l'année)\n",
    "var=\"hydrographs\"\n",
    "# # Guadiana\n",
    "lon=-7.25\n",
    "lat=38.25\n",
    "ds1=std\n",
    "ds2=natDIAG_R\n",
    "fig = plt.figure(figsize=(10, 6))\n",
    "ax = plt.axes()\n",
    "ax.grid()\n",
    "ax.set_xlabel('month')\n",
    "ax.set_ylabel('hydrographs')\n",
    "ax.set_title('hydrographs at (' + str(lon) + ',' + str(lat) + ')')\n",
    "#compute the annual cycle of hydrographs at the point (lon,lat)\n",
    "ds1[var].sel(lon=lon, lat=lat, method='nearest').groupby('time.dayofyear').mean(dim='time').plot(ax=ax, label=ds1.name)\n",
    "ds2[var].sel(lon=lon, lat=lat, method='nearest').groupby('time.dayofyear').mean(dim='time').plot(ax=ax, label=ds2.name)\n",
    "plt.legend()"
   ]
  },
  {
   "cell_type": "code",
   "execution_count": null,
   "metadata": {},
   "outputs": [],
   "source": [
    "#cycle saisonnier pour 6 points de grille\n",
    "var = \"hydrographs\"\n",
    "ds1 = std\n",
    "ds2 = natDIAG_R\n",
    "\n",
    "# Create subplots for each river in a 2x3 grid\n",
    "fig, axes = plt.subplots(nrows=2, ncols=3, figsize=(20, 10))\n",
    "\n",
    "# Flatten the axes array for easier iteration\n",
    "axes = axes.flatten()\n",
    "\n",
    "# Iterate over rivers and plot hydrographs\n",
    "for i, (river, coordinates) in enumerate(river_coordinates.items()):\n",
    "    lon = coordinates['lon']\n",
    "    lat = coordinates['lat']\n",
    "    \n",
    "    ax = axes[i]\n",
    "\n",
    "    #Compute the annual cycle of hydrographs at the point (lon, lat) for each dataset\n",
    "    ds1[var].sel(lon=lon, lat=lat, method='nearest').groupby('time.month').mean(dim='time').plot(ax=ax, label=ds1.name)\n",
    "\n",
    "for i, (river, coordinates) in enumerate(river_coordinates_native.items()):\n",
    "    lon = coordinates['lon']\n",
    "    lat = coordinates['lat']\n",
    "    \n",
    "    ax = axes[i]\n",
    "\n",
    "    # Compute the annual cycle of hydrographs at the point (lon, lat) for each dataset\n",
    "    ds2[var].sel(lon=lon, lat=lat, method='nearest').groupby('time.month').mean(dim='time').plot(ax=ax, label=ds2.name)\n",
    "    \n",
    "    ax.legend()\n",
    "    #set subplot title to river name\n",
    "    ax.set_title(river)\n",
    "\n",
    "# Remove any remaining empty subplots\n",
    "for i in range(len(river_coordinates), len(axes)):\n",
    "    fig.delaxes(axes[i])\n",
    "\n",
    "plt.suptitle(\"Cycle saisonnier du débit à l'exutoire (m³/s, 2003-2012)\")\n",
    "plt.tight_layout()"
   ]
  },
  {
   "cell_type": "code",
   "execution_count": null,
   "metadata": {},
   "outputs": [],
   "source": [
    "#série temporelle pour 6 points de grille\n",
    "var = \"hydrographs\"\n",
    "ds1 = natORC\n",
    "ds2 = natDIAG_R\n",
    "\n",
    "# Create subplots for each river in a 2x3 grid\n",
    "fig, axes = plt.subplots(nrows=2, ncols=3, figsize=(20, 10))\n",
    "\n",
    "# Flatten the axes array for easier iteration\n",
    "axes = axes.flatten()\n",
    "\n",
    "# Iterate over rivers and plot hydrographs\n",
    "for i, (river, coordinates) in enumerate(river_coordinates.items()):\n",
    "    lon = coordinates['lon']\n",
    "    lat = coordinates['lat']\n",
    "    \n",
    "    ax = axes[i]\n",
    "\n",
    "    # Compute the annual cycle of hydrographs at the point (lon, lat) for each dataset\n",
    "    # ds1[var].sel(lon=lon, lat=lat, method='nearest').plot(ax=ax, label=ds1.name)\n",
    "\n",
    "for i, (river, coordinates) in enumerate(river_coordinates_native.items()):\n",
    "    lon = coordinates['lon']\n",
    "    lat = coordinates['lat']\n",
    "    \n",
    "    ax = axes[i]\n",
    "\n",
    "    # Compute the annual cycle of hydrographs at the point (lon, lat) for each dataset\n",
    "    ds2[var].sel(lon=lon, lat=lat, method='nearest').plot(ax=ax, label=ds2.name)\n",
    "    \n",
    "    ax.legend()\n",
    "    #set subplot title to river name\n",
    "    ax.set_title(river)\n",
    "\n",
    "# Remove any remaining empty subplots\n",
    "for i in range(len(river_coordinates), len(axes)):\n",
    "    fig.delaxes(axes[i])\n",
    "\n",
    "plt.suptitle(\"Série temporelle du débit à l'exutoire (m³/s)\")\n",
    "plt.tight_layout()"
   ]
  }
 ],
 "metadata": {
  "kernelspec": {
   "display_name": "Python 3.12.2 64-bit",
   "language": "python",
   "name": "python3"
  },
  "language_info": {
   "codemirror_mode": {
    "name": "ipython",
    "version": 3
   },
   "file_extension": ".py",
   "mimetype": "text/x-python",
   "name": "python",
   "nbconvert_exporter": "python",
   "pygments_lexer": "ipython3",
   "version": "3.12.2"
  },
  "vscode": {
   "interpreter": {
    "hash": "9715f220877aa1dd3a10bcc1f3e7aef151ac70eccc8d755f78d50313f1675c6a"
   }
  }
 },
 "nbformat": 4,
 "nbformat_minor": 2
}
