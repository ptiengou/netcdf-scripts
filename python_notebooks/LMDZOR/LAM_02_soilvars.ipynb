{
 "cells": [
  {
   "cell_type": "markdown",
   "metadata": {},
   "source": [
    "# Imports and setting up viz\n",
    "\n",
    "NB : conda env1 on Mac, lam1env on spirit (Python3.12)"
   ]
  },
  {
   "cell_type": "code",
   "execution_count": 1,
   "metadata": {},
   "outputs": [],
   "source": [
    "%load_ext autoreload\n",
    "%autoreload 2\n",
    "%matplotlib inline\n",
    "\n",
    "#import personnal tools\n",
    "import sys\n",
    "sys.path.append('../../python_tools/')\n",
    "from tools import *"
   ]
  },
  {
   "cell_type": "code",
   "execution_count": 2,
   "metadata": {},
   "outputs": [],
   "source": [
    "rivers = cfeature.NaturalEarthFeature('physical', 'rivers_lake_centerlines', '10m',edgecolor=(0, 0, 0, 0.3), facecolor='none')"
   ]
  },
  {
   "cell_type": "markdown",
   "metadata": {},
   "source": [
    "# Load files\n",
    "\n",
    "LAM output analysis.\n",
    "\n",
    "Simu irr et simu no-irr."
   ]
  },
  {
   "cell_type": "markdown",
   "metadata": {},
   "source": [
    "## Sims"
   ]
  },
  {
   "cell_type": "code",
   "execution_count": 3,
   "metadata": {},
   "outputs": [],
   "source": [
    "noirr_dir='../../../JZ_simu_outputs/LAM/LAM_1000_40/noirr_2010_2022'\n",
    "irr_dir='../../../JZ_simu_outputs/LAM/LAM_1000_40/irr_2010_2022'"
   ]
  },
  {
   "cell_type": "code",
   "execution_count": null,
   "metadata": {},
   "outputs": [],
   "source": [
    "#open netcdf files for native routing on ORC grid\n",
    "# filename = '{}/SRF/MO/*history.nc'.format(noirr_dir)\n",
    "filename = '{}/SRF/TS_MO_noirr*.nc'.format(noirr_dir)\n",
    "\n",
    "ORCnoirr0 = xr.open_mfdataset(filename)\n",
    "ORCnoirr = ORCnoirr0.rename({'time_counter':'time'})\n",
    "ORCnoirr.attrs['name'] = 'no_irr'\n",
    "ORCnoirr = ORCnoirr.sel(lon=slice(-13,6),lat=slice(32,49))\n",
    "ORCnoirr"
   ]
  },
  {
   "cell_type": "code",
   "execution_count": null,
   "metadata": {},
   "outputs": [],
   "source": [
    "# filename = '{}/SRF/MO/*history.nc'.format(irr_dir)\n",
    "filename = '{}/SRF/TS_MO_irr*.nc'.format(irr_dir)\n",
    "\n",
    "ORCirr0 = xr.open_mfdataset(filename)\n",
    "ORCirr = ORCirr0.rename({'time_counter':'time'})\n",
    "ORCirr.attrs['name'] = 'irr'\n",
    "ORCirr = ORCirr.sel(lon=slice(-13,6),lat=slice(32,49))\n",
    "\n",
    "# #manually define irrig_deficit as netirrig-irrigation in ORC file\n",
    "# ORCirr['irrig_deficit'] = ORCirr['netirrig'] - ORCirr['irrigation']\n",
    "# #make irrig_deficit units mm/day\n",
    "# ORCirr['irrig_deficit'].attrs['units'] = 'mm/day'\n",
    "# ORCirr['irrig_frac'] = ORCirr['irrigmap_dyn']/ORCirr['Areas']\n",
    "\n",
    "ORCirr0"
   ]
  },
  {
   "cell_type": "markdown",
   "metadata": {},
   "source": [
    "## Period selection"
   ]
  },
  {
   "cell_type": "code",
   "execution_count": 6,
   "metadata": {},
   "outputs": [],
   "source": [
    "#select only JJA\n",
    "ORCnoirr = ORCnoirr.sel(time=ORCnoirr['time.season']=='JJA')\n",
    "ORCirr = ORCirr.sel(time=ORCirr['time.season']=='JJA')\n",
    "# newORC = newORC.sel(time=newORC['time.season']=='JJA')"
   ]
  },
  {
   "cell_type": "markdown",
   "metadata": {},
   "source": [
    "## Masks"
   ]
  },
  {
   "cell_type": "code",
   "execution_count": 7,
   "metadata": {},
   "outputs": [],
   "source": [
    "#create a masks of data points where irrig_frac >5%\n",
    "irr_mask = (ORCirr['irrigmap_dyn']/ORCirr['Areas'])>0.05"
   ]
  },
  {
   "cell_type": "code",
   "execution_count": 8,
   "metadata": {},
   "outputs": [],
   "source": [
    "mORCirr=ORCirr.where(irr_mask)\n",
    "mORCirr.attrs['name'] = 'irr'\n",
    "\n",
    "mORCnoirr=ORCnoirr.where(irr_mask)\n",
    "mORCnoirr.attrs['name'] = 'no_irr'"
   ]
  },
  {
   "cell_type": "code",
   "execution_count": 9,
   "metadata": {},
   "outputs": [],
   "source": [
    "con_mask=ORCnoirr['Contfrac']>0.9\n",
    "ip_mask=polygon_to_mask(ORCnoirr, iberic_peninsula)"
   ]
  },
  {
   "cell_type": "code",
   "execution_count": 10,
   "metadata": {},
   "outputs": [],
   "source": [
    "ip_ORCnoirr=ORCnoirr.where(con_mask).where(ip_mask['mask'])\n",
    "ip_ORCirr=ORCirr.where(con_mask).where(ip_mask['mask'])"
   ]
  },
  {
   "cell_type": "markdown",
   "metadata": {},
   "source": [
    "# Maps"
   ]
  },
  {
   "cell_type": "code",
   "execution_count": null,
   "metadata": {},
   "outputs": [],
   "source": [
    "ds=ORCirr\n",
    "var='irrigation'\n",
    "# plotvar=ds[var].mean(dim='time') * 100\n",
    "# map_plotvar(plotvar, cmap=reds, hex=False, vmax=80, title='Irrigated fraction (%)')\n",
    "vmax=1.5\n",
    "vmin=None\n",
    "title='Irrigation (mm/day, JJA)'\n",
    "map_ave(ds, var, vmin=vmin, vmax=vmax, title=title, cmap=wet, hex=False)"
   ]
  },
  {
   "cell_type": "code",
   "execution_count": null,
   "metadata": {},
   "outputs": [],
   "source": [
    "#diff\n",
    "ds1=ip_ORCirr\n",
    "ds2=ip_ORCnoirr\n",
    "var='rain'\n",
    "vmax=15\n",
    "vmin=-vmax\n",
    "map_diff_ave(ds1, ds2, var, vmin=vmin, vmax=vmax)"
   ]
  },
  {
   "cell_type": "code",
   "execution_count": null,
   "metadata": {},
   "outputs": [],
   "source": [
    "#diff with significance\n",
    "ds1=ip_ORCirr   \n",
    "ds2=ip_ORCnoirr\n",
    "var='streamr'\n",
    "vmax=45\n",
    "vmin=-vmax\n",
    "map_diff_ave(ds1, ds2, var, vmin=vmin, vmax=vmax, sig=True)"
   ]
  },
  {
   "cell_type": "code",
   "execution_count": null,
   "metadata": {},
   "outputs": [],
   "source": [
    "#relative difference\n",
    "ds1=ip_ORCirr\n",
    "ds2=ip_ORCnoirr\n",
    "var='streamr'\n",
    "vmax=50\n",
    "vmin=-50\n",
    "map_rel_diff_ave(ds1, ds2, var, vmin=vmin, vmax=vmax)"
   ]
  },
  {
   "cell_type": "code",
   "execution_count": null,
   "metadata": {},
   "outputs": [],
   "source": [
    "#Display map of var for ds on restricted area\n",
    "var='irrigation'\n",
    "ds = ORCirr\n",
    "latmin=41.3\n",
    "latmax=41.9\n",
    "lonmin= 0.6\n",
    "lonmax= 1.4\n",
    "# latmin=41.\n",
    "# latmax=42.5\n",
    "# lonmin= 0.\n",
    "# lonmax= 1.5\n",
    "\n",
    "#restrict ds to latmin, latmax, lonmin, lonmax\n",
    "ds = ds.where(ds.lat >= latmin, drop=True).where(ds.lat <= latmax, drop=True)\n",
    "ds = ds.where(ds.lon >= lonmin, drop=True).where(ds.lon <= lonmax, drop=True)\n",
    "plotvar = ds[var].mean(dim='time')\n",
    "map_plotvar(plotvar, cmap=wet, vmin=0, vmax=1.4, title='JJA applied irrigation (mm/day)')"
   ]
  },
  {
   "cell_type": "markdown",
   "metadata": {},
   "source": [
    "# Time series"
   ]
  },
  {
   "cell_type": "code",
   "execution_count": null,
   "metadata": {},
   "outputs": [],
   "source": [
    "var='snowf'\n",
    "\n",
    "ds1=ip_ORCnoirr\n",
    "ds2=ip_ORCirr\n",
    "ds_list=[ds1, ds2]\n",
    "# ds_list=[ds2]\n",
    "\n",
    "year_max=2022\n",
    "time_series_ave(ds_list, var, year_max=year_max, title=var)\n",
    "seasonal_cycle_ave(ds_list, var, title=var)"
   ]
  },
  {
   "cell_type": "code",
   "execution_count": null,
   "metadata": {},
   "outputs": [],
   "source": [
    "seasonal_cycle_ave(ds_list, 'precisol', title=var)"
   ]
  },
  {
   "cell_type": "code",
   "execution_count": null,
   "metadata": {},
   "outputs": [],
   "source": [
    "seasonal_cycle_ave(ds_list, 'snow', title=var)"
   ]
  }
 ],
 "metadata": {
  "kernelspec": {
   "display_name": "Python 3.12.2 64-bit",
   "language": "python",
   "name": "python3"
  },
  "language_info": {
   "codemirror_mode": {
    "name": "ipython",
    "version": 3
   },
   "file_extension": ".py",
   "mimetype": "text/x-python",
   "name": "python",
   "nbconvert_exporter": "python",
   "pygments_lexer": "ipython3",
   "version": "3.12.2"
  },
  "vscode": {
   "interpreter": {
    "hash": "9715f220877aa1dd3a10bcc1f3e7aef151ac70eccc8d755f78d50313f1675c6a"
   }
  }
 },
 "nbformat": 4,
 "nbformat_minor": 2
}
