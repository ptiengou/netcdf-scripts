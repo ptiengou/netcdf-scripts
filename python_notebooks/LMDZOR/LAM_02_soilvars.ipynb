{
 "cells": [
  {
   "cell_type": "markdown",
   "metadata": {},
   "source": [
    "# Imports and setting up viz\n",
    "\n",
    "NB : conda env1 on Mac, lam1env on spirit (Python3.12)"
   ]
  },
  {
   "cell_type": "code",
   "execution_count": null,
   "metadata": {},
   "outputs": [],
   "source": [
    "%load_ext autoreload\n",
    "%autoreload 2\n",
    "%matplotlib inline\n",
    "\n",
    "#import personnal tools\n",
    "import sys\n",
    "sys.path.append('../../python_tools/')\n",
    "from tools import *\n",
    "\n",
    "# Set default save format\n",
    "# plt.rcParams['savefig.format'] = 'png'  # Options: 'png', 'pdf', 'svg', etc.\n",
    "# import os\n",
    "# os.chdir(\"figures\")"
   ]
  },
  {
   "cell_type": "code",
   "execution_count": 3,
   "metadata": {},
   "outputs": [],
   "source": [
    "rivers = cfeature.NaturalEarthFeature('physical', 'rivers_lake_centerlines', '10m',edgecolor=(0, 0, 0, 0.3), facecolor='none')"
   ]
  },
  {
   "cell_type": "markdown",
   "metadata": {},
   "source": [
    "# Load files\n",
    "\n",
    "LAM output analysis.\n",
    "\n",
    "Simu irr et simu no-irr."
   ]
  },
  {
   "cell_type": "markdown",
   "metadata": {},
   "source": [
    "## Sims"
   ]
  },
  {
   "cell_type": "code",
   "execution_count": 4,
   "metadata": {},
   "outputs": [],
   "source": [
    "# lon_min=-13\n",
    "# lon_max=6\n",
    "# lat_min=32\n",
    "# lat_max=49\n",
    "\n",
    "lon_min=-10\n",
    "lon_max=4\n",
    "lat_min=34\n",
    "lat_max=46\n",
    "\n",
    "date_min = '2010-01-01'\n",
    "date_max = '2022-12-31'"
   ]
  },
  {
   "cell_type": "code",
   "execution_count": 5,
   "metadata": {},
   "outputs": [],
   "source": [
    "# noirr_dir='../../../JZ_simu_outputs/LAM/LAM_1000_40/noirr_2010_2022'\n",
    "# irr_dir='../../../JZ_simu_outputs/LAM/LAM_1000_40/irr_2010_2022'\n",
    "noirr_dir='../../../JZ_simu_outputs/LAM/LAM_1500_60/noirr'\n",
    "irr_dir='../../../JZ_simu_outputs/LAM/LAM_1500_60/irr'"
   ]
  },
  {
   "cell_type": "code",
   "execution_count": null,
   "metadata": {},
   "outputs": [],
   "source": [
    "#open netcdf files\n",
    "# filename = '{}/*/SRF/MO/*sechiba_history.nc'.format(noirr_dir)\n",
    "filename = '{}/*/SRF/TS_MO/*.nc'.format(noirr_dir)\n",
    "\n",
    "ORCnoirr0 = xr.open_mfdataset(filename)\n",
    "ORCnoirr = ORCnoirr0.rename({'time_counter':'time'})\n",
    "ORCnoirr.attrs['name'] = 'no_irr'\n",
    "ORCnoirr = ORCnoirr.sel(lon=slice(lon_min,lon_max),lat=slice(lat_min,lat_max))\n",
    "ORCnoirr"
   ]
  },
  {
   "cell_type": "code",
   "execution_count": null,
   "metadata": {},
   "outputs": [],
   "source": [
    "# filename = '{}/*/SRF/MO/*history.nc'.format(irr_dir)\n",
    "filename = '{}/*/SRF/TS_MO/*.nc'.format(irr_dir)\n",
    "\n",
    "ORCirr0 = xr.open_mfdataset(filename)\n",
    "ORCirr = ORCirr0.rename({'time_counter':'time'})\n",
    "ORCirr.attrs['name'] = 'irr'\n",
    "ORCirr = ORCirr.sel(lon=slice(lon_min,lon_max),lat=slice(lat_min,lat_max))\n",
    "\n",
    "# #manually define irrig_deficit as netirrig-irrigation in ORC file\n",
    "# ORCirr['irrig_deficit'] = ORCirr['netirrig'] - ORCirr['irrigation']\n",
    "# #make irrig_deficit units mm/day\n",
    "# ORCirr['irrig_deficit'].attrs['units'] = 'mm/day'\n",
    "# ORCirr['irrig_frac'] = ORCirr['irrigmap_dyn']/ORCirr['Areas']\n",
    "\n",
    "ORCirr"
   ]
  },
  {
   "cell_type": "code",
   "execution_count": null,
   "metadata": {},
   "outputs": [],
   "source": [
    "ORCnoirr['irrig_frac'] = ORCirr['irrigmap_dyn']/ORCirr['Areas'] * 100\n",
    "ORCnoirr['irrig_frac'].attrs['units'] = '%'\n",
    "ORCirr['irrig_frac'] = ORCirr['irrigmap_dyn']/ORCirr['Areas'] * 100\n",
    "ORCirr['irrig_frac'].attrs['units'] = '%'"
   ]
  },
  {
   "cell_type": "markdown",
   "metadata": {},
   "source": [
    "## Obs"
   ]
  },
  {
   "cell_type": "markdown",
   "metadata": {},
   "source": [
    "### Irrigation"
   ]
  },
  {
   "cell_type": "code",
   "execution_count": 10,
   "metadata": {},
   "outputs": [],
   "source": [
    "load_Ebro_obs=False"
   ]
  },
  {
   "cell_type": "code",
   "execution_count": 11,
   "metadata": {},
   "outputs": [],
   "source": [
    "if (load_Ebro_obs):\n",
    "    filename = '../../../obs/SM_based_inversion_approach_EBRO_Irrigation.nc'\n",
    "    obsEbro = xr.open_dataset(filename)\n",
    "    obsEbro = obsEbro.rename({'Time':'time'})\n",
    "    obsEbro = obsEbro.rename({'Longitude':'lon'})\n",
    "    obsEbro = obsEbro.rename({'Latitude':'lat'})\n",
    "    obsEbro = obsEbro.rename({'Irrigation':'irrigation'})\n",
    "    #make lon and lat coordinates and not variables\n",
    "    # obsEbro = obsEbro.set_coords(['lon','lat'])\n",
    "\n",
    "    obsEbro = regrid_to_lon_lat(obsEbro)\n",
    "    obsEbro.attrs['name'] = 'obs_Ebro'\n",
    "\n",
    "    #convert to mm/day\n",
    "    obsEbro['irrigation'] = obsEbro['irrigation']/30\n",
    "    obsEbro['irrigation'].attrs['units'] = 'mm/d'\n",
    "    obsEbro['irrigation'].attrs['long_name'] = 'Irrigation'\n",
    "    \n",
    "    #resample obsEbro to monthly values\n",
    "    obsEbro = obsEbro.resample(time='1M').mean()\n",
    "    \n",
    "    obsEbro"
   ]
  },
  {
   "cell_type": "markdown",
   "metadata": {},
   "source": [
    "### GLEAM v4"
   ]
  },
  {
   "cell_type": "code",
   "execution_count": null,
   "metadata": {},
   "outputs": [],
   "source": [
    "filename = '../../../obs/GLEAMv4.1a/SM/SMs*'\n",
    "gleamSMs = xr.open_mfdataset(filename)\n",
    "gleamSMs.attrs['name'] = 'GLEAMv4.1a_SMs'\n",
    "#restrict lon lat\n",
    "gleamSMs = gleamSMs.sel(lon=slice(lon_min,lon_max),lat=slice(lat_max,lat_min))\n",
    "#rename var SM\n",
    "gleamSMs = gleamSMs.rename({'SMs':'SM'})\n",
    "gleamSMs['SM'].attrs['units'] = 'm3/m3'\n",
    "\n",
    "#obtain mrsos and humtot equivalent (mm)\n",
    "gleamSMs['mrsos'] = gleamSMs['SM'] * 0.1 * 1000\n",
    "gleamSMs['mrsos'].attrs['units'] = 'mm'\n",
    "gleamSMs['humtot'] = gleamSMs['SM'] * 2 * 1000\n",
    "gleamSMs['humtot'].attrs['units'] = 'mm'\n",
    "\n",
    "gleamSMs"
   ]
  },
  {
   "cell_type": "code",
   "execution_count": null,
   "metadata": {},
   "outputs": [],
   "source": [
    "filename = '../../../obs/GLEAMv4.1a/SM/SMrz*'\n",
    "gleamSMrz = xr.open_mfdataset(filename)\n",
    "gleamSMrz.attrs['name'] = 'GLEAMv4.1a_SMrz'\n",
    "#restrict lon lat\n",
    "gleamSMrz = gleamSMrz.sel(lon=slice(lon_min,lon_max),lat=slice(lat_max,lat_min))\n",
    "#rename var SM\n",
    "gleamSMrz = gleamSMrz.rename({'SMrz':'SM'})\n",
    "gleamSMrz['SM'].attrs['units'] = 'm3/m3'\n",
    "\n",
    "#obtain mrsos and humtot equivalent (mm)\n",
    "gleamSMrz['mrsos'] = gleamSMrz['SM'] * 0.1 * 1000\n",
    "gleamSMrz['mrsos'].attrs['units'] = 'mm'\n",
    "gleamSMrz['humtot'] = gleamSMrz['SM'] * 2 * 1000\n",
    "gleamSMrz['humtot'].attrs['units'] = 'mm'\n",
    "\n",
    "gleamSMrz"
   ]
  },
  {
   "cell_type": "code",
   "execution_count": null,
   "metadata": {},
   "outputs": [],
   "source": [
    "filename = '../../../obs/GLEAMv4.1a/E/*'\n",
    "gleamE = xr.open_mfdataset(filename)\n",
    "gleamE.attrs['name'] = 'GLEAMv4.1a'\n",
    "#restrict lon lat\n",
    "gleamE = gleamE.sel(lon=slice(lon_min,lon_max),lat=slice(lat_max,lat_min))\n",
    "#rename var SM\n",
    "gleamE['evap']=gleamE['E'] / 31\n",
    "gleamE['evap'].attrs['units'] = 'mm/d'\n",
    "gleamE"
   ]
  },
  {
   "cell_type": "markdown",
   "metadata": {},
   "source": [
    "### ERA5-Land"
   ]
  },
  {
   "cell_type": "code",
   "execution_count": null,
   "metadata": {},
   "outputs": [],
   "source": [
    "filename = '../../../obs/ERA5-Land.nc'\n",
    "eraland = xr.open_dataset(filename)\n",
    "eraland.attrs['name'] = 'ERA5-Land'\n",
    "rename_dict = {'longitude':'lon',\n",
    "               'latitude':'lat',\n",
    "               'valid_time':'time',\n",
    "               'skt':'temp_sol',\n",
    "               'sro':'runoff',\n",
    "               'ro':'mrro',\n",
    "               'ssr':'SW_net',\n",
    "               'str':'LW_net',\n",
    "               'sshf':'fluxsens',\n",
    "               'slhf':'fluxlat',\n",
    "               'tp':'precip',\n",
    "               'src':'fastr'\n",
    "               }\n",
    "eraland = eraland.rename(rename_dict)\n",
    "\n",
    "eraland['mrsos'] = eraland['swvl1']*0.1*1000\n",
    "eraland['mrsos'].attrs['units'] = 'mm'\n",
    "#average variables swl1 to swvl4\n",
    "eraland['lvl1-4_ave'] = (eraland['swvl1'] * 7 + eraland['swvl2'] * 21 + eraland['swvl3'] * 72 + eraland['swvl4'] * 189 )  / 289\n",
    "eraland['humtot'] = eraland['lvl1-4_ave']*2*1000\n",
    "eraland['humtot'].attrs['units'] = 'mm'\n",
    "\n",
    "eraland['evap'] = eraland['fluxlat'] * 0.408 * 0.0864\n",
    "eraland['evap'].attrs['units'] = 'mm/d'\n",
    "\n",
    "eraland"
   ]
  },
  {
   "cell_type": "markdown",
   "metadata": {},
   "source": [
    "### ERA5"
   ]
  },
  {
   "cell_type": "code",
   "execution_count": null,
   "metadata": {},
   "outputs": [],
   "source": [
    "#open ERA5 file\n",
    "# filename = '../../../obs/ERA5_eval_2010_2022.nc'\n",
    "filename = '../../../obs/ERA5_large_eval.nc'\n",
    "\n",
    "era = xr.open_mfdataset(filename)\n",
    "era.attrs['name'] = 'ERA5'\n",
    "#define or edit vars\n",
    "#name ERA5 vars like in LMDZOR outputs\n",
    "dict =  {\n",
    "        'longitude':'lon',\n",
    "        'latitude':'lat',\n",
    "        'e':'evap',\n",
    "        'ro':'totrunoff',\n",
    "        'tp':'precip',\n",
    "        'u10':'u10m',\n",
    "        'v10':'v10m',\n",
    "        'p71.162' : 'uq',\n",
    "        'p72.162' : 'vq',\n",
    "        'sshf' : 'fluxsens',\n",
    "        'slhf' : 'fluxlat',\n",
    "        'si10' : 'sfcWind',\n",
    "        'ssrd' : 'SWdnSFC',\n",
    "        'strd' : 'LWdnSFC',\n",
    "        'ssr' : 'SWnetSFC',\n",
    "        'str' : 'LWnetSFC',\n",
    "        }\n",
    "era = era.rename(dict)\n",
    "era=era.sel(time=slice(date_min, date_max))\n",
    "era = era.sel(lon=slice(lon_min,lon_max),lat=slice(lat_max, lat_min))\n",
    "\n",
    "#make evap positive in era\n",
    "era['evap'] = -era['evap'] * 1000\n",
    "era['evap'].attrs['units'] = 'mm/d'\n",
    "era['precip'] = era['precip']*1000\n",
    "era['precip'].attrs['units'] = 'mm/d'\n",
    "\n",
    "era\n"
   ]
  },
  {
   "cell_type": "markdown",
   "metadata": {},
   "source": [
    "### CCI"
   ]
  },
  {
   "cell_type": "code",
   "execution_count": null,
   "metadata": {},
   "outputs": [],
   "source": [
    "filename = '../../../obs/CCI-SM/C3S*.nc'\n",
    "cci = xr.open_mfdataset(filename)\n",
    "cci.attrs['name'] = 'CCI'\n",
    "\n",
    "cci = cci.sel(lon=slice(lon_min,lon_max),lat=slice(lat_max,lat_min))\n",
    "\n",
    "cci['humtot'] = cci['sm'] * 2 * 1000\n",
    "cci['humtot'].attrs['units'] = 'mm'\n",
    "cci['mrsos'] = cci['sm'] * 0.1 * 1000\n",
    "cci['mrsos'].attrs['units'] = 'mm'\n",
    "\n",
    "cci"
   ]
  },
  {
   "cell_type": "markdown",
   "metadata": {},
   "source": [
    "## Period selection"
   ]
  },
  {
   "cell_type": "code",
   "execution_count": 58,
   "metadata": {},
   "outputs": [],
   "source": [
    "#select only JJA\n",
    "# ORCnoirr = ORCnoirr.sel(time=ORCnoirr['time.season']=='JJA')\n",
    "# ORCirr = ORCirr.sel(time=ORCirr['time.season']=='JJA')"
   ]
  },
  {
   "cell_type": "code",
   "execution_count": 59,
   "metadata": {},
   "outputs": [],
   "source": [
    "if (load_Ebro_obs):\n",
    "    #match the period of Ebro data\n",
    "    date_min='2016-01-01'\n",
    "    date_max='2020-07-31'\n",
    "\n",
    "    ORCnoirr = ORCnoirr.sel(time=slice(date_min,date_max))\n",
    "    ORCirr = ORCirr.sel(time=slice(date_min,date_max))\n",
    "    obsEbro = obsEbro.sel(time=slice(date_min,date_max))"
   ]
  },
  {
   "cell_type": "markdown",
   "metadata": {},
   "source": [
    "## Interpolation and masks"
   ]
  },
  {
   "cell_type": "code",
   "execution_count": 61,
   "metadata": {},
   "outputs": [],
   "source": [
    "#create a masks of data points where irrig_frac >5%\n",
    "irr_mask = (ORCirr['irrigmap_dyn']/ORCirr['Areas'])>0.05\n",
    "con_mask=ORCnoirr['Contfrac']>0.9\n",
    "ip_mask=polygon_to_mask(ORCnoirr, iberian_peninsula)"
   ]
  },
  {
   "cell_type": "code",
   "execution_count": 62,
   "metadata": {},
   "outputs": [],
   "source": [
    "#iberian peninsula ds\n",
    "ip_ORCnoirr=ORCnoirr.where(con_mask).where(ip_mask['mask'])\n",
    "ip_ORCirr=ORCirr.where(con_mask).where(ip_mask['mask'])"
   ]
  },
  {
   "cell_type": "code",
   "execution_count": 63,
   "metadata": {},
   "outputs": [],
   "source": [
    "#mask on irrigated areas only\n",
    "irr_ORCirr=ORCirr.where(irr_mask)\n",
    "irr_ORCnoirr=ORCnoirr.where(irr_mask)\n",
    "\n",
    "ip_irr_ORCirr=ip_ORCirr.where(irr_mask)\n",
    "ip_irr_ORCnoirr=ip_ORCnoirr.where(irr_mask)"
   ]
  },
  {
   "cell_type": "code",
   "execution_count": 64,
   "metadata": {},
   "outputs": [],
   "source": [
    "if (load_Ebro_obs):\n",
    "    ebro_mask = obsEbro['irrigation']>0\n",
    "    ORCirr_iObsEbro = ORCirr.interp_like(obsEbro)\n",
    "    ebro_ORCirr_iObsEbro = ORCirr_iObsEbro.where(ebro_mask)\n",
    "    obsEbro_iORC = obsEbro.interp_like(ORCirr)\n",
    "    ebro_mask_iORCirr = obsEbro_iORC['irrigation']>0\n",
    "    ebro_ORCirr = ORCirr.where(ebro_mask_iORCirr)"
   ]
  },
  {
   "cell_type": "code",
   "execution_count": 65,
   "metadata": {},
   "outputs": [],
   "source": [
    "#interpolate gleam to sim grid\n",
    "gleamSMs_iORC = gleamSMs.interp_like(ORCnoirr)\n",
    "gleamSMrz_iORC = gleamSMrz.interp_like(ORCnoirr)\n",
    "gleamE_iORC = gleamE.interp_like(ORCnoirr)\n",
    "#mask on Iberian Peninsula\n",
    "ip_gleamSMs_iORC = gleamSMs_iORC.where(ip_mask['mask'])\n",
    "ip_gleamSMrz_iORC = gleamSMrz_iORC.where(ip_mask['mask'])\n",
    "ip_gleamE_iORC = gleamE_iORC.where(ip_mask['mask'])\n",
    "#mask on irrigated areas only\n",
    "ip_irr_gleamSMs_iORC = ip_gleamSMs_iORC.where(irr_mask)\n",
    "ip_irr_gleamSMrz_iORC = ip_gleamSMrz_iORC.where(irr_mask)\n",
    "ip_irr_gleamE_iORC = ip_gleamE_iORC.where(irr_mask)"
   ]
  },
  {
   "cell_type": "code",
   "execution_count": 66,
   "metadata": {},
   "outputs": [],
   "source": [
    "#interpolate CCI to sim grid\n",
    "cci_iORC = cci.interp_like(ORCnoirr)\n",
    "#mask on Iberian Peninsula\n",
    "ip_cci_iORC = cci_iORC.where(ip_mask['mask'])"
   ]
  },
  {
   "cell_type": "code",
   "execution_count": 67,
   "metadata": {},
   "outputs": [],
   "source": [
    "#interpolate eraland to sim grid\n",
    "eraland_iORC = eraland.interp_like(ORCnoirr)\n",
    "#mask on Iberian Peninsula\n",
    "ip_eraland_iORC = eraland_iORC.where(ip_mask['mask'])"
   ]
  },
  {
   "cell_type": "code",
   "execution_count": 68,
   "metadata": {},
   "outputs": [],
   "source": [
    "#interpolate era to sim grid and apply ip and irr masks\n",
    "era_iORC = era.interp_like(ORCnoirr)\n",
    "#mask on Iberian Peninsula\n",
    "ip_era_iORC = era_iORC.where(ip_mask['mask'])\n",
    "#mask on irrigated areas only\n",
    "ip_irr_era_iORC = ip_era_iORC.where(irr_mask)"
   ]
  },
  {
   "cell_type": "code",
   "execution_count": 69,
   "metadata": {},
   "outputs": [],
   "source": [
    "if not (load_Ebro_obs):\n",
    "    ebro_mask = polygon_to_mask(ORCnoirr, ebro)\n",
    "    ebro_ORCirr = ip_ORCirr.where(ebro_mask['mask'])\n",
    "    ebro_ORCnoirr = ip_ORCnoirr.where(ebro_mask['mask'])\n",
    "    ebro_gleamE_iORC = ip_gleamE_iORC.where(ebro_mask['mask'])\n",
    "    ebro_era_iORC = ip_era_iORC.where(ebro_mask['mask'])\n",
    "    ebro_irr_ORCirr = ebro_ORCirr.where(irr_mask)\n",
    "    ebro_irr_ORCnoirr = ebro_ORCnoirr.where(irr_mask)\n",
    "    ebro_irr_gleamE_iORC = ebro_gleamE_iORC.where(irr_mask)\n",
    "    ebro_irr_era_iORC = ebro_era_iORC.where(irr_mask)"
   ]
  },
  {
   "cell_type": "markdown",
   "metadata": {},
   "source": [
    "## Diff datasets"
   ]
  },
  {
   "cell_type": "code",
   "execution_count": 70,
   "metadata": {},
   "outputs": [],
   "source": [
    "#irr - noirr\n",
    "sim_diff = ORCirr - ORCnoirr\n",
    "sim_diff.attrs['name'] = 'irr - noirr'\n",
    "ip_sim_diff = ip_ORCirr - ip_ORCnoirr\n",
    "ip_sim_diff.attrs['name'] = 'irr - noirr'\n",
    "\n",
    "#mean\n",
    "sim_diff_mean = sim_diff.mean(dim='time')\n",
    "sim_diff_mean.attrs['name'] = 'irr - noirr mean'\n",
    "ip_sim_diff_mean = ip_sim_diff.mean(dim='time')\n",
    "ip_sim_diff_mean.attrs['name'] = 'irr - noirr mean'"
   ]
  },
  {
   "cell_type": "markdown",
   "metadata": {},
   "source": [
    "# Maps"
   ]
  },
  {
   "cell_type": "code",
   "execution_count": null,
   "metadata": {},
   "outputs": [],
   "source": [
    "ds=ip_ORCirr\n",
    "var='snowf'\n",
    "vmin = 0\n",
    "vmax = 0.8\n",
    "vmin, vmax = None, None\n",
    "# vmax=None\n",
    "\n",
    "title='Irrigation (for grid cells with irrig_frac >0.1%, +IP mask, mm/d)'\n",
    "title=None\n",
    "\n",
    "map_ave(ds, var, vmin=vmin, vmax=vmax, title=title, cmap=wet, poly=None)"
   ]
  },
  {
   "cell_type": "code",
   "execution_count": null,
   "metadata": {},
   "outputs": [],
   "source": [
    "#diff\n",
    "ds1=ORCirr\n",
    "ds2=ORCnoirr\n",
    "var='evap'\n",
    "vmin=-40\n",
    "vmax= 40\n",
    "vmin, vmax=None, None\n",
    "# title='Sensible heat flux difference (irr-no_irr, JJA, W/m²)'\n",
    "title=None\n",
    "map_diff_ave(ds1, ds2, var,cmap=emb_neutral, title=title, vmin=vmin, vmax=vmax)"
   ]
  },
  {
   "cell_type": "code",
   "execution_count": null,
   "metadata": {},
   "outputs": [],
   "source": [
    "#diff with significance\n",
    "ds1=ORCirr   \n",
    "ds2=ORCnoirr\n",
    "var='evap'\n",
    "vmax= 40\n",
    "vmin=-40\n",
    "vmin, vmax=None, None\n",
    "title='Sensible heat flux difference (irr-no_irr, JJA, W/m²)'\n",
    "title=None\n",
    "map_diff_ave(ds1, ds2, var, title=title, vmin=vmin, vmax=vmax, sig=True)"
   ]
  },
  {
   "cell_type": "code",
   "execution_count": null,
   "metadata": {},
   "outputs": [],
   "source": [
    "#relative difference\n",
    "ds1=ip_ORCirr\n",
    "ds2=ip_ORCnoirr\n",
    "var='slowr'\n",
    "vmax= 100\n",
    "vmin=-100\n",
    "map_rel_diff_ave(ds1, ds2, var,cmap=emb_neutral, vmin=vmin, vmax=vmax)"
   ]
  },
  {
   "cell_type": "code",
   "execution_count": null,
   "metadata": {},
   "outputs": [],
   "source": [
    "#Display map of var for ds on restricted area\n",
    "var='soiltile'\n",
    "ds = ebro_ORCirr\n",
    "latmin=39.75\n",
    "latmax=44.1\n",
    "lonmin= -4.5\n",
    "lonmax= 2.5\n",
    "# latmin=41.\n",
    "# latmax=42.5\n",
    "# lonmin= 0.\n",
    "# lonmax= 1.5\n",
    "\n",
    "#restrict ds to latmin, latmax, lonmin, lonmax\n",
    "ds = ds.where(ds.lat >= latmin, drop=True).where(ds.lat <= latmax, drop=True)\n",
    "ds = ds.where(ds.lon >= lonmin, drop=True).where(ds.lon <= lonmax, drop=True)\n",
    "plotvar = ds[var].mean(dim='time')\n",
    "map_plotvar(plotvar, cmap=wet, vmin=0, vmax=0.8, title='Applied irrigation (mm/day)')"
   ]
  },
  {
   "cell_type": "code",
   "execution_count": null,
   "metadata": {},
   "outputs": [],
   "source": [
    "#Display map of var for ds on restricted area\n",
    "var='irrigation'\n",
    "ds1 = ORCirr\n",
    "ds2 = obsEbro_iORC\n",
    "latmin=39.75\n",
    "latmax=44.1\n",
    "lonmin= -4.5\n",
    "lonmax= 2.5\n",
    "# latmin=41.\n",
    "# latmax=42.5\n",
    "# lonmin= 0.\n",
    "# lonmax= 1.5\n",
    "\n",
    "#restrict ds to latmin, latmax, lonmin, lonmax\n",
    "ds1 =ds1.where(ds1.lat >= latmin, drop=True).where(ds1.lat <= latmax, drop=True)\n",
    "ds1 =ds1.where(ds1.lon >= lonmin, drop=True).where(ds1.lon <= lonmax, drop=True)\n",
    "ds2 =ds2.where(ds2.lat >= latmin, drop=True).where(ds2.lat <= latmax, drop=True)\n",
    "ds2 =ds2.where(ds2.lon >= lonmin, drop=True).where(ds2.lon <= lonmax, drop=True)\n",
    "\n",
    "vmin=-0.5\n",
    "vmax= 0.5\n",
    "# vmin, vmax = None, None\n",
    "map_diff_ave(ds1, ds2, var, vmin=vmin, vmax=vmax)"
   ]
  },
  {
   "cell_type": "code",
   "execution_count": null,
   "metadata": {},
   "outputs": [],
   "source": [
    "ORCirr['soiltile']"
   ]
  },
  {
   "cell_type": "code",
   "execution_count": null,
   "metadata": {},
   "outputs": [],
   "source": [
    "#Display map of 3D var over one dimension\n",
    "var='soiltile'\n",
    "ds = ORCirr\n",
    "dim_nb=0\n",
    "title=var + str(dim_nb+1)\n",
    "plotvar = ds[var][:,dim_nb,:,:].mean(dim='time')\n",
    "map_plotvar(plotvar, cmap=reds, vmin=0, vmax=1, title=title)"
   ]
  },
  {
   "cell_type": "markdown",
   "metadata": {},
   "source": [
    "# Time series"
   ]
  },
  {
   "cell_type": "code",
   "execution_count": null,
   "metadata": {},
   "outputs": [],
   "source": [
    "var='irrigation'\n",
    "\n",
    "ds1=ip_ORCnoirr\n",
    "ds2=ip_ORCirr\n",
    "\n",
    "ds1=ebro_ORCirr\n",
    "ds2=obsEbro_iORC\n",
    "\n",
    "\n",
    "# ds1 = ebro_irr_ORCnoirr\n",
    "# ds2 = ebro_irr_ORCirr\n",
    "# ds3 = ebro_irr_gleamE_iORC\n",
    "# ds4 = ebro_irr_era_iORC\n",
    "\n",
    "# ds_list = [ds1, ds2, ds3, ds4]\n",
    "ds_list=[ds1, ds2]\n",
    "\n",
    "year_min = 2016\n",
    "year_max = 2022\n",
    "title='Ebro irrigated areas average evaporation (mm/day)'\n",
    "title='Average irrigation requirement (irrigated grid cells only, mm/day)'\n",
    "title=var + ' (irrigated grid cells only)'\n",
    "tilte=None\n",
    "time_series_ave(ds_list, var, year_min=year_min, year_max=year_max, title=var)\n",
    "seasonal_cycle_ave(ds_list, var, year_min=year_min, year_max=year_max, title=title)"
   ]
  },
  {
   "cell_type": "markdown",
   "metadata": {},
   "source": [
    "# Scatter plots"
   ]
  },
  {
   "cell_type": "code",
   "execution_count": null,
   "metadata": {},
   "outputs": [],
   "source": [
    "var1='irrigation'\n",
    "ds1=ip_ORCirr\n",
    "mask=irr_mask\n",
    "ds1=ds1.where(mask)\n",
    "\n",
    "var2='rain'\n",
    "ds2=ip_sim_diff\n",
    "ds2=ds2.where(mask)\n",
    "\n",
    "scatter_temporal_mean(ds1, ds2, var1, var2, reg=True)"
   ]
  }
 ],
 "metadata": {
  "kernelspec": {
   "display_name": "Python 3.12.2 64-bit",
   "language": "python",
   "name": "python3"
  },
  "language_info": {
   "codemirror_mode": {
    "name": "ipython",
    "version": 3
   },
   "file_extension": ".py",
   "mimetype": "text/x-python",
   "name": "python",
   "nbconvert_exporter": "python",
   "pygments_lexer": "ipython3",
   "version": "3.12.2"
  },
  "vscode": {
   "interpreter": {
    "hash": "9715f220877aa1dd3a10bcc1f3e7aef151ac70eccc8d755f78d50313f1675c6a"
   }
  }
 },
 "nbformat": 4,
 "nbformat_minor": 2
}
