{
 "cells": [
  {
   "cell_type": "markdown",
   "metadata": {},
   "source": [
    "# Imports and setting up viz\n",
    "\n",
    "NB : conda env1 on PC, lam1env on spirit (Python3.12)"
   ]
  },
  {
   "cell_type": "code",
   "execution_count": null,
   "metadata": {},
   "outputs": [],
   "source": [
    "%load_ext autoreload\n",
    "%autoreload 2\n",
    "%matplotlib inline\n",
    "\n",
    "#import personnal tools\n",
    "import sys\n",
    "sys.path.append('../../python_tools/')\n",
    "from tools import *"
   ]
  },
  {
   "cell_type": "code",
   "execution_count": null,
   "metadata": {},
   "outputs": [],
   "source": [
    "rivers = cfeature.NaturalEarthFeature('physical', 'rivers_lake_centerlines', '10m',edgecolor=(0, 0, 0, 0.3), facecolor='none')"
   ]
  },
  {
   "cell_type": "markdown",
   "metadata": {},
   "source": [
    "# Load and edit files\n",
    "\n",
    "LAM output analysis.\n",
    "\n",
    "simu 1500km et simu 1000km."
   ]
  },
  {
   "cell_type": "markdown",
   "metadata": {},
   "source": [
    "## Sims"
   ]
  },
  {
   "cell_type": "code",
   "execution_count": null,
   "metadata": {},
   "outputs": [],
   "source": [
    "largeLAM_dir='../../../JZ_simu_outputs/LAM/LAM_1500km'\n",
    "smallLAM_dir='../../../JZ_simu_outputs/LAM/noirr_2010_2022'"
   ]
  },
  {
   "cell_type": "code",
   "execution_count": null,
   "metadata": {},
   "outputs": [],
   "source": [
    "lon_min=-18\n",
    "lon_max=11\n",
    "lat_min=29\n",
    "lat_max=52\n",
    "date_min = '2010-01-01'\n",
    "date_max = '2012-12-31'"
   ]
  },
  {
   "cell_type": "code",
   "execution_count": null,
   "metadata": {},
   "outputs": [],
   "source": [
    "#sim\n",
    "# filename = '{}/ATM/TS*.nc'.format(largeLAM_dir)\n",
    "filename = '{}/ATM/MO/*.nc'.format(largeLAM_dir)\n",
    "\n",
    "sim0 = xr.open_mfdataset(filename)\n",
    "sim0.attrs['name'] = '1500km'\n",
    "sim = sim0.rename({'time_counter':'time'})\n",
    "sim = sim.sel(lon=slice(lon_min,lon_max),lat=slice(lat_min,lat_max))\n",
    "sim = sim.sel(time=slice(date_min, date_max))\n",
    "\n",
    "sim['evap'] = sim['evap'] *3600 * 24\n",
    "sim['evap'].attrs['units'] = 'mm/d'\n",
    "\n",
    "sim['precip'] = sim['precip'] *3600 * 24\n",
    "sim['precip'].attrs['units'] = 'mm/d'\n",
    "\n",
    "sim['fluxsens']= -sim['sens']\n",
    "\n",
    "sim['netrad'] = sim['LWdnSFC'] - sim['LWupSFC'] + sim['SWdnSFC'] - sim['SWupSFC']\n",
    "sim['netrad'].attrs['units'] = 'W/m2'\n",
    "\n",
    "sim['P - E'] = sim['precip'] - sim['evap']\n",
    "sim['P - E'].attrs['units'] = 'mm/d'\n",
    "\n",
    "sim"
   ]
  },
  {
   "cell_type": "code",
   "execution_count": null,
   "metadata": {},
   "outputs": [],
   "source": [
    "#smaller LAM (original)\n",
    "filename = '{}/ATM/TS*.nc'.format(smallLAM_dir)\n",
    "# filename = '{}/ATM/MO/*.nc'.format(smallLAM_dir)\n",
    "\n",
    "sim0small = xr.open_mfdataset(filename)\n",
    "sim0small.attrs['name'] = '1000km'\n",
    "small = sim0small.rename({'time_counter':'time'})\n",
    "small = small.sel(lon=slice(lon_min,lon_max),lat=slice(lat_min,lat_max))\n",
    "small = small.sel(time=slice(date_min, date_max))\n",
    "\n",
    "small['evap'] = small['evap'] *3600 * 24\n",
    "small['evap'].attrs['units'] = 'mm/d'\n",
    "\n",
    "small['precip'] = small['precip'] *3600 * 24\n",
    "small['precip'].attrs['units'] = 'mm/d'\n",
    "\n",
    "small['fluxsens']= -small['sens']\n",
    "\n",
    "small['netrad'] = small['LWdnSFC'] - small['LWupSFC'] + small['SWdnSFC'] - small['SWupSFC']\n",
    "small['netrad'].attrs['units'] = 'W/m2'\n",
    "\n",
    "small['P - E'] = small['precip'] - small['evap']\n",
    "small['P - E'].attrs['units'] = 'mm/d'\n",
    "\n",
    "small\n"
   ]
  },
  {
   "cell_type": "markdown",
   "metadata": {},
   "source": [
    "## Obs"
   ]
  },
  {
   "cell_type": "code",
   "execution_count": null,
   "metadata": {},
   "outputs": [],
   "source": [
    "#open ERA5 file\n",
    "filename = '../../../obs/ERA5_eval_2010_2022.nc'\n",
    "era = xr.open_mfdataset(filename)\n",
    "era.attrs['name'] = 'ERA5'\n",
    "#define or edit vars\n",
    "#name ERA5 vars like in LMDZOR outputs\n",
    "dict =  {\n",
    "        'longitude':'lon',\n",
    "        'latitude':'lat',\n",
    "        'e':'evap',\n",
    "        'ro':'totrunoff',\n",
    "        'tp':'precip'\n",
    "        }\n",
    "era = era.rename(dict)\n",
    "era=era.sel(time=slice(date_min, date_max))\n",
    "\n",
    "#make evap positive in era\n",
    "era['evap'] = -era['evap'] * 1000\n",
    "era['evap'].attrs['units'] = 'mm/d'\n",
    "era['precip'] = era['precip']*1000\n",
    "era['precip'].attrs['units'] = 'mm/d'\n",
    "era['cldt'] = era['tcc']*100\n",
    "era['cldt'].attrs['units'] = '%'\n",
    "\n",
    "era['P - E'] = era['precip'] - era['evap']\n",
    "era['P - E'].attrs['units'] = 'mm/d'\n",
    "\n",
    "era\n"
   ]
  },
  {
   "cell_type": "code",
   "execution_count": null,
   "metadata": {},
   "outputs": [],
   "source": [
    "#gleam\n",
    "filename='../../../obs/evap/E_1980-2022_GLEAM_v3.8a_MO.nc'\n",
    "gleam0=xr.open_dataset(filename)\n",
    "gleam0.attrs['name']='GLEAM'\n",
    "gleam = gleam0.sel(lon=slice(lon_min,lon_max),lat=slice(lat_max,lat_min))\n",
    "#adapt period\n",
    "gleam=gleam.sel(time=slice(date_min, date_max))\n",
    "#name gleam vars like in LMDZOR outputs\n",
    "dict =  {\n",
    "        'E':'evap'\n",
    "        }\n",
    "gleam = gleam.rename(dict)\n",
    "#convert mm/month to mm/day\n",
    "gleam['evap']=gleam['evap']/30\n",
    "gleam['evap'].attrs['units']='mm/d'\n",
    "gleam"
   ]
  },
  {
   "cell_type": "code",
   "execution_count": null,
   "metadata": {},
   "outputs": [],
   "source": [
    "#FluxCom\n",
    "filename='../../..//obs/FluxCom/ensemble_rs-_meteo_ALL/monthly/*.RS_METEO.EBC-*.MLM-ALL.METEO-ALL.720_360.monthly.*.nc'\n",
    "fluxcom0=xr.open_mfdataset(filename)\n",
    "fluxcom=fluxcom0.sel(lon=slice(lon_min,lon_max+0.25),lat=slice(lat_max,lat_min))\n",
    "fluxcom=fluxcom.sel(time=slice(date_min, date_max))\n",
    "\n",
    "fluxcom.attrs[\"name\"]='FluxCom'\n",
    "\n",
    "fluxcom['evap'] = fluxcom['LE'] * 0.408 # To convert from MJ/m2/d to mm/d\n",
    "fluxcom['evap'].attrs['units'] = 'mm/d'\n",
    "\n",
    "fluxcom['fluxlat'] = fluxcom['LE'] / 0.0864 # To convert from MJ/m2/d to W/m2\n",
    "fluxcom['fluxlat'].attrs['units'] = 'W/m²'\n",
    "\n",
    "fluxcom['fluxsens'] = fluxcom['H'] / 0.0864 # To convert from MJ/m2/d to W/m2\n",
    "fluxcom['fluxsens'].attrs['units'] = 'W/m²'\n",
    "\n",
    "fluxcom['netrad'] = fluxcom['Rn'] / 0.0864 # To convert from MJ/m2/d to W/m2\n",
    "fluxcom['netrad'].attrs['units'] = 'W/m²'\n",
    "fluxcom"
   ]
  },
  {
   "cell_type": "code",
   "execution_count": null,
   "metadata": {},
   "outputs": [],
   "source": [
    "#gpcc\n",
    "filename='../../../obs/precips/precip.mon.total.0.25x0.25.v2020.nc'\n",
    "gpcc0=xr.open_mfdataset(filename)\n",
    "gpcc0.attrs['name'] = 'GPCC'\n",
    "gpcc=gpcc0.sel(time=slice(date_min, date_max))\n",
    "gpcc['lon'] = ((gpcc['lon'] + 180) % 360) - 180\n",
    "gpcc1 = gpcc.sortby('lon')\n",
    "\n",
    "# gpcc=gpcc.sel(lon=slice(lon_min,lon_max+0.25),lat=slice(lat_min,lat_max))\n",
    "gpcc=gpcc1.sel(lon=slice(lon_min,lon_max+0.25),lat=slice(lat_max,lat_min))\n",
    "\n",
    "# gpcc1=gpcc.sel(lon=slice(347,360),lat=slice(lat_max,lat_min))\n",
    "# gpcc2=gpcc.sel(lon=slice(0,lon_max+0.25),lat=slice(lat_max,lat_min))\n",
    "# gpcc=xr.combine_by_coords([gpcc1, gpcc2])\n",
    "# gpcc = gpcc.where(gpcc['lon'] < lon_max+0.25, drop=True)\n",
    "\n",
    "# gpcc['lon']=gpcc['lon']-180.0\n",
    "# gpcc=gpcc.sel(lon=slice(lon_min,lon_max+0.25))\n",
    "\n",
    "gpcc['precip'] = gpcc['precip'] / 30 #convert to mm/d\n",
    "gpcc['precip'].attrs['units'] = 'mm/d'\n",
    "gpcc"
   ]
  },
  {
   "cell_type": "code",
   "execution_count": null,
   "metadata": {},
   "outputs": [],
   "source": [
    "#open tqruv file\n",
    "filename='../../../obs/TQRUV_850_2010_2022_monthly.nc'\n",
    "tqruv = xr.open_dataset(filename)\n",
    "tqruv.attrs['name'] = 'ERA5'\n",
    "tqruv = tqruv.sel(longitude=slice(lon_min,lon_max),latitude=slice(lat_max,lat_min))\n",
    "tqruv = tqruv.sel(time=slice(date_min, date_max))\n",
    "#rename longitude and latitude to lon and lat\n",
    "tqruv = tqruv.rename({'longitude':'lon','latitude':'lat'})\n",
    "\n",
    "#rename all variables to add 850 in name\n",
    "tqruv['u850'] = tqruv['u']\n",
    "tqruv['v850'] = tqruv['v']\n",
    "tqruv['q850'] = tqruv['q']\n",
    "tqruv['t850'] = tqruv['t']\n",
    "tqruv['r850'] = tqruv['r']\n",
    "tqruv"
   ]
  },
  {
   "cell_type": "markdown",
   "metadata": {},
   "source": [
    "# Masking, interpolation"
   ]
  },
  {
   "cell_type": "code",
   "execution_count": null,
   "metadata": {},
   "outputs": [],
   "source": [
    "# Select months\n",
    "# months=[7]\n",
    "\n",
    "# orc = orc.sel(time=orc['time.month'].isin(months))\n",
    "# orcirr = orcirr.sel(time=orcirr['time.month'].isin(months))\n",
    "\n",
    "# sim = sim.sel(time=sim['time.month'].isin(months))\n",
    "# small = small.sel(time=small['time.month'].isin(months))\n",
    "\n",
    "# era = era.sel(time=era['time.month'].isin(months))\n",
    "# fluxcom=fluxcom.sel(time=fluxcom['time.month'].isin(months))"
   ]
  },
  {
   "cell_type": "code",
   "execution_count": null,
   "metadata": {},
   "outputs": [],
   "source": [
    "#continental fraction mask (LMDZ outputs)\n",
    "con_mask=sim['contfracATM']>0.9\n",
    "\n",
    "#create a masks of data points where irrig_frac >5%\n",
    "# irr_mask = (orcirr['irrigmap_dyn']/orcirr['Areas'])>0.05\n",
    "irr_mask = con_mask\n",
    "\n",
    "ip_mask=polygon_to_mask(sim, iberic_peninsula)\n",
    "# ip_mask_orc=polygon_to_mask(orc, iberic_peninsula)"
   ]
  },
  {
   "cell_type": "code",
   "execution_count": null,
   "metadata": {},
   "outputs": [],
   "source": [
    "small_sim=small.interp_like(sim)"
   ]
  },
  {
   "cell_type": "code",
   "execution_count": null,
   "metadata": {},
   "outputs": [],
   "source": [
    "cont_sim=sim.where(con_mask)\n",
    "cont_small=small_sim.where(con_mask)\n",
    "\n",
    "ip_sim = sim.where(ip_mask['mask'], drop=False).where(con_mask)\n",
    "ip_small = small_sim.where(ip_mask['mask'], drop=False).where(con_mask)\n",
    "\n",
    "# ip_orc=orc.where(ip_mask_orc['mask'], drop=False)"
   ]
  },
  {
   "cell_type": "code",
   "execution_count": null,
   "metadata": {},
   "outputs": [],
   "source": [
    "sim_era = sim.interp_like(era)\n",
    "sim_gpcc = sim.interp_like(gpcc)\n",
    "sim_gleam = sim.interp_like(gleam)\n",
    "sim_fluxcom = sim.interp_like(fluxcom)\n",
    "sim_tqruv = sim.interp_like(tqruv)\n",
    "\n",
    "small_era = small.interp_like(era)\n",
    "small_gpcc = small.interp_like(gpcc)\n",
    "small_gleam = small.interp_like(gleam)\n",
    "small_fluxcom = small.interp_like(fluxcom)\n",
    "small_tqruv = small.interp_like(tqruv)\n",
    "\n",
    "ip_sim_era = ip_sim.interp_like(era)\n",
    "ip_sim_gpcc = ip_sim.interp_like(gpcc)\n",
    "ip_sim_gleam = ip_sim.interp_like(gleam)\n",
    "ip_sim_fluxcom = ip_sim.interp_like(fluxcom)\n",
    "ip_sim_tqruv = ip_sim.interp_like(tqruv)\n",
    "\n",
    "ip_small_era = ip_small.interp_like(era)\n",
    "ip_small_gpcc = ip_small.interp_like(gpcc)\n",
    "ip_small_gleam = ip_small.interp_like(gleam)\n",
    "ip_small_fluxcom = ip_small.interp_like(fluxcom)\n",
    "ip_small_tqruv = ip_small.interp_like(tqruv)"
   ]
  },
  {
   "cell_type": "code",
   "execution_count": null,
   "metadata": {},
   "outputs": [],
   "source": [
    "# irrorc=orc.where(irr_mask)\n",
    "# irrorcirr=orcirr.where(irr_mask)"
   ]
  },
  {
   "cell_type": "code",
   "execution_count": null,
   "metadata": {},
   "outputs": [],
   "source": [
    "# era\n",
    "int_era=era.interp_like(sim)\n",
    "cont_era=int_era.where(con_mask)\n",
    "ip_era = cont_era.where(ip_mask['mask'], drop=False)\n",
    "# orc_era=era.interp_like(orc)"
   ]
  },
  {
   "cell_type": "code",
   "execution_count": null,
   "metadata": {},
   "outputs": [],
   "source": [
    "#gleam\n",
    "int_gleam=gleam.interp_like(sim)\n",
    "cont_gleam=gleam.interp_like(sim).where(con_mask)\n",
    "ip_gleam = cont_gleam.where(ip_mask['mask'], drop=False)\n",
    "# irr_era=era.interp_like(orc).where(irr_mask)\n",
    "# irr_gleam=gleam.interp_like(orc).where(irr_mask)"
   ]
  },
  {
   "cell_type": "code",
   "execution_count": null,
   "metadata": {},
   "outputs": [],
   "source": [
    "#fluxcom\n",
    "int_fluxcom=fluxcom.interp_like(sim)\n",
    "cont_fluxcom=fluxcom.interp_like(sim).where(con_mask)\n",
    "ip_fluxcom = cont_fluxcom.where(ip_mask['mask'], drop=False)\n",
    "# orc_fluxcom=fluxcom.interp_like(orc)"
   ]
  },
  {
   "cell_type": "code",
   "execution_count": null,
   "metadata": {},
   "outputs": [],
   "source": [
    "#gpcc\n",
    "int_gpcc=gpcc.interp_like(sim)\n",
    "cont_gpcc=gpcc.interp_like(sim).where(con_mask)\n",
    "ip_gpcc = cont_gpcc.where(ip_mask['mask'], drop=False)"
   ]
  },
  {
   "cell_type": "code",
   "execution_count": null,
   "metadata": {},
   "outputs": [],
   "source": [
    "int_tqruv = tqruv.interp_like(sim)\n",
    "cont_tqruv = tqruv.interp_like(sim).where(con_mask)\n",
    "ip_tqruv = cont_tqruv.where(ip_mask['mask'], drop=False)"
   ]
  },
  {
   "cell_type": "markdown",
   "metadata": {},
   "source": [
    "# Maps"
   ]
  },
  {
   "cell_type": "code",
   "execution_count": null,
   "metadata": {},
   "outputs": [],
   "source": [
    "#Display map of var for ds\n",
    "var='precip'\n",
    "ds=gpcc\n",
    "#select only year 2014\n",
    "color_map=reds\n",
    "max_value=8\n",
    "\n",
    "map_ave(ds, var, cmap=color_map, vmax=max_value, hex=False)"
   ]
  },
  {
   "cell_type": "code",
   "execution_count": null,
   "metadata": {},
   "outputs": [],
   "source": [
    "#Diff map\n",
    "var='evap'\n",
    "max_value=2\n",
    "ds1=ip_sim\n",
    "ds2=ip_small\n",
    "\n",
    "map_diff_ave(ds1, ds2, var, vmax=max_value, hex=False, sig=False)\n",
    "\n",
    "diff=ds1[var]-ds2[var]\n",
    "title='{} bias, {} vs {} ({})'.format( var, ds1.attrs['name'], ds2.attrs['name'], ds1[var].attrs['units'])\n",
    "map_seasons(diff, cmap=emb, vmax=max_value, title=title, hex=False)"
   ]
  },
  {
   "cell_type": "code",
   "execution_count": null,
   "metadata": {},
   "outputs": [],
   "source": [
    "#map for 4 seasons\n",
    "var='precip'\n",
    "ds1=cont_sim\n",
    "ds2=cont_era\n",
    "max_value=2\n",
    "min_value=None\n",
    "# min_value=-max_value\n",
    "\n",
    "diff=ds1[var]-ds2[var]\n",
    "title='{} bias, {} vs {} ({})'.format( var, ds1.attrs['name'], ds2.attrs['name'], ds1[var].attrs['units'])\n",
    "plotvar=diff\n",
    "\n",
    "# plotvar=ds1[var]\n",
    "# title='P-E (mm/d, {})'.format(ds1.attrs['name'])\n",
    "\n",
    "map_seasons(plotvar, cmap=emb, vmax=max_value, title=title, hex=False)"
   ]
  },
  {
   "cell_type": "code",
   "execution_count": null,
   "metadata": {},
   "outputs": [],
   "source": [
    "# Display 2 maps of var\n",
    "var = 'P - E'\n",
    "min_value=None\n",
    "max_value=None\n",
    "color_map=emb_neutral\n",
    "ds1=sim\n",
    "ds2=small\n",
    "map_two_ds(ds1, ds2, var, vmin=min_value, figsize=(15,6), vmax=max_value, cmap=color_map)"
   ]
  },
  {
   "cell_type": "code",
   "execution_count": null,
   "metadata": {},
   "outputs": [],
   "source": [
    "#Display map of var for ds on restricted area\n",
    "var='evap'\n",
    "ds = sim\n",
    "latmin=36.7\n",
    "latmax=36.9\n",
    "lonmin=-6.4\n",
    "lonmax=-6.2\n",
    "\n",
    "#restrict ds to latmin, latmax, lonmin, lonmax\n",
    "ds = ds.where(ds.lat >= latmin, drop=True).where(ds.lat <= latmax, drop=True)\n",
    "ds = ds.where(ds.lon >= lonmin, drop=True).where(ds.lon <= lonmax, drop=True)\n",
    "plotvar = ds[var].mean(dim='time')\n",
    "map_plotvar(plotvar, cmap=emb_neutral, vmax=None, title=var)"
   ]
  },
  {
   "cell_type": "code",
   "execution_count": null,
   "metadata": {},
   "outputs": [],
   "source": [
    "#Relative diff map\n",
    "var='precip'\n",
    "max_value=None\n",
    "ds1=cont_fluxcom\n",
    "ds2=ip_fluxcom\n",
    "# plt.title('Gross primary production relative difference (%)')\n",
    "map_rel_diff_ave(ds1, ds2, var, vmax=max_value)"
   ]
  },
  {
   "cell_type": "markdown",
   "metadata": {},
   "source": [
    "# Time series"
   ]
  },
  {
   "cell_type": "code",
   "execution_count": null,
   "metadata": {},
   "outputs": [],
   "source": [
    "var='fluxsens'\n",
    "\n",
    "ds1=ip_sim\n",
    "ds2=ip_small\n",
    "ds3=ip_era\n",
    "\n",
    "ds3=ip_fluxcom\n",
    "\n",
    "ds4=ip_gpcc\n",
    "\n",
    "# ds4=ip_fluxcom\n",
    "# ds5=ip_gleam\n",
    "\n",
    "# ds1=ip_orc\n",
    "# ds2=ip_orcirr\n",
    "# ds3=ip_fluxcom_orc\n",
    "\n",
    "ds_list=[ds1, ds2, ds3]#, ds5]\n",
    "# ds_list=[ds4]\n",
    "\n",
    "year_max=2012\n",
    "time_series_ave(ds_list, var, year_max=year_max, title='{} {}'.format(var, ds1[var].attrs['units']))\n",
    "seasonal_cycle_ave(ds_list, var, year_max=year_max, title='Seasonal cycle of {} ({})'.format(var, ds1[var].attrs['units']))"
   ]
  }
 ],
 "metadata": {
  "kernelspec": {
   "display_name": "Python 3.12.2 64-bit",
   "language": "python",
   "name": "python3"
  },
  "language_info": {
   "codemirror_mode": {
    "name": "ipython",
    "version": 3
   },
   "file_extension": ".py",
   "mimetype": "text/x-python",
   "name": "python",
   "nbconvert_exporter": "python",
   "pygments_lexer": "ipython3",
   "version": "3.12.2"
  },
  "vscode": {
   "interpreter": {
    "hash": "9715f220877aa1dd3a10bcc1f3e7aef151ac70eccc8d755f78d50313f1675c6a"
   }
  }
 },
 "nbformat": 4,
 "nbformat_minor": 2
}
