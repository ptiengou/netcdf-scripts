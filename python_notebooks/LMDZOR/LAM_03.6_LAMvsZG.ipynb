{
 "cells": [
  {
   "cell_type": "markdown",
   "metadata": {},
   "source": [
    "Pour regarder sim LAM_1500 no_irr vs LMDZ Zoomé Guidé (simus Frédérique 2010-2014)"
   ]
  },
  {
   "cell_type": "markdown",
   "metadata": {},
   "source": [
    "# Imports and setting up viz\n",
    "\n",
    "NB : conda env1 on PC, lam1env on spirit (Python3.12)"
   ]
  },
  {
   "cell_type": "code",
   "execution_count": null,
   "metadata": {},
   "outputs": [],
   "source": [
    "%load_ext autoreload\n",
    "%autoreload 2\n",
    "%matplotlib inline\n",
    "\n",
    "#import personnal tools\n",
    "import sys\n",
    "sys.path.append('../../python_tools/')\n",
    "from tools import *\n",
    "from tools_mapping import *"
   ]
  },
  {
   "cell_type": "code",
   "execution_count": 102,
   "metadata": {},
   "outputs": [],
   "source": [
    "# rivers = cfeature.NaturalEarthFeature('physical', 'rivers_lake_centerlines', '10m',edgecolor=(0, 0, 0, 0.3), facecolor='none')"
   ]
  },
  {
   "cell_type": "markdown",
   "metadata": {},
   "source": [
    "# Load and edit files\n",
    "\n",
    "LAM output analysis.\n",
    "\n",
    "simu irr et simu no-irr."
   ]
  },
  {
   "cell_type": "markdown",
   "metadata": {},
   "source": [
    "## Area and period selection"
   ]
  },
  {
   "cell_type": "code",
   "execution_count": 103,
   "metadata": {},
   "outputs": [],
   "source": [
    "# lon_min=-19\n",
    "# lon_max=12\n",
    "# lat_min=28\n",
    "# lat_max=53\n",
    "\n",
    "date_min = '2010-01-01'\n",
    "date_max = '2014-12-31'"
   ]
  },
  {
   "cell_type": "code",
   "execution_count": 104,
   "metadata": {},
   "outputs": [],
   "source": [
    "#filter to keep only certain period\n",
    "# season='SON'\n",
    "# sim = sim.where(sim['time.season'] == season, drop=True)\n",
    "# simirr = simirr.where(simirr['time.season'] == season, drop=True)"
   ]
  },
  {
   "cell_type": "markdown",
   "metadata": {},
   "source": [
    "## Sims"
   ]
  },
  {
   "cell_type": "code",
   "execution_count": 105,
   "metadata": {},
   "outputs": [],
   "source": [
    "TS_flag=False"
   ]
  },
  {
   "cell_type": "code",
   "execution_count": 106,
   "metadata": {},
   "outputs": [],
   "source": [
    "# noirr_dir='../../../JZ_simu_outputs/LAM/LAM_1000_40/noirr_2010_2022'\n",
    "# irr_dir='../../../JZ_simu_outputs/LAM/LAM_1000_40/irr_2010_2022'\n",
    "noirr_dir='../../../JZ_simu_outputs/LAM/LAM_1500_60/noirr'\n",
    "irr_dir='../../../JZ_simu_outputs/LAM/LAM_1500_60/irr'"
   ]
  },
  {
   "cell_type": "code",
   "execution_count": null,
   "metadata": {},
   "outputs": [],
   "source": [
    "noirr_dir\n",
    "\n",
    "sim0 = xr.open_mfdataset(filename)\n",
    "sim0.attrs['name'] = 'LAM_1500'\n",
    "sim = sim0.rename({'time_counter':'time'})\n",
    "sim.attrs[\"plot_color\"] = 'red'\n",
    "# sim = sim.sel(lon=slice(lon_min, lon_max),lat=slice(lat_min, lat_max))\n",
    "sim = sim.sel(time=slice(date_min, date_max))\n",
    "\n",
    "\n",
    "sim['precip'] = sim['precip'] *3600 * 24\n",
    "sim['precip'].attrs['units'] = 'mm/d'\n",
    "sim['precip'].attrs['long_name'] = 'Total precipitation'\n",
    "\n",
    "\n",
    "sim"
   ]
  },
  {
   "cell_type": "code",
   "execution_count": null,
   "metadata": {},
   "outputs": [],
   "source": [
    "filename = '../../../JZ_simu_outputs/ZG_Frederique/*.nc'.format(noirr_dir)\n",
    "\n",
    "\n",
    "zg = xr.open_mfdataset(filename)\n",
    "zg.attrs['name'] = 'zg'\n",
    "zg=zg.rename({'time_counter':'time'})\n",
    "zg.attrs[\"plot_color\"] = 'blue'\n",
    "\n",
    "# zg = zg.sel(lon=slice(lon_min, lon_max),lat=slice(lat_max, lat_min))\n",
    "\n",
    "\n",
    "zg['precip'] = zg['precip'] *3600 * 24\n",
    "zg['precip'].attrs['units'] = 'mm/d'\n",
    "zg['precip'].attrs['long_name'] = 'Total precipitation'\n",
    "\n",
    "zg"
   ]
  },
  {
   "cell_type": "code",
   "execution_count": 117,
   "metadata": {},
   "outputs": [],
   "source": [
    "#continental fraction mask (LMDZ outputs)\n",
    "con_mask=sim.mean(dim='time')['contfracOR']>0.95\n",
    "ip_mask=polygon_to_mask(sim, iberian_peninsula) * con_mask"
   ]
  },
  {
   "cell_type": "code",
   "execution_count": 118,
   "metadata": {},
   "outputs": [],
   "source": [
    "ip_sim=sim.where(ip_mask)"
   ]
  },
  {
   "cell_type": "code",
   "execution_count": 119,
   "metadata": {},
   "outputs": [],
   "source": [
    "zg_iLAM=zg.interp_like(sim)\n",
    "ip_zg=zg_iLAM.where(ip_mask)"
   ]
  },
  {
   "cell_type": "markdown",
   "metadata": {},
   "source": [
    "# Maps"
   ]
  },
  {
   "cell_type": "code",
   "execution_count": null,
   "metadata": {},
   "outputs": [],
   "source": [
    "#Display map of var for ds\n",
    "var='precip'\n",
    "ds=sim\n",
    "color_map=wet\n",
    "\n",
    "vmin=0\n",
    "vmax= 5\n",
    "# vmin=None\n",
    "# vmin,vmax=None, None\n",
    "# cbar_label='Altitude (m)'\n",
    "cbar_label='Precipitation (mm/d)'\n",
    "# title='LMDZ ZG simulation'\n",
    "title='LAM simulation'\n",
    "poly=None\n",
    "\n",
    "# map_plotvar(ds[var])\n",
    "map_ave(ds, var, cmap=color_map, figsize=(8,4), title=title, vmin=vmin, vmax=vmax, clabel=cbar_label, poly=poly)"
   ]
  },
  {
   "cell_type": "code",
   "execution_count": null,
   "metadata": {},
   "outputs": [],
   "source": [
    "#Diff map\n",
    "var='precip'\n",
    "ds1=sim\n",
    "# ds2=ip_era_isim\n",
    "# ds2=ip_fluxcom_isim\n",
    "# ds2=gleam_isim\n",
    "ds2=zg_iLAM\n",
    "\n",
    "max_value= 2.0\n",
    "min_value=-2.0\n",
    "# max_value=None\n",
    "# min_value=None\n",
    "# min_value,max_value=None, None\n",
    "cmap=emb_neutral\n",
    "clabel='Precipitation difference (mm/d)'\n",
    "title='Diff : LAM - LMDZ ZG'\n",
    "\n",
    "map_diff_ave(ds1, ds2, var, vmin=min_value, vmax=max_value, cmap=cmap,clabel=clabel, title=title,\n",
    "             sig=False, sig_viz=3)\n",
    "# diff=ds1[var]-ds2[var]\n",
    "# map_seasons(diff, cmap=emb_neutral, vmin=min_value, vmax=max_value, title=title, hex=False"
   ]
  },
  {
   "cell_type": "code",
   "execution_count": null,
   "metadata": {},
   "outputs": [],
   "source": [
    "#map for 4 seasons\n",
    "var='t2m'\n",
    "ds1=ip_simirr\n",
    "ds2=ip_sim\n",
    "max_value= 0.5\n",
    "min_value=-0.5\n",
    "# min_value,max_value=None, None\n",
    "cmap=emb\n",
    "\n",
    "diff=ds1[var]-ds2[var]\n",
    "title='{} diff, {} vs {} ({})'.format( var, ds1.attrs['name'], ds2.attrs['name'], ds1[var].attrs['units'])\n",
    "plotvar=diff\n",
    "\n",
    "map_seasons(plotvar, cmap=cmap, vmin=min_value, vmax=max_value, title=title, hex=False)"
   ]
  },
  {
   "cell_type": "code",
   "execution_count": null,
   "metadata": {},
   "outputs": [],
   "source": [
    "# Display 2 maps of var\n",
    "var = 'SWupSFC'\n",
    "min_value=None\n",
    "max_value=None\n",
    "color_map=wet\n",
    "ds1=sim_iera\n",
    "ds2=era\n",
    "map_two_ds(ds1, ds2, var, vmin=min_value, figsize=(15,6), vmax=max_value, cmap=color_map)"
   ]
  },
  {
   "cell_type": "code",
   "execution_count": null,
   "metadata": {},
   "outputs": [],
   "source": [
    "#Display map of var for ds on restricted area\n",
    "var='evap'\n",
    "ds = sim\n",
    "latmin=36.7\n",
    "latmax=36.9\n",
    "lonmin=-6.4\n",
    "lonmax=-6.2\n",
    "\n",
    "#restrict ds to latmin, latmax, lonmin, lonmax\n",
    "ds = ds.where(ds.lat >= latmin, drop=True).where(ds.lat <= latmax, drop=True)\n",
    "ds = ds.where(ds.lon >= lonmin, drop=True).where(ds.lon <= lonmax, drop=True)\n",
    "plotvar = ds[var].mean(dim='time')\n",
    "map_plotvar(plotvar, cmap=emb_neutral_neutral, vmax=None, title=var)"
   ]
  },
  {
   "cell_type": "code",
   "execution_count": null,
   "metadata": {},
   "outputs": [],
   "source": [
    "#Relative diff map\n",
    "var='precip'\n",
    "max_value=None\n",
    "ds1=cont_fluxcom\n",
    "ds2=ip_fluxcom\n",
    "# plt.title('Gross primary production relative difference (%)')\n",
    "map_rel_diff_ave(ds1, ds2, var, vmax=max_value)"
   ]
  },
  {
   "cell_type": "code",
   "execution_count": null,
   "metadata": {},
   "outputs": [],
   "source": [
    "ds=sim\n",
    "scale=2000\n",
    "dist=2\n",
    "extra_var='norm'\n",
    "cmap=emb\n",
    "vmin=None\n",
    "vmax=1550\n",
    "vmin,vmax=None, None\n",
    "poly=ebro\n",
    "map_moisture_transport(ds, extra_var=extra_var, cmap=cmap, vmin=vmin, vmax=vmax, dist=dist,scale=scale, poly=poly)"
   ]
  },
  {
   "cell_type": "markdown",
   "metadata": {},
   "source": [
    "# Time series"
   ]
  },
  {
   "cell_type": "code",
   "execution_count": 81,
   "metadata": {},
   "outputs": [],
   "source": [
    "ip_gpcc_isim.attrs['plot_color']='black'"
   ]
  },
  {
   "cell_type": "code",
   "execution_count": null,
   "metadata": {},
   "outputs": [],
   "source": [
    "var='precip'\n",
    "\n",
    "ds1=sim\n",
    "ds2=zg_iLAM\n",
    "\n",
    "ds_list=[ds1, ds2]\n",
    "\n",
    "\n",
    "year_min=2010\n",
    "year_max=2022\n",
    "\n",
    "ylabel='Precipitation (mm/d)'\n",
    "# title='Seasonal cycle of {} ({}, {}-{})'.format(var, ds1[var].attrs['units'], year_min, year_max)\n",
    "title='off'\n",
    "figsize=(8.5,5)\n",
    "time_series_ave(ds_list, var, ds_colors=True, year_min=year_min, year_max=year_max, title='{} {}'.format(var, ds1[var].attrs['units']))\n",
    "seasonal_cycle_ave(ds_list, var, ds_colors=True, year_min=year_min, year_max=year_max, ylabel=ylabel, title=title, figsize=figsize)"
   ]
  },
  {
   "cell_type": "markdown",
   "metadata": {},
   "source": [
    "# Scatter plots"
   ]
  },
  {
   "cell_type": "code",
   "execution_count": null,
   "metadata": {},
   "outputs": [],
   "source": [
    "var1='precip'\n",
    "ds1=ip_sim_era_diff_mean\n",
    "#remove values where precip is smaller than 5\n",
    "mask=ds1[var1] < 2\n",
    "ds1=ds1.where(mask)\n",
    "\n",
    "var2='evap'\n",
    "# ds2=ip_sim_era_diff\n",
    "ds2=ds1\n",
    "\n",
    "scatter_vars(ds1, ds2, var1, var2, reg=False)"
   ]
  },
  {
   "cell_type": "code",
   "execution_count": null,
   "metadata": {},
   "outputs": [],
   "source": [
    "var1='precip'\n",
    "ds1=ip_sim_gpcc_diff_mean\n",
    "#remove values where precip is smaller than 2\n",
    "mask=ds1[var1] < 2\n",
    "ds1=ds1.where(mask)\n",
    "\n",
    "var2='evap'\n",
    "ds2=ip_sim_gleam_diff_mean\n",
    "ds2=ds2.where(mask)\n",
    "scatter_vars(ds1, ds2, var1, var2, reg=False)"
   ]
  },
  {
   "cell_type": "markdown",
   "metadata": {},
   "source": [
    "# Wind"
   ]
  },
  {
   "cell_type": "code",
   "execution_count": null,
   "metadata": {},
   "outputs": [],
   "source": [
    "ds = ip_sim\n",
    "dist=2\n",
    "height='10m'\n",
    "scale=20\n",
    "vmin=0\n",
    "vmax=2\n",
    "map_wind(ds, dist=dist, height=height, vmin=vmin, vmax=vmax, scale=scale)"
   ]
  },
  {
   "cell_type": "code",
   "execution_count": null,
   "metadata": {},
   "outputs": [],
   "source": [
    "ds1 = ip_simirr\n",
    "# ds1=ds1.sel(time=ds1['time.month'].isin([6,7,8]))\n",
    "ds2 = ip_sim\n",
    "# ds2=ds2.sel(time=ds2['time.month'].isin([6,7,8]))\n",
    "dist=5\n",
    "height='10m'\n",
    "scale=0.2\n",
    "vmin=-0.1\n",
    "vmax= 0.1\n",
    "map_wind_diff(ds1, ds2, dist=dist, height=height, vmin=vmin, vmax=vmax, scale=scale)"
   ]
  },
  {
   "cell_type": "code",
   "execution_count": null,
   "metadata": {},
   "outputs": [],
   "source": [
    "# 850hPa wind difference\n",
    "ds1 = ip_simirr\n",
    "ds2 = ip_sim\n",
    "dist=2\n",
    "\n",
    "#compute wind speed\n",
    "wind_speed1 = (ds1['u850'][0,:,:]**2 + ds1['v850'][0,:,:]**2)**(1/2)\n",
    "wind_speed2 = (ds2['u850'][0,:,:]**2 + ds2['v850'][0,:,:]**2)**(1/2)\n",
    "wind_speed_diff = wind_speed1 - wind_speed2\n",
    "#extract x and y (u and v) components and reduce dimension\n",
    "longi=ds['lon'][::dist]\n",
    "lati=ds['lat'][::dist]\n",
    "windx1 = ds1['u850'][0,::dist,::dist]\n",
    "windy1 = ds1['v850'][0,::dist,::dist]\n",
    "windx2 = ds2['u850'][0,::dist,::dist]\n",
    "windy2 = ds2['v850'][0,::dist,::dist]\n",
    "windx_diff = windx1 - windx2\n",
    "windy_diff = windy1 - windy2\n",
    "\n",
    "\n",
    "#display map\n",
    "fig = plt.figure(figsize=(10, 7.5))\n",
    "ax = plt.axes(projection=ccrs.PlateCarree())\n",
    "# gridline setup\n",
    "ax.coastlines()\n",
    "ax.add_feature(rivers)\n",
    "gl = ax.gridlines(draw_labels=True, dms=True, x_inline=False, y_inline=False, alpha=0.8)\n",
    "gl.right_labels = False\n",
    "gl.top_labels = False\n",
    "gl.xlocator = plt.MaxNLocator(9)\n",
    "gl.ylocator = plt.MaxNLocator(9)\n",
    "wind_speed_diff.plot(ax=ax, transform=ccrs.PlateCarree(), cmap=emb)\n",
    "ax.quiver(longi, lati, windx_diff, windy_diff, transform=ccrs.PlateCarree(), scale=0.1)\n",
    "plt.title('850hPa wind speed (m/s) and direction difference')\n",
    "plt.show()\n"
   ]
  },
  {
   "cell_type": "markdown",
   "metadata": {},
   "source": [
    "# Moisture fluxes"
   ]
  },
  {
   "cell_type": "code",
   "execution_count": 49,
   "metadata": {},
   "outputs": [],
   "source": [
    "ebro_mask=polygon_to_mask(sim, ebro)"
   ]
  },
  {
   "cell_type": "code",
   "execution_count": null,
   "metadata": {},
   "outputs": [],
   "source": [
    "ds=era\n",
    "mask=ip_mask\n",
    "mask=polygon_to_mask(ds, iberian_peninsula)\n",
    "era_budget=moisture_budget(ds, mask)\n",
    "era_budget"
   ]
  },
  {
   "cell_type": "code",
   "execution_count": null,
   "metadata": {},
   "outputs": [],
   "source": [
    "ds=era_isim\n",
    "mask=ip_mask\n",
    "mask=polygon_to_mask(ds, iberian_peninsula)\n",
    "era_budget=moisture_budget(ds, mask)\n",
    "era_budget"
   ]
  },
  {
   "cell_type": "markdown",
   "metadata": {},
   "source": [
    "# Vertical profiles"
   ]
  },
  {
   "cell_type": "code",
   "execution_count": null,
   "metadata": {},
   "outputs": [],
   "source": [
    "filename='../../../JZ_simu_outputs/LAM/HF_outputs_LAM_concat/TS_MO_irr_*.nc'\n",
    "lvls_irr=xr.open_mfdataset(filename)\n",
    "lvls_irr.attrs[\"name\"]='irr'\n",
    "#rename time_counter to time\n",
    "lvls_irr = lvls_irr.rename({'time_counter':'time'})\n",
    "lvls_irr"
   ]
  },
  {
   "cell_type": "code",
   "execution_count": null,
   "metadata": {},
   "outputs": [],
   "source": [
    "filename='../../../JZ_simu_outputs/LAM/HF_outputs_LAM_concat/TS_MO_noirr_*.nc'\n",
    "lvls_noirr=xr.open_mfdataset(filename)\n",
    "lvls_noirr.attrs[\"name\"]='no_irr'\n",
    "#rename time_counter to time\n",
    "lvls_noirr = lvls_noirr.rename({'time_counter':'time'})\n",
    "lvls_noirr"
   ]
  },
  {
   "cell_type": "code",
   "execution_count": null,
   "metadata": {},
   "outputs": [],
   "source": [
    "filename = '{}/SRF/MO/*history.nc'.format(irr_dir)\n",
    "orc0 = xr.open_mfdataset(filename)\n",
    "orc = orc0.rename({'time_counter':'time'})\n"
   ]
  },
  {
   "cell_type": "code",
   "execution_count": null,
   "metadata": {},
   "outputs": [],
   "source": [
    "orc_interp=orc.interp_like(lvls_irr)\n",
    "irr_mask = (orc_interp['irrigmap_dyn']/orc_interp['Areas'])>0.1\n",
    "nonirr_mask = (orc_interp['irrigmap_dyn']/orc_interp['Areas'])<=0.1"
   ]
  },
  {
   "cell_type": "code",
   "execution_count": null,
   "metadata": {},
   "outputs": [],
   "source": [
    "lvls_irr_irrigated=lvls_irr.where(irr_mask)\n",
    "lvls_irr_irrigated.attrs['name']='irrigated'\n",
    "lvls_irr_nonirrigated=lvls_noirr.where(nonirr_mask)\n",
    "lvls_irr_nonirrigated.attrs['name']='non_irrigated'"
   ]
  },
  {
   "cell_type": "code",
   "execution_count": null,
   "metadata": {},
   "outputs": [],
   "source": [
    "ip_mask=polygon_to_mask(lvls_irr, iberic_peninsula)\n",
    "\n",
    "ip_lvls_irr=lvls_irr.where(ip_mask, drop=False)\n",
    "ip_lvls_irr.attrs['name']='irr'\n",
    "\n",
    "ip_lvls_noirr=lvls_noirr.where(ip_mask, drop=False)\n",
    "ip_lvls_noirr.attrs['name']='no_irr'\n",
    "\n",
    "ip_lvls_irr_irrigated = lvls_irr.where(irr_mask).where(ip_mask, drop=False)\n",
    "ip_lvls_irr_irrigated.attrs['name']='irrigated'\n",
    "\n",
    "ip_lvls_irr_nonirrigated = lvls_irr.where(nonirr_mask).where(ip_mask, drop=False)\n",
    "ip_lvls_irr_nonirrigated.attrs['name']='nonirrigated'"
   ]
  },
  {
   "cell_type": "code",
   "execution_count": null,
   "metadata": {},
   "outputs": [],
   "source": [
    "# t and q profiles\n",
    "#select a lon-lat box\n",
    "latmin=41\n",
    "latmax=43\n",
    "lonmin=-2\n",
    "lonmax=1\n",
    "var='q'\n",
    "ds1=simirr.sel(lon=slice(lonmin,lonmax),lat=slice(latmin,latmax))\n",
    "ds2=sim.sel(lon=slice(lonmin,lonmax),lat=slice(latmin,latmax))\n",
    "\n",
    "ds_list=[ds1, ds2]\n",
    "\n",
    "profile_reflevs(ds_list, var)"
   ]
  },
  {
   "cell_type": "code",
   "execution_count": null,
   "metadata": {},
   "outputs": [],
   "source": [
    "# profile\n",
    "preslevelmax=50\n",
    "var='ovap'\n",
    "# select a lon-lat box\n",
    "latmin=41\n",
    "latmax=43\n",
    "lonmin=-2\n",
    "lonmax=1\n",
    "# #spain\n",
    "# latmin=36\n",
    "# latmax=44\n",
    "# lonmin=-9.5\n",
    "# lonmax=3\n",
    "\n",
    "ds1=ip_lvls_irr_irrigated\n",
    "ds1= ds1.sel(lon=slice(lonmin,lonmax),lat=slice(latmin,latmax))\n",
    "#select only JJA season\n",
    "# ds1=ds1.sel(time=ds1['time.month'].isin([6,7,8]))\n",
    "\n",
    "ds2=ip_lvls_irr_nonirrigated\n",
    "ds2=ds2.sel(lon=slice(lonmin,lonmax),lat=slice(latmin,latmax))\n",
    "#select only JJA season\n",
    "# ds2=ds2.sel(time=ds2['time.month'].isin([6,7,8]))\n",
    "\n",
    "ds_list=[ds1, ds2]\n",
    "profile_preslevs(ds_list, var, preslevelmax=preslevelmax)"
   ]
  },
  {
   "cell_type": "code",
   "execution_count": null,
   "metadata": {},
   "outputs": [],
   "source": [
    "#temp at first level (better than t2m)\n",
    "months=[6,7,8]\n",
    "var1=ip_lvls_noirr['ovap'][:,0,:,:].sel(time=simirr['time.month'].isin(months))\n",
    "var2=ip_lvls_irr['ovap'][:,0,:,:].sel(time=simirr['time.month'].isin(months))\n",
    "temp_diff=(var2-var1).mean(dim='time')\n",
    "temp_diff.attrs['units']='K'\n",
    "# p_values = xr.apply_ufunc(\n",
    "#     lambda x, y: ttest_ind(x, y, axis=0, nan_policy='omit').pvalue, \n",
    "#     var1, var2,\n",
    "#     input_core_dims=[['time'], ['time']],\n",
    "#     output_core_dims=[[]],\n",
    "#     vectorize=True,\n",
    "#     dask='parallelized',\n",
    "#     output_dtypes=[float]\n",
    "# )\n",
    "# mask=p_values<0.05\n",
    "# temp_diff=temp_diff.where(mask)\n",
    "map_plotvar(temp_diff, in_cmap=emb, in_vmax=None, title='First level temperature (K) diff (irr-noirr)')"
   ]
  },
  {
   "cell_type": "markdown",
   "metadata": {},
   "source": [
    "# Testing seasonnal dataset"
   ]
  },
  {
   "cell_type": "code",
   "execution_count": null,
   "metadata": {},
   "outputs": [],
   "source": [
    "ds=ip_simirr\n",
    "var='evap'\n",
    "ds_seasons=seasonnal_ds_list(ds)\n",
    "# time_series_ave(ds_seasons, var)\n",
    "for ds_season in ds_seasons:\n",
    "    map_ave(ds_season, var, cmap=wet, vmin=0, vmax=5, title='{} ({})'.format(var, ds_season.attrs['name']))"
   ]
  }
 ],
 "metadata": {
  "kernelspec": {
   "display_name": "Python 3.12.2 64-bit",
   "language": "python",
   "name": "python3"
  },
  "language_info": {
   "codemirror_mode": {
    "name": "ipython",
    "version": 3
   },
   "file_extension": ".py",
   "mimetype": "text/x-python",
   "name": "python",
   "nbconvert_exporter": "python",
   "pygments_lexer": "ipython3",
   "version": "3.12.2"
  },
  "vscode": {
   "interpreter": {
    "hash": "9715f220877aa1dd3a10bcc1f3e7aef151ac70eccc8d755f78d50313f1675c6a"
   }
  }
 },
 "nbformat": 4,
 "nbformat_minor": 2
}
