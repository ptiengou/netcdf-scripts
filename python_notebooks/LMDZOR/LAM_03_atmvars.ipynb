{
 "cells": [
  {
   "cell_type": "markdown",
   "metadata": {},
   "source": [
    "# Imports and setting up viz\n",
    "\n",
    "NB : conda env1 on PC, lam1env on spirit (Python3.12)"
   ]
  },
  {
   "cell_type": "code",
   "execution_count": null,
   "metadata": {},
   "outputs": [],
   "source": [
    "%load_ext autoreload\n",
    "%autoreload 2\n",
    "%matplotlib inline\n",
    "\n",
    "#import personnal tools\n",
    "import sys\n",
    "sys.path.append('../../python_tools/')\n",
    "from tools import *\n",
    "from tools_mapping import *"
   ]
  },
  {
   "cell_type": "code",
   "execution_count": null,
   "metadata": {},
   "outputs": [],
   "source": [
    "# rivers = cfeature.NaturalEarthFeature('physical', 'rivers_lake_centerlines', '10m',edgecolor=(0, 0, 0, 0.3), facecolor='none')"
   ]
  },
  {
   "cell_type": "markdown",
   "metadata": {},
   "source": [
    "# Load and edit files\n",
    "\n",
    "LAM output analysis.\n",
    "\n",
    "simu irr et simu no-irr."
   ]
  },
  {
   "cell_type": "markdown",
   "metadata": {},
   "source": [
    "## Area and period selection"
   ]
  },
  {
   "cell_type": "code",
   "execution_count": null,
   "metadata": {},
   "outputs": [],
   "source": [
    "# lon_min=-19\n",
    "# lon_max=12\n",
    "# lat_min=28\n",
    "# lat_max=53\n",
    "\n",
    "date_min = '2010-01-01'\n",
    "date_max = '2022-12-31'"
   ]
  },
  {
   "cell_type": "code",
   "execution_count": null,
   "metadata": {},
   "outputs": [],
   "source": [
    "#filter to keep only certain period\n",
    "# season='SON'\n",
    "# sim = sim.where(sim['time.season'] == season, drop=True)\n",
    "# simirr = simirr.where(simirr['time.season'] == season, drop=True)"
   ]
  },
  {
   "cell_type": "markdown",
   "metadata": {},
   "source": [
    "## Sims"
   ]
  },
  {
   "cell_type": "code",
   "execution_count": null,
   "metadata": {},
   "outputs": [],
   "source": [
    "TS_flag=False"
   ]
  },
  {
   "cell_type": "code",
   "execution_count": null,
   "metadata": {},
   "outputs": [],
   "source": [
    "# noirr_dir='../../../JZ_simu_outputs/LAM/LAM_1000_40/noirr_2010_2022'\n",
    "# irr_dir='../../../JZ_simu_outputs/LAM/LAM_1000_40/irr_2010_2022'\n",
    "noirr_dir='../../../JZ_simu_outputs/LAM/LAM_1500_60/noirr'\n",
    "irr_dir='../../../JZ_simu_outputs/LAM/LAM_1500_60/irr'"
   ]
  },
  {
   "cell_type": "code",
   "execution_count": null,
   "metadata": {},
   "outputs": [],
   "source": [
    "#sim\n",
    "if TS_flag:\n",
    "    filename = '{}/*/ATM/TS_MO/*.nc'.format(noirr_dir)\n",
    "else:\n",
    "    filename = '{}/*/ATM/MO/*.nc'.format(noirr_dir)\n",
    "\n",
    "\n",
    "sim0 = xr.open_mfdataset(filename)\n",
    "sim0.attrs['name'] = 'no_irr'\n",
    "sim = sim0.rename({'time_counter':'time'})\n",
    "sim.attrs[\"plot_color\"] = 'red'\n",
    "sim = sim.sel(lon=slice(lon_min, lon_max),lat=slice(lat_min, lat_max))\n",
    "\n",
    "sim['evap'] = sim['evap'] *3600 * 24\n",
    "sim['evap'].attrs['units'] = 'mm/d'\n",
    "sim['evap'].attrs['long_name'] = 'Evapotranspiration'\n",
    "\n",
    "sim['precip'] = sim['precip'] *3600 * 24\n",
    "sim['precip'].attrs['units'] = 'mm/d'\n",
    "sim['precip'].attrs['long_name'] = 'Total precipitation'\n",
    "\n",
    "sim['fluxsens']= -sim['sens']\n",
    "\n",
    "sim['netrad'] = sim['LWdnSFC'] - sim['LWupSFC'] + sim['SWdnSFC'] - sim['SWupSFC']\n",
    "sim['netrad'].attrs['units'] = 'W/m2'\n",
    "\n",
    "sim['SWnetSFC'] = sim['SWdnSFC'] - sim['SWupSFC']\n",
    "sim['SWnetSFC'].attrs['units'] = 'W/m2'\n",
    "\n",
    "sim['LWnetSFC'] = sim['LWdnSFC'] - sim['LWupSFC']\n",
    "sim['LWnetSFC'].attrs['units'] = 'W/m2'\n",
    "\n",
    "sim['P - E'] = sim['precip'] - sim['evap']\n",
    "sim['P - E'].attrs['units'] = 'mm/d'\n",
    "\n",
    "sim=compute_grid_cell_width(sim)\n",
    "\n",
    "if not TS_flag :\n",
    "    sim['Altitude'] = sim['phis'] / 9.81\n",
    "    sim['Altitude'].attrs['units'] = 'm'\n",
    "\n",
    "sim"
   ]
  },
  {
   "cell_type": "code",
   "execution_count": null,
   "metadata": {},
   "outputs": [],
   "source": [
    "#sim irr\n",
    "if TS_flag:\n",
    "    filename = '{}/*/ATM/TS_MO/*.nc'.format(irr_dir)\n",
    "else:\n",
    "    filename = '{}/*/ATM/MO/*.nc'.format(irr_dir)\n",
    "\n",
    "sim0irr = xr.open_mfdataset(filename)\n",
    "sim0irr.attrs['name'] = 'irr'\n",
    "simirr = sim0irr.rename({'time_counter':'time'})\n",
    "simirr.attrs[\"plot_color\"] = 'blue'\n",
    "simirr = simirr.sel(lon=slice(lon_min, lon_max),lat=slice(lat_min, lat_max))\n",
    "\n",
    "simirr['evap'] = simirr['evap'] *3600 * 24\n",
    "simirr['evap'].attrs['units'] = 'mm/d'\n",
    "\n",
    "simirr['precip'] = simirr['precip'] *3600 * 24\n",
    "simirr['precip'].attrs['units'] = 'mm/d'\n",
    "\n",
    "simirr['fluxsens']= -simirr['sens']\n",
    "\n",
    "simirr['netrad'] = simirr['LWdnSFC'] - simirr['LWupSFC'] + simirr['SWdnSFC'] - simirr['SWupSFC']\n",
    "simirr['netrad'].attrs['units'] = 'W/m2'\n",
    "\n",
    "simirr['SWnetSFC'] = simirr['SWdnSFC'] - simirr['SWupSFC']\n",
    "simirr['SWnetSFC'].attrs['units'] = 'W/m2'\n",
    "\n",
    "simirr['LWnetSFC'] = simirr['LWdnSFC'] - simirr['LWupSFC']\n",
    "simirr['LWnetSFC'].attrs['units'] = 'W/m2'\n",
    "\n",
    "simirr['P - E'] = simirr['precip'] - simirr['evap']\n",
    "simirr['P - E'].attrs['units'] = 'mm/d'\n",
    "\n",
    "simirr=compute_grid_cell_width(simirr)\n",
    "\n",
    "if not TS_flag:\n",
    "    simirr['Altitude'] = simirr['phis'] / 9.81\n",
    "    simirr['Altitude'].attrs['units'] = 'm'\n",
    "\n",
    "simirr\n"
   ]
  },
  {
   "cell_type": "code",
   "execution_count": null,
   "metadata": {},
   "outputs": [],
   "source": [
    "zg=False\n",
    "if zg:\n",
    "    filename = '../../../JZ_simu_outputs/ZG_Frederique/*.nc'\n",
    "\n",
    "    zg = xr.open_mfdataset(filename)\n",
    "    zg.attrs['name'] = 'zg'\n",
    "    zg=zg.rename({'time_counter':'time'})\n",
    "    zg.attrs[\"plot_color\"] = 'blue'\n",
    "\n",
    "    # zg = zg.sel(lon=slice(lon_min, lon_max),lat=slice(lat_max, lat_min))\n",
    "\n",
    "    zg['precip'] = zg['precip'] *3600 * 24\n",
    "    zg['precip'].attrs['units'] = 'mm/d'\n",
    "    zg['precip'].attrs['long_name'] = 'Total precipitation'\n",
    "\n",
    "    zg\n",
    "\n",
    "    zg_iLAM=zg.interp_like(sim)\n",
    "    ip_zg=zg_iLAM.where(ip_mask)"
   ]
  },
  {
   "cell_type": "markdown",
   "metadata": {},
   "source": [
    "## Obs"
   ]
  },
  {
   "cell_type": "markdown",
   "metadata": {},
   "source": [
    "### ERA5"
   ]
  },
  {
   "cell_type": "code",
   "execution_count": null,
   "metadata": {},
   "outputs": [],
   "source": [
    "#open ERA5 file\n",
    "# filename = '../../../obs/ERA5/ERA5_eval_2010_2022.nc'\n",
    "filename = '../../../obs/ERA5/ERA5_large_eval.nc'\n",
    "\n",
    "era = xr.open_mfdataset(filename)\n",
    "era.attrs['name'] = 'ERA5'\n",
    "era.attrs[\"plot_color\"] = 'black'\n",
    "#define or edit vars\n",
    "#name ERA5 vars like in LMDZOR outputs\n",
    "dict =  {\n",
    "        'longitude':'lon',\n",
    "        'latitude':'lat',\n",
    "        'e':'evap',\n",
    "        'ro':'totrunoff',\n",
    "        'tp':'precip',\n",
    "        'u10':'u10m',\n",
    "        'v10':'v10m',\n",
    "        'p71.162' : 'uq',\n",
    "        'p72.162' : 'vq',\n",
    "        'sshf' : 'fluxsens',\n",
    "        'slhf' : 'fluxlat',\n",
    "        'si10' : 'sfcWind',\n",
    "        'ssrd' : 'SWdnSFC',\n",
    "        'strd' : 'LWdnSFC',\n",
    "        'ssr' : 'SWnetSFC',\n",
    "        'str' : 'LWnetSFC',\n",
    "        }\n",
    "era = era.rename(dict)\n",
    "era=era.sel(time=slice(date_min, date_max))\n",
    "era = era.sel(lon=slice(lon_min,lon_max),lat=slice(lat_max, lat_min))\n",
    "\n",
    "#make evap positive in era\n",
    "era['evap'] = -era['evap'] * 1000\n",
    "era['evap'].attrs['units'] = 'mm/d'\n",
    "era['precip'] = era['precip']*1000\n",
    "era['precip'].attrs['units'] = 'mm/d'\n",
    "era['fluxsens'] = -era['fluxsens'] / (3600 *24)\n",
    "era['fluxsens'].attrs['units'] = 'W/m2'\n",
    "# era['cldt'] = era['tcc']*100\n",
    "# era['cldt'].attrs['units'] = '%'\n",
    "\n",
    "era['P - E'] = era['precip'] - era['evap']\n",
    "era['P - E'].attrs['units'] = 'mm/d'\n",
    "\n",
    "era['calcWind'] = np.sqrt(era['u10m']**2 + era['v10m']**2)\n",
    "era['calcWind'].attrs['units'] = 'm/s'\n",
    "   \n",
    "#convert 4 radiation variables from J/m2 to W/m2\n",
    "era['SWdnSFC'] = era['SWdnSFC'] / (3600 *24)\n",
    "era['SWdnSFC'].attrs['units'] = 'W/m2'\n",
    "era['LWdnSFC'] = era['LWdnSFC'] / (3600 *24)\n",
    "era['LWdnSFC'].attrs['units'] = 'W/m2'\n",
    "era['SWnetSFC'] = era['SWnetSFC'] / (3600 *24)\n",
    "era['SWnetSFC'].attrs['units'] = 'W/m2'\n",
    "era['LWnetSFC'] = era['LWnetSFC'] / (3600 *24)\n",
    "era['LWnetSFC'].attrs['units'] = 'W/m2'\n",
    "#add up vars and netrad\n",
    "era['LWupSFC'] = - era['LWnetSFC'] + era['LWdnSFC']\n",
    "era['LWupSFC'].attrs['units'] = 'W/m2'\n",
    "era['SWupSFC'] = - era['SWnetSFC'] + era['SWdnSFC']\n",
    "era['SWupSFC'].attrs['units'] = 'W/m2'\n",
    "era['netrad'] = era['LWnetSFC'] + era['SWnetSFC']\n",
    "era['netrad'].attrs['units'] = 'W/m2'\n",
    "\n",
    "era\n"
   ]
  },
  {
   "cell_type": "code",
   "execution_count": null,
   "metadata": {},
   "outputs": [],
   "source": [
    "# #open tqruv file\n",
    "# filename='../../../obs/TQRUV_850_2010_2022_monthly.nc'\n",
    "# tqruv = xr.open_dataset(filename)\n",
    "# tqruv.attrs['name'] = 'ERA5'\n",
    "# tqruv = tqruv.sel(longitude=slice(-13,6),latitude=slice(49,32))\n",
    "# #rename longitude and latitude to lon and lat\n",
    "# tqruv = tqruv.rename({'longitude':'lon','latitude':'lat'})\n",
    "\n",
    "# #rename all variables to add 850 in name\n",
    "# tqruv['u850'] = tqruv['u']\n",
    "# tqruv['v850'] = tqruv['v']\n",
    "# tqruv['q850'] = tqruv['q']\n",
    "# tqruv['t850'] = tqruv['t']\n",
    "# tqruv['r850'] = tqruv['r']\n",
    "# tqruv"
   ]
  },
  {
   "cell_type": "markdown",
   "metadata": {},
   "source": [
    "### ERA-Land"
   ]
  },
  {
   "cell_type": "code",
   "execution_count": null,
   "metadata": {},
   "outputs": [],
   "source": [
    "filename = '../../../obs/ERALand/ERA5-Land.nc'\n",
    "eraland = xr.open_dataset(filename)\n",
    "eraland.attrs['name'] = 'ERA5-Land'\n",
    "rename_dict = {'longitude':'lon',\n",
    "               'latitude':'lat',\n",
    "               'valid_time':'time',\n",
    "               'skt':'temp_sol',\n",
    "               'sro':'runoff',\n",
    "               'ro':'mrro',\n",
    "            #    'ssr':'SWnetSFC',\n",
    "            #    'str':'LWnetSFC',\n",
    "               'sshf':'fluxsens',\n",
    "               'slhf':'fluxlat',\n",
    "               'tp':'precip',\n",
    "               'src':'fastr'\n",
    "               }\n",
    "eraland = eraland.rename(rename_dict)\n",
    "\n",
    "eraland['mrsos'] = eraland['swvl1']*0.1*1000\n",
    "eraland['mrsos'].attrs['units'] = 'mm'\n",
    "#average variables swl1 to swvl4\n",
    "eraland['lvl1-4_ave'] = (eraland['swvl1'] * 7 + eraland['swvl2'] * 21 + eraland['swvl3'] * 72 + eraland['swvl4'] * 189 )  / 289\n",
    "eraland['humtot'] = eraland['lvl1-4_ave']*2*1000\n",
    "eraland['humtot'].attrs['units'] = 'mm'\n",
    "\n",
    "eraland['evap'] = - eraland['fluxlat'] * 0.408 * 0.0864\n",
    "eraland['evap'].attrs['units'] = 'mm/d'\n",
    "\n",
    "#convert radiation variables from J/m2 to W/m2\n",
    "eraland['SWnetSFC'] = eraland['ssr'] / (3600 *24)\n",
    "eraland['SWnetSFC'].attrs['units'] = 'W/m2'\n",
    "eraland['LWnetSFC'] = eraland['str'] / (3600 *24)\n",
    "eraland['LWnetSFC'].attrs['units'] = 'W/m2'\n",
    "eraland['netrad'] = eraland['LWnetSFC'] + eraland['SWnetSFC']\n",
    "eraland['netrad'].attrs['units'] = 'W/m2'\n",
    "\n",
    "eraland"
   ]
  },
  {
   "cell_type": "markdown",
   "metadata": {},
   "source": [
    "### GLEAM"
   ]
  },
  {
   "cell_type": "code",
   "execution_count": null,
   "metadata": {},
   "outputs": [],
   "source": [
    "#gleam\n",
    "# filename='../../../obs/evap/E_1980-2022_GLEAM_v3.8a_MO.nc'\n",
    "# gleam0=xr.open_dataset(filename)\n",
    "# gleam0.attrs['name']='GLEAM'\n",
    "# gleam = gleam0.sel(lon=slice(lon_min, lon_max),lat=slice(lat_max, lat_min))\n",
    "# #adapt period\n",
    "# gleam=gleam.sel(time=slice(date_min,date_max))\n",
    "# #name gleam vars like in LMDZOR outputs\n",
    "# dict =  {\n",
    "#         'E':'evap'\n",
    "#         }\n",
    "# gleam = gleam.rename(dict)\n",
    "# #convert mm/month to mm/day\n",
    "# gleam['evap']=gleam['evap']/31\n",
    "# gleam['evap'].attrs['units']='mm/d'\n",
    "# gleam\n",
    "\n",
    "filename = '../../../obs/GLEAMv4.1a/E/*'\n",
    "gleam = xr.open_mfdataset(filename)\n",
    "gleam.attrs['name'] = 'GLEAMv4.1a'\n",
    "gleam.attrs['plot_color'] = 'black'\n",
    "#restrict lon lat\n",
    "gleam = gleam.sel(lon=slice(lon_min,lon_max),lat=slice(lat_max,lat_min))\n",
    "#rename var SM\n",
    "gleam['evap']=gleam['E'] / 31\n",
    "gleam['evap'].attrs['units'] = 'mm/d'\n",
    "gleam"
   ]
  },
  {
   "cell_type": "markdown",
   "metadata": {},
   "source": [
    "### FluxCom"
   ]
  },
  {
   "cell_type": "code",
   "execution_count": null,
   "metadata": {},
   "outputs": [],
   "source": [
    "filename='../../..//obs/FluxCom/ensemble_rs-_meteo_ALL/monthly/*.RS_METEO.EBC-*.MLM-ALL.METEO-ALL.720_360.monthly.*.nc'\n",
    "fluxcom0=xr.open_mfdataset(filename)\n",
    "fluxcom=fluxcom0.sel(lon=slice(-13,6.25),lat=slice(lat_max, lat_min))\n",
    "fluxcom=fluxcom.sel(time=slice(date_min,date_max))\n",
    "\n",
    "fluxcom.attrs[\"name\"]='FluxCom'\n",
    "fluxcom.attrs[\"plot_color\"] = 'purple'\n",
    "\n",
    "fluxcom['evap'] = fluxcom['LE'] * 0.408 # To convert from MJ/m2/d to mm/d\n",
    "fluxcom['evap'].attrs['units'] = 'mm/d'\n",
    "\n",
    "fluxcom['fluxlat'] = fluxcom['LE'] / 0.0864 # To convert from MJ/m2/d to W/m2\n",
    "fluxcom['fluxlat'].attrs['units'] = 'W/m²'\n",
    "\n",
    "fluxcom['fluxsens'] = fluxcom['H'] / 0.0864 # To convert from MJ/m2/d to W/m2\n",
    "fluxcom['fluxsens'].attrs['units'] = 'W/m²'\n",
    "\n",
    "fluxcom['netrad'] = fluxcom['Rn'] / 0.0864 # To convert from MJ/m2/d to W/m2\n",
    "fluxcom['netrad'].attrs['units'] = 'W/m²'\n",
    "fluxcom"
   ]
  },
  {
   "cell_type": "markdown",
   "metadata": {},
   "source": [
    "### GPCC"
   ]
  },
  {
   "cell_type": "code",
   "execution_count": null,
   "metadata": {},
   "outputs": [],
   "source": [
    "#gpcc\n",
    "filename='../../../obs/precips/precip.mon.total.0.25x0.25.v2020.nc'\n",
    "gpcc0=xr.open_mfdataset(filename)\n",
    "gpcc0.attrs['name'] = 'GPCC'\n",
    "gpcc=gpcc0.sel(time=slice(date_min,date_max))\n",
    "gpcc['lon'] = ((gpcc['lon'] + 180) % 360) - 180\n",
    "gpcc1 = gpcc.sortby('lon')\n",
    "\n",
    "# gpcc=gpcc.sel(lon=slice(-13,6.25),lat=slice(lat_min, lat_max))\n",
    "gpcc=gpcc1.sel(lon=slice(-13,6.25),lat=slice(lat_max, lat_min))\n",
    "\n",
    "gpcc.attrs[\"plot_color\"] = 'black'\n",
    "\n",
    "# gpcc1=gpcc.sel(lon=slice(347,360),lat=slice(lat_max, lat_min))\n",
    "# gpcc2=gpcc.sel(lon=slice(0,6.25),lat=slice(lat_max, lat_min))\n",
    "# gpcc=xr.combine_by_coords([gpcc1, gpcc2])\n",
    "# gpcc = gpcc.where(gpcc['lon'] < 6.25, drop=True)\n",
    "\n",
    "# gpcc['lon']=gpcc['lon']-180.0\n",
    "# gpcc=gpcc.sel(lon=slice(-13,6.25))\n",
    "\n",
    "gpcc['precip'] = gpcc['precip'] / 30 #convert to mm/d\n",
    "gpcc['precip'].attrs['units'] = 'mm/d'\n",
    "gpcc"
   ]
  },
  {
   "cell_type": "markdown",
   "metadata": {},
   "source": [
    "### CRU"
   ]
  },
  {
   "cell_type": "code",
   "execution_count": null,
   "metadata": {},
   "outputs": [],
   "source": [
    "filename = '../../../obs/CRU_temp/extracted/cru_*.tmp.dat.nc'\n",
    "cru = xr.open_mfdataset(filename)\n",
    "cru = cru.sel(time=slice(date_min,date_max))\n",
    "cru=cru.sel(lon=slice(lon_min, lon_max),lat=slice(lat_min, lat_max))\n",
    "cru.attrs['name'] = 'CRU'\n",
    "cru.attrs['plot_color'] = 'black'\n",
    "\n",
    "cru['t2m'] = cru['tmp'] + 273.15\n",
    "cru['t2m'].attrs['units'] = 'K'\n",
    "cru['t2m'].attrs['long_name'] = '2m temperature'\n",
    "\n",
    "cru"
   ]
  },
  {
   "cell_type": "markdown",
   "metadata": {},
   "source": [
    "## Masking, interpolation, and time period selection"
   ]
  },
  {
   "cell_type": "markdown",
   "metadata": {},
   "source": [
    "### Sims and products interp to products"
   ]
  },
  {
   "cell_type": "code",
   "execution_count": null,
   "metadata": {},
   "outputs": [],
   "source": [
    "# sim_iera = sim.interp_like(era)\n",
    "# sim_igpcc = sim.interp_like(gpcc)\n",
    "# sim_igleam = sim.interp_like(gleam)\n",
    "# sim_ifluxcom = sim.interp_like(fluxcom)\n",
    "# # sim_itqruv = sim.interp_like(tqruv)\n",
    "\n",
    "# simirr_iera = simirr.interp_like(era)\n",
    "# simirr_igpcc = simirr.interp_like(gpcc)\n",
    "# simirr_igleam = simirr.interp_like(gleam)\n",
    "# simirr_ifluxcom = simirr.interp_like(fluxcom)\n",
    "# # simirr_itqruv = simirr.interp_like(tqruv)"
   ]
  },
  {
   "cell_type": "code",
   "execution_count": null,
   "metadata": {},
   "outputs": [],
   "source": [
    "# #same masks but adatped when interpolated on obs grid\n",
    "# con_mask_iera=sim_iera['contfracOR']>0.9\n",
    "# ip_mask_iera=polygon_to_mask(sim_iera, iberian_peninsula)\n",
    "\n",
    "# con_mask_igpcc=sim_igpcc['contfracOR']>0.9\n",
    "# ip_mask_igpcc=polygon_to_mask(sim_igpcc, iberian_peninsula)\n",
    "\n",
    "# con_mask_igleam=sim_igleam['contfracOR']>0.9\n",
    "# ip_mask_igleam=polygon_to_mask(sim_igleam, iberian_peninsula)\n",
    "\n",
    "# con_mask_ifluxcom=sim_ifluxcom['contfracOR']>0.9\n",
    "# ip_mask_ifluxcom=polygon_to_mask(sim_ifluxcom, iberian_peninsula)"
   ]
  },
  {
   "cell_type": "code",
   "execution_count": null,
   "metadata": {},
   "outputs": [],
   "source": [
    "# ip_sim_iera = ip_sim.interp_like(era)\n",
    "# ip_sim_igpcc = ip_sim.interp_like(gpcc)\n",
    "# ip_sim_igleam = ip_sim.interp_like(gleam)\n",
    "# ip_sim_ifluxcom = ip_sim.interp_like(fluxcom)\n",
    "# ip_sim_itqruv = ip_sim.interp_like(tqruv)\n",
    "\n",
    "# ip_simirr_iera = ip_simirr.interp_like(era)\n",
    "# ip_simirr_igpcc = ip_simirr.interp_like(gpcc)\n",
    "# ip_simirr_igleam = ip_simirr.interp_like(gleam)\n",
    "# ip_simirr_ifluxcom = ip_simirr.interp_like(fluxcom)\n",
    "# ip_simirr_itqruv = ip_simirr.interp_like(tqruv)"
   ]
  },
  {
   "cell_type": "code",
   "execution_count": null,
   "metadata": {},
   "outputs": [],
   "source": [
    "# sim_iipera = sim.interp_like(era).where(con_mask_iera).where(ip_mask_iera['mask'], drop=False)\n",
    "# sim_iipgpcc = sim.interp_like(ip_gpcc).where(con_mask_igpcc).where(ip_mask_igpcc['mask'], drop=False)\n",
    "# sim_iipgleam = sim.interp_like(ip_gleam).where(con_mask_igleam).where(ip_mask_igleam['mask'], drop=False)\n",
    "# sim_iipfluxcom = sim.interp_like(ip_fluxcom).where(con_mask_ifluxcom).where(ip_mask_ifluxcom['mask'], drop=False)\n",
    "\n",
    "# simirr_iipera = simirr.interp_like(era).where(con_mask_iera).where(ip_mask_iera['mask'], drop=False)\n",
    "# simirr_iipgpcc = simirr.interp_like(ip_gpcc).where(con_mask_igpcc).where(ip_mask_igpcc['mask'], drop=False)\n",
    "# simirr_iipgleam = simirr.interp_like(ip_gleam).where(con_mask_igleam).where(ip_mask_igleam['mask'], drop=False)\n",
    "# simirr_iipfluxcom = simirr.interp_like(ip_fluxcom).where(con_mask_ifluxcom).where(ip_mask_ifluxcom['mask'], drop=False)"
   ]
  },
  {
   "cell_type": "markdown",
   "metadata": {},
   "source": [
    "### Products interp to sim"
   ]
  },
  {
   "cell_type": "code",
   "execution_count": null,
   "metadata": {},
   "outputs": [],
   "source": [
    "#continental fraction mask (LMDZ outputs)\n",
    "con_mask=sim.mean(dim='time')['contfracOR']>0.95\n",
    "ip_mask=polygon_to_mask(sim, iberian_peninsula) * con_mask"
   ]
  },
  {
   "cell_type": "code",
   "execution_count": null,
   "metadata": {},
   "outputs": [],
   "source": [
    "# cont_sim=sim.where(con_mask)\n",
    "# cont_simirr=simirr.where(con_mask)\n",
    "\n",
    "ip_sim = sim.where(ip_mask, drop=False)\n",
    "ip_simirr = simirr.where(ip_mask, drop=False)\n",
    "# ip_sim.attrs['plot_color']='red'\n",
    "# ip_simirr.attrs['plot_color']='blue'"
   ]
  },
  {
   "cell_type": "code",
   "execution_count": null,
   "metadata": {},
   "outputs": [],
   "source": [
    "# era5\n",
    "# cont_era=era.where(con_mask_iera)\n",
    "# ip_era = cont_era.where(ip_mask_iera['mask'], drop=False)\n",
    "\n",
    "era_isim=era.interp_like(sim)\n",
    "# cont_era_isim=era_isim.where(con_mask)\n",
    "ip_era_isim = era_isim.where(ip_mask, drop=False)\n",
    "# era_isim.attrs['plot_color']=era.attrs['plot_color']\n",
    "# ip_era_isim.attrs['plot_color']=era.attrs['plot_color']"
   ]
  },
  {
   "cell_type": "code",
   "execution_count": null,
   "metadata": {},
   "outputs": [],
   "source": [
    "#era-land\n",
    "# cont_eraland=eraland.where(con_mask)\n",
    "# ip_eraland = eraland.where(ip_mask, drop=False)\n",
    "\n",
    "eraland_isim=eraland.interp_like(sim)\n",
    "# cont_eraland_isim=eraland_isim.where(con_mask)\n",
    "ip_eraland_isim = eraland_isim.where(ip_mask, drop=False)"
   ]
  },
  {
   "cell_type": "code",
   "execution_count": null,
   "metadata": {},
   "outputs": [],
   "source": [
    "#gleam\n",
    "# cont_gleam=gleam.where(con_mask_igleam)\n",
    "# ip_gleam = cont_gleam.where(ip_mask_igleam['mask'], drop=False)\n",
    "\n",
    "gleam_isim=gleam.interp_like(sim)\n",
    "cont_gleam_isim=gleam_isim.where(con_mask)\n",
    "ip_gleam_isim = cont_gleam_isim.where(ip_mask, drop=False)\n",
    "\n",
    "# gleam_iipera=gleam.interp_like(era).where(con_mask_iera).where(ip_mask_iera['mask'], drop=False)"
   ]
  },
  {
   "cell_type": "code",
   "execution_count": null,
   "metadata": {},
   "outputs": [],
   "source": [
    "#fluxcom\n",
    "# cont_fluxcom=fluxcom.where(con_mask_ifluxcom)\n",
    "# ip_fluxcom = cont_fluxcom.where(ip_mask_ifluxcom['mask'], drop=False)\n",
    "\n",
    "fluxcom_isim=fluxcom.interp_like(sim)\n",
    "cont_fluxcom_isim=fluxcom_isim.where(con_mask)\n",
    "ip_fluxcom_isim = cont_fluxcom_isim.where(ip_mask, drop=False)\n",
    "\n",
    "# fluxcom_iipera=fluxcom.interp_like(era).where(con_mask_iera).where(ip_mask_iera['mask'], drop=False)"
   ]
  },
  {
   "cell_type": "code",
   "execution_count": null,
   "metadata": {},
   "outputs": [],
   "source": [
    "#gpcc\n",
    "# cont_gpcc=gpcc.where(con_mask_igpcc)\n",
    "# ip_gpcc = cont_gpcc.where(ip_mask_igpcc['mask'], drop=False)\n",
    "\n",
    "gpcc_isim=gpcc.interp_like(sim)\n",
    "cont_gpcc_isim=gpcc_isim.where(con_mask)\n",
    "ip_gpcc_isim = cont_gpcc_isim.where(ip_mask, drop=False)\n",
    "\n",
    "# gpcc_iipera=gpcc.interp_like(era).where(con_mask_iera).where(ip_mask_iera['mask'], drop=False)"
   ]
  },
  {
   "cell_type": "code",
   "execution_count": null,
   "metadata": {},
   "outputs": [],
   "source": [
    "#cru\n",
    "# cont_cru=cru.where(con_mask)\n",
    "# ip_cru = cont_cru.where(ip_mask, drop=False)\n",
    "\n",
    "cru_isim=cru.interp_like(sim)\n",
    "cont_cru_isim=cru_isim.where(con_mask)\n",
    "ip_cru_isim = cont_cru_isim.where(ip_mask, drop=False)"
   ]
  },
  {
   "cell_type": "markdown",
   "metadata": {},
   "source": [
    "## Diff datasets"
   ]
  },
  {
   "cell_type": "code",
   "execution_count": null,
   "metadata": {},
   "outputs": [],
   "source": [
    "compute_diffs=False"
   ]
  },
  {
   "cell_type": "code",
   "execution_count": null,
   "metadata": {},
   "outputs": [],
   "source": [
    "if compute_diffs:\n",
    "    sim_diff=simirr-sim\n",
    "    ip_sim_diff=ip_simirr-ip_sim"
   ]
  },
  {
   "cell_type": "code",
   "execution_count": null,
   "metadata": {},
   "outputs": [],
   "source": [
    "#era\n",
    "if compute_diffs:\n",
    "    sim_era_diff=sim - era_isim\n",
    "    ip_sim_era_diff=ip_simirr - ip_era_isim\n",
    "    #mean of both diff datasets\n",
    "    sim_era_diff_mean = sim_era_diff.mean(dim='time')\n",
    "    ip_sim_era_diff_mean = ip_sim_era_diff.mean(dim='time')"
   ]
  },
  {
   "cell_type": "code",
   "execution_count": null,
   "metadata": {},
   "outputs": [],
   "source": [
    "#gleam\n",
    "if compute_diffs:\n",
    "    sim_gleam_diff=sim - gleam_isim\n",
    "    ip_sim_gleam_diff=ip_simirr - ip_gleam_isim\n",
    "    #mean of both diff datasets\n",
    "    sim_gleam_diff_mean = sim_gleam_diff.mean(dim='time')\n",
    "    ip_sim_gleam_diff_mean = ip_sim_gleam_diff.mean(dim='time')"
   ]
  },
  {
   "cell_type": "code",
   "execution_count": null,
   "metadata": {},
   "outputs": [],
   "source": [
    "#gpcc\n",
    "if compute_diffs:\n",
    "    sim_gpcc_diff=sim - gpcc_isim\n",
    "    ip_sim_gpcc_diff=ip_simirr - ip_gpcc_isim\n",
    "    #mean of both diff datasets\n",
    "    sim_gpcc_diff_mean = sim_gpcc_diff.mean(dim='time')\n",
    "    ip_sim_gpcc_diff_mean = ip_sim_gpcc_diff.mean(dim='time')"
   ]
  },
  {
   "cell_type": "markdown",
   "metadata": {},
   "source": [
    "# Maps"
   ]
  },
  {
   "cell_type": "code",
   "execution_count": null,
   "metadata": {},
   "outputs": [],
   "source": [
    "#Display map of var for ds\n",
    "var='evap'\n",
    "ds=sim\n",
    "color_map=emb\n",
    "\n",
    "vmin=-140\n",
    "vmax= 140\n",
    "# vmin=None\n",
    "# vmin,vmax=None, None\n",
    "# cbar_label='Altitude (m)'\n",
    "cbar_label=None\n",
    "title=None\n",
    "poly=None\n",
    "\n",
    "# map_plotvar(ds[var])\n",
    "map_ave(ds, var, cmap=color_map, figsize=(8,4), title=title, vmin=vmin, vmax=vmax, clabel=cbar_label, poly=poly)"
   ]
  },
  {
   "cell_type": "code",
   "execution_count": null,
   "metadata": {},
   "outputs": [],
   "source": [
    "#Diff map\n",
    "var='LWdnSFC'\n",
    "ds1=ip_sim\n",
    "ds2=ip_era_isim\n",
    "# ds2=ip_fluxcom_isim\n",
    "# ds2=gleam_isim\n",
    "# ds2=ip_gpcc_isim\n",
    "\n",
    "max_value= 25.0\n",
    "min_value=-25.0\n",
    "# max_value=None\n",
    "# min_value=None\n",
    "# min_value,max_value=None, None\n",
    "\n",
    "cmap=emb_neutral\n",
    "\n",
    "# clabel='Precipitation bias (mm/d)'\n",
    "# title='Bias : LMDZ ZG - GPCC (2010-2014)'\n",
    "clabel, title=None, None\n",
    "\n",
    "map_diff_ave(ds1, ds2, var, vmin=min_value, vmax=max_value, cmap=cmap,clabel=clabel, title=title,\n",
    "             sig=False, sig_viz=3)\n",
    "# diff=ds1[var]-ds2[var]\n",
    "# map_seasons(diff, cmap=emb_neutral, vmin=min_value, vmax=max_value, title=title, hex=False"
   ]
  },
  {
   "cell_type": "code",
   "execution_count": null,
   "metadata": {},
   "outputs": [],
   "source": [
    "#map for 4 seasons\n",
    "var='evap'\n",
    "\n",
    "date_min = '2010-01-01'\n",
    "date_max = '2019-12-31'\n",
    "\n",
    "ds1=ip_sim.sel(time=slice(date_min,date_max))\n",
    "ds2=ip_gleam_isim.sel(time=slice(date_min,date_max))\n",
    "\n",
    "max_value= 1.5\n",
    "min_value=-1.5\n",
    "# min_value,max_value=None, None\n",
    "cmap=emb_neutral\n",
    "\n",
    "diff=ds1[var]-ds2[var]\n",
    "title='{} diff, {} vs {} ({})'.format( var, ds1.attrs['name'], ds2.attrs['name'], ds1[var].attrs['units'])\n",
    "plotvar=diff\n",
    "\n",
    "map_seasons(plotvar, cmap=cmap, vmin=min_value, vmax=max_value, title=title, hex=False)"
   ]
  },
  {
   "cell_type": "code",
   "execution_count": null,
   "metadata": {},
   "outputs": [],
   "source": [
    "if TS_flag:\n",
    "    filename = '{}/*/SRF/TS_MO/*.nc'.format(noirr_dir)\n",
    "elif not TS_flag:\n",
    "    filename = '{}/*/SRF/MO/*history.nc'.format(irr_dir)\n",
    "\n",
    "ORCirr0 = xr.open_mfdataset(filename)\n",
    "ORCirr = ORCirr0.rename({'time_counter':'time'})\n",
    "ORCirr.attrs['name'] = 'irr'\n",
    "ORCirr.attrs['plot_color'] = \"#0C5DA5\"\n",
    "ORCirr = ORCirr.sel(lon=slice(lon_min,lon_max),lat=slice(lat_min,lat_max))\n",
    "\n",
    "ORCirr['snowmelt'] = ORCirr['snowmelt'] * 24 * 3600\n",
    "ORCirr['snowmelt'].attrs['units'] = 'mm/day'\n",
    "\n",
    "ORCirr"
   ]
  },
  {
   "cell_type": "code",
   "execution_count": null,
   "metadata": {},
   "outputs": [],
   "source": [
    "# Display 2 maps of var\n",
    "var = 'SWupSFC'\n",
    "min_value=None\n",
    "max_value=None\n",
    "color_map=wet\n",
    "ds1=sim_iera\n",
    "ds2=era\n",
    "map_two_ds(ds1, ds2, var, vmin=min_value, figsize=(15,6), vmax=max_value, cmap=color_map)"
   ]
  },
  {
   "cell_type": "code",
   "execution_count": null,
   "metadata": {},
   "outputs": [],
   "source": [
    "#Display map of var for ds on restricted area\n",
    "var='evap'\n",
    "ds = sim\n",
    "latmin=36.7\n",
    "latmax=36.9\n",
    "lonmin=-6.4\n",
    "lonmax=-6.2\n",
    "\n",
    "#restrict ds to latmin, latmax, lonmin, lonmax\n",
    "ds = ds.where(ds.lat >= latmin, drop=True).where(ds.lat <= latmax, drop=True)\n",
    "ds = ds.where(ds.lon >= lonmin, drop=True).where(ds.lon <= lonmax, drop=True)\n",
    "plotvar = ds[var].mean(dim='time')\n",
    "map_plotvar(plotvar, cmap=emb_neutral_neutral, vmax=None, title=var)"
   ]
  },
  {
   "cell_type": "code",
   "execution_count": null,
   "metadata": {},
   "outputs": [],
   "source": [
    "#Relative diff map\n",
    "var='precip'\n",
    "max_value=None\n",
    "ds1=cont_fluxcom\n",
    "ds2=ip_fluxcom\n",
    "# plt.title('Gross primary production relative difference (%)')\n",
    "map_rel_diff_ave(ds1, ds2, var, vmax=max_value)"
   ]
  },
  {
   "cell_type": "code",
   "execution_count": null,
   "metadata": {},
   "outputs": [],
   "source": [
    "ds=sim\n",
    "scale=2000\n",
    "dist=2\n",
    "extra_var='norm'\n",
    "cmap=emb\n",
    "vmin=None\n",
    "vmax=1550\n",
    "vmin,vmax=None, None\n",
    "poly=ebro\n",
    "map_moisture_transport(ds, extra_var=extra_var, cmap=cmap, vmin=vmin, vmax=vmax, dist=dist,scale=scale, poly=poly)"
   ]
  },
  {
   "cell_type": "markdown",
   "metadata": {},
   "source": [
    "# Time series"
   ]
  },
  {
   "cell_type": "code",
   "execution_count": null,
   "metadata": {},
   "outputs": [],
   "source": [
    "ip_gpcc_isim.attrs['plot_color']='black'"
   ]
  },
  {
   "cell_type": "code",
   "execution_count": null,
   "metadata": {},
   "outputs": [],
   "source": [
    "var='precip'\n",
    "\n",
    "ds1=ip_sim\n",
    "# ds2=ip_sim\n",
    "ds3=ip_simirr\n",
    "# ds4=ip_gleam_isim\n",
    "# ds5=ip_fluxcom_isim\n",
    "\n",
    "# ds5=ip_eraland_isim\n",
    "# ds4=ip_gpcc_isim\n",
    "# ds1=ip_cru_isim\n",
    "\n",
    "# ds_list=[ds1, ds2, ds3]#, ds4]#, ds5]\n",
    "\n",
    "# ds1=fluxcom\n",
    "ds_list=[ds1, ds3]\n",
    "\n",
    "year_min=2010\n",
    "year_max=2022\n",
    "\n",
    "# ylabel='Precipitation (mm/d)'\n",
    "ylabel=None\n",
    "\n",
    "# title='Seasonal cycle of {} ({}, {}-{})'.format(var, ds1[var].attrs['units'], year_min, year_max)\n",
    "title=None\n",
    "# title='off'\n",
    "\n",
    "figsize=(8.5,5)\n",
    "\n",
    "time_series_ave(ds_list, var, ds_colors=True, year_min=year_min, year_max=year_max, title='{} {}'.format(var, ds1[var].attrs['units']))\n",
    "seasonal_cycle_ave(ds_list, var, ds_colors=True, year_min=year_min, year_max=year_max, ylabel=ylabel, title=title, figsize=figsize)"
   ]
  },
  {
   "cell_type": "markdown",
   "metadata": {},
   "source": [
    "# Scatter plots"
   ]
  },
  {
   "cell_type": "code",
   "execution_count": null,
   "metadata": {},
   "outputs": [],
   "source": [
    "var1='precip'\n",
    "ds1=ip_sim_era_diff_mean\n",
    "#remove values where precip is smaller than 5\n",
    "mask=ds1[var1] < 2\n",
    "ds1=ds1.where(mask)\n",
    "\n",
    "var2='evap'\n",
    "# ds2=ip_sim_era_diff\n",
    "ds2=ds1\n",
    "\n",
    "scatter_vars(ds1, ds2, var1, var2, reg=False)"
   ]
  },
  {
   "cell_type": "code",
   "execution_count": null,
   "metadata": {},
   "outputs": [],
   "source": [
    "var1='precip'\n",
    "ds1=ip_sim_gpcc_diff_mean\n",
    "#remove values where precip is smaller than 2\n",
    "mask=ds1[var1] < 2\n",
    "ds1=ds1.where(mask)\n",
    "\n",
    "var2='evap'\n",
    "ds2=ip_sim_gleam_diff_mean\n",
    "ds2=ds2.where(mask)\n",
    "scatter_vars(ds1, ds2, var1, var2, reg=False)"
   ]
  },
  {
   "cell_type": "markdown",
   "metadata": {},
   "source": [
    "# Wind"
   ]
  },
  {
   "cell_type": "code",
   "execution_count": null,
   "metadata": {},
   "outputs": [],
   "source": [
    "ds = ip_sim\n",
    "dist=2\n",
    "height='10m'\n",
    "scale=20\n",
    "vmin=0\n",
    "vmax=2\n",
    "map_wind(ds, dist=dist, height=height, vmin=vmin, vmax=vmax, scale=scale)"
   ]
  },
  {
   "cell_type": "code",
   "execution_count": null,
   "metadata": {},
   "outputs": [],
   "source": [
    "ds1 = ip_simirr\n",
    "# ds1=ds1.sel(time=ds1['time.month'].isin([6,7,8]))\n",
    "ds2 = ip_sim\n",
    "# ds2=ds2.sel(time=ds2['time.month'].isin([6,7,8]))\n",
    "dist=5\n",
    "height='10m'\n",
    "scale=0.2\n",
    "vmin=-0.1\n",
    "vmax= 0.1\n",
    "map_wind_diff(ds1, ds2, dist=dist, height=height, vmin=vmin, vmax=vmax, scale=scale)"
   ]
  },
  {
   "cell_type": "code",
   "execution_count": null,
   "metadata": {},
   "outputs": [],
   "source": [
    "# 850hPa wind difference\n",
    "ds1 = ip_simirr\n",
    "ds2 = ip_sim\n",
    "dist=2\n",
    "\n",
    "#compute wind speed\n",
    "wind_speed1 = (ds1['u850'][0,:,:]**2 + ds1['v850'][0,:,:]**2)**(1/2)\n",
    "wind_speed2 = (ds2['u850'][0,:,:]**2 + ds2['v850'][0,:,:]**2)**(1/2)\n",
    "wind_speed_diff = wind_speed1 - wind_speed2\n",
    "#extract x and y (u and v) components and reduce dimension\n",
    "longi=ds['lon'][::dist]\n",
    "lati=ds['lat'][::dist]\n",
    "windx1 = ds1['u850'][0,::dist,::dist]\n",
    "windy1 = ds1['v850'][0,::dist,::dist]\n",
    "windx2 = ds2['u850'][0,::dist,::dist]\n",
    "windy2 = ds2['v850'][0,::dist,::dist]\n",
    "windx_diff = windx1 - windx2\n",
    "windy_diff = windy1 - windy2\n",
    "\n",
    "\n",
    "#display map\n",
    "fig = plt.figure(figsize=(10, 7.5))\n",
    "ax = plt.axes(projection=ccrs.PlateCarree())\n",
    "# gridline setup\n",
    "ax.coastlines()\n",
    "ax.add_feature(rivers)\n",
    "gl = ax.gridlines(draw_labels=True, dms=True, x_inline=False, y_inline=False, alpha=0.8)\n",
    "gl.right_labels = False\n",
    "gl.top_labels = False\n",
    "gl.xlocator = plt.MaxNLocator(9)\n",
    "gl.ylocator = plt.MaxNLocator(9)\n",
    "wind_speed_diff.plot(ax=ax, transform=ccrs.PlateCarree(), cmap=emb)\n",
    "ax.quiver(longi, lati, windx_diff, windy_diff, transform=ccrs.PlateCarree(), scale=0.1)\n",
    "plt.title('850hPa wind speed (m/s) and direction difference')\n",
    "plt.show()\n"
   ]
  },
  {
   "cell_type": "markdown",
   "metadata": {},
   "source": [
    "# Moisture fluxes"
   ]
  },
  {
   "cell_type": "code",
   "execution_count": null,
   "metadata": {},
   "outputs": [],
   "source": [
    "ebro_mask=polygon_to_mask(sim, ebro)"
   ]
  },
  {
   "cell_type": "code",
   "execution_count": null,
   "metadata": {},
   "outputs": [],
   "source": [
    "ds=era\n",
    "mask=ip_mask\n",
    "mask=polygon_to_mask(ds, iberian_peninsula)\n",
    "era_budget=moisture_budget(ds, mask)\n",
    "era_budget"
   ]
  },
  {
   "cell_type": "code",
   "execution_count": null,
   "metadata": {},
   "outputs": [],
   "source": [
    "ds=era_isim\n",
    "mask=ip_mask\n",
    "mask=polygon_to_mask(ds, iberian_peninsula)\n",
    "era_budget=moisture_budget(ds, mask)\n",
    "era_budget"
   ]
  },
  {
   "cell_type": "markdown",
   "metadata": {},
   "source": [
    "# Vertical profiles"
   ]
  },
  {
   "cell_type": "code",
   "execution_count": null,
   "metadata": {},
   "outputs": [],
   "source": [
    "filename='../../../JZ_simu_outputs/LAM/HF_outputs_LAM_concat/TS_MO_irr_*.nc'\n",
    "lvls_irr=xr.open_mfdataset(filename)\n",
    "lvls_irr.attrs[\"name\"]='irr'\n",
    "#rename time_counter to time\n",
    "lvls_irr = lvls_irr.rename({'time_counter':'time'})\n",
    "lvls_irr"
   ]
  },
  {
   "cell_type": "code",
   "execution_count": null,
   "metadata": {},
   "outputs": [],
   "source": [
    "filename='../../../JZ_simu_outputs/LAM/HF_outputs_LAM_concat/TS_MO_noirr_*.nc'\n",
    "lvls_noirr=xr.open_mfdataset(filename)\n",
    "lvls_noirr.attrs[\"name\"]='no_irr'\n",
    "#rename time_counter to time\n",
    "lvls_noirr = lvls_noirr.rename({'time_counter':'time'})\n",
    "lvls_noirr"
   ]
  },
  {
   "cell_type": "code",
   "execution_count": null,
   "metadata": {},
   "outputs": [],
   "source": [
    "filename = '{}/SRF/MO/*history.nc'.format(irr_dir)\n",
    "orc0 = xr.open_mfdataset(filename)\n",
    "orc = orc0.rename({'time_counter':'time'})\n"
   ]
  },
  {
   "cell_type": "code",
   "execution_count": null,
   "metadata": {},
   "outputs": [],
   "source": [
    "orc_interp=orc.interp_like(lvls_irr)\n",
    "irr_mask = (orc_interp['irrigmap_dyn']/orc_interp['Areas'])>0.1\n",
    "nonirr_mask = (orc_interp['irrigmap_dyn']/orc_interp['Areas'])<=0.1"
   ]
  },
  {
   "cell_type": "code",
   "execution_count": null,
   "metadata": {},
   "outputs": [],
   "source": [
    "lvls_irr_irrigated=lvls_irr.where(irr_mask)\n",
    "lvls_irr_irrigated.attrs['name']='irrigated'\n",
    "lvls_irr_nonirrigated=lvls_noirr.where(nonirr_mask)\n",
    "lvls_irr_nonirrigated.attrs['name']='non_irrigated'"
   ]
  },
  {
   "cell_type": "code",
   "execution_count": null,
   "metadata": {},
   "outputs": [],
   "source": [
    "ip_mask=polygon_to_mask(lvls_irr, iberic_peninsula)\n",
    "\n",
    "ip_lvls_irr=lvls_irr.where(ip_mask, drop=False)\n",
    "ip_lvls_irr.attrs['name']='irr'\n",
    "\n",
    "ip_lvls_noirr=lvls_noirr.where(ip_mask, drop=False)\n",
    "ip_lvls_noirr.attrs['name']='no_irr'\n",
    "\n",
    "ip_lvls_irr_irrigated = lvls_irr.where(irr_mask).where(ip_mask, drop=False)\n",
    "ip_lvls_irr_irrigated.attrs['name']='irrigated'\n",
    "\n",
    "ip_lvls_irr_nonirrigated = lvls_irr.where(nonirr_mask).where(ip_mask, drop=False)\n",
    "ip_lvls_irr_nonirrigated.attrs['name']='nonirrigated'"
   ]
  },
  {
   "cell_type": "code",
   "execution_count": null,
   "metadata": {},
   "outputs": [],
   "source": [
    "# t and q profiles\n",
    "#select a lon-lat box\n",
    "latmin=41\n",
    "latmax=43\n",
    "lonmin=-2\n",
    "lonmax=1\n",
    "var='q'\n",
    "ds1=simirr.sel(lon=slice(lonmin,lonmax),lat=slice(latmin,latmax))\n",
    "ds2=sim.sel(lon=slice(lonmin,lonmax),lat=slice(latmin,latmax))\n",
    "\n",
    "ds_list=[ds1, ds2]\n",
    "\n",
    "profile_reflevs(ds_list, var)"
   ]
  },
  {
   "cell_type": "code",
   "execution_count": null,
   "metadata": {},
   "outputs": [],
   "source": [
    "# profile\n",
    "preslevelmax=50\n",
    "var='ovap'\n",
    "# select a lon-lat box\n",
    "latmin=41\n",
    "latmax=43\n",
    "lonmin=-2\n",
    "lonmax=1\n",
    "# #spain\n",
    "# latmin=36\n",
    "# latmax=44\n",
    "# lonmin=-9.5\n",
    "# lonmax=3\n",
    "\n",
    "ds1=ip_lvls_irr_irrigated\n",
    "ds1= ds1.sel(lon=slice(lonmin,lonmax),lat=slice(latmin,latmax))\n",
    "#select only JJA season\n",
    "# ds1=ds1.sel(time=ds1['time.month'].isin([6,7,8]))\n",
    "\n",
    "ds2=ip_lvls_irr_nonirrigated\n",
    "ds2=ds2.sel(lon=slice(lonmin,lonmax),lat=slice(latmin,latmax))\n",
    "#select only JJA season\n",
    "# ds2=ds2.sel(time=ds2['time.month'].isin([6,7,8]))\n",
    "\n",
    "ds_list=[ds1, ds2]\n",
    "profile_preslevs(ds_list, var, preslevelmax=preslevelmax)"
   ]
  },
  {
   "cell_type": "code",
   "execution_count": null,
   "metadata": {},
   "outputs": [],
   "source": [
    "#temp at first level (better than t2m)\n",
    "months=[6,7,8]\n",
    "var1=ip_lvls_noirr['ovap'][:,0,:,:].sel(time=simirr['time.month'].isin(months))\n",
    "var2=ip_lvls_irr['ovap'][:,0,:,:].sel(time=simirr['time.month'].isin(months))\n",
    "temp_diff=(var2-var1).mean(dim='time')\n",
    "temp_diff.attrs['units']='K'\n",
    "# p_values = xr.apply_ufunc(\n",
    "#     lambda x, y: ttest_ind(x, y, axis=0, nan_policy='omit').pvalue, \n",
    "#     var1, var2,\n",
    "#     input_core_dims=[['time'], ['time']],\n",
    "#     output_core_dims=[[]],\n",
    "#     vectorize=True,\n",
    "#     dask='parallelized',\n",
    "#     output_dtypes=[float]\n",
    "# )\n",
    "# mask=p_values<0.05\n",
    "# temp_diff=temp_diff.where(mask)\n",
    "map_plotvar(temp_diff, in_cmap=emb, in_vmax=None, title='First level temperature (K) diff (irr-noirr)')"
   ]
  },
  {
   "cell_type": "markdown",
   "metadata": {},
   "source": [
    "# Testing seasonnal dataset"
   ]
  },
  {
   "cell_type": "code",
   "execution_count": null,
   "metadata": {},
   "outputs": [],
   "source": [
    "ds=ip_simirr\n",
    "var='evap'\n",
    "ds_seasons=seasonnal_ds_list(ds)\n",
    "# time_series_ave(ds_seasons, var)\n",
    "for ds_season in ds_seasons:\n",
    "    map_ave(ds_season, var, cmap=wet, vmin=0, vmax=5, title='{} ({})'.format(var, ds_season.attrs['name']))"
   ]
  }
 ],
 "metadata": {
  "kernelspec": {
   "display_name": "lam1env",
   "language": "python",
   "name": "python3"
  },
  "language_info": {
   "codemirror_mode": {
    "name": "ipython",
    "version": 3
   },
   "file_extension": ".py",
   "mimetype": "text/x-python",
   "name": "python",
   "nbconvert_exporter": "python",
   "pygments_lexer": "ipython3",
   "version": "3.12.10"
  }
 },
 "nbformat": 4,
 "nbformat_minor": 2
}
