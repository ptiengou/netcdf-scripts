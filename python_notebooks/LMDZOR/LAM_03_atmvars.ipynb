{
 "cells": [
  {
   "cell_type": "markdown",
   "metadata": {},
   "source": [
    "# Imports and setting up viz\n",
    "\n",
    "NB : conda env1 on PC, lam1env on spirit (Python3.12)"
   ]
  },
  {
   "cell_type": "code",
   "execution_count": null,
   "metadata": {},
   "outputs": [],
   "source": [
    "%load_ext autoreload\n",
    "%autoreload 2\n",
    "%matplotlib inline\n",
    "\n",
    "#import personnal tools\n",
    "import sys\n",
    "sys.path.append('../../python_tools/')\n",
    "from tools import *"
   ]
  },
  {
   "cell_type": "code",
   "execution_count": 13,
   "metadata": {},
   "outputs": [],
   "source": [
    "# rivers = cfeature.NaturalEarthFeature('physical', 'rivers_lake_centerlines', '10m',edgecolor=(0, 0, 0, 0.3), facecolor='none')"
   ]
  },
  {
   "cell_type": "markdown",
   "metadata": {},
   "source": [
    "# Load and edit files\n",
    "\n",
    "LAM output analysis.\n",
    "\n",
    "simu irr et simu no-irr."
   ]
  },
  {
   "cell_type": "markdown",
   "metadata": {},
   "source": [
    "## Area and period selection"
   ]
  },
  {
   "cell_type": "code",
   "execution_count": 14,
   "metadata": {},
   "outputs": [],
   "source": [
    "lon_min=-19\n",
    "lon_max=12\n",
    "lat_min=28\n",
    "lat_max=53\n",
    "\n",
    "lon_min=-10\n",
    "lon_max=4\n",
    "lat_min=34\n",
    "lat_max=46\n",
    "\n",
    "\n",
    "date_min = '2010-01-01'\n",
    "date_max = '2022-12-31'"
   ]
  },
  {
   "cell_type": "code",
   "execution_count": 15,
   "metadata": {},
   "outputs": [],
   "source": [
    "#filter to keep only certain period\n",
    "# season='SON'\n",
    "# sim = sim.where(sim['time.season'] == season, drop=True)\n",
    "# simirr = simirr.where(simirr['time.season'] == season, drop=True)"
   ]
  },
  {
   "cell_type": "markdown",
   "metadata": {},
   "source": [
    "## Sims"
   ]
  },
  {
   "cell_type": "code",
   "execution_count": 16,
   "metadata": {},
   "outputs": [],
   "source": [
    "# noirr_dir='../../../JZ_simu_outputs/LAM/LAM_1000_40/noirr_2010_2022'\n",
    "# irr_dir='../../../JZ_simu_outputs/LAM/LAM_1000_40/irr_2010_2022'\n",
    "noirr_dir='../../../JZ_simu_outputs/LAM/LAM_1500_60/noirr'\n",
    "irr_dir='../../../JZ_simu_outputs/LAM/LAM_1500_60/irr'"
   ]
  },
  {
   "cell_type": "code",
   "execution_count": null,
   "metadata": {},
   "outputs": [],
   "source": [
    "#sim\n",
    "filename = '{}/*/ATM/TS_MO/*.nc'.format(noirr_dir)\n",
    "# filename = '{}/*/ATM/MO/*.nc'.format(noirr_dir)\n",
    "\n",
    "sim0 = xr.open_mfdataset(filename)\n",
    "sim0.attrs['name'] = 'no_irr'\n",
    "sim = sim0.rename({'time_counter':'time'})\n",
    "sim = sim.sel(lon=slice(lon_min, lon_max),lat=slice(lat_min, lat_max))\n",
    "\n",
    "sim['evap'] = sim['evap'] *3600 * 24\n",
    "sim['evap'].attrs['units'] = 'mm/d'\n",
    "sim['evap'].attrs['long_name'] = 'Evapotranspiration'\n",
    "\n",
    "sim['precip'] = sim['precip'] *3600 * 24\n",
    "sim['precip'].attrs['units'] = 'mm/d'\n",
    "sim['precip'].attrs['long_name'] = 'Total precipitation'\n",
    "\n",
    "sim['fluxsens']= -sim['sens']\n",
    "\n",
    "sim['netrad'] = sim['LWdnSFC'] - sim['LWupSFC'] + sim['SWdnSFC'] - sim['SWupSFC']\n",
    "sim['netrad'].attrs['units'] = 'W/m2'\n",
    "\n",
    "sim['SWnetSFC'] = sim['SWdnSFC'] - sim['SWupSFC']\n",
    "sim['SWnetSFC'].attrs['units'] = 'W/m2'\n",
    "\n",
    "sim['LWnetSFC'] = sim['LWdnSFC'] - sim['LWupSFC']\n",
    "sim['LWnetSFC'].attrs['units'] = 'W/m2'\n",
    "\n",
    "sim['P - E'] = sim['precip'] - sim['evap']\n",
    "sim['P - E'].attrs['units'] = 'mm/d'\n",
    "\n",
    "# sim['Altitude'] = sim['phis'] / 9.81\n",
    "# sim['Altitude'].attrs['units'] = 'm'\n",
    "\n",
    "sim"
   ]
  },
  {
   "cell_type": "code",
   "execution_count": null,
   "metadata": {},
   "outputs": [],
   "source": [
    "#sim irr\n",
    "filename = '{}/*/ATM/TS_MO/*.nc'.format(irr_dir)\n",
    "# filename = '{}/*/ATM/MO/*.nc'.format(irr_dir)\n",
    "\n",
    "sim0irr = xr.open_mfdataset(filename)\n",
    "sim0irr.attrs['name'] = 'irr'\n",
    "simirr = sim0irr.rename({'time_counter':'time'})\n",
    "simirr = simirr.sel(lon=slice(lon_min, lon_max),lat=slice(lat_min, lat_max))\n",
    "\n",
    "simirr['evap'] = simirr['evap'] *3600 * 24\n",
    "simirr['evap'].attrs['units'] = 'mm/d'\n",
    "\n",
    "simirr['precip'] = simirr['precip'] *3600 * 24\n",
    "simirr['precip'].attrs['units'] = 'mm/d'\n",
    "\n",
    "simirr['fluxsens']= -simirr['sens']\n",
    "\n",
    "simirr['netrad'] = simirr['LWdnSFC'] - simirr['LWupSFC'] + simirr['SWdnSFC'] - simirr['SWupSFC']\n",
    "simirr['netrad'].attrs['units'] = 'W/m2'\n",
    "\n",
    "simirr['SWnetSFC'] = simirr['SWdnSFC'] - simirr['SWupSFC']\n",
    "simirr['SWnetSFC'].attrs['units'] = 'W/m2'\n",
    "\n",
    "simirr['LWnetSFC'] = simirr['LWdnSFC'] - simirr['LWupSFC']\n",
    "simirr['LWnetSFC'].attrs['units'] = 'W/m2'\n",
    "\n",
    "simirr['P - E'] = simirr['precip'] - simirr['evap']\n",
    "simirr['P - E'].attrs['units'] = 'mm/d'\n",
    "\n",
    "# simirr['Altitude'] = simirr['phis'] / 9.81\n",
    "# simirr['Altitude'].attrs['units'] = 'm'\n",
    "\n",
    "simirr\n"
   ]
  },
  {
   "cell_type": "markdown",
   "metadata": {},
   "source": [
    "## Obs"
   ]
  },
  {
   "cell_type": "markdown",
   "metadata": {},
   "source": [
    "### ERA5"
   ]
  },
  {
   "cell_type": "code",
   "execution_count": null,
   "metadata": {},
   "outputs": [],
   "source": [
    "#open ERA5 file\n",
    "# filename = '../../../obs/ERA5_eval_2010_2022.nc'\n",
    "filename = '../../../obs/ERA5_large_eval.nc'\n",
    "\n",
    "era = xr.open_mfdataset(filename)\n",
    "era.attrs['name'] = 'ERA5'\n",
    "#define or edit vars\n",
    "#name ERA5 vars like in LMDZOR outputs\n",
    "dict =  {\n",
    "        'longitude':'lon',\n",
    "        'latitude':'lat',\n",
    "        'e':'evap',\n",
    "        'ro':'totrunoff',\n",
    "        'tp':'precip',\n",
    "        'u10':'u10m',\n",
    "        'v10':'v10m',\n",
    "        'p71.162' : 'uq',\n",
    "        'p72.162' : 'vq',\n",
    "        'sshf' : 'fluxsens',\n",
    "        'slhf' : 'fluxlat',\n",
    "        'si10' : 'sfcWind',\n",
    "        'ssrd' : 'SWdnSFC',\n",
    "        'strd' : 'LWdnSFC',\n",
    "        'ssr' : 'SWnetSFC',\n",
    "        'str' : 'LWnetSFC',\n",
    "        }\n",
    "era = era.rename(dict)\n",
    "era=era.sel(time=slice(date_min, date_max))\n",
    "era = era.sel(lon=slice(lon_min,lon_max),lat=slice(lat_max, lat_min))\n",
    "\n",
    "#make evap positive in era\n",
    "era['evap'] = -era['evap'] * 1000\n",
    "era['evap'].attrs['units'] = 'mm/d'\n",
    "era['precip'] = era['precip']*1000\n",
    "era['precip'].attrs['units'] = 'mm/d'\n",
    "era['fluxsens'] = -era['fluxsens'] / (3600 *24)\n",
    "era['fluxsens'].attrs['units'] = 'W/m2'\n",
    "# era['cldt'] = era['tcc']*100\n",
    "# era['cldt'].attrs['units'] = '%'\n",
    "\n",
    "era['P - E'] = era['precip'] - era['evap']\n",
    "era['P - E'].attrs['units'] = 'mm/d'\n",
    "\n",
    "era['calcWind'] = np.sqrt(era['u10m']**2 + era['v10m']**2)\n",
    "era['calcWind'].attrs['units'] = 'm/s'\n",
    "   \n",
    "#convert 4 radiation variables from J/m2 to W/m2\n",
    "era['SWdnSFC'] = era['SWdnSFC'] / (3600 *24)\n",
    "era['SWdnSFC'].attrs['units'] = 'W/m2'\n",
    "era['LWdnSFC'] = era['LWdnSFC'] / (3600 *24)\n",
    "era['LWdnSFC'].attrs['units'] = 'W/m2'\n",
    "era['SWnetSFC'] = era['SWnetSFC'] / (3600 *24)\n",
    "era['SWnetSFC'].attrs['units'] = 'W/m2'\n",
    "era['LWnetSFC'] = era['LWnetSFC'] / (3600 *24)\n",
    "era['LWnetSFC'].attrs['units'] = 'W/m2'\n",
    "#add up vars and netrad\n",
    "era['LWupSFC'] = - era['LWnetSFC'] + era['LWdnSFC']\n",
    "era['LWupSFC'].attrs['units'] = 'W/m2'\n",
    "era['SWupSFC'] = - era['SWnetSFC'] + era['SWdnSFC']\n",
    "era['SWupSFC'].attrs['units'] = 'W/m2'\n",
    "era['netrad'] = era['LWnetSFC'] + era['SWnetSFC']\n",
    "era['netrad'].attrs['units'] = 'W/m2'\n",
    "\n",
    "era\n"
   ]
  },
  {
   "cell_type": "code",
   "execution_count": 38,
   "metadata": {},
   "outputs": [],
   "source": [
    "# #open tqruv file\n",
    "# filename='../../../obs/TQRUV_850_2010_2022_monthly.nc'\n",
    "# tqruv = xr.open_dataset(filename)\n",
    "# tqruv.attrs['name'] = 'ERA5'\n",
    "# tqruv = tqruv.sel(longitude=slice(-13,6),latitude=slice(49,32))\n",
    "# #rename longitude and latitude to lon and lat\n",
    "# tqruv = tqruv.rename({'longitude':'lon','latitude':'lat'})\n",
    "\n",
    "# #rename all variables to add 850 in name\n",
    "# tqruv['u850'] = tqruv['u']\n",
    "# tqruv['v850'] = tqruv['v']\n",
    "# tqruv['q850'] = tqruv['q']\n",
    "# tqruv['t850'] = tqruv['t']\n",
    "# tqruv['r850'] = tqruv['r']\n",
    "# tqruv"
   ]
  },
  {
   "cell_type": "markdown",
   "metadata": {},
   "source": [
    "### ERA-Land"
   ]
  },
  {
   "cell_type": "code",
   "execution_count": null,
   "metadata": {},
   "outputs": [],
   "source": [
    "filename = '../../../obs/ERA5-Land.nc'\n",
    "eraland = xr.open_dataset(filename)\n",
    "eraland.attrs['name'] = 'ERA5-Land'\n",
    "rename_dict = {'longitude':'lon',\n",
    "               'latitude':'lat',\n",
    "               'valid_time':'time',\n",
    "               'skt':'temp_sol',\n",
    "               'sro':'runoff',\n",
    "               'ro':'mrro',\n",
    "               'ssr':'SW_net',\n",
    "               'str':'LW_net',\n",
    "               'sshf':'fluxsens',\n",
    "               'slhf':'fluxlat',\n",
    "               'tp':'precip',\n",
    "               'src':'fastr'\n",
    "               }\n",
    "eraland = eraland.rename(rename_dict)\n",
    "\n",
    "eraland['mrsos'] = eraland['swvl1']*0.1*1000\n",
    "eraland['mrsos'].attrs['units'] = 'mm'\n",
    "#average variables swl1 to swvl4\n",
    "eraland['lvl1-4_ave'] = (eraland['swvl1'] * 7 + eraland['swvl2'] * 21 + eraland['swvl3'] * 72 + eraland['swvl4'] * 189 )  / 289\n",
    "eraland['humtot'] = eraland['lvl1-4_ave']*2*1000\n",
    "eraland['humtot'].attrs['units'] = 'mm'\n",
    "\n",
    "eraland['evap'] = - eraland['fluxlat'] * 0.408 * 0.0864\n",
    "eraland['evap'].attrs['units'] = 'mm/d'\n",
    "\n",
    "eraland"
   ]
  },
  {
   "cell_type": "markdown",
   "metadata": {},
   "source": [
    "### GLEAM"
   ]
  },
  {
   "cell_type": "code",
   "execution_count": null,
   "metadata": {},
   "outputs": [],
   "source": [
    "#gleam\n",
    "# filename='../../../obs/evap/E_1980-2022_GLEAM_v3.8a_MO.nc'\n",
    "# gleam0=xr.open_dataset(filename)\n",
    "# gleam0.attrs['name']='GLEAM'\n",
    "# gleam = gleam0.sel(lon=slice(lon_min, lon_max),lat=slice(lat_max, lat_min))\n",
    "# #adapt period\n",
    "# gleam=gleam.sel(time=slice('2010-01-01', '2022-12-31'))\n",
    "# #name gleam vars like in LMDZOR outputs\n",
    "# dict =  {\n",
    "#         'E':'evap'\n",
    "#         }\n",
    "# gleam = gleam.rename(dict)\n",
    "# #convert mm/month to mm/day\n",
    "# gleam['evap']=gleam['evap']/31\n",
    "# gleam['evap'].attrs['units']='mm/d'\n",
    "# gleam\n",
    "\n",
    "filename = '../../../obs/GLEAMv4.1a/E/*'\n",
    "gleam = xr.open_mfdataset(filename)\n",
    "gleam.attrs['name'] = 'GLEAMv4.1a'\n",
    "#restrict lon lat\n",
    "gleam = gleam.sel(lon=slice(lon_min,lon_max),lat=slice(lat_max,lat_min))\n",
    "#rename var SM\n",
    "gleam['evap']=gleam['E'] / 31\n",
    "gleam['evap'].attrs['units'] = 'mm/d'\n",
    "gleam"
   ]
  },
  {
   "cell_type": "markdown",
   "metadata": {},
   "source": [
    "### FluxCom"
   ]
  },
  {
   "cell_type": "code",
   "execution_count": null,
   "metadata": {},
   "outputs": [],
   "source": [
    "filename='../../..//obs/FluxCom/ensemble_rs-_meteo_ALL/monthly/*.RS_METEO.EBC-*.MLM-ALL.METEO-ALL.720_360.monthly.*.nc'\n",
    "fluxcom0=xr.open_mfdataset(filename)\n",
    "fluxcom=fluxcom0.sel(lon=slice(-13,6.25),lat=slice(lat_max, lat_min))\n",
    "fluxcom=fluxcom.sel(time=slice('2010-01-01', '2022-12-31'))\n",
    "\n",
    "fluxcom.attrs[\"name\"]='FluxCom'\n",
    "\n",
    "fluxcom['evap'] = fluxcom['LE'] * 0.408 # To convert from MJ/m2/d to mm/d\n",
    "fluxcom['evap'].attrs['units'] = 'mm/d'\n",
    "\n",
    "fluxcom['fluxlat'] = fluxcom['LE'] / 0.0864 # To convert from MJ/m2/d to W/m2\n",
    "fluxcom['fluxlat'].attrs['units'] = 'W/m²'\n",
    "\n",
    "fluxcom['fluxsens'] = fluxcom['H'] / 0.0864 # To convert from MJ/m2/d to W/m2\n",
    "fluxcom['fluxsens'].attrs['units'] = 'W/m²'\n",
    "\n",
    "fluxcom['netrad'] = fluxcom['Rn'] / 0.0864 # To convert from MJ/m2/d to W/m2\n",
    "fluxcom['netrad'].attrs['units'] = 'W/m²'\n",
    "fluxcom"
   ]
  },
  {
   "cell_type": "markdown",
   "metadata": {},
   "source": [
    "### GPCC"
   ]
  },
  {
   "cell_type": "code",
   "execution_count": null,
   "metadata": {},
   "outputs": [],
   "source": [
    "#gpcc\n",
    "filename='../../../obs/precips/precip.mon.total.0.25x0.25.v2020.nc'\n",
    "gpcc0=xr.open_mfdataset(filename)\n",
    "gpcc0.attrs['name'] = 'GPCC'\n",
    "gpcc=gpcc0.sel(time=slice('2010-01-01', '2022-12-31'))\n",
    "gpcc['lon'] = ((gpcc['lon'] + 180) % 360) - 180\n",
    "gpcc1 = gpcc.sortby('lon')\n",
    "\n",
    "# gpcc=gpcc.sel(lon=slice(-13,6.25),lat=slice(lat_min, lat_max))\n",
    "gpcc=gpcc1.sel(lon=slice(-13,6.25),lat=slice(lat_max, lat_min))\n",
    "\n",
    "# gpcc1=gpcc.sel(lon=slice(347,360),lat=slice(lat_max, lat_min))\n",
    "# gpcc2=gpcc.sel(lon=slice(0,6.25),lat=slice(lat_max, lat_min))\n",
    "# gpcc=xr.combine_by_coords([gpcc1, gpcc2])\n",
    "# gpcc = gpcc.where(gpcc['lon'] < 6.25, drop=True)\n",
    "\n",
    "# gpcc['lon']=gpcc['lon']-180.0\n",
    "# gpcc=gpcc.sel(lon=slice(-13,6.25))\n",
    "\n",
    "gpcc['precip'] = gpcc['precip'] / 30 #convert to mm/d\n",
    "gpcc['precip'].attrs['units'] = 'mm/d'\n",
    "gpcc"
   ]
  },
  {
   "cell_type": "markdown",
   "metadata": {},
   "source": [
    "## Masking, interpolation, and time period selection"
   ]
  },
  {
   "cell_type": "markdown",
   "metadata": {},
   "source": [
    "### Sims and products interp to products"
   ]
  },
  {
   "cell_type": "code",
   "execution_count": 25,
   "metadata": {},
   "outputs": [],
   "source": [
    "# sim_iera = sim.interp_like(era)\n",
    "# sim_igpcc = sim.interp_like(gpcc)\n",
    "# sim_igleam = sim.interp_like(gleam)\n",
    "# sim_ifluxcom = sim.interp_like(fluxcom)\n",
    "# # sim_itqruv = sim.interp_like(tqruv)\n",
    "\n",
    "# simirr_iera = simirr.interp_like(era)\n",
    "# simirr_igpcc = simirr.interp_like(gpcc)\n",
    "# simirr_igleam = simirr.interp_like(gleam)\n",
    "# simirr_ifluxcom = simirr.interp_like(fluxcom)\n",
    "# # simirr_itqruv = simirr.interp_like(tqruv)"
   ]
  },
  {
   "cell_type": "code",
   "execution_count": 26,
   "metadata": {},
   "outputs": [],
   "source": [
    "# #same masks but adatped when interpolated on obs grid\n",
    "# con_mask_iera=sim_iera['contfracOR']>0.9\n",
    "# ip_mask_iera=polygon_to_mask(sim_iera, iberian_peninsula)\n",
    "\n",
    "# con_mask_igpcc=sim_igpcc['contfracOR']>0.9\n",
    "# ip_mask_igpcc=polygon_to_mask(sim_igpcc, iberian_peninsula)\n",
    "\n",
    "# con_mask_igleam=sim_igleam['contfracOR']>0.9\n",
    "# ip_mask_igleam=polygon_to_mask(sim_igleam, iberian_peninsula)\n",
    "\n",
    "# con_mask_ifluxcom=sim_ifluxcom['contfracOR']>0.9\n",
    "# ip_mask_ifluxcom=polygon_to_mask(sim_ifluxcom, iberian_peninsula)"
   ]
  },
  {
   "cell_type": "code",
   "execution_count": 27,
   "metadata": {},
   "outputs": [],
   "source": [
    "# ip_sim_iera = ip_sim.interp_like(era)\n",
    "# ip_sim_igpcc = ip_sim.interp_like(gpcc)\n",
    "# ip_sim_igleam = ip_sim.interp_like(gleam)\n",
    "# ip_sim_ifluxcom = ip_sim.interp_like(fluxcom)\n",
    "# ip_sim_itqruv = ip_sim.interp_like(tqruv)\n",
    "\n",
    "# ip_simirr_iera = ip_simirr.interp_like(era)\n",
    "# ip_simirr_igpcc = ip_simirr.interp_like(gpcc)\n",
    "# ip_simirr_igleam = ip_simirr.interp_like(gleam)\n",
    "# ip_simirr_ifluxcom = ip_simirr.interp_like(fluxcom)\n",
    "# ip_simirr_itqruv = ip_simirr.interp_like(tqruv)"
   ]
  },
  {
   "cell_type": "code",
   "execution_count": 28,
   "metadata": {},
   "outputs": [],
   "source": [
    "# sim_iipera = sim.interp_like(era).where(con_mask_iera).where(ip_mask_iera['mask'], drop=False)\n",
    "# sim_iipgpcc = sim.interp_like(ip_gpcc).where(con_mask_igpcc).where(ip_mask_igpcc['mask'], drop=False)\n",
    "# sim_iipgleam = sim.interp_like(ip_gleam).where(con_mask_igleam).where(ip_mask_igleam['mask'], drop=False)\n",
    "# sim_iipfluxcom = sim.interp_like(ip_fluxcom).where(con_mask_ifluxcom).where(ip_mask_ifluxcom['mask'], drop=False)\n",
    "\n",
    "# simirr_iipera = simirr.interp_like(era).where(con_mask_iera).where(ip_mask_iera['mask'], drop=False)\n",
    "# simirr_iipgpcc = simirr.interp_like(ip_gpcc).where(con_mask_igpcc).where(ip_mask_igpcc['mask'], drop=False)\n",
    "# simirr_iipgleam = simirr.interp_like(ip_gleam).where(con_mask_igleam).where(ip_mask_igleam['mask'], drop=False)\n",
    "# simirr_iipfluxcom = simirr.interp_like(ip_fluxcom).where(con_mask_ifluxcom).where(ip_mask_ifluxcom['mask'], drop=False)"
   ]
  },
  {
   "cell_type": "markdown",
   "metadata": {},
   "source": [
    "### Products interp to sim"
   ]
  },
  {
   "cell_type": "code",
   "execution_count": null,
   "metadata": {},
   "outputs": [],
   "source": [
    "#continental fraction mask (LMDZ outputs)\n",
    "con_mask=sim['contfracOR']>0.9\n",
    "ip_mask=polygon_to_mask(sim, iberian_peninsula)"
   ]
  },
  {
   "cell_type": "code",
   "execution_count": 30,
   "metadata": {},
   "outputs": [],
   "source": [
    "cont_sim=sim.where(con_mask)\n",
    "cont_simirr=simirr.where(con_mask)\n",
    "\n",
    "ip_sim = sim.where(ip_mask['mask'], drop=False).where(con_mask)\n",
    "ip_simirr = simirr.where(ip_mask['mask'], drop=False).where(con_mask)"
   ]
  },
  {
   "cell_type": "code",
   "execution_count": 31,
   "metadata": {},
   "outputs": [],
   "source": [
    "# era5\n",
    "# cont_era=era.where(con_mask_iera)\n",
    "# ip_era = cont_era.where(ip_mask_iera['mask'], drop=False)\n",
    "\n",
    "era_isim=era.interp_like(sim)\n",
    "cont_era_isim=era_isim.where(con_mask)\n",
    "ip_era_isim = cont_era_isim.where(ip_mask['mask'], drop=False)"
   ]
  },
  {
   "cell_type": "code",
   "execution_count": 32,
   "metadata": {},
   "outputs": [],
   "source": [
    "#era-land\n",
    "# cont_eraland=eraland.where(con_mask)\n",
    "# ip_eraland = eraland.where(ip_mask['mask'], drop=False)\n",
    "\n",
    "eraland_isim=eraland.interp_like(sim)\n",
    "cont_eraland_isim=eraland_isim.where(con_mask)\n",
    "ip_eraland_isim = cont_eraland_isim.where(ip_mask['mask'], drop=False)"
   ]
  },
  {
   "cell_type": "code",
   "execution_count": 33,
   "metadata": {},
   "outputs": [],
   "source": [
    "#gleam\n",
    "# cont_gleam=gleam.where(con_mask_igleam)\n",
    "# ip_gleam = cont_gleam.where(ip_mask_igleam['mask'], drop=False)\n",
    "\n",
    "gleam_isim=gleam.interp_like(sim)\n",
    "cont_gleam_isim=gleam_isim.where(con_mask)\n",
    "ip_gleam_isim = cont_gleam_isim.where(ip_mask['mask'], drop=False)\n",
    "\n",
    "# gleam_iipera=gleam.interp_like(era).where(con_mask_iera).where(ip_mask_iera['mask'], drop=False)"
   ]
  },
  {
   "cell_type": "code",
   "execution_count": 34,
   "metadata": {},
   "outputs": [],
   "source": [
    "#fluxcom\n",
    "# cont_fluxcom=fluxcom.where(con_mask_ifluxcom)\n",
    "# ip_fluxcom = cont_fluxcom.where(ip_mask_ifluxcom['mask'], drop=False)\n",
    "\n",
    "fluxcom_isim=fluxcom.interp_like(sim)\n",
    "cont_fluxcom_isim=fluxcom_isim.where(con_mask)\n",
    "ip_fluxcom_isim = cont_fluxcom_isim.where(ip_mask['mask'], drop=False)\n",
    "\n",
    "# fluxcom_iipera=fluxcom.interp_like(era).where(con_mask_iera).where(ip_mask_iera['mask'], drop=False)"
   ]
  },
  {
   "cell_type": "code",
   "execution_count": 35,
   "metadata": {},
   "outputs": [],
   "source": [
    "#gpcc\n",
    "# cont_gpcc=gpcc.where(con_mask_igpcc)\n",
    "# ip_gpcc = cont_gpcc.where(ip_mask_igpcc['mask'], drop=False)\n",
    "\n",
    "gpcc_isim=gpcc.interp_like(sim)\n",
    "cont_gpcc_isim=gpcc_isim.where(con_mask)\n",
    "ip_gpcc_isim = cont_gpcc_isim.where(ip_mask['mask'], drop=False)\n",
    "\n",
    "# gpcc_iipera=gpcc.interp_like(era).where(con_mask_iera).where(ip_mask_iera['mask'], drop=False)"
   ]
  },
  {
   "cell_type": "markdown",
   "metadata": {},
   "source": [
    "## Diff datasets"
   ]
  },
  {
   "cell_type": "code",
   "execution_count": 79,
   "metadata": {},
   "outputs": [],
   "source": [
    "sim_diff=simirr-sim\n",
    "ip_sim_diff=ip_simirr-ip_sim"
   ]
  },
  {
   "cell_type": "code",
   "execution_count": 80,
   "metadata": {},
   "outputs": [],
   "source": [
    "#era\n",
    "sim_era_diff=sim - era_isim\n",
    "ip_sim_era_diff=ip_simirr - ip_era_isim\n",
    "#mean of both diff datasets\n",
    "sim_era_diff_mean = sim_era_diff.mean(dim='time')\n",
    "ip_sim_era_diff_mean = ip_sim_era_diff.mean(dim='time')"
   ]
  },
  {
   "cell_type": "code",
   "execution_count": 81,
   "metadata": {},
   "outputs": [],
   "source": [
    "#gleam\n",
    "sim_gleam_diff=sim - gleam_isim\n",
    "ip_sim_gleam_diff=ip_simirr - ip_gleam_isim\n",
    "#mean of both diff datasets\n",
    "sim_gleam_diff_mean = sim_gleam_diff.mean(dim='time')\n",
    "ip_sim_gleam_diff_mean = ip_sim_gleam_diff.mean(dim='time')"
   ]
  },
  {
   "cell_type": "code",
   "execution_count": 82,
   "metadata": {},
   "outputs": [],
   "source": [
    "#gpcc\n",
    "sim_gpcc_diff=sim - gpcc_isim\n",
    "ip_sim_gpcc_diff=ip_simirr - ip_gpcc_isim\n",
    "#mean of both diff datasets\n",
    "sim_gpcc_diff_mean = sim_gpcc_diff.mean(dim='time')\n",
    "ip_sim_gpcc_diff_mean = ip_sim_gpcc_diff.mean(dim='time')"
   ]
  },
  {
   "cell_type": "markdown",
   "metadata": {},
   "source": [
    "# Maps"
   ]
  },
  {
   "cell_type": "code",
   "execution_count": null,
   "metadata": {},
   "outputs": [],
   "source": [
    "#Display map of var for ds\n",
    "var='evap'\n",
    "ds=sim\n",
    "color_map=emb_neutral\n",
    "\n",
    "vmin=-0.0\n",
    "vmax=6.5\n",
    "# vmin=None\n",
    "vmin,vmax=None, None\n",
    "\n",
    "map_ave(ds, var, cmap=color_map, vmin=vmin, vmax=vmax, poly=None)"
   ]
  },
  {
   "cell_type": "code",
   "execution_count": null,
   "metadata": {},
   "outputs": [],
   "source": [
    "#Diff map\n",
    "var='evap'\n",
    "ds1=simirr\n",
    "# ds2=ip_era_isim\n",
    "# ds2=ip_fluxcom_isim\n",
    "ds2=sim\n",
    "# ds2=ip_gpcc_isim\n",
    "\n",
    "max_value= 1\n",
    "min_value=-1\n",
    "# max_value=None\n",
    "# min_value=None\n",
    "min_value,max_value=None, None\n",
    "\n",
    "map_diff_ave(ds1, ds2, var, vmin=min_value, vmax=max_value, cmap=emb_neutral, hex=False, sig=False)\n",
    "# diff=ds1[var]-ds2[var]\n",
    "# map_seasons(diff, cmap=emb_neutral, vmin=min_value, vmax=max_value, title=title, hex=False"
   ]
  },
  {
   "cell_type": "code",
   "execution_count": null,
   "metadata": {},
   "outputs": [],
   "source": [
    "#map for 4 seasons\n",
    "var='evap'\n",
    "ds1=ip_sim\n",
    "ds2=ip_gleam_isim\n",
    "max_value= 1\n",
    "min_value=-1\n",
    "\n",
    "diff=ds1[var]-ds2[var]\n",
    "title='{} bias, {} vs {} ({})'.format( var, ds1.attrs['name'], ds2.attrs['name'], ds1[var].attrs['units'])\n",
    "plotvar=diff\n",
    "\n",
    "# plotvar=ds1[var]\n",
    "# title='P-E (mm/d, {})'.format(ds1.attrs['name'])\n",
    "\n",
    "map_seasons(plotvar, cmap=emb_neutral, vmin=min_value, vmax=max_value, title=title, hex=False)"
   ]
  },
  {
   "cell_type": "code",
   "execution_count": null,
   "metadata": {},
   "outputs": [],
   "source": [
    "# Display 2 maps of var\n",
    "var = 'SWupSFC'\n",
    "min_value=None\n",
    "max_value=None\n",
    "color_map=wet\n",
    "ds1=sim_iera\n",
    "ds2=era\n",
    "map_two_ds(ds1, ds2, var, vmin=min_value, figsize=(15,6), vmax=max_value, cmap=color_map)"
   ]
  },
  {
   "cell_type": "code",
   "execution_count": null,
   "metadata": {},
   "outputs": [],
   "source": [
    "#Display map of var for ds on restricted area\n",
    "var='evap'\n",
    "ds = sim\n",
    "latmin=36.7\n",
    "latmax=36.9\n",
    "lonmin=-6.4\n",
    "lonmax=-6.2\n",
    "\n",
    "#restrict ds to latmin, latmax, lonmin, lonmax\n",
    "ds = ds.where(ds.lat >= latmin, drop=True).where(ds.lat <= latmax, drop=True)\n",
    "ds = ds.where(ds.lon >= lonmin, drop=True).where(ds.lon <= lonmax, drop=True)\n",
    "plotvar = ds[var].mean(dim='time')\n",
    "map_plotvar(plotvar, cmap=emb_neutral_neutral, vmax=None, title=var)"
   ]
  },
  {
   "cell_type": "code",
   "execution_count": null,
   "metadata": {},
   "outputs": [],
   "source": [
    "#Relative diff map\n",
    "var='precip'\n",
    "max_value=None\n",
    "ds1=cont_fluxcom\n",
    "ds2=ip_fluxcom\n",
    "# plt.title('Gross primary production relative difference (%)')\n",
    "map_rel_diff_ave(ds1, ds2, var, vmax=max_value)"
   ]
  },
  {
   "cell_type": "markdown",
   "metadata": {},
   "source": [
    "# Time series"
   ]
  },
  {
   "cell_type": "code",
   "execution_count": null,
   "metadata": {},
   "outputs": [],
   "source": [
    "var='precip'\n",
    "\n",
    "ds1=ip_sim\n",
    "ds2=ip_simirr\n",
    "ds3=ip_era_isim\n",
    "ds4=ip_gleam_isim\n",
    "# ds5=ip_fluxcom_isim\n",
    "ds5=ip_eraland_isim\n",
    "ds4=ip_gpcc_isim\n",
    "\n",
    "ds_list=[ds1, ds2, ds3, ds4]#, ds5]\n",
    "# ds_list=[fluxcom]\n",
    "\n",
    "year_min=2010\n",
    "year_max=2019\n",
    "time_series_ave(ds_list, var, year_min=year_min, year_max=year_max, title='{} {}'.format(var, ds1[var].attrs['units']))\n",
    "seasonal_cycle_ave(ds_list, var, year_min=year_min, year_max=year_max, title='Seasonal cycle of {} ({}, {}-{})'.format(var, ds1[var].attrs['units'], year_min, year_max))"
   ]
  },
  {
   "cell_type": "markdown",
   "metadata": {},
   "source": [
    "# Scatter plots"
   ]
  },
  {
   "cell_type": "code",
   "execution_count": null,
   "metadata": {},
   "outputs": [],
   "source": [
    "var1='precip'\n",
    "ds1=ip_sim_era_diff_mean\n",
    "#remove values where precip is smaller than 5\n",
    "mask=ds1[var1] < 2\n",
    "ds1=ds1.where(mask)\n",
    "\n",
    "var2='evap'\n",
    "# ds2=ip_sim_era_diff\n",
    "ds2=ds1\n",
    "\n",
    "scatter_vars(ds1, ds2, var1, var2, reg=False)"
   ]
  },
  {
   "cell_type": "code",
   "execution_count": null,
   "metadata": {},
   "outputs": [],
   "source": [
    "var1='precip'\n",
    "ds1=ip_sim_gpcc_diff_mean\n",
    "#remove values where precip is smaller than 2\n",
    "mask=ds1[var1] < 2\n",
    "ds1=ds1.where(mask)\n",
    "\n",
    "var2='evap'\n",
    "ds2=ip_sim_gleam_diff_mean\n",
    "ds2=ds2.where(mask)\n",
    "scatter_vars(ds1, ds2, var1, var2, reg=False)"
   ]
  }
 ],
 "metadata": {
  "kernelspec": {
   "display_name": "Python 3.12.2 64-bit",
   "language": "python",
   "name": "python3"
  },
  "language_info": {
   "codemirror_mode": {
    "name": "ipython",
    "version": 3
   },
   "file_extension": ".py",
   "mimetype": "text/x-python",
   "name": "python",
   "nbconvert_exporter": "python",
   "pygments_lexer": "ipython3",
   "version": "3.12.2"
  },
  "vscode": {
   "interpreter": {
    "hash": "9715f220877aa1dd3a10bcc1f3e7aef151ac70eccc8d755f78d50313f1675c6a"
   }
  }
 },
 "nbformat": 4,
 "nbformat_minor": 2
}
