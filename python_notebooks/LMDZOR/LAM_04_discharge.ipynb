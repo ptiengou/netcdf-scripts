{
 "cells": [
  {
   "cell_type": "markdown",
   "metadata": {},
   "source": [
    "# Imports and setting up viz\n",
    "\n",
    "NB : conda env1 on Mac, lam1env on spirit (Python3.12)"
   ]
  },
  {
   "cell_type": "code",
   "execution_count": null,
   "metadata": {},
   "outputs": [],
   "source": [
    "%load_ext autoreload\n",
    "%autoreload 2\n",
    "%matplotlib inline\n",
    "\n",
    "#import personnal tools\n",
    "from python_notebooks.python_tools.tools import *"
   ]
  },
  {
   "cell_type": "markdown",
   "metadata": {},
   "source": []
  },
  {
   "cell_type": "code",
   "execution_count": null,
   "metadata": {},
   "outputs": [],
   "source": [
    "rivers = cartopy.feature.NaturalEarthFeature('physical', 'rivers_lake_centerlines', '10m',edgecolor=(0, 0, 0, 0.3), facecolor='none')"
   ]
  },
  {
   "cell_type": "markdown",
   "metadata": {},
   "source": [
    "# Load files\n",
    "\n",
    "LAM output analysis.\n",
    "\n",
    "Simu irr et simu no-irr."
   ]
  },
  {
   "cell_type": "code",
   "execution_count": null,
   "metadata": {},
   "outputs": [],
   "source": [
    "noirr_dir='../../../JZ_simu_outputs/LAM/noirr_2010_2022'\n",
    "irr_dir='../../../JZ_simu_outputs/LAM/irr_2010_2022'"
   ]
  },
  {
   "cell_type": "code",
   "execution_count": null,
   "metadata": {},
   "outputs": [],
   "source": [
    "# filename = '{}/SRF/MO/*history.nc'.format(noirr_dir)\n",
    "# ORCnoirr0 = xr.open_mfdataset(filename)\n",
    "# ORCnoirr = ORCnoirr0.rename({'time_counter':'time'})\n",
    "# ORCnoirr.attrs['name'] = 'no_irr'\n",
    "# ORCnoirr = ORCnoirr.sel(lon=slice(-13,6),lat=slice(32,49))"
   ]
  },
  {
   "cell_type": "code",
   "execution_count": null,
   "metadata": {},
   "outputs": [],
   "source": [
    "# filename = '{}/SRF/MO/*history.nc'.format(irr_dir)\n",
    "# ORCirr0 = xr.open_mfdataset(filename)\n",
    "# ORCirr = ORCirr0.rename({'time_counter':'time'})\n",
    "# ORCirr.attrs['name'] = 'irr'\n",
    "# ORCirr = ORCirr.sel(lon=slice(-13,6),lat=slice(32,49))\n",
    "\n",
    "# #manually define irrig_deficit as netirrig-irrigation in ORC file\n",
    "# ORCirr['irrig_deficit'] = ORCirr['netirrig'] - ORCirr['irrigation']\n",
    "# #make irrig_deficit units mm/day\n",
    "# ORCirr['irrig_deficit'].attrs['units'] = 'mm/day'\n",
    "# ORCirr['irrig_frac'] = ORCirr['irrigmap_dyn']/ORCirr['Areas']\n",
    "\n",
    "# ORCirr0"
   ]
  },
  {
   "cell_type": "code",
   "execution_count": null,
   "metadata": {},
   "outputs": [],
   "source": [
    "# Select the JJA months (June, July, August)\n",
    "months=[6, 7, 8]\n",
    "# ORCirr = ORCirr.sel(time=ORCirr['time.month'].isin(months))\n",
    "# ORCnoirr = ORCnoirr.sel(time=ORCnoirr['time.month'].isin(months))"
   ]
  },
  {
   "cell_type": "code",
   "execution_count": null,
   "metadata": {},
   "outputs": [],
   "source": [
    "#open netcdf files for native routing diag_routing_r.nc (on MERIT grid)\n",
    "\n",
    "# filename = '../../LAM/{}/SRF/MO/*diag_routing_r.nc'.format(noirr_dir)\n",
    "# DIAGRnoirr0 = xr.open_mfdataset(filename)\n",
    "# filename = '../../LAM/{}/SRF/MO/*diag_routing_r.nc'.format(irr_dir)\n",
    "# DIAGRirr0 = xr.open_mfdataset(filename)\n",
    "# DIAGRirr0\n",
    "\n",
    "#rename time_counter to time all files\n",
    "# DIAGRnoirr = DIAGRnoirr0.rename({'time_counter':'time'})\n",
    "# DIAGRirr = DIAGRirr0.rename({'time_counter':'time'})\n",
    "\n",
    "#Change dataset names attribute for automatic labeling\n",
    "# DIAGRirr.attrs['name'] = 'DIAGR_irr'\n",
    "# DIAGRnoirr.attrs['name'] = 'DIAGR_noirr'\n",
    "\n",
    "#Rename variables in sim_month and sim\n",
    "# dict = {\n",
    "#         'routing_stream_reservoir_r' : 'streamr',\n",
    "#         'routing_fast_reservoir_r' : 'fastr',\n",
    "#         'routing_slow_reservoir_r' : 'slowr',\n",
    "#         'routing_drainage_r' : 'drainage',\n",
    "#         'routing_runoff_r' : 'runoff',\n",
    "#         'routing_hydrographs_r' : 'hydrographs',\n",
    "#         # 'routing_irrigation_r' : 'irrigation',\n",
    "#         # 'irrig_netereq_r' : 'netirrig'\n",
    "#         # 'routing_riverflow_r' : 'riverflow',\n",
    "#         # 'routing_coastalflow_r' : 'coastalflow'\n",
    "#         }\n",
    "#change the variables that exist according to the dictionary\n",
    "# DIAGRnoirr = DIAGRnoirr.rename(dict)\n",
    "# DIAGRirr = DIAGRirr.rename(dict)"
   ]
  },
  {
   "cell_type": "code",
   "execution_count": null,
   "metadata": {},
   "outputs": [],
   "source": [
    "filename = '{}/SRF/MO/sim15_hydrographs_monthly_2010-2014.nc'.format(irr_dir)\n",
    "sim = xr.open_dataset(filename)\n",
    "\n",
    "rename_dict = {\n",
    "        'time_counter' : 'time',\n",
    "        'routing_hydrographs_r' : 'hydrographs',\n",
    "}\n",
    "sim = sim.rename(rename_dict)\n",
    "\n",
    "#add unit m³/s to hydrographs\n",
    "sim['hydrographs'].attrs['units'] = 'm³/s'\n",
    "\n",
    "sim"
   ]
  },
  {
   "cell_type": "markdown",
   "metadata": {},
   "source": [
    "# River outlets and stations"
   ]
  },
  {
   "cell_type": "code",
   "execution_count": null,
   "metadata": {},
   "outputs": [],
   "source": [
    "#format :     id: {'name':,  'river':, 'lon_grid':, 'lat_grid':, 'year_min':, 'year_max': },\n",
    "\n",
    "# river_coords = {\n",
    "#     1:{'name':'Ebre','lon': 0.75, 'lat': 40.75},\n",
    "#     2:{'name':'Minho','lon': -8.75, 'lat': 42.25},\n",
    "#     3:{'name':'Tage','lon': -9.25, 'lat': 39.25},\n",
    "#     4:{'name':'Douro','lon': -8.75, 'lat': 41.25},\n",
    "#     5:{'name':'Guadiana','lon': -7.25, 'lat': 38.25},\n",
    "#     6:{'name':'Guadalquivir','lon': -6.25, 'lat': 36.75}\n",
    "# }\n",
    "\n",
    "river_coords_merit = {\n",
    "        1:{'name':'Ebro','river':'Ebro', 'lon_grid': 0.86, 'lat_grid': 40.725, 'year_min':2010, 'year_max':2022 },\n",
    "        2:{'name':'Minho','river':'Minho', 'lon_grid': -8.875, 'lat_grid': 41.86, 'year_min':2010, 'year_max':2022 },\n",
    "        3:{'name':'Tajo','river':'Tajo', 'lon_grid': -9.175, 'lat_grid': 38.6875, 'year_min':2010, 'year_max':2022 },\n",
    "        4:{'name':'Duero','river':'Duero', 'lon_grid': -8.675, 'lat_grid': 41.1375, 'year_min':2010, 'year_max':2022 },\n",
    "        5:{'name':'Guadiana','river':'Guadiana', 'lon_grid': -7.39, 'lat_grid': 37.175, 'year_min':2010, 'year_max':2022 },\n",
    "        6:{'name':'Guadalquivir','river':'Guadalquivir', 'lon_grid': -6.325, 'lat_grid': 36.91, 'year_min':2010, 'year_max':2022 }\n",
    "\n",
    "}"
   ]
  },
  {
   "cell_type": "markdown",
   "metadata": {},
   "source": [
    "# Maps"
   ]
  },
  {
   "cell_type": "code",
   "execution_count": null,
   "metadata": {},
   "outputs": [],
   "source": [
    "ds=sim\n",
    "var='hydrographs'\n",
    "map_ave(ds, var, in_cmap=wet, hex=True)"
   ]
  },
  {
   "cell_type": "code",
   "execution_count": null,
   "metadata": {},
   "outputs": [],
   "source": [
    "#diff\n",
    "ds1=sim\n",
    "ds2=sim\n",
    "var='hydrographs'\n",
    "map_diff_ave(ds1, ds2, var)"
   ]
  },
  {
   "cell_type": "code",
   "execution_count": null,
   "metadata": {},
   "outputs": [],
   "source": [
    "#Display map of var for ds on restricted area\n",
    "var='hydrographs'\n",
    "ds = sim\n",
    "# ds = std\n",
    "\n",
    "#spain\n",
    "latmin=36\n",
    "latmax=44\n",
    "lonmin=-9.5\n",
    "lonmax=3\n",
    "\n",
    "#ebro valley\n",
    "# latmin=41\n",
    "# latmax=43\n",
    "# lonmin=-2\n",
    "# lonmax=1\n",
    "\n",
    "#test\n",
    "latmin=36.75\n",
    "latmax=37\n",
    "lonmin=-6.5\n",
    "lonmax=-6.25\n",
    "\n",
    "#restrict ds to latmin, latmax, lonmin, lonmax\n",
    "ds = ds.where(ds.lat >= latmin, drop=True)\n",
    "ds = ds.where(ds.lat <= latmax, drop=True)\n",
    "ds = ds.where(ds.lon >= lonmin, drop=True)\n",
    "ds = ds.where(ds.lon <= lonmax, drop=True)\n",
    "plotvar = ds[var].mean(dim='time')\n",
    "fig = plt.figure(figsize=(10, 6))\n",
    "ax = plt.axes(projection=ccrs.PlateCarree())\n",
    "ax.coastlines()\n",
    "ax.gridlines(draw_labels=True, dms=True, x_inline=False, y_inline=False)\n",
    "#use colormap reds\n",
    "plotvar.plot(ax=ax, transform=ccrs.PlateCarree(), cmap=wet)\n",
    "plt.title(var + ' (' + ds.name + ')')\n",
    "ax.add_feature(rivers)"
   ]
  },
  {
   "cell_type": "markdown",
   "metadata": {},
   "source": [
    "# Time series"
   ]
  },
  {
   "cell_type": "markdown",
   "metadata": {},
   "source": [
    "## Spatial averaging"
   ]
  },
  {
   "cell_type": "code",
   "execution_count": null,
   "metadata": {},
   "outputs": [],
   "source": [
    "var='hydrographs'\n",
    "\n",
    "ds1=sim\n",
    "# ds2=ORCirr\n",
    "ds_list=[ds1, ds2]\n",
    "ds_list=[ds1]\n",
    "\n",
    "year_max=2015\n",
    "time_series(ds_list, var, year_max=year_max, in_title=None)\n",
    "seasonal_cycle(ds_list, var, in_title=None)"
   ]
  },
  {
   "cell_type": "markdown",
   "metadata": {},
   "source": [
    "## En un point lon-lat"
   ]
  },
  {
   "cell_type": "code",
   "execution_count": null,
   "metadata": {},
   "outputs": [],
   "source": [
    "#Time series\n",
    "year_min=2010\n",
    "year_max=2015\n",
    "lon=-6.325\n",
    "lat=36.91\n",
    "\n",
    "var=\"hydrographs\"\n",
    "ds1=sim\n",
    "ds1 = ds1.where(ds1['time.year'] >= year_min, drop=True).where(ds1['time.year'] <= year_max, drop=True)\n",
    "ds2=sim\n",
    "ds2 = ds2.where(ds2['time.year'] >= year_min, drop=True).where(ds2['time.year'] <= year_max, drop=True)\n",
    "#plot the time series of hydrographs at the point (lon,lat)\n",
    "fig = plt.figure(figsize=(10, 6))\n",
    "ax = plt.axes()\n",
    "ax.grid()\n",
    "ax.set_ylabel('hydrographs')\n",
    "# ds1[var].sel(lon=lon, lat=lat, method='nearest').plot(ax=ax, label=ds1.name)\n",
    "ds2[var].sel(lon=lon, lat=lat, method='nearest').plot(ax=ax, label=ds2.name)\n",
    "# ds2['runoff'].sel(lon=lon, lat=lat, method='nearest').plot(ax=ax, label='runoff')\n",
    "plt.title('hydrographs at (' + str(lon) + ',' + str(lat) + '), m³/s')\n",
    "plt.legend()"
   ]
  },
  {
   "cell_type": "code",
   "execution_count": null,
   "metadata": {},
   "outputs": [],
   "source": [
    "ds_list=[sim]\n",
    "discharge_coord_ts(ds_list, river_coords_merit, var='hydrographs', year_min=2010, year_max=2015)"
   ]
  },
  {
   "cell_type": "code",
   "execution_count": null,
   "metadata": {},
   "outputs": [],
   "source": [
    "ds_list=[sim]\n",
    "discharge_coord_sc(ds_list, river_coords_merit, var='hydrographs', year_min=2010, year_max=2015)"
   ]
  }
 ],
 "metadata": {
  "kernelspec": {
   "display_name": "Python 3.12.2 64-bit",
   "language": "python",
   "name": "python3"
  },
  "language_info": {
   "codemirror_mode": {
    "name": "ipython",
    "version": 3
   },
   "file_extension": ".py",
   "mimetype": "text/x-python",
   "name": "python",
   "nbconvert_exporter": "python",
   "pygments_lexer": "ipython3",
   "version": "3.12.2"
  },
  "vscode": {
   "interpreter": {
    "hash": "9715f220877aa1dd3a10bcc1f3e7aef151ac70eccc8d755f78d50313f1675c6a"
   }
  }
 },
 "nbformat": 4,
 "nbformat_minor": 2
}
