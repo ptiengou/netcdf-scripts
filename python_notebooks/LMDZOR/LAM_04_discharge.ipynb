{
 "cells": [
  {
   "cell_type": "markdown",
   "metadata": {},
   "source": [
    "# Imports and setting up viz\n",
    "\n",
    "NB : conda env1 on Mac, lam1env on spirit (Python3.12)"
   ]
  },
  {
   "cell_type": "code",
   "execution_count": null,
   "metadata": {},
   "outputs": [],
   "source": [
    "%load_ext autoreload\n",
    "%autoreload 2\n",
    "%matplotlib inline\n",
    "\n",
    "#import personnal tools\n",
    "import sys\n",
    "sys.path.append('../../python_tools/')\n",
    "from tools import *\n",
    "from tools_mapping import *\n",
    "from tools_routing import *"
   ]
  },
  {
   "cell_type": "code",
   "execution_count": null,
   "metadata": {},
   "outputs": [],
   "source": [
    "rivers = cfeature.NaturalEarthFeature('physical', 'rivers_lake_centerlines', '10m',edgecolor=(0, 0, 0, 1), facecolor='none')"
   ]
  },
  {
   "cell_type": "markdown",
   "metadata": {},
   "source": [
    "# Load files\n",
    "\n",
    "LAM output analysis, routing files.\n",
    "\n",
    "Simu irr et simu no-irr."
   ]
  },
  {
   "cell_type": "markdown",
   "metadata": {},
   "source": [
    "## Sims"
   ]
  },
  {
   "cell_type": "code",
   "execution_count": null,
   "metadata": {},
   "outputs": [],
   "source": [
    "# noirr_dir='../../../JZ_simu_outputs/LAM/LAM_1000_40/noirr_2010_2022'\n",
    "# irr_dir='../../../JZ_simu_outputs/LAM/LAM_1000_40/irr_2010_2022'\n",
    "noirr_dir='../../../JZ_simu_outputs/LAM/LAM_1500_60/noirr'\n",
    "irr_dir='../../../JZ_simu_outputs/LAM/LAM_1500_60/irr'"
   ]
  },
  {
   "cell_type": "code",
   "execution_count": null,
   "metadata": {},
   "outputs": [],
   "source": [
    "rename_dict = {\n",
    "        'time_counter' : 'time',\n",
    "        'routing_stream_reservoir_r' : 'streamr',\n",
    "        'routing_fast_reservoir_r' : 'fastr',\n",
    "        'routing_slow_reservoir_r' : 'slowr',\n",
    "        'routing_drainage_r' : 'drainage',\n",
    "        'routing_runoff_r' : 'runoff',\n",
    "        'routing_hydrographs_r' : 'hydrographs',\n",
    "        'routing_irrigation_r' : 'irrigation',\n",
    "        'irrig_netereq_r' : 'netirrig'\n",
    "        # 'routing_riverflow_r' : 'riverflow',\n",
    "        # 'routing_coastalflow_r' : 'coastalflow'\n",
    "        }\n",
    "\n",
    "long_name_dict = {\n",
    "        'streamr' : 'stream reservoir',\n",
    "        'fastr' : 'fast reservoir',\n",
    "        'slowr' : 'slow reservoir',\n",
    "        'drainage' : 'drainage',\n",
    "        'runoff' : 'runoff',\n",
    "        'hydrographs' : 'hydrographs',\n",
    "        'irrigation' : 'irrigation',\n",
    "        'netirrig' : 'net irrigation'\n",
    "        # 'riverflow' : 'river flow',\n",
    "        # 'coastalflow' : 'coastal flow'\n",
    "        }"
   ]
  },
  {
   "cell_type": "code",
   "execution_count": null,
   "metadata": {},
   "outputs": [],
   "source": [
    "# filename = '{}/SRF/MO/sim1*_hydrographs_monthly_*.nc'.format(noirr_dir)\n",
    "filename = '{}/*/SRF/MO/*diag_routing_r.nc'.format(noirr_dir)\n",
    "sim_noirr = xr.open_mfdataset(filename)\n",
    "\n",
    "sim_noirr = sim_noirr.rename(rename_dict)\n",
    "sim_noirr = sim_noirr.sel(lon=slice(lon_min, lon_max),lat=slice(lat_max, lat_min))\n",
    "\n",
    "\n",
    "#add long name to variables\n",
    "for var in sim_noirr.variables:\n",
    "    if var in long_name_dict.keys():\n",
    "        sim_noirr[var].attrs['long_name'] = long_name_dict[var]\n",
    "from dateutil.relativedelta import relativedelta\n",
    "\n",
    "#move data 1 month back\n",
    "sim_noirr['time'] = sim_noirr['time'].copy(\n",
    "    data=[(pd.Timestamp(t.item()) - relativedelta(months=1)).to_datetime64() for t in sim_noirr['time'].values]\n",
    ")\n",
    "\n",
    "#add unit m³/s to hydrographs\n",
    "sim_noirr['hydrographs'].attrs['units'] = 'm³/s'\n",
    "\n",
    "sim_noirr.attrs['name'] = 'noirr'\n",
    "sim_noirr.attrs['plot_color'] = 'red'\n",
    "\n",
    "sim_noirr"
   ]
  },
  {
   "cell_type": "code",
   "execution_count": null,
   "metadata": {},
   "outputs": [],
   "source": [
    "filename = '{}/*/SRF/MO/*diag_routing_r.nc'.format(irr_dir)\n",
    "sim_irr = xr.open_mfdataset(filename)\n",
    "\n",
    "sim_irr = sim_irr.rename(rename_dict)\n",
    "sim_irr = sim_irr.sel(lon=slice(lon_min, lon_max),lat=slice(lat_max, lat_min))\n",
    "\n",
    "#add long name to variables\n",
    "for var in sim_irr.variables:\n",
    "    if var in long_name_dict.keys():\n",
    "        sim_irr[var].attrs['long_name'] = long_name_dict[var]\n",
    "\n",
    "#move data 1 month back\n",
    "sim_irr['time'] = sim_irr['time'].copy(\n",
    "    data=[(pd.Timestamp(t.item()) - relativedelta(months=1)).to_datetime64() for t in sim_irr['time'].values]\n",
    ")\n",
    "\n",
    "#add unit m³/s to hydrographs\n",
    "sim_irr['hydrographs'].attrs['units'] = 'm³/s'\n",
    "\n",
    "sim_irr.attrs['name']='irr'\n",
    "sim_irr.attrs['plot_color'] = 'blue'\n",
    "\n",
    "sim_irr"
   ]
  },
  {
   "cell_type": "markdown",
   "metadata": {},
   "source": [
    "## Obs"
   ]
  },
  {
   "cell_type": "code",
   "execution_count": null,
   "metadata": {},
   "outputs": [],
   "source": [
    "filename = '../../../obs/streamflow/GRDC-Monthly_Spain.nc'\n",
    "obs = xr.open_dataset(filename)\n",
    "obs"
   ]
  },
  {
   "cell_type": "markdown",
   "metadata": {},
   "source": [
    "# River outlets and stations\n",
    "\n",
    "format :     id: {'name':,  'river':, 'lon_grid':, 'lat_grid':, 'year_min':, 'year_max': },\n"
   ]
  },
  {
   "cell_type": "code",
   "execution_count": null,
   "metadata": {},
   "outputs": [],
   "source": [
    "river_coords_merit = {\n",
    "        1:{'name':'Ebro','river':'Ebro', 'lon_grid': 0.86, 'lat_grid': 40.725, 'year_min':2010, 'year_max':2022 },\n",
    "        2:{'name':'Minho','river':'Minho', 'lon_grid': -8.875, 'lat_grid': 41.86, 'year_min':2010, 'year_max':2022 },\n",
    "        3:{'name':'Tajo','river':'Tajo', 'lon_grid': -9.175, 'lat_grid': 38.6875, 'year_min':2010, 'year_max':2022 },\n",
    "        4:{'name':'Duero','river':'Duero', 'lon_grid': -8.675, 'lat_grid': 41.1375, 'year_min':2010, 'year_max':2022 },\n",
    "        5:{'name':'Guadiana','river':'Guadiana', 'lon_grid': -7.39, 'lat_grid': 37.175, 'year_min':2010, 'year_max':2022 },\n",
    "        6:{'name':'Guadalquivir','river':'Guadalquivir', 'lon_grid': -6.325, 'lat_grid': 36.91, 'year_min':2010, 'year_max':2022 }\n",
    "}"
   ]
  },
  {
   "cell_type": "code",
   "execution_count": null,
   "metadata": {},
   "outputs": [],
   "source": [
    "stations_merit = {\n",
    "    6298992: {'name': 'Albarreal De Tajo',  'river': 'Tajo', 'lon_grid':-4.17499303817749, 'lat_grid':39.891666412353516, 'year_min':2010, 'year_max':2021 },\n",
    "    # 6298249: {'name': 'Zaragoza',  'river': 'Ebro', 'lon_grid':-0.8749926686286926, 'lat_grid':41.65833282470703, 'year_min':2010, 'year_max':2021},\n",
    "    # 6298481: {'name': 'San Miguel del Pino', 'river': 'Duero', 'lon_grid':-4.92499303817749, 'lat_grid':41.508331298828125, 'year_min':2010, 'year_max':2021},\n",
    "    6298259:{'name': 'Badajoz', 'river': 'Guadiana', 'lat_grid': 38.85833358764648, 'lon_grid': -7.008326530456543, 'last_record': '2013-09-15', 'year_min':2010, 'year_max':2021},\n",
    "    6298564: {'name': 'Villanueva de Azoague', 'lon_grid':-5.641659736633301, 'lat_grid':41.974998474121094, 'year_min':2010, 'year_max':2010}\n",
    "}"
   ]
  },
  {
   "cell_type": "code",
   "execution_count": null,
   "metadata": {},
   "outputs": [],
   "source": [
    "#keeping only data after 2010\n",
    "\n",
    "proper_stations_dict = {\n",
    "    6226800: {'name': 'Tortosa',            'river': 'Ebro',            'lat_grid': 40.82500,   'lon_grid': 0.525007,   'station_nb': 1},\n",
    "    6226400: {'name': 'Zaragoza',           'river': 'Ebro',            'lat_grid': 41.67499,   'lon_grid': -0.90832,   'station_nb': 2},\n",
    "    6226300: {'name': 'Castejon',           'river': 'Ebro',            'lat_grid': 42.17499,   'lon_grid': -1.69165,   'station_nb': 3},\n",
    "    6226600: {'name': 'Seros',              'river': 'Segre',           'lat_grid': 41.45833,   'lon_grid': 0.425007,   'station_nb': 4},\n",
    "    6226650: {'name': 'Fraga',              'river': 'Cinca',           'lat_grid': 41.52499,   'lon_grid': 0.341674,   'station_nb': 5},\n",
    "    6212410: {'name': 'Tore',               'river': 'Douro',           'lat_grid': 41.50833,   'lon_grid': -5.47499,   'station_nb': 6},\n",
    "    6212700: {'name': 'Peral De Arlanza',   'river': 'Arlanza',         'lat_grid': 42.07500,   'lon_grid': -4.07499,   'station_nb': 7},\n",
    "    6213700: {'name': 'Talavera',           'river': 'Tagus',           'lat_grid': 39.95833,   'lon_grid': -4.82499,   'station_nb': 8},\n",
    "    6213800: {'name': 'Trillo',             'river': 'Tagus',           'lat_grid': 40.70833,   'lon_grid': -2.57499,   'station_nb': 9},\n",
    "    6213900: {'name': 'Peralejos',          'river': 'Tagus',           'lat_grid': 40.59166,   'lon_grid': -1.92499,   'station_nb': 10},\n",
    "    6216510: {'name': 'Azud de Badajoz',    'river': 'Guadiana',        'lat_grid': 38.86199,   'lon_grid': -7.01,      'station_nb': 11}, \n",
    "    6116200: {'name': 'Pulo do Lobo',       'river': 'Guadiana',        'lat_grid': 37.803,     'lon_grid': -7.633,     'station_nb': 12},         \n",
    "    6216530: {'name': 'La Cubeta',          'river': 'Guadiana',        'lat_grid': 38.975,     'lon_grid': -2.895,     'station_nb': 13},         \n",
    "    6216520: {'name': 'Villarubia',         'river': 'Guadiana',        'lat_grid': 39.125,     'lon_grid': -3.59073,   'station_nb': 14},      \n",
    "    6216800: {'name': 'Quintanar',          'river': 'Giguela',         'lat_grid': 39.64166,   'lon_grid': -3.07499,   'station_nb': 15},\n",
    "    6217140: {'name': 'Mengibar',           'river': 'Guadalquivir',    'lat_grid': 37.98425,   'lon_grid': -3.79939,   'station_nb': 16},     \n",
    "    6217200: {'name': 'Arroyo Maria',       'river': 'Guadalquivir',    'lat_grid': 38.17905,   'lon_grid': -2.83594,   'station_nb': 17}, \n",
    "    6217700: {'name': 'Pinos Puente',       'river': 'Frailes',         'lat_grid': 37.27499,   'lon_grid': -3.75832,   'station_nb': 18},\n",
    "}\n",
    "#keeping only 3 representative stations for 3 larger rivers, for simple figure\n",
    "#keep only first 3 stations of proper_stations_dict\n",
    "representative_stations_dict = dict(list(proper_stations_dict.items())[:5])\n"
   ]
  },
  {
   "cell_type": "code",
   "execution_count": null,
   "metadata": {},
   "outputs": [],
   "source": [
    "stations_map_dict(proper_stations_dict, title=None, extent=[-10, 2.5, 36, 44])"
   ]
  },
  {
   "cell_type": "code",
   "execution_count": null,
   "metadata": {},
   "outputs": [],
   "source": [
    "# plot station location on a map with rivers and coastlines\n",
    "import cartopy\n",
    "# Define 16 different colors using a colormap\n",
    "cmap = plt.get_cmap('tab20')  # Or any other colormap you prefer\n",
    "colors = [cmap(i) for i in np.linspace(0, 1, 16)]\n",
    "\n",
    "fig = plt.figure(figsize=(10, 10))\n",
    "ax = plt.axes(projection=ccrs.PlateCarree())\n",
    "ax.coastlines()\n",
    "ax.add_feature(cartopy.feature.RIVERS)\n",
    "ax.set_extent([-10, 2.5, 35, 45])\n",
    "gl = ax.gridlines(draw_labels=True, dms=True, x_inline=False, y_inline=False)\n",
    "gl.ylocator = gl.ylocator = plt.MaxNLocator(5)\n",
    "gl.right_labels = False\n",
    "gl.top_labels = False\n",
    "idx=0\n",
    "for key, coordinates in stations_dict_filtered.items():\n",
    "    plt.scatter(coordinates['lon_grid'], coordinates['lat_grid'], s=40, label=coordinates['name'], marker='o', color=colors[idx])\n",
    "    idx+=1\n",
    "plt.title('Location of selected stations')\n",
    "\n",
    "#activate legend \n",
    "# plt.legend(loc='lower right')\n",
    "plt.legend(loc='center left', bbox_to_anchor=(1, 0.5), borderaxespad=0.1)\n"
   ]
  },
  {
   "cell_type": "markdown",
   "metadata": {},
   "source": [
    "# Maps"
   ]
  },
  {
   "cell_type": "code",
   "execution_count": null,
   "metadata": {},
   "outputs": [],
   "source": [
    "ds=sim_irr\n",
    "var='irrigation'\n",
    "map_ave(ds, var, cmap=wetW, hex=False)"
   ]
  },
  {
   "cell_type": "code",
   "execution_count": null,
   "metadata": {},
   "outputs": [],
   "source": [
    "#diff\n",
    "ds1=sim_irr\n",
    "ds2=sim_noirr\n",
    "var='hydrographs'\n",
    "map_diff_ave(ds1, ds2, var)"
   ]
  },
  {
   "cell_type": "code",
   "execution_count": null,
   "metadata": {},
   "outputs": [],
   "source": [
    "#Display map of var for ds on restricted area\n",
    "var='hydrographs'\n",
    "ds = sim_irr\n",
    "\n",
    "subdomain = {\n",
    "    'latmin': 38.95,\n",
    "    'latmax': 39.05,\n",
    "    'lonmin': -2.95,\n",
    "    'lonmax': -2.85\n",
    "}\n",
    "# subdomain = subdomain_spain\n",
    "\n",
    "#restrict ds to latmin, latmax, lonmin, lonmax\n",
    "ds=restrict_ds(ds, subdomain)\n",
    "plotvar = ds[var].mean(dim='time')\n",
    "map_plotvar(plotvar, cmap=reds)"
   ]
  },
  {
   "cell_type": "markdown",
   "metadata": {},
   "source": [
    "# Time series"
   ]
  },
  {
   "cell_type": "markdown",
   "metadata": {},
   "source": [
    "## Stations"
   ]
  },
  {
   "cell_type": "code",
   "execution_count": null,
   "metadata": {},
   "outputs": [],
   "source": [
    "fig=plt.figure(figsize=(10, 6))\n",
    "ax = plt.axes()\n",
    "station_id=6216530\n",
    "station_id, station_data=next(iter(proper_stations_dict.items()))\n",
    "ds_list=[sim_noirr, sim_irr]\n",
    "ts_station(obs, ax, station_id)\n",
    "ts_with_obs(ds_list, obs, ax, station_id, station_data)"
   ]
  },
  {
   "cell_type": "code",
   "execution_count": null,
   "metadata": {},
   "outputs": [],
   "source": [
    "fig=plt.figure(figsize=(10, 6))\n",
    "ax = plt.axes()\n",
    "station_id=6216530\n",
    "# station_id, station_data=next(iter(proper_stations_dict.items()))\n",
    "ds_list=[sim_noirr, sim_irr]\n",
    "sc_station(obs, ax, station_id)\n",
    "sc_with_obs(ds_list, obs, ax, station_id, station_data)"
   ]
  },
  {
   "cell_type": "code",
   "execution_count": null,
   "metadata": {},
   "outputs": [],
   "source": [
    "import numpy as np\n",
    "\n",
    "def percent_valid_coverage(ds, start_year, end_year, time_var='time', data_var=None):\n",
    "    \"\"\"\n",
    "    Calculates the percentage of valid (non-NaN) monthly values in a NetCDF time series\n",
    "    between start_year and end_year (inclusive), using an open xarray Dataset.\n",
    "\n",
    "    Parameters:\n",
    "        ds (xarray.Dataset): Opened xarray dataset.\n",
    "        start_year (int): Start year (inclusive).\n",
    "        end_year (int): End year (inclusive).\n",
    "        time_var (str): Name of the time variable.\n",
    "        data_var (str): Name of the data variable. If None, uses the first variable.\n",
    "\n",
    "    Returns:\n",
    "        float: Percentage coverage (0 to 100).\n",
    "    \"\"\"\n",
    "    if data_var is None:\n",
    "        data_var = list(ds.data_vars)[0]\n",
    "    \n",
    "    data = ds[data_var]\n",
    "    time = ds[time_var]\n",
    "    years = time.dt.year\n",
    "\n",
    "    # Filter by year range\n",
    "    mask = (years >= start_year) & (years <= end_year)\n",
    "    filtered_data = data.sel({time_var: mask})\n",
    "    filtered_time = time.sel({time_var: mask})\n",
    "\n",
    "    valid_count = np.count_nonzero(~np.isnan(filtered_data))\n",
    "    total_months = filtered_time.size\n",
    "\n",
    "    if total_months == 0:\n",
    "        return 0.0\n",
    "    # print(valid_count, total_months)\n",
    "    return round((valid_count / total_months) * 100, 2)\n"
   ]
  },
  {
   "cell_type": "code",
   "execution_count": null,
   "metadata": {},
   "outputs": [],
   "source": [
    "stations_ds=obs\n",
    "for station_id, station_data in proper_stations_dict.items():\n",
    "    station = stations_ds.sel(id=station_id)\n",
    "    coverage = percent_valid_coverage(station, 2010, 2017, time_var='time', data_var='runoff_mean')\n",
    "    print(f\"Station Name: {station_data['name']}, number: {station_data['station_nb']} Coverage: {coverage}%\")\n",
    "\n",
    "# station_id=6216530\n",
    "# station_id, station_data=next(iter(proper_stations_dict.items()))\n",
    "# print('Station Name:', station_data['name'])\n",
    "# station = stations_ds.sel(id=station_id)\n",
    "# percent_valid_coverage(station, 2010, 2017, time_var='time', data_var='runoff_mean')"
   ]
  },
  {
   "cell_type": "code",
   "execution_count": null,
   "metadata": {},
   "outputs": [],
   "source": [
    "#plot a time series for each station from dict\n",
    "fig, axes= plt.subplots(6,3, figsize=(20,30))\n",
    "axes= axes.flatten()\n",
    "ds_list=[sim_noirr, sim_irr]\n",
    "for i, (station_id, station_data) in enumerate(proper_stations_dict.items()):\n",
    "    ts_station(obs,axes[i], station_id, name=station_data['name'], year_min=2010, year_max=2022)\n",
    "    ts_with_obs(ds_list, obs, axes[i], station_id, station_data, year_min=2010, year_max=2022)"
   ]
  },
  {
   "cell_type": "code",
   "execution_count": null,
   "metadata": {},
   "outputs": [],
   "source": [
    "#plot a seasonnal cycle for each station from station_dict\n",
    "fig, axes= plt.subplots(6,3, figsize=(20,24))\n",
    "axes= axes.flatten()\n",
    "ds_list=[sim_noirr, sim_irr]\n",
    "for i, (station_id, station_data) in enumerate(proper_stations_dict.items()):\n",
    "    sc_station(obs,axes[i], station_id, name=station_data['name'], year_min=2010, year_max=2022)\n",
    "    sc_with_obs(ds_list, obs, axes[i], station_id, station_data, year_min=2010, year_max=2022)"
   ]
  },
  {
   "cell_type": "code",
   "execution_count": null,
   "metadata": {},
   "outputs": [],
   "source": [
    "#plot a time series for each station from representative_stations_dict\n",
    "fig, axes= plt.subplots(5,1, figsize=(10,25))\n",
    "axes= axes.flatten()\n",
    "ds_list=[sim_noirr, sim_irr]\n",
    "for i, (station_id, station_data) in enumerate(representative_stations_dict.items()):\n",
    "    ts_station(obs,axes[i], station_id, name=station_data['name'], ylabel='River discharge (m³/s)', year_min=2010, year_max=2022)\n",
    "    ts_with_obs(ds_list, obs, axes[i], station_id, station_data, ylabel='River discharge (m³/s)', year_min=2010, year_max=2022)"
   ]
  },
  {
   "cell_type": "code",
   "execution_count": null,
   "metadata": {},
   "outputs": [],
   "source": [
    "#plot a seasonnal cycle for each station from station_dict_filtered\n",
    "fig, axes= plt.subplots(5, 1, figsize=(10,25))\n",
    "axes= axes.flatten()\n",
    "ds_list=[sim_noirr, sim_irr]\n",
    "for i, (station_id, station_data) in enumerate(representative_stations_dict.items()):\n",
    "    sc_station(obs,axes[i], station_id, name=station_data['name'], ylabel='River discharge (m³/s)', year_min=2010, year_max=2022)\n",
    "    sc_with_obs(ds_list, obs, axes[i], station_id, station_data, ylabel='River discharge (m³/s)', year_min=2010, year_max=2022)"
   ]
  },
  {
   "cell_type": "markdown",
   "metadata": {},
   "source": [
    "## Spatial averaging"
   ]
  },
  {
   "cell_type": "code",
   "execution_count": null,
   "metadata": {},
   "outputs": [],
   "source": [
    "var='hydrographs'\n",
    "\n",
    "ds1=sim_irr\n",
    "# ds2=ORCirr\n",
    "ds_list=[ds1, ds2]\n",
    "ds_list=[ds1]\n",
    "\n",
    "year_max=2015\n",
    "time_series_ave(ds_list, var, year_max=year_max, title=None)\n",
    "seasonal_cycle_ave(ds_list, var, title=None)"
   ]
  },
  {
   "cell_type": "markdown",
   "metadata": {},
   "source": [
    "## En un point lon-lat (ou plusieurs avec dict)"
   ]
  },
  {
   "cell_type": "code",
   "execution_count": null,
   "metadata": {},
   "outputs": [],
   "source": [
    "#Time series\n",
    "var=\"hydrographs\"\n",
    "ds1=sim\n",
    "ds_list=[ds1]\n",
    "year_min=2010\n",
    "year_max=2015\n",
    "lon=-6.325\n",
    "lat=36.91\n",
    "\n",
    "time_series_lonlat(ds_list, var, lon, lat, year_min=year_min, year_max=year_max, title=None)"
   ]
  },
  {
   "cell_type": "code",
   "execution_count": null,
   "metadata": {},
   "outputs": [],
   "source": [
    "ds_list=[sim]\n",
    "discharge_coord_ts(ds_list, river_coords_merit, var='hydrographs', year_min=2010, year_max=2015)"
   ]
  },
  {
   "cell_type": "code",
   "execution_count": null,
   "metadata": {},
   "outputs": [],
   "source": [
    "ds_list=[sim]\n",
    "discharge_coord_sc(ds_list, river_coords_merit, var='hydrographs', year_min=2010, year_max=2015)"
   ]
  },
  {
   "cell_type": "markdown",
   "metadata": {},
   "source": [
    "# Metrics"
   ]
  },
  {
   "cell_type": "markdown",
   "metadata": {},
   "source": [
    "## Compute and display in table"
   ]
  },
  {
   "cell_type": "code",
   "execution_count": null,
   "metadata": {},
   "outputs": [],
   "source": [
    "station_id, station = next(iter(proper_stations_dict.items()))\n",
    "metric_list=[metric_sim_module, metric_obs_module, metric_bias, metric_rmse, metric_tcorr, metric_nse, metric_kge]\n",
    "for metric_to_use in metric_list:\n",
    "    metric_value=compute_metric_station(sim_noirr, obs, station_id, station, metric_to_use)\n",
    "    print('{} for station {} : {}'.format(metric_to_use.__short_name__, station['name'], metric_value))"
   ]
  },
  {
   "cell_type": "code",
   "execution_count": null,
   "metadata": {},
   "outputs": [],
   "source": [
    "# output a pandas dataframe with all metric values for a given list of metrics and stations\n",
    "sim=sim_noirr\n",
    "metric_list=[metric_sim_module, metric_obs_module, metric_bias, metric_rmse, metric_tcorr, metric_nse, metric_kge]\n",
    "stations_dict=proper_stations_dict\n",
    "# define dataframe with one row per station and one column per metric\n",
    "df=[]\n",
    "for station_id, station in stations_dict.items():\n",
    "    label='Station {} ({})'.format(station['station_nb'],station['name'])\n",
    "    df.append({'Station':label})\n",
    "    for metric in metric_list:\n",
    "        name=metric.__short_name__\n",
    "        metric_value=compute_metric_station(sim, obs, station_id, station, metric)\n",
    "        metric_value=np.round(metric_value, 2)\n",
    "        # append metric_value to df\n",
    "        df[-1][name]=metric_value\n",
    "\n",
    "# convert df to pandas dataframe\n",
    "df_noirr=pd.DataFrame(df)\n",
    "# set Station as index\n",
    "df_noirr.set_index('Station', inplace=True)\n",
    "df_noirr['Bias (%)'] = np.round(df_noirr['Bias (m³/s)'] / df_noirr['Module (obs, m³/s)'], 3) * 100\n",
    "#move Bias (%) to the 4th column\n",
    "cols = df_noirr.columns.tolist()\n",
    "cols = cols[:3] + cols[-1:] + cols[3:-1]\n",
    "df_noirr = df_noirr[cols]\n",
    "#add average row\n",
    "df_noirr.loc['Mean'] = df_noirr.mean()\n",
    "df_noirr.drop('Module (sim, m³/s)', axis=1, inplace=False)"
   ]
  },
  {
   "cell_type": "code",
   "execution_count": null,
   "metadata": {},
   "outputs": [],
   "source": [
    "# output a pandas dataframe with all metric values for a given list of metrics and stations\n",
    "sim=sim_irr\n",
    "metric_list=[metric_sim_module, metric_obs_module, metric_bias, metric_rmse, metric_tcorr, metric_nse, metric_kge]\n",
    "stations_dict=proper_stations_dict\n",
    "# define dataframe with one row per station and one column per metric\n",
    "df=[]\n",
    "for station_id, station in stations_dict.items():\n",
    "    label='Station {} ({})'.format(station['station_nb'],station['name'])\n",
    "    df.append({'Station':label})\n",
    "    for metric in metric_list:\n",
    "        name=metric.__short_name__\n",
    "        metric_value=compute_metric_station(sim, obs, station_id, station, metric)\n",
    "        metric_value=np.round(metric_value, 2)\n",
    "        # append metric_value to df\n",
    "        df[-1][name]=metric_value\n",
    "\n",
    "# convert df to pandas dataframe\n",
    "df_irr=pd.DataFrame(df)\n",
    "# set Station as index\n",
    "df_irr.set_index('Station', inplace=True)\n",
    "df_irr['Bias (%)'] = np.round(df_irr['Bias (m³/s)'] / df_irr['Module (obs, m³/s)'], 3) * 100\n",
    "#move Bias (%) to the 4th column\n",
    "cols = df_irr.columns.tolist()\n",
    "cols = cols[:3] + cols[-1:] + cols[3:-1]\n",
    "df_irr = df_irr[cols]\n",
    "#add average row\n",
    "df_irr.loc['Mean'] = df_irr.mean()\n",
    "df_irr.drop('Module (obs, m³/s)', axis=1, inplace=False).drop('Module (sim, m³/s)', axis=1, inplace=False)"
   ]
  },
  {
   "cell_type": "code",
   "execution_count": null,
   "metadata": {},
   "outputs": [],
   "source": [
    "df_noirr.describe()"
   ]
  },
  {
   "cell_type": "code",
   "execution_count": null,
   "metadata": {},
   "outputs": [],
   "source": [
    "df_irr.describe()"
   ]
  },
  {
   "cell_type": "code",
   "execution_count": null,
   "metadata": {},
   "outputs": [],
   "source": [
    "df_diff=df_irr-df_noirr\n",
    "df_diff['Bias absolute relative change (%)'] = np.round(df_diff['Bias (m³/s)'] / df_noirr['Bias (m³/s)'], 3) * 100\n",
    "df_diff.drop('Module (obs, m³/s)', axis=1, inplace=True)\n",
    "df_diff.drop('Module (sim, m³/s)', axis=1, inplace=True)\n",
    "df_diff.drop('Bias (m³/s)', axis=1, inplace=True)\n",
    "df_diff.drop('Bias (%)', axis=1, inplace=True)\n",
    "# df_diff.loc['Mean'] = df_diff.mean()\n",
    "df_diff"
   ]
  },
  {
   "cell_type": "code",
   "execution_count": null,
   "metadata": {},
   "outputs": [],
   "source": [
    "df_diff.describe()"
   ]
  },
  {
   "cell_type": "code",
   "execution_count": null,
   "metadata": {},
   "outputs": [],
   "source": [
    "df_noirr.drop('Module (sim, m³/s)', axis=1, inplace=True)\n",
    "df_noirr.drop('Bias (m³/s)', axis=1, inplace=True)\n",
    "df_noirr"
   ]
  },
  {
   "cell_type": "code",
   "execution_count": null,
   "metadata": {},
   "outputs": [],
   "source": [
    "#export to csv to use in latex or excel\n",
    "df_noirr.to_csv('figures/df_noirr.csv')\n",
    "df_irr.to_csv('figures/df_irr.csv')\n",
    "df_diff.to_csv('figures/df_diff.csv')"
   ]
  },
  {
   "cell_type": "markdown",
   "metadata": {},
   "source": [
    "## Display on map"
   ]
  },
  {
   "cell_type": "code",
   "execution_count": null,
   "metadata": {},
   "outputs": [],
   "source": [
    "sim=sim_noirr\n",
    "metric_to_use = metric_rmse\n",
    "display_metric_map(sim, obs, proper_stations_dict, metric_to_use, metric_min=0, metric_max=100, legend=True)"
   ]
  },
  {
   "cell_type": "code",
   "execution_count": null,
   "metadata": {},
   "outputs": [],
   "source": [
    "sim=sim_irr\n",
    "metric_to_use = \n",
    "display_metric_map(sim, obs, proper_stations_dict, metric_to_use, metric_min=-100, metric_max=100, legend=True)"
   ]
  },
  {
   "cell_type": "code",
   "execution_count": null,
   "metadata": {},
   "outputs": [],
   "source": [
    "sim=sim_noirr\n",
    "metric_list=[metric_bias, metric_rmse, metric_tcorr, metric_nse, metric_kge]\n",
    "# metric_list=[metric_bias]\n",
    "for metric_to_use in metric_list:\n",
    "    display_metric_map(sim, obs, proper_stations_dict, metric_to_use, legend=False)"
   ]
  },
  {
   "cell_type": "code",
   "execution_count": null,
   "metadata": {},
   "outputs": [],
   "source": [
    "sim=sim_irr\n",
    "metric_list=[metric_bias, metric_rmse, metric_tcorr, metric_nse, metric_kge]\n",
    "for metric_to_use in metric_list:\n",
    "    display_metric_map(sim, obs, proper_stations_dict, metric_to_use, legend=False)"
   ]
  },
  {
   "cell_type": "code",
   "execution_count": null,
   "metadata": {},
   "outputs": [],
   "source": [
    "sim1=sim_irr\n",
    "sim2=sim_noirr\n",
    "metric_list=[metric_bias, metric_rmse, metric_tcorr, metric_nse, metric_kge]\n",
    "metric_list=[metric_rmse]\n",
    "vmin=-25\n",
    "vmax= 25\n",
    "for metric_to_use in metric_list:\n",
    "    display_metric_diff_map(sim1, sim2, obs, proper_stations_dict, metric_to_use,  metric_min=vmin, metric_max=vmax,legend=False)"
   ]
  }
 ],
 "metadata": {
  "kernelspec": {
   "display_name": "env1",
   "language": "python",
   "name": "python3"
  },
  "language_info": {
   "codemirror_mode": {
    "name": "ipython",
    "version": 3
   },
   "file_extension": ".py",
   "mimetype": "text/x-python",
   "name": "python",
   "nbconvert_exporter": "python",
   "pygments_lexer": "ipython3",
   "version": "3.12.2"
  }
 },
 "nbformat": 4,
 "nbformat_minor": 2
}
