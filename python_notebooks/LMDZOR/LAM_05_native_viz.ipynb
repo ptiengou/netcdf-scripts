{
 "cells": [
  {
   "cell_type": "markdown",
   "metadata": {},
   "source": [
    "# Imports and setting up viz\n",
    "\n",
    "NB : conda env1 on PC, lam1env on spirit (Python3.12)"
   ]
  },
  {
   "cell_type": "code",
   "execution_count": null,
   "metadata": {},
   "outputs": [],
   "source": [
    "%load_ext autoreload\n",
    "%autoreload 2\n",
    "%matplotlib inline\n",
    "\n",
    "#import personnal tools\n",
    "import os\n",
    "import sys\n",
    "sys.path.append('../../python_tools/')\n",
    "from tools import *"
   ]
  },
  {
   "cell_type": "code",
   "execution_count": 2,
   "metadata": {},
   "outputs": [],
   "source": [
    "rivers = cfeature.NaturalEarthFeature('physical', 'rivers_lake_centerlines', '10m',edgecolor=(0, 0, 0, 0.3), facecolor='none')"
   ]
  },
  {
   "cell_type": "markdown",
   "metadata": {},
   "source": [
    "# Load and edit files\n",
    "\n",
    "LAM output analysis on native ICO grid using tools from Valou and Cécile Agosta."
   ]
  },
  {
   "cell_type": "markdown",
   "metadata": {},
   "source": [
    "## Sims"
   ]
  },
  {
   "cell_type": "code",
   "execution_count": 13,
   "metadata": {},
   "outputs": [],
   "source": [
    "LAM_dir='../../../JZ_simu_outputs/LAM/native_outputs/'"
   ]
  },
  {
   "cell_type": "code",
   "execution_count": 70,
   "metadata": {},
   "outputs": [],
   "source": [
    "import psyplot.project as psy\n",
    "psy.rcParams['auto_show'] = True\n",
    "mpl.rcParams['figure.figsize'] = [10., 8.]\n",
    "\n",
    "orc_file='{}/SRF/Output/MO/sim254_20170701_20170731_1M_sechiba_history.nc'.format(LAM_dir)\n",
    "diag_routing_file='{}/SRF/Output/MO/sim254_20170701_20170731_1M_diag_routing.nc'.format(LAM_dir)\n",
    "lmdz_file='{}/ATM/Output/MO/sim254_20170701_20170731_1M_histmth.nc'.format(LAM_dir)"
   ]
  },
  {
   "cell_type": "code",
   "execution_count": null,
   "metadata": {},
   "outputs": [],
   "source": [
    "ORC = xr.open_mfdataset(orc_file)\n",
    "ORC = ORC.rename({'time_counter':'time'})\n",
    "ORC"
   ]
  },
  {
   "cell_type": "code",
   "execution_count": null,
   "metadata": {},
   "outputs": [],
   "source": [
    "LMDZ=xr.open_mfdataset(lmdz_file)\n",
    "LMDZ = LMDZ.rename({'time_counter':'time'})\n",
    "LMDZ"
   ]
  },
  {
   "cell_type": "markdown",
   "metadata": {},
   "source": [
    "## Changes to dataset"
   ]
  },
  {
   "cell_type": "code",
   "execution_count": null,
   "metadata": {},
   "outputs": [],
   "source": [
    "#make new var in lmdz netcdf file equal to precip *3600*24\n",
    "LMDZ['precip_mm'] = LMDZ['precip']*3600*24\n",
    "#save to netcdf file\n",
    "lmdz_file2='{}/ATM/Output/MO/sim254_20170701_20170731_1M_histmth_modified.nc'.format(LAM_dir)\n",
    "LMDZ.to_netcdf(lmdz_file2)"
   ]
  },
  {
   "cell_type": "code",
   "execution_count": 106,
   "metadata": {},
   "outputs": [],
   "source": [
    "orc_file2='{}/SRF/Output/MO/sim254_20170701_20170731_1M_sechiba_history_modified.nc'.format(LAM_dir)\n",
    "os.system('rm -f {}'.format(orc_file2))\n",
    "\n",
    "ORC['soiltile_1']=ORC['soiltile'][0,:]\n",
    "ORC['soiltile_2']=ORC['soiltile'][1,:]\n",
    "ORC['soiltile_3']=ORC['soiltile'][2,:]\n",
    "\n",
    "ORC.to_netcdf(orc_file2)"
   ]
  },
  {
   "cell_type": "markdown",
   "metadata": {},
   "source": [
    "# Maps"
   ]
  },
  {
   "cell_type": "code",
   "execution_count": null,
   "metadata": {},
   "outputs": [],
   "source": [
    "file=orc_file2\n",
    "var='Areas'\n",
    "vmin=0.0\n",
    "vmax=1\n",
    "pas=(vmax-vmin) / 10\n",
    "\n",
    "psy.plot.mapplot(\n",
    "    file, \n",
    "    name=var,\n",
    "    datagrid=dict(color='k', linewidth=0.2),\n",
    "    cbar='r',\n",
    "    tight=True,\n",
    "    lsm='50m',\n",
    "    cmap=redsW,\n",
    "    extend='both',\n",
    "    projection='ortho',\n",
    "    #add title\n",
    "    title=var,\n",
    "    # bounds=np.arange(vmin, vmax + pas, pas)\n",
    ")"
   ]
  },
  {
   "cell_type": "code",
   "execution_count": null,
   "metadata": {},
   "outputs": [],
   "source": [
    "file=diag_routing_file\n",
    "var='routing_irrigation'\n",
    "vmin=0.0\n",
    "vmax=0.01\n",
    "pas=(vmax-vmin) / 10\n",
    "\n",
    "psy.plot.mapplot(\n",
    "    file, \n",
    "    name=var,\n",
    "    datagrid=dict(color='k', linewidth=0.2),\n",
    "    cbar='r',\n",
    "    tight=True,\n",
    "    lsm='50m',\n",
    "    cmap=wetW,\n",
    "    extend='both',\n",
    "    projection='ortho',\n",
    "    #add title\n",
    "    title=var,\n",
    "    # bounds=np.arange(vmin, vmax + pas, pas)\n",
    ")"
   ]
  },
  {
   "cell_type": "code",
   "execution_count": null,
   "metadata": {},
   "outputs": [],
   "source": [
    "file=lmdz_file2\n",
    "var='evap'\n",
    "vmin=0.0\n",
    "vmax=0.5e+6\n",
    "pas=0.001e+6\n",
    "\n",
    "psy.plot.mapplot(\n",
    "    file, \n",
    "    name=var,\n",
    "    datagrid=dict(color='k', linewidth=0.2),\n",
    "    cbar='r',\n",
    "    tight=True,\n",
    "    lsm='50m',\n",
    "    cmap=reds,\n",
    "    extend='both',\n",
    "    projection='ortho',\n",
    "    title=var,\n",
    "    # bounds=np.arange(vmin, vmax + pas, pas)\n",
    ")"
   ]
  }
 ],
 "metadata": {
  "kernelspec": {
   "display_name": "Python 3.12.2 64-bit",
   "language": "python",
   "name": "python3"
  },
  "language_info": {
   "codemirror_mode": {
    "name": "ipython",
    "version": 3
   },
   "file_extension": ".py",
   "mimetype": "text/x-python",
   "name": "python",
   "nbconvert_exporter": "python",
   "pygments_lexer": "ipython3",
   "version": "3.12.2"
  },
  "vscode": {
   "interpreter": {
    "hash": "9715f220877aa1dd3a10bcc1f3e7aef151ac70eccc8d755f78d50313f1675c6a"
   }
  }
 },
 "nbformat": 4,
 "nbformat_minor": 2
}
