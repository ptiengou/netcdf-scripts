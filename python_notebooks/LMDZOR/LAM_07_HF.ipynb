{
 "cells": [
  {
   "cell_type": "markdown",
   "metadata": {},
   "source": [
    "# Imports and setting up viz\n",
    "\n",
    "NB : conda env1 on PC, lam1env on spirit (Python3.12)"
   ]
  },
  {
   "cell_type": "code",
   "execution_count": null,
   "metadata": {},
   "outputs": [],
   "source": [
    "%load_ext autoreload\n",
    "%autoreload 2\n",
    "%matplotlib inline\n",
    "\n",
    "#import personnal tools\n",
    "import sys\n",
    "sys.path.append('../../python_tools/')\n",
    "from tools import *\n",
    "from tools_mapping import *\n",
    "from tools_hf import *\n",
    "from tools_LIAISE import *"
   ]
  },
  {
   "cell_type": "markdown",
   "metadata": {},
   "source": [
    "# Load files and edit datasets\n",
    "\n",
    "LAM output analysis.\n",
    "\n",
    "Simu irr et simu no-irr."
   ]
  },
  {
   "cell_type": "code",
   "execution_count": null,
   "metadata": {},
   "outputs": [],
   "source": [
    "# lon_min=-10\n",
    "# lon_max=4\n",
    "# lat_min=34\n",
    "# lat_max=46"
   ]
  },
  {
   "cell_type": "code",
   "execution_count": null,
   "metadata": {},
   "outputs": [],
   "source": [
    "hf_dir='../../../JZ_simu_outputs/LAM/HF_outputs'"
   ]
  },
  {
   "cell_type": "markdown",
   "metadata": {},
   "source": [
    "## LMDZ"
   ]
  },
  {
   "cell_type": "code",
   "execution_count": null,
   "metadata": {},
   "outputs": [],
   "source": [
    "def format_LMDZ_HF(filename, name, color):\n",
    "    ds = xr.open_mfdataset(filename)\n",
    "    ds = ds.rename({'time_counter':'time'})\n",
    "    ds = ds.assign_coords(time_decimal=ds.time.dt.hour + ds.time.dt.minute / 60)\n",
    "    ds.attrs['name'] = name\n",
    "    ds.attrs['plot_color']=color\n",
    "    ds = ds.sel(lon=slice(lon_min,lon_max),lat=slice(lat_min,lat_max))\n",
    "\n",
    "    ds['sens']=-ds['sens']\n",
    "    ds['flat']=-ds['flat']\n",
    "\n",
    "    ds['ground_level'] = ds['phis'] / 9.81\n",
    "    ds['ground_level'].attrs['units'] = 'm'\n",
    "\n",
    "    ds=add_wind_speed(ds)\n",
    "    ds=add_wind_direction(ds)\n",
    "    ds=add_wind_10m(ds)\n",
    "\n",
    "    #make ovap unit g/kg\n",
    "    ds['ovap'] = ds['ovap']*1000\n",
    "    ds['ovap'].attrs['units'] = 'g/kg'\n",
    "    #same for q2m\n",
    "    ds['q2m'] = ds['q2m']*1000\n",
    "    ds['q2m'].attrs['units'] = 'g/kg'\n",
    "    #turn psol to hPa\n",
    "    ds['psol'] = ds['psol']/100\n",
    "    ds['psol'].attrs['units'] = 'hPa'\n",
    "\n",
    "    ds = compute_grid_cell_width(ds)\n",
    "    ds = add_moisture_divergence(ds)\n",
    "    \n",
    "    return ds"
   ]
  },
  {
   "cell_type": "code",
   "execution_count": null,
   "metadata": {},
   "outputs": [],
   "source": [
    "#noirr\n",
    "filename = '{}/noirr/sim265/*_HF_histhf.nc'.format(hf_dir)\n",
    "lmdz_noirr = format_LMDZ_HF(filename, 'no_irr', 'red')\n",
    "lmdz_noirr"
   ]
  },
  {
   "cell_type": "code",
   "execution_count": null,
   "metadata": {},
   "outputs": [],
   "source": [
    "#irr\n",
    "filename = '{}/irr/sim266/*_HF_histhf.nc'.format(hf_dir)\n",
    "lmdz_irr = format_LMDZ_HF(filename, 'irr', 'blue')\n",
    "lmdz_irr"
   ]
  },
  {
   "cell_type": "markdown",
   "metadata": {},
   "source": [
    "## ORCHIDEE"
   ]
  },
  {
   "cell_type": "code",
   "execution_count": null,
   "metadata": {},
   "outputs": [],
   "source": [
    "def format_ORC_HF(filename, name, color):\n",
    "    ds = xr.open_mfdataset(filename)\n",
    "    ds = ds.rename({'time_counter':'time'})\n",
    "    ds = ds.assign_coords(time_decimal=ds.time.dt.hour + ds.time.dt.minute / 60)\n",
    "    ds.attrs['name'] = name\n",
    "    ds.attrs['plot_color']= color\n",
    "    ds = ds.sel(lon=slice(lon_min,lon_max),lat=slice(lat_min,lat_max))\n",
    "\n",
    "    ds['evapot']=ds['evapot'] * 3600 * 24\n",
    "    ds['evapot'].attrs['units'] = 'mm/d'\n",
    "\n",
    "    return ds"
   ]
  },
  {
   "cell_type": "code",
   "execution_count": null,
   "metadata": {},
   "outputs": [],
   "source": [
    "filename = '{}/noirr/sim265/*HF_sechiba_out_2.nc'.format(hf_dir)\n",
    "orc_noirr = format_ORC_HF(filename, 'no_irr', 'red')\n",
    "orc_noirr"
   ]
  },
  {
   "cell_type": "code",
   "execution_count": null,
   "metadata": {},
   "outputs": [],
   "source": [
    "filename = '{}/irr/sim266/*HF_sechiba_out_2.nc'.format(hf_dir)\n",
    "orc_irr = format_ORC_HF(filename, 'irr', 'blue')\n",
    "orc_irr"
   ]
  },
  {
   "cell_type": "markdown",
   "metadata": {},
   "source": [
    "## Obs"
   ]
  },
  {
   "cell_type": "markdown",
   "metadata": {},
   "source": [
    "### Masts measurements"
   ]
  },
  {
   "cell_type": "code",
   "execution_count": null,
   "metadata": {},
   "outputs": [],
   "source": [
    "#load all July obs in one ds\n",
    "cen_mto_filename='../../../obs/LIAISE/LIAISE_LA-CENDROSA_CNRM_MTO-FLUX-30MIN_L2/LIAISE_LA-CENDROSA_CNRM_MTO-FLUX-30MIN_L2_2021-07*_V3.nc'\n",
    "cen_mto = format_Cendrosa_obs(cen_mto_filename)\n",
    "cen_mto"
   ]
  },
  {
   "cell_type": "code",
   "execution_count": null,
   "metadata": {},
   "outputs": [],
   "source": [
    "sop_cen_mto = filter_xarray_by_timestamps(cen_mto, SOP_start_time, SOP_end_time)"
   ]
  },
  {
   "cell_type": "code",
   "execution_count": null,
   "metadata": {},
   "outputs": [],
   "source": [
    "filename =  '../../../obs/LIAISE/LIAISE_ELS-PLANS_UKMO_MTO-30MIN_L2/LIAISE_ELS-PLANS_UKMO_MTO-30MIN_L2_20210721_V4.0.dat'\n",
    "ds = dat_to_xarray(filename, 152, 153)\n",
    "els_mto_2107 = format_ElsPlans_obs(ds, start_day='2021-07-21')\n",
    "\n",
    "filename =  '../../../obs/LIAISE/LIAISE_ELS-PLANS_UKMO_MTO-30MIN_L2/LIAISE_ELS-PLANS_UKMO_MTO-30MIN_L2_20210722_V4.0.dat'\n",
    "ds = dat_to_xarray(filename, 152, 153)\n",
    "els_mto_2207 = format_ElsPlans_obs(ds, start_day='2021-07-22')"
   ]
  },
  {
   "cell_type": "code",
   "execution_count": null,
   "metadata": {},
   "outputs": [],
   "source": [
    "july_days=['01', '02', '03', '04', '05', '06', '07', '08', '09', '10', '11', '12', '13', '14', '15', '16', '17', '18', '19', '20', '21', '22', '23', '24', '25', '26', '27', '28', '29', '30', '31']\n",
    "for day in july_days:\n",
    "    filename =  '../../../obs/LIAISE/LIAISE_ELS-PLANS_UKMO_MTO-30MIN_L2/LIAISE_ELS-PLANS_UKMO_MTO-30MIN_L2_202107{}_V4.0.dat'.format(day)\n",
    "    ds = dat_to_xarray(filename, 152, 153)\n",
    "    day_els_mto = format_ElsPlans_obs(ds, start_day='2021-07-{}'.format(day))\n",
    "    if day=='01':\n",
    "        els_mto=day_els_mto\n",
    "    else:\n",
    "        els_mto=xr.concat([els_mto,day_els_mto],dim='time')\n",
    "els_mto"
   ]
  },
  {
   "cell_type": "code",
   "execution_count": null,
   "metadata": {},
   "outputs": [],
   "source": [
    "sop_els_mto = filter_xarray_by_timestamps(els_mto, SOP_start_time, SOP_end_time)"
   ]
  },
  {
   "cell_type": "markdown",
   "metadata": {},
   "source": [
    "## Masking and selecting subdatasets"
   ]
  },
  {
   "cell_type": "markdown",
   "metadata": {},
   "source": [
    "### IP continental subdomain"
   ]
  },
  {
   "cell_type": "code",
   "execution_count": null,
   "metadata": {},
   "outputs": [],
   "source": [
    "# Define masks\n",
    " \n",
    "con_mask_2D_ORC= orc_noirr.mean(dim='time')['Contfrac']>0.95\n",
    "con_mask_2D_ORC.attrs['name']='Continental mask (95%)'\n",
    "\n",
    "ip_polygon_mask_2D=polygon_to_mask(orc_noirr.mean(dim=\"time\"), iberian_peninsula)\n",
    "ip_polygon_mask_2D.attrs['name']='Iberian Peninsula polygon mask'\n",
    "\n",
    "#combine two masks\n",
    "ip_mask = con_mask_2D_ORC * ip_polygon_mask_2D\n",
    "ip_mask.attrs['name']='IPmask'"
   ]
  },
  {
   "cell_type": "code",
   "execution_count": null,
   "metadata": {},
   "outputs": [],
   "source": [
    "#ORC\n",
    "ip_orc_noirr = apply_2Dmask_to_dataset(orc_noirr, ip_mask, dsname='no_irr')\n",
    "ip_orc_irr = apply_2Dmask_to_dataset(orc_irr, ip_mask, dsname='irr')"
   ]
  },
  {
   "cell_type": "code",
   "execution_count": null,
   "metadata": {},
   "outputs": [],
   "source": [
    "#LMDZ\n",
    "ip_lmdz_noirr = apply_2Dmask_to_dataset(lmdz_noirr, ip_mask, dsname='no_irr')\n",
    "ip_lmdz_irr = apply_2Dmask_to_dataset(lmdz_irr, ip_mask, dsname='irr')"
   ]
  },
  {
   "cell_type": "markdown",
   "metadata": {},
   "source": [
    "### LIAISE sites"
   ]
  },
  {
   "cell_type": "code",
   "execution_count": null,
   "metadata": {},
   "outputs": [],
   "source": [
    "#one grid cell\n",
    "#highirr\n",
    "Cendrosa_lon=0.6\n",
    "Cendrosa_lat=41.7\n",
    "#lowirr\n",
    "ElsPlans_lon=1.2\n",
    "ElsPlans_lat=41.46"
   ]
  },
  {
   "cell_type": "code",
   "execution_count": null,
   "metadata": {},
   "outputs": [],
   "source": [
    "cen_lmdz_noirr = lmdz_noirr.sel(lon=Cendrosa_lon,lat=Cendrosa_lat,method='nearest').copy()\n",
    "cen_lmdz_noirr.attrs['name']='La Cendrosa no_irr'\n",
    "cen_lmdz_irr = lmdz_irr.sel(lon=Cendrosa_lon,lat=Cendrosa_lat,method='nearest').copy()\n",
    "cen_lmdz_irr.attrs['name']='La Cendrosa irr'\n",
    "cen_orc_noirr = orc_noirr.sel(lon=Cendrosa_lon,lat=Cendrosa_lat,method='nearest').copy()\n",
    "cen_orc_noirr.attrs['name']='La Cendrosa no_irr'\n",
    "cen_orc_irr = orc_irr.sel(lon=Cendrosa_lon,lat=Cendrosa_lat,method='nearest').copy()\n",
    "cen_orc_irr.attrs['name']='La Cendrosa irr'"
   ]
  },
  {
   "cell_type": "code",
   "execution_count": null,
   "metadata": {},
   "outputs": [],
   "source": [
    "els_lmdz_noirr = lmdz_noirr.sel(lon=ElsPlans_lon,lat=ElsPlans_lat,method='nearest').copy()\n",
    "els_lmdz_noirr.attrs['name']='Els Plans no_irr'\n",
    "els_lmdz_irr = lmdz_irr.sel(lon=ElsPlans_lon,lat=ElsPlans_lat,method='nearest').copy()\n",
    "els_lmdz_irr.attrs['name']='Els Plans irr'\n",
    "els_orc_noirr = orc_noirr.sel(lon=ElsPlans_lon,lat=ElsPlans_lat,method='nearest').copy()\n",
    "els_orc_noirr.attrs['name']='Els Plans no_irr'\n",
    "els_orc_irr = orc_irr.sel(lon=ElsPlans_lon,lat=ElsPlans_lat,method='nearest').copy()\n",
    "els_orc_irr.attrs['name']='Els Plans irr'"
   ]
  },
  {
   "cell_type": "code",
   "execution_count": null,
   "metadata": {},
   "outputs": [],
   "source": [
    "#add attr linestyle -- to els_ datasets\n",
    "els_lmdz_noirr.attrs['linestyle']='--'\n",
    "els_lmdz_irr.attrs['linestyle']='--'\n",
    "els_orc_noirr.attrs['linestyle']='--'\n",
    "els_orc_irr.attrs['linestyle']='--'\n",
    "#add attr linestyle - to cen_ datasets\n",
    "cen_lmdz_noirr.attrs['linestyle']='-'\n",
    "cen_lmdz_irr.attrs['linestyle']='-'\n",
    "cen_orc_noirr.attrs['linestyle']='-'\n",
    "cen_orc_irr.attrs['linestyle']='-'"
   ]
  },
  {
   "cell_type": "code",
   "execution_count": null,
   "metadata": {},
   "outputs": [],
   "source": [
    "cendrosa_gl= cen_lmdz_noirr['ground_level'].mean(dim='time').values.item()\n",
    "elsplans_gl= els_lmdz_noirr['ground_level'].mean(dim='time').values.item()\n",
    "cendrosa_gl,  elsplans_gl"
   ]
  },
  {
   "cell_type": "markdown",
   "metadata": {},
   "source": [
    "### Golden days"
   ]
  },
  {
   "cell_type": "code",
   "execution_count": null,
   "metadata": {},
   "outputs": [],
   "source": [
    "start_time = '2021-07-17T00:30:00.000000000'\n",
    "day1_end_time = '2021-07-17T23:30:00.000000000'\n",
    "day2_start_time = '2021-07-20T00:30:00.000000000'\n",
    "end_time='2021-07-20T23:30:00.000000000'"
   ]
  },
  {
   "cell_type": "code",
   "execution_count": null,
   "metadata": {},
   "outputs": [],
   "source": [
    "day1_lmdz_noirr = filter_xarray_by_timestamps(ip_lmdz_noirr, start_time, day1_end_time)\n",
    "day1_lmdz_irr = filter_xarray_by_timestamps(ip_lmdz_irr, start_time, day1_end_time)\n",
    "day1_orc_noirr = filter_xarray_by_timestamps(ip_orc_noirr, start_time, day1_end_time)\n",
    "day1_orc_irr = filter_xarray_by_timestamps(ip_orc_irr, start_time, day1_end_time)\n",
    "\n",
    "day2_lmdz_noirr = filter_xarray_by_timestamps(ip_lmdz_noirr, day2_start_time, end_time)\n",
    "day2_lmdz_irr = filter_xarray_by_timestamps(ip_lmdz_irr, day2_start_time, end_time)     \n",
    "day2_orc_noirr = filter_xarray_by_timestamps(ip_orc_noirr, day2_start_time, end_time)\n",
    "day2_orc_irr = filter_xarray_by_timestamps(ip_orc_irr, day2_start_time, end_time)"
   ]
  },
  {
   "cell_type": "code",
   "execution_count": null,
   "metadata": {},
   "outputs": [],
   "source": [
    "gold_cen_lmdz_noirr = filter_xarray_by_timestamps(cen_lmdz_noirr, start_time, end_time)\n",
    "gold_cen_lmdz_irr = filter_xarray_by_timestamps(cen_lmdz_irr, start_time, end_time)\n",
    "gold_cen_orc_noirr = filter_xarray_by_timestamps(cen_orc_noirr, start_time, end_time)\n",
    "gold_cen_orc_irr = filter_xarray_by_timestamps(cen_orc_irr, start_time, end_time)\n",
    "\n",
    "gold_els_lmdz_noirr = filter_xarray_by_timestamps(els_lmdz_noirr, start_time, end_time)\n",
    "gold_els_lmdz_irr = filter_xarray_by_timestamps(els_lmdz_irr, start_time, end_time)\n",
    "gold_els_orc_noirr = filter_xarray_by_timestamps(els_orc_noirr, start_time, end_time)\n",
    "gold_els_orc_irr = filter_xarray_by_timestamps(els_orc_irr, start_time, end_time)"
   ]
  },
  {
   "cell_type": "code",
   "execution_count": null,
   "metadata": {},
   "outputs": [],
   "source": [
    "#day1\n",
    "day1_cen_lmdz_noirr = filter_xarray_by_timestamps(cen_lmdz_noirr, start_time, day1_end_time)\n",
    "day1_cen_lmdz_irr = filter_xarray_by_timestamps(cen_lmdz_irr, start_time, day1_end_time)\n",
    "day1_cen_orc_noirr = filter_xarray_by_timestamps(cen_orc_noirr, start_time, day1_end_time)\n",
    "day1_cen_orc_irr = filter_xarray_by_timestamps(cen_orc_irr, start_time, day1_end_time)\n",
    "\n",
    "day1_els_lmdz_noirr = filter_xarray_by_timestamps(els_lmdz_noirr, start_time, day1_end_time)\n",
    "day1_els_lmdz_irr = filter_xarray_by_timestamps(els_lmdz_irr, start_time, day1_end_time)\n",
    "day1_els_orc_noirr = filter_xarray_by_timestamps(els_orc_noirr, start_time, day1_end_time)\n",
    "day1_els_orc_irr = filter_xarray_by_timestamps(els_orc_irr, start_time, day1_end_time)\n",
    "\n",
    "#day2\n",
    "day2_cen_lmdz_noirr = filter_xarray_by_timestamps(cen_lmdz_noirr, day2_start_time, end_time)\n",
    "day2_cen_lmdz_irr = filter_xarray_by_timestamps(cen_lmdz_irr, day2_start_time, end_time)\n",
    "day2_cen_orc_noirr = filter_xarray_by_timestamps(cen_orc_noirr, day2_start_time, end_time)\n",
    "day2_cen_orc_irr = filter_xarray_by_timestamps(cen_orc_irr, day2_start_time, end_time)\n",
    "\n",
    "day2_els_lmdz_noirr = filter_xarray_by_timestamps(els_lmdz_noirr, day2_start_time, end_time)\n",
    "day2_els_lmdz_irr = filter_xarray_by_timestamps(els_lmdz_irr, day2_start_time, end_time)\n",
    "day2_els_orc_noirr = filter_xarray_by_timestamps(els_orc_noirr, day2_start_time, end_time)\n",
    "day2_els_orc_irr = filter_xarray_by_timestamps(els_orc_irr, day2_start_time, end_time)"
   ]
  },
  {
   "cell_type": "markdown",
   "metadata": {},
   "source": [
    "# Maps"
   ]
  },
  {
   "cell_type": "code",
   "execution_count": null,
   "metadata": {},
   "outputs": [],
   "source": [
    "var='moisture_divergence'\n",
    "ds=ip_lmdz_irr\n",
    "\n",
    "vmin=0\n",
    "vmax=1000\n",
    "# vmin,vmax = None, None\n",
    "cmap=reds\n",
    "# title='off'\n",
    "title=None\n",
    "# title='Evaporative fraction (irr, JJA)'\n",
    "# clabel='Irrigation (mm/d)'\n",
    "clabel=None\n",
    "map_ave(ds, var, vmin=vmin, vmax=vmax, cmap=cmap,\n",
    "        title=title, clabel=clabel)"
   ]
  },
  {
   "cell_type": "code",
   "execution_count": null,
   "metadata": {},
   "outputs": [],
   "source": [
    "#Diff map\n",
    "var='moisture_convergence'\n",
    "ds1=ip_lmdz_irr\n",
    "ds2=ip_lmdz_noirr\n",
    "\n",
    "vmax= 1.5\n",
    "vmin=-1.5\n",
    "# vmin,vmax = None, None\n",
    "cmap=emb_neutral\n",
    "title=None\n",
    "map_diff_ave(ds1, ds2, var, vmin=vmin, vmax=vmax, cmap=cmap, \n",
    "             sig=False,\n",
    "             title=title, clabel=clabel)"
   ]
  },
  {
   "cell_type": "code",
   "execution_count": null,
   "metadata": {},
   "outputs": [],
   "source": [
    "Cendrosa_Latitude=41.69336\n",
    "Cendrosa_Longitude=0.928538\n",
    "Cenrosa_Altitude= 240\n",
    "\n",
    "ElsPlans_Latitude = 41.590111\n",
    "ElsPlans_Longitude = 1.029363\n",
    "ElsPlans_Altitude = 334"
   ]
  },
  {
   "cell_type": "code",
   "execution_count": null,
   "metadata": {},
   "outputs": [],
   "source": [
    "#Display map of var for ds on restricted area\n",
    "var='irrigation'\n",
    "ds = ip_orc_irr\n",
    "# ds = lmdz_irr\n",
    "\n",
    "latmin=41.35\n",
    "latmax=41.9\n",
    "lonmin=0.6\n",
    "lonmax=1.4\n",
    "# latmin=40.5\n",
    "# latmax=43.5\n",
    "# lonmin=-3\n",
    "# lonmax=3\n",
    "cmap=myterrain\n",
    "cmap=wet\n",
    "vmin=0\n",
    "vmax=1000\n",
    "vmax=2\n",
    "# vmin, vmax=None, None\n",
    "\n",
    "title='Irrigation (July 2021, mm/d)'\n",
    "# title=None\n",
    "\n",
    "#restrict ds to latmin, latmax, lonmin, lonmax\n",
    "ds = ds.where(ds.lat >= latmin, drop=True).where(ds.lat <= latmax, drop=True)\n",
    "ds = ds.where(ds.lon >= lonmin, drop=True).where(ds.lon <= lonmax, drop=True)\n",
    "plotvar = ds[var].mean(dim='time')\n",
    "\n",
    "map_plotvar(plotvar, cmap=cmap, vmin=vmin,vmax=vmax, title=title)\n",
    "\n",
    "plt.plot(Cendrosa_lon, Cendrosa_lat, 'go', markersize=10)\n",
    "plt.plot(ElsPlans_lon, ElsPlans_lat, 'go', markersize=10)\n",
    "plt.plot(Cendrosa_Longitude, Cendrosa_Latitude, 'ro', markersize=10)\n",
    "plt.plot(ElsPlans_Longitude, ElsPlans_Latitude, 'ro', markersize=10)"
   ]
  },
  {
   "cell_type": "code",
   "execution_count": null,
   "metadata": {},
   "outputs": [],
   "source": [
    "#map winds\n",
    "ds = ip_lmdz_irr\n",
    "\n",
    "#restrict ds to latmin, latmax, lonmin, lonmax\n",
    "latmin=40.5\n",
    "latmax=43.5\n",
    "lonmin=-3\n",
    "lonmax=3\n",
    "ds = ds.where(ds.lat >= latmin, drop=True).where(ds.lat <= latmax, drop=True)\n",
    "ds = ds.where(ds.lon >= lonmin, drop=True).where(ds.lon <= lonmax, drop=True)\n",
    "\n",
    "map_wind(ds,\n",
    "        #  extra_var='moisture_convergence', extra_ds=ds,\n",
    "         height='850', dist=2, scale=30,\n",
    "         cmap=reds,\n",
    "         vmin=-0,\n",
    "         vmax= 5, \n",
    "        #  clabel=None\n",
    "         )\n",
    "\n",
    "#add liaise points\n",
    "# plt.plot(Cendrosa_lon, Cendrosa_lat, 'go', markersize=10)\n",
    "# plt.plot(ElsPlans_lon, ElsPlans_lat, 'go', markersize=10)\n",
    "plt.plot(Cendrosa_Longitude, Cendrosa_Latitude, 'bo', markersize=10)\n",
    "plt.plot(ElsPlans_Longitude, ElsPlans_Latitude, 'bo', markersize=10)"
   ]
  },
  {
   "cell_type": "code",
   "execution_count": null,
   "metadata": {},
   "outputs": [],
   "source": [
    "ds1 = day2_lmdz_irr\n",
    "ds2 = day2_lmdz_noirr\n",
    "\n",
    "#restrict ds to latmin, latmax, lonmin, lonmax\n",
    "latmin=40.5\n",
    "latmax=43.5\n",
    "lonmin=-3\n",
    "lonmax=3\n",
    "ds1 = ds1.where(ds1.lat >= latmin, drop=True).where(ds1.lat <= latmax, drop=True)\n",
    "ds1 = ds1.where(ds1.lon >= lonmin, drop=True).where(ds1.lon <= lonmax, drop=True)\n",
    "ds2 = ds2.where(ds2.lat >= latmin, drop=True).where(ds2.lat <= latmax, drop=True)\n",
    "ds2 = ds2.where(ds2.lon >= lonmin, drop=True).where(ds2.lon <= lonmax, drop=True)\n",
    "\n",
    "map_wind_diff(ds1, ds2,\n",
    "         height='10m', dist=1, scale=2,\n",
    "         cmap=emb_neutral,\n",
    "         vmin=-0.2,\n",
    "         vmax= 0.2, \n",
    "        #  clabel=None\n",
    "         )\n",
    "\n",
    "#add liaise points\n",
    "# plt.plot(Cendrosa_lon, Cendrosa_lat, 'go', markersize=10)\n",
    "# plt.plot(ElsPlans_lon, ElsPlans_lat, 'go', markersize=10)\n",
    "plt.plot(Cendrosa_Longitude, Cendrosa_Latitude, 'bo', markersize=10)\n",
    "plt.plot(ElsPlans_Longitude, ElsPlans_Latitude, 'bo', markersize=10)"
   ]
  },
  {
   "cell_type": "code",
   "execution_count": null,
   "metadata": {},
   "outputs": [],
   "source": [
    "ds = day2_lmdz_irr\n",
    "\n",
    "#restrict ds to latmin, latmax, lonmin, lonmax\n",
    "latmin=40.5\n",
    "latmax=43.5\n",
    "lonmin=-3\n",
    "lonmax=3\n",
    "ds = ds.where(ds.lat >= latmin, drop=True).where(ds.lat <= latmax, drop=True)\n",
    "ds = ds.where(ds.lon >= lonmin, drop=True).where(ds.lon <= lonmax, drop=True)\n",
    "\n",
    "map_moisture_transport(ds,\n",
    "        #  extra_var='moisture_convergence'\n",
    "         dist=2, scale=1000,\n",
    "         cmap=blues,\n",
    "         vmin=-0,\n",
    "         vmax= 250, \n",
    "        #  clabel=None\n",
    "         )\n",
    "\n",
    "#add liaise points\n",
    "# plt.plot(Cendrosa_lon, Cendrosa_lat, 'go', markersize=10)\n",
    "# plt.plot(ElsPlans_lon, ElsPlans_lat, 'go', markersize=10)\n",
    "plt.plot(Cendrosa_Longitude, Cendrosa_Latitude, 'bo', markersize=10)\n",
    "plt.plot(ElsPlans_Longitude, ElsPlans_Latitude, 'bo', markersize=10)\n"
   ]
  },
  {
   "cell_type": "code",
   "execution_count": null,
   "metadata": {},
   "outputs": [],
   "source": [
    "ds1 = day2_lmdz_irr\n",
    "ds2 = day2_lmdz_noirr\n",
    "\n",
    "#restrict ds to latmin, latmax, lonmin, lonmax\n",
    "latmin=40.5\n",
    "latmax=43.5\n",
    "lonmin=-3\n",
    "lonmax=3\n",
    "ds1 = ds1.where(ds1.lat >= latmin, drop=True).where(ds1.lat <= latmax, drop=True)\n",
    "ds1 = ds1.where(ds1.lon >= lonmin, drop=True).where(ds1.lon <= lonmax, drop=True)\n",
    "ds2 = ds2.where(ds2.lat >= latmin, drop=True).where(ds2.lat <= latmax, drop=True)\n",
    "ds2 = ds2.where(ds2.lon >= lonmin, drop=True).where(ds2.lon <= lonmax, drop=True)\n",
    "\n",
    "map_moisture_transport_diff(ds1, ds2,\n",
    "         dist=2, scale=20,\n",
    "         cmap=emb_neutral,\n",
    "         vmin=-3,\n",
    "         vmax= 3, \n",
    "        #  clabel=None\n",
    "         )\n",
    "\n",
    "#add liaise points\n",
    "# plt.plot(Cendrosa_lon, Cendrosa_lat, 'go', markersize=10)\n",
    "# plt.plot(ElsPlans_lon, ElsPlans_lat, 'go', markersize=10)\n",
    "plt.plot(Cendrosa_Longitude, Cendrosa_Latitude, 'bo', markersize=10)\n",
    "plt.plot(ElsPlans_Longitude, ElsPlans_Latitude, 'bo', markersize=10)"
   ]
  },
  {
   "cell_type": "markdown",
   "metadata": {},
   "source": [
    "# Time series and diurnal cycle"
   ]
  },
  {
   "cell_type": "code",
   "execution_count": null,
   "metadata": {},
   "outputs": [],
   "source": [
    "var='precip'\n",
    "\n",
    "# ds1=gold_cen_lmdz_irr\n",
    "# ds2=gold_cen_lmdz_noirr\n",
    "ds1=gold_els_lmdz_irr\n",
    "ds2=gold_els_lmdz_noirr\n",
    "\n",
    "# ds1=gold_cen_orc_irr\n",
    "# ds2=gold_cen_orc_noirr\n",
    "# ds1=gold_els_orc_irr\n",
    "# ds2=gold_els_orc_noirr\n",
    "\n",
    "ds3=gold_cen_mto\n",
    "ds3=gold_els_mto\n",
    "\n",
    "ds_list=[ds1, ds2, ds3]#, ds4]\n",
    "ds_list=[ds3]\n",
    "\n",
    "vmin=-0\n",
    "vmax=500\n",
    "vmin, vmax=None, None\n",
    "title='{} ({})'.format(var, ds1[var].attrs['units'])\n",
    "# title=None\n",
    "\n",
    "time_series_ave(ds_list, var, ds_colors=True, ds_linestyle=True, title=title, vmin=vmin, vmax=vmax)"
   ]
  },
  {
   "cell_type": "code",
   "execution_count": null,
   "metadata": {},
   "outputs": [],
   "source": [
    "var='s_pblh'\n",
    "\n",
    "ds1=cen_lmdz_noirr\n",
    "ds2=cen_lmdz_irr\n",
    "# ds1=ip_orc_noirr\n",
    "# ds2=ip_orc_irr\n",
    "ds_list=[ds1, ds2]#, ds3]\n",
    "# ds_list=[ds2]\n",
    "\n",
    "title=None\n",
    "diurnal_cycle_ave(ds_list, var, title='{} ({})'.format(var, ds1[var].attrs['units']))"
   ]
  },
  {
   "cell_type": "markdown",
   "metadata": {},
   "source": [
    "# Energy budget"
   ]
  },
  {
   "cell_type": "code",
   "execution_count": null,
   "metadata": {},
   "outputs": [],
   "source": [
    "## FOR ONE SITE, DISTINGUISHING BY SIM\n",
    "ds_lmdz_irr = cen_lmdz_irr\n",
    "ds_orc_irr  = cen_orc_irr\n",
    "ds_lmdz_noirr = cen_lmdz_noirr\n",
    "ds_orc_noirr  = cen_orc_noirr\n",
    "title='La Cendrosa'\n",
    "energy_budget_dc(ds_lmdz_irr, ds_lmdz_noirr, ds_orc_irr, ds_orc_noirr, title=title, lab1='irr', lab2='noirr')\n",
    "\n",
    "ds_lmdz_irr = els_lmdz_irr\n",
    "ds_orc_irr  = els_orc_irr\n",
    "ds_lmdz_noirr = els_lmdz_noirr\n",
    "ds_orc_noirr  = els_orc_noirr\n",
    "title='Els Plans'\n",
    "energy_budget_dc(ds_lmdz_irr, ds_lmdz_noirr, ds_orc_irr, ds_orc_noirr, title=title, lab1='irr', lab2='noirr')"
   ]
  },
  {
   "cell_type": "code",
   "execution_count": null,
   "metadata": {},
   "outputs": [],
   "source": [
    "## FOR ONE SIM, DISTINGUISHING BY SITE\n",
    "ds_lmdz1 = cen_lmdz_irr\n",
    "ds_orc1 = cen_orc_irr\n",
    "ds_lmdz2 = els_lmdz_irr\n",
    "ds_orc2 = els_orc_irr\n",
    "title = 'Irrigated sim'\n",
    "energy_budget_dc(ds_lmdz1, ds_lmdz2, ds_orc1, ds_orc2, title=title, lab1='La Cendrosa', lab2='Els Plans')\n",
    "\n",
    "ds_lmdz1 = cen_lmdz_noirr\n",
    "ds_orc1 = cen_orc_noirr\n",
    "ds_lmdz2 = els_lmdz_noirr\n",
    "ds_orc2 = els_orc_noirr\n",
    "title = 'Non-irrigated sim'\n",
    "energy_budget_dc(ds_lmdz1, ds_lmdz2, ds_orc1, ds_orc2, title=title, lab1='La Cendrosa', lab2='Els Plans')"
   ]
  },
  {
   "cell_type": "markdown",
   "metadata": {},
   "source": [
    "# Vertical profiles"
   ]
  },
  {
   "cell_type": "markdown",
   "metadata": {},
   "source": [
    "## Sims only"
   ]
  },
  {
   "cell_type": "code",
   "execution_count": null,
   "metadata": {},
   "outputs": [],
   "source": [
    "var='theta'\n",
    "ds1=els_lmdz_irr\n",
    "ds2=els_lmdz_noirr\n",
    "ds3=cen_lmdz_irr\n",
    "ds4=cen_lmdz_noirr\n",
    "\n",
    "# ds_list=[ds1, ds2, ds3, ds4]\n",
    "ds_list=[ds3, ds4]\n",
    "ds_list=[ds1]\n",
    "ds_list=[gold_cen_lmdz_irr]\n",
    "\n",
    "obs_ds_list=[Cendrosa_RS]\n",
    "obs_ds_list=None\n",
    "\n",
    "altmax=3500\n",
    "\n",
    "title=None\n",
    "\n",
    "# profile_preslevs_local(ds_list, var, title=title, preslevelmax=preslevelmax)\n",
    "profile_altitude_local_mean(ds_list, var, title=title, altmax=altmax,\n",
    "                            obs_ds_list=obs_ds_list,\n",
    "                            nbins=None,\n",
    "                            substract_gl=True,\n",
    "                            )"
   ]
  },
  {
   "cell_type": "code",
   "execution_count": null,
   "metadata": {},
   "outputs": [],
   "source": [
    "var='theta'\n",
    "ds1=day1_els_lmdz_irr\n",
    "ds2=day1_els_lmdz_noirr\n",
    "ds3=day1_cen_lmdz_irr\n",
    "ds4=day1_cen_lmdz_noirr\n",
    "\n",
    "ds_list=[ds1, ds2, ds3, ds4]\n",
    "# ds_list=[ds3,ds4]\n",
    "# ds_list=[ds1]\n",
    "\n",
    "altmin=-0\n",
    "altmax=3500\n",
    "\n",
    "# times=[1.5, 4.5, 7.5, 10.5, 13.5, 16.5, 19.5, 22.5]\n",
    "times=[4.5, 7.5, 10.5, 13.5, 16.5, 19.5]\n",
    "# times=[0.5, 1.5, 2.5, 3.5, 4.5, 5.5, 6.5, 7.5, 8.5, 9.5, 10.5, 11.5, 12.5, 13.5, 14.5, 15.5, 16.5, 17.5, 18.5, 19.5, 20.5, 21.5, 22.5, 23.5]\n",
    "# times=[5.5, 7.5, 9.5, 11.5, 13.5, 15.5, 17.5, 19.5, 21.5]\n",
    "# times=[12.5]\n",
    "\n",
    "xmin=298\n",
    "xmax=312\n",
    "# xmin, xmax=None, None\n",
    "\n",
    "profile_altitude_multipletimes_mean(ds_list, var, times, altmin=altmin, altmax=altmax,\n",
    "                                    xmin=xmin, xmax=xmax,\n",
    "                                    substract_gl=True)"
   ]
  },
  {
   "cell_type": "code",
   "execution_count": null,
   "metadata": {},
   "outputs": [],
   "source": [
    "var='theta'\n",
    "ds1=day1_els_lmdz_irr\n",
    "ds2=day1_els_lmdz_noirr\n",
    "ds3=day1_cen_lmdz_irr\n",
    "ds4=day1_cen_lmdz_noirr\n",
    "\n",
    "ds=ds4\n",
    "\n",
    "altmin=-0\n",
    "altmax=3500\n",
    "\n",
    "times=[1.5, 4.5, 7.5, 10.5, 13.5, 16.5, 19.5, 22.5]\n",
    "times=[4.5, 7.5, 10.5, 13.5, 16.5, 19.5]\n",
    "times=[0.5, 1.5, 2.5, 3.5, 4.5, 5.5, 6.5, 7.5, 8.5, 9.5, 10.5, 11.5, 12.5, 13.5, 14.5, 15.5, 16.5, 17.5, 18.5, 19.5, 20.5, 21.5, 22.5, 23.5]\n",
    "# times=[5.5, 7.5, 9.5, 11.5, 13.5, \n",
    "times=[11.5, 12.5, 13.5, 14.5, 15.5, 16.5, 17.5]\n",
    "# times=[12.5]\n",
    "\n",
    "xmin=308\n",
    "xmax=318\n",
    "# xmin, xmax=None, None\n",
    "\n",
    "profile_altitude_multipletimes_mean_singleplot(ds, var, times, altmin=altmin, altmax=altmax,\n",
    "                                                  xmin=xmin, xmax=xmax,\n",
    "                                                  substract_gl=True)"
   ]
  },
  {
   "cell_type": "markdown",
   "metadata": {},
   "source": [
    "## With obs"
   ]
  },
  {
   "cell_type": "code",
   "execution_count": null,
   "metadata": {},
   "outputs": [],
   "source": [
    "#obs alone\n",
    "var='theta'\n",
    "ds1=cen_RS_d2[12]\n",
    "\n",
    "ds_list=[ds1]\n",
    "\n",
    "altmax=2500\n",
    "\n",
    "title=ds1.attrs['name']\n",
    "\n",
    "profile_altitude_obs(ds_list, var, title=title, altmax=altmax,\n",
    "                        xmin=306,\n",
    "                        xmax=315,\n",
    "                       nbins=None,\n",
    "                       substract_gl=True,\n",
    "                       )"
   ]
  },
  {
   "cell_type": "code",
   "execution_count": null,
   "metadata": {},
   "outputs": [],
   "source": [
    "ds1=els_lmdz_irr\n",
    "ds2=els_lmdz_noirr\n",
    "ds3=cen_lmdz_irr\n",
    "ds4=cen_lmdz_noirr\n",
    "\n",
    "timestamp='2021-07-22T12:01:00.000000000'\n",
    "\n",
    "ds_list=[ds1, ds2]#, ds3, ds4]\n",
    "# ds_list=[ds3, ds4]\n",
    "# ds_list=[ds3]\n",
    "\n",
    "obs_ds_list=[Cendrosa_RS]\n",
    "obs_ds_list=[ElsPlans_RS]\n",
    "# obs_ds_list=None\n",
    "\n",
    "altmax=2500\n",
    "title=None\n",
    "\n",
    "var='theta'\n",
    "var, xmin, xmax = 'theta', 306, 314\n",
    "var, xmin, xmax = 'ovap', 2, 14\n",
    "var, xmin, xmax = 'wind_speed', 0, 9\n",
    "var, xmin, xmax = 'wind_direction', 0, 360\n",
    "# xmin, xmax = None, None\n",
    "\n",
    "# profile_preslevs_local(ds_list, var, title=title, preslevelmax=preslevelmax)\n",
    "profile_altitude_local_timestamp(ds_list, var, timestamp, title=title, altmax=altmax, xmin=xmin, xmax=xmax, \n",
    "                            obs_ds_list=obs_ds_list,\n",
    "                            nbins=5,\n",
    "                            substract_gl=True,\n",
    "                            )"
   ]
  },
  {
   "cell_type": "code",
   "execution_count": null,
   "metadata": {},
   "outputs": [],
   "source": [
    "ds1=day1_els_lmdz_irr\n",
    "ds2=day1_els_lmdz_noirr\n",
    "ds3=cen_lmdz_irr\n",
    "ds4=cen_lmdz_noirr\n",
    "\n",
    "ds_list, obs_dict=[day1_els_lmdz_irr, day1_els_lmdz_noirr], els_RS_d1\n",
    "ds_list, obs_dict=[day1_cen_lmdz_irr, day1_cen_lmdz_noirr], cen_RS_d1\n",
    "\n",
    "# ds_list, obs_dict=[day2_els_lmdz_irr, day2_els_lmdz_noirr], els_RS_d2\n",
    "# ds_list, obs_dict=[day2_cen_lmdz_irr, day2_cen_lmdz_noirr], cen_RS_d2\n",
    "# ds_list=[ds3]\n",
    "\n",
    "altmax=2500\n",
    "title=None\n",
    "\n",
    "times=[5.5, 7.5, 9.5, 11.5, 13.5, 15.5, 17.5]\n",
    "# times=els_d1_times+0.5\n",
    "# times=[x + 0.5 for x in cen_d1_times]\n",
    "times=[12.5]\n",
    "\n",
    "var='theta'\n",
    "var, xmin, xmax = 'theta', 298, 314\n",
    "# var, xmin, xmax = 'ovap', 2, 14\n",
    "# var, xmin, xmax = 'wind_speed', 0, 9\n",
    "# var, xmin, xmax = 'wind_direction', 0, 360\n",
    "# xmin, xmax = None, None\n",
    "\n",
    "# profile_preslevs_local(ds_list, var, title=title, preslevelmax=preslevelmax)\n",
    "profile_altitude_multipletimes_obs(ds_list, obs_dict, var, times, \n",
    "                                 # title=title, \n",
    "                                 altmax=altmax, xmin=xmin, xmax=xmax, \n",
    "                                 # nbins=5,\n",
    "                                 substract_gl=True,\n",
    "                                )"
   ]
  }
 ],
 "metadata": {
  "kernelspec": {
   "display_name": "lam1env",
   "language": "python",
   "name": "python3"
  },
  "language_info": {
   "codemirror_mode": {
    "name": "ipython",
    "version": 3
   },
   "file_extension": ".py",
   "mimetype": "text/x-python",
   "name": "python",
   "nbconvert_exporter": "python",
   "pygments_lexer": "ipython3",
   "version": "3.12.10"
  }
 },
 "nbformat": 4,
 "nbformat_minor": 2
}
