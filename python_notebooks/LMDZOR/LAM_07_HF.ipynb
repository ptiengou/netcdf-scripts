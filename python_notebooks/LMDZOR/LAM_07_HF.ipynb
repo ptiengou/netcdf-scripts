{
 "cells": [
  {
   "cell_type": "markdown",
   "metadata": {},
   "source": [
    "# Imports and setting up viz\n",
    "\n",
    "NB : conda env1 on PC, lam1env on spirit (Python3.12)"
   ]
  },
  {
   "cell_type": "code",
   "execution_count": null,
   "metadata": {},
   "outputs": [],
   "source": [
    "%load_ext autoreload\n",
    "%autoreload 2\n",
    "%matplotlib inline\n",
    "\n",
    "#import personnal tools\n",
    "import sys\n",
    "sys.path.append('../../python_tools/')\n",
    "from tools import *\n",
    "from tools_mapping import *\n",
    "from tools_hf import *"
   ]
  },
  {
   "cell_type": "markdown",
   "metadata": {},
   "source": [
    "# Load files and edit datasets\n",
    "\n",
    "LAM output analysis.\n",
    "\n",
    "Simu irr et simu no-irr."
   ]
  },
  {
   "cell_type": "code",
   "execution_count": null,
   "metadata": {},
   "outputs": [],
   "source": [
    "# lon_min=-10\n",
    "# lon_max=4\n",
    "# lat_min=34\n",
    "# lat_max=46"
   ]
  },
  {
   "cell_type": "code",
   "execution_count": null,
   "metadata": {},
   "outputs": [],
   "source": [
    "hf_dir='../../../JZ_simu_outputs/LAM/HF_outputs'"
   ]
  },
  {
   "cell_type": "markdown",
   "metadata": {},
   "source": [
    "## LMDZ"
   ]
  },
  {
   "cell_type": "code",
   "execution_count": null,
   "metadata": {},
   "outputs": [],
   "source": [
    "#noirr\n",
    "filename = '{}/noirr/*_HF_histhf.nc'.format(hf_dir)\n",
    "\n",
    "lmdz_noirr0 = xr.open_mfdataset(filename)\n",
    "lmdz_noirr = lmdz_noirr0.rename({'time_counter':'time'})\n",
    "lmdz_noirr = lmdz_noirr.assign_coords(time_decimal=lmdz_noirr.time.dt.hour + lmdz_noirr.time.dt.minute / 60)\n",
    "lmdz_noirr.attrs['name'] = 'no_irr'\n",
    "lmdz_noirr.attrs['plot_color']='red'\n",
    "lmdz_noirr = lmdz_noirr.sel(lon=slice(lon_min,lon_max),lat=slice(lat_min,lat_max))\n",
    "\n",
    "lmdz_noirr['sens']=-lmdz_noirr['sens']\n",
    "lmdz_noirr['flat']=-lmdz_noirr['flat']\n",
    "\n",
    "lmdz_noirr['ground_level'] = lmdz_noirr['phis'] / 9.81\n",
    "lmdz_noirr['ground_level'].attrs['units'] = 'm'\n",
    "\n",
    "lmdz_noirr"
   ]
  },
  {
   "cell_type": "code",
   "execution_count": null,
   "metadata": {},
   "outputs": [],
   "source": [
    "#irr\n",
    "filename = '{}/irr/*_HF_histhf.nc'.format(hf_dir)\n",
    "\n",
    "lmdz_irr0 = xr.open_mfdataset(filename)\n",
    "lmdz_irr =lmdz_irr0.rename({'time_counter':'time'})\n",
    "lmdz_irr = lmdz_irr.assign_coords(time_decimal=lmdz_irr.time.dt.hour + lmdz_irr.time.dt.minute / 60)\n",
    "lmdz_irr.attrs['name'] = 'irr'\n",
    "lmdz_irr.attrs['plot_color']='#0C5DA5'\n",
    "lmdz_irr = lmdz_irr.sel(lon=slice(lon_min,lon_max),lat=slice(lat_min,lat_max))\n",
    "\n",
    "lmdz_irr['sens']=-lmdz_irr['sens']\n",
    "lmdz_irr['flat']=-lmdz_irr['flat']\n",
    "\n",
    "lmdz_irr['ground_level'] = lmdz_irr['phis'] / 9.81\n",
    "lmdz_irr['ground_level'].attrs['units'] = 'm'\n",
    "\n",
    "lmdz_irr"
   ]
  },
  {
   "cell_type": "markdown",
   "metadata": {},
   "source": [
    "## ORCHIDEE"
   ]
  },
  {
   "cell_type": "code",
   "execution_count": null,
   "metadata": {},
   "outputs": [],
   "source": [
    "filename = '{}/noirr/*HF_sechiba_out_2.nc'.format(hf_dir)\n",
    "\n",
    "orc_noirr0 = xr.open_mfdataset(filename)\n",
    "orc_noirr = orc_noirr0.rename({'time_counter':'time'})\n",
    "orc_noirr = orc_noirr.assign_coords(time_decimal=orc_noirr.time.dt.hour + orc_noirr.time.dt.minute / 60)\n",
    "orc_noirr.attrs['name'] = 'no_irr'\n",
    "orc_noirr.attrs['plot_color']='red'\n",
    "orc_noirr = orc_noirr.sel(lon=slice(lon_min,lon_max),lat=slice(lat_min,lat_max))\n",
    "\n",
    "orc_noirr"
   ]
  },
  {
   "cell_type": "code",
   "execution_count": null,
   "metadata": {},
   "outputs": [],
   "source": [
    "filename = '{}/irr/*HF_sechiba_out_2.nc'.format(hf_dir)\n",
    "\n",
    "orc_irr0 = xr.open_mfdataset(filename)\n",
    "orc_irr = orc_irr0.rename({'time_counter':'time'})\n",
    "orc_irr = orc_irr.assign_coords(time_decimal=orc_irr.time.dt.hour + orc_irr.time.dt.minute / 60)\n",
    "orc_irr.attrs['name'] = 'irr'\n",
    "orc_irr.attrs['plot_color']='#0C5DA5'\n",
    "orc_irr = orc_irr.sel(lon=slice(lon_min,lon_max),lat=slice(lat_min,lat_max))\n",
    "\n",
    "orc_irr"
   ]
  },
  {
   "cell_type": "markdown",
   "metadata": {},
   "source": [
    "## Masking"
   ]
  },
  {
   "cell_type": "markdown",
   "metadata": {},
   "source": [
    "### IP continental subdomain"
   ]
  },
  {
   "cell_type": "code",
   "execution_count": null,
   "metadata": {},
   "outputs": [],
   "source": [
    "# Define masks\n",
    " \n",
    "con_mask_2D_ORC= orc_noirr.mean(dim='time')['Contfrac']>0.95\n",
    "con_mask_2D_ORC.attrs['name']='Continental mask (95%)'\n",
    "\n",
    "ip_polygon_mask_2D=polygon_to_mask(orc_noirr.mean(dim=\"time\"), iberian_peninsula)\n",
    "ip_polygon_mask_2D.attrs['name']='Iberian Peninsula polygon mask'\n",
    "\n",
    "#combine two masks\n",
    "ip_mask = con_mask_2D_ORC * ip_polygon_mask_2D\n",
    "ip_mask.attrs['name']='IPmask'"
   ]
  },
  {
   "cell_type": "code",
   "execution_count": null,
   "metadata": {},
   "outputs": [],
   "source": [
    "#ORC\n",
    "ip_orc_noirr = apply_2Dmask_to_dataset(orc_noirr, ip_mask, dsname='no_irr')\n",
    "ip_orc_irr = apply_2Dmask_to_dataset(orc_irr, ip_mask, dsname='irr')"
   ]
  },
  {
   "cell_type": "code",
   "execution_count": null,
   "metadata": {},
   "outputs": [],
   "source": [
    "#LMDZ\n",
    "ip_lmdz_noirr = apply_2Dmask_to_dataset(lmdz_noirr, ip_mask, dsname='no_irr')\n",
    "ip_lmdz_irr = apply_2Dmask_to_dataset(lmdz_irr, ip_mask, dsname='irr')"
   ]
  },
  {
   "cell_type": "markdown",
   "metadata": {},
   "source": [
    "## high_irr vs low_irr"
   ]
  },
  {
   "cell_type": "code",
   "execution_count": null,
   "metadata": {},
   "outputs": [],
   "source": [
    "#on grid cell\n",
    "#highirr\n",
    "Cendrosa_lon=0.6\n",
    "Cendrosa_lat=41.7\n",
    "#lowirr\n",
    "ElsPlans_lon=1.1\n",
    "ElsPlans_lat=41.5"
   ]
  },
  {
   "cell_type": "code",
   "execution_count": null,
   "metadata": {},
   "outputs": [],
   "source": [
    "cen_lmdz_noirr = lmdz_noirr.sel(lon=Cendrosa_lon,lat=Cendrosa_lat,method='nearest').copy()\n",
    "cen_lmdz_noirr.attrs['name']='La Cendrosa no_irr'\n",
    "cen_lmdz_irr = lmdz_irr.sel(lon=Cendrosa_lon,lat=Cendrosa_lat,method='nearest').copy()\n",
    "cen_lmdz_irr.attrs['name']='La Cendrosa irr'\n",
    "cen_orc_noirr = orc_noirr.sel(lon=Cendrosa_lon,lat=Cendrosa_lat,method='nearest').copy()\n",
    "cen_orc_noirr.attrs['name']='La Cendrosa no_irr'\n",
    "cen_orc_irr = orc_irr.sel(lon=Cendrosa_lon,lat=Cendrosa_lat,method='nearest').copy()\n",
    "cen_orc_irr.attrs['name']='La Cendrosa irr'"
   ]
  },
  {
   "cell_type": "code",
   "execution_count": null,
   "metadata": {},
   "outputs": [],
   "source": [
    "els_lmdz_noirr = lmdz_noirr.sel(lon=ElsPlans_lon,lat=ElsPlans_lat,method='nearest').copy()\n",
    "els_lmdz_noirr.attrs['name']='Els Plans no_irr'\n",
    "els_lmdz_irr = lmdz_irr.sel(lon=ElsPlans_lon,lat=ElsPlans_lat,method='nearest').copy()\n",
    "els_lmdz_irr.attrs['name']='Els Plans irr'\n",
    "els_orc_noirr = orc_noirr.sel(lon=ElsPlans_lon,lat=ElsPlans_lat,method='nearest').copy()\n",
    "els_orc_noirr.attrs['name']='Els Plans no_irr'\n",
    "els_orc_irr = orc_irr.sel(lon=ElsPlans_lon,lat=ElsPlans_lat,method='nearest').copy()\n",
    "els_orc_irr.attrs['name']='Els Plans irr'"
   ]
  },
  {
   "cell_type": "code",
   "execution_count": null,
   "metadata": {},
   "outputs": [],
   "source": [
    "cendrosa_gl= cen_lmdz_noirr['ground_level'].mean(dim='time').values.item()\n",
    "elsplans_gl= els_lmdz_noirr['ground_level'].mean(dim='time').values.item()\n",
    "cendrosa_gl,  elsplans_gl"
   ]
  },
  {
   "cell_type": "code",
   "execution_count": null,
   "metadata": {},
   "outputs": [],
   "source": []
  },
  {
   "cell_type": "markdown",
   "metadata": {},
   "source": [
    "# Maps"
   ]
  },
  {
   "cell_type": "code",
   "execution_count": null,
   "metadata": {},
   "outputs": [],
   "source": [
    "var='sens'\n",
    "ds=ip_lmdz_irr\n",
    "\n",
    "vmin=0\n",
    "vmax=1000\n",
    "# vmin,vmax = None, None\n",
    "cmap=myterrain\n",
    "# title='off'\n",
    "title=None\n",
    "# title='Evaporative fraction (irr, JJA)'\n",
    "# clabel='Irrigation (mm/d)'\n",
    "clabel=None\n",
    "map_ave(ds, var, vmin=vmin, vmax=vmax, cmap=cmap,\n",
    "        title=title, clabel=clabel)"
   ]
  },
  {
   "cell_type": "code",
   "execution_count": null,
   "metadata": {},
   "outputs": [],
   "source": [
    "#Diff map\n",
    "var='t2m'\n",
    "ds1=ip_lmdz_irr\n",
    "ds2=ip_lmdz_noirr\n",
    "\n",
    "vmax= 0.5\n",
    "vmin=-0.5\n",
    "# vmin,vmax = None, None\n",
    "cmap=emb_neutral\n",
    "title=None\n",
    "map_diff_ave(ds1, ds2, var, vmin=vmin, vmax=vmax, cmap=cmap, \n",
    "             sig=False,\n",
    "             title=title, clabel=clabel)"
   ]
  },
  {
   "cell_type": "code",
   "execution_count": null,
   "metadata": {},
   "outputs": [],
   "source": [
    "#Relative diff map\n",
    "var='sens'\n",
    "ds1=ip_lmdz_irr\n",
    "ds2=ip_lmdz_noirr\n",
    "maxvalue= 30\n",
    "minvalue=-30\n",
    "# minvalue, maxvalue = None, None\n",
    "\n",
    "cmap=emb_neutral\n",
    "\n",
    "map_rel_diff_ave(ds1, ds2, var, cmap=cmap, vmin=minvalue, vmax=maxvalue)"
   ]
  },
  {
   "cell_type": "code",
   "execution_count": null,
   "metadata": {},
   "outputs": [],
   "source": [
    "#Display map of var for ds on restricted area\n",
    "var='irrigation'\n",
    "ds = ip_orc_irr\n",
    "# ds = std\n",
    "latmin=41.35\n",
    "latmax=41.9\n",
    "lonmin=0.6\n",
    "lonmax=1.4\n",
    "cmap='terrain'\n",
    "vmin=0\n",
    "vmax=500\n",
    "title='Irrigation (July 2021, mm/d)'\n",
    "\n",
    "#restrict ds to latmin, latmax, lonmin, lonmax\n",
    "ds = ds.where(ds.lat >= latmin, drop=True).where(ds.lat <= latmax, drop=True)\n",
    "ds = ds.where(ds.lon >= lonmin, drop=True).where(ds.lon <= lonmax, drop=True)\n",
    "plotvar = ds[var].mean(dim='time')\n",
    "\n",
    "map_plotvar(plotvar, cmap=cmap, vmin=vmin,vmax=vmax, title=title)"
   ]
  },
  {
   "cell_type": "markdown",
   "metadata": {},
   "source": [
    "# Time series and diurnal cycle"
   ]
  },
  {
   "cell_type": "code",
   "execution_count": null,
   "metadata": {},
   "outputs": [],
   "source": [
    "var='phis'\n",
    "\n",
    "ds1=lmdz_noirr\n",
    "ds2=lmdz_irr\n",
    "ds_list=[ds1, ds2]#, ds3]\n",
    "# ds_list=[ds1]\n",
    "\n",
    "title=None\n",
    "time_series_ave(ds_list, var, title='{} ({})'.format(var, ds1[var].attrs['units']))\n"
   ]
  },
  {
   "cell_type": "code",
   "execution_count": null,
   "metadata": {},
   "outputs": [],
   "source": [
    "#en un point precis\n",
    "lon=Cendrosa_lon\n",
    "lat=Cendrosa_lat\n",
    "\n",
    "lon=ElsPlans_lon\n",
    "lat=ElsPlans_lat\n",
    "# lon=-2\n",
    "# lat=41\n",
    "var='ground_level'\n",
    "ds1=lmdz_noirr\n",
    "ds2=lmdz_irr\n",
    "# ds1=orc_noirr\n",
    "# ds2=orc_irr\n",
    "ds_list=[ds1, ds2]\n",
    "time_series_lonlat(ds_list, var, lon, lat)"
   ]
  },
  {
   "cell_type": "code",
   "execution_count": null,
   "metadata": {},
   "outputs": [],
   "source": [
    "var='v10m'\n",
    "\n",
    "ds1=ip_lmdz_noirr\n",
    "ds2=ip_lmdz_irr\n",
    "# ds1=ip_orc_noirr\n",
    "# ds2=ip_orc_irr\n",
    "ds_list=[ds1, ds2]#, ds3]\n",
    "# ds_list=[ds2]\n",
    "\n",
    "title=None\n",
    "diurnal_cycle_ave(ds_list, var, title='{} ({})'.format(var, ds1[var].attrs['units']))"
   ]
  },
  {
   "cell_type": "code",
   "execution_count": null,
   "metadata": {},
   "outputs": [],
   "source": [
    "var='sens'\n",
    "\n",
    "ds1=ip_lmdz_noirr\n",
    "ds2=ip_lmdz_irr\n",
    "# ds1=ip_orc_noirr\n",
    "# ds2=ip_orc_irr\n",
    "\n",
    "ds_list=[ds1, ds2]#, ds3]\n",
    "# ds_list=[ds2]\n",
    "\n",
    "title=None\n",
    "\n",
    "lon=Cendrosa_lon\n",
    "lat=Cendrosa_lat\n",
    "\n",
    "diurnal_cycle_lonlat(ds_list, var, lon=lon, lat=lat)\n",
    "\n",
    "lon=ElsPlans_lon\n",
    "lat=ElsPlans_lat\n",
    "\n",
    "diurnal_cycle_lonlat(ds_list, var, lon=lon, lat=lat)"
   ]
  },
  {
   "cell_type": "markdown",
   "metadata": {},
   "source": [
    "# Vertical profiles"
   ]
  },
  {
   "cell_type": "code",
   "execution_count": null,
   "metadata": {},
   "outputs": [],
   "source": [
    "var='geoph'\n",
    "ds1=els_lmdz_irr\n",
    "ds2=els_lmdz_noirr\n",
    "ds3=cen_lmdz_irr\n",
    "ds4=cen_lmdz_noirr\n",
    "\n",
    "# ds_list=[ds1, ds2, ds3, ds4]\n",
    "ds_list=[ds1]\n",
    "\n",
    "preslevelmax=2\n",
    "\n",
    "title=None\n",
    "\n",
    "profile_preslevs_local(ds_list, var, title=title, preslevelmax=preslevelmax)"
   ]
  },
  {
   "cell_type": "code",
   "execution_count": null,
   "metadata": {},
   "outputs": [],
   "source": [
    "var='theta'\n",
    "ds1=els_lmdz_irr\n",
    "ds2=els_lmdz_noirr\n",
    "ds3=cen_lmdz_irr\n",
    "ds4=cen_lmdz_noirr\n",
    "\n",
    "day='2017-07-10'\n",
    "\n",
    "ds11=filter_xarray_by_day(ds1, day)\n",
    "ds21=filter_xarray_by_day(ds2, day)\n",
    "ds31=filter_xarray_by_day(ds3, day)\n",
    "ds41=filter_xarray_by_day(ds4, day)\n",
    "\n",
    "ds_list=[ds1, ds2, ds3, ds4]\n",
    "ds_list=[ds11, ds21, ds31, ds41]\n",
    "\n",
    "altmax=2500\n",
    "\n",
    "title=None\n",
    "\n",
    "# profile_preslevs_local(ds_list, var, title=title, preslevelmax=preslevelmax)\n",
    "profile_altitude_local_mean(ds_list, var, title=title, altmax=altmax,\n",
    "                       nbins=None,\n",
    "                       substract_gl=False,\n",
    "                       )"
   ]
  },
  {
   "cell_type": "code",
   "execution_count": null,
   "metadata": {},
   "outputs": [],
   "source": [
    "ds11"
   ]
  },
  {
   "cell_type": "code",
   "execution_count": null,
   "metadata": {},
   "outputs": [],
   "source": [
    "def profile_altitude_multipletimes(ds_list, var, times, altmin=0, altmax=2000):\n",
    "    n_ax = len(times)\n",
    "    fig, axs = plt.subplots(1, n_ax, figsize=(5*n_ax, 6))\n",
    "    # Flatten axs only if it's an array (i.e., more than one subplot)\n",
    "    axes = axs.flatten() if isinstance(axs, np.ndarray) else [axs]\n",
    "    for i, time in enumerate(times):\n",
    "        hour=times_correspondance[time]\n",
    "        title = f\"{var} at {hour}\"\n",
    "        \n",
    "        # Filter datasets by the specified time and plot\n",
    "        ds_list_tmp = [ds.where(ds['time_decimal']==time) for ds in ds_list]\n",
    "        profile_altitude_local_mean(ds_list_tmp,\n",
    "                                    var,\n",
    "                                    ax=axes[i],\n",
    "                                    title=title,\n",
    "                                    altmin=altmin,\n",
    "                                    altmax=altmax\n",
    "        )"
   ]
  },
  {
   "cell_type": "code",
   "execution_count": null,
   "metadata": {},
   "outputs": [],
   "source": [
    "var='theta'\n",
    "ds1=els_lmdz_irr\n",
    "ds2=els_lmdz_noirr\n",
    "ds3=cen_lmdz_irr\n",
    "ds4=cen_lmdz_noirr\n",
    "\n",
    "ds_list=[ds1, ds2, ds3, ds4]\n",
    "\n",
    "altmin=-0\n",
    "altmax=2000\n",
    "\n",
    "times=[1.5, 4.5, 7.5, 10.5, 13.5, 16.5, 19.5, 22.5]\n",
    "times=[13.5, 16.5]\n",
    "times=[13.5]\n",
    "\n",
    "profile_altitude_multipletimes(ds_list, var, times, altmin=altmin, altmax=altmax)"
   ]
  }
 ],
 "metadata": {
  "kernelspec": {
   "display_name": "Python 3",
   "language": "python",
   "name": "python3"
  },
  "language_info": {
   "codemirror_mode": {
    "name": "ipython",
    "version": 3
   },
   "file_extension": ".py",
   "mimetype": "text/x-python",
   "name": "python",
   "nbconvert_exporter": "python",
   "pygments_lexer": "ipython3",
   "version": "3.12.2"
  }
 },
 "nbformat": 4,
 "nbformat_minor": 2
}
