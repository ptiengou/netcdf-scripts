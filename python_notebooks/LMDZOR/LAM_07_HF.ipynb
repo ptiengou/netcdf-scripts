{
 "cells": [
  {
   "cell_type": "markdown",
   "metadata": {},
   "source": [
    "# Imports and setting up viz\n",
    "\n",
    "NB : conda env1 on PC, lam1env on spirit (Python3.12)"
   ]
  },
  {
   "cell_type": "code",
   "execution_count": null,
   "metadata": {},
   "outputs": [],
   "source": [
    "%load_ext autoreload\n",
    "%autoreload 2\n",
    "%matplotlib inline\n",
    "\n",
    "#import personnal tools\n",
    "import sys\n",
    "sys.path.append('../../python_tools/')\n",
    "from tools import *\n",
    "from tools_mapping import *\n",
    "from tools_hf import *"
   ]
  },
  {
   "cell_type": "markdown",
   "metadata": {},
   "source": [
    "# Load files and edit datasets\n",
    "\n",
    "LAM output analysis.\n",
    "\n",
    "Simu irr et simu no-irr."
   ]
  },
  {
   "cell_type": "code",
   "execution_count": null,
   "metadata": {},
   "outputs": [],
   "source": [
    "# lon_min=-10\n",
    "# lon_max=4\n",
    "# lat_min=34\n",
    "# lat_max=46"
   ]
  },
  {
   "cell_type": "code",
   "execution_count": null,
   "metadata": {},
   "outputs": [],
   "source": [
    "hf_dir='../../../JZ_simu_outputs/LAM/HF_outputs'"
   ]
  },
  {
   "cell_type": "markdown",
   "metadata": {},
   "source": [
    "## LMDZ"
   ]
  },
  {
   "cell_type": "code",
   "execution_count": null,
   "metadata": {},
   "outputs": [],
   "source": [
    "def format_LMDZ_HF(filename, name, color):\n",
    "    ds = xr.open_mfdataset(filename)\n",
    "    ds = ds.rename({'time_counter':'time'})\n",
    "    ds = ds.assign_coords(time_decimal=ds.time.dt.hour + ds.time.dt.minute / 60)\n",
    "    ds.attrs['name'] = name\n",
    "    ds.attrs['plot_color']=color\n",
    "    ds = ds.sel(lon=slice(lon_min,lon_max),lat=slice(lat_min,lat_max))\n",
    "\n",
    "    ds['sens']=-ds['sens']\n",
    "    ds['flat']=-ds['flat']\n",
    "\n",
    "    ds['ground_level'] = ds['phis'] / 9.81\n",
    "    ds['ground_level'].attrs['units'] = 'm'\n",
    "\n",
    "    ds=add_wind_speed(ds)\n",
    "    ds=add_wind_direction(ds)\n",
    "    ds=add_wind_10m(ds)\n",
    "\n",
    "    #make ovap unit g/kg\n",
    "    ds['ovap'] = ds['ovap']*1000\n",
    "    ds['ovap'].attrs['units'] = 'g/kg'\n",
    "    #same for q2m\n",
    "    ds['q2m'] = ds['q2m']*1000\n",
    "    ds['q2m'].attrs['units'] = 'g/kg'\n",
    "    #turn psol to hPa\n",
    "    ds['psol'] = ds['psol']/100\n",
    "    ds['psol'].attrs['units'] = 'hPa'\n",
    "    \n",
    "    return ds"
   ]
  },
  {
   "cell_type": "code",
   "execution_count": null,
   "metadata": {},
   "outputs": [],
   "source": [
    "#noirr\n",
    "filename = '{}/noirr/sim265/*_HF_histhf.nc'.format(hf_dir)\n",
    "lmdz_noirr = format_LMDZ_HF(filename, 'no_irr', 'red')\n",
    "lmdz_noirr"
   ]
  },
  {
   "cell_type": "code",
   "execution_count": null,
   "metadata": {},
   "outputs": [],
   "source": [
    "#irr\n",
    "filename = '{}/irr/sim266/*_HF_histhf.nc'.format(hf_dir)\n",
    "lmdz_irr = format_LMDZ_HF(filename, 'irr', 'blue')\n",
    "lmdz_irr"
   ]
  },
  {
   "cell_type": "markdown",
   "metadata": {},
   "source": [
    "## ORCHIDEE"
   ]
  },
  {
   "cell_type": "code",
   "execution_count": null,
   "metadata": {},
   "outputs": [],
   "source": [
    "def format_ORC_HF(filename, name, color):\n",
    "    ds = xr.open_mfdataset(filename)\n",
    "    ds = ds.rename({'time_counter':'time'})\n",
    "    ds = ds.assign_coords(time_decimal=ds.time.dt.hour + ds.time.dt.minute / 60)\n",
    "    ds.attrs['name'] = name\n",
    "    ds.attrs['plot_color']= color\n",
    "    ds = ds.sel(lon=slice(lon_min,lon_max),lat=slice(lat_min,lat_max))\n",
    "\n",
    "    ds['evapot']=ds['evapot'] * 3600 * 24\n",
    "    ds['evapot'].attrs['units'] = 'mm/d'\n",
    "\n",
    "    return ds"
   ]
  },
  {
   "cell_type": "code",
   "execution_count": null,
   "metadata": {},
   "outputs": [],
   "source": [
    "filename = '{}/noirr/sim265/*HF_sechiba_out_2.nc'.format(hf_dir)\n",
    "orc_noirr = format_ORC_HF(filename, 'no_irr', 'red')\n",
    "orc_noirr"
   ]
  },
  {
   "cell_type": "code",
   "execution_count": null,
   "metadata": {},
   "outputs": [],
   "source": [
    "filename = '{}/irr/sim266/*HF_sechiba_out_2.nc'.format(hf_dir)\n",
    "orc_irr = format_ORC_HF(filename, 'irr', 'blue')\n",
    "orc_irr"
   ]
  },
  {
   "cell_type": "markdown",
   "metadata": {},
   "source": [
    "## Obs"
   ]
  },
  {
   "cell_type": "markdown",
   "metadata": {},
   "source": [
    "### RS"
   ]
  },
  {
   "cell_type": "code",
   "execution_count": null,
   "metadata": {},
   "outputs": [],
   "source": [
    "cendrosa_dir='../../../obs/LIAISE/LIAISE_LA-CENDROSA_CNRM_RS_L2'\n",
    "cendrosa_files_d1=[\n",
    "    \"LIAISE_LA-CENDROSA_CNRM_RS-ascent_L2_20210721-0401_V2.nc\",\n",
    "    \"LIAISE_LA-CENDROSA_CNRM_RS-ascent_L2_20210721-0501_V2.nc\",\n",
    "    \"LIAISE_LA-CENDROSA_CNRM_RS-ascent_L2_20210721-0601_V2.nc\",\n",
    "    \"LIAISE_LA-CENDROSA_CNRM_RS-ascent_L2_20210721-0702_V2.nc\",\n",
    "    \"LIAISE_LA-CENDROSA_CNRM_RS-ascent_L2_20210721-0806_V2.nc\",\n",
    "    \"LIAISE_LA-CENDROSA_CNRM_RS-ascent_L2_20210721-0900_V2.nc\",\n",
    "    \"LIAISE_LA-CENDROSA_CNRM_RS-ascent_L2_20210721-1011_V2.nc\",\n",
    "    \"LIAISE_LA-CENDROSA_CNRM_RS-ascent_L2_20210721-1103_V2.nc\",\n",
    "    \"LIAISE_LA-CENDROSA_CNRM_RS-ascent_L2_20210721-1204_V2.nc\",\n",
    "    \"LIAISE_LA-CENDROSA_CNRM_RS-ascent_L2_20210721-1302_V2.nc\",\n",
    "    \"LIAISE_LA-CENDROSA_CNRM_RS-ascent_L2_20210721-1358_V2.nc\",\n",
    "    \"LIAISE_LA-CENDROSA_CNRM_RS-ascent_L2_20210721-1501_V2.nc\",\n",
    "    \"LIAISE_LA-CENDROSA_CNRM_RS-ascent_L2_20210721-1557_V2.nc\",\n",
    "    \"LIAISE_LA-CENDROSA_CNRM_RS-ascent_L2_20210721-1700_V2.nc\"\n",
    "]\n",
    "cen_d1_times=[4,5,6,7,8,9,10,11,12,13,14,15,16,17]\n",
    "cendrosa_files_d2=[    \n",
    "    \"LIAISE_LA-CENDROSA_CNRM_RS-ascent_L2_20210722-0400_V2.nc\",\n",
    "    \"LIAISE_LA-CENDROSA_CNRM_RS-ascent_L2_20210722-0500_V2.nc\",\n",
    "    \"LIAISE_LA-CENDROSA_CNRM_RS-ascent_L2_20210722-0559_V2.nc\",\n",
    "    \"LIAISE_LA-CENDROSA_CNRM_RS-ascent_L2_20210722-0659_V2.nc\",\n",
    "    \"LIAISE_LA-CENDROSA_CNRM_RS-ascent_L2_20210722-0800_V2.nc\",\n",
    "    \"LIAISE_LA-CENDROSA_CNRM_RS-ascent_L2_20210722-0900_V2.nc\",\n",
    "    \"LIAISE_LA-CENDROSA_CNRM_RS-ascent_L2_20210722-1001_V2.nc\",\n",
    "    \"LIAISE_LA-CENDROSA_CNRM_RS-ascent_L2_20210722-1100_V2.nc\",\n",
    "    \"LIAISE_LA-CENDROSA_CNRM_RS-ascent_L2_20210722-1200_V2.nc\",\n",
    "    \"LIAISE_LA-CENDROSA_CNRM_RS-ascent_L2_20210722-1300_V2.nc\",\n",
    "    \"LIAISE_LA-CENDROSA_CNRM_RS-ascent_L2_20210722-1359_V2.nc\",\n",
    "    \"LIAISE_LA-CENDROSA_CNRM_RS-ascent_L2_20210722-1501_V2.nc\",\n",
    "    \"LIAISE_LA-CENDROSA_CNRM_RS-ascent_L2_20210722-1600_V2.nc\",\n",
    "    \"LIAISE_LA-CENDROSA_CNRM_RS-ascent_L2_20210722-1746_V2.nc\",\n",
    "    \"LIAISE_LA-CENDROSA_CNRM_RS-ascent_L2_20210722-1906_V2.nc\",\n",
    "    \"LIAISE_LA-CENDROSA_CNRM_RS-ascent_L2_20210722-2117_V2.nc\"\n",
    "]\n",
    "cen_d2_times=[4,5,6,7,8,9,10,11,12,13,14,15,16,17,19,21]"
   ]
  },
  {
   "cell_type": "code",
   "execution_count": null,
   "metadata": {},
   "outputs": [],
   "source": [
    "els_dir='../../../obs/LIAISE/LIAISE_ELS-PLANS_UKMO_radiosondes_L1'\n",
    "els_files_d1=[\n",
    "    \"LIAISE_ELS-PLANS_UKMO_RADIOSONDEPROFILE_L1-20210721-040008_V1.0.txt\",\n",
    "    \"LIAISE_ELS-PLANS_UKMO_RADIOSONDEPROFILE_L1-20210721-050014_V1.0.txt\",\n",
    "    \"LIAISE_ELS-PLANS_UKMO_RADIOSONDEPROFILE_L1-20210721-060007_V1.0.txt\",\n",
    "    \"LIAISE_ELS-PLANS_UKMO_RADIOSONDEPROFILE_L1-20210721-070006_V1.0.txt\",\n",
    "    \"LIAISE_ELS-PLANS_UKMO_RADIOSONDEPROFILE_L1-20210721-080011_V1.0.txt\",\n",
    "    \"LIAISE_ELS-PLANS_UKMO_RADIOSONDEPROFILE_L1-20210721-090008_V1.0.txt\",\n",
    "    \"LIAISE_ELS-PLANS_UKMO_RADIOSONDEPROFILE_L1-20210721-100006_V1.0.txt\",\n",
    "    \"LIAISE_ELS-PLANS_UKMO_RADIOSONDEPROFILE_L1-20210721-110120_V1.0.txt\",\n",
    "    \"LIAISE_ELS-PLANS_UKMO_RADIOSONDEPROFILE_L1-20210721-120247_V1.0.txt\",\n",
    "    \"LIAISE_ELS-PLANS_UKMO_RADIOSONDEPROFILE_L1-20210721-130018_V1.0.txt\",\n",
    "    \"LIAISE_ELS-PLANS_UKMO_RADIOSONDEPROFILE_L1-20210721-140032_V1.0.txt\",\n",
    "    \"LIAISE_ELS-PLANS_UKMO_RADIOSONDEPROFILE_L1-20210721-150048_V1.0.txt\",\n",
    "    \"LIAISE_ELS-PLANS_UKMO_RADIOSONDEPROFILE_L1-20210721-160010_V1.0.txt\",\n",
    "    \"LIAISE_ELS-PLANS_UKMO_RADIOSONDEPROFILE_L1-20210721-170010_V1.0.txt\",\n",
    "    \"LIAISE_ELS-PLANS_UKMO_RADIOSONDEPROFILE_L1-20210721-190058_V1.0.txt\",\n",
    "    \"LIAISE_ELS-PLANS_UKMO_RADIOSONDEPROFILE_L1-20210721-210029_V1.0.txt\"\n",
    "]\n",
    "els_d1_times=[4,5,6,7,8,9,10,11,12,13,14,15,16,17,19,21]\n",
    "els_files_d2=[\n",
    "    \"LIAISE_ELS-PLANS_UKMO_RADIOSONDEPROFILE_L1-20210722-040029_V1.0.txt\",\n",
    "    \"LIAISE_ELS-PLANS_UKMO_RADIOSONDEPROFILE_L1-20210722-050013_V1.0.txt\",\n",
    "    \"LIAISE_ELS-PLANS_UKMO_RADIOSONDEPROFILE_L1-20210722-060005_V1.0.txt\",\n",
    "    \"LIAISE_ELS-PLANS_UKMO_RADIOSONDEPROFILE_L1-20210722-070034_V1.0.txt\",\n",
    "    \"LIAISE_ELS-PLANS_UKMO_RADIOSONDEPROFILE_L1-20210722-080006_V1.0.txt\",\n",
    "    \"LIAISE_ELS-PLANS_UKMO_RADIOSONDEPROFILE_L1-20210722-090001_V1.0.txt\",\n",
    "    \"LIAISE_ELS-PLANS_UKMO_RADIOSONDEPROFILE_L1-20210722-100009_V1.0.txt\",\n",
    "    \"LIAISE_ELS-PLANS_UKMO_RADIOSONDEPROFILE_L1-20210722-110011_V1.0.txt\",\n",
    "    \"LIAISE_ELS-PLANS_UKMO_RADIOSONDEPROFILE_L1-20210722-120040_V1.0.txt\",\n",
    "    \"LIAISE_ELS-PLANS_UKMO_RADIOSONDEPROFILE_L1-20210722-130007_V1.0.txt\",\n",
    "    \"LIAISE_ELS-PLANS_UKMO_RADIOSONDEPROFILE_L1-20210722-140158_V1.0.txt\",\n",
    "    \"LIAISE_ELS-PLANS_UKMO_RADIOSONDEPROFILE_L1-20210722-150035_V1.0.txt\",\n",
    "    \"LIAISE_ELS-PLANS_UKMO_RADIOSONDEPROFILE_L1-20210722-160021_V1.0.txt\",\n",
    "    \"LIAISE_ELS-PLANS_UKMO_RADIOSONDEPROFILE_L1-20210722-170013_V1.0.txt\",\n",
    "    \"LIAISE_ELS-PLANS_UKMO_RADIOSONDEPROFILE_L1-20210722-190010_V1.0.txt\",\n",
    "    \"LIAISE_ELS-PLANS_UKMO_RADIOSONDEPROFILE_L1-20210722-200336_V1.0.txt\",\n",
    "    \"LIAISE_ELS-PLANS_UKMO_RADIOSONDEPROFILE_L1-20210722-210010_V1.0.txt\"\n",
    "]\n",
    "els_d2_times=[4,5,6,7,8,9,10,11,12,13,14,15,16,17,19,20,21]"
   ]
  },
  {
   "cell_type": "code",
   "execution_count": null,
   "metadata": {},
   "outputs": [],
   "source": [
    "#create dict for Cendrosa on d1\n",
    "# Initialize the dictionary to store datasets\n",
    "cen_RS_d1 = {}\n",
    "# Loop over the files\n",
    "for i, file in enumerate(cendrosa_files_d1):\n",
    "    # Read the data\n",
    "    file_path=f'{cendrosa_dir}/{file}'\n",
    "    ds=format_Cendrosa_RS(file_path)\n",
    "    # Add the time\n",
    "    ds.attrs['rs_time'] = cen_d1_times[i]\n",
    "    # Add the dataset to the dictionary with the corresponding time as the key\n",
    "    cen_RS_d1[cen_d1_times[i]] = ds\n",
    "\n",
    "#$create dict for Cendrosa on d2\n",
    "# Initialize the dictionary to store datasets\n",
    "cen_RS_d2 = {}\n",
    "# Loop over the files\n",
    "for i, file in enumerate(cendrosa_files_d2):\n",
    "    # Read the data\n",
    "    file_path=f'{cendrosa_dir}/{file}'\n",
    "    ds=format_Cendrosa_RS(file_path)\n",
    "    # Add the time\n",
    "    ds.attrs['rs_time'] = cen_d2_times[i]\n",
    "    # Add the dataset to the dictionary with the corresponding time as the key\n",
    "    cen_RS_d2[cen_d2_times[i]] = ds\n",
    "\n",
    "cen_RS_d2[13]"
   ]
  },
  {
   "cell_type": "code",
   "execution_count": null,
   "metadata": {},
   "outputs": [],
   "source": [
    "#create dict for ELS on d1\n",
    "# Initialize the dictionary to store datasets\n",
    "els_RS_d1 = {}\n",
    "# Iterate over the files and populate the dictionary\n",
    "for i, filename in enumerate(els_files_d1):\n",
    "    filepath = f'{els_dir}/{filename}'\n",
    "    ds = format_ElsPlans_RS(filepath)\n",
    "    # Add rs_time attribute\n",
    "    ds.attrs['rs_time'] = els_d1_times[i]\n",
    "    # Add the dataset to the dictionary with the corresponding time as the key\n",
    "    els_RS_d1[els_d1_times[i]] = ds\n",
    "    \n",
    "#create dict for ELS on d2\n",
    "# Initialize the dictionary to store datasets\n",
    "els_RS_d2 = {}\n",
    "# Iterate over the files and populate the dictionary\n",
    "for i, filename in enumerate(els_files_d2):\n",
    "    filepath = f'{els_dir}/{filename}'\n",
    "    ds = format_ElsPlans_RS(filepath)\n",
    "    # Add rs_time attribute\n",
    "    ds.attrs['rs_time'] = els_d2_times[i]\n",
    "    # Add the dataset to the dictionary with the corresponding time as the key\n",
    "    els_RS_d2[els_d2_times[i]] = ds\n",
    "\n",
    "els_RS_d2[4]"
   ]
  },
  {
   "cell_type": "markdown",
   "metadata": {},
   "source": [
    "### Masts measurements"
   ]
  },
  {
   "cell_type": "code",
   "execution_count": null,
   "metadata": {},
   "outputs": [],
   "source": [
    "def format_Cendrosa_MTO(filename):\n",
    "    cen_mto = xr.open_dataset(filename)\n",
    "    #add name and plot color\n",
    "    cen_mto.attrs['name'] = 'Cendrosa_MTO'\n",
    "    cen_mto.attrs['plot_color'] = 'black'\n",
    "    cen_mto.attrs['linestyle']='-'\n",
    "\n",
    "    rename_dict = {\n",
    "        #lmdz vars\n",
    "        'ta_2':'t2m',\n",
    "        'shf_1':'sens',\n",
    "        'lhf_1':'flat',\n",
    "        'hur_2':'rh2m',\n",
    "        'hus_2':'q2m',\n",
    "        'ws_2':'wind_speed_10m',\n",
    "        'wd_2':'wind_direction_10m',\n",
    "        'pa':'psol',\n",
    "        'swup':'SWupSFC',\n",
    "        'lwup':'LWupSFC',\n",
    "        #orc vars\n",
    "        'soil_temp_1':'temp_sol',\n",
    "        'soil_heat_flux':'Qg',\n",
    "    }\n",
    "    cen_mto = cen_mto.rename(rename_dict)\n",
    "\n",
    "    #change temperatures to K\n",
    "    cen_mto['t2m'] = cen_mto['t2m'] + 273.15\n",
    "    cen_mto['t2m'].attrs['units'] = 'K'\n",
    "    #change sign of Qg\n",
    "    cen_mto['Qg'] = -cen_mto['Qg']\n",
    "    #make netrad fluxes\n",
    "    cen_mto['lwnet'] = cen_mto['lwd'] - cen_mto['LWupSFC']\n",
    "    cen_mto['lwnet'].attrs['units'] = 'W/m2'\n",
    "    cen_mto['swnet'] = cen_mto['swd'] - cen_mto['SWupSFC']\n",
    "    cen_mto['swnet'].attrs['units'] = 'W/m2'\n",
    "\n",
    "    return(cen_mto)"
   ]
  },
  {
   "cell_type": "code",
   "execution_count": null,
   "metadata": {},
   "outputs": [],
   "source": [
    "filename = '../../../obs/LIAISE/LIAISE_LA-CENDROSA_CNRM_MTO-FLUX-30MIN_L2/LIAISE_LA-CENDROSA_CNRM_MTO-FLUX-30MIN_L2_2021-07-21_V3.nc'\n",
    "day1_cen_mto = format_Cendrosa_MTO(filename)\n",
    "\n",
    "filename = '../../../obs/LIAISE/LIAISE_LA-CENDROSA_CNRM_MTO-FLUX-30MIN_L2/LIAISE_LA-CENDROSA_CNRM_MTO-FLUX-30MIN_L2_2021-07-22_V3.nc'\n",
    "day2_cen_mto = format_Cendrosa_MTO(filename)\n",
    "\n",
    "#concatenate both ds in gold_cen_mto\n",
    "gold_cen_mto = xr.concat([day1_cen_mto,day2_cen_mto],dim='time')\n",
    "gold_cen_mto"
   ]
  },
  {
   "cell_type": "code",
   "execution_count": null,
   "metadata": {},
   "outputs": [],
   "source": [
    "def format_ElsPlans_MTO(ds, start_day):\n",
    "    #add name and plot color\n",
    "    ds.attrs['name'] = 'ElsPlans_MTO'\n",
    "    ds.attrs['plot_color'] = 'black'\n",
    "    ds.attrs['linestyle']='--'\n",
    "\n",
    "    rename_dict = {\n",
    "        'HOUR_time':'time',\n",
    "        #lmdz vars\n",
    "        'PRES_subsoil':'psol',\n",
    "        'TEMP_2m':'t2m',\n",
    "        'RHUM_2mB':'rh2m',\n",
    "        'UTOT_10m':'wind_speed_10m',\n",
    "        'DIR_10m':'wind_direction_10m',\n",
    "        'SWUP_rad':'SWupSFC',\n",
    "        'LWUP_rad':'LWupSFC',\n",
    "        #orc vars\n",
    "        'SFLXA_subsoil':'Qg',\n",
    "        'ST01_subsoil':'temp_sol',\n",
    "    }\n",
    "    ds = ds.rename(rename_dict)\n",
    "\n",
    "    #convert time to hour:mn:s\n",
    "    ds['time'] = pd.to_datetime(start_day) + pd.to_timedelta(ds['time'], unit='h')\n",
    "\n",
    "    #remove all values of 1e11\n",
    "    ds = ds.where(ds != 1e11)\n",
    "    # change temperatures to K\n",
    "    ds['t2m'] = ds['t2m'] + 273.15\n",
    "    ds['t2m'].attrs['units'] = 'K'\n",
    "    #get turbulent fluxes\n",
    "    # Latent heat of vaporization of water in J/kg\n",
    "    lambda_v = 2.5e6\n",
    "    ds['flat'] = ds['WQ_2m'] * lambda_v\n",
    "    ds['flat'].attrs['units'] = 'W/m2'\n",
    "    # air density in kg/m3 and specific heat capacity of air in J/kg/K\n",
    "    rho=1.225\n",
    "    cp=1004.67\n",
    "    ds['sens'] = ds['WT_2m'] * rho * cp\n",
    "    ds['sens'].attrs['units'] = 'W/m2'\n",
    "    # make net rad fluxes\n",
    "    ds['lwnet'] = ds['LWDN_rad'] - ds['LWupSFC']\n",
    "    ds['lwnet'].attrs['units'] = 'W/m2'\n",
    "    ds['swnet'] = ds['SWDN_rad'] - ds['SWupSFC']\n",
    "    ds['swnet'].attrs['units'] = 'W/m2'\n",
    "    #change sign of Qg\n",
    "    ds['Qg'] = -ds['Qg']\n",
    "\n",
    "    return(ds)"
   ]
  },
  {
   "cell_type": "code",
   "execution_count": null,
   "metadata": {},
   "outputs": [],
   "source": [
    "filename =  '../../../obs/LIAISE/LIAISE_ELS-PLANS_UKMO_MTO-30MIN_L2/LIAISE_ELS-PLANS_UKMO_MTO-30MIN_L2_20210721_V4.0.dat'\n",
    "ds = dat_to_xarray(filename, 152, 153)\n",
    "day1_els_mto = format_ElsPlans_MTO(ds, start_day='2021-07-21')\n",
    "# day1_els_mto\n",
    "\n",
    "filename =  '../../../obs/LIAISE/LIAISE_ELS-PLANS_UKMO_MTO-30MIN_L2/LIAISE_ELS-PLANS_UKMO_MTO-30MIN_L2_20210722_V4.0.dat'\n",
    "ds = dat_to_xarray(filename, 152, 153)\n",
    "day2_els_mto = format_ElsPlans_MTO(ds, start_day='2021-07-22')\n",
    "# day2_els_mto\n",
    "\n",
    "#concatenate\n",
    "gold_els_mto = xr.concat([day1_els_mto,day2_els_mto],dim='time')\n",
    "gold_els_mto"
   ]
  },
  {
   "cell_type": "markdown",
   "metadata": {},
   "source": [
    "## Masking"
   ]
  },
  {
   "cell_type": "markdown",
   "metadata": {},
   "source": [
    "### IP continental subdomain"
   ]
  },
  {
   "cell_type": "code",
   "execution_count": null,
   "metadata": {},
   "outputs": [],
   "source": [
    "# Define masks\n",
    " \n",
    "con_mask_2D_ORC= orc_noirr.mean(dim='time')['Contfrac']>0.95\n",
    "con_mask_2D_ORC.attrs['name']='Continental mask (95%)'\n",
    "\n",
    "ip_polygon_mask_2D=polygon_to_mask(orc_noirr.mean(dim=\"time\"), iberian_peninsula)\n",
    "ip_polygon_mask_2D.attrs['name']='Iberian Peninsula polygon mask'\n",
    "\n",
    "#combine two masks\n",
    "ip_mask = con_mask_2D_ORC * ip_polygon_mask_2D\n",
    "ip_mask.attrs['name']='IPmask'"
   ]
  },
  {
   "cell_type": "code",
   "execution_count": null,
   "metadata": {},
   "outputs": [],
   "source": [
    "#ORC\n",
    "ip_orc_noirr = apply_2Dmask_to_dataset(orc_noirr, ip_mask, dsname='no_irr')\n",
    "ip_orc_irr = apply_2Dmask_to_dataset(orc_irr, ip_mask, dsname='irr')"
   ]
  },
  {
   "cell_type": "code",
   "execution_count": null,
   "metadata": {},
   "outputs": [],
   "source": [
    "#LMDZ\n",
    "ip_lmdz_noirr = apply_2Dmask_to_dataset(lmdz_noirr, ip_mask, dsname='no_irr')\n",
    "ip_lmdz_irr = apply_2Dmask_to_dataset(lmdz_irr, ip_mask, dsname='irr')"
   ]
  },
  {
   "cell_type": "markdown",
   "metadata": {},
   "source": [
    "### high_irr vs low_irr"
   ]
  },
  {
   "cell_type": "code",
   "execution_count": null,
   "metadata": {},
   "outputs": [],
   "source": [
    "#one grid cell\n",
    "#highirr\n",
    "Cendrosa_lon=0.6\n",
    "Cendrosa_lat=41.7\n",
    "#lowirr\n",
    "ElsPlans_lon=1.1\n",
    "ElsPlans_lat=41.5"
   ]
  },
  {
   "cell_type": "code",
   "execution_count": null,
   "metadata": {},
   "outputs": [],
   "source": [
    "cen_lmdz_noirr = lmdz_noirr.sel(lon=Cendrosa_lon,lat=Cendrosa_lat,method='nearest').copy()\n",
    "cen_lmdz_noirr.attrs['name']='La Cendrosa no_irr'\n",
    "cen_lmdz_irr = lmdz_irr.sel(lon=Cendrosa_lon,lat=Cendrosa_lat,method='nearest').copy()\n",
    "cen_lmdz_irr.attrs['name']='La Cendrosa irr'\n",
    "cen_orc_noirr = orc_noirr.sel(lon=Cendrosa_lon,lat=Cendrosa_lat,method='nearest').copy()\n",
    "cen_orc_noirr.attrs['name']='La Cendrosa no_irr'\n",
    "cen_orc_irr = orc_irr.sel(lon=Cendrosa_lon,lat=Cendrosa_lat,method='nearest').copy()\n",
    "cen_orc_irr.attrs['name']='La Cendrosa irr'"
   ]
  },
  {
   "cell_type": "code",
   "execution_count": null,
   "metadata": {},
   "outputs": [],
   "source": [
    "els_lmdz_noirr = lmdz_noirr.sel(lon=ElsPlans_lon,lat=ElsPlans_lat,method='nearest').copy()\n",
    "els_lmdz_noirr.attrs['name']='Els Plans no_irr'\n",
    "els_lmdz_irr = lmdz_irr.sel(lon=ElsPlans_lon,lat=ElsPlans_lat,method='nearest').copy()\n",
    "els_lmdz_irr.attrs['name']='Els Plans irr'\n",
    "els_orc_noirr = orc_noirr.sel(lon=ElsPlans_lon,lat=ElsPlans_lat,method='nearest').copy()\n",
    "els_orc_noirr.attrs['name']='Els Plans no_irr'\n",
    "els_orc_irr = orc_irr.sel(lon=ElsPlans_lon,lat=ElsPlans_lat,method='nearest').copy()\n",
    "els_orc_irr.attrs['name']='Els Plans irr'"
   ]
  },
  {
   "cell_type": "code",
   "execution_count": null,
   "metadata": {},
   "outputs": [],
   "source": [
    "#add attr linestyle -- to els_ datasets\n",
    "els_lmdz_noirr.attrs['linestyle']='--'\n",
    "els_lmdz_irr.attrs['linestyle']='--'\n",
    "els_orc_noirr.attrs['linestyle']='--'\n",
    "els_orc_irr.attrs['linestyle']='--'\n",
    "#add attr linestyle - to cen_ datasets\n",
    "cen_lmdz_noirr.attrs['linestyle']='-'\n",
    "cen_lmdz_irr.attrs['linestyle']='-'\n",
    "cen_orc_noirr.attrs['linestyle']='-'\n",
    "cen_orc_irr.attrs['linestyle']='-'"
   ]
  },
  {
   "cell_type": "code",
   "execution_count": null,
   "metadata": {},
   "outputs": [],
   "source": [
    "cendrosa_gl= cen_lmdz_noirr['ground_level'].mean(dim='time').values.item()\n",
    "elsplans_gl= els_lmdz_noirr['ground_level'].mean(dim='time').values.item()\n",
    "cendrosa_gl,  elsplans_gl"
   ]
  },
  {
   "cell_type": "markdown",
   "metadata": {},
   "source": [
    "### Golden days"
   ]
  },
  {
   "cell_type": "code",
   "execution_count": null,
   "metadata": {},
   "outputs": [],
   "source": [
    "start_time = '2021-07-21T00:30:00.000000000'\n",
    "day1_end_time = '2021-07-21T23:30:00.000000000'\n",
    "day2_start_time = '2021-07-22T00:30:00.000000000'\n",
    "end_time='2021-07-22T23:30:00.000000000'"
   ]
  },
  {
   "cell_type": "code",
   "execution_count": null,
   "metadata": {},
   "outputs": [],
   "source": [
    "gold_cen_lmdz_noirr = filter_xarray_by_timestamps(cen_lmdz_noirr, start_time, end_time)\n",
    "gold_cen_lmdz_irr = filter_xarray_by_timestamps(cen_lmdz_irr, start_time, end_time)\n",
    "gold_cen_orc_noirr = filter_xarray_by_timestamps(cen_orc_noirr, start_time, end_time)\n",
    "gold_cen_orc_irr = filter_xarray_by_timestamps(cen_orc_irr, start_time, end_time)\n",
    "\n",
    "gold_els_lmdz_noirr = filter_xarray_by_timestamps(els_lmdz_noirr, start_time, end_time)\n",
    "gold_els_lmdz_irr = filter_xarray_by_timestamps(els_lmdz_irr, start_time, end_time)\n",
    "gold_els_orc_noirr = filter_xarray_by_timestamps(els_orc_noirr, start_time, end_time)\n",
    "gold_els_orc_irr = filter_xarray_by_timestamps(els_orc_irr, start_time, end_time)"
   ]
  },
  {
   "cell_type": "code",
   "execution_count": null,
   "metadata": {},
   "outputs": [],
   "source": [
    "#day1\n",
    "day1_cen_lmdz_noirr = filter_xarray_by_timestamps(cen_lmdz_noirr, start_time, day1_end_time)\n",
    "day1_cen_lmdz_irr = filter_xarray_by_timestamps(cen_lmdz_irr, start_time, day1_end_time)\n",
    "day1_cen_orc_noirr = filter_xarray_by_timestamps(cen_orc_noirr, start_time, day1_end_time)\n",
    "day1_cen_orc_irr = filter_xarray_by_timestamps(cen_orc_irr, start_time, day1_end_time)\n",
    "\n",
    "day1_els_lmdz_noirr = filter_xarray_by_timestamps(els_lmdz_noirr, start_time, day1_end_time)\n",
    "day1_els_lmdz_irr = filter_xarray_by_timestamps(els_lmdz_irr, start_time, day1_end_time)\n",
    "day1_els_orc_noirr = filter_xarray_by_timestamps(els_orc_noirr, start_time, day1_end_time)\n",
    "day1_els_orc_irr = filter_xarray_by_timestamps(els_orc_irr, start_time, day1_end_time)\n",
    "\n",
    "#day2\n",
    "day2_cen_lmdz_noirr = filter_xarray_by_timestamps(cen_lmdz_noirr, day2_start_time, end_time)\n",
    "day2_cen_lmdz_irr = filter_xarray_by_timestamps(cen_lmdz_irr, day2_start_time, end_time)\n",
    "day2_cen_orc_noirr = filter_xarray_by_timestamps(cen_orc_noirr, day2_start_time, end_time)\n",
    "day2_cen_orc_irr = filter_xarray_by_timestamps(cen_orc_irr, day2_start_time, end_time)\n",
    "\n",
    "day2_els_lmdz_noirr = filter_xarray_by_timestamps(els_lmdz_noirr, day2_start_time, end_time)\n",
    "day2_els_lmdz_irr = filter_xarray_by_timestamps(els_lmdz_irr, day2_start_time, end_time)\n",
    "day2_els_orc_noirr = filter_xarray_by_timestamps(els_orc_noirr, day2_start_time, end_time)\n",
    "day2_els_orc_irr = filter_xarray_by_timestamps(els_orc_irr, day2_start_time, end_time)"
   ]
  },
  {
   "cell_type": "markdown",
   "metadata": {},
   "source": [
    "# Maps"
   ]
  },
  {
   "cell_type": "code",
   "execution_count": null,
   "metadata": {},
   "outputs": [],
   "source": [
    "var='sens'\n",
    "ds=ip_lmdz_irr\n",
    "\n",
    "vmin=0\n",
    "vmax=1000\n",
    "# vmin,vmax = None, None\n",
    "cmap=myterrain\n",
    "# title='off'\n",
    "title=None\n",
    "# title='Evaporative fraction (irr, JJA)'\n",
    "# clabel='Irrigation (mm/d)'\n",
    "clabel=None\n",
    "map_ave(ds, var, vmin=vmin, vmax=vmax, cmap=cmap,\n",
    "        title=title, clabel=clabel)"
   ]
  },
  {
   "cell_type": "code",
   "execution_count": null,
   "metadata": {},
   "outputs": [],
   "source": [
    "#Diff map\n",
    "var='t2m'\n",
    "ds1=ip_lmdz_irr\n",
    "ds2=ip_lmdz_noirr\n",
    "\n",
    "vmax= 0.5\n",
    "vmin=-0.5\n",
    "# vmin,vmax = None, None\n",
    "cmap=emb_neutral\n",
    "title=None\n",
    "map_diff_ave(ds1, ds2, var, vmin=vmin, vmax=vmax, cmap=cmap, \n",
    "             sig=False,\n",
    "             title=title, clabel=clabel)"
   ]
  },
  {
   "cell_type": "code",
   "execution_count": null,
   "metadata": {},
   "outputs": [],
   "source": [
    "#Display map of var for ds on restricted area\n",
    "var='ground_level'\n",
    "ds = ip_orc_irr\n",
    "ds = lmdz_irr\n",
    "\n",
    "latmin=41.35\n",
    "latmax=41.9\n",
    "lonmin=0.6\n",
    "lonmax=1.4\n",
    "latmin=40.5\n",
    "latmax=43.5\n",
    "lonmin=-3\n",
    "lonmax=3\n",
    "cmap=myterrain\n",
    "vmin=0\n",
    "vmax=1000\n",
    "# vmin, vmax=None, None\n",
    "# title='Irrigation (July 2021, mm/d)'\n",
    "title=None\n",
    "\n",
    "#restrict ds to latmin, latmax, lonmin, lonmax\n",
    "ds = ds.where(ds.lat >= latmin, drop=True).where(ds.lat <= latmax, drop=True)\n",
    "ds = ds.where(ds.lon >= lonmin, drop=True).where(ds.lon <= lonmax, drop=True)\n",
    "plotvar = ds[var].mean(dim='time')\n",
    "\n",
    "map_plotvar(plotvar, cmap=cmap, vmin=vmin,vmax=vmax, title=title)\n",
    "\n",
    "plt.plot(Cendrosa_lon, Cendrosa_lat, 'ro', markersize=10)\n",
    "plt.plot(ElsPlans_lon, ElsPlans_lat, 'ro', markersize=10)"
   ]
  },
  {
   "cell_type": "markdown",
   "metadata": {},
   "source": [
    "# Time series and diurnal cycle"
   ]
  },
  {
   "cell_type": "code",
   "execution_count": null,
   "metadata": {},
   "outputs": [],
   "source": [
    "var='precip'\n",
    "\n",
    "# ds1=gold_cen_lmdz_irr\n",
    "# ds2=gold_cen_lmdz_noirr\n",
    "ds1=gold_els_lmdz_irr\n",
    "ds2=gold_els_lmdz_noirr\n",
    "\n",
    "# ds1=gold_cen_orc_irr\n",
    "# ds2=gold_cen_orc_noirr\n",
    "# ds1=gold_els_orc_irr\n",
    "# ds2=gold_els_orc_noirr\n",
    "\n",
    "ds3=gold_cen_mto\n",
    "ds3=gold_els_mto\n",
    "\n",
    "ds_list=[ds1, ds2, ds3]#, ds4]\n",
    "ds_list=[ds3]\n",
    "\n",
    "vmin=-0\n",
    "vmax=500\n",
    "vmin, vmax=None, None\n",
    "title='{} ({})'.format(var, ds1[var].attrs['units'])\n",
    "# title=None\n",
    "\n",
    "time_series_ave(ds_list, var, ds_colors=True, ds_linestyle=True, title=title, vmin=vmin, vmax=vmax)"
   ]
  },
  {
   "cell_type": "code",
   "execution_count": null,
   "metadata": {},
   "outputs": [],
   "source": [
    "var='s_pblh'\n",
    "\n",
    "ds1=cen_lmdz_noirr\n",
    "ds2=cen_lmdz_irr\n",
    "# ds1=ip_orc_noirr\n",
    "# ds2=ip_orc_irr\n",
    "ds_list=[ds1, ds2]#, ds3]\n",
    "# ds_list=[ds2]\n",
    "\n",
    "title=None\n",
    "diurnal_cycle_ave(ds_list, var, title='{} ({})'.format(var, ds1[var].attrs['units']))"
   ]
  },
  {
   "cell_type": "markdown",
   "metadata": {},
   "source": [
    "# Energy budget"
   ]
  },
  {
   "cell_type": "code",
   "execution_count": null,
   "metadata": {},
   "outputs": [],
   "source": [
    "## FOR ONE SITE, DISTINGUISHING BY SIM\n",
    "ds_lmdz_irr = cen_lmdz_irr\n",
    "ds_orc_irr  = cen_orc_irr\n",
    "ds_lmdz_noirr = cen_lmdz_noirr\n",
    "ds_orc_noirr  = cen_orc_noirr\n",
    "title='La Cendrosa'\n",
    "energy_budget_dc(ds_lmdz_irr, ds_lmdz_noirr, ds_orc_irr, ds_orc_noirr, title=title, lab1='irr', lab2='noirr')\n",
    "\n",
    "ds_lmdz_irr = els_lmdz_irr\n",
    "ds_orc_irr  = els_orc_irr\n",
    "ds_lmdz_noirr = els_lmdz_noirr\n",
    "ds_orc_noirr  = els_orc_noirr\n",
    "title='Els Plans'\n",
    "energy_budget_dc(ds_lmdz_irr, ds_lmdz_noirr, ds_orc_irr, ds_orc_noirr, title=title, lab1='irr', lab2='noirr')"
   ]
  },
  {
   "cell_type": "code",
   "execution_count": null,
   "metadata": {},
   "outputs": [],
   "source": [
    "## FOR ONE SIM, DISTINGUISHING BY SITE\n",
    "ds_lmdz1 = cen_lmdz_irr\n",
    "ds_orc1 = cen_orc_irr\n",
    "ds_lmdz2 = els_lmdz_irr\n",
    "ds_orc2 = els_orc_irr\n",
    "title = 'Irrigated sim'\n",
    "energy_budget_dc(ds_lmdz1, ds_lmdz2, ds_orc1, ds_orc2, title=title, lab1='La Cendrosa', lab2='Els Plans')\n",
    "\n",
    "ds_lmdz1 = cen_lmdz_noirr\n",
    "ds_orc1 = cen_orc_noirr\n",
    "ds_lmdz2 = els_lmdz_noirr\n",
    "ds_orc2 = els_orc_noirr\n",
    "title = 'Non-irrigated sim'\n",
    "energy_budget_dc(ds_lmdz1, ds_lmdz2, ds_orc1, ds_orc2, title=title, lab1='La Cendrosa', lab2='Els Plans')"
   ]
  },
  {
   "cell_type": "markdown",
   "metadata": {},
   "source": [
    "# Vertical profiles"
   ]
  },
  {
   "cell_type": "markdown",
   "metadata": {},
   "source": [
    "## Sims only"
   ]
  },
  {
   "cell_type": "code",
   "execution_count": null,
   "metadata": {},
   "outputs": [],
   "source": [
    "var='theta'\n",
    "ds1=els_lmdz_irr\n",
    "ds2=els_lmdz_noirr\n",
    "ds3=cen_lmdz_irr\n",
    "ds4=cen_lmdz_noirr\n",
    "\n",
    "# ds_list=[ds1, ds2, ds3, ds4]\n",
    "ds_list=[ds3, ds4]\n",
    "ds_list=[ds1]\n",
    "ds_list=[gold_cen_lmdz_irr]\n",
    "\n",
    "obs_ds_list=[Cendrosa_RS]\n",
    "obs_ds_list=None\n",
    "\n",
    "altmax=3500\n",
    "\n",
    "title=None\n",
    "\n",
    "# profile_preslevs_local(ds_list, var, title=title, preslevelmax=preslevelmax)\n",
    "profile_altitude_local_mean(ds_list, var, title=title, altmax=altmax,\n",
    "                            obs_ds_list=obs_ds_list,\n",
    "                            nbins=None,\n",
    "                            substract_gl=True,\n",
    "                            )"
   ]
  },
  {
   "cell_type": "code",
   "execution_count": null,
   "metadata": {},
   "outputs": [],
   "source": [
    "var='theta'\n",
    "ds1=day1_els_lmdz_irr\n",
    "ds2=day1_els_lmdz_noirr\n",
    "ds3=day1_cen_lmdz_irr\n",
    "ds4=day1_cen_lmdz_noirr\n",
    "\n",
    "ds_list=[ds1, ds2, ds3, ds4]\n",
    "# ds_list=[ds3,ds4]\n",
    "# ds_list=[ds1]\n",
    "\n",
    "altmin=-0\n",
    "altmax=3500\n",
    "\n",
    "# times=[1.5, 4.5, 7.5, 10.5, 13.5, 16.5, 19.5, 22.5]\n",
    "times=[4.5, 7.5, 10.5, 13.5, 16.5, 19.5]\n",
    "# times=[0.5, 1.5, 2.5, 3.5, 4.5, 5.5, 6.5, 7.5, 8.5, 9.5, 10.5, 11.5, 12.5, 13.5, 14.5, 15.5, 16.5, 17.5, 18.5, 19.5, 20.5, 21.5, 22.5, 23.5]\n",
    "# times=[5.5, 7.5, 9.5, 11.5, 13.5, 15.5, 17.5, 19.5, 21.5]\n",
    "# times=[12.5]\n",
    "\n",
    "xmin=298\n",
    "xmax=312\n",
    "# xmin, xmax=None, None\n",
    "\n",
    "profile_altitude_multipletimes_mean(ds_list, var, times, altmin=altmin, altmax=altmax,\n",
    "                                    xmin=xmin, xmax=xmax,\n",
    "                                    substract_gl=True)"
   ]
  },
  {
   "cell_type": "code",
   "execution_count": null,
   "metadata": {},
   "outputs": [],
   "source": [
    "var='theta'\n",
    "ds1=day1_els_lmdz_irr\n",
    "ds2=day1_els_lmdz_noirr\n",
    "ds3=day1_cen_lmdz_irr\n",
    "ds4=day1_cen_lmdz_noirr\n",
    "\n",
    "ds=ds4\n",
    "\n",
    "altmin=-0\n",
    "altmax=3500\n",
    "\n",
    "times=[1.5, 4.5, 7.5, 10.5, 13.5, 16.5, 19.5, 22.5]\n",
    "times=[4.5, 7.5, 10.5, 13.5, 16.5, 19.5]\n",
    "times=[0.5, 1.5, 2.5, 3.5, 4.5, 5.5, 6.5, 7.5, 8.5, 9.5, 10.5, 11.5, 12.5, 13.5, 14.5, 15.5, 16.5, 17.5, 18.5, 19.5, 20.5, 21.5, 22.5, 23.5]\n",
    "# times=[5.5, 7.5, 9.5, 11.5, 13.5, \n",
    "times=[11.5, 12.5, 13.5, 14.5, 15.5, 16.5, 17.5]\n",
    "# times=[12.5]\n",
    "\n",
    "xmin=308\n",
    "xmax=318\n",
    "# xmin, xmax=None, None\n",
    "\n",
    "profile_altitude_multipletimes_mean_singleplot(ds, var, times, altmin=altmin, altmax=altmax,\n",
    "                                                  xmin=xmin, xmax=xmax,\n",
    "                                                  substract_gl=True)"
   ]
  },
  {
   "cell_type": "markdown",
   "metadata": {},
   "source": [
    "## With obs"
   ]
  },
  {
   "cell_type": "code",
   "execution_count": null,
   "metadata": {},
   "outputs": [],
   "source": [
    "#obs alone\n",
    "var='theta'\n",
    "ds1=cen_RS_d2[12]\n",
    "\n",
    "ds_list=[ds1]\n",
    "\n",
    "altmax=2500\n",
    "\n",
    "title=ds1.attrs['name']\n",
    "\n",
    "profile_altitude_obs(ds_list, var, title=title, altmax=altmax,\n",
    "                        xmin=306,\n",
    "                        xmax=315,\n",
    "                       nbins=None,\n",
    "                       substract_gl=True,\n",
    "                       )"
   ]
  },
  {
   "cell_type": "code",
   "execution_count": null,
   "metadata": {},
   "outputs": [],
   "source": [
    "ds1=els_lmdz_irr\n",
    "ds2=els_lmdz_noirr\n",
    "ds3=cen_lmdz_irr\n",
    "ds4=cen_lmdz_noirr\n",
    "\n",
    "timestamp='2021-07-22T12:01:00.000000000'\n",
    "\n",
    "ds_list=[ds1, ds2]#, ds3, ds4]\n",
    "# ds_list=[ds3, ds4]\n",
    "# ds_list=[ds3]\n",
    "\n",
    "obs_ds_list=[Cendrosa_RS]\n",
    "obs_ds_list=[ElsPlans_RS]\n",
    "# obs_ds_list=None\n",
    "\n",
    "altmax=2500\n",
    "title=None\n",
    "\n",
    "var='theta'\n",
    "var, xmin, xmax = 'theta', 306, 314\n",
    "var, xmin, xmax = 'ovap', 2, 14\n",
    "var, xmin, xmax = 'wind_speed', 0, 9\n",
    "var, xmin, xmax = 'wind_direction', 0, 360\n",
    "# xmin, xmax = None, None\n",
    "\n",
    "# profile_preslevs_local(ds_list, var, title=title, preslevelmax=preslevelmax)\n",
    "profile_altitude_local_timestamp(ds_list, var, timestamp, title=title, altmax=altmax, xmin=xmin, xmax=xmax, \n",
    "                            obs_ds_list=obs_ds_list,\n",
    "                            nbins=5,\n",
    "                            substract_gl=True,\n",
    "                            )"
   ]
  },
  {
   "cell_type": "code",
   "execution_count": null,
   "metadata": {},
   "outputs": [],
   "source": [
    "ds1=day1_els_lmdz_irr\n",
    "ds2=day1_els_lmdz_noirr\n",
    "ds3=cen_lmdz_irr\n",
    "ds4=cen_lmdz_noirr\n",
    "\n",
    "ds_list, obs_dict=[day1_els_lmdz_irr, day1_els_lmdz_noirr], els_RS_d1\n",
    "ds_list, obs_dict=[day1_cen_lmdz_irr, day1_cen_lmdz_noirr], cen_RS_d1\n",
    "\n",
    "ds_list, obs_dict=[day2_els_lmdz_irr, day2_els_lmdz_noirr], els_RS_d2\n",
    "# ds_list, obs_dict=[day2_cen_lmdz_irr, day2_cen_lmdz_noirr], cen_RS_d2\n",
    "# ds_list=[ds3]\n",
    "\n",
    "altmax=2500\n",
    "title=None\n",
    "\n",
    "times=[5.5, 7.5, 9.5, 11.5, 13.5, 15.5, 17.5]\n",
    "# times=els_d1_times+0.5\n",
    "# times=[x + 0.5 for x in cen_d1_times]\n",
    "# times=[12.5]\n",
    "\n",
    "var='theta'\n",
    "var, xmin, xmax = 'theta', 298, 314\n",
    "var, xmin, xmax = 'ovap', 2, 14\n",
    "var, xmin, xmax = 'wind_speed', 0, 9\n",
    "# var, xmin, xmax = 'wind_direction', 0, 360\n",
    "# xmin, xmax = None, None\n",
    "\n",
    "# profile_preslevs_local(ds_list, var, title=title, preslevelmax=preslevelmax)\n",
    "profile_altitude_multipletimes_obs(ds_list, obs_dict, var, times, \n",
    "                                 # title=title, \n",
    "                                 altmax=altmax, xmin=xmin, xmax=xmax, \n",
    "                                 # nbins=5,\n",
    "                                 substract_gl=True,\n",
    "                                )"
   ]
  }
 ],
 "metadata": {
  "kernelspec": {
   "display_name": "env1",
   "language": "python",
   "name": "python3"
  },
  "language_info": {
   "codemirror_mode": {
    "name": "ipython",
    "version": 3
   },
   "file_extension": ".py",
   "mimetype": "text/x-python",
   "name": "python",
   "nbconvert_exporter": "python",
   "pygments_lexer": "ipython3",
   "version": "3.12.2"
  }
 },
 "nbformat": 4,
 "nbformat_minor": 2
}
