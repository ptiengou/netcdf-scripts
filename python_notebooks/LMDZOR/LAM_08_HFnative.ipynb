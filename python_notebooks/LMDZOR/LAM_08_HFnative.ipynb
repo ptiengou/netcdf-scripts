{
 "cells": [
  {
   "cell_type": "markdown",
   "metadata": {},
   "source": [
    "# Imports and setting up viz\n",
    "\n",
    "NB : conda env1 on PC, lam1env on spirit (Python3.12)"
   ]
  },
  {
   "cell_type": "code",
   "execution_count": null,
   "metadata": {},
   "outputs": [],
   "source": [
    "%load_ext autoreload\n",
    "%autoreload 2\n",
    "%matplotlib inline\n",
    "\n",
    "#import personnal tools\n",
    "import sys\n",
    "sys.path.append('../../python_tools/')\n",
    "from tools import *\n",
    "from tools_mapping import *\n",
    "from tools_hf import *\n",
    "from tools_native import *\n",
    "\n",
    "psy.rcParams['auto_show'] = True\n",
    "mpl.rcParams['figure.figsize'] = [10., 8.]"
   ]
  },
  {
   "cell_type": "markdown",
   "metadata": {},
   "source": [
    "# Load files and edit datasets\n",
    "\n",
    "LAM output analysis.\n",
    "\n",
    "Simu irr et simu no-irr."
   ]
  },
  {
   "cell_type": "code",
   "execution_count": null,
   "metadata": {},
   "outputs": [],
   "source": [
    "# lon_min=-10\n",
    "# lon_max=4\n",
    "# lat_min=34\n",
    "# lat_max=46"
   ]
  },
  {
   "cell_type": "code",
   "execution_count": null,
   "metadata": {},
   "outputs": [],
   "source": [
    "nat_dir='../../../JZ_simu_outputs/LAM/LAM_1500_60/hourly_native'"
   ]
  },
  {
   "cell_type": "markdown",
   "metadata": {},
   "source": [
    "## LMDZ"
   ]
  },
  {
   "cell_type": "code",
   "execution_count": null,
   "metadata": {},
   "outputs": [],
   "source": [
    "#noirr\n",
    "no_irr_file = '{}/sim267_20210701_20210731_HF_histhf.nc'.format(nat_dir)\n",
    "\n",
    "nat_lmdz_noirr0 = xr.open_dataset(no_irr_file)\n",
    "nat_lmdz_noirr = nat_lmdz_noirr0.rename({'time_counter':'time'})\n",
    "# nat_lmdz_noirr = nat_lmdz_noirr.assign_coords(time_decimal=nat_lmdz_noirr.time.dt.hour + nat_lmdz_noirr.time.dt.minute / 60)\n",
    "# nat_lmdz_noirr.attrs['name'] = 'no_irr'\n",
    "# nat_lmdz_noirr.attrs['plot_color']='red'\n",
    "# nat_lmdz_noirr = nat_lmdz_noirr.sel(lon=slice(lon_min,lon_max),lat=slice(lat_min,lat_max))\n",
    "\n",
    "# nat_lmdz_noirr['sens']=-nat_lmdz_noirr['sens']\n",
    "# nat_lmdz_noirr['flat']=-nat_lmdz_noirr['flat']\n",
    "\n",
    "# nat_lmdz_noirr['ground_level'] = nat_lmdz_noirr['phis'] / 9.81\n",
    "# nat_lmdz_noirr['ground_level'].attrs['units'] = 'm'\n",
    "\n",
    "nat_lmdz_noirr"
   ]
  },
  {
   "cell_type": "code",
   "execution_count": null,
   "metadata": {},
   "outputs": [],
   "source": [
    "#noirr\n",
    "irr_file = '{}/sim267_20210701_20210731_HF_histhf.nc'.format(nat_dir)\n",
    "\n",
    "nat_lmdz_irr0 = xr.open_dataset(irr_file)\n",
    "nat_lmdz_irr = nat_lmdz_irr0.rename({'time_counter':'time'})\n",
    "\n",
    "nat_lmdz_irr"
   ]
  },
  {
   "cell_type": "markdown",
   "metadata": {},
   "source": [
    "## ORCHIDEE"
   ]
  },
  {
   "cell_type": "code",
   "execution_count": null,
   "metadata": {},
   "outputs": [],
   "source": [
    "orcnoirr_file = '{}/sim267_20210701_20210731_HF_sechiba_out_2.nc'.format(nat_dir)\n",
    "\n",
    "orc_noirr = xr.open_mfdataset(orcnoirr_file)\n",
    "# orc_noirr = orc_noirr0.rename({'time_counter':'time'})\n",
    "# orc_noirr = orc_noirr.assign_coords(time_decimal=orc_noirr.time.dt.hour + orc_noirr.time.dt.minute / 60)\n",
    "# orc_noirr.attrs['name'] = 'no_irr'\n",
    "# orc_noirr.attrs['plot_color']='red'\n",
    "# orc_noirr = orc_noirr.sel(lon=slice(lon_min,lon_max),lat=slice(lat_min,lat_max))\n",
    "\n",
    "orc_noirr"
   ]
  },
  {
   "cell_type": "code",
   "execution_count": null,
   "metadata": {},
   "outputs": [],
   "source": [
    "orcirr_file =  '{}/sim268_20210701_20210731_HF_sechiba_out_2.nc'.format(nat_dir)\n",
    "\n",
    "orc_irr = xr.open_mfdataset(orcirr_file)\n",
    "# orc_irr = orc_irr0.rename({'time_counter':'time'})\n",
    "# orc_irr = orc_irr.assign_coords(time_decimal=orc_irr.time.dt.hour + orc_irr.time.dt.minute / 60)\n",
    "# orc_irr.attrs['name'] = 'irr'\n",
    "# orc_irr.attrs['plot_color']='#0C5DA5'\n",
    "# orc_irr = orc_irr.sel(lon=slice(lon_min,lon_max),lat=slice(lat_min,lat_max))\n",
    "\n",
    "orc_irr"
   ]
  },
  {
   "cell_type": "markdown",
   "metadata": {},
   "source": [
    "## Masking"
   ]
  },
  {
   "cell_type": "markdown",
   "metadata": {},
   "source": [
    "### high_irr vs low_irr"
   ]
  },
  {
   "cell_type": "code",
   "execution_count": null,
   "metadata": {},
   "outputs": [],
   "source": [
    "#on grid cell\n",
    "#highirr\n",
    "Cendrosa_lon=0.6\n",
    "Cendrosa_lat=41.7\n",
    "#lowirr\n",
    "ElsPlans_lon=1.1\n",
    "ElsPlans_lat=41.5"
   ]
  },
  {
   "cell_type": "code",
   "execution_count": null,
   "metadata": {},
   "outputs": [],
   "source": [
    "#actual data from LIAISE db\n",
    "Cendrosa_Latitude=41.69336\n",
    "Cendrosa_Longitude=0.928538\n",
    "Cenrosa_Altitude= 240\n",
    "\n",
    "ElsPlans_Latitude = 41.590111\n",
    "ElsPlans_Longitude = 1.029363\n",
    "ElsPlans_Altitude = 334"
   ]
  },
  {
   "cell_type": "code",
   "execution_count": null,
   "metadata": {},
   "outputs": [],
   "source": [
    "# cen_lmdz_noirr = lmdz_noirr.sel(lon=Cendrosa_lon,lat=Cendrosa_lat,method='nearest').copy()\n",
    "# cen_lmdz_noirr.attrs['name']='La Cendrosa no_irr'\n",
    "# cen_lmdz_irr = lmdz_irr.sel(lon=Cendrosa_lon,lat=Cendrosa_lat,method='nearest').copy()\n",
    "# cen_lmdz_irr.attrs['name']='La Cendrosa irr'\n",
    "# cen_orc_noirr = orc_noirr.sel(lon=Cendrosa_lon,lat=Cendrosa_lat,method='nearest').copy()\n",
    "# cen_orc_noirr.attrs['name']='La Cendrosa no_irr'\n",
    "# cen_orc_irr = orc_irr.sel(lon=Cendrosa_lon,lat=Cendrosa_lat,method='nearest').copy()\n",
    "# cen_orc_irr.attrs['name']='La Cendrosa irr'"
   ]
  },
  {
   "cell_type": "code",
   "execution_count": null,
   "metadata": {},
   "outputs": [],
   "source": [
    "# els_lmdz_noirr = lmdz_noirr.sel(lon=ElsPlans_lon,lat=ElsPlans_lat,method='nearest').copy()\n",
    "# els_lmdz_noirr.attrs['name']='Els Plans no_irr'\n",
    "# els_lmdz_irr = lmdz_irr.sel(lon=ElsPlans_lon,lat=ElsPlans_lat,method='nearest').copy()\n",
    "# els_lmdz_irr.attrs['name']='Els Plans irr'\n",
    "# els_orc_noirr = orc_noirr.sel(lon=ElsPlans_lon,lat=ElsPlans_lat,method='nearest').copy()\n",
    "# els_orc_noirr.attrs['name']='Els Plans no_irr'\n",
    "# els_orc_irr = orc_irr.sel(lon=ElsPlans_lon,lat=ElsPlans_lat,method='nearest').copy()\n",
    "# els_orc_irr.attrs['name']='Els Plans irr'"
   ]
  },
  {
   "cell_type": "code",
   "execution_count": null,
   "metadata": {},
   "outputs": [],
   "source": [
    "# cendrosa_gl= cen_lmdz_noirr['ground_level'].mean(dim='time').values.item()\n",
    "# elsplans_gl= els_lmdz_noirr['ground_level'].mean(dim='time').values.item()\n",
    "# cendrosa_gl,  elsplans_gl"
   ]
  },
  {
   "cell_type": "markdown",
   "metadata": {},
   "source": [
    "# Maps"
   ]
  },
  {
   "cell_type": "code",
   "execution_count": null,
   "metadata": {},
   "outputs": [],
   "source": [
    "file=orcirr_file\n",
    "var='irrigation'\n",
    "\n",
    "lat_min=41.35\n",
    "lat_max=41.82\n",
    "lon_min=0.45\n",
    "lon_max=1.35\n",
    "\n",
    "vmin=0.0\n",
    "vmax=1.5\n",
    "\n",
    "plot_ICO_from_netcdf(file, var, cmap=wet,\n",
    "                     lon_min=lon_min, lon_max=lon_max, lat_min=lat_min, lat_max=lat_max,\n",
    "                     vmin=vmin, vmax=vmax, \n",
    "                     title='Irrigation'\n",
    "    )\n",
    "\n",
    "ax = plt.gca()\n",
    "# ax.plot(Cendrosa_lon, Cendrosa_lat, 'go', markersize=10, transform=ccrs.Geodetic())\n",
    "# ax.plot(ElsPlans_lon, ElsPlans_lat, 'go', markersize=10, transform=ccrs.Geodetic())\n",
    "ax.plot(Cendrosa_Longitude, Cendrosa_Latitude, 'ro', markersize=10, transform=ccrs.Geodetic())\n",
    "ax.plot(ElsPlans_Longitude, ElsPlans_Latitude, 'ro', markersize=10, transform=ccrs.Geodetic())"
   ]
  },
  {
   "cell_type": "code",
   "execution_count": null,
   "metadata": {},
   "outputs": [],
   "source": [
    "psy.plot.show_fmtkeys"
   ]
  }
 ],
 "metadata": {
  "kernelspec": {
   "display_name": "env1",
   "language": "python",
   "name": "python3"
  },
  "language_info": {
   "codemirror_mode": {
    "name": "ipython",
    "version": 3
   },
   "file_extension": ".py",
   "mimetype": "text/x-python",
   "name": "python",
   "nbconvert_exporter": "python",
   "pygments_lexer": "ipython3",
   "version": "3.12.2"
  }
 },
 "nbformat": 4,
 "nbformat_minor": 2
}
