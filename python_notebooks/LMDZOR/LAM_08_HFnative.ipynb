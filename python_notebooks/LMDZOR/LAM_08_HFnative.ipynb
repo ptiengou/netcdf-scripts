{
 "cells": [
  {
   "cell_type": "markdown",
   "metadata": {},
   "source": [
    "# Imports and setting up viz\n",
    "\n",
    "NB : conda env1 on PC, lam1env on spirit (Python3.12)"
   ]
  },
  {
   "cell_type": "code",
   "execution_count": null,
   "metadata": {},
   "outputs": [],
   "source": [
    "%load_ext autoreload\n",
    "%autoreload 2\n",
    "%matplotlib inline\n",
    "\n",
    "#import personnal tools\n",
    "import sys\n",
    "sys.path.append('../../python_tools/')\n",
    "from tools import *\n",
    "from tools_mapping import *\n",
    "from tools_hf import *\n",
    "from tools_native import *\n",
    "from tools_LIAISE import *\n",
    "\n",
    "# sys.path.append('../../python_tools/aborella/PLOTS/')\n",
    "# from datasets import *\n",
    "sys.path.append('../../python_tools/aborella/UTIL/')\n",
    "import xr_utils"
   ]
  },
  {
   "cell_type": "code",
   "execution_count": null,
   "metadata": {},
   "outputs": [],
   "source": [
    "psy.rcParams['auto_show'] = True\n",
    "mpl.rcParams['figure.figsize'] = [10., 8.]"
   ]
  },
  {
   "cell_type": "markdown",
   "metadata": {},
   "source": [
    "# Load model files and edit datasets\n",
    "\n",
    "LAM output analysis.\n",
    "\n",
    "Simu irr et simu no-irr."
   ]
  },
  {
   "cell_type": "code",
   "execution_count": null,
   "metadata": {},
   "outputs": [],
   "source": [
    "# nat_dir='../../../JZ_simu_outputs/LAM/LAM_1500_60/hourly_native'\n",
    "nat_dir='../../../JZ_simu_outputs/LAM/LAM_1500_60/halfhour_native'"
   ]
  },
  {
   "cell_type": "markdown",
   "metadata": {},
   "source": [
    "## LMDZ"
   ]
  },
  {
   "cell_type": "code",
   "execution_count": null,
   "metadata": {},
   "outputs": [],
   "source": [
    "# def add_relative_humidity(ds):\n",
    "#     if not all(var in ds for var in ['temp', 'ovap']):\n",
    "#         raise ValueError(\"Dataset must contain 'temp' (temperature) and 'ovap' (specific humidity).\")\n",
    "#     if 'presnivs' not in ds.coords:\n",
    "#         raise ValueError(\"Dataset must have 'presnivs' as a coordinate.\")\n",
    "\n",
    "#     # Constants\n",
    "#     Rd = 287.05  # Gas constant for dry air (J/(kg·K))\n",
    "#     Rv = 461.5   # Gas constant for water vapor (J/(kg·K))\n",
    "#     eps = Rd / Rv  # Ratio of gas constants\n",
    "\n",
    "#     # Extract variables\n",
    "#     temp = ds['temp']  # Temperature in °C, shape (time, presnivs, cell)\n",
    "#     ovap = ds['ovap']  # Specific humidity in kg/kg, shape (time, presnivs, cell)\n",
    "#     presnivs = ds.coords['presnivs']  # Pressure levels in hPa, shape (presnivs,)\n",
    "\n",
    "#     # Broadcast pressure levels to match the shape of temp and ovap\n",
    "#     presnivs_broadcasted = xr.broadcast(temp, presnivs)[1]\n",
    "\n",
    "#     # Compute saturation vapor pressure (hPa) and actual vapor pressure (hPa)\n",
    "#     e_s = 6.112 * np.exp((17.67 * temp) / (temp + 243.5))\n",
    "#     e = (ovap * presnivs_broadcasted) / (eps + (1 - eps) * ovap)\n",
    "\n",
    "#     # Compute relative humidity (%)\n",
    "#     ds['rh'] = (e / e_s) * 100\n",
    "#     ds['rh'].attrs['units'] = '%'\n",
    "#     ds['rh'].attrs['description'] = 'Relative Humidity based on temp, ovap, and presnivs'\n",
    "\n",
    "#     return ds\n",
    "\n",
    "def add_relative_humidity(ds):\n",
    "    if not all(var in ds for var in ['temp', 'ovap']):\n",
    "        raise ValueError(\"Dataset must contain 'temp' (temperature) and 'ovap' (specific humidity).\")\n",
    "    if 'presnivs' not in ds.coords:\n",
    "        raise ValueError(\"Dataset must have 'presnivs' as a coordinate.\")\n",
    "\n",
    "    # Constants\n",
    "    Rd = 287.05\n",
    "    Rv = 461.5\n",
    "    eps = Rd / Rv\n",
    "\n",
    "    # Compute relative humidity directly\n",
    "    ds['pressure'] = ds['presnivs'].broadcast_like(ds['temp'])\n",
    "    ds['rh'] = (\n",
    "        (ds['ovap'] * ds['pressure']) / (eps + (1 - eps) * ds['ovap']) / \n",
    "        (6.112 * np.exp((17.67 * ds['temp']) / (ds['temp'] + 243.5))) * 100\n",
    "    )\n",
    "\n",
    "    ds['rh'].attrs['units'] = '%'\n",
    "    ds['rh'].attrs['description'] = 'Relative Humidity based on temp, ovap, and presnivs'\n",
    "\n",
    "    return ds"
   ]
  },
  {
   "cell_type": "code",
   "execution_count": null,
   "metadata": {},
   "outputs": [],
   "source": [
    "def format_lmdz_HF(filename, color, name):\n",
    "    ds = xr.open_mfdataset(filename)\n",
    "    ds = ds.rename({'time_counter':'time'})\n",
    "    ds = ds.assign_coords(time_decimal=ds.time.dt.hour + ds.time.dt.minute / 60)\n",
    "    ds.attrs['name'] = name\n",
    "    ds.attrs['plot_color']=color\n",
    "\n",
    "    ds['sens']=-ds['sens']\n",
    "    ds['flat']=-ds['flat']\n",
    "\n",
    "    ds['ground_level'] = ds['phis'] / 9.81\n",
    "    ds['ground_level'].attrs['units'] = 'm'\n",
    "\n",
    "    ds=add_wind_speed(ds)\n",
    "    ds=add_wind_direction(ds)\n",
    "    ds=add_wind_10m(ds)\n",
    "    ds=add_relative_humidity(ds)\n",
    "\n",
    "    #make ovap unit g/kg\n",
    "    ds['ovap'] = ds['ovap']*1000\n",
    "    ds['ovap'].attrs['units'] = 'g/kg'\n",
    "    ds['ovap'].attrs['long_name'] = 'Specific humidity'\n",
    "    #same for q2m\n",
    "    ds['q2m'] = ds['q2m']*1000\n",
    "    ds['q2m'].attrs['units'] = 'g/kg'\n",
    "    #turn psol to hPa\n",
    "    ds['psol'] = ds['psol']/100\n",
    "    ds['psol'].attrs['units'] = 'hPa'\n",
    "    #make precip unit mm/30mn (like obs)\n",
    "    ds['precip']=ds['precip'] * 60 * 30\n",
    "    ds['precip'].attrs['long_name'] = 'Total precipitation'\n",
    "    ds['precip'].attrs['units']='mm (over 30mn)'\n",
    "\n",
    "    \n",
    "    return ds"
   ]
  },
  {
   "cell_type": "code",
   "execution_count": null,
   "metadata": {},
   "outputs": [],
   "source": [
    "lmdz_noirr_file = '{}/sim267_20210701_20210731_HF_histhf.nc'.format(nat_dir)\n",
    "lmdz_noirr = format_lmdz_HF(lmdz_noirr_file, 'red', 'noirr')\n",
    "lmdz_noirr"
   ]
  },
  {
   "cell_type": "code",
   "execution_count": null,
   "metadata": {},
   "outputs": [],
   "source": [
    "lmdz_irr_file = '{}/sim268_20210701_20210731_HF_histhf.nc'.format(nat_dir)\n",
    "lmdz_irr = format_lmdz_HF(lmdz_irr_file, 'blue', 'irr')\n",
    "lmdz_irr"
   ]
  },
  {
   "cell_type": "markdown",
   "metadata": {},
   "source": [
    "## ORCHIDEE"
   ]
  },
  {
   "cell_type": "code",
   "execution_count": null,
   "metadata": {},
   "outputs": [],
   "source": [
    "def format_ORC_HF(filename, color, name):\n",
    "    ds = xr.open_mfdataset(filename)\n",
    "    ds = ds.rename({'time_counter':'time'})\n",
    "    ds = ds.assign_coords(time_decimal=ds.time.dt.hour + ds.time.dt.minute / 60)\n",
    "    ds.attrs['name'] = name\n",
    "    ds.attrs['plot_color']= color\n",
    "    # ds = ds.sel(lon=slice(lon_min,lon_max),lat=slice(lat_min,lat_max))\n",
    "\n",
    "    ds['evapot']=ds['evapot'] * 3600 * 24\n",
    "    ds['evapot'].attrs['units'] = 'mm/d'\n",
    "\n",
    "    ds['soil_temp_01'] = ds['ptn'][:,3,:] - 273.15\n",
    "    ds['soil_temp_01'].attrs['units'] = '°C'\n",
    "    ds['soil_temp_01'].attrs['long_name'] = 'Soil temperature at 1.3cm'\n",
    "    ds['soil_temp_03'] = ds['ptn'][:,4,:] - 273.15\n",
    "    ds['soil_temp_03'].attrs['units'] = '°C'\n",
    "    ds['soil_temp_03'].attrs['long_name'] = 'Soil temperature at 2.9cm'\n",
    "    ds['soil_temp_06'] = ds['ptn'][:,5,:] - 273.15\n",
    "    ds['soil_temp_06'].attrs['units'] = '°C'\n",
    "    ds['soil_temp_06'].attrs['long_name'] = 'Soil temperature at 6.06cm'\n",
    "    ds['soil_temp_12'] = ds['ptn'][:,6,:] - 273.15\n",
    "    ds['soil_temp_12'].attrs['units'] = '°C'\n",
    "    ds['soil_temp_12'].attrs['long_name'] = 'Soil temperature at 12.3cm'\n",
    "\n",
    "    return ds"
   ]
  },
  {
   "cell_type": "code",
   "execution_count": null,
   "metadata": {},
   "outputs": [],
   "source": [
    "orc_noirr_file = '{}/sim267_20210701_20210731_HF_sechiba_out_2.nc'.format(nat_dir)\n",
    "orc_noirr = format_ORC_HF(orc_noirr_file, 'red', 'noirr')\n",
    "orc_noirr"
   ]
  },
  {
   "cell_type": "code",
   "execution_count": null,
   "metadata": {},
   "outputs": [],
   "source": [
    "orc_irr_file =  '{}/sim268_20210701_20210731_HF_sechiba_out_2.nc'.format(nat_dir)\n",
    "orc_irr = format_ORC_HF(orc_irr_file, 'blue', 'irr')\n",
    "orc_irr"
   ]
  },
  {
   "cell_type": "markdown",
   "metadata": {},
   "source": [
    "## Selecting subdatasets"
   ]
  },
  {
   "cell_type": "markdown",
   "metadata": {},
   "source": [
    "### LIAISE sites"
   ]
  },
  {
   "cell_type": "code",
   "execution_count": null,
   "metadata": {},
   "outputs": [],
   "source": [
    "#on grid cell\n",
    "#highirr\n",
    "Cendrosa_lon=0.755\n",
    "Cendrosa_lat=41.63\n",
    "#lowirr\n",
    "ElsPlans_lon=0.996\n",
    "ElsPlans_lat=41.51\n",
    "\n",
    "# alt for these grid cells : (307.6005859375, 456.8945007324219)"
   ]
  },
  {
   "cell_type": "code",
   "execution_count": null,
   "metadata": {},
   "outputs": [],
   "source": [
    "#actual data from LIAISE db\n",
    "Cendrosa_Latitude=41.69336\n",
    "Cendrosa_Longitude=0.928538\n",
    "Cenrosa_altitude= 240\n",
    "\n",
    "ElsPlans_Latitude = 41.590111\n",
    "ElsPlans_Longitude = 1.029363\n",
    "ElsPlans_altitude = 334"
   ]
  },
  {
   "cell_type": "code",
   "execution_count": null,
   "metadata": {},
   "outputs": [],
   "source": [
    "cen_lmdz_noirr = sel_closest(lmdz_noirr, Cendrosa_lon, Cendrosa_lat)\n",
    "cen_lmdz_irr = sel_closest(lmdz_irr, lon=Cendrosa_lon,lat=Cendrosa_lat)\n",
    "cen_orc_noirr = sel_closest(orc_noirr, lon=Cendrosa_lon,lat=Cendrosa_lat)\n",
    "cen_orc_irr = sel_closest(orc_irr, lon=Cendrosa_lon,lat=Cendrosa_lat)\n",
    "cen_lmdz_noirr.attrs['name']='La Cendrosa no_irr'\n",
    "cen_lmdz_irr.attrs['name']='La Cendrosa irr'\n",
    "cen_orc_noirr.attrs['name']='La Cendrosa no_irr'\n",
    "cen_orc_irr.attrs['name']='La Cendrosa irr'"
   ]
  },
  {
   "cell_type": "code",
   "execution_count": null,
   "metadata": {},
   "outputs": [],
   "source": [
    "els_lmdz_noirr = sel_closest(lmdz_noirr, lon=ElsPlans_lon,lat=ElsPlans_lat)\n",
    "els_lmdz_irr   = sel_closest(lmdz_irr, lon=ElsPlans_lon,lat=ElsPlans_lat)\n",
    "els_orc_noirr  = sel_closest(orc_noirr, lon=ElsPlans_lon,lat=ElsPlans_lat)\n",
    "els_orc_irr    = sel_closest(orc_irr, lon=ElsPlans_lon,lat=ElsPlans_lat)\n",
    "els_lmdz_irr.attrs['name']='Els Plans irr'\n",
    "els_orc_noirr.attrs['name']='Els Plans no_irr'\n",
    "els_lmdz_noirr.attrs['name']='Els Plans no_irr'\n",
    "els_orc_irr.attrs['name']='Els Plans irr'"
   ]
  },
  {
   "cell_type": "code",
   "execution_count": null,
   "metadata": {},
   "outputs": [],
   "source": [
    "#add attr linestyle -- to els_ datasets\n",
    "els_lmdz_noirr.attrs['linestyle']='--'\n",
    "els_lmdz_irr.attrs['linestyle']='--'\n",
    "els_orc_noirr.attrs['linestyle']='--'\n",
    "els_orc_irr.attrs['linestyle']='--'\n",
    "#add attr linestyle - to cen_ datasets\n",
    "cen_lmdz_noirr.attrs['linestyle']='-'\n",
    "cen_lmdz_irr.attrs['linestyle']='-'\n",
    "cen_orc_noirr.attrs['linestyle']='-'\n",
    "cen_orc_irr.attrs['linestyle']='-'"
   ]
  },
  {
   "cell_type": "code",
   "execution_count": null,
   "metadata": {},
   "outputs": [],
   "source": [
    "cendrosa_gl= cen_lmdz_noirr['ground_level'].mean(dim='time').values.item()\n",
    "elsplans_gl= els_lmdz_noirr['ground_level'].mean(dim='time').values.item()\n",
    "cendrosa_gl,  elsplans_gl"
   ]
  },
  {
   "cell_type": "code",
   "execution_count": null,
   "metadata": {},
   "outputs": [],
   "source": [
    "def add_var_on_mast_level(ds: xr.Dataset, var: str, height:int, newvar_name: str, unit: str, longname: str) -> xr.Dataset:\n",
    "    # Compute closest index to height\n",
    "    closest_idx = np.abs(ds[\"geoph\"] - ds['ground_level'] - height).argmin(dim=\"presnivs\").compute()\n",
    "\n",
    "    # Assign new variable with proper metadata\n",
    "    ds[newvar_name] = ds[var].isel(presnivs=closest_idx)\n",
    "    ds[newvar_name].attrs.update({\"long_name\" : longname, \"units\": unit})\n",
    "    \n",
    "    return ds"
   ]
  },
  {
   "cell_type": "code",
   "execution_count": null,
   "metadata": {},
   "outputs": [],
   "source": [
    "mast_temps=True\n",
    "mast_temps=False\n",
    "\n",
    "mast_q=True\n",
    "mast_q=False\n",
    "\n",
    "mast_rh=True\n",
    "mast_rh=False\n",
    "\n",
    "mast_fluxes=True\n",
    "mast_fluxes=False"
   ]
  },
  {
   "cell_type": "code",
   "execution_count": null,
   "metadata": {},
   "outputs": [],
   "source": [
    "if mast_temps:\n",
    "    cen_lmdz_noirr = add_var_on_mast_level(cen_lmdz_noirr, 'temp', 10, 't10m', 'K', 'Temperature at 10m')\n",
    "    cen_lmdz_irr   = add_var_on_mast_level(cen_lmdz_irr,   'temp', 10, 't10m', 'K', 'Temperature at 10m')\n",
    "    els_lmdz_noirr = add_var_on_mast_level(els_lmdz_noirr, 'temp', 10, 't10m', 'K', 'Temperature at 10m')\n",
    "    els_lmdz_irr   = add_var_on_mast_level(els_lmdz_irr,   'temp', 10, 't10m', 'K', 'Temperature at 10m')\n",
    "\n",
    "    cen_lmdz_noirr = add_var_on_mast_level(cen_lmdz_noirr, 'temp', 25, 't25m', 'K', 'Temperature at 25m')\n",
    "    cen_lmdz_irr   = add_var_on_mast_level(cen_lmdz_irr,   'temp', 25, 't25m', 'K', 'Temperature at 25m')\n",
    "    els_lmdz_noirr = add_var_on_mast_level(els_lmdz_noirr, 'temp', 25, 't25m', 'K', 'Temperature at 25m')\n",
    "    els_lmdz_irr   = add_var_on_mast_level(els_lmdz_irr,   'temp', 25, 't25m', 'K', 'Temperature at 25m')\n",
    "\n",
    "    cen_lmdz_noirr = add_var_on_mast_level(cen_lmdz_noirr, 'temp', 50, 't50m', 'K', 'Temperature at 50m')\n",
    "    cen_lmdz_irr   = add_var_on_mast_level(cen_lmdz_irr,   'temp', 50, 't50m', 'K', 'Temperature at 50m')\n",
    "    els_lmdz_noirr = add_var_on_mast_level(els_lmdz_noirr, 'temp', 50, 't50m', 'K', 'Temperature at 50m')\n",
    "    els_lmdz_irr   = add_var_on_mast_level(els_lmdz_irr,   'temp', 50, 't50m', 'K', 'Temperature at 50m')"
   ]
  },
  {
   "cell_type": "code",
   "execution_count": null,
   "metadata": {},
   "outputs": [],
   "source": [
    "if mast_q:\n",
    "    cen_lmdz_noirr = add_var_on_mast_level(cen_lmdz_noirr, 'ovap', 10, 'q10m', 'K', 'q at 10m')\n",
    "    cen_lmdz_irr   = add_var_on_mast_level(cen_lmdz_irr,   'ovap', 10, 'q10m', 'K', 'q at 10m')\n",
    "    els_lmdz_noirr = add_var_on_mast_level(els_lmdz_noirr, 'ovap', 10, 'q10m', 'K', 'q at 10m')\n",
    "    els_lmdz_irr   = add_var_on_mast_level(els_lmdz_irr,   'ovap', 10, 'q10m', 'K', 'q at 10m')\n",
    "    cen_lmdz_noirr = add_var_on_mast_level(cen_lmdz_noirr, 'ovap', 25, 'q25m', 'K', 'q at 25m')\n",
    "    cen_lmdz_irr   = add_var_on_mast_level(cen_lmdz_irr,   'ovap', 25, 'q25m', 'K', 'q at 25m')\n",
    "    els_lmdz_noirr = add_var_on_mast_level(els_lmdz_noirr, 'ovap', 25, 'q25m', 'K', 'q at 25m')\n",
    "    els_lmdz_irr   = add_var_on_mast_level(els_lmdz_irr,   'ovap', 25, 'q25m', 'K', 'q at 25m')\n",
    "    cen_lmdz_noirr = add_var_on_mast_level(cen_lmdz_noirr, 'ovap', 50, 'q50m', 'K', 'q at 50m')\n",
    "    cen_lmdz_irr   = add_var_on_mast_level(cen_lmdz_irr,   'ovap', 50, 'q50m', 'K', 'q at 50m')\n",
    "    els_lmdz_noirr = add_var_on_mast_level(els_lmdz_noirr, 'ovap', 50, 'q50m', 'K', 'q at 50m')\n",
    "    els_lmdz_irr   = add_var_on_mast_level(els_lmdz_irr,   'ovap', 50, 'q50m', 'K', 'q at 50m')"
   ]
  },
  {
   "cell_type": "code",
   "execution_count": null,
   "metadata": {},
   "outputs": [],
   "source": [
    "if mast_rh:\n",
    "    cen_lmdz_noirr = add_var_on_mast_level(cen_lmdz_noirr, 'rh', 10, 'rh10m', 'K', 'rh at 10m')\n",
    "    cen_lmdz_irr   = add_var_on_mast_level(cen_lmdz_irr,   'rh', 10, 'rh10m', 'K', 'rh at 10m')\n",
    "    els_lmdz_noirr = add_var_on_mast_level(els_lmdz_noirr, 'rh', 10, 'rh10m', 'K', 'rh at 10m')\n",
    "    els_lmdz_irr   = add_var_on_mast_level(els_lmdz_irr,   'rh', 10, 'rh10m', 'K', 'rh at 10m')\n",
    "    cen_lmdz_noirr = add_var_on_mast_level(cen_lmdz_noirr, 'rh', 25, 'rh25m', 'K', 'rh at 25m')\n",
    "    cen_lmdz_irr   = add_var_on_mast_level(cen_lmdz_irr,   'rh', 25, 'rh25m', 'K', 'rh at 25m')\n",
    "    els_lmdz_noirr = add_var_on_mast_level(els_lmdz_noirr, 'rh', 25, 'rh25m', 'K', 'rh at 25m')\n",
    "    els_lmdz_irr   = add_var_on_mast_level(els_lmdz_irr,   'rh', 25, 'rh25m', 'K', 'rh at 25m')\n",
    "    cen_lmdz_noirr = add_var_on_mast_level(cen_lmdz_noirr, 'rh', 50, 'rh50m', 'K', 'rh at 50m')\n",
    "    cen_lmdz_irr   = add_var_on_mast_level(cen_lmdz_irr,   'rh', 50, 'rh50m', 'K', 'rh at 50m')\n",
    "    els_lmdz_noirr = add_var_on_mast_level(els_lmdz_noirr, 'rh', 50, 'rh50m', 'K', 'rh at 50m')\n",
    "    els_lmdz_irr   = add_var_on_mast_level(els_lmdz_irr,   'rh', 50, 'rh50m', 'K', 'rh at 50m')"
   ]
  },
  {
   "cell_type": "markdown",
   "metadata": {},
   "source": [
    "### Golden days"
   ]
  },
  {
   "cell_type": "code",
   "execution_count": null,
   "metadata": {},
   "outputs": [],
   "source": [
    "start_time = '2021-07-21T00:30:00.000000000'\n",
    "day1_end_time = '2021-07-21T23:30:00.000000000'\n",
    "day2_start_time = '2021-07-22T00:30:00.000000000'\n",
    "end_time='2021-07-22T23:30:00.000000000'"
   ]
  },
  {
   "cell_type": "code",
   "execution_count": null,
   "metadata": {},
   "outputs": [],
   "source": [
    "gold_cen_lmdz_noirr = filter_xarray_by_timestamps(cen_lmdz_noirr, start_time, end_time)\n",
    "gold_cen_lmdz_irr = filter_xarray_by_timestamps(cen_lmdz_irr, start_time, end_time)\n",
    "gold_cen_orc_noirr = filter_xarray_by_timestamps(cen_orc_noirr, start_time, end_time)\n",
    "gold_cen_orc_irr = filter_xarray_by_timestamps(cen_orc_irr, start_time, end_time)\n",
    "\n",
    "gold_els_lmdz_noirr = filter_xarray_by_timestamps(els_lmdz_noirr, start_time, end_time)\n",
    "gold_els_lmdz_irr = filter_xarray_by_timestamps(els_lmdz_irr, start_time, end_time)\n",
    "gold_els_orc_noirr = filter_xarray_by_timestamps(els_orc_noirr, start_time, end_time)\n",
    "gold_els_orc_irr = filter_xarray_by_timestamps(els_orc_irr, start_time, end_time)"
   ]
  },
  {
   "cell_type": "code",
   "execution_count": null,
   "metadata": {},
   "outputs": [],
   "source": [
    "#day1\n",
    "day1_cen_lmdz_noirr = filter_xarray_by_timestamps(cen_lmdz_noirr, start_time, day1_end_time)\n",
    "day1_cen_lmdz_irr = filter_xarray_by_timestamps(cen_lmdz_irr, start_time, day1_end_time)\n",
    "day1_cen_orc_noirr = filter_xarray_by_timestamps(cen_orc_noirr, start_time, day1_end_time)\n",
    "day1_cen_orc_irr = filter_xarray_by_timestamps(cen_orc_irr, start_time, day1_end_time)\n",
    "\n",
    "day1_els_lmdz_noirr = filter_xarray_by_timestamps(els_lmdz_noirr, start_time, day1_end_time)\n",
    "day1_els_lmdz_irr = filter_xarray_by_timestamps(els_lmdz_irr, start_time, day1_end_time)\n",
    "day1_els_orc_noirr = filter_xarray_by_timestamps(els_orc_noirr, start_time, day1_end_time)\n",
    "day1_els_orc_irr = filter_xarray_by_timestamps(els_orc_irr, start_time, day1_end_time)\n",
    "\n",
    "#day2\n",
    "day2_cen_lmdz_noirr = filter_xarray_by_timestamps(cen_lmdz_noirr, day2_start_time, end_time)\n",
    "day2_cen_lmdz_irr = filter_xarray_by_timestamps(cen_lmdz_irr, day2_start_time, end_time)\n",
    "day2_cen_orc_noirr = filter_xarray_by_timestamps(cen_orc_noirr, day2_start_time, end_time)\n",
    "day2_cen_orc_irr = filter_xarray_by_timestamps(cen_orc_irr, day2_start_time, end_time)\n",
    "\n",
    "day2_els_lmdz_noirr = filter_xarray_by_timestamps(els_lmdz_noirr, day2_start_time, end_time)\n",
    "day2_els_lmdz_irr = filter_xarray_by_timestamps(els_lmdz_irr, day2_start_time, end_time)\n",
    "day2_els_orc_noirr = filter_xarray_by_timestamps(els_orc_noirr, day2_start_time, end_time)\n",
    "day2_els_orc_irr = filter_xarray_by_timestamps(els_orc_irr, day2_start_time, end_time)"
   ]
  },
  {
   "cell_type": "markdown",
   "metadata": {},
   "source": [
    "## Monthly files for July 2021"
   ]
  },
  {
   "cell_type": "code",
   "execution_count": null,
   "metadata": {},
   "outputs": [],
   "source": [
    "lmdz_noirr_1M_file = '{}/sim267_20210701_20210731_1M_histmth.nc'.format(nat_dir)\n",
    "lmdz_noirr_1M = format_lmdz_HF(lmdz_noirr_1M_file, 'red', 'noirr')\n",
    "\n",
    "lmdz_irr_1M_file = '{}/sim268_20210701_20210731_1M_histmth.nc'.format(nat_dir)\n",
    "lmdz_irr_1M = format_lmdz_HF(lmdz_irr_1M_file, 'blue', 'irr')\n",
    "\n",
    "lmdz_irr_1M"
   ]
  },
  {
   "cell_type": "code",
   "execution_count": null,
   "metadata": {},
   "outputs": [],
   "source": [
    "orc_noirr_1M_file =  '{}/sim267_20210701_20210731_1M_sechiba_history.nc'.format(nat_dir)\n",
    "orc_noirr_1M = format_ORC_HF(orc_noirr_1M_file, 'red', 'noirr')\n",
    "\n",
    "orc_irr_1M_file =  '{}/sim268_20210701_20210731_1M_sechiba_history.nc'.format(nat_dir)\n",
    "orc_irr_1M = format_ORC_HF(orc_irr_1M_file, 'blue', 'irr')\n",
    "orc_irr_1M['irrig_frac'] = orc_irr_1M['irrigmap_dyn']/orc_irr_1M['Areas'] * 100\n",
    "\n",
    "orc_noirr_1M"
   ]
  },
  {
   "cell_type": "markdown",
   "metadata": {},
   "source": [
    "## Roughdyn=N"
   ]
  },
  {
   "cell_type": "code",
   "execution_count": null,
   "metadata": {},
   "outputs": [],
   "source": [
    "lmdz_noroughdyn_file = '{}/sim269_20210701_20210731_HF_histhf.nc'.format(nat_dir)\n",
    "lmdz_noroughdyn = format_lmdz_HF(lmdz_noroughdyn_file, 'green', 'noirr_noroughdyn')\n",
    "\n",
    "orc_noroughdyn_file =  '{}/sim269_20210701_20210731_HF_sechiba_out_2.nc'.format(nat_dir)\n",
    "orc_noroughdyn = format_ORC_HF(orc_noroughdyn_file, 'green', 'noirr_noroughdyn')"
   ]
  },
  {
   "cell_type": "code",
   "execution_count": null,
   "metadata": {},
   "outputs": [],
   "source": [
    "lmdz_noroughdyn_1M_file = '{}/sim269_20210701_20210731_1M_histmth.nc'.format(nat_dir)\n",
    "lmdz_noroughdyn_1M = format_lmdz_HF(lmdz_noroughdyn_1M_file, 'green', 'noirr_noroughdyn')\n",
    "\n",
    "orc_noroughdyn_1M_file =  '{}/sim269_20210701_20210731_1M_sechiba_history.nc'.format(nat_dir)\n",
    "orc_noroughdyn_1M = format_ORC_HF(orc_noroughdyn_1M_file, 'green', 'noirr_noroughdyn')\n",
    "\n",
    "orc_noroughdyn_1M"
   ]
  },
  {
   "cell_type": "code",
   "execution_count": null,
   "metadata": {},
   "outputs": [],
   "source": [
    "#select sites and golden days for nouroughdyn sim\n",
    "cen_lmdz_noroughdyn = sel_closest(lmdz_noroughdyn, lon=Cendrosa_lon,lat=Cendrosa_lat)\n",
    "cen_orc_noroughdyn = sel_closest(orc_noroughdyn, lon=Cendrosa_lon,lat=Cendrosa_lat)\n",
    "els_lmdz_noroughdyn = sel_closest(lmdz_noroughdyn, lon=ElsPlans_lon,lat=ElsPlans_lat)\n",
    "els_orc_noroughdyn = sel_closest(orc_noroughdyn, lon=ElsPlans_lon,lat=ElsPlans_lat)\n",
    "cen_lmdz_noroughdyn.attrs['name']='La Cendrosa no_irr_noroughdyn'\n",
    "cen_orc_noroughdyn.attrs['name']='La Cendrosa no_irr_noroughdyn'\n",
    "els_lmdz_noroughdyn.attrs['name']='Els Plans no_irr_noroughdyn'\n",
    "els_orc_noroughdyn.attrs['name']='Els Plans no_irr_noroughdyn'\n",
    "#add attr linestyle - to nouroughdyn datasets\n",
    "cen_lmdz_noroughdyn.attrs['linestyle']='-'\n",
    "cen_orc_noroughdyn.attrs['linestyle']='-'\n",
    "els_lmdz_noroughdyn.attrs['linestyle']='-'\n",
    "els_orc_noroughdyn.attrs['linestyle']='-'\n",
    "\n",
    "gold_cen_lmdz_noroughdyn = filter_xarray_by_timestamps(cen_lmdz_noroughdyn, start_time, end_time)\n",
    "gold_cen_orc_noroughdyn = filter_xarray_by_timestamps(cen_orc_noroughdyn, start_time, end_time)\n",
    "gold_els_lmdz_noroughdyn = filter_xarray_by_timestamps(els_lmdz_noroughdyn, start_time, end_time)\n",
    "gold_els_orc_noroughdyn = filter_xarray_by_timestamps(els_orc_noroughdyn, start_time, end_time)"
   ]
  },
  {
   "cell_type": "markdown",
   "metadata": {},
   "source": [
    "# Load obs files and edit datasets"
   ]
  },
  {
   "cell_type": "markdown",
   "metadata": {},
   "source": [
    "## RS"
   ]
  },
  {
   "cell_type": "code",
   "execution_count": null,
   "metadata": {},
   "outputs": [],
   "source": [
    "RS_days_list=['1507','1607','1707','2007','2107','2207','2707']\n",
    "\n",
    "cendrosa_dir='../../../obs/LIAISE/LIAISE_LA-CENDROSA_CNRM_RS_L2'\n",
    "cen_files_list=[cendrosa_files_1507,cendrosa_files_1607,cendrosa_files_1707,cendrosa_files_2007,cendrosa_files_2107,cendrosa_files_2207,cendrosa_files_2707]\n",
    "cen_times_list=[cen_1507_times,cen_1607_times,cen_1707_times,cen_2007_times,cen_2107_times,cen_2207_times,cen_2707_times]\n",
    "\n",
    "els_dir='../../../obs/LIAISE/LIAISE_ELS-PLANS_UKMO_radiosondes_L1'\n",
    "els_files_list=[els_files_1507,els_files_1607,els_files_1707,els_files_2007,els_files_2107,els_files_2207,els_files_2707]\n",
    "els_times_list=[els_1507_times,els_1607_times,els_1707_times,els_2007_times,els_2107_times,els_2207_times,els_2707_times]"
   ]
  },
  {
   "cell_type": "code",
   "execution_count": null,
   "metadata": {},
   "outputs": [],
   "source": [
    "cen_RS={}\n",
    "els_RS={}\n",
    "for i in range(len(cen_files_list)):\n",
    "    # print(RS_days_list[i])\n",
    "    cen_RS_day=RS_extract_full_day(cen_files_list[i], cen_times_list[i], cendrosa_dir, format_Cendrosa_RS)\n",
    "    els_RS_day=RS_extract_full_day(els_files_list[i], els_times_list[i], els_dir, format_ElsPlans_RS)\n",
    "    cen_RS[RS_days_list[i]]=cen_RS_day\n",
    "    els_RS[RS_days_list[i]]=els_RS_day"
   ]
  },
  {
   "cell_type": "markdown",
   "metadata": {},
   "source": [
    "## Masts measurements"
   ]
  },
  {
   "cell_type": "code",
   "execution_count": null,
   "metadata": {},
   "outputs": [],
   "source": [
    "def format_Cendrosa_MTO(filename):\n",
    "    ds = xr.open_mfdataset(filename)\n",
    "    ds = ds.assign_coords(time_decimal=ds.time.dt.hour + ds.time.dt.minute / 60)\n",
    "    #add name and plot color\n",
    "    ds.attrs['name'] = 'Cendrosa_MTO'\n",
    "    ds.attrs['plot_color'] = 'black'\n",
    "    ds.attrs['linestyle']='-'\n",
    "\n",
    "    rename_dict = {\n",
    "        #lmdz vars\n",
    "        'ta_2':'t2m',\n",
    "        'shf_1':'sens',\n",
    "        'lhf_1':'flat',\n",
    "        'hur_2':'rh2m',\n",
    "        'hus_2':'q2m',\n",
    "        'ws_2':'wind_speed_10m',\n",
    "        'wd_2':'wind_direction_10m',\n",
    "        'pa':'psol',\n",
    "        'swup':'SWupSFC',\n",
    "        'lwup':'LWupSFC',\n",
    "        'swd':'SWdnSFC',\n",
    "        'lwd':'LWdnSFC',\n",
    "        'rain_cumul':'precip',\n",
    "\n",
    "        'ta_3':'t10m',\n",
    "        'ta_4':'t25m',\n",
    "        'ta_5':'t50m',\n",
    "        'hur_3':'rh10m',\n",
    "        'hur_4':'rh25m',\n",
    "        'hur_5':'rh50m',\n",
    "        'hus_3':'q10m',\n",
    "        'hus_4':'q25m',\n",
    "        'hus_5':'q50m',\n",
    "        'shf_2':'sens25m',\n",
    "        'shf_3':'sens50m',\n",
    "        'lhf_2':'flat50m',\n",
    "        \n",
    "        #orc vars\n",
    "        'soil_temp_1':'soil_temp_06',\n",
    "        'soil_temp_2':'soil_temp_12',\n",
    "        'soil_heat_flux':'Qg',\n",
    "\n",
    "    }\n",
    "    ds = ds.rename(rename_dict)\n",
    "\n",
    "    #change temperatures to K\n",
    "    ds['t2m'] = ds['t2m'] + 273.15\n",
    "    ds['t2m'].attrs['units'] = 'K'\n",
    "    ds['t10m'] = ds['t10m'] + 273.15\n",
    "    ds['t10m'].attrs['units'] = 'K'\n",
    "    ds['t25m'] = ds['t25m'] + 273.15\n",
    "    ds['t25m'].attrs['units'] = 'K'\n",
    "    ds['t50m'] = ds['t50m'] + 273.15\n",
    "    ds['t50m'].attrs['units'] = 'K'\n",
    "    #change sign of Qg\n",
    "    ds['Qg'] = -ds['Qg']\n",
    "    #make netrad fluxes\n",
    "    ds['lwnet'] = ds['LWdnSFC'] - ds['LWupSFC']\n",
    "    ds['lwnet'].attrs['units'] = 'W/m2'\n",
    "    ds['swnet'] = ds['SWdnSFC'] - ds['SWupSFC']\n",
    "    ds['swnet'].attrs['units'] = 'W/m2'\n",
    "    #humidity in top10cm\n",
    "    alpha_SM=0.5\n",
    "    ds['mrsos']=(alpha_SM * ds['soil_moisture_1'] + (1-alpha_SM) * ds['soil_moisture_2']) * 100\n",
    "    ds['mrsos'].attrs['units'] = 'mm'\n",
    "\n",
    "    ds['soil_moisture_1'] = ds['soil_moisture_1'] * 100\n",
    "    ds['soil_moisture_2'] = ds['soil_moisture_2'] * 100\n",
    "    ds['soil_moisture_3'] = ds['soil_moisture_3'] * 100\n",
    "\n",
    "    # #precip in mm/d (initialy in mm/30mn)\n",
    "    # ds['precip'] = ds['precip'] * 2 * 24\n",
    "    # ds['precip'].attrs['units'] = 'mm/d'\n",
    "\n",
    "    return(ds)"
   ]
  },
  {
   "cell_type": "code",
   "execution_count": null,
   "metadata": {},
   "outputs": [],
   "source": [
    "filename = '../../../obs/LIAISE/LIAISE_LA-CENDROSA_CNRM_MTO-FLUX-30MIN_L2/LIAISE_LA-CENDROSA_CNRM_MTO-FLUX-30MIN_L2_2021-07-21_V3.nc'\n",
    "day1_cen_mto = format_Cendrosa_MTO(filename)\n",
    "\n",
    "filename = '../../../obs/LIAISE/LIAISE_LA-CENDROSA_CNRM_MTO-FLUX-30MIN_L2/LIAISE_LA-CENDROSA_CNRM_MTO-FLUX-30MIN_L2_2021-07-22_V3.nc'\n",
    "day2_cen_mto = format_Cendrosa_MTO(filename)\n",
    "\n",
    "#concatenate both ds in gold_cen_mto\n",
    "gold_cen_mto = xr.concat([day1_cen_mto,day2_cen_mto],dim='time')\n",
    "gold_cen_mto"
   ]
  },
  {
   "cell_type": "code",
   "execution_count": null,
   "metadata": {},
   "outputs": [],
   "source": [
    "#load all July obs in one ds\n",
    "cen_mto_filename='../../../obs/LIAISE/LIAISE_LA-CENDROSA_CNRM_MTO-FLUX-30MIN_L2/LIAISE_LA-CENDROSA_CNRM_MTO-FLUX-30MIN_L2_2021-07*_V3.nc'\n",
    "cen_mto = format_Cendrosa_MTO(cen_mto_filename)\n",
    "cen_mto"
   ]
  },
  {
   "cell_type": "code",
   "execution_count": null,
   "metadata": {},
   "outputs": [],
   "source": [
    "def format_ElsPlans_MTO(ds, start_day):\n",
    "    #add name and plot color\n",
    "    ds.attrs['name'] = 'ElsPlans_MTO'\n",
    "    ds.attrs['plot_color'] = 'black'\n",
    "    ds.attrs['linestyle']='--'\n",
    "\n",
    "    rename_dict = {\n",
    "        'HOUR_time':'time',\n",
    "        #lmdz vars\n",
    "        'PRES_subsoil':'psol',\n",
    "        'TEMP_2m':'t2m',\n",
    "        'RHUM_2mB':'rh2m',\n",
    "        'UTOT_10m':'wind_speed_10m',\n",
    "        'DIR_10m':'wind_direction_10m',\n",
    "        'SWUP_rad':'SWupSFC',\n",
    "        'LWUP_rad':'LWupSFC',\n",
    "        'SWDN_rad':'SWdnSFC',\n",
    "        'LWDN_rad':'LWdnSFC',\n",
    "        'RAIN_subsoil' : 'precip',\n",
    "        'TEMP_50m': 't50m',\n",
    "        'RHUM_50m': 'rh50m',\n",
    "        'TEMP_25m': 't25m',\n",
    "        'RHUM_25m': 'rh25m',\n",
    "        'TEMP_10m': 't10m',\n",
    "\n",
    "        #orc vars\n",
    "        'SFLXA_subsoil':'Qg',\n",
    "        'ST01_subsoil':'soil_temp_01',\n",
    "        'ST04_subsoil':'soil_temp_03',\n",
    "        'ST10_subsoil':'soil_temp_12',\n",
    "    }\n",
    "    ds = ds.rename(rename_dict)\n",
    "    # ds = ds.assign_coords(time_decimal=ds.time.dt.hour + ds.time.dt.minute / 60)\n",
    "\n",
    "    #convert time to hour:mn:s\n",
    "    ds['time'] = pd.to_datetime(start_day) + pd.to_timedelta(ds['time'], unit='h')\n",
    "\n",
    "    #add coord time_decimal for diurnal cycle\n",
    "    ds = ds.assign_coords(time_decimal=ds['time'].dt.hour + ds['time'].dt.minute / 60)\n",
    "\n",
    "    #remove all values of 1e11\n",
    "    ds = ds.where(ds != 1e11)\n",
    "    # change temperatures to K\n",
    "    ds['t2m'] = ds['t2m'] + 273.15\n",
    "    ds['t2m'].attrs['units'] = 'K'\n",
    "    ds['t10m'] = ds['t10m'] + 273.15\n",
    "    ds['t10m'].attrs['units'] = 'K'\n",
    "    ds['t25m'] = ds['t25m'] + 273.15\n",
    "    ds['t25m'].attrs['units'] = 'K'\n",
    "    ds['t50m'] = ds['t50m'] + 273.15\n",
    "    ds['t50m'].attrs['units'] = 'K'\n",
    "    #get turbulent fluxes\n",
    "    # Latent heat of vaporization of water in J/kg\n",
    "    lambda_v = 2.5e6\n",
    "    ds['flat'] = ds['WQ_2m'] * lambda_v\n",
    "    ds['flat'].attrs['units'] = 'W/m2'\n",
    "    # air density in kg/m3 and specific heat capacity of air in J/kg/K\n",
    "    rho=1.225\n",
    "    cp=1004.67\n",
    "    ds['sens'] = ds['WT_2m'] * rho * cp\n",
    "    ds['sens'].attrs['units'] = 'W/m2'\n",
    "    # make net rad fluxes\n",
    "    ds['lwnet'] = ds['LWdnSFC'] - ds['LWupSFC']\n",
    "    ds['lwnet'].attrs['units'] = 'W/m2'\n",
    "    ds['swnet'] = ds['SWdnSFC'] - ds['SWupSFC']\n",
    "    ds['swnet'].attrs['units'] = 'W/m2'\n",
    "    #change sign of Qg\n",
    "    ds['Qg'] = -ds['Qg']\n",
    "    #humidity in top10cm\n",
    "    # alpha_SM=0.5\n",
    "    # ds['mrsos']=(alpha_SM * ds['SM02_subsoil'] + (1-alpha_SM) * ds['SM10_subsoil']) * 10\n",
    "    ds['mrsos'] = ds['SM10_subsoil']\n",
    "    ds['mrsos'].attrs['units'] = 'mm'\n",
    "\n",
    "    return(ds)"
   ]
  },
  {
   "cell_type": "code",
   "execution_count": null,
   "metadata": {},
   "outputs": [],
   "source": [
    "filename =  '../../../obs/LIAISE/LIAISE_ELS-PLANS_UKMO_MTO-30MIN_L2/LIAISE_ELS-PLANS_UKMO_MTO-30MIN_L2_20210721_V4.0.dat'\n",
    "ds = dat_to_xarray(filename, 152, 153)\n",
    "day1_els_mto = format_ElsPlans_MTO(ds, start_day='2021-07-21')\n",
    "# day1_els_mto\n",
    "\n",
    "filename =  '../../../obs/LIAISE/LIAISE_ELS-PLANS_UKMO_MTO-30MIN_L2/LIAISE_ELS-PLANS_UKMO_MTO-30MIN_L2_20210722_V4.0.dat'\n",
    "ds = dat_to_xarray(filename, 152, 153)\n",
    "day2_els_mto = format_ElsPlans_MTO(ds, start_day='2021-07-22')\n",
    "# day2_els_mto\n",
    "\n",
    "#concatenate\n",
    "gold_els_mto = xr.concat([day1_els_mto,day2_els_mto],dim='time')\n",
    "gold_els_mto"
   ]
  },
  {
   "cell_type": "code",
   "execution_count": null,
   "metadata": {},
   "outputs": [],
   "source": [
    "july_days=['01', '02', '03', '04', '05', '06', '07', '08', '09', '10', '11', '12', '13', '14', '15', '16', '17', '18', '19', '20', '21', '22', '23', '24', '25', '26', '27', '28', '29', '30', '31']\n",
    "for day in july_days:\n",
    "    filename =  '../../../obs/LIAISE/LIAISE_ELS-PLANS_UKMO_MTO-30MIN_L2/LIAISE_ELS-PLANS_UKMO_MTO-30MIN_L2_202107{}_V4.0.dat'.format(day)\n",
    "    ds = dat_to_xarray(filename, 152, 153)\n",
    "    day_els_mto = format_ElsPlans_MTO(ds, start_day='2021-07-{}'.format(day))\n",
    "    if day=='01':\n",
    "        els_mto=day_els_mto\n",
    "    else:\n",
    "        els_mto=xr.concat([els_mto,day_els_mto],dim='time')\n",
    "els_mto"
   ]
  },
  {
   "cell_type": "code",
   "execution_count": null,
   "metadata": {},
   "outputs": [],
   "source": [
    "# filename =  '../../../obs/LIAISE/LIAISE_ELS-PLANS_UKMO_MTO-30MIN_L2/LIAISE_ELS-PLANS_UKMO_MTO-30MIN_L2_20210722_V4.0.dat'\n",
    "# ds = dat_to_xarray(filename, 152, 153)\n",
    "# els_mto = format_ElsPlans_MTO(ds, start_day='2021-07-22')"
   ]
  },
  {
   "cell_type": "markdown",
   "metadata": {},
   "source": [
    "# Maps"
   ]
  },
  {
   "cell_type": "code",
   "execution_count": null,
   "metadata": {},
   "outputs": [],
   "source": [
    "file=orc_irr_1M_file\n",
    "var='evap'\n",
    "\n",
    "lat_min=41.35\n",
    "lat_max=41.82\n",
    "lon_min=0.45\n",
    "lon_max=1.35\n",
    "\n",
    "vmin=00.0\n",
    "vmax=7000\n",
    "cmap=reds\n",
    "# (file, var, vmin, vmax, cmap)=(orc_irr_1M_file, 'irrigation', 0, 0.2, wet)\n",
    "\n",
    "plot_ICO_from_netcdf(file, var, \n",
    "                     cmap=cmap,\n",
    "                    #  lon_min=lon_min, lon_max=lon_max, lat_min=lat_min, lat_max=lat_max,\n",
    "                    #  vmin=vmin, vmax=vmax, \n",
    "                    #  title='Irrigation (July 2021, mm/d)'\n",
    "    )\n",
    "\n",
    "ax = plt.gca()\n",
    "ax.plot(Cendrosa_lon, Cendrosa_lat, 'go', markersize=10, transform=ccrs.Geodetic())\n",
    "ax.plot(ElsPlans_lon, ElsPlans_lat, 'go', markersize=10, transform=ccrs.Geodetic())\n",
    "ax.plot(Cendrosa_Longitude, Cendrosa_Latitude, 'ro', markersize=10, transform=ccrs.Geodetic())\n",
    "ax.plot(ElsPlans_Longitude, ElsPlans_Latitude, 'ro', markersize=10, transform=ccrs.Geodetic())"
   ]
  },
  {
   "cell_type": "markdown",
   "metadata": {},
   "source": [
    "# Time series"
   ]
  },
  {
   "cell_type": "code",
   "execution_count": null,
   "metadata": {},
   "outputs": [],
   "source": [
    "var='t2m'\n",
    "modorc=False\n",
    "timeslot='gold' \n",
    "# timeslot='gold'\n",
    "if timeslot=='gold':\n",
    "    if modorc:\n",
    "        ds1=gold_cen_orc_irr\n",
    "        ds2=gold_cen_orc_noirr\n",
    "        ds3=gold_els_orc_irr\n",
    "        ds4=gold_els_orc_noirr\n",
    "        ds7=gold_cen_orc_noroughdyn\n",
    "        ds8=gold_els_orc_noroughdyn\n",
    "    else:\n",
    "        ds2=gold_cen_lmdz_noirr\n",
    "        ds1=gold_cen_lmdz_irr\n",
    "        ds3=gold_els_lmdz_irr\n",
    "        ds4=gold_els_lmdz_noirr\n",
    "        ds7=gold_cen_lmdz_noroughdyn\n",
    "        ds8=gold_els_lmdz_noroughdyn\n",
    "    ds5=gold_cen_mto\n",
    "    ds6=gold_els_mto\n",
    "elif timeslot=='july':\n",
    "    if modorc:\n",
    "        ds1=cen_orc_irr\n",
    "        ds2=cen_orc_noirr\n",
    "        ds3=els_orc_irr\n",
    "        ds4=els_orc_noirr\n",
    "        ds7=cen_orc_noroughdyn\n",
    "        ds8=els_orc_noroughdyn\n",
    "    else:\n",
    "        ds2=cen_lmdz_noirr\n",
    "        ds1=cen_lmdz_irr\n",
    "        ds3=els_lmdz_irr\n",
    "        ds4=els_lmdz_noirr\n",
    "        ds7=cen_lmdz_noroughdyn\n",
    "        ds8=els_lmdz_noroughdyn\n",
    "    ds5=cen_mto\n",
    "    ds6=els_mto\n",
    "\n",
    "\n",
    "ds_list=[ds1, ds2, ds5]#, ds7]\n",
    "# ds_list=[ds1, ds2, ds3, ds4, ds5, ds6]\n",
    "\n",
    "vmin=-0\n",
    "vmax=40\n",
    "vmin, vmax=None, None\n",
    "# title='{} ({})'.format(var, ds1[var].attrs['units'])\n",
    "title=None\n",
    "\n",
    "time_series_ave(ds_list, var, ds_colors=True, \n",
    "                # ds_linestyle=True, \n",
    "                title=title, vmin=vmin, vmax=vmax)\n",
    "\n",
    "vmin, vmax=None, None\n",
    "ds_list=[ds3, ds4, ds6]#, ds8]\n",
    "# ds_list=[ds4, ds8]\n",
    "time_series_ave(ds_list, var, ds_colors=True, ds_linestyle=True, title=title, vmin=vmin, vmax=vmax)"
   ]
  },
  {
   "cell_type": "code",
   "execution_count": null,
   "metadata": {},
   "outputs": [],
   "source": [
    "#diurnal cycles\n",
    "var='q2m'\n",
    "modorc=False\n",
    "if modorc:\n",
    "    ds1=cen_orc_irr\n",
    "    ds2=cen_orc_noirr\n",
    "    ds3=els_orc_irr\n",
    "    ds4=els_orc_noirr\n",
    "    ds7=cen_orc_noroughdyn\n",
    "    ds8=els_orc_noroughdyn\n",
    "else:\n",
    "    ds2=cen_lmdz_noirr\n",
    "    ds1=cen_lmdz_irr\n",
    "    ds3=els_lmdz_irr\n",
    "    ds4=els_lmdz_noirr\n",
    "    ds7=cen_lmdz_noroughdyn\n",
    "    ds8=els_lmdz_noroughdyn\n",
    "ds5=cen_mto\n",
    "ds6=els_mto\n",
    "\n",
    "\n",
    "ds_list=[ds1, ds2, ds5]#, ds7]\n",
    "# ds_list=[ds1, ds2, ds3, ds4, ds5, ds6]\n",
    "# ds_list=[ ds2, ds7]\n",
    "\n",
    "vmin=6.5\n",
    "vmax=12\n",
    "# vmin, vmax=None, None\n",
    "title='{} ({})'.format(var, ds1[var].attrs['units'])\n",
    "# title='Soil temperature 6cm (°C)'\n",
    "\n",
    "diurnal_cycle_ave(ds_list, var, ds_colors=True, \n",
    "                # ds_linestyle=True, \n",
    "                title=title, \n",
    "                vmin=vmin, vmax=vmax\n",
    "                )\n",
    "\n",
    "# vmin, vmax=None, None\n",
    "# ds_list=[ds3, ds4, ds6]#, ds8]\n",
    "# # ds_list=[ds4, ds8]\n",
    "# diurnal_cycle_ave(ds_list, var, ds_colors=True, title=title, \n",
    "#                 #   ds_linestyle=True,\n",
    "#                   vmin=vmin, vmax=vmax\n",
    "#                   )   "
   ]
  },
  {
   "cell_type": "code",
   "execution_count": null,
   "metadata": {},
   "outputs": [],
   "source": [
    "#plot similar vars in obs to see how they compare\n",
    "ds=cen_mto\n",
    "vars=['soil_moisture_1','soil_moisture_2','soil_moisture_3', 'mrsos']\n",
    "# vars=['mrsos','precip']\n",
    "plotvars=[ds[var] for var in vars]+[cen_orc_irr['mrsos']]\n",
    "labels=vars + ['mrsos_ORC_irr']\n",
    "time_series(plotvars, labels, title='Cendrosa MTO')\n",
    "\n",
    "ds=els_mto\n",
    "vars=['SM02_subsoil','SM10_subsoil','PR10_subsoil','PR20_subsoil']\n",
    "plotvars=[ds[var] for var in vars]+[els_orc_irr['mrsos']]\n",
    "labels=vars+ ['mrsos_ORC_irr']\n",
    "time_series(plotvars, labels, title='Els Plans MTO')"
   ]
  },
  {
   "cell_type": "markdown",
   "metadata": {},
   "source": [
    "# Vertical profiles"
   ]
  },
  {
   "cell_type": "code",
   "execution_count": null,
   "metadata": {},
   "outputs": [],
   "source": [
    "var='tke'\n",
    "ds1=day1_els_lmdz_irr\n",
    "ds2=day1_els_lmdz_noirr\n",
    "ds3=day1_cen_lmdz_irr\n",
    "ds4=day1_cen_lmdz_noirr\n",
    "\n",
    "ds_list=[ds1, ds2, ds3, ds4]\n",
    "# ds_list=[ds3, ds4]\n",
    "ds_list=[ds1]\n",
    "# ds_list=[cen_lmdz_irr]\n",
    "\n",
    "# obs_ds_list=[Cendrosa_RS]\n",
    "obs_ds_list=None\n",
    "\n",
    "altmax=200\n",
    "title=None\n",
    "\n",
    "# profile_preslevs_local(ds_list, var, title=title, preslevelmax=preslevelmax)\n",
    "profile_altitude_local_mean(ds_list, var, title=title, altmax=altmax,\n",
    "                            obs_ds_list=obs_ds_list,\n",
    "                            nbins=None,\n",
    "                            substract_gl=True,\n",
    "                            )"
   ]
  },
  {
   "cell_type": "code",
   "execution_count": null,
   "metadata": {},
   "outputs": [],
   "source": [
    "ds1=day1_els_lmdz_irr\n",
    "ds2=day1_els_lmdz_noirr\n",
    "ds3=cen_lmdz_irr\n",
    "ds4=cen_lmdz_noirr\n",
    "\n",
    "ds_list, obs_dict=[day1_els_lmdz_irr, day1_els_lmdz_noirr], els_RS_2107\n",
    "ds_list, obs_dict=[day1_cen_lmdz_irr, day1_cen_lmdz_noirr], cen_RS_2107\n",
    "\n",
    "# ds_list, obs_dict=[day2_els_lmdz_irr, day2_els_lmdz_noirr], els_RS_2207\n",
    "ds_list, obs_dict=[day2_cen_lmdz_irr, day2_cen_lmdz_noirr], cen_RS_2207\n",
    "\n",
    "# ds_list, obs_dict =[day1_cen_lmdz_irr], None\n",
    "# obs_dict=None\n",
    "\n",
    "altmax=2500\n",
    "title=None\n",
    "\n",
    "# times=els_2107_times+0.5\n",
    "# times=[x + 0.5 for x in cen_2107_times]\n",
    "times=[12.25]\n",
    "\n",
    "var='theta'\n",
    "var, xmin, xmax = 'theta', 298, 314\n",
    "# var, xmin, xmax = 'ovap', 2, 14\n",
    "# var, xmin, xmax = 'wind_speed', 0, 9\n",
    "# var, xmin, xmax = 'wind_direction', 0, 360\n",
    "# xmin, xmax = None, None\n",
    "\n",
    "# profile_preslevs_local(ds_list, var, title=title, preslevelmax=preslevelmax)\n",
    "profile_altitude_multipletimes_obs(ds_list, obs_dict, var, times, \n",
    "                                 # title=title, \n",
    "                                 altmax=altmax, xmin=xmin, xmax=xmax, \n",
    "                                 # nbins=5,\n",
    "                                 substract_gl=True,\n",
    "                                 simfreq='30mn'\n",
    "                                )"
   ]
  },
  {
   "cell_type": "markdown",
   "metadata": {},
   "source": [
    "# Site caracterization"
   ]
  },
  {
   "cell_type": "code",
   "execution_count": null,
   "metadata": {},
   "outputs": [],
   "source": [
    "cen_orc_irr_1M=sel_closest(orc_irr_1M, Cendrosa_lon, Cendrosa_lat)\n",
    "cen_orc_noirr_1M=sel_closest(orc_noirr_1M, Cendrosa_lon, Cendrosa_lat)\n",
    "els_orc_irr_1M=sel_closest(orc_irr_1M, ElsPlans_lon, ElsPlans_lat)\n",
    "els_orc_noirr_1M=sel_closest(orc_noirr_1M, ElsPlans_lon, ElsPlans_lat)\n",
    "\n",
    "#rename ds according to site and irr\n",
    "cen_orc_irr_1M.attrs['name']='La Cendrosa irr'\n",
    "cen_orc_noirr_1M.attrs['name']='La Cendrosa no_irr'\n",
    "els_orc_irr_1M.attrs['name']='Els Plans irr'\n",
    "els_orc_noirr_1M.attrs['name']='Els Plans no_irr'\n",
    "\n",
    "cen_orc_irr_1M"
   ]
  },
  {
   "cell_type": "code",
   "execution_count": null,
   "metadata": {},
   "outputs": [],
   "source": [
    "cen_lmdz_irr_1M=sel_closest(lmdz_irr_1M, Cendrosa_lon, Cendrosa_lat)\n",
    "cen_lmdz_noirr_1M=sel_closest(lmdz_noirr_1M, Cendrosa_lon, Cendrosa_lat)\n",
    "els_lmdz_irr_1M=sel_closest(lmdz_irr_1M, ElsPlans_lon, ElsPlans_lat)\n",
    "els_lmdz_noirr_1M=sel_closest(lmdz_noirr_1M, ElsPlans_lon, ElsPlans_lat)\n",
    "\n",
    "#rename ds according to site and irr\n",
    "cen_lmdz_irr_1M.attrs['name']='La Cendrosa irr'\n",
    "cen_lmdz_noirr_1M.attrs['name']='La Cendrosa no_irr'\n",
    "els_lmdz_irr_1M.attrs['name']='Els Plans irr'\n",
    "els_lmdz_noirr_1M.attrs['name']='Els Plans no_irr'\n",
    "\n",
    "cen_lmdz_irr_1M"
   ]
  },
  {
   "cell_type": "code",
   "execution_count": null,
   "metadata": {},
   "outputs": [],
   "source": [
    "def process_list(input_list):\n",
    "    print( [round(x * 100, 1) for x in input_list])"
   ]
  },
  {
   "cell_type": "code",
   "execution_count": null,
   "metadata": {},
   "outputs": [],
   "source": [
    "process_list(cen_orc_irr_1M['soiltile'].values)\n",
    "process_list(cen_orc_irr_1M['maxvegetfrac'].values[0])\n",
    "process_list(cen_orc_irr_1M['vegetfrac'].values[0])"
   ]
  },
  {
   "cell_type": "code",
   "execution_count": null,
   "metadata": {},
   "outputs": [],
   "source": [
    "process_list(els_orc_irr_1M['soiltile'].values)\n",
    "process_list(els_orc_irr_1M['maxvegetfrac'].values[0])\n",
    "process_list(els_orc_irr_1M['vegetfrac'].values[0])"
   ]
  },
  {
   "cell_type": "code",
   "execution_count": null,
   "metadata": {},
   "outputs": [],
   "source": [
    "def round_value(val):\n",
    "    if isinstance(val, xr.DataArray):\n",
    "        return round(float(val.values), 1)\n",
    "    elif isinstance(val, (int, float)):\n",
    "        return round(val, 2)\n",
    "    return val"
   ]
  },
  {
   "cell_type": "code",
   "execution_count": null,
   "metadata": {},
   "outputs": [],
   "source": [
    "orc_varlist=['tot_bare_soil', 'LAImean', 'albedo_glob',\n",
    "             'irrig_frac', 'aei_sw', 'root_deficit', 'netirrig','irrigation',\n",
    "             'mrsos', 'temp_sol', 'rain']\n",
    "orc_ds_list=[cen_orc_irr_1M, els_orc_irr_1M]\n",
    "\n",
    "rows = []\n",
    "for ds in orc_ds_list:\n",
    "    row_data = {}\n",
    "    for var in orc_varlist:\n",
    "        row_data[var] = ds[var].values[0]\n",
    "    rows.append(row_data)\n",
    "\n",
    "df = pd.DataFrame(rows)\n",
    "df=df.round(2)\n",
    "df.index = [ds.attrs['name'] for ds in orc_ds_list]\n",
    "\n",
    "df"
   ]
  },
  {
   "cell_type": "code",
   "execution_count": null,
   "metadata": {},
   "outputs": [],
   "source": [
    "lmdz_varlist=['ground_level','psol','t2m','flat', 'sens',\n",
    "               'SWdnSFC', 'LWdnSFC', 'SWupSFC', 'LWupSFC']\n",
    "lmdz_ds_list=[cen_lmdz_irr_1M, els_lmdz_irr_1M]\n",
    "\n",
    "rows = []\n",
    "for ds in lmdz_ds_list:\n",
    "    row_data = {}\n",
    "    for var in lmdz_varlist:\n",
    "        row_data[var] = round(ds[var].values[0],1)\n",
    "        # print (var, row_data[var])\n",
    "    rows.append(row_data)\n",
    "\n",
    "df = pd.DataFrame(rows)\n",
    "df = df.map(round_value)\n",
    "df.index = [ds.attrs['name'] for ds in lmdz_ds_list]\n",
    "\n",
    "df"
   ]
  },
  {
   "cell_type": "code",
   "execution_count": null,
   "metadata": {},
   "outputs": [],
   "source": [
    "ds=els_lmdz_noirr_1M\n",
    "# ds=day2_els_lmdz_irr\n",
    "(ds['geoph']- ds['ground_level']).values"
   ]
  }
 ],
 "metadata": {
  "kernelspec": {
   "display_name": "env1",
   "language": "python",
   "name": "python3"
  },
  "language_info": {
   "codemirror_mode": {
    "name": "ipython",
    "version": 3
   },
   "file_extension": ".py",
   "mimetype": "text/x-python",
   "name": "python",
   "nbconvert_exporter": "python",
   "pygments_lexer": "ipython3",
   "version": "3.12.2"
  }
 },
 "nbformat": 4,
 "nbformat_minor": 2
}
