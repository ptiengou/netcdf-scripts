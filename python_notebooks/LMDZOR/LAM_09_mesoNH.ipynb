{
 "cells": [
  {
   "cell_type": "markdown",
   "metadata": {},
   "source": [
    "# Imports and setting up viz\n",
    "\n",
    "NB : conda lam1env (Python3.12)"
   ]
  },
  {
   "cell_type": "code",
   "execution_count": null,
   "metadata": {},
   "outputs": [],
   "source": [
    "%load_ext autoreload\n",
    "%autoreload 2\n",
    "%matplotlib inline\n",
    "\n",
    "#import personnal tools\n",
    "import sys\n",
    "sys.path.append('../../python_tools/')\n",
    "from tools import *\n",
    "from tools_mapping import *\n",
    "from tools_hf import *\n",
    "from tools_native import *\n",
    "from tools_LIAISE import *\n",
    "from tools_mesoNH import *\n",
    "\n",
    "# sys.path.append('../../python_tools/aborella/PLOTS/')\n",
    "# from datasets import *\n",
    "sys.path.append('../../python_tools/aborella/UTIL/')\n",
    "import xr_utils"
   ]
  },
  {
   "cell_type": "code",
   "execution_count": null,
   "metadata": {},
   "outputs": [],
   "source": [
    "psy.rcParams['auto_show'] = True\n",
    "mpl.rcParams['figure.figsize'] = [10., 8.]"
   ]
  },
  {
   "cell_type": "markdown",
   "metadata": {},
   "source": [
    "# Load model files and edit datasets"
   ]
  },
  {
   "cell_type": "code",
   "execution_count": null,
   "metadata": {},
   "outputs": [],
   "source": [
    "mesoNH_dir = '../../../mesoNH_simulations'"
   ]
  },
  {
   "cell_type": "code",
   "execution_count": null,
   "metadata": {},
   "outputs": [],
   "source": [
    "def format_MesoNH_outputs_basic(filename, ds_name=None):\n",
    "    ds = xr.open_mfdataset(filename)\n",
    "    ds.attrs['name']= ds_name\n",
    "\n",
    "    rename_dict={\n",
    "        'time':'start_time',\n",
    "        'longitude':'lon',\n",
    "        'latitude':'lat'\n",
    "    }\n",
    "    ds = ds.rename(rename_dict)\n",
    "\n",
    "    # Add time coordinate\n",
    "    # Assuming 'time' coordinate is the starting time.\n",
    "    base_time = pd.to_datetime(ds[\"start_time\"].isel(start_time=0).item())\n",
    "    print(f\"Base time for the dataset: {base_time}\")\n",
    "    # Create a timedelta for each hour\n",
    "    hourly_offsets = pd.to_timedelta(ds[\"record\"].values, unit='h')\n",
    "    new_time_vals = base_time + hourly_offsets\n",
    "    # Assign new_time as a new coordinate, linked to the 'record' dimension\n",
    "    ds = ds.assign_coords(time=(\"record\", new_time_vals))\n",
    "    ds = ds.swap_dims({\"record\": \"time\"})\n",
    "    #drop start_time and record\n",
    "    ds = ds.drop_vars(['start_time'])\n",
    "    ds = ds.assign_coords(time_decimal=ds.time.dt.hour + ds.time.dt.minute / 60)\n",
    "\n",
    "    if 'LE_ISBA' in ds:\n",
    "        ds = ds.rename({'LE_ISBA': 'flat'})\n",
    "        ds['flat'].attrs['long_name'] = 'Latent Heat Flux on natural areas'\n",
    "        ds['flat'].attrs['units'] = 'W m⁻²'\n",
    "    if 'H_ISBA' in ds:\n",
    "        ds = ds.rename({'H_ISBA': 'sens'})\n",
    "        ds['sens'].attrs['long_name'] = 'Sensible Heat Flux on natural areas'\n",
    "        ds['sens'].attrs['units'] = 'W m⁻²'\n",
    "    if 'HU2M_ISBA' in ds:\n",
    "        ds['rh2m'] = ds['HU2M_ISBA'] * 100.0 \n",
    "        ds['rh2m'].attrs['long_name'] = 'Relative Humidity at 2m'\n",
    "        ds['rh2m'].attrs['units'] = '%'\n",
    "    if 'T2M_ISBA' in ds:\n",
    "        ds = ds.rename({'T2M_ISBA': 't2m'})\n",
    "        ds['t2m'].attrs['long_name'] = 'Temperature at 2m'\n",
    "        # ds['t2m'] = ds['t2m'] - 273.15\n",
    "        ds['t2m'].attrs['units'] = 'K'\n",
    "    if 'SWD' in ds:\n",
    "        ds = ds.rename({'SWD': 'SWdnSFC'})\n",
    "        ds['SWdnSFC'].attrs['long_name'] = 'Downward Shortwave Radiation at Surface'\n",
    "        ds['SWdnSFC'].attrs['units'] = 'W m⁻²'\n",
    "\n",
    "    return(ds)"
   ]
  },
  {
   "cell_type": "code",
   "execution_count": null,
   "metadata": {},
   "outputs": [],
   "source": [
    "filename='{}/LIAIS.1*.nc'.format(mesoNH_dir)\n",
    "ds_orig = format_MesoNH_outputs_basic(filename)\n",
    "ds_orig"
   ]
  },
  {
   "cell_type": "markdown",
   "metadata": {},
   "source": [
    "# Maps"
   ]
  },
  {
   "cell_type": "code",
   "execution_count": null,
   "metadata": {},
   "outputs": [],
   "source": [
    "var='flat'\n",
    "vmin=0\n",
    "vmax=500\n",
    "# vmin,vmax=None, None\n",
    "cmap=blues\n",
    "map_mesoNH_timestamp_restrict(ds_orig, \n",
    "                     var,\n",
    "                     vmin=vmin, vmax=vmax, cmap=cmap,\n",
    "                     timestamp='2021-07-20T12:00:00',\n",
    "                     add_liaise=True,\n",
    "                    lon_min=0.6, \n",
    "                    lon_max=1.4, \n",
    "                    lat_min=41.37, \n",
    "                    lat_max=41.92,\n",
    "                    poly=both_cells\n",
    "                     )"
   ]
  },
  {
   "cell_type": "code",
   "execution_count": null,
   "metadata": {},
   "outputs": [],
   "source": [
    "var='flat'\n",
    "vmin=-0\n",
    "vmax=200\n",
    "# vmin,vmax=None, None\n",
    "cmap=blues\n",
    "map_mesoNH_mean_restrict(ds_orig, \n",
    "                 var,\n",
    "                 vmin=vmin, vmax=vmax, cmap=cmap,\n",
    "                 title='ISBA latent heat flux mean (14-31 July)',\n",
    "                 add_liaise=True,\n",
    "                lon_min=0.6, \n",
    "                lon_max=1.4, \n",
    "                lat_min=41.37, \n",
    "                lat_max=41.92,\n",
    "                poly=both_cells,\n",
    "                label='Latent heat flux (W m⁻²)',\n",
    "                 )"
   ]
  },
  {
   "cell_type": "markdown",
   "metadata": {},
   "source": [
    "# Subdataset for ICOLMDZ grid cells"
   ]
  },
  {
   "cell_type": "code",
   "execution_count": null,
   "metadata": {},
   "outputs": [],
   "source": [
    "ds_elsplans_cell= subset_dataset_by_polygon(ds_orig, elsplans_cell, \n",
    "                                            name='Els Plans_mesoNH_mean',\n",
    "                                            plot_color='orange')\n",
    "ds_cendrosa_cell= subset_dataset_by_polygon(ds_orig, cendrosa_cell, \n",
    "                                            name='La Cendrosa_mesoNH_mean',\n",
    "                                            plot_color='orange')"
   ]
  },
  {
   "cell_type": "code",
   "execution_count": null,
   "metadata": {},
   "outputs": [],
   "source": [
    "#select subdataset for precisely each site\n",
    "cendrosa_exact = select_dataset_lon_lat(ds_orig, \n",
    "                                        lon=Cendrosa_Longitude, lat=Cendrosa_Latitude, \n",
    "                                        name='La Cendrosa_mesoNH_exact',\n",
    "                                        plot_color='purple')"
   ]
  },
  {
   "cell_type": "code",
   "execution_count": null,
   "metadata": {},
   "outputs": [],
   "source": [
    "elsplans_exact = select_dataset_lon_lat(ds_orig, \n",
    "                                        lon=ElsPlans_Longitude, lat=ElsPlans_Latitude, \n",
    "                                        name='Els Plans_mesoNH_exact', \n",
    "                                        plot_color='purple')"
   ]
  },
  {
   "cell_type": "code",
   "execution_count": null,
   "metadata": {},
   "outputs": [],
   "source": [
    "map_mesoNH_timestamp(ds_elsplans_cell,\n",
    "                 var='flat',\n",
    "                 vmin=0, vmax=250, cmap=myvir,\n",
    "                #  title='Latent Heat Flux mean (14-31/07/2021) in Ebro basin',\n",
    "                 add_liaise=True,\n",
    "                 timestamp='2021-07-20T12:00:00',\n",
    "                 )"
   ]
  },
  {
   "cell_type": "code",
   "execution_count": null,
   "metadata": {},
   "outputs": [],
   "source": [
    "ds=ds_cendrosa_cell\n",
    "# ds=ds_elsplans_cell\n",
    "timestamp='2021-07-20T12:00:00'\n",
    "var='sens'\n",
    "xmin=0\n",
    "xmax=550\n",
    "nbins=11\n",
    "bins_timestamp(ds, var, timestamp, nbins=nbins, xmin=xmin, xmax=xmax)"
   ]
  },
  {
   "cell_type": "markdown",
   "metadata": {},
   "source": [
    "# Time series"
   ]
  },
  {
   "cell_type": "code",
   "execution_count": null,
   "metadata": {},
   "outputs": [],
   "source": [
    "var='flat'\n",
    "ds=ds_orig\n",
    "vmin=0\n",
    "vmax=200\n",
    "time_series_lonlat_mesoNH(ds, var, \n",
    "                          lon=ElsPlans_lon, \n",
    "                          lat=ElsPlans_lat,\n",
    "                          vmin=vmin, vmax=vmax\n",
    "                          )"
   ]
  },
  {
   "cell_type": "code",
   "execution_count": null,
   "metadata": {},
   "outputs": [],
   "source": [
    "var='sens'\n",
    "ds=ds_cendrosa_cell\n",
    "ds=ds_elsplans_cell\n",
    "vmin=0\n",
    "vmax=200\n",
    "vmin,vmax=None, None\n",
    "time_series_ave_mesoNH(ds, var, \n",
    "                    #    vmin=vmin, vmax=vmax\n",
    "                       )"
   ]
  },
  {
   "cell_type": "markdown",
   "metadata": {},
   "source": [
    "# Compare with LMDZ"
   ]
  },
  {
   "cell_type": "markdown",
   "metadata": {},
   "source": [
    "## Load LMDZ files"
   ]
  },
  {
   "cell_type": "code",
   "execution_count": null,
   "metadata": {},
   "outputs": [],
   "source": [
    "# nat_dir='../../../JZ_simu_outputs/LAM/LAM_1500_60/hourly_native'\n",
    "nat_dir='../../../JZ_simu_outputs/LAM/LAM_1500_60/halfhour_native'\n",
    "\n",
    "rough_dir='../../../JZ_simu_outputs/LAM/LAM_1500_60/roughdyn_z0ratios'\n",
    "boost_irrig_dir= '../../../JZ_simu_outputs/LAM/LAM_1500_60/boost_irrig'\n",
    "change_pft_dir= '../../../JZ_simu_outputs/LAM/LAM_1500_60/change_pft'"
   ]
  },
  {
   "cell_type": "code",
   "execution_count": null,
   "metadata": {},
   "outputs": [],
   "source": [
    "noirr=True\n",
    "irr100=True\n",
    "routing_restart_full_beta1=True\n"
   ]
  },
  {
   "cell_type": "code",
   "execution_count": null,
   "metadata": {},
   "outputs": [],
   "source": [
    "#load LMDZ\n",
    "if noirr:\n",
    "    lmdz_noirr_file = '{}/sim267_20210701_20210731_HF_histhf.nc'.format(nat_dir)\n",
    "    lmdz_noirr = format_lmdz_HF(lmdz_noirr_file, 'red', 'noirr')\n",
    "    lmdz_noirr = lmdz_noirr.sel(time=slice('2021-07-14', '2021-07-30'))\n",
    "    cen_lmdz_noirr, els_lmdz_noirr  , sop_cen_lmdz_noirr,   sop_els_lmdz_noirr = select_liaise_sites_sop(lmdz_noirr, 'no_irr')\n"
   ]
  },
  {
   "cell_type": "code",
   "execution_count": null,
   "metadata": {},
   "outputs": [],
   "source": [
    "if irr100:\n",
    "    dir=boost_irrig_dir\n",
    "    sim_name='sim275'\n",
    "    color='blue'\n",
    "    label='irr'\n",
    "\n",
    "    lmdz_irr100_file = '{}/{}_20210701_20210731_HF_histhf.nc'.format(dir, sim_name)\n",
    "    lmdz_irr100 = format_lmdz_HF(lmdz_irr100_file, color, label)\n",
    "    lmdz_irr100 = lmdz_irr100.sel(time=slice('2021-07-14', '2021-07-30'))\n",
    "    cen_lmdz_irr100, els_lmdz_irr100  , sop_cen_lmdz_irr100,   sop_els_lmdz_irr100 = select_liaise_sites_sop(lmdz_irr100, label)\n"
   ]
  },
  {
   "cell_type": "code",
   "execution_count": null,
   "metadata": {},
   "outputs": [],
   "source": [
    "if routing_restart_full_beta1 :\n",
    "    dir=boost_irrig_dir\n",
    "    sim_name='sim293'\n",
    "    color='green'\n",
    "    label='irr_boost'\n",
    "\n",
    "    lmdz_routingfull_beta1_file = '{}/{}_20210701_20210731_HF_histhf.nc'.format(dir, sim_name)\n",
    "    lmdz_routingfull_beta1 = format_lmdz_HF(lmdz_routingfull_beta1_file, color, label)\n",
    "    lmdz_routingfull_beta1 = lmdz_routingfull_beta1.sel(time=slice('2021-07-14', '2021-07-30'))\n",
    "    cen_lmdz_routingfull_beta1, els_lmdz_routingfull_beta1, sop_cen_lmdz_routingfull_beta1, sop_els_lmdz_routingfull_beta1 = select_liaise_sites_sop(lmdz_routingfull_beta1, label)"
   ]
  },
  {
   "cell_type": "markdown",
   "metadata": {},
   "source": [
    "## Load obs"
   ]
  },
  {
   "cell_type": "code",
   "execution_count": null,
   "metadata": {},
   "outputs": [],
   "source": [
    "#load all July obs in one ds\n",
    "cen_mto_filename='../../../obs/LIAISE/LIAISE_LA-CENDROSA_CNRM_MTO-FLUX-30MIN_L2/LIAISE_LA-CENDROSA_CNRM_MTO-FLUX-30MIN_L2_2021-07*_V3.nc'\n",
    "cen_mto = format_Cendrosa_obs(cen_mto_filename)\n",
    "cen_mto"
   ]
  },
  {
   "cell_type": "code",
   "execution_count": null,
   "metadata": {},
   "outputs": [],
   "source": [
    "start_time = '2021-07-14T01:00:00'\n",
    "end_time = '2021-07-30T23:00:00'\n",
    "restrict_cen_mto = filter_xarray_by_timestamps(cen_mto, start_time, end_time)"
   ]
  },
  {
   "cell_type": "code",
   "execution_count": null,
   "metadata": {},
   "outputs": [],
   "source": [
    "filename =  '../../../obs/LIAISE/LIAISE_ELS-PLANS_UKMO_MTO-30MIN_L2/LIAISE_ELS-PLANS_UKMO_MTO-30MIN_L2_20210721_V4.0.dat'\n",
    "ds = dat_to_xarray(filename, 152, 153)\n",
    "els_mto_2107 = format_ElsPlans_obs(ds, start_day='2021-07-21')\n",
    "\n",
    "filename =  '../../../obs/LIAISE/LIAISE_ELS-PLANS_UKMO_MTO-30MIN_L2/LIAISE_ELS-PLANS_UKMO_MTO-30MIN_L2_20210722_V4.0.dat'\n",
    "ds = dat_to_xarray(filename, 152, 153)\n",
    "els_mto_2207 = format_ElsPlans_obs(ds, start_day='2021-07-22')"
   ]
  },
  {
   "cell_type": "code",
   "execution_count": null,
   "metadata": {},
   "outputs": [],
   "source": [
    "july_days=['01', '02', '03', '04', '05', '06', '07', '08', '09', '10', '11', '12', '13', '14', '15', '16', '17', '18', '19', '20', '21', '22', '23', '24', '25', '26', '27', '28', '29', '30', '31']\n",
    "for day in july_days:\n",
    "    filename =  '../../../obs/LIAISE/LIAISE_ELS-PLANS_UKMO_MTO-30MIN_L2/LIAISE_ELS-PLANS_UKMO_MTO-30MIN_L2_202107{}_V4.0.dat'.format(day)\n",
    "    ds = dat_to_xarray(filename, 152, 153)\n",
    "    day_els_mto = format_ElsPlans_obs(ds, start_day='2021-07-{}'.format(day))\n",
    "    if day=='01':\n",
    "        els_mto=day_els_mto\n",
    "    else:\n",
    "        els_mto=xr.concat([els_mto,day_els_mto],dim='time')\n",
    "els_mto"
   ]
  },
  {
   "cell_type": "code",
   "execution_count": null,
   "metadata": {},
   "outputs": [],
   "source": [
    "restrict_els_mto = filter_xarray_by_timestamps(els_mto, start_time, end_time)"
   ]
  },
  {
   "cell_type": "markdown",
   "metadata": {},
   "source": [
    "## Time series of average"
   ]
  },
  {
   "cell_type": "code",
   "execution_count": null,
   "metadata": {},
   "outputs": [],
   "source": [
    "var='t2m'\n",
    "ds1= cen_lmdz_noirr\n",
    "ds2= cen_lmdz_irr100\n",
    "ds3= cen_lmdz_routingfull_beta1\n",
    "\n",
    "ds4=ds_cendrosa_cell\n",
    "ds5 = ds4.mean(dim=['ni', 'nj'])\n",
    "ds5.attrs['name'] = ds4.attrs['name']\n",
    "ds5.attrs['plot_color'] = ds4.attrs['plot_color']\n",
    "\n",
    "ds6=cendrosa_exact\n",
    "ds7=restrict_cen_mto\n",
    "\n",
    "# ds1= els_lmdz_noirr\n",
    "# ds2= els_lmdz_irr100\n",
    "# ds3= els_lmdz_routingfull_beta1\n",
    "\n",
    "# ds4=ds_elsplans_cell\n",
    "# ds5 = ds4.mean(dim=['ni', 'nj'])\n",
    "# ds5.attrs['name'] = ds4.attrs['name']\n",
    "# ds5.attrs['plot_color'] = ds4.attrs['plot_color']\n",
    "\n",
    "# ds6=elsplans_exact\n",
    "# ds7=restrict_els_mto\n",
    "\n",
    "ds_list= [ds1, ds2, ds3, ds5, ds6, ds7]"
   ]
  },
  {
   "cell_type": "code",
   "execution_count": null,
   "metadata": {},
   "outputs": [],
   "source": [
    "vmin=0\n",
    "vmax=150\n",
    "vmin,vmax=None, None\n",
    "title=f'{ds1[var].attrs['long_name']} ({ds1[var].attrs['units']})'\n",
    "\n",
    "time_series_ave(ds_list, var, \n",
    "                vmin=vmin, vmax=vmax,\n",
    "                title=title,\n",
    "                legend_out=None,\n",
    "                # xlabel='Time',\n",
    "                ylabel=ds1[var].attrs['long_name'],\n",
    "                ds_colors=True\n",
    "                )"
   ]
  },
  {
   "cell_type": "code",
   "execution_count": null,
   "metadata": {},
   "outputs": [],
   "source": [
    "vmin=0\n",
    "vmax=100\n",
    "vmin,vmax=None, None\n",
    "\n",
    "diurnal_cycle_ave(ds_list, var,\n",
    "                 vmin=vmin, vmax=vmax,\n",
    "                 title=title,\n",
    "                 legend_out=None,\n",
    "                #  xlabel='Time',\n",
    "                 ylabel=ds1[var].attrs['long_name'],\n",
    "                 ds_colors=True\n",
    "                 )"
   ]
  },
  {
   "cell_type": "code",
   "execution_count": null,
   "metadata": {},
   "outputs": [],
   "source": [
    "#show single value in lmdz sims for one given timestamp\n",
    "var='sens'\n",
    "timestamp='2021-07-20T12:00:00'\n",
    "\n",
    "#cendrosa\n",
    "ds1= cen_lmdz_noirr\n",
    "ds2= cen_lmdz_irr100\n",
    "ds3= cen_lmdz_routingfull_beta1\n",
    "ds4=ds_cendrosa_cell\n",
    "ds5 = ds4.mean(dim=['ni', 'nj'])\n",
    "ds5.attrs['name'] = ds4.attrs['name']\n",
    "ds5.attrs['plot_color'] = ds4.attrs['plot_color']\n",
    "ds6=cendrosa_exact\n",
    "ds7=restrict_cen_mto\n",
    "ds_list= [ds1, ds2, ds3, ds5, ds6, ds7]\n",
    "\n",
    "for ds in ds_list:\n",
    "    if var in ds:\n",
    "        print(f\"{ds.attrs['name']} {ds[var].sel(time=timestamp, method='nearest').values:.2f} {ds1[var].attrs['units']}\")\n",
    "    else:\n",
    "        print(f\"{ds.attrs['name']} does not have variable {var}\")\n",
    "\n",
    "#els plans\n",
    "ds1= els_lmdz_noirr\n",
    "ds2= els_lmdz_irr100\n",
    "ds3= els_lmdz_routingfull_beta1\n",
    "ds4=ds_elsplans_cell\n",
    "ds5 = ds4.mean(dim=['ni', 'nj'])        \n",
    "ds5.attrs['name'] = ds4.attrs['name']\n",
    "ds5.attrs['plot_color'] = ds4.attrs['plot_color']\n",
    "ds6=elsplans_exact\n",
    "ds7=restrict_els_mto\n",
    "ds_list= [ds1, ds2, ds3, ds5, ds6, ds7]\n",
    "for ds in ds_list:\n",
    "    if var in ds:\n",
    "        print(f\"{ds.attrs['name']} {ds[var].sel(time=timestamp, method='nearest').values:.2f} {ds1[var].attrs['units']}\")\n",
    "    else:\n",
    "        print(f\"{ds.attrs['name']} does not have variable {var}\")"
   ]
  }
 ],
 "metadata": {
  "kernelspec": {
   "display_name": "lam1env",
   "language": "python",
   "name": "python3"
  },
  "language_info": {
   "codemirror_mode": {
    "name": "ipython",
    "version": 3
   },
   "file_extension": ".py",
   "mimetype": "text/x-python",
   "name": "python",
   "nbconvert_exporter": "python",
   "pygments_lexer": "ipython3",
   "version": "3.12.10"
  }
 },
 "nbformat": 4,
 "nbformat_minor": 2
}
