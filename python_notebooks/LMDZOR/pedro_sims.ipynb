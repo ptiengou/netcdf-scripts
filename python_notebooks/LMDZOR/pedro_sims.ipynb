{
 "cells": [
  {
   "cell_type": "markdown",
   "metadata": {},
   "source": [
    "# Imports and setting up viz\n",
    "\n",
    "NB : conda env1 on PC, lam1env on spirit (Python3.12)"
   ]
  },
  {
   "cell_type": "code",
   "execution_count": null,
   "metadata": {},
   "outputs": [],
   "source": [
    "%load_ext autoreload\n",
    "%autoreload 2\n",
    "%matplotlib inline\n",
    "\n",
    "#import personnal tools\n",
    "from tools import *"
   ]
  },
  {
   "cell_type": "markdown",
   "metadata": {},
   "source": [
    "# Load and edit files\n",
    "\n",
    "LAM output analysis.\n",
    "\n",
    "simu irr et simu no-irr."
   ]
  },
  {
   "cell_type": "markdown",
   "metadata": {},
   "source": [
    "## Sims"
   ]
  },
  {
   "cell_type": "code",
   "execution_count": null,
   "metadata": {},
   "outputs": [],
   "source": [
    "noirr_dir='../../../JZ_simu_outputs/LAM/noirr_2010_2022'\n",
    "irr_dir='../../../JZ_simu_outputs/LAM/irr_2010_2022'"
   ]
  },
  {
   "cell_type": "code",
   "execution_count": null,
   "metadata": {},
   "outputs": [],
   "source": [
    "#sim\n",
    "filename = '/data/ptiengou/pedro_test_noirr_2014.nc'\n",
    "filename = '/data/ptiengou/NoIrr-IPSLcm6Hist-bis_20140101_20141231_1M_histmth.nc'\n",
    "\n",
    "sim0 = xr.open_mfdataset(filename)\n",
    "sim0.attrs['name'] = 'no_irr'\n",
    "sim = sim0.rename({'time_counter':'time'})\n",
    "\n",
    "# sim['evap'] = sim['evap'] *3600 * 24\n",
    "# sim['evap'].attrs['units'] = 'mm/d'\n",
    "\n",
    "# sim['precip'] = sim['precip'] *3600 * 24\n",
    "# sim['precip'].attrs['units'] = 'mm/d'\n",
    "\n",
    "# sim['fluxsens']= -sim['sens']\n",
    "\n",
    "# sim['netrad'] = sim['LWdnSFC'] - sim['LWupSFC'] + sim['SWdnSFC'] - sim['SWupSFC']\n",
    "# sim['netrad'].attrs['units'] = 'W/m2'\n",
    "\n",
    "# sim['P - E'] = sim['precip'] - sim['evap']\n",
    "# sim['P - E'].attrs['units'] = 'mm/d'\n",
    "\n",
    "sim"
   ]
  },
  {
   "cell_type": "code",
   "execution_count": null,
   "metadata": {},
   "outputs": [],
   "source": [
    "#sim irr\n",
    "filename = '/data/ptiengou/pedro_test_irr_2014.nc'\n",
    "filename = '/data/ptiengou/Irr-IPSLcm6Hist_20140101_20141231_1M_histmth.nc'\n",
    "sim0irr = xr.open_mfdataset(filename)\n",
    "sim0irr.attrs['name'] = 'irr'\n",
    "simirr = sim0irr.rename({'time_counter':'time'})\n",
    "\n",
    "# simirr['evap'] = simirr['evap'] *3600 * 24\n",
    "# simirr['evap'].attrs['units'] = 'mm/d'\n",
    "\n",
    "# simirr['precip'] = simirr['precip'] *3600 * 24\n",
    "# simirr['precip'].attrs['units'] = 'mm/d'\n",
    "\n",
    "# simirr['fluxsens']= -simirr['sens']\n",
    "\n",
    "# simirr['netrad'] = simirr['LWdnSFC'] - simirr['LWupSFC'] + simirr['SWdnSFC'] - simirr['SWupSFC']\n",
    "# simirr['netrad'].attrs['units'] = 'W/m2'\n",
    "\n",
    "# simirr['P - E'] = simirr['precip'] - simirr['evap']\n",
    "# simirr['P - E'].attrs['units'] = 'mm/d'\n",
    "\n",
    "simirr\n"
   ]
  },
  {
   "cell_type": "markdown",
   "metadata": {},
   "source": [
    "# Maps"
   ]
  },
  {
   "cell_type": "code",
   "execution_count": null,
   "metadata": {},
   "outputs": [],
   "source": [
    "#Display map of var for ds\n",
    "var='z850'\n",
    "ds=simirr\n",
    "\n",
    "color_map=reds\n",
    "max_value=None\n",
    "\n",
    "map_ave(ds, var, in_cmap=color_map, in_vmax=max_value, hex=False)"
   ]
  },
  {
   "cell_type": "code",
   "execution_count": null,
   "metadata": {},
   "outputs": [],
   "source": [
    "#Diff map\n",
    "var='z850'\n",
    "max_value=None\n",
    "months=[1,2,3,4,5,6,7,8,9,10,11,12]\n",
    "ds1=simirr\n",
    "ds2=sim\n",
    "ds1=ds1.sel(time=ds1['time.month'].isin(months))\n",
    "ds2=ds2.sel(time=ds2['time.month'].isin(months))\n",
    "\n",
    "map_diff_ave(ds1, ds2, var, in_vmax=max_value, hex=False, sig=False)\n",
    "\n",
    "diff=ds1[var]-ds2[var]\n",
    "title='{} bias, {} vs {} ({})'.format( var, ds1.attrs['name'], ds2.attrs['name'], ds1[var].attrs['units'])\n",
    "map_seasons(diff, in_cmap=emb, in_vmax=max_value, in_title=title, hex=True)"
   ]
  },
  {
   "cell_type": "code",
   "execution_count": null,
   "metadata": {},
   "outputs": [],
   "source": [
    "#map for 4 seasons\n",
    "var='q850'\n",
    "ds1=ip_sim_tqruv\n",
    "ds2=tqruv\n",
    "max_value=7E-4\n",
    "min_value=None\n",
    "# min_value=-max_value\n",
    "\n",
    "diff=ds1[var]-ds2[var]\n",
    "title='{} bias, {} vs {} ({})'.format( var, ds1.attrs['name'], ds2.attrs['name'], ds1[var].attrs['units'])\n",
    "plotvar=diff\n",
    "\n",
    "# plotvar=ds1[var]\n",
    "# title='P-E (mm/d, {})'.format(ds1.attrs['name'])\n",
    "\n",
    "map_seasons(plotvar, in_cmap=emb, in_vmax=max_value, in_title=title, hex=True)"
   ]
  },
  {
   "cell_type": "code",
   "execution_count": null,
   "metadata": {},
   "outputs": [],
   "source": [
    "# Display 2 maps of var\n",
    "var = 'P - E'\n",
    "min_value=None\n",
    "max_value=None\n",
    "color_map=emb_neutral\n",
    "ds1=sim\n",
    "ds2=simirr\n",
    "map_two_ds(ds1, ds2, var, in_vmin=min_value, in_figsize=(15,6), in_vmax=max_value, in_cmap=color_map)"
   ]
  },
  {
   "cell_type": "code",
   "execution_count": null,
   "metadata": {},
   "outputs": [],
   "source": [
    "#Display map of var for ds on restricted area\n",
    "var='evap'\n",
    "ds = sim\n",
    "latmin=36.7\n",
    "latmax=36.9\n",
    "lonmin=-6.4\n",
    "lonmax=-6.2\n",
    "\n",
    "#restrict ds to latmin, latmax, lonmin, lonmax\n",
    "ds = ds.where(ds.lat >= latmin, drop=True).where(ds.lat <= latmax, drop=True)\n",
    "ds = ds.where(ds.lon >= lonmin, drop=True).where(ds.lon <= lonmax, drop=True)\n",
    "plotvar = ds[var].mean(dim='time')\n",
    "map_plotvar(plotvar, in_cmap=emb_neutral, in_vmax=None, in_title=var)"
   ]
  },
  {
   "cell_type": "code",
   "execution_count": null,
   "metadata": {},
   "outputs": [],
   "source": [
    "#Relative diff map\n",
    "var='precip'\n",
    "max_value=None\n",
    "ds1=cont_fluxcom\n",
    "ds2=ip_fluxcom\n",
    "# plt.title('Gross primary production relative difference (%)')\n",
    "map_rel_diff_ave(ds1, ds2, var, in_vmax=max_value)"
   ]
  },
  {
   "cell_type": "markdown",
   "metadata": {},
   "source": [
    "# Time series"
   ]
  },
  {
   "cell_type": "code",
   "execution_count": null,
   "metadata": {},
   "outputs": [],
   "source": [
    "var='ua'\n",
    "\n",
    "ds1=sim\n",
    "ds_list=[ds1]\n",
    "\n",
    "year_max=2022\n",
    "time_series(ds_list, var, year_max=year_max, in_title='{} {}'.format(var, ds1[var].attrs['units']))\n",
    "seasonal_cycle(ds_list, var, year_max=year_max, in_title='Seasonal cycle of {} ({})'.format(var, ds1[var].attrs['units']))"
   ]
  }
 ],
 "metadata": {
  "kernelspec": {
   "display_name": "Python 3.12.2 64-bit",
   "language": "python",
   "name": "python3"
  },
  "language_info": {
   "codemirror_mode": {
    "name": "ipython",
    "version": 3
   },
   "file_extension": ".py",
   "mimetype": "text/x-python",
   "name": "python",
   "nbconvert_exporter": "python",
   "pygments_lexer": "ipython3",
   "version": "3.12.2"
  },
  "vscode": {
   "interpreter": {
    "hash": "9715f220877aa1dd3a10bcc1f3e7aef151ac70eccc8d755f78d50313f1675c6a"
   }
  }
 },
 "nbformat": 4,
 "nbformat_minor": 2
}
