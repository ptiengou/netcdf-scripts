{
 "cells": [
  {
   "cell_type": "markdown",
   "metadata": {},
   "source": [
    "# Imports and setting up viz\n",
    "\n",
    "NB : conda env1 on PC, lam1env on spirit (Python3.12)"
   ]
  },
  {
   "cell_type": "code",
   "execution_count": null,
   "metadata": {},
   "outputs": [],
   "source": [
    "%load_ext autoreload\n",
    "%autoreload 2\n",
    "%matplotlib inline\n",
    "\n",
    "#import personnal tools\n",
    "import sys\n",
    "sys.path.append('../../python_tools/')\n",
    "from tools import *\n",
    "from tools_mapping import *\n",
    "from tools_routing import *"
   ]
  },
  {
   "cell_type": "code",
   "execution_count": null,
   "metadata": {},
   "outputs": [],
   "source": [
    "rivers = cfeature.NaturalEarthFeature('physical', 'rivers_lake_centerlines', '10m',edgecolor=(0, 0, 0, 0.3), facecolor='none')"
   ]
  },
  {
   "cell_type": "markdown",
   "metadata": {},
   "source": [
    "# Figures"
   ]
  },
  {
   "cell_type": "markdown",
   "metadata": {},
   "source": [
    "## Domain and altitude"
   ]
  },
  {
   "cell_type": "code",
   "execution_count": null,
   "metadata": {},
   "outputs": [],
   "source": [
    "import psyplot.project as psy\n",
    "psy.rcParams['auto_show'] = True\n",
    "mpl.rcParams['figure.figsize'] = [8, 6.]"
   ]
  },
  {
   "cell_type": "code",
   "execution_count": null,
   "metadata": {},
   "outputs": [],
   "source": [
    "LAM_dir='../../../JZ_simu_outputs/LAM/native_outputs/'\n",
    "start_file='{}/espagne_start_2010.nc'.format(LAM_dir)\n",
    "start=xr.open_dataset(start_file)\n",
    "# start"
   ]
  },
  {
   "cell_type": "code",
   "execution_count": null,
   "metadata": {},
   "outputs": [],
   "source": [
    "start[\"Altitude\"] = start[\"phis\"]/9.81\n",
    "start[\"Altitude\"].attrs[\"units\"] = \"m\"\n",
    "start[\"Altitude\"].attrs[\"long_name\"] = \"Altitude\"\n",
    "start[\"Altitude\"].attrs[\"standard_name\"] = \"Altitude\"\n",
    "\n",
    "start_file2='{}/espagne_start_2010_modified.nc'.format(LAM_dir)\n",
    "start.to_netcdf(start_file2)"
   ]
  },
  {
   "cell_type": "code",
   "execution_count": null,
   "metadata": {},
   "outputs": [],
   "source": [
    "start2=xr.open_dataset(start_file2)\n",
    "# start2"
   ]
  },
  {
   "cell_type": "code",
   "execution_count": null,
   "metadata": {},
   "outputs": [],
   "source": [
    "# Custom colormap\n",
    "terrain_colors = plt.cm.terrain(np.linspace(0, 1, 25))\n",
    "filtered_colors = terrain_colors[5:]  \n",
    "# Insert blue as the first color\n",
    "filtered_colors = np.vstack([[0.07973856209150328, 0.44052287581699345, 0.8405228758169935, 1.0], filtered_colors]) \n",
    "custom_colormap = ListedColormap(filtered_colors)\n"
   ]
  },
  {
   "cell_type": "code",
   "execution_count": null,
   "metadata": {},
   "outputs": [],
   "source": [
    "savefig=True\n",
    "file=start_file2\n",
    "var='Altitude'\n",
    "vmin=-0\n",
    "vmax=2000\n",
    "pas=(vmax-vmin) / 20\n",
    "\n",
    "map=psy.plot.mapplot(\n",
    "    file, \n",
    "    name=var,\n",
    "    datagrid=dict(color='k', linewidth=0.2),\n",
    "    cbar='r',\n",
    "    tight=True,\n",
    "    lsm='50m',\n",
    "    cmap=custom_colormap,\n",
    "    extend='both',\n",
    "    projection='ortho',\n",
    "    xgrid=True,ygrid=True,\n",
    "    bounds=np.arange(vmin, vmax + pas, pas),\n",
    "    # title=var,\n",
    "    clabel=\"Altitude (m)\"\n",
    ")\n",
    "\n",
    "if savefig:\n",
    "    plt.savefig('figures/methods/altitude_map.png', dpi=300, bbox_inches='tight')\n",
    "    print(\"Figure saved as 'figures/altitude_map.png'\")"
   ]
  },
  {
   "cell_type": "markdown",
   "metadata": {},
   "source": [
    "## Irrigated fraction and AEI_SW"
   ]
  },
  {
   "cell_type": "code",
   "execution_count": null,
   "metadata": {},
   "outputs": [],
   "source": [
    "savefig=True"
   ]
  },
  {
   "cell_type": "code",
   "execution_count": null,
   "metadata": {},
   "outputs": [],
   "source": [
    "irr_dir='../../../JZ_simu_outputs/LAM/LAM_1500_60/irr'\n",
    "filename='{}/*/SRF/MO/*2013*history.nc'.format(irr_dir)\n",
    "\n",
    "ORCirr0 = xr.open_mfdataset(filename)\n",
    "ORCirr = ORCirr0.rename({'time_counter':'time'})\n",
    "ORCirr.attrs['name'] = 'irr'\n",
    "ORCirr.attrs['plot_color'] = \"#0C5DA5\"\n",
    "ORCirr = ORCirr.sel(lon=slice(lon_min,lon_max),lat=slice(lat_min,lat_max))\n",
    "\n",
    "ORCirr['irrig_frac'] = ORCirr['irrigmap_dyn'] / ORCirr['Areas'] * 100\n",
    "ORCirr['irrig_frac'].attrs['units'] = '%'\n",
    "ORCirr['irrig_frac'].attrs['long_name'] = 'Irrigated fraction'\n",
    "\n",
    "ORCirr['aei_sw'] = ORCirr['aei_sw'] * 100\n",
    "\n",
    "ORCirr"
   ]
  },
  {
   "cell_type": "code",
   "execution_count": null,
   "metadata": {},
   "outputs": [],
   "source": [
    "filename = '{}/*/ATM/MO/*2013*.nc'.format(irr_dir)\n",
    "\n",
    "\n",
    "lmdz = xr.open_mfdataset(filename)\n",
    "lmdz = lmdz.rename({'time_counter':'time'})\n",
    "lmdz = lmdz.sel(lon=slice(lon_min, lon_max),lat=slice(lat_min, lat_max))\n",
    "\n",
    "lmdz"
   ]
  },
  {
   "cell_type": "code",
   "execution_count": null,
   "metadata": {},
   "outputs": [],
   "source": [
    "ip_mask = polygon_to_mask(ORCirr, iberian_peninsula)\n",
    "con_mask=lmdz.mean(dim='time')['contfracOR']>0.95\n",
    "\n",
    "ip_ORCirr = ORCirr.where(ip_mask, drop=True)\n",
    "contIP_ORCirr = ip_ORCirr.where(con_mask)"
   ]
  },
  {
   "cell_type": "code",
   "execution_count": null,
   "metadata": {},
   "outputs": [],
   "source": [
    "var='irrig_frac'\n",
    "vmin=0\n",
    "vmax=50\n",
    "# vmin, vmax = None, None  # Use default min/max for the colormap\n",
    "ds=contIP_ORCirr\n",
    "map_ave(ds, var, vmin, vmax, cmap=bluesW,\n",
    "        title='off', clabel='Grid cell irrigated fraction (%)')\n",
    "if savefig:\n",
    "        plt.savefig('figures/methods/irrigated_fraction_map.png', dpi=300, bbox_inches='tight')\n",
    "        print(\"Figure saved\")"
   ]
  },
  {
   "cell_type": "code",
   "execution_count": null,
   "metadata": {},
   "outputs": [],
   "source": [
    "var='aei_sw'\n",
    "vmin=0\n",
    "vmax=100\n",
    "# vmin, vmax = None, None  # Use default min/max for the colormap\n",
    "ds=contIP_ORCirr\n",
    "map_ave(ds, var, vmin, vmax, cmap=emb_neutral,\n",
    "        title='off', clabel='Share of surface equipments (%)')\n",
    "if savefig:\n",
    "        plt.savefig('figures/methods/aei_sw_map.png', dpi=300, bbox_inches='tight')\n",
    "        print(\"Figure saved\")"
   ]
  },
  {
   "cell_type": "code",
   "execution_count": null,
   "metadata": {},
   "outputs": [],
   "source": [
    "var='aei_sw'\n",
    "vmin=0\n",
    "vmax=100\n",
    "# vmin, vmax = None, None  # Use default min/max for the colormap\n",
    "ds=contIP_ORCirr\n",
    "map_ave(ds, var, vmin, vmax, cmap=emb_neutral,\n",
    "        title='off', clabel='Share of surface equipments (%)')"
   ]
  },
  {
   "cell_type": "markdown",
   "metadata": {},
   "source": [
    "## Routing DEM"
   ]
  },
  {
   "cell_type": "code",
   "execution_count": null,
   "metadata": {},
   "outputs": [],
   "source": [
    "filename='../../../input_data/routing.nc'\n",
    "std_halfdeg = xr.open_dataset(filename)\n",
    "#remap y axis, from (0,359) it should be (90N,90S)\n",
    "std_halfdeg = std_halfdeg.rename({'y': 'lat'})\n",
    "std_halfdeg = std_halfdeg.assign_coords(lat=89.75 - std_halfdeg.lat/2) \n",
    "\n",
    "#remap x axis, from (0,719) it should be (-180,180)\n",
    "std_halfdeg = std_halfdeg.rename({'x': 'lon'})\n",
    "std_halfdeg = std_halfdeg.assign_coords(lon=std_halfdeg.lon/2 -179.75)  \n",
    "\n",
    "#select Iberian Peninsula zone\n",
    "std_halfdeg = std_halfdeg.sel(lon=slice(lon_min, lon_max), lat=slice(lat_max, lat_min))\n",
    "\n",
    "std_halfdeg"
   ]
  },
  {
   "cell_type": "code",
   "execution_count": null,
   "metadata": {},
   "outputs": [],
   "source": [
    "filename='../../../input_data/routing_simple.nc'\n",
    "interp_halfdeg = xr.open_dataset(filename)\n",
    "\n",
    "#select Iberian Peninsula zone\n",
    "interp_halfdeg = interp_halfdeg.sel(lon=slice(lon_min, lon_max), lat=slice(lat_max, lat_min))\n",
    "\n",
    "interp_halfdeg\n"
   ]
  },
  {
   "cell_type": "code",
   "execution_count": null,
   "metadata": {},
   "outputs": [],
   "source": [
    "vmin, vmax=1,10\n",
    "map_plotvar(std_halfdeg['trip'], vmin=vmin, vmax=vmax, title='routing.nc trip')"
   ]
  },
  {
   "cell_type": "code",
   "execution_count": null,
   "metadata": {},
   "outputs": [],
   "source": [
    "vmin, vmax=0,9000\n",
    "# vmin, vmax=1,8\n",
    "# vmin, vmax=None, None  # Use default min/max for the colormap\n",
    "cmap=redsW\n",
    "var='topoind'\n",
    "map_plotvar(interp_halfdeg[var], vmin=vmin, vmax=vmax, title=f'routing_simple.nc {var}',\n",
    "            cmap=cmap)"
   ]
  },
  {
   "cell_type": "code",
   "execution_count": null,
   "metadata": {},
   "outputs": [],
   "source": [
    "var1='trip'\n",
    "var2='trip_extended'\n",
    "# var2=var1\n",
    "vmin=-1\n",
    "vmax= 1\n",
    "# vmin, vmax = None, None  # Use default min/max for the colormap\n",
    "diff= interp_halfdeg['trip_extended'] - std_halfdeg[var1]\n",
    "map_plotvar(diff, cmap=emb_neutral,\n",
    "            vmin=vmin, vmax=vmax,\n",
    "            title='Difference between trip (routing.nc) and trip_extended (routing_simple.nc) ')"
   ]
  },
  {
   "cell_type": "code",
   "execution_count": null,
   "metadata": {},
   "outputs": [],
   "source": [
    "filename='../../../input_data/routing_ext_merit.nc'\n",
    "ext_halfdeg = xr.open_dataset(filename)\n",
    "#select Iberian Peninsula zone\n",
    "ext_halfdeg = ext_halfdeg.sel(lon=slice(lon_min, lon_max), lat=slice(lat_max, lat_min))\n",
    "ext_halfdeg"
   ]
  },
  {
   "cell_type": "code",
   "execution_count": null,
   "metadata": {},
   "outputs": [],
   "source": [
    "vmin=0\n",
    "vmax=9000\n",
    "# vmin, vmax = None, None  # Use default min/max for the colormap\n",
    "map_plotvar(ext_halfdeg['topoind'], vmin=vmin, vmax=vmax, title='routing_ext_merit.nc topoind')"
   ]
  }
 ],
 "metadata": {
  "kernelspec": {
   "display_name": "lam1env",
   "language": "python",
   "name": "python3"
  },
  "language_info": {
   "codemirror_mode": {
    "name": "ipython",
    "version": 3
   },
   "file_extension": ".py",
   "mimetype": "text/x-python",
   "name": "python",
   "nbconvert_exporter": "python",
   "pygments_lexer": "ipython3",
   "version": "3.12.10"
  }
 },
 "nbformat": 4,
 "nbformat_minor": 2
}
