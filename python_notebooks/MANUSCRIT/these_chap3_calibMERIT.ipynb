{
 "cells": [
  {
   "cell_type": "markdown",
   "metadata": {},
   "source": [
    "# Imports and setting up viz"
   ]
  },
  {
   "cell_type": "code",
   "execution_count": null,
   "metadata": {},
   "outputs": [],
   "source": [
    "%load_ext autoreload\n",
    "%autoreload 2\n",
    "%matplotlib inline\n",
    "\n",
    "#import personnal tools\n",
    "import sys\n",
    "sys.path.append('../../python_tools/')\n",
    "from tools import *\n",
    "from tools_mapping import *\n",
    "from tools_routing import *"
   ]
  },
  {
   "cell_type": "markdown",
   "metadata": {},
   "source": [
    "# Load files\n",
    "File to evaluate the behaviour of native routing compared to standard.\n",
    "\n",
    "First working on the same topographic grid (0.5°).\n",
    "\n",
    "3 files are considered : one from the standard routing simulation, 2 from the native routing simulation (sechiba_history, diag_routing_r)"
   ]
  },
  {
   "cell_type": "code",
   "execution_count": null,
   "metadata": {},
   "outputs": [],
   "source": [
    "dir='../../../JZ_simu_outputs/routing_native'"
   ]
  },
  {
   "cell_type": "code",
   "execution_count": null,
   "metadata": {},
   "outputs": [],
   "source": [
    "spinupyears=[2000,2001,2002]\n",
    "# spinupyears=[]"
   ]
  },
  {
   "cell_type": "markdown",
   "metadata": {},
   "source": [
    "## Format functions"
   ]
  },
  {
   "cell_type": "code",
   "execution_count": null,
   "metadata": {},
   "outputs": [],
   "source": [
    "def format_routing_ORC(filename, name, spinupyears, color=None):\n",
    "    ds = xr.open_mfdataset(filename)\n",
    "    ds = ds.rename({'time_counter': 'time'})\n",
    "    ds.attrs['name'] = name\n",
    "    ds = remove_years_efficiently(ds, spinupyears)\n",
    "\n",
    "    #edit units and names\n",
    "    if 'hydrographs' in ds:\n",
    "        ds['hydrographs'].attrs['units'] = 'm³ s⁻¹'\n",
    "        ds['hydrographs'].attrs['long_name'] = 'River discharge'\n",
    "    if 'streamr' in ds:\n",
    "        ds['streamr'].attrs['units'] = 'kg m⁻²'\n",
    "        ds['streamr'].attrs['long_name'] = 'River reservoir volume'\n",
    "    if 'slowr' in ds:\n",
    "        ds['slowr'].attrs['units'] = 'kg m⁻²'\n",
    "        ds['slowr'].attrs['long_name'] = 'GW reservoir volume'\n",
    "    if 'fastr' in ds:\n",
    "        ds['fastr'].attrs['units'] = 'kg m⁻²'\n",
    "        ds['fastr'].attrs['long_name'] = 'Overland reserv. volume'\n",
    "\n",
    "    if color is not None:\n",
    "        ds.attrs['plot_color'] = color\n",
    "\n",
    "    return ds"
   ]
  },
  {
   "cell_type": "code",
   "execution_count": null,
   "metadata": {},
   "outputs": [],
   "source": [
    "def format_routing_native(filename, name, spinupyears, color=None):\n",
    "    ds = xr.open_mfdataset(filename)\n",
    "    ds.attrs['name'] = name\n",
    "\n",
    "    dict = {'time_counter' : 'time',\n",
    "        'routing_stream_reservoir_r' : 'streamr',\n",
    "        'routing_fast_reservoir_r' : 'fastr',\n",
    "        'routing_slow_reservoir_r' : 'slowr',\n",
    "        'routing_drainage_r' : 'drainage',\n",
    "        'routing_runoff_r' : 'runoff',\n",
    "        'routing_hydrographs_r' : 'hydrographs',\n",
    "        'routing_riverflow_r' : 'riverflow',\n",
    "        'routing_coastalflow_r' : 'coastalflow'\n",
    "        }\n",
    "    ds = ds.rename(dict)\n",
    "    ds = ds.isel(lon=slice(2,-2),lat=slice(2,-2))\n",
    "\n",
    "    ds = remove_years_efficiently(ds, spinupyears)\n",
    "\n",
    "    if color is not None:\n",
    "        ds.attrs['plot_color'] = color\n",
    "\n",
    "    #edit units and names\n",
    "    if 'hydrographs' in ds:\n",
    "        ds['hydrographs'].attrs['units'] = 'm³ s⁻¹'\n",
    "        ds['hydrographs'].attrs['long_name'] = 'River discharge'\n",
    "    if 'streamr' in ds:\n",
    "        ds['streamr'].attrs['units'] = 'kg m⁻²'\n",
    "        ds['streamr'].attrs['long_name'] = 'River reservoir volume'\n",
    "    if 'slowr' in ds:\n",
    "        ds['slowr'].attrs['units'] = 'kg m⁻²'\n",
    "        ds['slowr'].attrs['long_name'] = 'GW reservoir volume'\n",
    "    if 'fastr' in ds:\n",
    "        ds['fastr'].attrs['units'] = 'kg m⁻²'\n",
    "        ds['fastr'].attrs['long_name'] = 'Overland reserv. volume'\n",
    "        \n",
    "    #edit units and names\n",
    "    ds['hydrographs'].attrs['units'] = 'm³ s⁻¹'\n",
    "    ds['hydrographs'].attrs['long_name'] = 'River discharge'\n",
    "\n",
    "    #to move all to 1st day of the month (instead of 14, 15, or 16..)\n",
    "    ds = ds.resample(time='MS').mean()\n",
    "    return ds"
   ]
  },
  {
   "cell_type": "code",
   "execution_count": null,
   "metadata": {},
   "outputs": [],
   "source": [
    "def format_routing_nativeDIAG(filename, name, spinupyears, color=None):\n",
    "    ds = xr.open_mfdataset(filename)\n",
    "    ds.attrs['name'] = name\n",
    "\n",
    "    dict = {'time_counter' : 'time',\n",
    "            \n",
    "            # for reservoirs\n",
    "            'lat_domain_landpoints_routing':'lat',\n",
    "            'lon_domain_landpoints_routing':'lon',\n",
    "            # for drainage and runoff\n",
    "            # 'lat_domain_landpoints':'lat',\n",
    "            # 'lon_domain_landpoints':'lon',\n",
    "\n",
    "            'routing_stream_reservoir' : 'streamr',\n",
    "            'routing_fast_reservoir' : 'fastr',\n",
    "            'routing_slow_reservoir' : 'slowr',\n",
    "            'routing_drainage' : 'drainage',\n",
    "            'routing_runoff' : 'runoff',\n",
    "            'routing_riverflow' : 'riverflow',\n",
    "            'routing_coastalflow' : 'coastalflow',\n",
    "            'routing_irrigation' : 'irrigation',}\n",
    "    #change the variables that exist according to the dictionary\n",
    "    ds = ds.rename(dict)\n",
    "    #remove first years to consider a spinup\n",
    "    ds = remove_years_efficiently(ds, spinupyears)\n",
    "\n",
    "    if color is not None:\n",
    "        ds.attrs['plot_color'] = color\n",
    "\n",
    "    return(ds)"
   ]
  },
  {
   "cell_type": "markdown",
   "metadata": {},
   "source": [
    "## No irrigation"
   ]
  },
  {
   "cell_type": "markdown",
   "metadata": {},
   "source": [
    "### ORC files"
   ]
  },
  {
   "cell_type": "code",
   "execution_count": null,
   "metadata": {},
   "outputs": [],
   "source": [
    "#open netcdf files for standard routing\n",
    "filename = '{}/eval_halfdeg/nat7.1/MO/nat7.1_*_1M_sechiba_history.nc'.format(dir)\n",
    "name= 'subgrid_halfdeg'\n",
    "std_noirr_orig = format_routing_ORC(filename, name, spinupyears, color='dimgrey')\n",
    "#downsample to monthly values\n",
    "std_noirr = std_noirr_orig.resample(time='MS').mean()\n",
    "std_noirr"
   ]
  },
  {
   "cell_type": "code",
   "execution_count": null,
   "metadata": {},
   "outputs": [],
   "source": [
    "filename = '{}/calibration_MERIT/nat12.3/nat12.3*_1M_sechiba_history.nc'.format(dir)\n",
    "name = 'tcst1'\n",
    "ORC_tcst1 = format_routing_ORC(filename, name, spinupyears, color='orange')\n",
    "ORC_tcst1"
   ]
  },
  {
   "cell_type": "code",
   "execution_count": null,
   "metadata": {},
   "outputs": [],
   "source": [
    "filename = '{}/calibration_MERIT/nat12/dt1800_merit_correct_tcst/nat12_*_1M_sechiba_history.nc'.format(dir)\n",
    "name = 'tcst2'\n",
    "ORC_tcst2 = format_routing_ORC(filename, name, spinupyears, color='green')\n",
    "ORC_tcst2"
   ]
  },
  {
   "cell_type": "code",
   "execution_count": null,
   "metadata": {},
   "outputs": [],
   "source": [
    "filename = '{}/calibration_MERIT/nat12.2/correct_tcst/nat12.2*_1M_sechiba_history.nc'.format(dir)\n",
    "name = 'tcst3'\n",
    "ORC_tcst3 = format_routing_ORC(filename, name, spinupyears, color='purple')\n",
    "ORC_tcst3"
   ]
  },
  {
   "cell_type": "code",
   "execution_count": null,
   "metadata": {},
   "outputs": [],
   "source": [
    "filename = '{}/calibration_MERIT/tcst7/tcst7*_1M_sechiba_history.nc'.format(dir)\n",
    "name = 'tcst4'\n",
    "ORC_tcst4 = format_routing_ORC(filename, name, spinupyears, color='red')\n",
    "ORC_tcst4"
   ]
  },
  {
   "cell_type": "markdown",
   "metadata": {},
   "source": [
    "### DIAG_R files"
   ]
  },
  {
   "cell_type": "code",
   "execution_count": null,
   "metadata": {},
   "outputs": [],
   "source": [
    "filename = '{}/calibration_MERIT/nat12.3/nat12.3*_1D_diag_routing_r.nc'.format(dir)\n",
    "name = 'tcst1'\n",
    "DIAGR_tcst1 = format_routing_native(filename, name, spinupyears, color='orange')\n",
    "DIAGR_tcst1"
   ]
  },
  {
   "cell_type": "code",
   "execution_count": null,
   "metadata": {},
   "outputs": [],
   "source": [
    "filename = '{}/calibration_MERIT/nat12/dt1800_merit_correct_tcst/nat12_*_1D_diag_routing_r.nc'.format(dir)\n",
    "name = 'tcst2'\n",
    "DIAGR_tcst2 = format_routing_native(filename, name, spinupyears, color='green')\n",
    "DIAGR_tcst2"
   ]
  },
  {
   "cell_type": "code",
   "execution_count": null,
   "metadata": {},
   "outputs": [],
   "source": [
    "filename = '{}/calibration_MERIT/nat12.2/correct_tcst/nat12.2*_1D_diag_routing_r.nc'.format(dir)\n",
    "name = 'tcst3'\n",
    "DIAGR_tcst3 = format_routing_native(filename, name, spinupyears, color='purple')\n",
    "DIAGR_tcst3"
   ]
  },
  {
   "cell_type": "code",
   "execution_count": null,
   "metadata": {},
   "outputs": [],
   "source": [
    "filename = '{}/calibration_MERIT/tcst7/tcst7*_1D_diag_routing_r.nc'.format(dir)\n",
    "name = 'tcst4'\n",
    "name = 'tcst4, no_irr'\n",
    "DIAGR_tcst4 = format_routing_native(filename, name, spinupyears, color='red')\n",
    "DIAGR_tcst4"
   ]
  },
  {
   "cell_type": "markdown",
   "metadata": {},
   "source": [
    "## Sensitivities (irrigation, GSWP3)"
   ]
  },
  {
   "cell_type": "code",
   "execution_count": null,
   "metadata": {},
   "outputs": [],
   "source": [
    "filename = '{}/calibration_MERIT/tcst7irr/nat18*_1D_diag_routing_r.nc'.format(dir)\n",
    "name = 'tcst4, irr'\n",
    "DIAGR_tcst4_irr = format_routing_native(filename, name, spinupyears, color='blue')\n",
    "DIAGR_tcst4_irr"
   ]
  },
  {
   "cell_type": "code",
   "execution_count": null,
   "metadata": {},
   "outputs": [],
   "source": [
    "filename = '{}/calibration_MERIT/tcst7irr/nat18*_history.nc'.format(dir)\n",
    "name = 'tcst4, irr'\n",
    "ORC_tcst4_irr = format_routing_ORC(filename, name, spinupyears, color='blue')\n",
    "\n",
    "filename = '{}/calibration_MERIT/tcst7irr/nat18*_diag_routing.nc'.format(dir)\n",
    "DIAG_tcst4_irr = format_routing_nativeDIAG(filename, name, spinupyears, color='blue')\n",
    "\n",
    "#recompute irrig\n",
    "ORC_tcst4_irr['irrigation'] = DIAG_tcst4_irr['irrigation'] / ORC_tcst4_irr['Areas'] * 2 * 24"
   ]
  },
  {
   "cell_type": "code",
   "execution_count": null,
   "metadata": {},
   "outputs": [],
   "source": [
    "filename = '{}/calibration_MERIT/tcst7irr0.6/tcst7irr0.6*_1D_diag_routing_r.nc'.format(dir)\n",
    "name = 'tcst4, irr_reduced'\n",
    "DIAGR_tcst4_irr_reduced = format_routing_native(filename, name, spinupyears, color='deepskyblue')\n",
    "DIAGR_tcst4_irr_reduced"
   ]
  },
  {
   "cell_type": "code",
   "execution_count": null,
   "metadata": {},
   "outputs": [],
   "source": [
    "filename = '{}/calibration_MERIT/tcst7irr0.6/tcst7irr0.6*_history.nc'.format(dir)\n",
    "name = 'tcst4, irr_reduced'\n",
    "ORC_tcst4_irr_reduced = format_routing_ORC(filename, name, spinupyears, color='deepskyblue')\n",
    "\n",
    "filename = '{}/calibration_MERIT/tcst7irr0.6/tcst7irr0.6*_diag_routing.nc'.format(dir)\n",
    "DIAG_tcst4_irr_reduced = format_routing_nativeDIAG(filename, name, spinupyears, color='deepskyblue')\n",
    "DIAG_tcst4_irr_reduced\n",
    "\n",
    "#recompute irrig\n",
    "ORC_tcst4_irr_reduced['irrigation'] = DIAG_tcst4_irr_reduced['irrigation'] / ORC_tcst4_irr_reduced['Areas'] * 2 * 24"
   ]
  },
  {
   "cell_type": "code",
   "execution_count": null,
   "metadata": {},
   "outputs": [],
   "source": [
    "filename = '{}/calibration_MERIT/tcst7GSWP3/tcst7GSWP3*_1D_diag_routing_r.nc'.format(dir)\n",
    "name = 'tcst4, no_irr, GSWP3'\n",
    "DIAGR_tcst4_gswp3 = format_routing_native(filename, name, spinupyears, color='darkorange')\n",
    "DIAGR_tcst4_gswp3"
   ]
  },
  {
   "cell_type": "code",
   "execution_count": null,
   "metadata": {},
   "outputs": [],
   "source": [
    "filename = '{}/calibration_MERIT/tcst7irrGSWP3/nat18GSWP3*_1D_diag_routing_r.nc'.format(dir)\n",
    "name = 'tcst4, irr, GSWP3'\n",
    "DIAGR_tcst4_gswp3_irr = format_routing_native(filename, name, spinupyears, color='mediumpurple')\n",
    "DIAGR_tcst4_gswp3_irr"
   ]
  },
  {
   "cell_type": "markdown",
   "metadata": {},
   "source": [
    "## Longer sims"
   ]
  },
  {
   "cell_type": "code",
   "execution_count": null,
   "metadata": {},
   "outputs": [],
   "source": [
    "spinupyears_long = [1980, 1981, 1982]"
   ]
  },
  {
   "cell_type": "code",
   "execution_count": null,
   "metadata": {},
   "outputs": [],
   "source": [
    "filename = '{}/calibration_MERIT/tcst7_long/tcst7*_1M_sechiba_history.nc'.format(dir)\n",
    "name = 'tcst4, no_irr'\n",
    "ORC_tcst4_long = format_routing_ORC(filename, name, spinupyears_long, color='red')\n",
    "ORC_tcst4_long"
   ]
  },
  {
   "cell_type": "code",
   "execution_count": null,
   "metadata": {},
   "outputs": [],
   "source": [
    "filename = '{}/calibration_MERIT/tcst7_long/tcst7*_1D_diag_routing_r.nc'.format(dir)\n",
    "name = 'tcst4, no_irr'\n",
    "DIAGR_tcst4_long = format_routing_native(filename, name, spinupyears_long, color='red')\n",
    "DIAGR_tcst4_long"
   ]
  },
  {
   "cell_type": "code",
   "execution_count": null,
   "metadata": {},
   "outputs": [],
   "source": [
    "#with long sim\n",
    "filename = '{}/calibration_MERIT/tcst7irr_long/nat18*_1D_diag_routing_r.nc'.format(dir)\n",
    "name = 'tcst4, irr'\n",
    "DIAGR_tcst4_irr_long = format_routing_native(filename, name, spinupyears_long, color='blue')\n",
    "\n",
    "filename = '{}/calibration_MERIT/tcst7irr_long/nat18*_history.nc'.format(dir)\n",
    "name = 'tcst4, irr'\n",
    "ORC_tcst4_irr_long = format_routing_ORC(filename, name, spinupyears_long, color='blue')\n",
    "\n",
    "filename = '{}/calibration_MERIT/tcst7irr_long/nat18*_diag_routing.nc'.format(dir)\n",
    "DIAG_tcst4_irr_long = format_routing_nativeDIAG(filename, name, spinupyears_long, color='blue')\n",
    "\n",
    "#recompute irrig\n",
    "ORC_tcst4_irr_long['irrigation'] = DIAG_tcst4_irr_long['irrigation'] / ORC_tcst4_irr_long['Areas'] * 2 * 24"
   ]
  },
  {
   "cell_type": "code",
   "execution_count": null,
   "metadata": {},
   "outputs": [],
   "source": [
    "# with long sim\n",
    "filename = '{}/calibration_MERIT/tcst7irr0.6_long/tcst7irr0.6*_1D_diag_routing_r.nc'.format(dir)\n",
    "name = 'tcst4, irr_reduced'\n",
    "DIAGR_tcst4_irr_reduced_long = format_routing_native(filename, name, spinupyears_long, color='deepskyblue')\n",
    "\n",
    "# filename = '{}/calibration_MERIT/tcst7irr0.6_long/tcst7irr0.6*_history.nc'.format(dir)\n",
    "# name = 'tcst4, irr_reduced'\n",
    "# ORC_tcst4_irr_reduced_long = format_routing_ORC(filename, name, spinupyears_long, color='deepskyblue')\n",
    "\n",
    "# filename = '{}/calibration_MERIT/tcst7irr0.6_long/tcst7irr0.6*_diag_routing.nc'.format(dir)\n",
    "# DIAG_tcst4_irr_reduced_long = format_routing_nativeDIAG(filename, name, spinupyears_long, color='deepskyblue')\n",
    "\n",
    "# #recompute irrig\n",
    "# ORC_tcst4_irr_reduced_long['irrigation'] = DIAG_tcst4_irr_reduced_long['irrigation'] / ORC_tcst4_irr_reduced_long['Areas'] * 2 * 24"
   ]
  },
  {
   "cell_type": "markdown",
   "metadata": {},
   "source": [
    "## Masks"
   ]
  },
  {
   "cell_type": "code",
   "execution_count": null,
   "metadata": {},
   "outputs": [],
   "source": [
    "#Iberian Peninsula mask\n",
    "mask_IP = polygon_to_mask(std_noirr, iberian_peninsula)"
   ]
  },
  {
   "cell_type": "code",
   "execution_count": null,
   "metadata": {},
   "outputs": [],
   "source": [
    "ip_std_noirr = std_noirr.where(mask_IP, drop=True)"
   ]
  },
  {
   "cell_type": "code",
   "execution_count": null,
   "metadata": {},
   "outputs": [],
   "source": [
    "ip_ORC_tcst1 = ORC_tcst1.where(mask_IP, drop=True)\n",
    "# ip_DIAGR_tcst1 = DIAGR_tcst1.where(mask_IP, drop=True)\n",
    "ip_ORC_tcst2 = ORC_tcst2.where(mask_IP, drop=True)\n",
    "# ip_DIAGR_tcst2 = DIAGR_tcst2.where(mask_IP, drop=True)\n",
    "ip_ORC_tcst3 = ORC_tcst3.where(mask_IP, drop=True)\n",
    "# ip_DIAGR_tcst3 = DIAGR_tcst3.where(mask_IP, drop=True)\n",
    "ip_ORC_tcst4 = ORC_tcst4.where(mask_IP, drop=True)\n",
    "# ip_DIAGR_tcst4 = DIAGR_tcst4.where(mask_IP, drop=True)"
   ]
  },
  {
   "cell_type": "code",
   "execution_count": null,
   "metadata": {},
   "outputs": [],
   "source": [
    "ip_ORC_tcst4_irr = ORC_tcst4_irr.where(mask_IP, drop=True)\n",
    "ip_ORC_tcst4_irr_reduced = ORC_tcst4_irr_reduced.where(mask_IP, drop=True)"
   ]
  },
  {
   "cell_type": "code",
   "execution_count": null,
   "metadata": {},
   "outputs": [],
   "source": [
    "\n",
    "mask_IP_long = polygon_to_mask(ORC_tcst4_long, iberian_peninsula)\n",
    "ip_ORC_tcst4_long = ORC_tcst4_long.where(mask_IP_long, drop=True)\n",
    "ip_ORC_tcst4_irr_long = ORC_tcst4_irr_long.where(mask_IP_long, drop=True)\n",
    "# ip_ORC_tcst4_irr_reduced_long = ORC_tcst4_irr_reduced_long.where(mask_IP_long, drop=True)"
   ]
  },
  {
   "cell_type": "markdown",
   "metadata": {},
   "source": [
    "## Obs"
   ]
  },
  {
   "cell_type": "code",
   "execution_count": null,
   "metadata": {},
   "outputs": [],
   "source": [
    "proper_stations_dict = {\n",
    "    6226800: {'name': 'Tortosa',            'river': 'Ebro',            'lat_grid': 40.82500,   'lon_grid': 0.525007,   'station_nb': 1},\n",
    "    6226400: {'name': 'Zaragoza',           'river': 'Ebro',            'lat_grid': 41.67499,   'lon_grid': -0.90832,   'station_nb': 2},\n",
    "    6226300: {'name': 'Castejon',           'river': 'Ebro',            'lat_grid': 42.17499,   'lon_grid': -1.69165,   'station_nb': 3},\n",
    "    6226600: {'name': 'Seros',              'river': 'Segre',           'lat_grid': 41.45833,   'lon_grid': 0.425007,   'station_nb': 4},\n",
    "    6226650: {'name': 'Fraga',              'river': 'Cinca',           'lat_grid': 41.52499,   'lon_grid': 0.341674,   'station_nb': 5},\n",
    "    6212410: {'name': 'Tore',               'river': 'Douro',           'lat_grid': 41.50833,   'lon_grid': -5.47499,   'station_nb': 6},\n",
    "    6212700: {'name': 'Peral De Arlanza',   'river': 'Arlanza',         'lat_grid': 42.07500,   'lon_grid': -4.07499,   'station_nb': 7},\n",
    "    6213700: {'name': 'Talavera',           'river': 'Tagus',           'lat_grid': 39.95833,   'lon_grid': -4.82499,   'station_nb': 8},\n",
    "    6213800: {'name': 'Trillo',             'river': 'Tagus',           'lat_grid': 40.70833,   'lon_grid': -2.57499,   'station_nb': 9},\n",
    "    6213900: {'name': 'Peralejos',          'river': 'Tagus',           'lat_grid': 40.59166,   'lon_grid': -1.92499,   'station_nb': 10},\n",
    "    6216510: {'name': 'Azud de Badajoz',    'river': 'Guadiana',        'lat_grid': 38.86199,   'lon_grid': -7.01,      'station_nb': 11}, \n",
    "    6116200: {'name': 'Pulo do Lobo',       'river': 'Guadiana',        'lat_grid': 37.803,     'lon_grid': -7.633,     'station_nb': 12},         \n",
    "    6216530: {'name': 'La Cubeta',          'river': 'Guadiana',        'lat_grid': 38.975,     'lon_grid': -2.895,     'station_nb': 13},         \n",
    "    6216520: {'name': 'Villarubia',         'river': 'Guadiana',        'lat_grid': 39.125,     'lon_grid': -3.59073,   'station_nb': 14},      \n",
    "    6216800: {'name': 'Quintanar',          'river': 'Giguela',         'lat_grid': 39.64166,   'lon_grid': -3.07499,   'station_nb': 15},\n",
    "    6217140: {'name': 'Mengibar',           'river': 'Guadalquivir',    'lat_grid': 37.98425,   'lon_grid': -3.79939,   'station_nb': 16},     \n",
    "    6217200: {'name': 'Arroyo Maria',       'river': 'Guadalquivir',    'lat_grid': 38.17905,   'lon_grid': -2.83594,   'station_nb': 17}, \n",
    "    6217700: {'name': 'Pinos Puente',       'river': 'Frailes',         'lat_grid': 37.27499,   'lon_grid': -3.75832,   'station_nb': 18},\n",
    "}\n",
    "\n",
    "#keeping only 5 representative stations for larger rivers, for simple figure\n",
    "representative_stations_dict = {\n",
    "    6226800: {'name': 'Tortosa',            'river': 'Ebro',            'lat_grid': 40.82500,   'lon_grid': 0.525007,   'station_nb': 1},\n",
    "    6212410: {'name': 'Tore',               'river': 'Douro',           'lat_grid': 41.50833,   'lon_grid': -5.47499,   'station_nb': 6},\n",
    "    # 6213700: {'name': 'Talavera',           'river': 'Tagus',           'lat_grid': 39.95833,   'lon_grid': -4.82499,   'station_nb': 8},\n",
    "    6216510: {'name': 'Azud de Badajoz',    'river': 'Guadiana',        'lat_grid': 38.86199,   'lon_grid': -7.01,      'station_nb': 11}, \n",
    "    6217140: {'name': 'Mengibar',           'river': 'Guadalquivir',    'lat_grid': 37.98425,   'lon_grid': -3.79939,   'station_nb': 16},     \n",
    "}\n",
    "\n",
    "stations_calib_v0 = {\n",
    "    6298249: {'name': 'Zaragoza',               'river': 'Ebro',        'lon_grid':-0.8749926686286926, 'lat_grid':41.65833282470703,   'year_min':2003, 'year_max':2012, 'station_nb':1},\n",
    "    6298992: {'name': 'Albarreal De Tajo',      'river': 'Tagus',       'lon_grid':-4.17499303817749,   'lat_grid':39.891666412353516,  'year_min':2003, 'year_max':2012, 'station_nb':2},\n",
    "    6298481: {'name': 'San Miguel del Pino',    'river': 'Douro',       'lon_grid':-4.92499303817749,   'lat_grid':41.508331298828125,  'year_min':2003, 'year_max':2012, 'station_nb':3},\n",
    "    6298259: {'name': 'Badajoz',                 'river': 'Guadiana',    'lon_grid': -7.008326530456543, 'lat_grid': 38.85833358764648,  'year_min':2003, 'year_max':2012, 'station_nb':4},\n",
    "                }\n",
    "\n",
    "stations_calib_v1 = {\n",
    "    6226800: {'name': 'Tortosa',            'river': 'Ebro',            'lat_grid': 40.82500,   'lon_grid': 0.525007,   'station_nb': 1},\n",
    "    6226400: {'name': 'Zaragoza',           'river': 'Ebro',            'lat_grid': 41.67499,   'lon_grid': -0.90832,   'station_nb': 2},\n",
    "    6226300: {'name': 'Castejon',           'river': 'Ebro',            'lat_grid': 42.17499,   'lon_grid': -1.69165,   'station_nb': 3},\n",
    "    6226600: {'name': 'Seros',              'river': 'Segre',           'lat_grid': 41.45833,   'lon_grid': 0.425007,   'station_nb': 4},\n",
    "    6226650: {'name': 'Fraga',              'river': 'Cinca',           'lat_grid': 41.52499,   'lon_grid': 0.341674,   'station_nb': 5},\n",
    "    6212410: {'name': 'Tore',               'river': 'Douro',           'lat_grid': 41.50833,   'lon_grid': -5.47499,   'station_nb': 6},\n",
    "    6212700: {'name': 'Peral De Arlanza',   'river': 'Arlanza',         'lat_grid': 42.07500,   'lon_grid': -4.07499,   'station_nb': 7},\n",
    "    6213800: {'name': 'Trillo',             'river': 'Tagus',           'lat_grid': 40.70833,   'lon_grid': -2.57499,   'station_nb': 9},\n",
    "    6213900: {'name': 'Peralejos',          'river': 'Tagus',           'lat_grid': 40.59166,   'lon_grid': -1.92499,   'station_nb': 10},\n",
    "    6216510: {'name': 'Azud de Badajoz',    'river': 'Guadiana',        'lat_grid': 38.86199,   'lon_grid': -7.01,      'station_nb': 11}, \n",
    "    6116200: {'name': 'Pulo do Lobo',       'river': 'Guadiana',        'lat_grid': 37.803,     'lon_grid': -7.633,     'station_nb': 12},         \n",
    "    6216530: {'name': 'La Cubeta',          'river': 'Guadiana',        'lat_grid': 38.975,     'lon_grid': -2.895,     'station_nb': 13},         \n",
    "    6216800: {'name': 'Quintanar',          'river': 'Giguela',         'lat_grid': 39.64166,   'lon_grid': -3.07499,   'station_nb': 15},\n",
    "    6217140: {'name': 'Mengibar',           'river': 'Guadalquivir',    'lat_grid': 37.98425,   'lon_grid': -3.79939,   'station_nb': 16},     \n",
    "    6217200: {'name': 'Arroyo Maria',       'river': 'Guadalquivir',    'lat_grid': 38.17905,   'lon_grid': -2.83594,   'station_nb': 17}, \n",
    "}"
   ]
  },
  {
   "cell_type": "code",
   "execution_count": null,
   "metadata": {},
   "outputs": [],
   "source": [
    "filename = '../../../obs/streamflow/GRDC_Monthly_Jan20_v1_ES.nc'\n",
    "obs_routing_polcher = xr.open_dataset(filename)\n",
    "rename_dict = {'hydrographs': 'runoff_mean',\n",
    "               'number': 'id',}\n",
    "obs_routing_polcher = obs_routing_polcher.rename(rename_dict)\n",
    "#shift time coordinate to match the sims and grdc obs\n",
    "obs_routing_polcher['time'] = obs_routing_polcher['time'] - np.timedelta64(14, 'D')\n",
    "obs_routing_polcher"
   ]
  },
  {
   "cell_type": "markdown",
   "metadata": {},
   "source": [
    "# Tests and checks"
   ]
  },
  {
   "cell_type": "code",
   "execution_count": null,
   "metadata": {},
   "outputs": [],
   "source": [
    "stop"
   ]
  },
  {
   "cell_type": "markdown",
   "metadata": {},
   "source": [
    "## Maps"
   ]
  },
  {
   "cell_type": "code",
   "execution_count": null,
   "metadata": {},
   "outputs": [],
   "source": [
    "#Display map of var for ds\n",
    "var='evap'\n",
    "ds = ip_ORC_tcst1\n",
    "# ds = ip_natDIAGR_noirr_month\n",
    "vmin=0\n",
    "vmax=600\n",
    "vmin, vmax = None, None\n",
    "cmap=wet\n",
    "\n",
    "# title = 'Annual mean ' + ds[var].long_name + ' ({}) '.format(ds.attrs['name'])\n",
    "title = var\n",
    "# clabel= ds[var].name + ' (' + ds[var].units + ')'\n",
    "clabel=None\n",
    "\n",
    "map_ave(ds, var, cmap=cmap, vmin=vmin, vmax=vmax, title=title, clabel=clabel)"
   ]
  },
  {
   "cell_type": "code",
   "execution_count": null,
   "metadata": {},
   "outputs": [],
   "source": [
    "# Display map of var for 2 sims\n",
    "var = ''\n",
    "# max_val = None\n",
    "max_val = 0.6\n",
    "cmap = wet\n",
    "\n",
    "ds1 = ip_std_irr_month\n",
    "# ds1 = ip_natDIAGR_noirr_month\n",
    "\n",
    "# ds2 = ip_natDIAGR_noirr_month\n",
    "# ds2 = cont_ip_natORC_noirr_month\n",
    "# ds2 = ip_natDIAG_irr\n",
    "ds2 = ip_natORC_irr_month\n",
    "\n",
    "plotvar_std = ds1[var].mean(dim='time')\n",
    "plotvar_std=plotvar_std.where(plotvar_std>0)\n",
    "plotvar_nat = ds2[var].mean(dim='time')\n",
    "plotvar_nat=plotvar_nat.where(plotvar_nat>0)\n",
    "\n",
    "# Create a figure with two subplots side by side\n",
    "fig, axs = plt.subplots(1, 2, figsize=(18, 4), subplot_kw={'projection': ccrs.PlateCarree()})\n",
    "# fig.suptitle(ds1[var].long_name + ' average over the period (2003-2012, {})'.format(ds1[var].units))\n",
    "\n",
    "# Plot for std dataset\n",
    "axs[0].coastlines()\n",
    "plotvar_std.plot(ax=axs[0], transform=ccrs.PlateCarree(), cmap=cmap, vmax=max_val)\n",
    "axs[0].set_title(f'{ds1.name}')\n",
    "\n",
    "# Plot for natORC dataset\n",
    "axs[1].coastlines()\n",
    "plotvar_nat.plot(ax=axs[1], transform=ccrs.PlateCarree(), cmap=cmap, vmax=max_val)\n",
    "axs[1].set_title(f'{ds2.name}')"
   ]
  },
  {
   "cell_type": "code",
   "execution_count": null,
   "metadata": {},
   "outputs": [],
   "source": [
    "#Diff map\n",
    "var='irrigation'\n",
    "ds1=ip_natORC_irr_month\n",
    "ds2=ip_std_irr_month\n",
    "# ds2=ip_natD_noirr_month\n",
    "\n",
    "vmin=-0.3\n",
    "vmax= 0.3\n",
    "# vmin, vmax = None, None\n",
    "cmap=emb_neutral\n",
    "\n",
    "title= ds1[var].attrs['long_name'] + ' difference (' + ds1.attrs['name'] + ' - ' + ds2.attrs['name'] + ')'\n",
    "clabel= ds1[var].attrs['long_name'] + ' (' + ds1[var].attrs['units'] + ')'\n",
    "\n",
    "\n",
    "map_diff_ave(ds1, ds2, var, vmin=vmin, vmax=vmax, cmap=cmap, title=title, clabel=clabel)\n",
    "# map_rel_diff_ave(ds1, ds2, var, vmin=vmin, vmax=vmax, cmap=cmap)"
   ]
  },
  {
   "cell_type": "code",
   "execution_count": null,
   "metadata": {},
   "outputs": [],
   "source": [
    "#RMSE map\n",
    "var='irrigation'\n",
    "ds1 = ip_std_irr_month\n",
    "ds2 = ip_natORC_irr_month\n",
    "map_rmse_ave(ds1, ds2, var)"
   ]
  },
  {
   "cell_type": "code",
   "execution_count": null,
   "metadata": {},
   "outputs": [],
   "source": [
    "#RMSE and rRMSE values for multiple variables\n",
    "varlist=['streamr', 'fastr', 'slowr']\n",
    "# varlist=['drainage', 'runoff']\n",
    "ds1=ip_natORC_noirr\n",
    "ds2=ip_std_noirr\n",
    "#compute RMSE between ds1 and ds2\n",
    "for var in varlist:\n",
    "    rmse = np.sqrt(((ds1[var]-ds2[var])**2).mean(dim='time'))\n",
    "    # rel_rmse = rmse/ds2[var].mean(dim='time')\n",
    "    #output the value of the rmse after spatial averaging over all grid points\n",
    "    print(var + ' RMSE (' + ds1.name + '-' + ds2.name+ ', spatial and temporal mean) : ' + str((rmse.mean(dim=['lon','lat']).values)))\n",
    "    # print(var + ' rRMSE (' + ds1.name + '-' + ds2.name+ ', spatial and temporal mean) : ' + str((rel_rmse.mean(dim=['lon','lat']).values)))"
   ]
  },
  {
   "cell_type": "markdown",
   "metadata": {},
   "source": [
    "## Time series"
   ]
  },
  {
   "cell_type": "code",
   "execution_count": null,
   "metadata": {},
   "outputs": [],
   "source": [
    "#Average time series\n",
    "var='mrsos'\n",
    "year_min=1980\n",
    "year_max=2012\n",
    "\n",
    "ds1 = ip_ORC_tcst4_long\n",
    "# ds2 = ip_natORC_noirr_month\n",
    "# ds3 = ip_std_irr_month\n",
    "# ds4 = ip_natORC_irr_month\n",
    "# ds_list = [ds1, ds2, ds3, ds4]\n",
    "# ds_list = [ds3, ds4]\n",
    "ds_list = [ds1]\n",
    "\n",
    "time_series_ave(ds_list, var, \n",
    "                year_min=year_min, year_max=year_max,\n",
    "                ds_colors=True\n",
    "                )"
   ]
  },
  {
   "cell_type": "code",
   "execution_count": null,
   "metadata": {},
   "outputs": [],
   "source": [
    "var='evap'\n",
    "year_min=2003\n",
    "year_max=2012\n",
    "\n",
    "ds1 = ip_std_noirr_month\n",
    "ds2 = ip_natORC_noirr_month\n",
    "ds3 = ip_std_irr_month\n",
    "ds4 = ip_natORC_irr_month\n",
    "ds_list=[ds1, ds2, ds3, ds4]\n",
    "ds_list = [ds3, ds4]\n",
    "\n",
    "\n",
    "seasonal_cycle_ave(ds_list, var, \n",
    "                   year_min=year_min, year_max=year_max,\n",
    "                   ds_colors=True\n",
    "                   )"
   ]
  },
  {
   "cell_type": "markdown",
   "metadata": {},
   "source": [
    "# Figures"
   ]
  },
  {
   "cell_type": "markdown",
   "metadata": {},
   "source": [
    "## Time series / seasonnal cycle of volumes on average over Peninsula"
   ]
  },
  {
   "cell_type": "code",
   "execution_count": null,
   "metadata": {},
   "outputs": [],
   "source": [
    "savefig=True\n",
    "plot_TS=True\n",
    "plot_SC=True\n",
    "\n",
    "varlist=['slowr', 'fastr', 'streamr']\n",
    "# varlist=['slowr']\n",
    "year_min=2003\n",
    "year_max=2012\n",
    "\n",
    "ds1 = ip_std_noirr\n",
    "ds2 = ip_ORC_tcst1\n",
    "ds3 = ip_ORC_tcst2\n",
    "ds4 = ip_ORC_tcst3\n",
    "ds5 = ip_ORC_tcst4\n",
    "\n",
    "ds_list = [ds1, ds2, ds3, ds4, ds5]\n",
    "# ds_list = [ds1]\n",
    "title='off'\n",
    "\n",
    "for var in varlist:\n",
    "    if plot_TS:\n",
    "        # title = '{} (Iberian Peninsula average)'.format(ds1[var].attrs['long_name'])\n",
    "        ylabel = ds1[var].attrs['long_name'] + ' (' + ds1[var].attrs['units'] + ')'\n",
    "        time_series_ave(ds_list, var, \n",
    "                        year_min=year_min, year_max=year_max,\n",
    "                        # vmin=vmin, vmax=vmax,\n",
    "                        title=title, ylabel=ylabel,\n",
    "                        ds_colors=True\n",
    "                        )\n",
    "        if savefig:\n",
    "            plt.savefig('figures/chap3/time_series/{}_time_series_tcsts.png'.format(var), bbox_inches='tight')\n",
    "\n",
    "    #Seasonal cycle\n",
    "    if plot_SC:\n",
    "        ylabel = ds1[var].attrs['long_name'] + ' (' + ds1[var].attrs['units'] + ')'\n",
    "        # title = 'Mean seasonal cycle (Iberian Peninsula average, ({}-{})'.format(year_min, year_max)\n",
    "        seasonal_cycle_ave(ds_list, var,\n",
    "                            year_min=year_min, year_max=year_max,\n",
    "                            title=title, ylabel=ylabel,\n",
    "                            # vmin=vmin, vmax=vmax,\n",
    "                            ds_colors=True\n",
    "                        )\n",
    "        if savefig:\n",
    "            plt.savefig('figures/chap3/time_series/{}_seasonal_cycle_tcsts.png'.format(var), bbox_inches='tight')"
   ]
  },
  {
   "cell_type": "markdown",
   "metadata": {},
   "source": [
    "## Débits sur 4 stations, 4 tcsts"
   ]
  },
  {
   "cell_type": "code",
   "execution_count": null,
   "metadata": {},
   "outputs": [],
   "source": [
    "savefig=True\n",
    "stations_dict = stations_calib_v0\n",
    "obs_ds= obs_routing_polcher\n",
    "polcher_ds = True\n",
    "fig, axes= plt.subplots(2,2, figsize=(18,8))\n",
    "axes= axes.flatten()\n",
    "plot_all_sim=False\n",
    "\n",
    "ds1 = ip_std_noirr\n",
    "ds2 = DIAGR_tcst1\n",
    "ds3 = DIAGR_tcst2\n",
    "ds4 = DIAGR_tcst3\n",
    "ds5 = DIAGR_tcst4\n",
    "ds5.attrs['name'] = 'tcst4'\n",
    "\n",
    "# ds_list=[ds1]\n",
    "ds_list = [ds2, ds3, ds4, ds5]\n",
    "for i, (station_id, station_data) in enumerate(stations_dict.items()):\n",
    "    title_letter=letters[i]\n",
    "    ts_station(obs_ds,axes[i], station_id, polcher_ds=polcher_ds, name=station_data['name'], ylabel='River discharge (m³ s⁻¹)', year_min=2003, year_max=2012)\n",
    "    ts_with_obs(ds_list, obs_ds, axes[i], station_id, station_data, polcher_ds=polcher_ds, ylabel='River discharge (m³ s⁻¹)', year_min=2003, year_max=2012, plot_all_sim=plot_all_sim, title_letter=title_letter)\n",
    "if savefig:\n",
    "    plt.savefig('figures/chap3/river_discharge/merit_tcst_4stations_TS.png', bbox_inches='tight')"
   ]
  },
  {
   "cell_type": "code",
   "execution_count": null,
   "metadata": {},
   "outputs": [],
   "source": [
    "savefig=True\n",
    "stations_dict = stations_calib_v0\n",
    "obs_ds= obs_routing_polcher\n",
    "polcher_ds = True\n",
    "fig, axes= plt.subplots(2,2, figsize=(16,8))\n",
    "axes= axes.flatten()\n",
    "plot_all_sim=False\n",
    "\n",
    "ds1 = ip_std_noirr\n",
    "ds2 = DIAGR_tcst1\n",
    "ds3 = DIAGR_tcst2\n",
    "ds4 = DIAGR_tcst3\n",
    "ds5 = DIAGR_tcst4\n",
    "# ds_list=[ds1]\n",
    "ds_list = [ds2, ds3, ds4, ds5]\n",
    "\n",
    "for i, (station_id, station_data) in enumerate(stations_dict.items()):\n",
    "    title_letter=letters[i]\n",
    "    sc_station(obs_ds,axes[i], station_id, name=station_data['name'], ylabel='River discharge (m³ s⁻¹)', year_min=2003, year_max=2012, polcher_ds=polcher_ds)\n",
    "    sc_with_obs(ds_list, obs_ds, axes[i], station_id, station_data, ylabel='River discharge (m³ s⁻¹)', year_min=2003, year_max=2012, polcher_ds=polcher_ds, plot_all_sim=plot_all_sim, title_letter=title_letter)\n",
    "if savefig:\n",
    "    plt.savefig('figures/chap3/river_discharge/merit_tcst_4stations_SC.png', bbox_inches='tight')"
   ]
  },
  {
   "cell_type": "markdown",
   "metadata": {},
   "source": [
    "## Débits 4 stations, WFDEI vs GSWP3"
   ]
  },
  {
   "cell_type": "code",
   "execution_count": null,
   "metadata": {},
   "outputs": [],
   "source": [
    "savefig=True\n",
    "stations_dict = stations_calib_v0\n",
    "obs_ds= obs_routing_polcher\n",
    "polcher_ds = True\n",
    "fig, axes= plt.subplots(2,2, figsize=(16,8))\n",
    "axes= axes.flatten()\n",
    "plot_all_sim=False\n",
    "\n",
    "ds1 = DIAGR_tcst4\n",
    "ds1.attrs['name'] = 'tcst4, no_irr, WFDEI'\n",
    "ds2 = DIAGR_tcst4_irr\n",
    "ds2.attrs['name'] = 'tcst4, irr, WFDEI'\n",
    "\n",
    "ds3 = DIAGR_tcst4_gswp3\n",
    "ds4 = DIAGR_tcst4_gswp3_irr\n",
    "\n",
    "\n",
    "# ds_list=[ds1]\n",
    "ds_list = [ds1, ds2, ds3, ds4]\n",
    "\n",
    "for i, (station_id, station_data) in enumerate(stations_dict.items()):\n",
    "    title_letter=letters[i]\n",
    "    sc_station(obs_ds,axes[i], station_id, name=station_data['name'], ylabel='River discharge (m³ s⁻¹)', year_min=2003, year_max=2012, polcher_ds=polcher_ds)\n",
    "    sc_with_obs(ds_list, obs_ds, axes[i], station_id, station_data, ylabel='River discharge (m³ s⁻¹)', year_min=2003, year_max=2012, polcher_ds=polcher_ds, plot_all_sim=plot_all_sim, title_letter=title_letter)\n",
    "if savefig:\n",
    "    plt.savefig('figures/chap3/river_discharge/merit_forcing_4stations_SC.png', bbox_inches='tight')"
   ]
  },
  {
   "cell_type": "markdown",
   "metadata": {},
   "source": [
    "## Irr vs irr_reduced"
   ]
  },
  {
   "cell_type": "markdown",
   "metadata": {},
   "source": [
    "### Débits 4 stations, no_irr, irr, irr_reduced"
   ]
  },
  {
   "cell_type": "code",
   "execution_count": null,
   "metadata": {},
   "outputs": [],
   "source": [
    "savefig=True\n",
    "stations_dict = stations_calib_v0\n",
    "obs_ds= obs_routing_polcher\n",
    "polcher_ds = True\n",
    "fig, axes= plt.subplots(2,2, figsize=(16,8))\n",
    "axes= axes.flatten()\n",
    "plot_all_sim=False\n",
    "\n",
    "ds1 = DIAGR_tcst4\n",
    "ds1.attrs['name'] = 'tcst4, no_irr'\n",
    "\n",
    "ds2 = DIAGR_tcst4_irr\n",
    "ds3 = DIAGR_tcst4_irr_reduced\n",
    "# ds_list=[ds1]\n",
    "ds_list = [ds1, ds2, ds3]\n",
    "\n",
    "for i, (station_id, station_data) in enumerate(stations_dict.items()):\n",
    "    title_letter=letters[i]\n",
    "    sc_station(obs_ds,axes[i], station_id, name=station_data['name'], ylabel='River discharge (m³ s⁻¹)', year_min=2003, year_max=2012, polcher_ds=polcher_ds)\n",
    "    sc_with_obs(ds_list, obs_ds, axes[i], station_id, station_data, ylabel='River discharge (m³ s⁻¹)', year_min=2003, year_max=2012, polcher_ds=polcher_ds, plot_all_sim=plot_all_sim, title_letter=title_letter)\n",
    "if savefig:\n",
    "    plt.savefig('figures/chap3/river_discharge/merit_irr_4stations_SC.png', bbox_inches='tight')"
   ]
  },
  {
   "cell_type": "markdown",
   "metadata": {},
   "source": [
    "### Irrigation in irr and irr_reduced"
   ]
  },
  {
   "cell_type": "code",
   "execution_count": null,
   "metadata": {},
   "outputs": [],
   "source": [
    "savefig=True\n",
    "#maps\n",
    "ds1 = ip_ORC_tcst4_irr\n",
    "ds2 = ip_ORC_tcst4_irr_reduced\n",
    "var='irrigation'\n",
    "title='off'\n",
    "vmin, vmax = 0, 0.4\n",
    "map_ave(ds1, var, cmap=wet, \n",
    "        vmin=vmin, vmax=vmax,\n",
    "        title=title, clabel='Irrigation (mm d⁻¹)')\n",
    "if savefig:\n",
    "    plt.savefig('figures/chap3/maps/{}_ave_tcst4_irr.png'.format(var), bbox_inches='tight')\n",
    "\n",
    "map_ave(ds2, var, cmap=wet,\n",
    "        vmin=vmin, vmax=vmax,\n",
    "        title=title, clabel='Irrigation (mm d⁻¹)')\n",
    "if savefig:\n",
    "    plt.savefig('figures/chap3/maps/{}_ave_tcst4_irr_reduced.png'.format(var), bbox_inches='tight')\n",
    "\n",
    "map_diff_ave(ds1, ds2, var, vmin=-0.4, vmax=0.4, cmap=emb_neutralW,\n",
    "            title=title,\n",
    "            clabel='Irrigation (mm d⁻¹)')\n",
    "if savefig:\n",
    "    plt.savefig('figures/chap3/maps/{}_diff_tcst4_irr_irrreduced.png'.format(var), bbox_inches='tight')"
   ]
  },
  {
   "cell_type": "code",
   "execution_count": null,
   "metadata": {},
   "outputs": [],
   "source": [
    "savefig=True\n",
    "\n",
    "plot_TS=True\n",
    "plot_SC=True\n",
    "\n",
    "ds1 = ip_ORC_tcst4_irr\n",
    "ds2 = ip_ORC_tcst4_irr_reduced\n",
    "#add units to the irrigation variable\n",
    "ds1['irrigation'].attrs['units'] = 'mm d⁻¹'\n",
    "ds2['irrigation'].attrs['units'] = 'mm d⁻¹'\n",
    "\n",
    "ds_list= [ds1, ds2]\n",
    "year_min=2003\n",
    "year_max=2012\n",
    "\n",
    "var='irrigation'\n",
    "title='off'\n",
    "\n",
    "if plot_TS:\n",
    "    # title = '{} (Iberian Peninsula average)'.format(ds1[var].attrs['long_name'])\n",
    "    ylabel = 'Irrigation (mm d⁻¹)'\n",
    "    time_series_ave(ds_list, var, \n",
    "                    year_min=year_min, year_max=year_max,\n",
    "                    # vmin=vmin, vmax=vmax,\n",
    "                    title=title, ylabel=ylabel,\n",
    "                    ds_colors=True\n",
    "                    )\n",
    "    if savefig:\n",
    "        plt.savefig('figures/chap3/time_series/{}_time_series_irr_reduced.png'.format(var), bbox_inches='tight')\n",
    "#Seasonal cycle\n",
    "if plot_SC:\n",
    "    # title = 'Mean seasonal cycle (Iberian Peninsula average, ({}-{})'.format(year_min, year_max)\n",
    "    ylabel = 'Irrigation (mm d⁻¹)'\n",
    "    seasonal_cycle_ave(ds_list, var,\n",
    "                        year_min=year_min, year_max=year_max,\n",
    "                        title=title, ylabel=ylabel,\n",
    "                        # vmin=vmin, vmax=vmax,\n",
    "                        ds_colors=True\n",
    "                    )\n",
    "    if savefig:\n",
    "        plt.savefig('figures/chap3/time_series/{}_seasonal_cycle_irr_reduced.png'.format(var), bbox_inches='tight')"
   ]
  },
  {
   "cell_type": "code",
   "execution_count": null,
   "metadata": {},
   "outputs": [],
   "source": [
    "savefig=True\n",
    "\n",
    "plot_TS=True\n",
    "plot_SC=True\n",
    "\n",
    "ds1 = ip_ORC_tcst4_irr\n",
    "ds2 = ip_ORC_tcst4_irr_reduced\n",
    "#add units to the irrigation variable\n",
    "ds1['irrigation'].attrs['units'] = 'mm d⁻¹'\n",
    "ds2['irrigation'].attrs['units'] = 'mm d⁻¹'\n",
    "\n",
    "ds_list= [ds1, ds2]\n",
    "year_min=2003\n",
    "year_max=2012\n",
    "\n",
    "var='root_deficit'\n",
    "title='off'\n",
    "\n",
    "if plot_TS:\n",
    "    # title = '{} (Iberian Peninsula average)'.format(ds1[var].attrs['long_name'])\n",
    "    ylabel = 'Irrigation demand (mm d⁻¹)'\n",
    "    time_series_ave(ds_list, var, \n",
    "                    year_min=year_min, year_max=year_max,\n",
    "                    # vmin=vmin, vmax=vmax,\n",
    "                    title=title, ylabel=ylabel,\n",
    "                    ds_colors=True\n",
    "                    )\n",
    "    if savefig:\n",
    "        plt.savefig('figures/chap3/time_series/{}_time_series_irr_reduced.png'.format(var), bbox_inches='tight')\n",
    "#Seasonal cycle\n",
    "if plot_SC:\n",
    "    # title = 'Mean seasonal cycle (Iberian Peninsula average, ({}-{})'.format(year_min, year_max)\n",
    "    ylabel = 'Irrigation demand (mm d⁻¹)'\n",
    "    seasonal_cycle_ave(ds_list, var,\n",
    "                        year_min=year_min, year_max=year_max,\n",
    "                        title=title, ylabel=ylabel,\n",
    "                        # vmin=vmin, vmax=vmax,\n",
    "                        ds_colors=True\n",
    "                    )\n",
    "    if savefig:\n",
    "        plt.savefig('figures/chap3/time_series/{}_seasonal_cycle_irr_reduced.png'.format(var), bbox_inches='tight')"
   ]
  },
  {
   "cell_type": "markdown",
   "metadata": {},
   "source": [
    "### Impact of irr and irr_reduced on reservoirs"
   ]
  },
  {
   "cell_type": "code",
   "execution_count": null,
   "metadata": {},
   "outputs": [],
   "source": [
    "savefig=False\n",
    "plot_TS=False\n",
    "plot_SC=True\n",
    "\n",
    "varlist=['slowr', 'fastr', 'streamr']\n",
    "year_min=2003\n",
    "year_max=2012\n",
    "\n",
    "ds1 = ip_ORC_tcst4\n",
    "ds2 = ip_ORC_tcst4_irr\n",
    "ds3 = ip_ORC_tcst4_irr_reduced\n",
    "\n",
    "ds_list = [ds1, ds2, ds3]\n",
    "# ds_list = [ds1]\n",
    "title='off'\n",
    "\n",
    "for var in varlist:\n",
    "    if plot_TS:\n",
    "        # title = '{} (Iberian Peninsula average)'.format(ds1[var].attrs['long_name'])\n",
    "        ylabel = ds1[var].attrs['long_name'] + ' (' + ds1[var].attrs['units'] + ')'\n",
    "        time_series_ave(ds_list, var, \n",
    "                        year_min=year_min, year_max=year_max,\n",
    "                        # vmin=vmin, vmax=vmax,\n",
    "                        title=title, ylabel=ylabel,\n",
    "                        ds_colors=True\n",
    "                        )\n",
    "        if savefig:\n",
    "            plt.savefig('figures/chap3/time_series/{}_time_series_irr_reduced.png'.format(var), bbox_inches='tight')\n",
    "\n",
    "    #Seasonal cycle\n",
    "    if plot_SC:\n",
    "        ylabel = ds1[var].attrs['long_name'] + ' (' + ds1[var].attrs['units'] + ')'\n",
    "        # title = 'Mean seasonal cycle (Iberian Peninsula average, ({}-{})'.format(year_min, year_max)\n",
    "        seasonal_cycle_ave(ds_list, var,\n",
    "                            year_min=year_min, year_max=year_max,\n",
    "                            title=title, ylabel=ylabel,\n",
    "                            # vmin=vmin, vmax=vmax,\n",
    "                            ds_colors=True\n",
    "                        )\n",
    "        if savefig:\n",
    "            plt.savefig('figures/chap3/time_series/{}_seasonal_cycle_irr_reduced.png'.format(var), bbox_inches='tight')"
   ]
  },
  {
   "cell_type": "markdown",
   "metadata": {},
   "source": [
    "### Diff map of reservoir volumes between irr and irr_reduced"
   ]
  },
  {
   "cell_type": "code",
   "execution_count": null,
   "metadata": {},
   "outputs": [],
   "source": [
    "savefig=False\n",
    "#maps\n",
    "ds0 = ip_ORC_tcst4\n",
    "ds1 = ip_ORC_tcst4_irr\n",
    "ds2 = ip_ORC_tcst4_irr_reduced\n",
    "varlist=['slowr', 'fastr','streamr']\n",
    "title='off'\n",
    "vmin, vmax = None, None\n",
    "\n",
    "i=0\n",
    "for var in varlist:\n",
    "    clabel = ds0[var].attrs['long_name'] + ' rel. diff. (%)'\n",
    "\n",
    "    #relative difference of two scenarios against noirr\n",
    "    # vmin, vmax = -75, 75\n",
    "    # map_rel_diff_ave(ds1, ds0, var, vmin=vmin, vmax=vmax, cmap=emb_neutralW,\n",
    "    #             title=title,\n",
    "    #             clabel=clabel,\n",
    "    #             )\n",
    "    # map_rel_diff_ave(ds2, ds0, var, vmin=vmin, vmax=vmax, cmap=emb_neutralW,\n",
    "    #             title=title,\n",
    "    #             clabel=clabel,\n",
    "    #             )\n",
    "    #relative difference between the two irrigation scenarios\n",
    "    vmin, vmax = -50, 50\n",
    "    map_rel_diff_ave(ds2, ds1, var, vmin=vmin, vmax=vmax, cmap=emb_neutralW,\n",
    "                title=title,\n",
    "                clabel=clabel,\n",
    "                )\n",
    "    map_rel_diff_ave(ds1, ds2, var, vmin=vmin, vmax=vmax, cmap=emb_neutralW,\n",
    "                title=title,\n",
    "                clabel=clabel,\n",
    "                )\n",
    "\n",
    "    #direct viz of reservoir volumes\n",
    "#     vmins= [0, 0, 0]\n",
    "#     vmaxs= [60, 2, 30]  \n",
    "#     vmin, vmax = vmins[i], vmaxs[i]\n",
    "#     i += 1\n",
    "#     clabel = ds0[var].attrs['long_name'] + ' (' + ds0[var].attrs['units'] + ')'\n",
    "#     map_ave(ds1, var, cmap=blues, vmin=vmin, vmax=vmax,\n",
    "#             title=title, clabel=clabel)\n",
    "#     map_ave(ds2, var, cmap=blues, vmin=vmin, vmax=vmax,\n",
    "#             title=title, clabel=clabel)"
   ]
  },
  {
   "cell_type": "markdown",
   "metadata": {},
   "source": [
    "## Irr vs irr_reduced, long"
   ]
  },
  {
   "cell_type": "markdown",
   "metadata": {},
   "source": [
    "### Débits 4 stations, no_irr, irr, irr_reduced long"
   ]
  },
  {
   "cell_type": "code",
   "execution_count": null,
   "metadata": {},
   "outputs": [],
   "source": [
    "savefig=True\n",
    "stations_dict = stations_calib_v0\n",
    "obs_ds= obs_routing_polcher\n",
    "polcher_ds = True\n",
    "fig, axes= plt.subplots(2,2, figsize=(18,8))\n",
    "axes= axes.flatten()\n",
    "plot_all_sim=False\n",
    "\n",
    "ds1 = DIAGR_tcst4_long\n",
    "ds1.attrs['name'] = 'tcst4, no_irr'\n",
    "\n",
    "ds2 = DIAGR_tcst4_irr_long\n",
    "ds3 = DIAGR_tcst4_irr_reduced_long\n",
    "# ds_list=[ds1]\n",
    "ds_list = [ds1, ds2, ds3]\n",
    "\n",
    "for i, (station_id, station_data) in enumerate(stations_dict.items()):\n",
    "    title_letter=letters[i]\n",
    "    sc_station(obs_ds,axes[i], station_id, name=station_data['name'], ylabel='River discharge (m³ s⁻¹)', year_min=1983, year_max=2010, polcher_ds=polcher_ds)\n",
    "    sc_with_obs(ds_list, obs_ds, axes[i], station_id, station_data, ylabel='River discharge (m³ s⁻¹)', year_min=1983, year_max=2010, polcher_ds=polcher_ds, plot_all_sim=plot_all_sim, title_letter=title_letter)\n",
    "if savefig:\n",
    "    plt.savefig('figures/chap3/river_discharge/merit_irr_4stations_SC.png', bbox_inches='tight')"
   ]
  },
  {
   "cell_type": "markdown",
   "metadata": {},
   "source": [
    "### Irrigation in irr and irr_reduced, long"
   ]
  },
  {
   "cell_type": "code",
   "execution_count": null,
   "metadata": {},
   "outputs": [],
   "source": [
    "#map \n",
    "ds1 = ip_ORC_tcst4_irr_long\n",
    "ds2 = ip_ORC_tcst4_irr_reduced_long\n",
    "var='irrigation'\n",
    "title='off'\n",
    "vmin, vmax = 0, 0.4\n",
    "map_ave(ds1, var, cmap=wet, \n",
    "        vmin=vmin, vmax=vmax,\n",
    "        title=title, clabel='Irrigation (mm d⁻¹)')\n",
    "\n",
    "map_ave(ds2, var, cmap=wet,\n",
    "        vmin=vmin, vmax=vmax,\n",
    "        title=title, clabel='Irrigation (mm d⁻¹)')\n",
    "\n",
    "map_diff_ave(ds1, ds2, var, vmin=-0.4, vmax=0.4, cmap=emb_neutralW,\n",
    "            title=title,\n",
    "            clabel='Irrigation (mm d⁻¹)')"
   ]
  },
  {
   "cell_type": "code",
   "execution_count": null,
   "metadata": {},
   "outputs": [],
   "source": [
    "savefig=False\n",
    "\n",
    "plot_TS=True\n",
    "plot_SC=True\n",
    "\n",
    "ds1 = ip_ORC_tcst4_irr_long\n",
    "ds2 = ip_ORC_tcst4_irr_reduced_long\n",
    "#add units to the irrigation variable\n",
    "ds1['irrigation'].attrs['units'] = 'mm d⁻¹'\n",
    "ds2['irrigation'].attrs['units'] = 'mm d⁻¹'\n",
    "\n",
    "ds_list= [ds1, ds2]\n",
    "yearmin=1983\n",
    "yearmax=2010\n",
    "\n",
    "var='irrigation'\n",
    "title='off'\n",
    "\n",
    "if plot_TS:\n",
    "    # title = '{} (Iberian Peninsula average)'.format(ds1[var].attrs['long_name'])\n",
    "    ylabel = 'Irrigation (mm d⁻¹)'\n",
    "    time_series_ave(ds_list, var, \n",
    "                    year_min=yearmin, year_max=yearmax,\n",
    "                    # vmin=vmin, vmax=vmax,\n",
    "                    title=title, ylabel=ylabel,\n",
    "                    ds_colors=True\n",
    "                    )\n",
    "    if savefig:\n",
    "        plt.savefig('figures/chap3/time_series/{}_time_series_irr_reduced.png'.format(var), bbox_inches='tight')\n",
    "#Seasonal cycle\n",
    "if plot_SC:\n",
    "    # title = 'Mean seasonal cycle (Iberian Peninsula average, ({}-{})'.format(year_min, year_max)\n",
    "    ylabel = 'Irrigation (mm d⁻¹)'\n",
    "    seasonal_cycle_ave(ds_list, var,\n",
    "                        year_min=yearmin, year_max=yearmax,\n",
    "                        title=title, ylabel=ylabel,\n",
    "                        # vmin=vmin, vmax=vmax,\n",
    "                        ds_colors=True\n",
    "                    )\n",
    "    if savefig:\n",
    "        plt.savefig('figures/chap3/time_series/{}_seasonal_cycle_irr_reduced.png'.format(var), bbox_inches='tight')"
   ]
  }
 ],
 "metadata": {
  "kernelspec": {
   "display_name": "lam1env",
   "language": "python",
   "name": "python3"
  },
  "language_info": {
   "codemirror_mode": {
    "name": "ipython",
    "version": 3
   },
   "file_extension": ".py",
   "mimetype": "text/x-python",
   "name": "python",
   "nbconvert_exporter": "python",
   "pygments_lexer": "ipython3",
   "version": "3.12.10"
  }
 },
 "nbformat": 4,
 "nbformat_minor": 2
}
