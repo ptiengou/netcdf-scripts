{
 "cells": [
  {
   "cell_type": "markdown",
   "metadata": {},
   "source": [
    "# Imports and setting up viz"
   ]
  },
  {
   "cell_type": "code",
   "execution_count": null,
   "metadata": {},
   "outputs": [],
   "source": [
    "%load_ext autoreload\n",
    "%autoreload 2\n",
    "%matplotlib inline\n",
    "\n",
    "#import personnal tools\n",
    "import sys\n",
    "sys.path.append('../../python_tools/')\n",
    "from tools import *\n",
    "from tools_mapping import *\n",
    "from tools_routing import *"
   ]
  },
  {
   "cell_type": "markdown",
   "metadata": {},
   "source": [
    "# Load files\n",
    "File to evaluate the behaviour of native routing compared to standard.\n",
    "\n",
    "First working on the same topographic grid (0.5°).\n",
    "\n",
    "3 files are considered : one from the standard routing simulation, 2 from the native routing simulation (sechiba_history, diag_routing_r)"
   ]
  },
  {
   "cell_type": "code",
   "execution_count": null,
   "metadata": {},
   "outputs": [],
   "source": [
    "dir='../../../JZ_simu_outputs/routing_native'"
   ]
  },
  {
   "cell_type": "code",
   "execution_count": null,
   "metadata": {},
   "outputs": [],
   "source": [
    "spinupyears=[2000,2001,2002]\n",
    "# spinupyears=[]"
   ]
  },
  {
   "cell_type": "markdown",
   "metadata": {},
   "source": [
    "## Format functions"
   ]
  },
  {
   "cell_type": "code",
   "execution_count": null,
   "metadata": {},
   "outputs": [],
   "source": [
    "def format_routing_ORC(filename, name, spinupyears, color=None):\n",
    "    ds = xr.open_mfdataset(filename)\n",
    "    ds = ds.rename({'time_counter': 'time'})\n",
    "    ds.attrs['name'] = name\n",
    "    ds = remove_years_efficiently(ds, spinupyears)\n",
    "\n",
    "    #edit units and names\n",
    "    if 'hydrographs' in ds:\n",
    "        ds['hydrographs'].attrs['units'] = 'm³/s'\n",
    "        ds['hydrographs'].attrs['long_name'] = 'River discharge'\n",
    "    if 'streamr' in ds:\n",
    "        ds['streamr'].attrs['units'] = 'kg/m²'\n",
    "        ds['streamr'].attrs['long_name'] = 'River reservoir volume'\n",
    "    if 'slowr' in ds:\n",
    "        ds['slowr'].attrs['units'] = 'kg/m²'\n",
    "        ds['slowr'].attrs['long_name'] = 'GW reservoir volume'\n",
    "    if 'fastr' in ds:\n",
    "        ds['fastr'].attrs['units'] = 'kg/m²'\n",
    "        ds['fastr'].attrs['long_name'] = 'Overland reservoir volume'\n",
    "\n",
    "    if color is not None:\n",
    "        ds.attrs['plot_color'] = color\n",
    "    \n",
    "    if 'coastalflow' in ds and 'riverflow' in ds:\n",
    "        ds['coast_and_river'] = ds['coastalflow'] + ds['riverflow']\n",
    "        ds['coast_and_river'].attrs['units'] = 'm³/s'\n",
    "        ds['coast_and_river'].attrs['long_name'] = 'Coastal and river flow'\n",
    "\n",
    "    return ds"
   ]
  },
  {
   "cell_type": "code",
   "execution_count": null,
   "metadata": {},
   "outputs": [],
   "source": [
    "def format_routing_native(filename, name, spinupyears, color=None):\n",
    "    ds = xr.open_mfdataset(filename)\n",
    "    ds.attrs['name'] = name\n",
    "\n",
    "    dict = {'time_counter' : 'time',\n",
    "        'routing_stream_reservoir_r' : 'streamr',\n",
    "        'routing_fast_reservoir_r' : 'fastr',\n",
    "        'routing_slow_reservoir_r' : 'slowr',\n",
    "        'routing_drainage_r' : 'drainage',\n",
    "        'routing_runoff_r' : 'runoff',\n",
    "        'routing_hydrographs_r' : 'hydrographs',\n",
    "        'routing_riverflow_r' : 'riverflow',\n",
    "        'routing_coastalflow_r' : 'coastalflow'\n",
    "        }\n",
    "    ds = ds.rename(dict)\n",
    "    ds = ds.isel(lon=slice(2,-2),lat=slice(2,-2))\n",
    "\n",
    "    ds = remove_years_efficiently(ds, spinupyears)\n",
    "\n",
    "    if color is not None:\n",
    "        ds.attrs['plot_color'] = color\n",
    "\n",
    "    #edit units and names\n",
    "    ds['hydrographs'].attrs['units'] = 'm³/s'\n",
    "    ds['hydrographs'].attrs['long_name'] = 'River discharge'\n",
    "    return ds"
   ]
  },
  {
   "cell_type": "code",
   "execution_count": null,
   "metadata": {},
   "outputs": [],
   "source": [
    "def format_routing_nativeDIAG(filename, name, spinupyears, color=None):\n",
    "    ds = xr.open_mfdataset(filename)\n",
    "    ds.attrs['name'] = name\n",
    "\n",
    "    dict = {'time_counter' : 'time',\n",
    "            \n",
    "            # for reservoirs\n",
    "            'lat_domain_landpoints_routing':'lat',\n",
    "            'lon_domain_landpoints_routing':'lon',\n",
    "            # for drainage and runoff\n",
    "            # 'lat_domain_landpoints':'lat',\n",
    "            # 'lon_domain_landpoints':'lon',\n",
    "\n",
    "            'routing_stream_reservoir' : 'streamr',\n",
    "            'routing_fast_reservoir' : 'fastr',\n",
    "            'routing_slow_reservoir' : 'slowr',\n",
    "            'routing_drainage' : 'drainage',\n",
    "            'routing_runoff' : 'runoff',\n",
    "            'routing_riverflow' : 'riverflow',\n",
    "            'routing_coastalflow' : 'coastalflow',\n",
    "            'routing_irrigation' : 'irrigation',}\n",
    "    #change the variables that exist according to the dictionary\n",
    "    ds = ds.rename(dict)\n",
    "    #remove first years to consider a spinup\n",
    "    ds = remove_years_efficiently(ds, spinupyears)\n",
    "\n",
    "    if color is not None:\n",
    "        ds.attrs['plot_color'] = color\n",
    "\n",
    "    return(ds)"
   ]
  },
  {
   "cell_type": "markdown",
   "metadata": {},
   "source": [
    "## No irrigation"
   ]
  },
  {
   "cell_type": "code",
   "execution_count": null,
   "metadata": {},
   "outputs": [],
   "source": [
    "#open netcdf files for standard routing\n",
    "filename = '{}/eval_halfdeg/nat7.1/MO/nat7.1_*_1M_sechiba_history.nc'.format(dir)\n",
    "name= 'subgrid_halfdeg, no_irr'\n",
    "std_noirr = format_routing_ORC(filename, name, spinupyears, color='red')\n",
    "std_noirr"
   ]
  },
  {
   "cell_type": "code",
   "execution_count": null,
   "metadata": {},
   "outputs": [],
   "source": [
    "#open netcdf files for native routing on ORC grid\n",
    "filename = '{}/eval_halfdeg/nat14/MO/nat14_*_1M_sechiba_history.nc'.format(dir)\n",
    "name = 'interp_topo, no_irr'\n",
    "natORC_noirr = format_routing_ORC(filename, name, spinupyears, color='orange')\n",
    "natORC_noirr"
   ]
  },
  {
   "cell_type": "code",
   "execution_count": null,
   "metadata": {},
   "outputs": [],
   "source": [
    "#open netcdf files for native routing diag_routing_r (regridded to 38x36)\n",
    "# filename = 'nat8.1/routing_native_grid_regridded/nat8.1_*.nc'\n",
    "filename = '{}/eval_halfdeg/nat14/DA/nat14_*routing_r.nc'.format(dir)\n",
    "name = 'interp_topo, no_irr'\n",
    "natDIAGR_noirr = format_routing_native(filename, name, spinupyears, color='orange')\n",
    "natDIAGR_noirr"
   ]
  },
  {
   "cell_type": "code",
   "execution_count": null,
   "metadata": {},
   "outputs": [],
   "source": [
    "filename = '{}/eval_halfdeg/nat14/DA/nat14_*_routing.nc'.format(dir)\n",
    "name = 'interp_topo, no_irr'\n",
    "natDIAG_noirr = format_routing_nativeDIAG(filename, name, spinupyears, color='orange')\n",
    "natDIAG_noirr"
   ]
  },
  {
   "cell_type": "markdown",
   "metadata": {},
   "source": [
    "## With irrigation"
   ]
  },
  {
   "cell_type": "code",
   "execution_count": null,
   "metadata": {},
   "outputs": [],
   "source": [
    "#open netcdf files for standard routing\n",
    "filename = '{}/eval_halfdeg/nat16/nat16_sechiba_history_all.nc'.format(dir)\n",
    "name = 'subgrid_halfdeg, irr'\n",
    "std_irr = format_routing_ORC(filename, name, spinupyears, color='purple')\n",
    "std_irr"
   ]
  },
  {
   "cell_type": "code",
   "execution_count": null,
   "metadata": {},
   "outputs": [],
   "source": [
    "#native with irrig\n",
    "filename = '{}/eval_halfdeg/nat15/MO/nat15*_sechiba_history.nc'.format(dir)\n",
    "name = 'interp_topo, irr'\n",
    "natORC_irr = format_routing_ORC(filename, name, spinupyears, color='green')\n",
    "natORC_irr"
   ]
  },
  {
   "cell_type": "code",
   "execution_count": null,
   "metadata": {},
   "outputs": [],
   "source": [
    "#native with irrig\n",
    "filename = '{}/eval_halfdeg/nat15/DA/nat15_*_routing_r.nc'.format(dir)\n",
    "name = 'interp_topo, irr'\n",
    "natDIAGR_irr = format_routing_native(filename, name, spinupyears, color='green')\n",
    "natDIAGR_irr"
   ]
  },
  {
   "cell_type": "code",
   "execution_count": null,
   "metadata": {},
   "outputs": [],
   "source": [
    "#native with irrig\n",
    "filename = '{}/eval_halfdeg/nat15/DA/nat15_*_routing.nc'.format(dir)\n",
    "name = 'interp_topo, irr'\n",
    "natDIAG_irr = format_routing_nativeDIAG(filename, name, spinupyears, color='green')\n",
    "natDIAG_irr"
   ]
  },
  {
   "cell_type": "code",
   "execution_count": null,
   "metadata": {},
   "outputs": [],
   "source": [
    "natORC_irr['irrigation'] = natDIAG_irr['irrigation'] / natORC_irr['Areas'] * 2 * 24\n",
    "natORC_irr['irrigation'].attrs['long_name'] = 'irrigation'\n",
    "natORC_irr['irrigation'].attrs['units'] = 'mm d⁻¹'"
   ]
  },
  {
   "cell_type": "markdown",
   "metadata": {},
   "source": [
    "## Contfrac from other sim for tests"
   ]
  },
  {
   "cell_type": "code",
   "execution_count": null,
   "metadata": {},
   "outputs": [],
   "source": [
    "filename = '../../../contfrac_CRUJRA-halfdeg_global.nc'\n",
    "contfrac = xr.open_dataset(filename)\n",
    "#restrict to lon_min, lon_max, lat_min, lat_max\n",
    "lon_min=-10\n",
    "lon_max=4\n",
    "lat_min=35.5\n",
    "lat_max=44.5\n",
    "contfrac = contfrac.sel(lon=slice(lon_min, lon_max), lat=slice(lat_max, lat_min))\n",
    "contfrac"
   ]
  },
  {
   "cell_type": "markdown",
   "metadata": {},
   "source": [
    "# File subsampling"
   ]
  },
  {
   "cell_type": "markdown",
   "metadata": {},
   "source": [
    "### Monthly files"
   ]
  },
  {
   "cell_type": "code",
   "execution_count": null,
   "metadata": {},
   "outputs": [],
   "source": [
    "#extract monthly mean from noirr datasets\n",
    "# add 14 days to the time coordinate to sync with discharge observations\n",
    "std_noirr_month= std_noirr.resample(time='MS').mean()\n",
    "# std_noirr_month['time'] = std_noirr_month['time'] + np.timedelta64(14, 'D')\n",
    "\n",
    "natORC_noirr_month= natORC_noirr.resample(time='MS').mean()\n",
    "# natORC_noirr_month['time'] = natORC_noirr_month['time'] + np.timedelta64(14, 'D')\n",
    "\n",
    "natDIAGR_noirr_month= natDIAGR_noirr.resample(time='MS').mean()\n",
    "# natDIAGR_noirr_month['time'] = natDIAGR_noirr_month['time'] + np.timedelta64(14, 'D')\n",
    "\n",
    "natDIAG_noirr_month= natDIAG_noirr.resample(time='MS').mean()\n",
    "# natDIAG_noirr_month['time'] = natDIAG_noirr_month['time'] + np.timedelta64(14, 'D')"
   ]
  },
  {
   "cell_type": "code",
   "execution_count": null,
   "metadata": {},
   "outputs": [],
   "source": [
    "#extract monthly mean from irr datasets\n",
    "# add 14 days to the time coordinate to sync with discharge observations\n",
    "std_irr_month= std_irr.resample(time='MS').mean()\n",
    "# std_irr_month['time'] = std_irr_month['time'] + np.timedelta64(14, 'D')\n",
    "\n",
    "natORC_irr_month= natORC_irr.resample(time='MS').mean()\n",
    "# natORC_irr_month['time'] = natORC_irr_month['time'] + np.timedelta64(14, 'D')\n",
    "\n",
    "natDIAGR_irr_month= natDIAGR_irr.resample(time='MS').mean()\n",
    "# natDIAGR_irr_month['time'] = natDIAGR_irr_month['time'] + np.timedelta64(14, 'D')\n",
    "\n",
    "natDIAG_irr_month= natDIAG_irr.resample(time='MS').mean()\n",
    "# natDIAG_irr_month['time'] = natDIAG_irr_month['time'] + np.timedelta64(14, 'D')"
   ]
  },
  {
   "cell_type": "code",
   "execution_count": null,
   "metadata": {},
   "outputs": [],
   "source": [
    "#make a version of std_noirr_month limited in lon lat\n",
    "std_noirr_month_restricted_ave = std_noirr_month.sel(lon=slice(lon_min, lon_max), lat=slice(lat_min, lat_max)).mean(dim=['time'])\n",
    "#broadcast contfrac temporally like std_noirr_restricted to time dimension\n",
    "# contfrac_b = contfrac.broadcast_like(std_noirr_month_restricted)\n",
    "#drop dims veget, nobio, solay\n",
    "# contfrac_b = contfrac_b.drop_vars(['veget', 'nobio', 'solay'])\n",
    "std_noirr_month_restricted_ave['fastr_corrected'] = std_noirr_month_restricted_ave['fastr'] / (contfrac['Contfrac'] ** 2)\n",
    "std_noirr_month_restricted_ave['slowr_corrected'] = std_noirr_month_restricted_ave['slowr'] / (contfrac['Contfrac'] ** 2)"
   ]
  },
  {
   "cell_type": "markdown",
   "metadata": {},
   "source": [
    "### Masks"
   ]
  },
  {
   "cell_type": "code",
   "execution_count": null,
   "metadata": {},
   "outputs": [],
   "source": [
    "#Iberian Peninsula mask\n",
    "mask_IP = polygon_to_mask(std_noirr_month, iberian_peninsula)"
   ]
  },
  {
   "cell_type": "code",
   "execution_count": null,
   "metadata": {},
   "outputs": [],
   "source": [
    "# ip_std_noirr = std_noirr.where(mask_IP, drop=True)\n",
    "# ip_natORC_noirr = natORC_noirr.where(mask_IP, drop=True)\n",
    "# ip_natDIAGR_noirr = natDIAGR_noirr.where(mask_IP, drop=True)\n",
    "# ip_natDIAG_noirr = natDIAG_noirr.where(mask_IP, drop=True)\n",
    "\n",
    "ip_std_noirr_month = std_noirr_month.where(mask_IP, drop=True)\n",
    "ip_natORC_noirr_month = natORC_noirr_month.where(mask_IP, drop=True)\n",
    "ip_natDIAGR_noirr_month = natDIAGR_noirr_month.where(mask_IP, drop=True)\n",
    "ip_natDIAG_noirr_month = natDIAG_noirr_month.where(mask_IP, drop=True)"
   ]
  },
  {
   "cell_type": "code",
   "execution_count": null,
   "metadata": {},
   "outputs": [],
   "source": [
    "#irr datasets\n",
    "# ip_std_irr = std_irr.where(mask_IP, drop=True)\n",
    "# ip_natORC_irr = natORC_irr.where(mask_IP, drop=True)\n",
    "# ip_natDIAGR_irr = natDIAGR_irr.where(mask_IP, drop=True)\n",
    "# ip_natDIAG_irr = natDIAG_irr.where(mask_IP, drop=True)\n",
    "\n",
    "ip_std_irr_month = std_irr_month.where(mask_IP, drop=True)\n",
    "ip_natORC_irr_month = natORC_irr_month.where(mask_IP, drop=True)\n",
    "ip_natDIAGR_irr_month = natDIAGR_irr_month.where(mask_IP, drop=True)\n",
    "ip_natDIAG_irr_month = natDIAG_irr_month.where(mask_IP, drop=True)"
   ]
  },
  {
   "cell_type": "code",
   "execution_count": null,
   "metadata": {},
   "outputs": [],
   "source": [
    "cont_mask = std_noirr_month.mean(dim='time')['coastalflow'] <= 0.0 \n",
    "cont_mask2 = std_noirr_month.mean(dim='time')['riverflow'] <= 0.0"
   ]
  },
  {
   "cell_type": "code",
   "execution_count": null,
   "metadata": {},
   "outputs": [],
   "source": [
    "cont_ip_std_noirr_month = std_noirr_month.where(cont_mask, drop=False).where(cont_mask2, drop=False).where(mask_IP, drop=True)\n",
    "cont_ip_natORC_noirr_month = natORC_noirr_month.where(cont_mask, drop=False).where(cont_mask2, drop=False).where(mask_IP, drop=True)\n",
    "cont_ip_natDIAGR_noirr_month = natDIAGR_noirr_month.where(cont_mask, drop=False).where(cont_mask2, drop=False).where(mask_IP, drop=True)\n",
    "cont_ip_natDIAG_noirr_month = natDIAG_noirr_month.where(cont_mask, drop=False).where(cont_mask2, drop=False).where(mask_IP, drop=True)"
   ]
  },
  {
   "cell_type": "code",
   "execution_count": null,
   "metadata": {},
   "outputs": [],
   "source": [
    "coastalflow_mask = std_noirr_month.mean(dim='time')['coastalflow'] > 0.0\n",
    "coastal_ip_std_noirr_month = std_noirr_month.where(coastalflow_mask, drop=False).where(mask_IP, drop=True)\n",
    "coastal_ip_natORC_noirr_month = natORC_noirr_month.where(coastalflow_mask, drop=False).where(mask_IP, drop=True)\n",
    "\n",
    "riverflow_mask = std_noirr_month.mean(dim='time')['riverflow'] > 0.0\n",
    "outlets_ip_std_noirr_month = std_noirr_month.where(riverflow_mask, drop=False).where(mask_IP, drop=True)\n",
    "outlets_ip_natORC_noirr_month = natORC_noirr_month.where(riverflow_mask, drop=False).where(mask_IP, drop=True)"
   ]
  },
  {
   "cell_type": "code",
   "execution_count": null,
   "metadata": {},
   "outputs": [],
   "source": [
    "coast_mask2 = (std_noirr_month.mean(dim='time')['coast_and_river'] > 0.0)"
   ]
  },
  {
   "cell_type": "code",
   "execution_count": null,
   "metadata": {},
   "outputs": [],
   "source": [
    "coastalflow_mask2 = natDIAGR_noirr_month.mean(dim='time')['coastalflow'] > 0.0\n",
    "coastal_natDIAGR_noirr_month = natDIAGR_noirr_month.where(coastalflow_mask2, drop=False).where(mask_IP, drop=True)\n",
    "\n",
    "riverflow_mask2 = natDIAGR_noirr_month.mean(dim='time')['riverflow'] > 0.0\n",
    "outlets_natDIAGR_noirr_month = natDIAGR_noirr_month.where(riverflow_mask2, drop=False).where(mask_IP, drop=True)"
   ]
  },
  {
   "cell_type": "markdown",
   "metadata": {},
   "source": [
    "# Tests"
   ]
  },
  {
   "cell_type": "markdown",
   "metadata": {},
   "source": [
    "## Maps"
   ]
  },
  {
   "cell_type": "code",
   "execution_count": null,
   "metadata": {},
   "outputs": [],
   "source": [
    "#Display map of var for ds\n",
    "var='runoff'\n",
    "ds = contfrac\n",
    "ds = ip_natORC_noirr_month\n",
    "vmin=-15\n",
    "vmax=100\n",
    "vmin, vmax = None, None\n",
    "cmap=reds\n",
    "\n",
    "# title = 'Annual mean ' + ds[var].long_name + ' ({}) '.format(ds.attrs['name'])\n",
    "title = var\n",
    "# clabel= ds[var].name + ' (' + ds[var].units + ')'\n",
    "clabel=None\n",
    "\n",
    "map_ave(ds, var, cmap=cmap, vmin=vmin, vmax=vmax, title=title, clabel=clabel)"
   ]
  },
  {
   "cell_type": "code",
   "execution_count": null,
   "metadata": {},
   "outputs": [],
   "source": [
    "#Display map of var for ds\n",
    "var='slowr_corrected'\n",
    "ds = std_noirr_month_restricted_ave\n",
    "# ds = ip_std_irr_month\n",
    "vmin=0\n",
    "vmax=20\n",
    "# vmin, vmax = None, None\n",
    "cmap=blues\n",
    "\n",
    "# title = 'Annual mean ' + ds[var].long_name + ' ({}) '.format(ds.attrs['name'])\n",
    "title = var\n",
    "# clabel= ds[var].name + ' (' + ds[var].units + ')'\n",
    "clabel=None\n",
    "\n",
    "map_ave(ds, var, cmap=cmap, vmin=vmin, vmax=vmax, title=title, clabel=clabel)"
   ]
  },
  {
   "cell_type": "code",
   "execution_count": null,
   "metadata": {},
   "outputs": [],
   "source": [
    "# Display map of var for 2 sims\n",
    "var = 'fastr'\n",
    "# max_val = None\n",
    "max_val = 3\n",
    "cmap = blues\n",
    "\n",
    "ds1 = std_noirr_month_restricted_ave\n",
    "ds1 = ip_std_noirr_month\n",
    "# ds1 = std_noirr_month\n",
    "# ds1 = ip_natDIAGR_noirr_month\n",
    "\n",
    "# ds2 = ip_natDIAGR_noirr_month\n",
    "# ds2 = cont_ip_natORC_noirr_month\n",
    "# ds2 = ip_natDIAG_irr\n",
    "ds2 = ip_natORC_noirr_month\n",
    "\n",
    "if 'time' in ds1.dims:\n",
    "    plotvar_std = ds1[var].mean(dim='time')\n",
    "    plotvar_std=plotvar_std.where(plotvar_std>0)\n",
    "else:\n",
    "    plotvar_std = ds1[var]\n",
    "    plotvar_std=plotvar_std.where(plotvar_std>0)\n",
    "plotvar_nat = ds2[var].mean(dim='time')\n",
    "plotvar_nat=plotvar_nat.where(plotvar_nat>0)\n",
    "\n",
    "# Create a figure with two subplots side by side\n",
    "fig, axs = plt.subplots(1, 2, figsize=(18, 4), subplot_kw={'projection': ccrs.PlateCarree()})\n",
    "# fig.suptitle(ds1[var].long_name + ' average over the period (2003-2012, {})'.format(ds1[var].units))\n",
    "\n",
    "# Plot for std dataset\n",
    "axs[0].coastlines()\n",
    "plotvar_std.plot(ax=axs[0], transform=ccrs.PlateCarree(), cmap=cmap, vmax=max_val)\n",
    "if 'name' in ds1.attrs:\n",
    "    axs[0].set_title(f'{ds1.name}')\n",
    "\n",
    "# Plot for natORC dataset\n",
    "axs[1].coastlines()\n",
    "plotvar_nat.plot(ax=axs[1], transform=ccrs.PlateCarree(), cmap=cmap, vmax=max_val)\n",
    "axs[1].set_title(f'{ds2.name}')"
   ]
  },
  {
   "cell_type": "code",
   "execution_count": null,
   "metadata": {},
   "outputs": [],
   "source": [
    "#Diff map\n",
    "var='slowr'\n",
    "ds1=ip_natORC_noirr_month\n",
    "ds2=ip_std_noirr_month\n",
    "# ds2=ip_natD_noirr_month\n",
    "\n",
    "vmin=-100\n",
    "vmax= 100\n",
    "# vmin, vmax = None, None\n",
    "cmap=emb_neutral\n",
    "\n",
    "title= ds1[var].attrs['long_name'] + ' difference (' + ds1.attrs['name'] + ' - ' + ds2.attrs['name'] + ')'\n",
    "clabel= ds1[var].attrs['long_name'] + ' (' + ds1[var].attrs['units'] + ')'\n",
    "\n",
    "\n",
    "map_diff_ave(ds1, ds2, var, vmin=vmin, vmax=vmax, cmap=cmap, title=title, clabel=clabel)\n",
    "vmin, vmax=-10000,10000\n",
    "map_rel_diff_ave(ds1, ds2, var, vmin=vmin, vmax=vmax, cmap=cmap)"
   ]
  },
  {
   "cell_type": "code",
   "execution_count": null,
   "metadata": {},
   "outputs": [],
   "source": [
    "#RMSE map\n",
    "var='irrigation'\n",
    "ds1 = ip_std_irr_month\n",
    "ds2 = ip_natORC_irr_month\n",
    "map_rmse_ave(ds1, ds2, var)"
   ]
  },
  {
   "cell_type": "code",
   "execution_count": null,
   "metadata": {},
   "outputs": [],
   "source": [
    "#RMSE and rRMSE values for multiple variables\n",
    "varlist=['streamr', 'fastr', 'slowr']\n",
    "# varlist=['drainage', 'runoff']\n",
    "ds1=ip_natORC_noirr\n",
    "ds2=ip_std_noirr\n",
    "#compute RMSE between ds1 and ds2\n",
    "for var in varlist:\n",
    "    rmse = np.sqrt(((ds1[var]-ds2[var])**2).mean(dim='time'))\n",
    "    # rel_rmse = rmse/ds2[var].mean(dim='time')\n",
    "    #output the value of the rmse after spatial averaging over all grid points\n",
    "    print(var + ' RMSE (' + ds1.name + '-' + ds2.name+ ', spatial and temporal mean) : ' + str((rmse.mean(dim=['lon','lat']).values)))\n",
    "    # print(var + ' rRMSE (' + ds1.name + '-' + ds2.name+ ', spatial and temporal mean) : ' + str((rel_rmse.mean(dim=['lon','lat']).values)))"
   ]
  },
  {
   "cell_type": "markdown",
   "metadata": {},
   "source": [
    "## Time series"
   ]
  },
  {
   "cell_type": "code",
   "execution_count": null,
   "metadata": {},
   "outputs": [],
   "source": [
    "#Average time series\n",
    "var='mrsos'\n",
    "year_min=2000\n",
    "year_max=2012\n",
    "\n",
    "ds1 = ip_std_noirr_month\n",
    "ds2 = ip_natORC_noirr_month\n",
    "ds3 = ip_std_irr_month\n",
    "ds4 = ip_natORC_irr_month\n",
    "ds_list = [ds1, ds2, ds3, ds4]\n",
    "# ds_list = [ds3, ds4]\n",
    "\n",
    "time_series_ave(ds_list, var, \n",
    "                year_min=year_min, year_max=year_max,\n",
    "                ds_colors=True\n",
    "                )"
   ]
  },
  {
   "cell_type": "code",
   "execution_count": null,
   "metadata": {},
   "outputs": [],
   "source": [
    "var='evap'\n",
    "year_min=2003\n",
    "year_max=2012\n",
    "\n",
    "ds1 = ip_std_noirr_month\n",
    "ds2 = ip_natORC_noirr_month\n",
    "ds3 = ip_std_irr_month\n",
    "ds4 = ip_natORC_irr_month\n",
    "ds_list=[ds1, ds2, ds3, ds4]\n",
    "ds_list = [ds3, ds4]\n",
    "\n",
    "\n",
    "seasonal_cycle_ave(ds_list, var, \n",
    "                   year_min=year_min, year_max=year_max,\n",
    "                   ds_colors=True\n",
    "                   )"
   ]
  },
  {
   "cell_type": "markdown",
   "metadata": {},
   "source": [
    "## Hydrographs"
   ]
  },
  {
   "cell_type": "code",
   "execution_count": null,
   "metadata": {},
   "outputs": [],
   "source": [
    "filename = '../../../obs/streamflow/GRDC-Monthly_Spain.nc'\n",
    "obs_routing_grdc = xr.open_dataset(filename)\n",
    "obs_routing_grdc"
   ]
  },
  {
   "cell_type": "code",
   "execution_count": null,
   "metadata": {},
   "outputs": [],
   "source": [
    "filename = '../../../obs/streamflow/GRDC_Monthly_Jan20_v1_ES.nc'\n",
    "obs_routing_polcher = xr.open_dataset(filename)\n",
    "rename_dict = {'hydrographs': 'runoff_mean',\n",
    "               'number': 'id',}\n",
    "obs_routing_polcher = obs_routing_polcher.rename(rename_dict)\n",
    "#shift time coordinate to match the sims and grdc obs\n",
    "obs_routing_polcher['time'] = obs_routing_polcher['time'] - np.timedelta64(14, 'D')\n",
    "obs_routing_polcher"
   ]
  },
  {
   "cell_type": "code",
   "execution_count": null,
   "metadata": {},
   "outputs": [],
   "source": [
    "proper_stations_dict = {\n",
    "    6226800: {'name': 'Tortosa',            'river': 'Ebro',            'lat_grid': 40.82500,   'lon_grid': 0.525007,   'station_nb': 1},\n",
    "    6226400: {'name': 'Zaragoza',           'river': 'Ebro',            'lat_grid': 41.67499,   'lon_grid': -0.90832,   'station_nb': 2},\n",
    "    6226300: {'name': 'Castejon',           'river': 'Ebro',            'lat_grid': 42.17499,   'lon_grid': -1.69165,   'station_nb': 3},\n",
    "    6226600: {'name': 'Seros',              'river': 'Segre',           'lat_grid': 41.45833,   'lon_grid': 0.425007,   'station_nb': 4},\n",
    "    6226650: {'name': 'Fraga',              'river': 'Cinca',           'lat_grid': 41.52499,   'lon_grid': 0.341674,   'station_nb': 5},\n",
    "    6212410: {'name': 'Tore',               'river': 'Douro',           'lat_grid': 41.50833,   'lon_grid': -5.47499,   'station_nb': 6},\n",
    "    6212700: {'name': 'Peral De Arlanza',   'river': 'Arlanza',         'lat_grid': 42.07500,   'lon_grid': -4.07499,   'station_nb': 7},\n",
    "    6213700: {'name': 'Talavera',           'river': 'Tagus',           'lat_grid': 39.95833,   'lon_grid': -4.82499,   'station_nb': 8},\n",
    "    6213800: {'name': 'Trillo',             'river': 'Tagus',           'lat_grid': 40.70833,   'lon_grid': -2.57499,   'station_nb': 9},\n",
    "    6213900: {'name': 'Peralejos',          'river': 'Tagus',           'lat_grid': 40.59166,   'lon_grid': -1.92499,   'station_nb': 10},\n",
    "    6216510: {'name': 'Azud de Badajoz',    'river': 'Guadiana',        'lat_grid': 38.86199,   'lon_grid': -7.01,      'station_nb': 11}, \n",
    "    6116200: {'name': 'Pulo do Lobo',       'river': 'Guadiana',        'lat_grid': 37.803,     'lon_grid': -7.633,     'station_nb': 12},         \n",
    "    6216530: {'name': 'La Cubeta',          'river': 'Guadiana',        'lat_grid': 38.975,     'lon_grid': -2.895,     'station_nb': 13},         \n",
    "    6216520: {'name': 'Villarubia',         'river': 'Guadiana',        'lat_grid': 39.125,     'lon_grid': -3.59073,   'station_nb': 14},      \n",
    "    6216800: {'name': 'Quintanar',          'river': 'Giguela',         'lat_grid': 39.64166,   'lon_grid': -3.07499,   'station_nb': 15},\n",
    "    6217140: {'name': 'Mengibar',           'river': 'Guadalquivir',    'lat_grid': 37.98425,   'lon_grid': -3.79939,   'station_nb': 16},     \n",
    "    6217200: {'name': 'Arroyo Maria',       'river': 'Guadalquivir',    'lat_grid': 38.17905,   'lon_grid': -2.83594,   'station_nb': 17}, \n",
    "    6217700: {'name': 'Pinos Puente',       'river': 'Frailes',         'lat_grid': 37.27499,   'lon_grid': -3.75832,   'station_nb': 18},\n",
    "}\n",
    "\n",
    "#keeping only 5 representative stations for larger rivers, for simple figure\n",
    "representative_stations_dict = {\n",
    "    6226800: {'name': 'Tortosa',            'river': 'Ebro',            'lat_grid': 40.82500,   'lon_grid': 0.525007,   'station_nb': 1},\n",
    "    6212410: {'name': 'Tore',               'river': 'Douro',           'lat_grid': 41.50833,   'lon_grid': -5.47499,   'station_nb': 6},\n",
    "    # 6213700: {'name': 'Talavera',           'river': 'Tagus',           'lat_grid': 39.95833,   'lon_grid': -4.82499,   'station_nb': 8},\n",
    "    6216510: {'name': 'Azud de Badajoz',    'river': 'Guadiana',        'lat_grid': 38.86199,   'lon_grid': -7.01,      'station_nb': 11}, \n",
    "    6217140: {'name': 'Mengibar',           'river': 'Guadalquivir',    'lat_grid': 37.98425,   'lon_grid': -3.79939,   'station_nb': 16},     \n",
    "}\n",
    "\n",
    "stations_calib_v0 = {\n",
    "    6298249: {'name': 'Zaragoza',  'river': 'Ebro', 'lon_grid':-0.8749926686286926, 'lat_grid':41.65833282470703, 'year_min':2003, 'year_max':2012, 'station_nb':1},\n",
    "    6298992: {'name': 'Albarreal De Tajo',  'river': 'Tagus', 'lon_grid':-4.17499303817749, 'lat_grid':39.891666412353516, 'year_min':2003, 'year_max':2012 , 'station_nb':2},\n",
    "    6298481: {'name': 'San Miguel del Pino', 'river': 'Douro', 'lon_grid':-4.92499303817749, 'lat_grid':41.508331298828125, 'year_min':2003, 'year_max':2012, 'station_nb':3},\n",
    "    6298259:{'name': 'Badajoz', 'river': 'Guadiana', 'lat_grid': 38.85833358764648, 'lon_grid': -7.008326530456543, 'last_record': '2013-09-15', 'year_min':2003, 'year_max':2012, 'station_nb':4},\n",
    "                }\n",
    "\n",
    "stations_calib_v1 = {\n",
    "    6226800: {'name': 'Tortosa',            'river': 'Ebro',            'lat_grid': 40.82500,   'lon_grid': 0.525007,   'station_nb': 1},\n",
    "    6226400: {'name': 'Zaragoza',           'river': 'Ebro',            'lat_grid': 41.67499,   'lon_grid': -0.90832,   'station_nb': 2},\n",
    "    6226300: {'name': 'Castejon',           'river': 'Ebro',            'lat_grid': 42.17499,   'lon_grid': -1.69165,   'station_nb': 3},\n",
    "    6226600: {'name': 'Seros',              'river': 'Segre',           'lat_grid': 41.45833,   'lon_grid': 0.425007,   'station_nb': 4},\n",
    "    6226650: {'name': 'Fraga',              'river': 'Cinca',           'lat_grid': 41.52499,   'lon_grid': 0.341674,   'station_nb': 5},\n",
    "    6212410: {'name': 'Tore',               'river': 'Douro',           'lat_grid': 41.50833,   'lon_grid': -5.47499,   'station_nb': 6},\n",
    "    6212700: {'name': 'Peral De Arlanza',   'river': 'Arlanza',         'lat_grid': 42.07500,   'lon_grid': -4.07499,   'station_nb': 7},\n",
    "    6213800: {'name': 'Trillo',             'river': 'Tagus',           'lat_grid': 40.70833,   'lon_grid': -2.57499,   'station_nb': 9},\n",
    "    6213900: {'name': 'Peralejos',          'river': 'Tagus',           'lat_grid': 40.59166,   'lon_grid': -1.92499,   'station_nb': 10},\n",
    "    6216510: {'name': 'Azud de Badajoz',    'river': 'Guadiana',        'lat_grid': 38.86199,   'lon_grid': -7.01,      'station_nb': 11}, \n",
    "    6116200: {'name': 'Pulo do Lobo',       'river': 'Guadiana',        'lat_grid': 37.803,     'lon_grid': -7.633,     'station_nb': 12},         \n",
    "    6216530: {'name': 'La Cubeta',          'river': 'Guadiana',        'lat_grid': 38.975,     'lon_grid': -2.895,     'station_nb': 13},         \n",
    "    6216800: {'name': 'Quintanar',          'river': 'Giguela',         'lat_grid': 39.64166,   'lon_grid': -3.07499,   'station_nb': 15},\n",
    "    6217140: {'name': 'Mengibar',           'river': 'Guadalquivir',    'lat_grid': 37.98425,   'lon_grid': -3.79939,   'station_nb': 16},     \n",
    "    6217200: {'name': 'Arroyo Maria',       'river': 'Guadalquivir',    'lat_grid': 38.17905,   'lon_grid': -2.83594,   'station_nb': 17}, \n",
    "}"
   ]
  },
  {
   "cell_type": "code",
   "execution_count": null,
   "metadata": {},
   "outputs": [],
   "source": [
    "stations_dict = stations_calib_v0\n",
    "obs_ds= obs_routing_polcher\n",
    "polcher_ds = True\n",
    "fig, axes= plt.subplots(2,2, figsize=(20,10))\n",
    "# fig, axes= plt.subplots(5,3, figsize=(25,20))\n",
    "\n",
    "axes= axes.flatten()\n",
    "ds_list=[std_noirr_month, natDIAGR_noirr_month, std_irr_month, natDIAGR_irr_month]\n",
    "# ds_list = [std_noirr_month]\n",
    "for i, (station_id, station_data) in enumerate(stations_dict.items()):\n",
    "    # title_letter=letters[i]\n",
    "    ts_station(obs_ds,axes[i], station_id, polcher_ds=polcher_ds, name=station_data['name'], ylabel='River discharge (m³ s⁻¹)', year_min=2003, year_max=2012)\n",
    "    ts_with_obs(ds_list, obs_ds, axes[i], station_id, station_data, polcher_ds=polcher_ds, ylabel='River discharge (m³ s⁻¹)', year_min=2003, year_max=2012, plot_all_sim=False)\n"
   ]
  },
  {
   "cell_type": "code",
   "execution_count": null,
   "metadata": {},
   "outputs": [],
   "source": [
    "stations_dict = stations_calib_v0\n",
    "obs_ds= obs_routing_polcher\n",
    "polcher_ds = True\n",
    "fig, axes= plt.subplots(2,2, figsize=(18,8))\n",
    "# fig, axes= plt.subplots(5,3, figsize=(25,20))\n",
    "\n",
    "axes= axes.flatten()\n",
    "ds_list=[std_noirr_month, natDIAGR_noirr_month, std_irr_month, natDIAGR_irr_month]\n",
    "ds_list= [std_noirr_month]\n",
    "# for i, (station_id, station_data) in enumerate(representative_stations_dict.items()):\n",
    "for i, (station_id, station_data) in enumerate(stations_dict.items()):\n",
    "    title_letter=letters[i]\n",
    "    sc_station(obs_ds,axes[i], station_id, name=station_data['name'], ylabel='River discharge (m³ s⁻¹)', year_min=2003, year_max=2012, polcher_ds=polcher_ds)\n",
    "    sc_with_obs(ds_list, obs_ds, axes[i], station_id, station_data, ylabel='River discharge (m³ s⁻¹)', year_min=2003, year_max=2012, polcher_ds=polcher_ds, title_letter=title_letter)"
   ]
  },
  {
   "cell_type": "markdown",
   "metadata": {},
   "source": [
    "# Figures"
   ]
  },
  {
   "cell_type": "markdown",
   "metadata": {},
   "source": [
    "## 3.1 : map of used stations"
   ]
  },
  {
   "cell_type": "code",
   "execution_count": null,
   "metadata": {},
   "outputs": [],
   "source": [
    "savefig=True\n",
    "stations_map_dict(stations_calib_v0, river_cond=None, legend=True,\n",
    "                            dams_df=None, dam_nb=252, \n",
    "                            title=None,\n",
    "                            extent=[-10, 2.5, 36, 44]\n",
    "                            )\n",
    "\n",
    "if savefig:\n",
    "    plt.savefig('figures/river_discharge/halfdeg_4stations_map.png', bbox_inches='tight')"
   ]
  },
  {
   "cell_type": "markdown",
   "metadata": {},
   "source": [
    "## 3.2 : 12 maps (+ RMSD in case)"
   ]
  },
  {
   "cell_type": "code",
   "execution_count": null,
   "metadata": {},
   "outputs": [],
   "source": [
    "savefig=False\n",
    "varlist = ['fastr', 'slowr', 'streamr']\n",
    "# varlist = ['streamr']\n",
    "ds1 = ip_natORC_noirr_month\n",
    "ds2 = ip_std_noirr_month\n",
    "vmins = [0, 0, 0]\n",
    "# vmaxs = [4, 110, 20]\n",
    "vmaxs = [4, 110, 5]\n",
    "\n",
    "cmap_value=blues\n",
    "cmap_diff=emb_neutralW\n",
    "cmap_rmse=redsW\n",
    "\n",
    "title='off'\n",
    "\n",
    "for i in range(len(varlist)):\n",
    "    var = varlist[i]\n",
    "    vmin = vmins[i]\n",
    "    vmax = vmaxs[i]\n",
    "    clabel= ds1[var].attrs['long_name'] + ' (' + ds1[var].attrs['units'] + ')'\n",
    "\n",
    "    #both datasets\n",
    "    # title= ds1[var].attrs['long_name'] + ' (' + ds1.attrs['name'] + ')'\n",
    "    map_ave(ds1, var, cmap=cmap_value, vmin=vmin, vmax=vmax, title=title, clabel=clabel)\n",
    "    if savefig:\n",
    "        plt.savefig('figures/chap3/maps/{}_interp.png'.format(var), bbox_inches='tight')\n",
    "\n",
    "    # title= ds1[var].attrs['long_name'] + ' ( ' + ds2.attrs['name'] + ')'\n",
    "    map_ave(ds2, var, cmap=cmap_value, vmin=vmin, vmax=vmax, title=title, clabel=clabel)\n",
    "    if savefig:\n",
    "        plt.savefig('figures/chap3/maps/{}_subgrid.png'.format(var), bbox_inches='tight')\n",
    "\n",
    "    #diff ds1-ds2\n",
    "    vmin = - vmaxs[i]\n",
    "    vmax = vmaxs[i]\n",
    "    # title= ds1[var].attrs['long_name'] + ' difference (interp_topo - subgrid_halfdeg)'\n",
    "    map_diff_ave(ds1, ds2, var, vmin=vmin, vmax=vmax, cmap=cmap_diff, title=title, clabel=clabel)\n",
    "    if savefig:\n",
    "        plt.savefig('figures/chap3/maps/{}_diff.png'.format(var), bbox_inches='tight')\n",
    "\n",
    "    #RMSD ds1-ds2\n",
    "    vmin=vmins[i]\n",
    "    vmax=vmaxs[i]\n",
    "    clabel= f'{ds1[var].attrs['long_name']} RMSD ({ds1[var].attrs['units']})'\n",
    "    map_rmse_ave(ds1, ds2, var, vmin=vmin, vmax=vmax, clabel=clabel, title='off')\n",
    "    if savefig:\n",
    "        plt.savefig('figures/chap3/maps/{}_rmse.png'.format(var), bbox_inches='tight')"
   ]
  },
  {
   "cell_type": "code",
   "execution_count": null,
   "metadata": {},
   "outputs": [],
   "source": [
    "savefig=False\n",
    "var='hydrographs'\n",
    "ds1 = ip_natDIAGR_noirr_month\n",
    "ds2 = ip_std_noirr_month\n",
    "vmin=0\n",
    "vmax=600\n",
    "diff_minmax=100\n",
    "diff_minmax=600\n",
    "\n",
    "cmap_value=blues\n",
    "cmap_diff=emb_neutralW\n",
    "cmap_rmse=redsW\n",
    "\n",
    "clabel = 'River discharge (m³/s)'\n",
    "title='off'\n",
    "\n",
    "#both datasets\n",
    "# title= ds1[var].attrs['long_name'] + ' ( ' + ds1.attrs['name'] + ')'\n",
    "map_ave(ds1, var, cmap=cmap_value, vmin=vmin, vmax=vmax, title=title, clabel=clabel)\n",
    "if savefig:\n",
    "    plt.savefig('figures/chap3/maps/{}_interp.png'.format(var), bbox_inches='tight')\n",
    "\n",
    "# title= ds1[var].attrs['long_name'] + ' ( ' + ds2.attrs['name'] + ')'\n",
    "map_ave(ds2, var, cmap=cmap_value, vmin=vmin, vmax=vmax, title=title, clabel=clabel)\n",
    "if savefig:\n",
    "    plt.savefig('figures/chap3/maps/{}_subgrid.png'.format(var), bbox_inches='tight')\n",
    "\n",
    "#diff ds1-ds2\n",
    "# title= ds1[var].attrs['long_name'] + ' difference (interp_topo - subgrid_halfdeg)'\n",
    "map_diff_ave(ds1, ds2, var, vmin=-diff_minmax, vmax=diff_minmax, cmap=cmap_diff, title=title, clabel=clabel)\n",
    "if savefig:\n",
    "    plt.savefig('figures/chap3/maps/{}_diff.png'.format(var), bbox_inches='tight')\n",
    "\n",
    "#RMSD ds1-ds2\n",
    "clabel= 'River discharge RMSD (m³/s)'\n",
    "map_rmse_ave(ds1, ds2, var, vmin=vmin, vmax=vmax, clabel=clabel, cmap=reds, title='off')\n",
    "if savefig:\n",
    "    plt.savefig('figures/chap3/maps/{}_rmse.png'.format(var), bbox_inches='tight')"
   ]
  },
  {
   "cell_type": "markdown",
   "metadata": {},
   "source": [
    "## 3.3 : Time series / seasonnal cycle on average over Peninsula"
   ]
  },
  {
   "cell_type": "code",
   "execution_count": null,
   "metadata": {},
   "outputs": [],
   "source": [
    "savefig=True\n",
    "plot_TS=False\n",
    "plot_SC=True\n",
    "\n",
    "varlist=['slowr', 'fastr', 'streamr']\n",
    "# varlist=['slowr']\n",
    "year_min=2003\n",
    "year_max=2012\n",
    "vmins = [0, 0, 0]\n",
    "vmaxs = [50, 3, 6]\n",
    "vmaxs_SC = [20, 1, 3]\n",
    "\n",
    "ds1 = ip_std_noirr_month\n",
    "ds2 = ip_natORC_noirr_month\n",
    "ds3 = cont_ip_std_noirr_month\n",
    "ds4 = cont_ip_natORC_noirr_month\n",
    "ds5= ip_std_irr_month\n",
    "ds6 = ip_natORC_irr_month\n",
    "\n",
    "ds_list, cont = [ds1, ds2], False\n",
    "ds_list, cont = [ds1, ds2, ds5, ds6], False\n",
    "# ds_list, cont = [ds3, ds4], True\n",
    "title='off'\n",
    "\n",
    "for var in varlist:\n",
    "    if plot_TS:\n",
    "        # title = '{} (Iberian Peninsula average)'.format(ds1[var].attrs['long_name'])\n",
    "        ylabel = ds1[var].attrs['long_name'] + ' (' + ds1[var].attrs['units'] + ')'\n",
    "        vmin = vmins[varlist.index(var)]\n",
    "        vmax = vmaxs[varlist.index(var)]\n",
    "        time_series_ave(ds_list, var, \n",
    "                        year_min=year_min, year_max=year_max,\n",
    "                        vmin=vmin, vmax=vmax,\n",
    "                        title=title, ylabel=ylabel,\n",
    "                        ds_colors=True\n",
    "                        )\n",
    "        if savefig:\n",
    "            if cont:\n",
    "                plt.savefig('figures/time_series/cont_{}_time_series.png'.format(var), bbox_inches='tight')\n",
    "            else:\n",
    "                plt.savefig('figures/time_series/{}_time_series.png'.format(var), bbox_inches='tight')\n",
    "\n",
    "    #Seasonal cycle\n",
    "    if plot_SC:\n",
    "        vmin = vmins[varlist.index(var)]\n",
    "        vmax = vmaxs_SC[varlist.index(var)]\n",
    "        ylabel = ds1[var].attrs['long_name'] + ' (' + ds1[var].attrs['units'] + ')'\n",
    "        # title = 'Mean seasonal cycle (Iberian Peninsula average, ({}-{})'.format(year_min, year_max)\n",
    "        seasonal_cycle_ave(ds_list, var,\n",
    "                            year_min=year_min, year_max=year_max,\n",
    "                            title=title, ylabel=ylabel,\n",
    "                            vmin=vmin, vmax=vmax,\n",
    "                            ds_colors=True\n",
    "                        )\n",
    "        if savefig:\n",
    "            if cont:\n",
    "                plt.savefig('figures/time_series/cont_{}_seasonal_cycle.png'.format(var), bbox_inches='tight')\n",
    "            else:\n",
    "                plt.savefig('figures/time_series/{}_seasonal_cycle.png'.format(var), bbox_inches='tight')"
   ]
  },
  {
   "cell_type": "markdown",
   "metadata": {},
   "source": [
    "## 3.4 Irrigation maps and TS+SC"
   ]
  },
  {
   "cell_type": "code",
   "execution_count": null,
   "metadata": {},
   "outputs": [],
   "source": [
    "#maps\n",
    "savefig=True\n",
    "var='irrigation'\n",
    "ds1 = ip_natORC_irr_month\n",
    "ds2 = ip_std_irr_month\n",
    "\n",
    "map_min, map_max = 0, 0.6\n",
    "year_min=2003\n",
    "year_max=2012\n",
    "\n",
    "map_ave(ds1, var, cmap=wet, vmin=map_min, vmax=map_max, \n",
    "        title='off',\n",
    "        clabel='Irrigation (mm d⁻¹)')\n",
    "if savefig:\n",
    "    plt.savefig(f'figures/chap3/maps/{var}_interp.png', bbox_inches='tight')\n",
    "\n",
    "map_ave(ds2, var, cmap=wet, vmin=map_min, vmax=map_max,\n",
    "        title='off',\n",
    "        clabel='Irrigation (mm d⁻¹)')\n",
    "if savefig:\n",
    "    plt.savefig(f'figures/chap3/maps/{var}_subgrid.png', bbox_inches='tight')  \n",
    "\n",
    "map_diff_ave(ds1, ds2, var, vmin=-0.3, vmax=0.3, cmap=emb_neutralW,\n",
    "            title='off',\n",
    "            # n_ticks=10,\n",
    "            clabel='Irrigation difference (mm d⁻¹)')\n",
    "if savefig:\n",
    "    plt.savefig(f'figures/chap3/maps/{var}_diff.png', bbox_inches='tight')\n",
    "\n",
    "rmse = np.sqrt(((ds1[var]-ds2[var])**2).mean(dim='time'))\n",
    "rmse = rmse.where(rmse>0)\n",
    "map_plotvar(rmse, cmap=redsW, vmin=0, vmax=0.6, \n",
    "            title='off',\n",
    "            clabel='Irrigation RMSD (mm d⁻¹)')\n",
    "if savefig:\n",
    "    plt.savefig(f'figures/chap3/maps/{var}_rmse.png', bbox_inches='tight')"
   ]
  },
  {
   "cell_type": "code",
   "execution_count": null,
   "metadata": {},
   "outputs": [],
   "source": [
    "savefig=True\n",
    "var='irrigation'\n",
    "ds1 = ip_std_irr_month\n",
    "ds2 = ip_natORC_irr_month\n",
    "ds_list=[ds1, ds2]\n",
    "\n",
    "year_min=2003\n",
    "year_max=2012\n",
    "\n",
    "ylabel='Irrigation (mm d⁻¹)'\n",
    "\n",
    "time_series_ave(ds_list, var, year_min=year_min, year_max=year_max, ds_colors=True, ylabel=ylabel, title='off')\n",
    "if savefig:\n",
    "    plt.savefig(f'figures/time_series/{var}_time_series.png', bbox_inches='tight')\n",
    "\n",
    "seasonal_cycle_ave(ds_list, var, year_min=year_min, year_max=year_max,  ylabel=ylabel, \n",
    "                   ds_colors=True, title='off')\n",
    "if savefig:\n",
    "    plt.savefig(f'figures/time_series/{var}_seasonal_cycle.png', bbox_inches='tight')"
   ]
  },
  {
   "cell_type": "markdown",
   "metadata": {},
   "source": [
    "## 3.5 : débits sur 4 stations, subgrid et interp, no_irr et irr"
   ]
  },
  {
   "cell_type": "code",
   "execution_count": null,
   "metadata": {},
   "outputs": [],
   "source": [
    "savefig=True"
   ]
  },
  {
   "cell_type": "code",
   "execution_count": null,
   "metadata": {},
   "outputs": [],
   "source": [
    "stations_dict = stations_calib_v0\n",
    "obs_ds= obs_routing_polcher\n",
    "polcher_ds = True\n",
    "fig, axes= plt.subplots(2,2, figsize=(18,8))\n",
    "\n",
    "axes= axes.flatten()\n",
    "ds_list=[std_noirr_month, natDIAGR_noirr_month, std_irr_month, natDIAGR_irr_month]\n",
    "for i, (station_id, station_data) in enumerate(stations_dict.items()):\n",
    "    title_letter=letters[i]\n",
    "    ts_station(obs_ds,axes[i], station_id, polcher_ds=polcher_ds, name=station_data['name'], ylabel='River discharge (m³ s⁻¹)', year_min=2003, year_max=2012)\n",
    "    ts_with_obs(ds_list, obs_ds, axes[i], station_id, station_data, polcher_ds=polcher_ds, ylabel='River discharge (m³ s⁻¹)', year_min=2003, year_max=2012, plot_all_sim=False, title_letter=title_letter)\n",
    "if savefig:\n",
    "    plt.savefig('figures/river_discharge/halfdeg_4stations_TS.png', bbox_inches='tight')"
   ]
  },
  {
   "cell_type": "code",
   "execution_count": null,
   "metadata": {},
   "outputs": [],
   "source": [
    "stations_dict = stations_calib_v0\n",
    "obs_ds= obs_routing_polcher\n",
    "polcher_ds = True\n",
    "fig, axes= plt.subplots(2,2, figsize=(18,8))\n",
    "\n",
    "axes= axes.flatten()\n",
    "ds_list=[std_noirr_month, natDIAGR_noirr_month, std_irr_month, natDIAGR_irr_month]\n",
    "for i, (station_id, station_data) in enumerate(stations_dict.items()):\n",
    "    title_letter=letters[i]\n",
    "    sc_station(obs_ds,axes[i], station_id, name=station_data['name'], ylabel='River discharge (m³ s⁻¹)', year_min=2003, year_max=2012, polcher_ds=polcher_ds)\n",
    "    sc_with_obs(ds_list, obs_ds, axes[i], station_id, station_data, ylabel='River discharge (m³ s⁻¹)', year_min=2003, year_max=2012, polcher_ds=polcher_ds, title_letter=title_letter)\n",
    "if savefig:\n",
    "    plt.savefig('figures/river_discharge/halfdeg_4stations_SC.png', bbox_inches='tight')"
   ]
  }
 ],
 "metadata": {
  "kernelspec": {
   "display_name": "lam1env",
   "language": "python",
   "name": "python3"
  },
  "language_info": {
   "codemirror_mode": {
    "name": "ipython",
    "version": 3
   },
   "file_extension": ".py",
   "mimetype": "text/x-python",
   "name": "python",
   "nbconvert_exporter": "python",
   "pygments_lexer": "ipython3",
   "version": "3.12.10"
  }
 },
 "nbformat": 4,
 "nbformat_minor": 2
}
