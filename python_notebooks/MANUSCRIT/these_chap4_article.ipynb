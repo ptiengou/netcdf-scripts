{
 "cells": [
  {
   "cell_type": "markdown",
   "metadata": {},
   "source": [
    "# Imports and setting up viz\n",
    "\n",
    "NB : conda env1 on PC, lam1env on spirit (Python3.12)"
   ]
  },
  {
   "cell_type": "code",
   "execution_count": null,
   "metadata": {},
   "outputs": [],
   "source": [
    "%load_ext autoreload\n",
    "%autoreload 2\n",
    "%matplotlib inline\n",
    "\n",
    "#import personnal tools\n",
    "import sys\n",
    "sys.path.append('../../python_tools/')\n",
    "from tools import *\n",
    "from tools_mapping import *\n",
    "from tools_routing import *"
   ]
  },
  {
   "cell_type": "code",
   "execution_count": null,
   "metadata": {},
   "outputs": [],
   "source": [
    "rivers = cfeature.NaturalEarthFeature('physical', 'rivers_lake_centerlines', '10m',edgecolor=(0, 0, 0, 0.3), facecolor='none')"
   ]
  },
  {
   "cell_type": "markdown",
   "metadata": {},
   "source": [
    "# Load and edit files\n",
    "\n",
    "LAM output analysis.\n",
    "\n",
    "simu irr et simu no-irr."
   ]
  },
  {
   "cell_type": "code",
   "execution_count": null,
   "metadata": {},
   "outputs": [],
   "source": [
    "date_min='2010-01-01'\n",
    "date_max='2022-12-31'"
   ]
  },
  {
   "cell_type": "markdown",
   "metadata": {},
   "source": [
    "## Sims"
   ]
  },
  {
   "cell_type": "markdown",
   "metadata": {},
   "source": [
    "\n",
    "### LMDZ"
   ]
  },
  {
   "cell_type": "code",
   "execution_count": null,
   "metadata": {},
   "outputs": [],
   "source": [
    "#flag to use time series of each used variable instead of full outputs file\n",
    "TS_flag=False"
   ]
  },
  {
   "cell_type": "code",
   "execution_count": null,
   "metadata": {},
   "outputs": [],
   "source": [
    "noirr_dir='../../../JZ_simu_outputs/LAM/LAM_1500_60/noirr'\n",
    "irr_dir='../../../JZ_simu_outputs/LAM/LAM_1500_60/irr'"
   ]
  },
  {
   "cell_type": "code",
   "execution_count": null,
   "metadata": {},
   "outputs": [],
   "source": [
    "#sim\n",
    "if TS_flag:\n",
    "    filename = '{}/*/ATM/TS_MO/*.nc'.format(noirr_dir)\n",
    "else:\n",
    "    filename = '{}/*/ATM/MO/*.nc'.format(noirr_dir)\n",
    "\n",
    "\n",
    "sim0 = xr.open_mfdataset(filename)\n",
    "sim0.attrs['name'] = 'no_irr'\n",
    "sim = sim0.rename({'time_counter':'time'})\n",
    "sim.attrs[\"plot_color\"] = 'red'\n",
    "sim = sim.sel(lon=slice(lon_min, lon_max),lat=slice(lat_min, lat_max))\n",
    "\n",
    "sim['evap'] = sim['evap'] *3600 * 24\n",
    "sim['evap'].attrs['units'] = 'mm d⁻¹'\n",
    "sim['evap'].attrs['long_name'] = 'Evapotranspiration'\n",
    "\n",
    "sim['precip'] = sim['precip'] *3600 * 24\n",
    "sim['precip'].attrs['units'] = 'mm d⁻¹'\n",
    "sim['precip'].attrs['long_name'] = 'Total precipitation'\n",
    "\n",
    "sim['fluxsens']= -sim['sens']\n",
    "\n",
    "sim['netrad'] = sim['LWdnSFC'] - sim['LWupSFC'] + sim['SWdnSFC'] - sim['SWupSFC']\n",
    "sim['netrad'].attrs['units'] = 'W m⁻²'\n",
    "\n",
    "sim['SWnetSFC'] = sim['SWdnSFC'] - sim['SWupSFC']\n",
    "sim['SWnetSFC'].attrs['units'] = 'W m⁻²'\n",
    "\n",
    "sim['LWnetSFC'] = sim['LWdnSFC'] - sim['LWupSFC']\n",
    "sim['LWnetSFC'].attrs['units'] = 'W m⁻²'\n",
    "\n",
    "sim['P - E'] = sim['precip'] - sim['evap']\n",
    "sim['P - E'].attrs['units'] = 'mm d⁻¹'\n",
    "\n",
    "sim['psol'] = sim['psol'] / 100\n",
    "sim['psol'].attrs['units'] = 'hPa'\n",
    "\n",
    "sim=compute_grid_cell_width(sim)\n",
    "sim=add_moisture_divergence(sim)\n",
    "\n",
    "\n",
    "if not TS_flag :\n",
    "    sim['Altitude'] = sim['phis'] / 9.81\n",
    "    sim['Altitude'].attrs['units'] = 'm'\n",
    "\n",
    "sim"
   ]
  },
  {
   "cell_type": "code",
   "execution_count": null,
   "metadata": {},
   "outputs": [],
   "source": [
    "#sim irr\n",
    "if TS_flag:\n",
    "    filename = '{}/*/ATM/TS_MO/*.nc'.format(irr_dir)\n",
    "else:\n",
    "    filename = '{}/*/ATM/MO/*.nc'.format(irr_dir)\n",
    "\n",
    "sim0irr = xr.open_mfdataset(filename)\n",
    "sim0irr.attrs['name'] = 'irr'\n",
    "simirr = sim0irr.rename({'time_counter':'time'})\n",
    "simirr.attrs[\"plot_color\"] = 'blue'\n",
    "simirr = simirr.sel(lon=slice(lon_min, lon_max),lat=slice(lat_min, lat_max))\n",
    "\n",
    "simirr['evap'] = simirr['evap'] *3600 * 24\n",
    "simirr['evap'].attrs['units'] = 'mm d⁻¹'\n",
    "\n",
    "simirr['precip'] = simirr['precip'] *3600 * 24\n",
    "simirr['precip'].attrs['units'] = 'mm d⁻¹'\n",
    "\n",
    "simirr['fluxsens']= -simirr['sens']\n",
    "\n",
    "simirr['netrad'] = simirr['LWdnSFC'] - simirr['LWupSFC'] + simirr['SWdnSFC'] - simirr['SWupSFC']\n",
    "simirr['netrad'].attrs['units'] = 'W m⁻²'\n",
    "\n",
    "simirr['SWnetSFC'] = simirr['SWdnSFC'] - simirr['SWupSFC']\n",
    "simirr['SWnetSFC'].attrs['units'] = 'W m⁻²'\n",
    "\n",
    "simirr['LWnetSFC'] = simirr['LWdnSFC'] - simirr['LWupSFC']\n",
    "simirr['LWnetSFC'].attrs['units'] = 'W m⁻²'\n",
    "\n",
    "simirr['P - E'] = simirr['precip'] - simirr['evap']\n",
    "simirr['P - E'].attrs['units'] = 'mm d⁻¹'\n",
    "\n",
    "simirr['psol'] = simirr['psol'] / 100\n",
    "simirr['psol'].attrs['units'] = 'hPa'\n",
    "\n",
    "simirr=compute_grid_cell_width(simirr)\n",
    "simirr=add_moisture_divergence(simirr)\n",
    "\n",
    "if not TS_flag:\n",
    "    simirr['Altitude'] = simirr['phis'] / 9.81\n",
    "    simirr['Altitude'].attrs['units'] = 'm'\n",
    "\n",
    "simirr\n"
   ]
  },
  {
   "cell_type": "markdown",
   "metadata": {},
   "source": [
    "### ORCHIDEE"
   ]
  },
  {
   "cell_type": "code",
   "execution_count": null,
   "metadata": {},
   "outputs": [],
   "source": [
    "if TS_flag:\n",
    "    filename = '{}/*/SRF/TS_MO/*.nc'.format(noirr_dir)\n",
    "elif not TS_flag:\n",
    "    filename = '{}/*/SRF/MO/*sechiba_history.nc'.format(noirr_dir)\n",
    "\n",
    "ORCnoirr0 = xr.open_mfdataset(filename)\n",
    "ORCnoirr = ORCnoirr0.rename({'time_counter':'time'})\n",
    "ORCnoirr.attrs['name'] = 'no_irr'\n",
    "ORCnoirr.attrs['plot_color'] = \"red\"\n",
    "ORCnoirr = ORCnoirr.sel(lon=slice(lon_min,lon_max),lat=slice(lat_min,lat_max))\n",
    "\n",
    "ORCnoirr['aei_sw'] = ORCnoirr['aei_sw'] * 100\n",
    "\n",
    "ORCnoirr"
   ]
  },
  {
   "cell_type": "code",
   "execution_count": null,
   "metadata": {},
   "outputs": [],
   "source": [
    "if TS_flag:\n",
    "    filename = '{}/*/SRF/TS_MO/*.nc'.format(noirr_dir)\n",
    "elif not TS_flag:\n",
    "    filename = '{}/*/SRF/MO/*history.nc'.format(irr_dir)\n",
    "\n",
    "ORCirr0 = xr.open_mfdataset(filename)\n",
    "ORCirr = ORCirr0.rename({'time_counter':'time'})\n",
    "ORCirr.attrs['name'] = 'irr'\n",
    "ORCirr.attrs['plot_color'] = \"#0C5DA5\"\n",
    "ORCirr = ORCirr.sel(lon=slice(lon_min,lon_max),lat=slice(lat_min,lat_max))\n",
    "\n",
    "ORCirr['aei_sw'] = ORCirr['aei_sw'] * 100\n",
    "\n",
    "ORCirr"
   ]
  },
  {
   "cell_type": "code",
   "execution_count": null,
   "metadata": {},
   "outputs": [],
   "source": [
    "if not TS_flag:\n",
    "    ORCnoirr['irrigmap_dyn'] = ORCirr['irrigmap_dyn']\n",
    "\n",
    "    ORCnoirr['irrig_frac'] = ORCirr['irrigmap_dyn']/ORCirr['Areas'] * 100\n",
    "    ORCnoirr['irrig_frac'].attrs['units'] = '%'\n",
    "    ORCirr['irrig_frac'] = ORCirr['irrigmap_dyn']/ORCirr['Areas'] * 100\n",
    "    ORCirr['irrig_frac'].attrs['units'] = '%'"
   ]
  },
  {
   "cell_type": "markdown",
   "metadata": {},
   "source": [
    "### Routing"
   ]
  },
  {
   "cell_type": "code",
   "execution_count": null,
   "metadata": {},
   "outputs": [],
   "source": [
    "rename_dict = {\n",
    "        'time_counter' : 'time',\n",
    "        'routing_stream_reservoir_r' : 'streamr',\n",
    "        'routing_fast_reservoir_r' : 'fastr',\n",
    "        'routing_slow_reservoir_r' : 'slowr',\n",
    "        'routing_drainage_r' : 'drainage',\n",
    "        'routing_runoff_r' : 'runoff',\n",
    "        'routing_hydrographs_r' : 'hydrographs',\n",
    "        'routing_irrigation_r' : 'irrigation',\n",
    "        'irrig_netereq_r' : 'netirrig'\n",
    "        }\n",
    "\n",
    "long_name_dict = {\n",
    "        'streamr' : 'stream reservoir',\n",
    "        'fastr' : 'fast reservoir',\n",
    "        'slowr' : 'slow reservoir',\n",
    "        'drainage' : 'drainage',\n",
    "        'runoff' : 'runoff',\n",
    "        'hydrographs' : 'hydrographs',\n",
    "        'irrigation' : 'irrigation',\n",
    "        'netirrig' : 'net irrigation'\n",
    "        }"
   ]
  },
  {
   "cell_type": "code",
   "execution_count": null,
   "metadata": {},
   "outputs": [],
   "source": [
    "filename = '{}/*/SRF/MO/*diag_routing_r.nc'.format(noirr_dir)\n",
    "routing_noirr = xr.open_mfdataset(filename)\n",
    "\n",
    "routing_noirr = routing_noirr.rename(rename_dict)\n",
    "routing_noirr = routing_noirr.sel(lon=slice(lon_min, lon_max),lat=slice(lat_max, lat_min))\n",
    "\n",
    "#add long name to variables\n",
    "for var in routing_noirr.variables:\n",
    "    if var in long_name_dict.keys():\n",
    "        routing_noirr[var].attrs['long_name'] = long_name_dict[var]\n",
    "from dateutil.relativedelta import relativedelta\n",
    "\n",
    "#move data 1 month back to correct for output file convention\n",
    "routing_noirr['time'] = routing_noirr['time'].copy(\n",
    "    data=[(pd.Timestamp(t.item()) - relativedelta(months=1)).to_datetime64() for t in routing_noirr['time'].values]\n",
    ")\n",
    "\n",
    "#add unit m³/s to hydrographs\n",
    "routing_noirr['hydrographs'].attrs['units'] = 'm³/s'\n",
    "\n",
    "routing_noirr.attrs['name'] = 'noirr'\n",
    "routing_noirr.attrs['plot_color'] = 'red'\n",
    "\n",
    "routing_noirr"
   ]
  },
  {
   "cell_type": "code",
   "execution_count": null,
   "metadata": {},
   "outputs": [],
   "source": [
    "filename = '{}/*/SRF/MO/*diag_routing_r.nc'.format(irr_dir)\n",
    "routing_irr = xr.open_mfdataset(filename)\n",
    "\n",
    "routing_irr = routing_irr.rename(rename_dict)\n",
    "routing_irr = routing_irr.sel(lon=slice(lon_min, lon_max),lat=slice(lat_max, lat_min))\n",
    "\n",
    "#add long name to variables\n",
    "for var in routing_irr.variables:\n",
    "    if var in long_name_dict.keys():\n",
    "        routing_irr[var].attrs['long_name'] = long_name_dict[var]\n",
    "\n",
    "#move data 1 month back to correct for output file convention\n",
    "routing_irr['time'] = routing_irr['time'].copy(\n",
    "    data=[(pd.Timestamp(t.item()) - relativedelta(months=1)).to_datetime64() for t in routing_irr['time'].values]\n",
    ")\n",
    "\n",
    "#add unit m³/s to hydrographs\n",
    "routing_irr['hydrographs'].attrs['units'] = 'm³/s'\n",
    "\n",
    "routing_irr.attrs['name']='irr'\n",
    "routing_irr.attrs['plot_color'] = 'blue'\n",
    "\n",
    "routing_irr"
   ]
  },
  {
   "cell_type": "markdown",
   "metadata": {},
   "source": [
    "## Obs"
   ]
  },
  {
   "cell_type": "markdown",
   "metadata": {},
   "source": [
    "### GLEAM"
   ]
  },
  {
   "cell_type": "code",
   "execution_count": null,
   "metadata": {},
   "outputs": [],
   "source": [
    "filename = '../../../obs/GLEAMv4.1a/E/*'\n",
    "gleam = xr.open_mfdataset(filename)\n",
    "gleam.attrs['name'] = 'GLEAMv4.1a'\n",
    "gleam.attrs['plot_color'] = 'black'\n",
    "#restrict lon lat\n",
    "gleam = gleam.sel(lon=slice(lon_min,lon_max),lat=slice(lat_max,lat_min))\n",
    "\n",
    "gleam['evap']=convert_mm_per_month_to_mm_per_day(gleam['E'])\n",
    "gleam['evap'].attrs['units'] = 'mm d⁻¹'\n",
    "gleam"
   ]
  },
  {
   "cell_type": "markdown",
   "metadata": {},
   "source": [
    "### GPCC"
   ]
  },
  {
   "cell_type": "code",
   "execution_count": null,
   "metadata": {},
   "outputs": [],
   "source": [
    "#gpcc\n",
    "filename='../../../obs/precips/precip.mon.total.0.25x0.25.v2020.nc'\n",
    "gpcc0=xr.open_mfdataset(filename)\n",
    "gpcc0.attrs['name'] = 'GPCC'\n",
    "gpcc=gpcc0.sel(time=slice(date_min,date_max))\n",
    "gpcc['lon'] = ((gpcc['lon'] + 180) % 360) - 180\n",
    "gpcc1 = gpcc.sortby('lon')\n",
    "\n",
    "gpcc=gpcc1.sel(lon=slice(-13,6.25),lat=slice(lat_max, lat_min))\n",
    "\n",
    "gpcc.attrs[\"plot_color\"] = 'black'\n",
    "\n",
    "gpcc['precip'] = convert_mm_per_month_to_mm_per_day(gpcc['precip'])\n",
    "gpcc['precip'].attrs['units'] = 'mm d⁻¹'\n",
    "gpcc"
   ]
  },
  {
   "cell_type": "markdown",
   "metadata": {},
   "source": [
    "### Ebro irrig"
   ]
  },
  {
   "cell_type": "code",
   "execution_count": null,
   "metadata": {},
   "outputs": [],
   "source": [
    "load_Ebro_obs=False #false by default because it takes a lot of time to load"
   ]
  },
  {
   "cell_type": "code",
   "execution_count": null,
   "metadata": {},
   "outputs": [],
   "source": [
    "if (load_Ebro_obs):\n",
    "    filename = '../../../obs/SM_based_inversion_approach_EBRO_Irrigation.nc'\n",
    "    obsEbro = xr.open_dataset(filename)\n",
    "    obsEbro = obsEbro.rename({'Time':'time'})\n",
    "    obsEbro = obsEbro.rename({'Longitude':'lon'})\n",
    "    obsEbro = obsEbro.rename({'Latitude':'lat'})\n",
    "    obsEbro = obsEbro.rename({'Irrigation':'irrigation'})\n",
    "\n",
    "    obsEbro = regrid_to_lon_lat(obsEbro)\n",
    "    obsEbro.attrs['name'] = 'Ebro_estimate'\n",
    "    obsEbro.attrs['plot_color'] = \"black\""
   ]
  },
  {
   "cell_type": "code",
   "execution_count": null,
   "metadata": {},
   "outputs": [],
   "source": [
    "if load_Ebro_obs:\n",
    "    #convert irrigation to mm d⁻¹\n",
    "    obsEbro2=convert_mm_per_month_to_mm_per_day(obsEbro)\n",
    "    obsEbro2['irrigation'].attrs['units'] = 'mm d⁻¹'"
   ]
  },
  {
   "cell_type": "markdown",
   "metadata": {},
   "source": [
    "### Discharge"
   ]
  },
  {
   "cell_type": "code",
   "execution_count": null,
   "metadata": {},
   "outputs": [],
   "source": [
    "filename = '../../../obs/streamflow/GRDC-Monthly_Spain.nc'\n",
    "obs_routing = xr.open_dataset(filename)\n",
    "obs_routing"
   ]
  },
  {
   "cell_type": "markdown",
   "metadata": {},
   "source": [
    "## Masking, interpolation, and time period selection"
   ]
  },
  {
   "cell_type": "markdown",
   "metadata": {},
   "source": [
    "### Sim masks"
   ]
  },
  {
   "cell_type": "code",
   "execution_count": null,
   "metadata": {},
   "outputs": [],
   "source": [
    "#continental fraction mask (LMDZ outputs)\n",
    "con_mask=sim.mean(dim='time')['contfracOR']>0.95\n",
    "ip_mask=polygon_to_mask(sim, iberian_peninsula) * con_mask"
   ]
  },
  {
   "cell_type": "code",
   "execution_count": null,
   "metadata": {},
   "outputs": [],
   "source": [
    "ip_sim = sim.where(ip_mask, drop=False)\n",
    "ip_simirr = simirr.where(ip_mask, drop=False)"
   ]
  },
  {
   "cell_type": "code",
   "execution_count": null,
   "metadata": {},
   "outputs": [],
   "source": [
    "ip_ORCirr=ORCirr.where(ip_mask, drop=False)\n",
    "ip_ORCnoirr=ORCnoirr.where(ip_mask, drop=False)"
   ]
  },
  {
   "cell_type": "markdown",
   "metadata": {},
   "source": [
    "### Interpolation and filtering of products"
   ]
  },
  {
   "cell_type": "code",
   "execution_count": null,
   "metadata": {},
   "outputs": [],
   "source": [
    "if (load_Ebro_obs):\n",
    "    ebro_mask = obsEbro['irrigation']>0\n",
    "    ORCirr_iObsEbro = ORCirr.interp_like(obsEbro)\n",
    "    ebro_ORCirr_iObsEbro = ORCirr_iObsEbro.where(ebro_mask)\n",
    "    obsEbro_iORC = obsEbro.interp_like(ORCirr)\n",
    "    ebro_mask_iORCirr = obsEbro_iORC['irrigation']>0\n",
    "    ebro_ORCirr = ORCirr.where(ebro_mask_iORCirr)"
   ]
  },
  {
   "cell_type": "code",
   "execution_count": null,
   "metadata": {},
   "outputs": [],
   "source": [
    "#gleam\n",
    "gleam_isim=gleam.interp_like(sim)\n",
    "cont_gleam_isim=gleam_isim.where(con_mask)\n",
    "ip_gleam_isim = cont_gleam_isim.where(ip_mask, drop=False)"
   ]
  },
  {
   "cell_type": "code",
   "execution_count": null,
   "metadata": {},
   "outputs": [],
   "source": [
    "#gpcc\n",
    "gpcc_isim=gpcc.interp_like(sim)\n",
    "cont_gpcc_isim=gpcc_isim.where(con_mask)\n",
    "ip_gpcc_isim = cont_gpcc_isim.where(ip_mask, drop=False)"
   ]
  },
  {
   "cell_type": "markdown",
   "metadata": {},
   "source": [
    "# Figures"
   ]
  },
  {
   "cell_type": "markdown",
   "metadata": {},
   "source": [
    "## Fig 1 : Domain and altitude"
   ]
  },
  {
   "cell_type": "code",
   "execution_count": null,
   "metadata": {},
   "outputs": [],
   "source": [
    "import psyplot.project as psy\n",
    "psy.rcParams['auto_show'] = True\n",
    "mpl.rcParams['figure.figsize'] = [8, 6.]"
   ]
  },
  {
   "cell_type": "code",
   "execution_count": null,
   "metadata": {},
   "outputs": [],
   "source": [
    "LAM_dir='../../../JZ_simu_outputs/LAM/native_outputs/'\n",
    "start_file='{}/espagne_start_2010.nc'.format(LAM_dir)\n",
    "start=xr.open_dataset(start_file)\n",
    "# start"
   ]
  },
  {
   "cell_type": "code",
   "execution_count": null,
   "metadata": {},
   "outputs": [],
   "source": [
    "start[\"Altitude\"] = start[\"phis\"]/9.81\n",
    "start[\"Altitude\"].attrs[\"units\"] = \"m\"\n",
    "start[\"Altitude\"].attrs[\"long_name\"] = \"Altitude\"\n",
    "start[\"Altitude\"].attrs[\"standard_name\"] = \"Altitude\"\n",
    "\n",
    "start_file2='{}/espagne_start_2010_modified.nc'.format(LAM_dir)\n",
    "start.to_netcdf(start_file2)"
   ]
  },
  {
   "cell_type": "code",
   "execution_count": null,
   "metadata": {},
   "outputs": [],
   "source": [
    "start2=xr.open_dataset(start_file2)\n",
    "# start2"
   ]
  },
  {
   "cell_type": "code",
   "execution_count": null,
   "metadata": {},
   "outputs": [],
   "source": [
    "# Custom colormap\n",
    "terrain_colors = plt.cm.terrain(np.linspace(0, 1, 25))\n",
    "filtered_colors = terrain_colors[5:]  \n",
    "# Insert blue as the first color\n",
    "filtered_colors = np.vstack([[0.07973856209150328, 0.44052287581699345, 0.8405228758169935, 1.0], filtered_colors]) \n",
    "custom_colormap = ListedColormap(filtered_colors)\n"
   ]
  },
  {
   "cell_type": "code",
   "execution_count": null,
   "metadata": {},
   "outputs": [],
   "source": [
    "file=start_file2\n",
    "var='Altitude'\n",
    "vmin=-0\n",
    "vmax=2000\n",
    "pas=(vmax-vmin) / 20\n",
    "\n",
    "map=psy.plot.mapplot(\n",
    "    file, \n",
    "    name=var,\n",
    "    datagrid=dict(color='k', linewidth=0.2),\n",
    "    cbar='r',\n",
    "    tight=True,\n",
    "    lsm='50m',\n",
    "    cmap=custom_colormap,\n",
    "    extend='both',\n",
    "    projection='ortho',\n",
    "    xgrid=True,ygrid=True,\n",
    "    bounds=np.arange(vmin, vmax + pas, pas),\n",
    "    # title=var,\n",
    "    clabel=\"Altitude (m)\"\n",
    ")"
   ]
  },
  {
   "cell_type": "markdown",
   "metadata": {},
   "source": [
    "## Fig 2 : Stations and dams\n",
    "NB : This figure was finally edited differently with the help of GIS engineer Aurélien Baro (METIS)."
   ]
  },
  {
   "cell_type": "code",
   "execution_count": null,
   "metadata": {},
   "outputs": [],
   "source": [
    "GIS_version=True"
   ]
  },
  {
   "cell_type": "code",
   "execution_count": null,
   "metadata": {},
   "outputs": [],
   "source": [
    "proper_stations_dict = {\n",
    "    6226800: {'name': 'Tortosa',            'river': 'Ebro',            'lat_grid': 40.82500,   'lon_grid': 0.525007,   'station_nb': 1},\n",
    "    6226400: {'name': 'Zaragoza',           'river': 'Ebro',            'lat_grid': 41.67499,   'lon_grid': -0.90832,   'station_nb': 2},\n",
    "    6226300: {'name': 'Castejon',           'river': 'Ebro',            'lat_grid': 42.17499,   'lon_grid': -1.69165,   'station_nb': 3},\n",
    "    6226600: {'name': 'Seros',              'river': 'Segre',           'lat_grid': 41.45833,   'lon_grid': 0.425007,   'station_nb': 4},\n",
    "    6226650: {'name': 'Fraga',              'river': 'Cinca',           'lat_grid': 41.52499,   'lon_grid': 0.341674,   'station_nb': 5},\n",
    "    6212410: {'name': 'Tore',               'river': 'Douro',           'lat_grid': 41.50833,   'lon_grid': -5.47499,   'station_nb': 6},\n",
    "    6212700: {'name': 'Peral De Arlanza',   'river': 'Arlanza',         'lat_grid': 42.07500,   'lon_grid': -4.07499,   'station_nb': 7},\n",
    "    6213700: {'name': 'Talavera',           'river': 'Tagus',           'lat_grid': 39.95833,   'lon_grid': -4.82499,   'station_nb': 8},\n",
    "    6213800: {'name': 'Trillo',             'river': 'Tagus',           'lat_grid': 40.70833,   'lon_grid': -2.57499,   'station_nb': 9},\n",
    "    6213900: {'name': 'Peralejos',          'river': 'Tagus',           'lat_grid': 40.59166,   'lon_grid': -1.92499,   'station_nb': 10},\n",
    "    6216510: {'name': 'Azud de Badajoz',    'river': 'Guadiana',        'lat_grid': 38.86199,   'lon_grid': -7.01,      'station_nb': 11}, \n",
    "    6116200: {'name': 'Pulo do Lobo',       'river': 'Guadiana',        'lat_grid': 37.803,     'lon_grid': -7.633,     'station_nb': 12},         \n",
    "    6216530: {'name': 'La Cubeta',          'river': 'Guadiana',        'lat_grid': 38.975,     'lon_grid': -2.895,     'station_nb': 13},         \n",
    "    6216520: {'name': 'Villarubia',         'river': 'Guadiana',        'lat_grid': 39.125,     'lon_grid': -3.59073,   'station_nb': 14},      \n",
    "    6216800: {'name': 'Quintanar',          'river': 'Giguela',         'lat_grid': 39.64166,   'lon_grid': -3.07499,   'station_nb': 15},\n",
    "    6217140: {'name': 'Mengibar',           'river': 'Guadalquivir',    'lat_grid': 37.98425,   'lon_grid': -3.79939,   'station_nb': 16},     \n",
    "    6217200: {'name': 'Arroyo Maria',       'river': 'Guadalquivir',    'lat_grid': 38.17905,   'lon_grid': -2.83594,   'station_nb': 17}, \n",
    "    6217700: {'name': 'Pinos Puente',       'river': 'Frailes',         'lat_grid': 37.27499,   'lon_grid': -3.75832,   'station_nb': 18},\n",
    "}\n",
    "\n",
    "#keeping only 5 representative stations for larger rivers, for simple figure\n",
    "representative_stations_dict = {\n",
    "    6226800: {'name': 'Tortosa',            'river': 'Ebro',            'lat_grid': 40.82500,   'lon_grid': 0.525007,   'station_nb': 1},\n",
    "    6212410: {'name': 'Tore',               'river': 'Douro',           'lat_grid': 41.50833,   'lon_grid': -5.47499,   'station_nb': 6},\n",
    "    6213700: {'name': 'Talavera',           'river': 'Tagus',           'lat_grid': 39.95833,   'lon_grid': -4.82499,   'station_nb': 8},\n",
    "    6216510: {'name': 'Azud de Badajoz',    'river': 'Guadiana',        'lat_grid': 38.86199,   'lon_grid': -7.01,      'station_nb': 11}, \n",
    "    6217140: {'name': 'Mengibar',           'river': 'Guadalquivir',    'lat_grid': 37.98425,   'lon_grid': -3.79939,   'station_nb': 16},     \n",
    "}"
   ]
  },
  {
   "cell_type": "code",
   "execution_count": null,
   "metadata": {},
   "outputs": [],
   "source": [
    "if not GIS_version:\n",
    "    filename='../../../obs/Europe-dams_edited.ods'\n",
    "    dams = pd.read_excel(filename, engine='odf')\n",
    "    mask = dams['Country']=='Spain'\n",
    "    dams = dams[mask]\n",
    "    rename_dict = {\n",
    "        'Name of dam': 'Name',\n",
    "        'Decimal degree latitude': 'lat',\n",
    "        'Decimal degree longitude': 'lon',\n",
    "        'Reservoir capacity (million m3)' : 'capacity'\n",
    "    }\n",
    "    dams.rename(columns=rename_dict, inplace=True)\n",
    "\n",
    "    #filter dams to keep only the biggest in Reservoir capacity (million m3) \n",
    "    # dams=dams.nlargest(50, 'capacity')\n",
    "    dams"
   ]
  },
  {
   "cell_type": "code",
   "execution_count": null,
   "metadata": {},
   "outputs": [],
   "source": [
    "if not GIS_version:\n",
    "    stations_map_dict(proper_stations_dict, river_cond=None, legend=True,\n",
    "                            dams_df=dams, dam_nb=252, title=None,\n",
    "                            extent=[-10, 2.5, 36, 44]\n",
    "                            )"
   ]
  },
  {
   "cell_type": "markdown",
   "metadata": {},
   "source": [
    "## Fig 3 : Irrigation maps"
   ]
  },
  {
   "cell_type": "code",
   "execution_count": null,
   "metadata": {},
   "outputs": [],
   "source": [
    "vars=['irrig_frac', 'aei_sw', 'netirrig', 'irrigation', 'slowr', 'streamr']\n",
    "cmaps=[reds, emb_neutral, blues, wet, emb_neutral, emb_neutral]\n",
    "vmins=[0, 0, 0, 0, -100, -100]\n",
    "vmaxs=[50, 100, 10, 0.6, 100, 100]\n",
    "clabels=['Grid cell irrigated fraction (%)',\n",
    "         'Share of surface equipments (%)',\n",
    "         'Irrigation requirement (mm d⁻¹)',\n",
    "         'Irrigation (mm d⁻¹)',\n",
    "         'Groundwater reservoir change (%)',\n",
    "         'River reservoir change (%)']\n",
    "\n",
    "fig, axes = plt.subplots(3, 2, figsize=(17,12), subplot_kw={'projection': ccrs.PlateCarree()})\n",
    "axes = axes.flatten()\n",
    "for i in range(4):\n",
    "    var=vars[i]\n",
    "    plotvar=ip_ORCirr[var].mean(dim='time')\n",
    "    ax=axes[i]\n",
    "    cmap=cmaps[i]\n",
    "    vmin=vmins[i]\n",
    "    vmax=vmaxs[i]\n",
    "    clabel=clabels[i]\n",
    "    nice_map(plotvar, ax, cmap, vmin, vmax, clabel=clabel)\n",
    "    title='({})'.format(letters[i])\n",
    "    ax.set_title(title)\n",
    "\n",
    "for i in range(4, 6):\n",
    "    var=vars[i]\n",
    "    rel_diff = (ip_ORCirr[var] - ip_ORCnoirr[var]).mean(dim='time') / ip_ORCnoirr[var].mean(dim='time') * 100\n",
    "    plotvar= rel_diff\n",
    "    ax=axes[i]\n",
    "    cmap=cmaps[i]\n",
    "    vmin=vmins[i]\n",
    "    vmax=vmaxs[i]\n",
    "    clabel=clabels[i]\n",
    "    nice_map(plotvar, ax, cmap, vmin, vmax, clabel=clabel)\n",
    "    title='({})'.format(letters[i])\n",
    "    ax.set_title(title)"
   ]
  },
  {
   "cell_type": "markdown",
   "metadata": {},
   "source": [
    "## Fig 4 : Irrig eval vs Dari et al"
   ]
  },
  {
   "cell_type": "code",
   "execution_count": null,
   "metadata": {},
   "outputs": [],
   "source": [
    "stop\n",
    "if load_Ebro_obs:\n",
    "    var='irrigation'\n",
    "    ds1=obsEbro2.sel(time=slice('2016-01-01','2020-07-31'))\n",
    "    ds2=ebro_ORCirr_iObsEbro.sel(time=slice('2016-01-01','2020-07-31'))"
   ]
  },
  {
   "cell_type": "code",
   "execution_count": null,
   "metadata": {},
   "outputs": [],
   "source": [
    "if load_Ebro_obs:\n",
    "    fig = plt.figure(figsize=(8.5, 9))\n",
    "    gs = gridspec.GridSpec(2, 1, height_ratios=[1, 1])\n",
    "\n",
    "    # Seasonal cycle\n",
    "    ax1 = fig.add_subplot(gs[0, 0]) \n",
    "    ylabel = 'Irrigation (mm d⁻¹)'\n",
    "\n",
    "    plotvar1 = ds1[var].mean(dim=['lon', 'lat']).groupby('time.month').mean(dim='time')\n",
    "    color1 = 'black'\n",
    "    label1 = 'Ebro_estimate'\n",
    "    nice_time_plot(plotvar1, ax1, label=label1, color=color1, ylabel=ylabel)\n",
    "\n",
    "    plotvar2 = ds2[var].mean(dim=['lon', 'lat']).groupby('time.month').mean(dim='time')\n",
    "    color2 = 'blue'\n",
    "    label2 = 'irr'\n",
    "    nice_time_plot(plotvar2, ax1, label=label2, color=color2, ylabel=ylabel)\n",
    "\n",
    "    ax1.set_xticks(np.arange(1, 13))\n",
    "    ax1.set_xticklabels(months_name_list)\n",
    "    ax1.set_title('(a)')\n",
    "\n",
    "    # Map\n",
    "    ax2 = fig.add_subplot(gs[1, 0], projection=ccrs.PlateCarree())\n",
    "    plotvar = (ds2[var] - ds1[var]).mean(dim='time')\n",
    "    cmap = emb_neutral\n",
    "    vmin = -0.5\n",
    "    vmax = 0.5\n",
    "    clabel = 'Irrigation bias (mm d⁻¹)'\n",
    "\n",
    "    nice_map(plotvar, ax2, cmap, vmin, vmax, clabel=clabel)\n",
    "    ax2.set_title('(b)')\n",
    "\n",
    "    plt.tight_layout()"
   ]
  },
  {
   "cell_type": "code",
   "execution_count": null,
   "metadata": {},
   "outputs": [],
   "source": [
    "if load_Ebro_obs:\n",
    "    fig = plt.figure(figsize=(18, 6))  # Adjust the figure size to accommodate side-by-side plots\n",
    "    gs = gridspec.GridSpec(1, 2, width_ratios=[1, 1])  # Change to 1 row and 2 columns\n",
    "\n",
    "    # Seasonal cycle\n",
    "    ax1 = fig.add_subplot(gs[0, 0])  # First column\n",
    "    ylabel = 'Irrigation (mm d⁻¹)'\n",
    "    plotvar1 = ds1[var].mean(dim=['lon', 'lat']).groupby('time.month').mean(dim='time')\n",
    "    color1 = 'black'\n",
    "    label1 = 'Ebro_estimate'\n",
    "    nice_time_plot(plotvar1, ax1, label=label1, color=color1, ylabel=ylabel)\n",
    "    plotvar2 = ds2[var].mean(dim=['lon', 'lat']).groupby('time.month').mean(dim='time')\n",
    "    color2 = 'blue'\n",
    "    label2 = 'irr'\n",
    "    nice_time_plot(plotvar2, ax1, label=label2, color=color2, ylabel=ylabel)\n",
    "    ax1.set_xticks(np.arange(1, 13))\n",
    "    ax1.set_xticklabels(months_name_list)\n",
    "    ax1.set_title('(a)')\n",
    "\n",
    "    # Map\n",
    "    ax2 = fig.add_subplot(gs[0, 1], projection=ccrs.PlateCarree())  # Second column\n",
    "    plotvar = (ds2[var] - ds1[var]).mean(dim='time')\n",
    "    cmap = emb_neutral\n",
    "    vmin = -0.5\n",
    "    vmax = 0.5\n",
    "    clabel = 'Irrigation bias (mm d⁻¹)'\n",
    "    nice_map(plotvar, ax2, cmap, vmin, vmax, clabel=clabel)\n",
    "    ax2.set_title('(b)')\n",
    "\n",
    "    plt.tight_layout()"
   ]
  },
  {
   "cell_type": "markdown",
   "metadata": {},
   "source": [
    "### Computing mean in Ebro valley for simulated irrigation in Chap 3"
   ]
  },
  {
   "cell_type": "code",
   "execution_count": null,
   "metadata": {},
   "outputs": [],
   "source": [
    "def format_routing_ORC(filename, name, spinupyears, color=None):\n",
    "    ds = xr.open_mfdataset(filename)\n",
    "    ds = ds.rename({'time_counter': 'time'})\n",
    "    ds.attrs['name'] = name\n",
    "    ds = remove_years_efficiently(ds, spinupyears)\n",
    "\n",
    "    #edit units and names\n",
    "    if 'hydrographs' in ds:\n",
    "        ds['hydrographs'].attrs['units'] = 'm³ s⁻¹'\n",
    "        ds['hydrographs'].attrs['long_name'] = 'River discharge'\n",
    "    if 'streamr' in ds:\n",
    "        ds['streamr'].attrs['units'] = 'kg m⁻²'\n",
    "        ds['streamr'].attrs['long_name'] = 'River reservoir volume'\n",
    "    if 'slowr' in ds:\n",
    "        ds['slowr'].attrs['units'] = 'kg m⁻²'\n",
    "        ds['slowr'].attrs['long_name'] = 'GW reservoir volume'\n",
    "    if 'fastr' in ds:\n",
    "        ds['fastr'].attrs['units'] = 'kg m⁻²'\n",
    "        ds['fastr'].attrs['long_name'] = 'Overland reservoir volume'\n",
    "\n",
    "    if color is not None:\n",
    "        ds.attrs['plot_color'] = color\n",
    "    \n",
    "    if 'coastalflow' in ds and 'riverflow' in ds:\n",
    "        ds['coast_and_river'] = ds['coastalflow'] + ds['riverflow']\n",
    "        ds['coast_and_river'].attrs['units'] = 'm³ s⁻¹'\n",
    "        ds['coast_and_river'].attrs['long_name'] = 'Coastal and river flow'\n",
    "\n",
    "    return ds\n",
    "\n",
    "def format_routing_native(filename, name, spinupyears, color=None):\n",
    "    ds = xr.open_mfdataset(filename)\n",
    "    ds.attrs['name'] = name\n",
    "\n",
    "    dict = {'time_counter' : 'time',\n",
    "        'routing_stream_reservoir_r' : 'streamr',\n",
    "        'routing_fast_reservoir_r' : 'fastr',\n",
    "        'routing_slow_reservoir_r' : 'slowr',\n",
    "        'routing_drainage_r' : 'drainage',\n",
    "        'routing_runoff_r' : 'runoff',\n",
    "        'routing_hydrographs_r' : 'hydrographs',\n",
    "        'routing_riverflow_r' : 'riverflow',\n",
    "        'routing_coastalflow_r' : 'coastalflow'\n",
    "        }\n",
    "    ds = ds.rename(dict)\n",
    "    ds = ds.isel(lon=slice(2,-2),lat=slice(2,-2))\n",
    "\n",
    "    ds = remove_years_efficiently(ds, spinupyears)\n",
    "\n",
    "    if color is not None:\n",
    "        ds.attrs['plot_color'] = color\n",
    "\n",
    "    #edit units and names\n",
    "    ds['hydrographs'].attrs['units'] = 'm³/s'\n",
    "    ds['hydrographs'].attrs['long_name'] = 'River discharge'\n",
    "    return ds\n",
    "\n",
    "def format_routing_nativeDIAG(filename, name, spinupyears, color=None):\n",
    "    ds = xr.open_mfdataset(filename)\n",
    "    ds.attrs['name'] = name\n",
    "\n",
    "    dict = {'time_counter' : 'time',\n",
    "            \n",
    "            # for reservoirs\n",
    "            'lat_domain_landpoints_routing':'lat',\n",
    "            'lon_domain_landpoints_routing':'lon',\n",
    "            # for drainage and runoff\n",
    "            # 'lat_domain_landpoints':'lat',\n",
    "            # 'lon_domain_landpoints':'lon',\n",
    "\n",
    "            'routing_stream_reservoir' : 'streamr',\n",
    "            'routing_fast_reservoir' : 'fastr',\n",
    "            'routing_slow_reservoir' : 'slowr',\n",
    "            'routing_drainage' : 'drainage',\n",
    "            'routing_runoff' : 'runoff',\n",
    "            'routing_riverflow' : 'riverflow',\n",
    "            'routing_coastalflow' : 'coastalflow',\n",
    "            'routing_irrigation' : 'irrigation',}\n",
    "    #change the variables that exist according to the dictionary\n",
    "    ds = ds.rename(dict)\n",
    "    #remove first years to consider a spinup\n",
    "    ds = remove_years_efficiently(ds, spinupyears)\n",
    "\n",
    "    if color is not None:\n",
    "        ds.attrs['plot_color'] = color\n",
    "\n",
    "    return(ds)"
   ]
  },
  {
   "cell_type": "code",
   "execution_count": null,
   "metadata": {},
   "outputs": [],
   "source": [
    "spinupyears=[2000, 2001, 2002]\n",
    "otherroutingdirdir='../../../JZ_simu_outputs/routing_native'\n",
    "#open netcdf files for standard routing\n",
    "filename = '{}/eval_halfdeg/nat16/nat16_sechiba_history_all.nc'.format(otherroutingdirdir)\n",
    "name = 'subgrid_halfdeg, irr'\n",
    "std_irr = format_routing_ORC(filename, name, spinupyears, color='purple')\n",
    "std_irr_mean= std_irr.mean(dim=['time'])\n",
    "std_irr_mean"
   ]
  },
  {
   "cell_type": "code",
   "execution_count": null,
   "metadata": {},
   "outputs": [],
   "source": [
    "#native with irrig\n",
    "filename = '{}/eval_halfdeg/nat15/MO/nat15*_sechiba_history.nc'.format(otherroutingdirdir)\n",
    "name = 'interp_topo, irr'\n",
    "natORC_irr = format_routing_ORC(filename, name, spinupyears, color='green')\n",
    "\n",
    "filename = '{}/eval_halfdeg/nat15/DA/nat15_*_routing.nc'.format(otherroutingdirdir)\n",
    "name = 'interp_topo, irr'\n",
    "natDIAG_irr = format_routing_nativeDIAG(filename, name, spinupyears, color='green')\n",
    "\n",
    "natORC_irr['irrigation'] = natDIAG_irr['irrigation'] / natORC_irr['Areas'] * 2 * 24\n",
    "natORC_irr['irrigation'].attrs['long_name'] = 'irrigation'\n",
    "natORC_irr['irrigation'].attrs['units'] = 'mm d⁻¹'\n",
    "\n",
    "natORC_irr_mean= natORC_irr.mean(dim=['time'])\n",
    "natORC_irr_mean"
   ]
  },
  {
   "cell_type": "code",
   "execution_count": null,
   "metadata": {},
   "outputs": [],
   "source": [
    "obsEbro2_mean = obsEbro2.sel(time=slice('2016-01-01', '2019-12-31')).mean('time')\n",
    "print(\"obsEbro2_mean:\", obsEbro2_mean.mean(dim=['lon', 'lat']))"
   ]
  },
  {
   "cell_type": "code",
   "execution_count": null,
   "metadata": {},
   "outputs": [],
   "source": [
    "ebro_mask2 = obsEbro2_mean['irrigation'] > 0"
   ]
  },
  {
   "cell_type": "code",
   "execution_count": null,
   "metadata": {},
   "outputs": [],
   "source": [
    "ebro_stdirr = std_irr_mean.interp_like(obsEbro2_mean).where(ebro_mask2)\n",
    "ebro_stdirr.mean(dim=['lon', 'lat'])['irrigation'].values"
   ]
  },
  {
   "cell_type": "code",
   "execution_count": null,
   "metadata": {},
   "outputs": [],
   "source": [
    "ebro_natORCirr = natORC_irr_mean.interp_like(obsEbro2_mean).where(ebro_mask2)\n",
    "ebro_natORCirr.mean(dim=['lon', 'lat'])['irrigation'].values"
   ]
  },
  {
   "cell_type": "code",
   "execution_count": null,
   "metadata": {},
   "outputs": [],
   "source": [
    "map_ave(ebro_stdirr, 'irrigation')"
   ]
  },
  {
   "cell_type": "code",
   "execution_count": null,
   "metadata": {},
   "outputs": [],
   "source": [
    "map_ave(ebro_natORCirr, 'irrigation')"
   ]
  },
  {
   "cell_type": "markdown",
   "metadata": {},
   "source": [
    "## Fig 5 : 5 stations"
   ]
  },
  {
   "cell_type": "code",
   "execution_count": null,
   "metadata": {},
   "outputs": [],
   "source": [
    "#plot a seasonnal cycle for each station from representative_stations_dict\n",
    "fig, axes= plt.subplots(3,2, figsize=(18,18))\n",
    "axes= axes.flatten()\n",
    "ds_list=[routing_noirr, routing_irr]\n",
    "for i, (station_id, station_data) in enumerate(representative_stations_dict.items()):\n",
    "    title_letter=letters[i]\n",
    "    sc_station(obs_routing,axes[i], station_id, name=station_data['name'], ylabel='River discharge (m³ s⁻¹)', year_min=2010, year_max=2022)\n",
    "    sc_with_obs(ds_list, obs_routing, axes[i], station_id, station_data, ylabel='River discharge (m³ s⁻¹)', year_min=2010, year_max=2022, title_letter=title_letter)"
   ]
  },
  {
   "cell_type": "code",
   "execution_count": null,
   "metadata": {},
   "outputs": [],
   "source": [
    "savefig=False\n",
    "#plot a seasonnal cycle for each station from representative_stations_dict\n",
    "ds_list=[routing_noirr, routing_irr]\n",
    "for i, (station_id, station_data) in enumerate(representative_stations_dict.items()):\n",
    "    sc_station(obs_routing, station_id, name=station_data['name'],\n",
    "               ylabel='River discharge (m³ s⁻¹)', year_min=2010, year_max=2022)\n",
    "    sc_with_obs(ds_list, obs_routing, station_id, station_data, \n",
    "                ylabel='River discharge (m³ s⁻¹)', year_min=2010, year_max=2022, \n",
    "                # title_letter=title_letter,\n",
    "                title='off'\n",
    "                )\n",
    "    if savefig:\n",
    "        plt.savefig('figures/chap4/f05_SC_{}.png'.format(station_data['name']), bbox_inches='tight', dpi=300)"
   ]
  },
  {
   "cell_type": "markdown",
   "metadata": {},
   "source": [
    "## Fig 6 : ET and P eval vs GPCC and GLEAM"
   ]
  },
  {
   "cell_type": "code",
   "execution_count": null,
   "metadata": {},
   "outputs": [],
   "source": [
    "fig = plt.figure(figsize=(18, 8))\n",
    "gs = gridspec.GridSpec(2, 3, width_ratios=[1.1,1,1.2], height_ratios=[1, 1])\n",
    "\n",
    "vmin_p=-1\n",
    "vmax_p= 1\n",
    "vmin_et=-1\n",
    "vmax_et= 1\n",
    "\n",
    "#precip\n",
    "date_min = '2010-01-01'\n",
    "date_max = '2019-12-31'\n",
    "ds_obs=ip_gpcc_isim.sel(time=slice(date_min,date_max))\n",
    "ds_irr=ip_simirr.sel(time=slice(date_min,date_max))\n",
    "ds_noirr=ip_sim.sel(time=slice(date_min,date_max))\n",
    "var='precip'\n",
    "# Seasonal cycle\n",
    "ax1 = fig.add_subplot(gs[0,0])\n",
    "ylabel=\"Precipitation (mm d⁻¹)\"\n",
    "plotvar1 = ds_obs[var].mean(dim=['lon', 'lat']).groupby('time.month').mean(dim='time')\n",
    "color1 = 'black'\n",
    "label1 = 'GPCC'\n",
    "nice_time_plot(plotvar1, ax1, vmin=0, label=label1, color=color1, ylabel=ylabel)\n",
    "plotvar2 = ds_noirr[var].mean(dim=['lon', 'lat']).groupby('time.month').mean(dim='time')\n",
    "color2 = 'red'\n",
    "label2 = 'no_irr'\n",
    "nice_time_plot(plotvar2, ax1, vmin=0, label=label2, color=color2, ylabel=ylabel)\n",
    "plotvar3 = ds_irr[var].mean(dim=['lon', 'lat']).groupby('time.month').mean(dim='time')\n",
    "color3 = 'blue'\n",
    "label3 = 'irr'\n",
    "nice_time_plot(plotvar3, ax1, vmin=0, vmax=3.5, label=label3, color=color3, ylabel=ylabel)\n",
    "ax1.set_title('(a) Mean seasonnal cycle (2010-2019)')\n",
    "ax1.set_xticks(np.arange(1, 13))\n",
    "ax1.set_xticklabels(months_name_list)\n",
    "\n",
    "#Diff\n",
    "ax2 = fig.add_subplot(gs[0,1], projection=ccrs.PlateCarree())\n",
    "plotvar=(ds_noirr[var]-ds_obs[var]).mean(dim='time')\n",
    "cmap=emb_neutral\n",
    "vmin=vmin_p\n",
    "vmax=vmax_p\n",
    "clabel=\"Precipitation bias (mm d⁻¹)\"\n",
    "nice_map(plotvar, ax2, cmap, vmin, vmax, clabel=clabel, cbar_on=False)\n",
    "ax2.set_title('(b) no_irr - GPCC')\n",
    "\n",
    "ax3 = fig.add_subplot(gs[0,2], projection=ccrs.PlateCarree())\n",
    "plotvar=(ds_irr[var]-ds_obs[var]).mean(dim='time')\n",
    "cmap=emb_neutral\n",
    "vmin=vmin_p\n",
    "vmax=vmax_p\n",
    "clabel=\"Precipitation bias (mm d⁻¹)\"\n",
    "nice_map(plotvar, ax3, cmap, vmin, vmax, clabel=clabel, left_labels=False)\n",
    "ax3.set_title('(c) irr - GPCC')\n",
    "\n",
    "\n",
    "# #ET\n",
    "date_min = '2010-01-01'\n",
    "# date_max = '2022-12-31'\n",
    "date_max = '2019-12-31' # to match with GPCC\n",
    "ds_obs=ip_gleam_isim.sel(time=slice(date_min,date_max))\n",
    "ds_irr=ip_simirr.sel(time=slice(date_min,date_max))\n",
    "ds_noirr=ip_sim.sel(time=slice(date_min,date_max))\n",
    "var='evap'\n",
    "# Seasonal cycle\n",
    "ax4 = fig.add_subplot(gs[1,0])\n",
    "vmin=0\n",
    "ylabel=\"Evapotranspiration (mm d⁻¹)\"\n",
    "plotvar1 = ds_obs[var].mean(dim=['lon', 'lat']).groupby('time.month').mean(dim='time')\n",
    "color1 = 'black'\n",
    "label1 = 'GLEAM'\n",
    "nice_time_plot(plotvar1, ax4, vmin=0, label=label1, color=color1, ylabel=ylabel)\n",
    "plotvar2 = ds_noirr[var].mean(dim=['lon', 'lat']).groupby('time.month').mean(dim='time')\n",
    "color2 = 'red'\n",
    "label2 = 'no_irr'\n",
    "nice_time_plot(plotvar2, ax4, vmin=0, label=label2, color=color2, ylabel=ylabel)\n",
    "plotvar3 = ds_irr[var].mean(dim=['lon', 'lat']).groupby('time.month').mean(dim='time')\n",
    "color3 = 'blue'\n",
    "label3 = 'irr'\n",
    "nice_time_plot(plotvar3, ax4, vmin=0, vmax=3.5, label=label3, color=color3, ylabel=ylabel)\n",
    "ax4.set_title('(d) Mean seasonnal cycle (2010-2019)')\n",
    "ax4.set_xticks(np.arange(1, 13))\n",
    "ax4.set_xticklabels(months_name_list)\n",
    "\n",
    "#Diff\n",
    "ax5 = fig.add_subplot(gs[1,1], projection=ccrs.PlateCarree())\n",
    "plotvar=(ds_noirr[var]-ds_obs[var]).mean(dim='time')\n",
    "cmap=emb_neutral\n",
    "vmin=vmin_et\n",
    "vmax=vmax_et\n",
    "clabel=\"Evapotranspiration bias (mm d⁻¹)\"\n",
    "nice_map(plotvar, ax5, cmap, vmin, vmax, clabel=clabel, cbar_on=False)\n",
    "ax5.set_title('(e) no_irr - GLEAM')\n",
    "\n",
    "ax6 = fig.add_subplot(gs[1,2], projection=ccrs.PlateCarree())\n",
    "plotvar=(ds_irr[var]-ds_obs[var]).mean(dim='time')\n",
    "cmap=emb_neutral\n",
    "vmin=vmin_et\n",
    "vmax=vmax_et\n",
    "clabel=\"Evapotranspiration bias (mm d⁻¹)\"\n",
    "nice_map(plotvar, ax6, cmap, vmin, vmax, clabel=clabel, left_labels=False)\n",
    "ax6.set_title('(f) irr - GLEAM')\n",
    "\n",
    "plt.tight_layout()"
   ]
  },
  {
   "cell_type": "markdown",
   "metadata": {},
   "source": [
    "## Fig 7 : Diffs irr - no_irr"
   ]
  },
  {
   "cell_type": "code",
   "execution_count": null,
   "metadata": {},
   "outputs": [],
   "source": [
    "#define evaporative fraction\n",
    "ip_ORCnoirr['evap_frac'] = ip_ORCnoirr['fluxlat'] / (ip_ORCnoirr['fluxlat'] + ip_ORCnoirr['fluxsens'])\n",
    "ip_ORCirr['evap_frac'] = ip_ORCirr['fluxlat'] / (ip_ORCirr['fluxlat'] + ip_ORCirr['fluxsens'])\n",
    "# add units\n",
    "ip_ORCnoirr['evap_frac'].attrs['units']=''\n",
    "ip_ORCirr['evap_frac'].attrs['units']=''"
   ]
  },
  {
   "cell_type": "code",
   "execution_count": null,
   "metadata": {},
   "outputs": [],
   "source": [
    "#With JJA irrig and wind\n",
    "vars=['irrigation', 'evap_frac', 't2m', 's_pblh', 's_lcl', 'precip', 'cape', 'moisture_convergence']\n",
    "vmins=[0  , -0.3, -0.35, -100, -250, -1, -35, -1]\n",
    "vmaxs=[1.5,  0.3,  0.35,  100,  250,  1,  35,  1]\n",
    "clabels=['Irrigation (mm d⁻¹)',\n",
    "         'Evaporative fraction change',\n",
    "         '2-m temperature change (K)',\n",
    "         'ABL height change (m)',\n",
    "         'LCL change (m)',\n",
    "         'Precipitation change (mm d⁻¹)',\n",
    "         'CAPE change (J kg⁻¹)', \n",
    "         'Convergence change (mm d⁻¹)']\n",
    "cmaps=[wet, emb_neutral, emb, emb, emb, emb_neutral, emb, emb_neutral]\n",
    "\n",
    "fig, axes = plt.subplots(4, 2, figsize=(17,16), subplot_kw={'projection': ccrs.PlateCarree()})\n",
    "axes = axes.flatten()\n",
    "\n",
    "months=[6, 7, 8]\n",
    "\n",
    "i=0\n",
    "map_wind(ip_simirr.sel(time=ip_simirr['time.month'].isin(months)), \n",
    "         axes[i], \n",
    "         extra_var=vars[i], \n",
    "         extra_ds=ip_ORCirr.sel(time=ip_ORCirr['time.month'].isin(months)).mean(dim='time'),\n",
    "         height='10m', dist=2, scale=30,\n",
    "         cmap=cmaps[i], vmin=vmins[i],vmax=vmaxs[i], clabel=clabels[i],\n",
    "         quiver_inside=True)\n",
    "\n",
    "pvalue=0.05\n",
    "sig_method=1\n",
    "check_norm=False\n",
    "sig_viz=6\n",
    "hatch='///'\n",
    "\n",
    "for i in range(1,2):\n",
    "    ds1=ip_ORCirr.sel(time=ip_ORCirr['time.month'].isin(months))\n",
    "    ds2=ip_ORCnoirr.sel(time=ip_ORCnoirr['time.month'].isin(months))\n",
    "    var=vars[i]\n",
    "    diff = (ds1[var] - ds2[var]).mean(dim='time')\n",
    "    plotvar= diff\n",
    "    ax=axes[i]\n",
    "    vmin=vmins[i]\n",
    "    vmax=vmaxs[i]\n",
    "    clabel=clabels[i]\n",
    "    cmap=cmaps[i]\n",
    "    sig_mask = compute_sig_mask(ds1, ds2, var, check_norm=check_norm, method=sig_method, pvalue=pvalue)\n",
    "    nice_map(plotvar, ax, cmap=cmap, vmin=vmin, vmax=vmax, sig_mask=sig_mask, clabel=clabel, hatch=hatch)\n",
    "\n",
    "\n",
    "for i in range(2, 8):\n",
    "    ds1=ip_simirr.sel(time=ip_simirr['time.month'].isin(months))\n",
    "    ds2=ip_sim.sel(time=ip_sim['time.month'].isin(months))\n",
    "    var=vars[i]\n",
    "    diff = (ds1[var] - ds2[var]).mean(dim='time')\n",
    "    plotvar= diff\n",
    "    ax=axes[i]\n",
    "    vmin=vmins[i]\n",
    "    vmax=vmaxs[i]\n",
    "    clabel=clabels[i]\n",
    "    cmap=cmaps[i]\n",
    "    sig_mask = compute_sig_mask(ds1, ds2, var, check_norm=check_norm, method=sig_method, pvalue=pvalue)\n",
    "    nice_map(plotvar, ax, cmap=cmap, vmin=vmin, vmax=vmax, sig_mask=sig_mask, clabel=clabel, hatch=hatch)\n",
    "\n",
    "\n",
    "for i in range(8):\n",
    "    title='({})'.format(letters[i])\n",
    "    axes[i].set_title(title)\n",
    "\n",
    "if True:\n",
    "    plt.savefig('figures/chap4/article/f07_v2.png', bbox_inches='tight', dpi=300)"
   ]
  },
  {
   "cell_type": "markdown",
   "metadata": {},
   "source": [
    "## Fig 8 : Scatter plot ET and P changes"
   ]
  },
  {
   "cell_type": "code",
   "execution_count": null,
   "metadata": {},
   "outputs": [],
   "source": [
    "ds1=ip_ORCirr.mean(dim=['lon', 'lat'])\n",
    "ds2=(ip_ORCirr - ip_ORCnoirr).mean(dim=['lon', 'lat'])"
   ]
  },
  {
   "cell_type": "code",
   "execution_count": null,
   "metadata": {},
   "outputs": [],
   "source": [
    "fig, axes= plt.subplots(1,2, figsize=(18,6))\n",
    "axes=axes.flatten()\n",
    "var1='irrigation'\n",
    "xlabel='Irrigation (mm d⁻¹)'\n",
    "seasons=['DJF', 'MAM', 'JJA', 'SON']\n",
    "\n",
    "#evap vs irrig\n",
    "ax=axes[0]\n",
    "var2='evap'\n",
    "ylabel='Evapotranspiration change (mm d⁻¹)'\n",
    "title='(a)'\n",
    "scatter_vars_seasons_ax(ax,ds1, ds2, var1, var2, reg=True, plot_one=True, title=title, coloring=True,\n",
    "                      is_1D=True, seasons_list=seasons, xlabel=xlabel, ylabel=ylabel)\n",
    "#precip vs irrig\n",
    "ax=axes[1]\n",
    "var2='rain'\n",
    "ylabel='Precipitation change (mm d⁻¹)'\n",
    "title='(b)'\n",
    "scatter_vars_seasons_ax(ax,ds1, ds2, var1, var2, reg=True, plot_one=True, title=title, coloring=True,\n",
    "                      is_1D=True, seasons_list=seasons, xlabel=xlabel, ylabel=ylabel)"
   ]
  },
  {
   "cell_type": "markdown",
   "metadata": {},
   "source": [
    "## Fig 9 : Moisture budget by zone"
   ]
  },
  {
   "cell_type": "markdown",
   "metadata": {},
   "source": [
    "### Define datasets and masks"
   ]
  },
  {
   "cell_type": "code",
   "execution_count": null,
   "metadata": {},
   "outputs": [],
   "source": [
    "# Define 2D masks\n",
    "# Applied irrigation\n",
    "irr_mask_low    = ip_ORCirr.mean(dim='time')['irrigation']<0.06\n",
    "irr_mask_high   = ip_ORCirr.mean(dim='time')['irrigation']>0.12\n",
    "irr_mask_med    = (~irr_mask_low) * (~irr_mask_high) * ip_mask"
   ]
  },
  {
   "cell_type": "code",
   "execution_count": null,
   "metadata": {},
   "outputs": [],
   "source": [
    "# Define datasets orc\n",
    "lowirr_ip_ORCnoirr = apply_2Dmask_to_dataset(ip_ORCnoirr, irr_mask_low, dsname='lowirr_noirr')\n",
    "lowirr_ip_ORCirr = apply_2Dmask_to_dataset(ip_ORCirr, irr_mask_low, dsname='lowirr_irr')\n",
    "\n",
    "medirr_ip_ORCnoirr = apply_2Dmask_to_dataset(ip_ORCnoirr, irr_mask_med, dsname='medirr_noirr')\n",
    "medirr_ip_ORCirr = apply_2Dmask_to_dataset(ip_ORCirr, irr_mask_med, dsname='medirr_irr')\n",
    "\n",
    "highirr_ip_ORCnoirr = apply_2Dmask_to_dataset(ip_ORCnoirr, irr_mask_high, dsname='highirr_noirr')\n",
    "highirr_ip_ORCirr = apply_2Dmask_to_dataset(ip_ORCirr, irr_mask_high, dsname='highirr_irr')"
   ]
  },
  {
   "cell_type": "code",
   "execution_count": null,
   "metadata": {},
   "outputs": [],
   "source": [
    "# Temporal and spatial mean \n",
    "# for IP\n",
    "ip_ORCnoirr_mean = ip_ORCnoirr.mean(dim=['time','lon','lat'])\n",
    "ip_ORCirr_mean = ip_ORCirr.mean(dim=['time','lon','lat'])\n",
    "\n",
    "#by irrig class\n",
    "lowirr_ip_ORCnoirr_mean     = lowirr_ip_ORCnoirr.mean(dim=['time','lon','lat'])\n",
    "lowirr_ip_ORCirr_mean       = lowirr_ip_ORCirr.mean(dim=['time','lon','lat'])\n",
    "medirr_ip_ORCnoirr_mean     = medirr_ip_ORCnoirr.mean(dim=['time','lon','lat'])\n",
    "medirr_ip_ORCirr_mean       = medirr_ip_ORCirr.mean(dim=['time','lon','lat'])\n",
    "highirr_ip_ORCnoirr_mean    = highirr_ip_ORCnoirr.mean(dim=['time','lon','lat'])\n",
    "highirr_ip_ORCirr_mean      = highirr_ip_ORCirr.mean(dim=['time','lon','lat'])"
   ]
  },
  {
   "cell_type": "code",
   "execution_count": null,
   "metadata": {},
   "outputs": [],
   "source": [
    "#diff\n",
    "#over whole IP\n",
    "ip_orc_diff_mean = ip_ORCirr_mean - ip_ORCnoirr_mean\n",
    "\n",
    "#by irrig class\n",
    "lowirr_ip_orc_diff_mean     = lowirr_ip_ORCirr_mean - lowirr_ip_ORCnoirr_mean\n",
    "medirr_ip_orc_diff_mean     = medirr_ip_ORCirr_mean - medirr_ip_ORCnoirr_mean\n",
    "highirr_ip_orc_diff_mean    = highirr_ip_ORCirr_mean -  highirr_ip_ORCnoirr_mean"
   ]
  },
  {
   "cell_type": "markdown",
   "metadata": {},
   "source": [
    "### Compute and display data"
   ]
  },
  {
   "cell_type": "code",
   "execution_count": null,
   "metadata": {},
   "outputs": [],
   "source": [
    "compute_dict=True"
   ]
  },
  {
   "cell_type": "code",
   "execution_count": null,
   "metadata": {},
   "outputs": [],
   "source": [
    "if compute_dict:\n",
    "    data_dict = {\n",
    "        \"Variable\": [\"Irrigation\",  \"ET change\",\"P change\"],\n",
    "        \"Low irrigation\":               [0,0,0],\n",
    "        \"Medium irrigation\":            [0,0,0],\n",
    "        \"High irrigation\":              [0,0,0],\n",
    "        \"Iberian Peninsula\":            [0,0,0]\n",
    "    }\n",
    "    # add average values for irrigation, ET chang and P change to dictionary\n",
    "    data_dict['Low irrigation'][0] = lowirr_ip_ORCirr_mean['irrigation'].compute().item()\n",
    "    data_dict['Low irrigation'][1] = lowirr_ip_orc_diff_mean['evap'].compute().item()\n",
    "    data_dict['Low irrigation'][2] = lowirr_ip_orc_diff_mean['rain'].compute().item()\n",
    "\n",
    "    data_dict['Medium irrigation'][0] = medirr_ip_ORCirr_mean['irrigation'].compute().item()\n",
    "    data_dict['Medium irrigation'][1] = medirr_ip_orc_diff_mean['evap'].compute().item()\n",
    "    data_dict['Medium irrigation'][2] = medirr_ip_orc_diff_mean['rain'].compute().item()\n",
    "\n",
    "    data_dict['High irrigation'][0] = highirr_ip_ORCirr_mean['irrigation'].compute().item()\n",
    "    data_dict['High irrigation'][1] = highirr_ip_orc_diff_mean['evap'].compute().item()\n",
    "    data_dict['High irrigation'][2] = highirr_ip_orc_diff_mean['rain'].compute().item()\n",
    "\n",
    "    data_dict['Iberian Peninsula'][0] = ip_ORCirr_mean['irrigation'].compute().item()\n",
    "    data_dict['Iberian Peninsula'][1] = ip_orc_diff_mean['evap'].compute().item()\n",
    "    data_dict['Iberian Peninsula'][2] = ip_orc_diff_mean['rain'].compute().item()\n",
    "\n",
    "    print(data_dict)\n",
    "    \n",
    "else:\n",
    "    #variables already computed and saved for each subdataset (mm d⁻¹)\n",
    "    data_dict = {'Variable': ['Irrigation', 'ET change', 'P change'],\n",
    "                 'Low irrigation': [0.03250407055020332, 0.04089963436126709, 0.022051572799682617],\n",
    "                 'Medium irrigation': [0.08199943602085114, 0.09069693088531494, 0.010108709335327148],\n",
    "                 'High irrigation': [0.21001876890659332, 0.2211529016494751, 0.009575486183166504],\n",
    "                 'Iberian Peninsula': [0.06673634797334671, 0.07550418376922607, 0.0167844295501709]\n",
    "                 }\n"
   ]
  },
  {
   "cell_type": "code",
   "execution_count": null,
   "metadata": {},
   "outputs": [],
   "source": [
    "#turn dict to df\n",
    "irrZone_df = pd.DataFrame(data_dict)\n",
    "irrZone_df"
   ]
  },
  {
   "cell_type": "code",
   "execution_count": null,
   "metadata": {},
   "outputs": [],
   "source": [
    "#edit titles\n",
    "irrZone_df['(a) Low irrigation'] = irrZone_df['Low irrigation']\n",
    "irrZone_df['(b) Medium irrigation'] = irrZone_df['Medium irrigation']\n",
    "irrZone_df['(c) High irrigation'] = irrZone_df['High irrigation']\n",
    "irrZone_df['(d) Iberian Peninsula'] = irrZone_df['Iberian Peninsula']\n",
    "irrZone_df.drop(columns=irrZone_df.columns[1:5], inplace=True) #drop 4 initial columns\n",
    "irrZone_df\n"
   ]
  },
  {
   "cell_type": "code",
   "execution_count": null,
   "metadata": {},
   "outputs": [],
   "source": [
    "make_combined_figure9(\n",
    "    irrZone_df,\n",
    "    ip_ORCirr,\n",
    "    irr_mask_low,\n",
    "    irr_mask_med,\n",
    "    irr_mask_high,\n",
    "    domain_labels=('Low irrigation', 'Medium irrigation', 'High irrigation')\n",
    ")"
   ]
  },
  {
   "cell_type": "markdown",
   "metadata": {},
   "source": [
    "# Tables"
   ]
  },
  {
   "cell_type": "markdown",
   "metadata": {},
   "source": [
    "## Table 1 : Gridded products\n",
    "Not made using Python"
   ]
  },
  {
   "cell_type": "markdown",
   "metadata": {},
   "source": [
    "## Tab 2 : Discharge stations"
   ]
  },
  {
   "cell_type": "code",
   "execution_count": null,
   "metadata": {},
   "outputs": [],
   "source": [
    "#make csv from proper_stations_dict\n",
    "filename='../../../obs/stations_data.csv'\n",
    "df = pd.DataFrame(proper_stations_dict).T\n",
    "df.to_csv(filename)"
   ]
  },
  {
   "cell_type": "markdown",
   "metadata": {},
   "source": [
    "## Tab 3 : Change in evaluated metrics"
   ]
  },
  {
   "cell_type": "code",
   "execution_count": null,
   "metadata": {},
   "outputs": [],
   "source": [
    "#compute all metrics on one station (necessary for later automatic use of metrics)\n",
    "station_id, station = next(iter(proper_stations_dict.items()))\n",
    "metric_list=[metric_sim_module, metric_obs_module, metric_bias, metric_rmse, metric_tcorr, metric_nse, metric_kge]\n",
    "for metric_to_use in metric_list:\n",
    "    metric_value=compute_metric_station(routing_noirr, obs_routing, station_id, station, metric_to_use)\n",
    "    print('{} for station {} : {}'.format(metric_to_use.__short_name__, station['name'], metric_value))"
   ]
  },
  {
   "cell_type": "code",
   "execution_count": null,
   "metadata": {},
   "outputs": [],
   "source": [
    "# output a pandas dataframe with all metric values for a given list of metrics and stations\n",
    "sim=routing_noirr\n",
    "metric_list=[metric_sim_module, metric_obs_module, metric_bias, metric_rmse, metric_tcorr, metric_nse, metric_kge]\n",
    "stations_dict=proper_stations_dict\n",
    "# define dataframe with one row per station and one column per metric\n",
    "df=[]\n",
    "for station_id, station in stations_dict.items():\n",
    "    label='{} ({})'.format(station['station_nb'],station['name'])\n",
    "    df.append({'Station':label})\n",
    "    for metric in metric_list:\n",
    "        name=metric.__short_name__\n",
    "        metric_value=compute_metric_station(sim, obs_routing, station_id, station, metric)\n",
    "        metric_value=np.round(metric_value, 2)\n",
    "        # append metric_value to df\n",
    "        df[-1][name]=metric_value\n",
    "\n",
    "# convert df to pandas dataframe\n",
    "df_noirr=pd.DataFrame(df)\n",
    "# set Station as index\n",
    "df_noirr.set_index('Station', inplace=True)\n",
    "df_noirr['Bias (%)'] = np.round(df_noirr['Bias (m³/s)'] / df_noirr['Module (obs, m³/s)'], 3) * 100\n",
    "#move Bias (%) to the 4th column\n",
    "cols = df_noirr.columns.tolist()\n",
    "cols = cols[:3] + cols[-1:] + cols[3:-1]\n",
    "df_noirr = df_noirr[cols]\n",
    "#add average row\n",
    "df_noirr.loc['Mean'] = df_noirr.mean()\n",
    "df_noirr.drop('Module (sim, m³/s)', axis=1, inplace=False)"
   ]
  },
  {
   "cell_type": "code",
   "execution_count": null,
   "metadata": {},
   "outputs": [],
   "source": [
    "# output a pandas dataframe with all metric values for a given list of metrics and stations\n",
    "sim=routing_irr\n",
    "metric_list=[metric_sim_module, metric_obs_module, metric_bias, metric_rmse, metric_tcorr, metric_nse, metric_kge]\n",
    "stations_dict=proper_stations_dict\n",
    "# define dataframe with one row per station and one column per metric\n",
    "df=[]\n",
    "for station_id, station in stations_dict.items():\n",
    "    label='{} ({})'.format(station['station_nb'],station['name'])\n",
    "    df.append({'Station':label})\n",
    "    for metric in metric_list:\n",
    "        name=metric.__short_name__\n",
    "        metric_value=compute_metric_station(sim, obs_routing, station_id, station, metric)\n",
    "        metric_value=np.round(metric_value, 2)\n",
    "        # append metric_value to df\n",
    "        df[-1][name]=metric_value\n",
    "\n",
    "# convert df to pandas dataframe\n",
    "df_irr=pd.DataFrame(df)\n",
    "# set Station as index\n",
    "df_irr.set_index('Station', inplace=True)\n",
    "df_irr['Bias (%)'] = np.round(df_irr['Bias (m³/s)'] / df_irr['Module (obs, m³/s)'], 3) * 100\n",
    "#move Bias (%) to the 4th column\n",
    "cols = df_irr.columns.tolist()\n",
    "cols = cols[:3] + cols[-1:] + cols[3:-1]\n",
    "df_irr = df_irr[cols]\n",
    "#add average row\n",
    "df_irr.loc['Mean'] = df_irr.mean()\n",
    "df_irr.drop('Module (obs, m³/s)', axis=1, inplace=False).drop('Module (sim, m³/s)', axis=1, inplace=False)"
   ]
  },
  {
   "cell_type": "code",
   "execution_count": null,
   "metadata": {},
   "outputs": [],
   "source": [
    "df_diff=df_irr-df_noirr\n",
    "df_diff['Bias change (%)'] = np.round(df_diff['Bias (m³/s)'] / df_noirr['Bias (m³/s)'], 3) * 100\n",
    "df_diff['RMSE change (%)'] = np.round(df_diff['RMSE'] / df_noirr['RMSE'], 4) * 100\n",
    "df_diff.drop('Module (obs, m³/s)', axis=1, inplace=True)\n",
    "df_diff.drop('Module (sim, m³/s)', axis=1, inplace=True)\n",
    "df_diff.drop('Bias (m³/s)', axis=1, inplace=True)\n",
    "df_diff.drop('Bias (%)', axis=1, inplace=True)\n",
    "df_diff.drop('RMSE', axis=1, inplace=True)\n",
    "df_diff"
   ]
  },
  {
   "cell_type": "code",
   "execution_count": null,
   "metadata": {},
   "outputs": [],
   "source": [
    "#export to csv to put in latex\n",
    "df_noirr.to_csv('figures/df_noirr.csv')\n",
    "df_irr.to_csv('figures/df_irr.csv')\n",
    "df_diff.to_csv('figures/df_diff.csv')"
   ]
  },
  {
   "cell_type": "markdown",
   "metadata": {},
   "source": [
    "## Tab 4 : Subdomains of different irrigation intensity"
   ]
  },
  {
   "cell_type": "markdown",
   "metadata": {},
   "source": [
    "\n",
    "Areas (computed here) and mean irrigation (see Fig.9)\n",
    "\n",
    "Thresholds defined in Fig.9 as well, 0.06 mm d⁻¹ and 0.12 mm d⁻¹\n",
    "\n",
    "```\n",
    "irr_mask_low    = ip_ORCirr.mean(dim='time')['irrigation']<0.06\n",
    "irr_mask_high   = ip_ORCirr.mean(dim='time')['irrigation']>0.12\n",
    "irr_mask_med    = (~irr_mask_low) * (~irr_mask_high) * ip_mask\n",
    "```"
   ]
  },
  {
   "cell_type": "code",
   "execution_count": null,
   "metadata": {},
   "outputs": [],
   "source": [
    "ds_area= compute_grid_cell_width(ip_ORCirr)\n",
    "\n",
    "mask1=irr_mask_low\n",
    "mask_area_low=compute_mask_area(ds_area, mask1)\n",
    "\n",
    "mask2=irr_mask_med\n",
    "mask_area_med=compute_mask_area(ds_area, mask2)\n",
    "\n",
    "mask3=irr_mask_high\n",
    "mask_area_high=compute_mask_area(ds_area, mask3)\n",
    "\n",
    "mask4=ip_mask\n",
    "mask_area_ip=compute_mask_area(ds_area, mask4)"
   ]
  },
  {
   "cell_type": "code",
   "execution_count": null,
   "metadata": {},
   "outputs": [],
   "source": [
    "#fraction of IP for each area\n",
    "#low irr\n",
    "lowirr_fraction=mask_area_low / mask_area_ip\n",
    "#medium irr\n",
    "medirr_fraction=mask_area_med / mask_area_ip\n",
    "#high irr\n",
    "highirr_fraction=mask_area_high / mask_area_ip\n",
    "#total fraction of IP\n",
    "ip_fraction=mask_area_ip / mask_area_ip\n",
    "#print all\n",
    "print('Low irrigation fraction: {}'.format(lowirr_fraction))\n",
    "print('Medium irrigation fraction: {}'.format(medirr_fraction))\n",
    "print('High irrigation fraction: {}'.format(highirr_fraction))\n",
    "print('Iberian Peninsula fraction: {}'.format(ip_fraction))"
   ]
  },
  {
   "cell_type": "markdown",
   "metadata": {},
   "source": [
    "# Appendix"
   ]
  },
  {
   "cell_type": "code",
   "execution_count": null,
   "metadata": {},
   "outputs": [],
   "source": [
    "plot_appendix=True"
   ]
  },
  {
   "cell_type": "markdown",
   "metadata": {},
   "source": [
    "## 18 stations time series (A1) and seasonal cycle (A2)"
   ]
  },
  {
   "cell_type": "code",
   "execution_count": null,
   "metadata": {},
   "outputs": [],
   "source": [
    "if plot_appendix:\n",
    "    #plot a time series for each station from dict\n",
    "    fig, axes= plt.subplots(6,3, figsize=(20,26))\n",
    "    axes= axes.flatten()\n",
    "    ds_list=[routing_noirr, routing_irr]\n",
    "    for i, (station_id, station_data) in enumerate(proper_stations_dict.items()):\n",
    "        ts_station(obs_routing,axes[i], station_id, name=station_data['name'], year_min=2010, year_max=2017)\n",
    "        ts_with_obs(ds_list, obs_routing, axes[i], station_id, station_data, year_min=2010, year_max=2017, plot_all_sim=True)\n",
    "    plt.savefig('figures/chap4/article/18_stations_TS.png', bbox_inches='tight', dpi=300)"
   ]
  },
  {
   "cell_type": "code",
   "execution_count": null,
   "metadata": {},
   "outputs": [],
   "source": [
    "if plot_appendix:\n",
    "    #plot a time series for each station from dict\n",
    "    fig, axes= plt.subplots(6,3, figsize=(20,28))\n",
    "    axes= axes.flatten()\n",
    "    ds_list=[routing_noirr, routing_irr]\n",
    "    for i, (station_id, station_data) in enumerate(proper_stations_dict.items()):\n",
    "        sc_station(obs_routing,axes[i], station_id, name=station_data['name'], year_min=2010, year_max=2017)\n",
    "        sc_with_obs(ds_list, obs_routing, axes[i], station_id, station_data, year_min=2010, year_max=2017)\n",
    "    plt.savefig('figures/chap5/article/18_stations_SC.png', bbox_inches='tight', dpi=300)"
   ]
  }
 ],
 "metadata": {
  "kernelspec": {
   "display_name": "lam1env",
   "language": "python",
   "name": "python3"
  },
  "language_info": {
   "codemirror_mode": {
    "name": "ipython",
    "version": 3
   },
   "file_extension": ".py",
   "mimetype": "text/x-python",
   "name": "python",
   "nbconvert_exporter": "python",
   "pygments_lexer": "ipython3",
   "version": "3.12.10"
  }
 },
 "nbformat": 4,
 "nbformat_minor": 2
}
