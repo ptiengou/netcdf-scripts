{
 "cells": [
  {
   "cell_type": "markdown",
   "metadata": {},
   "source": [
    "# Imports and setting up viz\n",
    "\n",
    "NB : conda env1 on PC, lam1env on spirit (Python3.12)"
   ]
  },
  {
   "cell_type": "code",
   "execution_count": null,
   "metadata": {},
   "outputs": [],
   "source": [
    "%load_ext autoreload\n",
    "%autoreload 2\n",
    "%matplotlib inline\n",
    "\n",
    "#import personnal tools\n",
    "import sys\n",
    "sys.path.append('../../python_tools/')\n",
    "from tools import *\n",
    "from tools_mapping import *"
   ]
  },
  {
   "cell_type": "code",
   "execution_count": null,
   "metadata": {},
   "outputs": [],
   "source": [
    "rivers = cfeature.NaturalEarthFeature('physical', 'rivers_lake_centerlines', '10m',edgecolor=(0, 0, 0, 0.3), facecolor='none')"
   ]
  },
  {
   "cell_type": "markdown",
   "metadata": {},
   "source": [
    "# Load files"
   ]
  },
  {
   "cell_type": "code",
   "execution_count": null,
   "metadata": {},
   "outputs": [],
   "source": [
    "date_min = '2010-01-01'\n",
    "date_max = '2014-12-31'"
   ]
  },
  {
   "cell_type": "markdown",
   "metadata": {},
   "source": [
    "## Format functions"
   ]
  },
  {
   "cell_type": "code",
   "execution_count": null,
   "metadata": {},
   "outputs": [],
   "source": [
    "def format_LMDZ_MO(filename, name, color=None, date_min=None, date_max=None):\n",
    "    \"\"\"\n",
    "    Format the LMDZ-MO output for plotting.\n",
    "    \"\"\"\n",
    "    ds = xr.open_mfdataset(filename)\n",
    "    ds.attrs['name'] = name\n",
    "    ds.attrs['plot_color'] = color if color else 'blue'\n",
    "\n",
    "    rename_dict = {'time_counter':'time'}\n",
    "    ds = ds.rename(rename_dict)\n",
    "    #restrict\n",
    "    # ds = ds.sel(lon=slice(lon_min,lon_max),lat=slice(lat_min,lat_max))\n",
    "    if date_min is not None and date_max is not None:\n",
    "        ds = ds.sel(time=slice(date_min, date_max))\n",
    "\n",
    "    #edit and convert units\n",
    "    ds['evap'] = ds['evap'] *3600 * 24\n",
    "    ds['evap'].attrs['units'] = 'mm/d'\n",
    "    ds['evap'].attrs['name'] = 'ET'\n",
    "\n",
    "    ds['precip'] = ds['precip'] *3600 * 24\n",
    "    ds['precip'].attrs['units'] = 'mm/d'\n",
    "    ds['precip'].attrs['name'] = 'Precipitation'\n",
    "\n",
    "    ds['t2m'] = ds['t2m'] - 273.15\n",
    "    ds['t2m'].attrs['units'] = '°C'\n",
    "    ds['t2m'].attrs['name'] = '2-m temperature'\n",
    "\n",
    "    ds['fluxsens']= -ds['sens']\n",
    "    ds['fluxsens'].attrs['units'] = 'W/m²'\n",
    "    ds['fluxsens'].attrs['name'] = 'Sensible heat flux'\n",
    "\n",
    "    ds['netrad'] = ds['LWdnSFC'] - ds['LWupSFC'] + ds['SWdnSFC'] - ds['SWupSFC']\n",
    "    ds['netrad'].attrs['units'] = 'W/m2'\n",
    "\n",
    "    ds['SWnetSFC'] = ds['SWdnSFC'] - ds['SWupSFC']\n",
    "    ds['SWnetSFC'].attrs['units'] = 'W/m2'\n",
    "\n",
    "    ds['LWnetSFC'] = ds['LWdnSFC'] - ds['LWupSFC']\n",
    "    ds['LWnetSFC'].attrs['units'] = 'W/m2'\n",
    "\n",
    "    ds['P - E'] = ds['precip'] - ds['evap']\n",
    "    ds['P - E'].attrs['units'] = 'mm/d'\n",
    "\n",
    "    return ds"
   ]
  },
  {
   "cell_type": "markdown",
   "metadata": {},
   "source": [
    "## Sims 3 domain sizes (2010-2014)"
   ]
  },
  {
   "cell_type": "code",
   "execution_count": null,
   "metadata": {},
   "outputs": [],
   "source": [
    "LAM_1000_40_dir='../../../JZ_simu_outputs/LAM/LAM_1000_40/noirr_2010_2022'\n",
    "# LAM_1500_40_dir='../../../JZ_simu_outputs/LAM/LAM_1500_40_sim224'\n",
    "LAM_1500_60_dir='../../../JZ_simu_outputs/LAM/LAM_1500_60/LAM_1500_60_sim206' #not the exact version used afterwards but appropriate for sensitivity comparison on domain size\n",
    "LAM_2000_80_dir='../../../JZ_simu_outputs/LAM/LAM_2000_80/LAM_2000_80_sim199'"
   ]
  },
  {
   "cell_type": "code",
   "execution_count": null,
   "metadata": {},
   "outputs": [],
   "source": [
    "#smaller LAM (original)\n",
    "filename = '{}/ATM/TS*.nc'.format(LAM_1000_40_dir)\n",
    "# filename = '{}/ATM/MO/*.nc'.format(LAM_1000_40_dir)\n",
    "\n",
    "color = 'blue'\n",
    "\n",
    "lmdz_1000_40 = format_LMDZ_MO(filename, 'LAM_1000km_NBP40', color=color, date_min=date_min, date_max=date_max)\n",
    "\n",
    "lmdz_1000_40\n"
   ]
  },
  {
   "cell_type": "code",
   "execution_count": null,
   "metadata": {},
   "outputs": [],
   "source": [
    "filename = '{}/ATM/MO/*.nc'.format(LAM_1500_60_dir)\n",
    "\n",
    "lmdz_1500_60 = format_LMDZ_MO(filename, 'LAM_1500km_NBP60', color='green')\n",
    "\n",
    "lmdz_1500_60"
   ]
  },
  {
   "cell_type": "code",
   "execution_count": null,
   "metadata": {},
   "outputs": [],
   "source": [
    "filename = '{}/ATM/MO/*.nc'.format(LAM_2000_80_dir)\n",
    "\n",
    "lmdz_2000_80 = format_LMDZ_MO(filename, 'LAM_2000km_NBP80', color='red')\n",
    "\n",
    "lmdz_2000_80"
   ]
  },
  {
   "cell_type": "markdown",
   "metadata": {},
   "source": [
    "## Forcing with LMDZ vs forcing with ERA5\n",
    "\n",
    "LAM 1000km NBP40\n",
    "\n",
    "\n",
    "2010-2012 ?"
   ]
  },
  {
   "cell_type": "code",
   "execution_count": null,
   "metadata": {},
   "outputs": [],
   "source": []
  },
  {
   "cell_type": "markdown",
   "metadata": {},
   "source": [
    "## Obs"
   ]
  },
  {
   "cell_type": "markdown",
   "metadata": {},
   "source": [
    "### ERA5"
   ]
  },
  {
   "cell_type": "code",
   "execution_count": null,
   "metadata": {},
   "outputs": [],
   "source": [
    "#open ERA5 file\n",
    "filename = '../../../obs/ERA5/ERA5_large_eval.nc'\n",
    "era = xr.open_mfdataset(filename)\n",
    "era.attrs['name'] = 'ERA5'\n",
    "\n",
    "#define or edit vars\n",
    "#name ERA5 vars like in LMDZOR outputs\n",
    "dict =  {\n",
    "        'longitude':'lon',\n",
    "        'latitude':'lat',\n",
    "        'e':'evap',\n",
    "        'ro':'totrunoff',\n",
    "        'tp':'precip',\n",
    "        'u10':'u10m',\n",
    "        'v10':'v10m',\n",
    "        'p71.162' : 'uq',\n",
    "        'p72.162' : 'vq',\n",
    "        'sshf' : 'fluxsens',\n",
    "        'slhf' : 'fluxlat',\n",
    "        'si10' : 'sfcWind',\n",
    "        'ssrd' : 'SWdnSFC',\n",
    "        'strd' : 'LWdnSFC',\n",
    "        'ssr' : 'SWnetSFC',\n",
    "        'str' : 'LWnetSFC',\n",
    "        }\n",
    "era = era.rename(dict)\n",
    "era=era.sel(time=slice(date_min, date_max))\n",
    "# era = era.sel(lon=slice(lon_min,lon_max),lat=slice(lat_max, lat_min))\n",
    "\n",
    "#make evap positive in era\n",
    "era['evap'] = -era['evap'] * 1000\n",
    "era['evap'].attrs['units'] = 'mm/d'\n",
    "era['precip'] = era['precip']*1000\n",
    "era['precip'].attrs['units'] = 'mm/d'\n",
    "# era['cldt'] = era['tcc']*100\n",
    "# era['cldt'].attrs['units'] = '%'\n",
    "\n",
    "era['P - E'] = era['precip'] - era['evap']\n",
    "era['P - E'].attrs['units'] = 'mm/d'\n",
    "\n",
    "era['calcWind'] = np.sqrt(era['u10m']**2 + era['v10m']**2)\n",
    "era['calcWind'].attrs['units'] = 'm/s'\n",
    "\n",
    "era['t2m'] = era['t2m'] - 273.15\n",
    "era['t2m'].attrs['units'] = '°C'\n",
    "era['t2m'].attrs['name'] = '2-m temperature'\n",
    "   \n",
    "#convert 4 radiation variables from J/m2 to W/m2\n",
    "era['SWdnSFC'] = era['SWdnSFC'] / (3600 *24)\n",
    "era['SWdnSFC'].attrs['units'] = 'W/m2'\n",
    "era['LWdnSFC'] = era['LWdnSFC'] / (3600 *24)\n",
    "era['LWdnSFC'].attrs['units'] = 'W/m2'\n",
    "era['SWnetSFC'] = era['SWnetSFC'] / (3600 *24)\n",
    "era['SWnetSFC'].attrs['units'] = 'W/m2'\n",
    "era['LWnetSFC'] = era['LWnetSFC'] / (3600 *24)\n",
    "era['LWnetSFC'].attrs['units'] = 'W/m2'\n",
    "#add up vars and netrad\n",
    "era['LWupSFC'] = - era['LWnetSFC'] + era['LWdnSFC']\n",
    "era['LWupSFC'].attrs['units'] = 'W/m2'\n",
    "era['SWupSFC'] = - era['SWnetSFC'] + era['SWdnSFC']\n",
    "era['SWupSFC'].attrs['units'] = 'W/m2'\n",
    "era['netrad'] = era['LWnetSFC'] + era['SWnetSFC']\n",
    "era['netrad'].attrs['units'] = 'W/m2'\n",
    "\n",
    "era\n"
   ]
  },
  {
   "cell_type": "code",
   "execution_count": null,
   "metadata": {},
   "outputs": [],
   "source": [
    "#open tqruv file\n",
    "filename='../../../obs/ERA5/TQRUV_850_2010_2022_monthly.nc'\n",
    "tqruv = xr.open_dataset(filename)\n",
    "tqruv.attrs['name'] = 'ERA5'\n",
    "# tqruv = tqruv.sel(longitude=slice(lon_min,lon_max),latitude=slice(lat_max,lat_min))\n",
    "tqruv = tqruv.sel(time=slice(date_min, date_max))\n",
    "#rename longitude and latitude to lon and lat\n",
    "tqruv = tqruv.rename({'longitude':'lon','latitude':'lat'})\n",
    "\n",
    "#rename all variables to add 850 in name\n",
    "tqruv['u850'] = tqruv['u']\n",
    "tqruv['v850'] = tqruv['v']\n",
    "tqruv['q850'] = tqruv['q']\n",
    "tqruv['t850'] = tqruv['t']\n",
    "tqruv['r850'] = tqruv['r']\n",
    "tqruv"
   ]
  },
  {
   "cell_type": "markdown",
   "metadata": {},
   "source": [
    "### GLEAM"
   ]
  },
  {
   "cell_type": "code",
   "execution_count": null,
   "metadata": {},
   "outputs": [],
   "source": [
    "#gleam\n",
    "# filename='../../../obs/GLEAMv4.1a/E_1980-2022_GLEAM_v3.8a_MO.nc'\n",
    "filename='../../../obs/GLEAMv4.1a/E/*_MO.nc'\n",
    "gleam=xr.open_mfdataset(filename)\n",
    "gleam.attrs['name']='GLEAM'\n",
    "# gleam = gleam0.sel(lon=slice(lon_min,lon_max),lat=slice(lat_max,lat_min))\n",
    "#adapt period\n",
    "gleam=gleam.sel(time=slice(date_min, date_max))\n",
    "#name gleam vars like in LMDZOR outputs\n",
    "dict =  {\n",
    "        'E':'evap'\n",
    "        }\n",
    "gleam = gleam.rename(dict)\n",
    "#convert mm/month to mm/day\n",
    "gleam['evap']=gleam['evap']/30\n",
    "gleam['evap'].attrs['units']='mm/d'\n",
    "gleam"
   ]
  },
  {
   "cell_type": "markdown",
   "metadata": {},
   "source": [
    "### FluxCom"
   ]
  },
  {
   "cell_type": "code",
   "execution_count": null,
   "metadata": {},
   "outputs": [],
   "source": [
    "#FluxCom\n",
    "filename='../../..//obs/FluxCom/ensemble_rs-_meteo_ALL/monthly/*.RS_METEO.EBC-*.MLM-ALL.METEO-ALL.720_360.monthly.*.nc'\n",
    "fluxcom0=xr.open_mfdataset(filename)\n",
    "fluxcom=fluxcom0.sel(lon=slice(lon_min,lon_max+0.25),lat=slice(lat_max,lat_min))\n",
    "fluxcom=fluxcom.sel(time=slice(date_min, date_max))\n",
    "\n",
    "fluxcom.attrs[\"name\"]='FluxCom'\n",
    "\n",
    "fluxcom['evap'] = fluxcom['LE'] * 0.408 # To convert from MJ/m2/d to mm/d\n",
    "fluxcom['evap'].attrs['units'] = 'mm/d'\n",
    "\n",
    "fluxcom['fluxlat'] = fluxcom['LE'] / 0.0864 # To convert from MJ/m2/d to W/m2\n",
    "fluxcom['fluxlat'].attrs['units'] = 'W/m²'\n",
    "\n",
    "fluxcom['fluxsens'] = fluxcom['H'] / 0.0864 # To convert from MJ/m2/d to W/m2\n",
    "fluxcom['fluxsens'].attrs['units'] = 'W/m²'\n",
    "\n",
    "fluxcom['netrad'] = fluxcom['Rn'] / 0.0864 # To convert from MJ/m2/d to W/m2\n",
    "fluxcom['netrad'].attrs['units'] = 'W/m²'\n",
    "fluxcom"
   ]
  },
  {
   "cell_type": "markdown",
   "metadata": {},
   "source": [
    "### GPCC"
   ]
  },
  {
   "cell_type": "code",
   "execution_count": null,
   "metadata": {},
   "outputs": [],
   "source": [
    "#gpcc\n",
    "filename='../../../obs/precips/precip.mon.total.0.25x0.25.v2020.nc'\n",
    "gpcc0=xr.open_mfdataset(filename)\n",
    "gpcc0.attrs['name'] = 'GPCC'\n",
    "gpcc=gpcc0.sel(time=slice(date_min, date_max))\n",
    "gpcc['lon'] = ((gpcc['lon'] + 180) % 360) - 180\n",
    "gpcc1 = gpcc.sortby('lon')\n",
    "\n",
    "# gpcc=gpcc.sel(lon=slice(lon_min,lon_max+0.25),lat=slice(lat_min,lat_max))\n",
    "gpcc=gpcc1.sel(lon=slice(lon_min,lon_max+0.25),lat=slice(lat_max,lat_min))\n",
    "\n",
    "# gpcc1=gpcc.sel(lon=slice(347,360),lat=slice(lat_max,lat_min))\n",
    "# gpcc2=gpcc.sel(lon=slice(0,lon_max+0.25),lat=slice(lat_max,lat_min))\n",
    "# gpcc=xr.combine_by_coords([gpcc1, gpcc2])\n",
    "# gpcc = gpcc.where(gpcc['lon'] < lon_max+0.25, drop=True)\n",
    "\n",
    "# gpcc['lon']=gpcc['lon']-180.0\n",
    "# gpcc=gpcc.sel(lon=slice(lon_min,lon_max+0.25))\n",
    "\n",
    "gpcc['precip'] = gpcc['precip'] / 30 #convert to mm/d\n",
    "gpcc['precip'].attrs['units'] = 'mm/d'\n",
    "gpcc"
   ]
  },
  {
   "cell_type": "markdown",
   "metadata": {},
   "source": [
    "# Masking, interpolation"
   ]
  },
  {
   "cell_type": "code",
   "execution_count": null,
   "metadata": {},
   "outputs": [],
   "source": [
    "#define masks\n",
    "con_mask=lmdz_2000_80['contfracATM']>0.95\n",
    "ip_mask=polygon_to_mask(lmdz_2000_80, iberian_peninsula)"
   ]
  },
  {
   "cell_type": "code",
   "execution_count": null,
   "metadata": {},
   "outputs": [],
   "source": [
    "lmdz_1000_40_i80=lmdz_1000_40.interp_like(lmdz_2000_80)\n",
    "lmdz_1500_60_i80=lmdz_1500_60.interp_like(lmdz_2000_80)"
   ]
  },
  {
   "cell_type": "code",
   "execution_count": null,
   "metadata": {},
   "outputs": [],
   "source": [
    "cont_lmdz_1000_40=lmdz_1000_40_i80.where(con_mask)\n",
    "cont_lmdz_1500_60=lmdz_1500_60_i80.where(con_mask)\n",
    "cont_lmdz_2000_80=lmdz_2000_80.where(con_mask)\n",
    "\n",
    "ip_lmdz_1000_40 = lmdz_1000_40_i80.where(ip_mask, drop=False).where(con_mask)\n",
    "ip_lmdz_1500_60 = lmdz_1500_60_i80.where(ip_mask, drop=False).where(con_mask)\n",
    "ip_lmdz_2000_80 = lmdz_2000_80.where(ip_mask, drop=False).where(con_mask)\n"
   ]
  },
  {
   "cell_type": "code",
   "execution_count": null,
   "metadata": {},
   "outputs": [],
   "source": [
    "lmdz_1000_40_era = lmdz_1000_40.interp_like(era)\n",
    "# lmdz_1000_40_gpcc = lmdz_1000_40.interp_like(gpcc)\n",
    "# lmdz_1000_40_gleam = lmdz_1000_40.interp_like(gleam)\n",
    "# lmdz_1000_40_fluxcom = lmdz_1000_40.interp_like(fluxcom)\n",
    "# lmdz_1000_40_tqruv = lmdz_1000_40.interp_like(tqruv)\n",
    "\n",
    "lmdz_1500_60_era = lmdz_1500_60.interp_like(era)\n",
    "# lmdz_1500_60_gpcc = lmdz_1500_60.interp_like(gpcc)\n",
    "# lmdz_1500_60_gleam = lmdz_1500_60.interp_like(gleam)\n",
    "# lmdz_1500_60_fluxcom = lmdz_1500_60.interp_like(fluxcom)\n",
    "# lmdz_1500_60_tqruv = lmdz_1500_60.interp_like(tqruv)\n",
    "\n",
    "lmdz_2000_80_era = lmdz_2000_80.interp_like(era)\n",
    "# lmdz_2000_80_gpcc = lmdz_2000_80.interp_like(gpcc)\n",
    "# lmdz_2000_80_gleam = lmdz_2000_80.interp_like(gleam)\n",
    "# lmdz_2000_80_fluxcom = lmdz_2000_80.interp_like(fluxcom)\n",
    "# lmdz_2000_80_tqruv = lmdz_2000_80.interp_like(tqruv)"
   ]
  },
  {
   "cell_type": "code",
   "execution_count": null,
   "metadata": {},
   "outputs": [],
   "source": [
    "ip_interp=False\n",
    "if ip_interp:\n",
    "    ip_lmdz_1000_40_era = ip_lmdz_1000_40.interp_like(era)\n",
    "    # ip_lmdz_1000_40_gpcc = ip_lmdz_1000_40.interp_like(gpcc)\n",
    "    # ip_lmdz_1000_40_gleam = ip_lmdz_1000_40.interp_like(gleam)\n",
    "    # ip_lmdz_1000_40_fluxcom = ip_lmdz_1000_40.interp_like(fluxcom)\n",
    "    # ip_lmdz_1000_40_tqruv = ip_lmdz_1000_40.interp_like(tqruv)\n",
    "\n",
    "    ip_lmdz_1500_60_era = ip_lmdz_1500_60.interp_like(era)\n",
    "    # ip_lmdz_1500_60_gpcc = ip_lmdz_1500_60.interp_like(gpcc)\n",
    "    # ip_lmdz_1500_60_gleam = ip_lmdz_1500_60.interp_like(gleam)\n",
    "    # ip_lmdz_1500_60_fluxcom = ip_lmdz_1500_60.interp_like(fluxcom)\n",
    "    # ip_lmdz_1500_60_tqruv = ip_lmdz_1500_60.interp_like(tqruv)\n",
    "\n",
    "    ip_lmdz_2000_80_era = ip_lmdz_2000_80.interp_like(era)\n",
    "    # ip_lmdz_2000_80_gpcc = ip_lmdz_2000_80.interp_like(gpcc)\n",
    "    # ip_lmdz_2000_80_gleam = ip_lmdz_2000_80.interp_like(gleam)\n",
    "    # ip_lmdz_2000_80_fluxcom = ip_lmdz_2000_80.interp_like(fluxcom)\n",
    "    # ip_lmdz_2000_80_tqruv = ip_lmdz_2000_80.interp_like(tqruv)"
   ]
  },
  {
   "cell_type": "code",
   "execution_count": null,
   "metadata": {},
   "outputs": [],
   "source": [
    "# era\n",
    "era_i80=era.interp_like(lmdz_2000_80)\n",
    "cont_era=era_i80.where(con_mask)\n",
    "ip_era = cont_era.where(ip_mask, drop=False)"
   ]
  },
  {
   "cell_type": "code",
   "execution_count": null,
   "metadata": {},
   "outputs": [],
   "source": [
    "#gleam\n",
    "# gleam_i80=gleam.interp_like(lmdz_2000_80)\n",
    "# cont_gleam=gleam_i80.where(con_mask)\n",
    "# ip_gleam = cont_gleam.where(ip_mask, drop=False)\n"
   ]
  },
  {
   "cell_type": "code",
   "execution_count": null,
   "metadata": {},
   "outputs": [],
   "source": [
    "#fluxcom\n",
    "# fluxcom_i80=fluxcom.interp_like(lmdz_2000_80)\n",
    "# cont_fluxcom=fluxcom_i80.where(con_mask)\n",
    "# ip_fluxcom = cont_fluxcom.where(ip_mask, drop=False)\n",
    "# orc_fluxcom=fluxcom.interp_like(orc)"
   ]
  },
  {
   "cell_type": "code",
   "execution_count": null,
   "metadata": {},
   "outputs": [],
   "source": [
    "#gpcc\n",
    "# int_gpcc=gpcc.interp_like(lmdz_2000_80)\n",
    "# cont_gpcc=gpcc.interp_like(lmdz_1500_60).where(con_mask)\n",
    "# ip_gpcc = cont_gpcc.where(ip_mask, drop=False)\n",
    "# gpcc_iera = gpcc.interp_like(era)"
   ]
  },
  {
   "cell_type": "code",
   "execution_count": null,
   "metadata": {},
   "outputs": [],
   "source": [
    "#era5 tqruv\n",
    "# int_tqruv = tqruv.interp_like(lmdz_1500_60)\n",
    "# cont_tqruv = tqruv.interp_like(lmdz_1500_60).where(con_mask)\n",
    "# ip_tqruv = cont_tqruv.where(ip_mask, drop=False)"
   ]
  },
  {
   "cell_type": "markdown",
   "metadata": {},
   "source": [
    "# Tests"
   ]
  },
  {
   "cell_type": "markdown",
   "metadata": {},
   "source": [
    "## Maps"
   ]
  },
  {
   "cell_type": "code",
   "execution_count": null,
   "metadata": {},
   "outputs": [],
   "source": [
    "#Display map of var for ds\n",
    "var='evap'\n",
    "ds=lmdz_1000_40\n",
    "color_map=wet\n",
    "max_value=None\n",
    "min_value=None\n",
    "\n",
    "map_ave(ds, var, cmap=color_map, vmin=min_value, vmax=max_value, hex=False)"
   ]
  },
  {
   "cell_type": "code",
   "execution_count": null,
   "metadata": {},
   "outputs": [],
   "source": [
    "#Diff map\n",
    "var='precip'\n",
    "max_value= 2\n",
    "min_value=-2\n",
    "ds1=lmdz_2000_80_era\n",
    "ds2=era\n",
    "color_map=emb\n",
    "\n",
    "title='Evapotranspiration bias (mm/d, {} - {})'.format( ds1.attrs['name'], ds2.attrs['name'])\n",
    "\n",
    "map_diff_ave(ds1, ds2, var, vmin=min_value, vmax=max_value, title=title, cmap=color_map, hex=False, sig=False)\n",
    "\n",
    "diff=ds1[var]-ds2[var]\n",
    "title='{} bias, {} vs {} ({})'.format( var, ds1.attrs['name'], ds2.attrs['name'], ds1[var].attrs['units'])\n",
    "map_seasons(diff, cmap=color_map,  vmin=min_value, vmax=max_value, title=title, hex=False)"
   ]
  },
  {
   "cell_type": "code",
   "execution_count": null,
   "metadata": {},
   "outputs": [],
   "source": [
    "#map for 4 seasons\n",
    "var='precip'\n",
    "ds1=cont_sim\n",
    "ds2=cont_era\n",
    "max_value=2\n",
    "min_value=None\n",
    "# min_value=-max_value\n",
    "\n",
    "diff=ds1[var]-ds2[var]\n",
    "title='{} bias, {} vs {} ({})'.format( var, ds1.attrs['name'], ds2.attrs['name'], ds1[var].attrs['units'])\n",
    "plotvar=diff\n",
    "\n",
    "# plotvar=ds1[var]\n",
    "# title='P-E (mm/d, {})'.format(ds1.attrs['name'])\n",
    "\n",
    "map_seasons(plotvar, cmap=emb, vmax=max_value, title=title, hex=False)"
   ]
  },
  {
   "cell_type": "code",
   "execution_count": null,
   "metadata": {},
   "outputs": [],
   "source": [
    "# Display 2 maps of var\n",
    "var = 'precip'\n",
    "min_value=None\n",
    "max_value=6\n",
    "color_map=wet\n",
    "ds1=era\n",
    "ds2=lmdz_1500_60\n",
    "map_two_ds(ds1, ds2, var, vmin=min_value, figsize=(15,6), vmax=max_value, cmap=color_map, hex=True)"
   ]
  },
  {
   "cell_type": "code",
   "execution_count": null,
   "metadata": {},
   "outputs": [],
   "source": [
    "#Display map of var for ds on restricted area\n",
    "var='precip'\n",
    "ds = lmdz_2000_80_era\n",
    "latmin=42.2\n",
    "latmax=43.5\n",
    "lonmin=-2\n",
    "lonmax=3\n",
    "vmax= 3\n",
    "vmin=-3\n",
    "\n",
    "#restrict ds to latmin, latmax, lonmin, lonmax\n",
    "ds = ds.where(ds.lat >= latmin, drop=True).where(ds.lat <= latmax, drop=True)\n",
    "ds = ds.where(ds.lon >= lonmin, drop=True).where(ds.lon <= lonmax, drop=True)\n",
    "plotvar = ds[var].mean(dim='time') -era[var].mean(dim='time')\n",
    "map_plotvar(plotvar, cmap=emb, vmin=vmin, vmax=vmax, title=ds.attrs['name'])"
   ]
  },
  {
   "cell_type": "code",
   "execution_count": null,
   "metadata": {},
   "outputs": [],
   "source": [
    "#Relative diff map\n",
    "var='precip'\n",
    "max_value=None\n",
    "ds1=cont_fluxcom\n",
    "ds2=ip_fluxcom\n",
    "# plt.title('Gross primary production relative difference (%)')\n",
    "map_rel_diff_ave(ds1, ds2, var, vmax=max_value)"
   ]
  },
  {
   "cell_type": "code",
   "execution_count": null,
   "metadata": {},
   "outputs": [],
   "source": [
    "ds=sim\n",
    "map_wind(ds, height='10m', scale=50)"
   ]
  },
  {
   "cell_type": "code",
   "execution_count": null,
   "metadata": {},
   "outputs": [],
   "source": [
    "ds=sim_era\n",
    "map_moisture_transport(ds, scale=1500)"
   ]
  },
  {
   "cell_type": "code",
   "execution_count": null,
   "metadata": {},
   "outputs": [],
   "source": [
    "ds=geopt\n",
    "plotvar = ds['z']\n",
    "map_plotvar(plotvar, cmap='terrain', vmin=0.0, vmax=2400, title='Geopotential height (m)')"
   ]
  },
  {
   "cell_type": "markdown",
   "metadata": {},
   "source": [
    "## Time series"
   ]
  },
  {
   "cell_type": "code",
   "execution_count": null,
   "metadata": {},
   "outputs": [],
   "source": [
    "var='precip'\n",
    "\n",
    "ds1=sim_1000_iera_pyrenees\n",
    "ds2=sim_1500_iera_pyrenees\n",
    "ds3=sim_2000_iera_pyrenees\n",
    "ds4=era_pyrenees\n",
    "ds5=gpcc_pyrenees\n",
    "\n",
    "# ds4=ip_gpcc\n",
    "\n",
    "ds6=ip_fluxcom\n",
    "ds7=ip_gleam\n",
    "\n",
    "# ds1=ip_orc\n",
    "# ds2=ip_orcirr\n",
    "# ds3=ip_fluxcom_orc\n",
    "\n",
    "ds_list=[ds1, ds2, ds3, ds4, ds5]\n",
    "# ds_list=[ds1, ds2, ds3, ds4, ds5, ds6, ds7]\n",
    "year_max=2014\n",
    "time_series_ave(ds_list, var, year_max=year_max, title='{} {}'.format(var, ds1[var].attrs['units']))\n",
    "seasonal_cycle_ave(ds_list, var, year_max=year_max, title='Seasonal cycle of {} ({})'.format(var, ds1[var].attrs['units']))"
   ]
  },
  {
   "cell_type": "markdown",
   "metadata": {},
   "source": [
    "# Figures"
   ]
  },
  {
   "cell_type": "markdown",
   "metadata": {},
   "source": [
    "## 3 maps for 3 sizes, whole domain, diff with ERA5 : precip, evap, t2m"
   ]
  },
  {
   "cell_type": "code",
   "execution_count": null,
   "metadata": {},
   "outputs": [],
   "source": [
    "savefig=True\n",
    "#Diff map\n",
    "vars=['precip', 'evap']\n",
    "max_value=0\n",
    "min_value=4\n",
    "ds_list=[era, lmdz_1000_40_era, lmdz_1500_60_era, lmdz_2000_80_era]\n",
    "color_map=bluesW\n",
    "\n",
    "title='off'\n",
    "\n",
    "for var in vars:\n",
    "    label='{} ({})'.format(ds1[var].attrs['name'], ds1[var].attrs['units'])\n",
    "    for ds1 in ds_list:\n",
    "        map_ave(ds1, var, vmin=min_value, vmax=max_value, title=title, clabel=label, cmap=color_map)\n",
    "        if savefig:\n",
    "            plt.savefig('figures/chap4/var_map_{}_{}.png'.format(var, ds1.attrs['name']), bbox_inches='tight', dpi=300)"
   ]
  },
  {
   "cell_type": "code",
   "execution_count": null,
   "metadata": {},
   "outputs": [],
   "source": [
    "savefig=True\n",
    "#Diff map\n",
    "vars=['precip', 'evap']\n",
    "max_value= 1.5\n",
    "min_value=-1.5\n",
    "ds_list=[lmdz_1000_40_era, lmdz_1500_60_era, lmdz_2000_80_era]\n",
    "ds2=era\n",
    "color_map=emb_neutral\n",
    "\n",
    "title='off'\n",
    "\n",
    "for var in vars:\n",
    "    label='{} difference ({})'.format(ds1[var].attrs['name'], ds1[var].attrs['units'])\n",
    "    for ds1 in ds_list:\n",
    "        map_diff_ave(ds1, ds2, var, vmin=min_value, vmax=max_value, title=title, clabel=label, cmap=color_map, sig=False)\n",
    "        if savefig:\n",
    "            plt.savefig('figures/chap4/diff_map_{}_era_{}.png'.format(var, ds1.attrs['name']), bbox_inches='tight', dpi=300)"
   ]
  },
  {
   "cell_type": "code",
   "execution_count": null,
   "metadata": {},
   "outputs": [],
   "source": [
    "savefig=False\n",
    "#Diff map\n",
    "vars=['precip', 'evap']\n",
    "max_value= 100\n",
    "min_value=-100\n",
    "ds_list=[lmdz_1000_40_era, lmdz_1500_60_era, lmdz_2000_80_era]\n",
    "ds2=era\n",
    "color_map=emb_neutral\n",
    "\n",
    "title='off'\n",
    "\n",
    "for var in vars:\n",
    "    label='{} relative difference (%)'.format(ds1[var].attrs['name'])\n",
    "    for ds1 in ds_list:\n",
    "        map_rel_diff_ave(ds1, ds2, var, vmin=min_value, vmax=max_value, title=title, clabel=label, cmap=color_map)\n",
    "        if savefig:\n",
    "            plt.savefig('figures/chap4/rel_diff_map_{}_era_{}.png'.format(var, ds1.attrs['name']), bbox_inches='tight', dpi=300)"
   ]
  },
  {
   "cell_type": "markdown",
   "metadata": {},
   "source": [
    "## Same for t2m"
   ]
  },
  {
   "cell_type": "code",
   "execution_count": null,
   "metadata": {},
   "outputs": [],
   "source": [
    "savefig=True\n",
    "#Diff map\n",
    "vars=['t2m']\n",
    "min_value=0\n",
    "max_value=4\n",
    "min_value, max_value = None, None\n",
    "\n",
    "ds_list=[era, lmdz_1000_40_era, lmdz_1500_60_era, lmdz_2000_80_era]\n",
    "color_map=reds\n",
    "\n",
    "title='off'\n",
    "\n",
    "for var in vars:\n",
    "    label='{} ({})'.format(lmdz_1000_40_era[var].attrs['name'], lmdz_1000_40_era[var].attrs['units'])\n",
    "    for ds1 in ds_list:\n",
    "        map_ave(ds1, var, vmin=min_value, vmax=max_value, title=title, clabel=label, cmap=color_map)\n",
    "        if savefig:\n",
    "            plt.savefig('figures/chap4/var_map_{}_{}.png'.format(var, ds1.attrs['name']), bbox_inches='tight', dpi=300)"
   ]
  },
  {
   "cell_type": "code",
   "execution_count": null,
   "metadata": {},
   "outputs": [],
   "source": [
    "savefig=True\n",
    "#Diff map\n",
    "vars=['t2m']\n",
    "min_value=-2.0\n",
    "max_value= 2.0\n",
    "# min_value, max_value = None, None\n",
    "\n",
    "ds_list=[lmdz_1000_40_era, lmdz_1500_60_era, lmdz_2000_80_era]\n",
    "ds2=era\n",
    "color_map=emb\n",
    "\n",
    "title='off'\n",
    "\n",
    "for var in vars:\n",
    "    label='{} difference ({})'.format(ds1[var].attrs['name'], ds1[var].attrs['units'])\n",
    "    for ds1 in ds_list:\n",
    "        map_diff_ave(ds1, ds2, var, vmin=min_value, vmax=max_value, title=title, clabel=label, cmap=color_map, sig=False)\n",
    "        if savefig:\n",
    "            plt.savefig('figures/chap4/diff_map_{}_era_{}.png'.format(var, ds1.attrs['name']), bbox_inches='tight', dpi=300)"
   ]
  }
 ],
 "metadata": {
  "kernelspec": {
   "display_name": "lam1env",
   "language": "python",
   "name": "python3"
  },
  "language_info": {
   "codemirror_mode": {
    "name": "ipython",
    "version": 3
   },
   "file_extension": ".py",
   "mimetype": "text/x-python",
   "name": "python",
   "nbconvert_exporter": "python",
   "pygments_lexer": "ipython3",
   "version": "3.12.10"
  }
 },
 "nbformat": 4,
 "nbformat_minor": 2
}
