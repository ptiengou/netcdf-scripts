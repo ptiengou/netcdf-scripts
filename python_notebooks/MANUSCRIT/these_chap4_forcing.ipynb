{
 "cells": [
  {
   "cell_type": "markdown",
   "metadata": {},
   "source": [
    "# Imports and setting up viz\n",
    "\n",
    "NB : conda env1 on PC, lam1env on spirit (Python3.12)"
   ]
  },
  {
   "cell_type": "code",
   "execution_count": null,
   "metadata": {},
   "outputs": [],
   "source": [
    "%load_ext autoreload\n",
    "%autoreload 2\n",
    "%matplotlib inline\n",
    "\n",
    "#import personnal tools\n",
    "import sys\n",
    "sys.path.append('../../python_tools/')\n",
    "from tools import *"
   ]
  },
  {
   "cell_type": "code",
   "execution_count": null,
   "metadata": {},
   "outputs": [],
   "source": [
    "rivers = cfeature.NaturalEarthFeature('physical', 'rivers_lake_centerlines', '10m',edgecolor=(0, 0, 0, 0.3), facecolor='none')"
   ]
  },
  {
   "cell_type": "markdown",
   "metadata": {},
   "source": [
    "# Load and edit files\n",
    "\n",
    "LAM output analysis.\n",
    "\n",
    "simu 1500km et simu 1000km."
   ]
  },
  {
   "cell_type": "markdown",
   "metadata": {},
   "source": [
    "## Sims"
   ]
  },
  {
   "cell_type": "code",
   "execution_count": null,
   "metadata": {},
   "outputs": [],
   "source": [
    "LAM_1000_40_dir='../../../JZ_simu_outputs/LAM/LAM_1000_40/noirr_2010_2022'\n",
    "LAM_1500_40_dir='../../../JZ_simu_outputs/LAM/LAM_1500_40_sim224'\n",
    "LAM_1500_60_dir='../../../JZ_simu_outputs/LAM/LAM_1500_60_sim206'\n",
    "LAM_2000_80_dir='../../../JZ_simu_outputs/LAM/LAM_2000_80_sim199'"
   ]
  },
  {
   "cell_type": "code",
   "execution_count": null,
   "metadata": {},
   "outputs": [],
   "source": [
    "lon_min=-24\n",
    "lon_max=19\n",
    "lat_min=20\n",
    "lat_max=55\n",
    "\n",
    "# lon_min=-18\n",
    "# lon_max=11\n",
    "# lat_min=29\n",
    "# lat_max=52\n",
    "\n",
    "# lon_min=-13\n",
    "# lon_max=6\n",
    "# lat_min=32\n",
    "# lat_max=49\n",
    "date_min = '2010-01-01'\n",
    "date_max = '2014-12-31'\n",
    "# date_max = '2012-02-28'"
   ]
  },
  {
   "cell_type": "code",
   "execution_count": null,
   "metadata": {},
   "outputs": [],
   "source": [
    "#smaller LAM (original)\n",
    "filename = '{}/ATM/TS*.nc'.format(LAM_1000_40_dir)\n",
    "# filename = '{}/ATM/MO/*.nc'.format(LAM_1000_40_dir)\n",
    "\n",
    "sim0sim_1000_40 = xr.open_mfdataset(filename)\n",
    "sim0sim_1000_40.attrs['name'] = '1000km_nbp40'\n",
    "sim_1000_40 = sim0sim_1000_40.rename({'time_counter':'time'})\n",
    "sim_1000_40 = sim_1000_40.sel(lon=slice(lon_min,lon_max),lat=slice(lat_min,lat_max))\n",
    "sim_1000_40 = sim_1000_40.sel(time=slice(date_min, date_max))\n",
    "\n",
    "sim_1000_40['evap'] = sim_1000_40['evap'] *3600 * 24\n",
    "sim_1000_40['evap'].attrs['units'] = 'mm/d'\n",
    "\n",
    "sim_1000_40['precip'] = sim_1000_40['precip'] *3600 * 24\n",
    "sim_1000_40['precip'].attrs['units'] = 'mm/d'\n",
    "\n",
    "sim_1000_40['fluxsens']= -sim_1000_40['sens']\n",
    "\n",
    "sim_1000_40['netrad'] = sim_1000_40['LWdnSFC'] - sim_1000_40['LWupSFC'] + sim_1000_40['SWdnSFC'] - sim_1000_40['SWupSFC']\n",
    "sim_1000_40['netrad'].attrs['units'] = 'W/m2'\n",
    "\n",
    "sim_1000_40['P - E'] = sim_1000_40['precip'] - sim_1000_40['evap']\n",
    "sim_1000_40['P - E'].attrs['units'] = 'mm/d'\n",
    "\n",
    "sim_1000_40\n"
   ]
  },
  {
   "cell_type": "code",
   "execution_count": null,
   "metadata": {},
   "outputs": [],
   "source": [
    "#sim\n",
    "# filename = '{}/ATM/TS*.nc'.format(largeLAM_dir)\n",
    "filename = '{}/ATM/MO/*.nc'.format(LAM_1500_40_dir)\n",
    "\n",
    "sim_1500_40_0 = xr.open_mfdataset(filename)\n",
    "sim_1500_40_0.attrs['name'] = '1500km_nbp40'\n",
    "sim_1500_40= sim_1500_40_0.rename({'time_counter':'time'})\n",
    "sim_1500_40= sim_1500_40.sel(lon=slice(lon_min,lon_max),lat=slice(lat_min,lat_max))\n",
    "sim_1500_40= sim_1500_40.sel(time=slice(date_min, date_max))\n",
    "\n",
    "sim_1500_40['evap'] = sim_1500_40['evap'] *3600 * 24\n",
    "sim_1500_40['evap'].attrs['units'] = 'mm/d'\n",
    "\n",
    "sim_1500_40['precip'] = sim_1500_40['precip'] *3600 * 24\n",
    "sim_1500_40['precip'].attrs['units'] = 'mm/d'\n",
    "\n",
    "sim_1500_40['fluxsens']= -sim_1500_40['sens']\n",
    "\n",
    "sim_1500_40['netrad'] = sim_1500_40['LWdnSFC'] - sim_1500_40['LWupSFC'] + sim_1500_40['SWdnSFC'] - sim_1500_40['SWupSFC']\n",
    "sim_1500_40['netrad'].attrs['units'] = 'W/m2'\n",
    "\n",
    "sim_1500_40['P - E'] = sim_1500_40['precip'] - sim_1500_40['evap']\n",
    "sim_1500_40['P - E'].attrs['units'] = 'mm/d'\n",
    "\n",
    "# sim_1500_40['uq'] = sim_1500_40['uq'] #* 3600 * 24 #* sim_1500_40['aire']\n",
    "sim_1500_40['uq'].attrs['units'] = 'kg/m/s'\n",
    "# sim_1500_40['vq'] = sim_1500_40['vq'] #* 3600 * 24 #* sim_1500_40['aire']\n",
    "sim_1500_40['vq'].attrs['units'] = 'kg/m/s'\n",
    "\n",
    "sim_1500_40['calcWind'] = np.sqrt(sim_1500_40['u10m']**2 + sim_1500_40['v10m']**2)\n",
    "sim_1500_40['calcWind'].attrs['units'] = 'm/s'\n",
    "\n",
    "sim_1500_40"
   ]
  },
  {
   "cell_type": "code",
   "execution_count": null,
   "metadata": {},
   "outputs": [],
   "source": [
    "filename = '{}/ATM/MO/*.nc'.format(LAM_1500_60_dir)\n",
    "\n",
    "sim_1500_60_0 = xr.open_mfdataset(filename)\n",
    "sim_1500_60_0.attrs['name'] = '1500km_nbp60'\n",
    "sim_1500_60= sim_1500_60_0.rename({'time_counter':'time'})\n",
    "sim_1500_60= sim_1500_60.sel(lon=slice(lon_min,lon_max),lat=slice(lat_min,lat_max))\n",
    "sim_1500_60= sim_1500_60.sel(time=slice(date_min, date_max))\n",
    "\n",
    "sim_1500_60['evap'] = sim_1500_60['evap'] *3600 * 24\n",
    "sim_1500_60['evap'].attrs['units'] = 'mm/d'\n",
    "sim_1500_60['precip'] = sim_1500_60['precip'] *3600 * 24\n",
    "sim_1500_60['precip'].attrs['units'] = 'mm/d'\n",
    "sim_1500_60['fluxsens']= -sim_1500_60['sens']\n",
    "sim_1500_60['netrad'] = sim_1500_60['LWdnSFC'] - sim_1500_60['LWupSFC'] + sim_1500_60['SWdnSFC'] - sim_1500_60['SWupSFC']\n",
    "sim_1500_60['netrad'].attrs['units'] = 'W/m2'\n",
    "sim_1500_60['P - E'] = sim_1500_60['precip'] - sim_1500_60['evap']\n",
    "sim_1500_60['P - E'].attrs['units'] = 'mm/d'\n",
    "# sim_1500_60['uq'] = sim_1500_60['uq'] #* 3600 * 24 #* sim_1500_60['aire']\n",
    "sim_1500_60['uq'].attrs['units'] = 'kg/m/s'\n",
    "# sim_1500_60['vq'] = sim_1500_60['vq'] #* 3600 * 24 #* sim_1500_60['aire']\n",
    "sim_1500_60['vq'].attrs['units'] = 'kg/m/s'\n",
    "sim_1500_60['calcWind'] = np.sqrt(sim_1500_60['u10m']**2 + sim_1500_60['v10m']**2)\n",
    "sim_1500_60['calcWind'].attrs['units'] = 'm/s'\n",
    "\n",
    "sim_1500_60"
   ]
  },
  {
   "cell_type": "code",
   "execution_count": null,
   "metadata": {},
   "outputs": [],
   "source": [
    "filename = '{}/ATM/MO/*.nc'.format(LAM_2000_80_dir)\n",
    "\n",
    "sim_2000_80_0 = xr.open_mfdataset(filename)\n",
    "sim_2000_80_0.attrs['name'] = '2000km_nbp80'\n",
    "sim_2000_80= sim_2000_80_0.rename({'time_counter':'time'})\n",
    "sim_2000_80= sim_2000_80.sel(lon=slice(lon_min,lon_max),lat=slice(lat_min,lat_max))\n",
    "sim_2000_80= sim_2000_80.sel(time=slice(date_min, date_max))\n",
    "sim_2000_80['evap'] = sim_2000_80['evap'] *3600 * 24\n",
    "sim_2000_80['evap'].attrs['units'] = 'mm/d'\n",
    "sim_2000_80['precip'] = sim_2000_80['precip'] *3600 * 24\n",
    "sim_2000_80['precip'].attrs['units'] = 'mm/d'\n",
    "sim_2000_80['fluxsens']= -sim_2000_80['sens']\n",
    "sim_2000_80['netrad'] = sim_2000_80['LWdnSFC'] - sim_2000_80['LWupSFC'] + sim_2000_80['SWdnSFC'] - sim_2000_80['SWupSFC']\n",
    "sim_2000_80['netrad'].attrs['units'] = 'W/m2'\n",
    "sim_2000_80['P - E'] = sim_2000_80['precip'] - sim_2000_80['evap']\n",
    "sim_2000_80['P - E'].attrs['units'] = 'mm/d'\n",
    "sim_2000_80['uq'] = sim_2000_80['uq'] #* 3600 * 24 #* sim_1500_60['aire']\n",
    "sim_2000_80['uq'].attrs['units'] = 'kg/m/s'\n",
    "sim_2000_80['vq'] = sim_2000_80['vq'] #* 3600 * 24 #* sim_1500_60['aire']\n",
    "sim_2000_80['vq'].attrs['units'] = 'kg/m/s'\n",
    "sim_2000_80['calcWind'] = np.sqrt(sim_2000_80['u10m']**2 + sim_2000_80['v10m']**2)\n",
    "sim_2000_80['calcWind'].attrs['units'] = 'm/s'\n",
    "\n",
    "sim_2000_80"
   ]
  },
  {
   "cell_type": "markdown",
   "metadata": {},
   "source": [
    "## Obs"
   ]
  },
  {
   "cell_type": "code",
   "execution_count": null,
   "metadata": {},
   "outputs": [],
   "source": [
    "filename = '../../../obs/ERA_geopotential.nc'\n",
    "geopt = xr.open_dataset(filename)\n",
    "geopt = geopt.rename({'date':'time', 'latitude':'lat','longitude':'lon'})\n",
    "geopt['z'] = geopt['z'] / 9.80665\n",
    "geopt"
   ]
  },
  {
   "cell_type": "code",
   "execution_count": null,
   "metadata": {},
   "outputs": [],
   "source": [
    "#open ERA5 file\n",
    "# filename = '../../../obs/ERA5_eval_2010_2022.nc'\n",
    "filename = '../../../obs/ERA5_large_eval.nc'\n",
    "era = xr.open_mfdataset(filename)\n",
    "era.attrs['name'] = 'ERA5'\n",
    "#define or edit vars\n",
    "#name ERA5 vars like in LMDZOR outputs\n",
    "dict =  {\n",
    "        'longitude':'lon',\n",
    "        'latitude':'lat',\n",
    "        'e':'evap',\n",
    "        'ro':'totrunoff',\n",
    "        'tp':'precip',\n",
    "        'u10':'u10m',\n",
    "        'v10':'v10m',\n",
    "        'p71.162' : 'uq',\n",
    "        'p72.162' : 'vq',\n",
    "        'sshf' : 'fluxsens',\n",
    "        'slhf' : 'fluxlat',\n",
    "        'si10' : 'sfcWind',\n",
    "        'ssrd' : 'SWdnSFC',\n",
    "        'strd' : 'LWdnSFC',\n",
    "        'ssr' : 'SWnetSFC',\n",
    "        'str' : 'LWnetSFC',\n",
    "        }\n",
    "era = era.rename(dict)\n",
    "era=era.sel(time=slice(date_min, date_max))\n",
    "era = era.sel(lon=slice(lon_min,lon_max),lat=slice(lat_max, lat_min))\n",
    "\n",
    "#make evap positive in era\n",
    "era['evap'] = -era['evap'] * 1000\n",
    "era['evap'].attrs['units'] = 'mm/d'\n",
    "era['precip'] = era['precip']*1000\n",
    "era['precip'].attrs['units'] = 'mm/d'\n",
    "# era['cldt'] = era['tcc']*100\n",
    "# era['cldt'].attrs['units'] = '%'\n",
    "\n",
    "era['P - E'] = era['precip'] - era['evap']\n",
    "era['P - E'].attrs['units'] = 'mm/d'\n",
    "\n",
    "era['calcWind'] = np.sqrt(era['u10m']**2 + era['v10m']**2)\n",
    "era['calcWind'].attrs['units'] = 'm/s'\n",
    "   \n",
    "#convert 4 radiation variables from J/m2 to W/m2\n",
    "era['SWdnSFC'] = era['SWdnSFC'] / (3600 *24)\n",
    "era['SWdnSFC'].attrs['units'] = 'W/m2'\n",
    "era['LWdnSFC'] = era['LWdnSFC'] / (3600 *24)\n",
    "era['LWdnSFC'].attrs['units'] = 'W/m2'\n",
    "era['SWnetSFC'] = era['SWnetSFC'] / (3600 *24)\n",
    "era['SWnetSFC'].attrs['units'] = 'W/m2'\n",
    "era['LWnetSFC'] = era['LWnetSFC'] / (3600 *24)\n",
    "era['LWnetSFC'].attrs['units'] = 'W/m2'\n",
    "#add up vars and netrad\n",
    "era['LWupSFC'] = - era['LWnetSFC'] + era['LWdnSFC']\n",
    "era['LWupSFC'].attrs['units'] = 'W/m2'\n",
    "era['SWupSFC'] = - era['SWnetSFC'] + era['SWdnSFC']\n",
    "era['SWupSFC'].attrs['units'] = 'W/m2'\n",
    "era['netrad'] = era['LWnetSFC'] + era['SWnetSFC']\n",
    "era['netrad'].attrs['units'] = 'W/m2'\n",
    "\n",
    "era\n"
   ]
  },
  {
   "cell_type": "code",
   "execution_count": null,
   "metadata": {},
   "outputs": [],
   "source": [
    "#gleam\n",
    "filename='../../../obs/evap/E_1980-2022_GLEAM_v3.8a_MO.nc'\n",
    "gleam0=xr.open_dataset(filename)\n",
    "gleam0.attrs['name']='GLEAM'\n",
    "gleam = gleam0.sel(lon=slice(lon_min,lon_max),lat=slice(lat_max,lat_min))\n",
    "#adapt period\n",
    "gleam=gleam.sel(time=slice(date_min, date_max))\n",
    "#name gleam vars like in LMDZOR outputs\n",
    "dict =  {\n",
    "        'E':'evap'\n",
    "        }\n",
    "gleam = gleam.rename(dict)\n",
    "#convert mm/month to mm/day\n",
    "gleam['evap']=gleam['evap']/30\n",
    "gleam['evap'].attrs['units']='mm/d'\n",
    "gleam"
   ]
  },
  {
   "cell_type": "code",
   "execution_count": null,
   "metadata": {},
   "outputs": [],
   "source": [
    "#FluxCom\n",
    "filename='../../..//obs/FluxCom/ensemble_rs-_meteo_ALL/monthly/*.RS_METEO.EBC-*.MLM-ALL.METEO-ALL.720_360.monthly.*.nc'\n",
    "fluxcom0=xr.open_mfdataset(filename)\n",
    "fluxcom=fluxcom0.sel(lon=slice(lon_min,lon_max+0.25),lat=slice(lat_max,lat_min))\n",
    "fluxcom=fluxcom.sel(time=slice(date_min, date_max))\n",
    "\n",
    "fluxcom.attrs[\"name\"]='FluxCom'\n",
    "\n",
    "fluxcom['evap'] = fluxcom['LE'] * 0.408 # To convert from MJ/m2/d to mm/d\n",
    "fluxcom['evap'].attrs['units'] = 'mm/d'\n",
    "\n",
    "fluxcom['fluxlat'] = fluxcom['LE'] / 0.0864 # To convert from MJ/m2/d to W/m2\n",
    "fluxcom['fluxlat'].attrs['units'] = 'W/m²'\n",
    "\n",
    "fluxcom['fluxsens'] = fluxcom['H'] / 0.0864 # To convert from MJ/m2/d to W/m2\n",
    "fluxcom['fluxsens'].attrs['units'] = 'W/m²'\n",
    "\n",
    "fluxcom['netrad'] = fluxcom['Rn'] / 0.0864 # To convert from MJ/m2/d to W/m2\n",
    "fluxcom['netrad'].attrs['units'] = 'W/m²'\n",
    "fluxcom"
   ]
  },
  {
   "cell_type": "code",
   "execution_count": null,
   "metadata": {},
   "outputs": [],
   "source": [
    "#gpcc\n",
    "filename='../../../obs/precips/precip.mon.total.0.25x0.25.v2020.nc'\n",
    "gpcc0=xr.open_mfdataset(filename)\n",
    "gpcc0.attrs['name'] = 'GPCC'\n",
    "gpcc=gpcc0.sel(time=slice(date_min, date_max))\n",
    "gpcc['lon'] = ((gpcc['lon'] + 180) % 360) - 180\n",
    "gpcc1 = gpcc.sortby('lon')\n",
    "\n",
    "# gpcc=gpcc.sel(lon=slice(lon_min,lon_max+0.25),lat=slice(lat_min,lat_max))\n",
    "gpcc=gpcc1.sel(lon=slice(lon_min,lon_max+0.25),lat=slice(lat_max,lat_min))\n",
    "\n",
    "# gpcc1=gpcc.sel(lon=slice(347,360),lat=slice(lat_max,lat_min))\n",
    "# gpcc2=gpcc.sel(lon=slice(0,lon_max+0.25),lat=slice(lat_max,lat_min))\n",
    "# gpcc=xr.combine_by_coords([gpcc1, gpcc2])\n",
    "# gpcc = gpcc.where(gpcc['lon'] < lon_max+0.25, drop=True)\n",
    "\n",
    "# gpcc['lon']=gpcc['lon']-180.0\n",
    "# gpcc=gpcc.sel(lon=slice(lon_min,lon_max+0.25))\n",
    "\n",
    "gpcc['precip'] = gpcc['precip'] / 30 #convert to mm/d\n",
    "gpcc['precip'].attrs['units'] = 'mm/d'\n",
    "gpcc"
   ]
  },
  {
   "cell_type": "code",
   "execution_count": null,
   "metadata": {},
   "outputs": [],
   "source": [
    "#open tqruv file\n",
    "filename='../../../obs/TQRUV_850_2010_2022_monthly.nc'\n",
    "tqruv = xr.open_dataset(filename)\n",
    "tqruv.attrs['name'] = 'ERA5'\n",
    "tqruv = tqruv.sel(longitude=slice(lon_min,lon_max),latitude=slice(lat_max,lat_min))\n",
    "tqruv = tqruv.sel(time=slice(date_min, date_max))\n",
    "#rename longitude and latitude to lon and lat\n",
    "tqruv = tqruv.rename({'longitude':'lon','latitude':'lat'})\n",
    "\n",
    "#rename all variables to add 850 in name\n",
    "tqruv['u850'] = tqruv['u']\n",
    "tqruv['v850'] = tqruv['v']\n",
    "tqruv['q850'] = tqruv['q']\n",
    "tqruv['t850'] = tqruv['t']\n",
    "tqruv['r850'] = tqruv['r']\n",
    "tqruv"
   ]
  },
  {
   "cell_type": "markdown",
   "metadata": {},
   "source": [
    "# Masking, interpolation"
   ]
  },
  {
   "cell_type": "code",
   "execution_count": null,
   "metadata": {},
   "outputs": [],
   "source": [
    "#continental fraction mask (LMDZ outputs)\n",
    "con_mask=sim_2000_80['contfracATM']>0.9\n",
    "ip_mask=polygon_to_mask(sim_2000_80, iberic_peninsula)"
   ]
  },
  {
   "cell_type": "code",
   "execution_count": null,
   "metadata": {},
   "outputs": [],
   "source": [
    "cont_mask_1500_40_solo = sim_1500_40['contfracATM'] > 0.9\n",
    "ip_cont_mask_1500_40_solo = polygon_to_mask(sim_1500_40, iberic_peninsula)\n",
    "ip_sim_1500_40_solo = sim_1500_40.where(ip_cont_mask_1500_40_solo['mask'], drop=False).where(cont_mask_1500_40_solo)\n",
    "\n",
    "cont_era_1500_solo = era.interp_like(sim_1500_40).where(cont_mask_1500_40_solo)\n",
    "ip_era_1500_solo = cont_era_1500_solo.where(ip_cont_mask_1500_40_solo['mask'], drop=False)\n",
    "\n",
    "cont_gpcc_1500_solo = gpcc.interp_like(sim_1500_40).where(cont_mask_1500_40_solo)\n",
    "ip_gpcc_1500_solo = cont_gpcc_1500_solo.where(ip_cont_mask_1500_40_solo['mask'], drop=False)"
   ]
  },
  {
   "cell_type": "code",
   "execution_count": null,
   "metadata": {},
   "outputs": [],
   "source": [
    "sim_1000_40_i80=sim_1000_40.interp_like(sim_2000_80)\n",
    "sim_1500_40_i80=sim_1500_40.interp_like(sim_2000_80)\n",
    "sim_1500_60_i80=sim_1500_60.interp_like(sim_2000_80)"
   ]
  },
  {
   "cell_type": "code",
   "execution_count": null,
   "metadata": {},
   "outputs": [],
   "source": [
    "cont_sim_1000_40=sim_1000_40_i80.where(con_mask)\n",
    "cont_sim_1500_40=sim_1500_40_i80.where(con_mask)\n",
    "cont_sim_1500_60=sim_1500_60_i80.where(con_mask)\n",
    "cont_sim_2000_80=sim_2000_80.where(con_mask)\n",
    "\n",
    "ip_sim_1000_40 = sim_1000_40_i80.where(ip_mask['mask'], drop=False).where(con_mask)\n",
    "ip_sim_1500_40 = sim_1500_40_i80.where(ip_mask['mask'], drop=False).where(con_mask)\n",
    "ip_sim_1500_60 = sim_1500_60_i80.where(ip_mask['mask'], drop=False).where(con_mask)\n",
    "ip_sim_2000_80 = sim_2000_80.where(ip_mask['mask'], drop=False).where(con_mask)\n"
   ]
  },
  {
   "cell_type": "code",
   "execution_count": null,
   "metadata": {},
   "outputs": [],
   "source": [
    "sim_1000_40_era = sim_1000_40.interp_like(era)\n",
    "sim_1000_40_gpcc = sim_1000_40.interp_like(gpcc)\n",
    "sim_1000_40_gleam = sim_1000_40.interp_like(gleam)\n",
    "sim_1000_40_fluxcom = sim_1000_40.interp_like(fluxcom)\n",
    "sim_1000_40_tqruv = sim_1000_40.interp_like(tqruv)\n",
    "\n",
    "sim_1500_40_era = sim_1500_40.interp_like(era)\n",
    "sim_1500_40_gpcc = sim_1500_40.interp_like(gpcc)\n",
    "sim_1500_40_gleam = sim_1500_40.interp_like(gleam)\n",
    "sim_1500_40_fluxcom = sim_1500_40.interp_like(fluxcom)\n",
    "sim_1500_40_tqruv = sim_1500_40.interp_like(tqruv)\n",
    "\n",
    "sim_1500_60_era = sim_1500_60.interp_like(era)\n",
    "sim_1500_60_gpcc = sim_1500_60.interp_like(gpcc)\n",
    "sim_1500_60_gleam = sim_1500_60.interp_like(gleam)\n",
    "sim_1500_60_fluxcom = sim_1500_60.interp_like(fluxcom)\n",
    "sim_1500_60_tqruv = sim_1500_60.interp_like(tqruv)\n",
    "\n",
    "sim_2000_80_era = sim_2000_80.interp_like(era)\n",
    "sim_2000_80_gpcc = sim_2000_80.interp_like(gpcc)\n",
    "sim_2000_80_gleam = sim_2000_80.interp_like(gleam)\n",
    "sim_2000_80_fluxcom = sim_2000_80.interp_like(fluxcom)\n",
    "sim_2000_80_tqruv = sim_2000_80.interp_like(tqruv)"
   ]
  },
  {
   "cell_type": "code",
   "execution_count": null,
   "metadata": {},
   "outputs": [],
   "source": [
    "ip_sim_1000_40_era = ip_sim_1000_40.interp_like(era)\n",
    "ip_sim_1000_40_gpcc = ip_sim_1000_40.interp_like(gpcc)\n",
    "ip_sim_1000_40_gleam = ip_sim_1000_40.interp_like(gleam)\n",
    "ip_sim_1000_40_fluxcom = ip_sim_1000_40.interp_like(fluxcom)\n",
    "ip_sim_1000_40_tqruv = ip_sim_1000_40.interp_like(tqruv)\n",
    "\n",
    "ip_sim_1500_40_era = ip_sim_1500_40.interp_like(era)\n",
    "ip_sim_1500_40_gpcc = ip_sim_1500_40.interp_like(gpcc)\n",
    "ip_sim_1500_40_gleam = ip_sim_1500_40.interp_like(gleam)\n",
    "ip_sim_1500_40_fluxcom = ip_sim_1500_40.interp_like(fluxcom)\n",
    "ip_sim_1500_40_tqruv = ip_sim_1500_40.interp_like(tqruv)\n",
    "\n",
    "ip_sim_1500_60_era = ip_sim_1500_60.interp_like(era)\n",
    "ip_sim_1500_60_gpcc = ip_sim_1500_60.interp_like(gpcc)\n",
    "ip_sim_1500_60_gleam = ip_sim_1500_60.interp_like(gleam)\n",
    "ip_sim_1500_60_fluxcom = ip_sim_1500_60.interp_like(fluxcom)\n",
    "ip_sim_1500_60_tqruv = ip_sim_1500_60.interp_like(tqruv)\n",
    "\n",
    "ip_sim_2000_80_era = ip_sim_2000_80.interp_like(era)\n",
    "ip_sim_2000_80_gpcc = ip_sim_2000_80.interp_like(gpcc)\n",
    "ip_sim_2000_80_gleam = ip_sim_2000_80.interp_like(gleam)\n",
    "ip_sim_2000_80_fluxcom = ip_sim_2000_80.interp_like(fluxcom)\n",
    "ip_sim_2000_80_tqruv = ip_sim_2000_80.interp_like(tqruv)"
   ]
  },
  {
   "cell_type": "code",
   "execution_count": null,
   "metadata": {},
   "outputs": [],
   "source": [
    "# era\n",
    "era_i80=era.interp_like(sim_2000_80)\n",
    "cont_era=era_i80.where(con_mask)\n",
    "ip_era = cont_era.where(ip_mask['mask'], drop=False)"
   ]
  },
  {
   "cell_type": "code",
   "execution_count": null,
   "metadata": {},
   "outputs": [],
   "source": [
    "#gleam\n",
    "gleam_i80=gleam.interp_like(sim_2000_80)\n",
    "cont_gleam=gleam_i80.where(con_mask)\n",
    "ip_gleam = cont_gleam.where(ip_mask['mask'], drop=False)\n"
   ]
  },
  {
   "cell_type": "code",
   "execution_count": null,
   "metadata": {},
   "outputs": [],
   "source": [
    "#fluxcom\n",
    "fluxcom_i80=fluxcom.interp_like(sim_2000_80)\n",
    "cont_fluxcom=fluxcom_i80.where(con_mask)\n",
    "ip_fluxcom = cont_fluxcom.where(ip_mask['mask'], drop=False)\n",
    "# orc_fluxcom=fluxcom.interp_like(orc)"
   ]
  },
  {
   "cell_type": "code",
   "execution_count": null,
   "metadata": {},
   "outputs": [],
   "source": [
    "#gpcc\n",
    "int_gpcc=gpcc.interp_like(sim_2000_80)\n",
    "cont_gpcc=gpcc.interp_like(sim_1500_60).where(con_mask)\n",
    "ip_gpcc = cont_gpcc.where(ip_mask['mask'], drop=False)\n",
    "gpcc_iera = gpcc.interp_like(era)"
   ]
  },
  {
   "cell_type": "code",
   "execution_count": null,
   "metadata": {},
   "outputs": [],
   "source": [
    "#era5 tqruv\n",
    "int_tqruv = tqruv.interp_like(sim_1500_60)\n",
    "cont_tqruv = tqruv.interp_like(sim_1500_60).where(con_mask)\n",
    "ip_tqruv = cont_tqruv.where(ip_mask['mask'], drop=False)"
   ]
  },
  {
   "cell_type": "code",
   "execution_count": null,
   "metadata": {},
   "outputs": [],
   "source": [
    "pyrenees_mask = polygon_to_mask(era, pyrenees)\n",
    "era_pyrenees = era.where(pyrenees_mask['mask'], drop=False)\n",
    "gpcc_pyrenees = gpcc_iera.where(pyrenees_mask['mask'], drop=False)\n",
    "sim_1000_iera_pyrenees = sim_1000_40_era.where(pyrenees_mask['mask'], drop=False)\n",
    "sim_1500_iera_pyrenees = sim_1500_60_era.where(pyrenees_mask['mask'], drop=False)\n",
    "sim_2000_iera_pyrenees = sim_2000_80_era.where(pyrenees_mask['mask'], drop=False)"
   ]
  },
  {
   "cell_type": "markdown",
   "metadata": {},
   "source": [
    "# Maps"
   ]
  },
  {
   "cell_type": "code",
   "execution_count": null,
   "metadata": {},
   "outputs": [],
   "source": [
    "#Display map of var for ds\n",
    "var='evap'\n",
    "ds=era_pyrenees\n",
    "color_map=wet\n",
    "max_value=None\n",
    "min_value=None\n",
    "\n",
    "map_ave(ds, var, cmap=color_map, vmin=min_value, vmax=max_value, hex=False)"
   ]
  },
  {
   "cell_type": "code",
   "execution_count": null,
   "metadata": {},
   "outputs": [],
   "source": [
    "#Diff map\n",
    "var='precip'\n",
    "max_value= 2\n",
    "min_value=-2\n",
    "ds1=sim_2000_iera_pyrenees\n",
    "ds2=era_pyrenees\n",
    "color_map=emb\n",
    "\n",
    "title='Evapotranspiration bias (mm/d, {} - {})'.format( ds1.attrs['name'], ds2.attrs['name'])\n",
    "\n",
    "map_diff_ave(ds1, ds2, var, vmin=min_value, vmax=max_value, title=title, cmap=color_map, hex=False, sig=False)\n",
    "\n",
    "diff=ds1[var]-ds2[var]\n",
    "title='{} bias, {} vs {} ({})'.format( var, ds1.attrs['name'], ds2.attrs['name'], ds1[var].attrs['units'])\n",
    "map_seasons(diff, cmap=color_map,  vmin=min_value, vmax=max_value, title=title, hex=False)"
   ]
  },
  {
   "cell_type": "code",
   "execution_count": null,
   "metadata": {},
   "outputs": [],
   "source": [
    "#map for 4 seasons\n",
    "var='precip'\n",
    "ds1=cont_sim\n",
    "ds2=cont_era\n",
    "max_value=2\n",
    "min_value=None\n",
    "# min_value=-max_value\n",
    "\n",
    "diff=ds1[var]-ds2[var]\n",
    "title='{} bias, {} vs {} ({})'.format( var, ds1.attrs['name'], ds2.attrs['name'], ds1[var].attrs['units'])\n",
    "plotvar=diff\n",
    "\n",
    "# plotvar=ds1[var]\n",
    "# title='P-E (mm/d, {})'.format(ds1.attrs['name'])\n",
    "\n",
    "map_seasons(plotvar, cmap=emb, vmax=max_value, title=title, hex=False)"
   ]
  },
  {
   "cell_type": "code",
   "execution_count": null,
   "metadata": {},
   "outputs": [],
   "source": [
    "# Display 2 maps of var\n",
    "var = 'precip'\n",
    "min_value=None\n",
    "max_value=6\n",
    "color_map=wet\n",
    "ds1=era\n",
    "ds2=sim_1500_60\n",
    "map_two_ds(ds1, ds2, var, vmin=min_value, figsize=(15,6), vmax=max_value, cmap=color_map, hex=True)"
   ]
  },
  {
   "cell_type": "code",
   "execution_count": null,
   "metadata": {},
   "outputs": [],
   "source": [
    "#Display map of var for ds on restricted area\n",
    "var='precip'\n",
    "ds = sim_2000_80_era\n",
    "latmin=42.2\n",
    "latmax=43.5\n",
    "lonmin=-2\n",
    "lonmax=3\n",
    "vmax= 3\n",
    "vmin=-3\n",
    "\n",
    "#restrict ds to latmin, latmax, lonmin, lonmax\n",
    "ds = ds.where(ds.lat >= latmin, drop=True).where(ds.lat <= latmax, drop=True)\n",
    "ds = ds.where(ds.lon >= lonmin, drop=True).where(ds.lon <= lonmax, drop=True)\n",
    "plotvar = ds[var].mean(dim='time') -era[var].mean(dim='time')\n",
    "map_plotvar(plotvar, cmap=emb, vmin=vmin, vmax=vmax, title=ds.attrs['name'])"
   ]
  },
  {
   "cell_type": "code",
   "execution_count": null,
   "metadata": {},
   "outputs": [],
   "source": [
    "#Relative diff map\n",
    "var='precip'\n",
    "max_value=None\n",
    "ds1=cont_fluxcom\n",
    "ds2=ip_fluxcom\n",
    "# plt.title('Gross primary production relative difference (%)')\n",
    "map_rel_diff_ave(ds1, ds2, var, vmax=max_value)"
   ]
  },
  {
   "cell_type": "code",
   "execution_count": null,
   "metadata": {},
   "outputs": [],
   "source": [
    "ds=sim\n",
    "map_wind(ds, height='10m', scale=50)"
   ]
  },
  {
   "cell_type": "code",
   "execution_count": null,
   "metadata": {},
   "outputs": [],
   "source": [
    "ds=sim_era\n",
    "map_moisture_transport(ds, scale=1500)"
   ]
  },
  {
   "cell_type": "code",
   "execution_count": null,
   "metadata": {},
   "outputs": [],
   "source": [
    "ds=geopt\n",
    "plotvar = ds['z']\n",
    "map_plotvar(plotvar, cmap='terrain', vmin=0.0, vmax=2400, title='Geopotential height (m)')"
   ]
  },
  {
   "cell_type": "markdown",
   "metadata": {},
   "source": [
    "# Time series"
   ]
  },
  {
   "cell_type": "code",
   "execution_count": null,
   "metadata": {},
   "outputs": [],
   "source": [
    "var='precip'\n",
    "\n",
    "ds1=sim_1000_iera_pyrenees\n",
    "ds2=sim_1500_iera_pyrenees\n",
    "ds3=sim_2000_iera_pyrenees\n",
    "ds4=era_pyrenees\n",
    "ds5=gpcc_pyrenees\n",
    "\n",
    "# ds4=ip_gpcc\n",
    "\n",
    "ds6=ip_fluxcom\n",
    "ds7=ip_gleam\n",
    "\n",
    "# ds1=ip_orc\n",
    "# ds2=ip_orcirr\n",
    "# ds3=ip_fluxcom_orc\n",
    "\n",
    "ds_list=[ds1, ds2, ds3, ds4, ds5]\n",
    "# ds_list=[ds1, ds2, ds3, ds4, ds5, ds6, ds7]\n",
    "# ds_list=[ip_sim_1500_40_solo, ip_era_1500_solo, ip_gpcc_1500_solo]\n",
    "year_max=2014\n",
    "time_series_ave(ds_list, var, year_max=year_max, title='{} {}'.format(var, ds1[var].attrs['units']))\n",
    "seasonal_cycle_ave(ds_list, var, year_max=year_max, title='Seasonal cycle of {} ({})'.format(var, ds1[var].attrs['units']))"
   ]
  }
 ],
 "metadata": {
  "kernelspec": {
   "display_name": "lam1env",
   "language": "python",
   "name": "python3"
  },
  "language_info": {
   "codemirror_mode": {
    "name": "ipython",
    "version": 3
   },
   "file_extension": ".py",
   "mimetype": "text/x-python",
   "name": "python",
   "nbconvert_exporter": "python",
   "pygments_lexer": "ipython3",
   "version": "3.12.10"
  }
 },
 "nbformat": 4,
 "nbformat_minor": 2
}
