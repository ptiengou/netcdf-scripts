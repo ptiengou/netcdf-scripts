{
 "cells": [
  {
   "cell_type": "markdown",
   "metadata": {},
   "source": [
    "# Imports and setting up viz\n",
    "\n",
    "NB : conda env1 on PC, lam1env on spirit (Python3.12)"
   ]
  },
  {
   "cell_type": "code",
   "execution_count": null,
   "metadata": {},
   "outputs": [],
   "source": [
    "%load_ext autoreload\n",
    "%autoreload 2\n",
    "%matplotlib inline\n",
    "\n",
    "#import personnal tools\n",
    "import sys\n",
    "sys.path.append('../../python_tools/')\n",
    "from tools import *\n",
    "from tools_mapping import *"
   ]
  },
  {
   "cell_type": "code",
   "execution_count": null,
   "metadata": {},
   "outputs": [],
   "source": [
    "rivers = cfeature.NaturalEarthFeature('physical', 'rivers_lake_centerlines', '10m',edgecolor=(0, 0, 0, 0.3), facecolor='none')"
   ]
  },
  {
   "cell_type": "markdown",
   "metadata": {},
   "source": [
    "# Load files"
   ]
  },
  {
   "cell_type": "code",
   "execution_count": null,
   "metadata": {},
   "outputs": [],
   "source": [
    "date_min_pres = '2010-01-01'\n",
    "date_max_pres = '2022-12-31'\n",
    "\n",
    "date_min_fut = '2050-01-01'\n",
    "date_max_fut = '2062-12-31'"
   ]
  },
  {
   "cell_type": "code",
   "execution_count": null,
   "metadata": {},
   "outputs": [],
   "source": [
    "# lon_min = -13.5\n",
    "# lon_max = 6.5\n",
    "# lat_min = 32\n",
    "# lat_max = 49\n",
    "lon_min=-10\n",
    "lon_max=4\n",
    "lat_min=35.5\n",
    "lat_max=44"
   ]
  },
  {
   "cell_type": "markdown",
   "metadata": {},
   "source": [
    "## Format functions"
   ]
  },
  {
   "cell_type": "code",
   "execution_count": null,
   "metadata": {},
   "outputs": [],
   "source": [
    "def format_LMDZ_MO(filename, name, color=None, date_min=None, date_max=None):\n",
    "    \"\"\"\n",
    "    Format the LMDZ-MO output for plotting.\n",
    "    \"\"\"\n",
    "    ds = xr.open_mfdataset(filename)\n",
    "    ds.attrs['name'] = name\n",
    "    ds.attrs['plot_color'] = color if color else 'blue'\n",
    "\n",
    "    rename_dict = {'time_counter':'time'}\n",
    "    ds = ds.rename(rename_dict)\n",
    "\n",
    "    ds = ds.coarsen(lat=2, lon=3, boundary='trim').mean()\n",
    "    \n",
    "    #restrict\n",
    "    if lon_min is not None and lon_max is not None and lat_min is not None and lat_max is not None:\n",
    "        ds = ds.sel(lon=slice(lon_min, lon_max), lat=slice(lat_min, lat_max))\n",
    "    else:\n",
    "        print('No domain restriction applied, missing lon_min, lon_max, lat_min, lat_max')\n",
    "    if date_min is not None and date_max is not None:\n",
    "        ds = ds.sel(time=slice(date_min, date_max))\n",
    "    else:\n",
    "        print('No date restriction applied, missing date_min, date_max')\n",
    "\n",
    "    #edit and convert units\n",
    "    ds['evap'] = ds['evap'] *3600 * 24\n",
    "    ds['evap'].attrs['units'] = 'mm d⁻¹'\n",
    "    ds['evap'].attrs['name'] = 'ET'\n",
    "\n",
    "    ds['precip'] = ds['precip'] *3600 * 24\n",
    "    ds['precip'].attrs['units'] = 'mm d⁻¹'\n",
    "    ds['precip'].attrs['name'] = 'Precipitation'\n",
    "\n",
    "    ds['t2m'] = ds['t2m'] - 273.15\n",
    "    ds['t2m'].attrs['units'] = '°C'\n",
    "    ds['t2m'].attrs['name'] = '2-m temperature'\n",
    "\n",
    "    ds['fluxsens']= -ds['sens']\n",
    "    ds['fluxsens'].attrs['units'] = 'W m⁻²'\n",
    "    ds['fluxsens'].attrs['name'] = 'Sensible heat flux'\n",
    "\n",
    "    ds['fluxlat'] = - ds['flat']\n",
    "    ds['fluxlat'].attrs['units'] = 'W m⁻²'\n",
    "    ds['fluxlat'].attrs['name'] = 'Latent heat flux'\n",
    "\n",
    "    ds['netrad'] = ds['LWdnSFC'] - ds['LWupSFC'] + ds['SWdnSFC'] - ds['SWupSFC']\n",
    "    ds['netrad'].attrs['name'] = 'Surface net radiation'\n",
    "    ds['netrad'].attrs['units'] = 'W m⁻²'\n",
    "\n",
    "    ds['SWnetSFC'] = ds['SWdnSFC'] - ds['SWupSFC']\n",
    "    ds['SWnetSFC'].attrs['name'] = 'Surface net SW'\n",
    "    ds['SWnetSFC'].attrs['units'] = 'W m⁻²'\n",
    "\n",
    "    ds['LWnetSFC'] = ds['LWdnSFC'] - ds['LWupSFC']\n",
    "    ds['LWnetSFC'].attrs['name'] = 'Surface net LW'\n",
    "    ds['LWnetSFC'].attrs['units'] = 'W m⁻²'\n",
    "\n",
    "    ds['P - E'] = ds['precip'] - ds['evap']\n",
    "    ds['P - E'].attrs['units'] = 'mm d⁻¹'\n",
    "\n",
    "    #add names and units\n",
    "    ds['SWdnSFC'].attrs['name'] = 'Surface SW down'\n",
    "    ds['SWdnSFC'].attrs['units'] = 'W m⁻²'\n",
    "    ds['LWdnSFC'].attrs['name'] = 'Surface LW down'\n",
    "    ds['LWdnSFC'].attrs['units'] = 'W m⁻²'\n",
    "\n",
    "    ds['cldt'] = ds['cldt'] * 100  # Convert to percentage\n",
    "    ds['cldt'].attrs['name'] = 'Total cloud cover'\n",
    "    ds['cldt'].attrs['units'] = '%'\n",
    "\n",
    "    ds['cldl'] = ds['cldl'] * 100  # Convert to percentage\n",
    "    ds['cldl'].attrs['name'] = 'Low cloud cover'\n",
    "    ds['cldl'].attrs['units'] = '%'\n",
    "\n",
    "    ds['cldm'] = ds['cldm'] * 100  # Convert to percentage\n",
    "    ds['cldm'].attrs['name'] = 'Medium cloud cover'\n",
    "    ds['cldm'].attrs['units'] = '%'\n",
    "\n",
    "    ds['cldh'] = ds['cldh'] * 100  # Convert to percentage\n",
    "    ds['cldh'].attrs['name'] = 'High cloud cover'\n",
    "    ds['cldh'].attrs['units'] = '%'\n",
    "\n",
    "    ds['q2m'].attrs['name'] = '2-m specific humidity'\n",
    "    ds['q2m'].attrs['units'] = 'kg kg⁻¹'\n",
    "    ds['rh2m'].attrs['name'] = '2-m relative humidity'\n",
    "    ds['rh2m'].attrs['units'] = '%'\n",
    "    ds['s_pblh'].attrs['name'] = 'Boundary layer height'\n",
    "    ds['s_pblh'].attrs['units'] = 'm'\n",
    "    ds['s_lcl'].attrs['name'] = 'Lifting condensation level'\n",
    "    ds['s_lcl'].attrs['units'] = 'm'\n",
    "    \n",
    "    ds['psol'] = ds['psol'] / 100  # Convert to hPa\n",
    "    ds['psol'].attrs['name'] = 'Surface pressure'\n",
    "    ds['psol'].attrs['units'] = 'hPa'\n",
    "\n",
    "    ds['evap_frac'] = ds['fluxlat'] / (ds['fluxlat'] + ds['fluxsens']) \n",
    "    ds['evap_frac'].attrs['name'] = 'Evaporation fraction'\n",
    "    ds['evap_frac'].attrs['units'] = '-'\n",
    "\n",
    "    #remove history, description, title, Conventions, timeStamp, uuid, NCO :\n",
    "    for attr in ['history', 'description', 'title', 'Conventions', 'timeStamp', 'uuid', 'NCO']:\n",
    "        if attr in ds.attrs:\n",
    "            del ds.attrs[attr]\n",
    "\n",
    "    return ds"
   ]
  },
  {
   "cell_type": "code",
   "execution_count": null,
   "metadata": {},
   "outputs": [],
   "source": [
    "def format_ORC_MO(filename, name, color=None, date_min=None, date_max=None):\n",
    "    \"\"\"\n",
    "    Format the ORC output for plotting.\n",
    "    \"\"\"\n",
    "    ds = xr.open_mfdataset(filename)\n",
    "    ds.attrs['name'] = name\n",
    "\n",
    "    if color is not None:\n",
    "        ds.attrs['plot_color'] = color\n",
    "\n",
    "    rename_dict = {'time_counter':'time'}\n",
    "    ds = ds.rename(rename_dict)\n",
    "\n",
    "\n",
    "    ds = ds.coarsen(lat=2, lon=3, boundary='trim').mean()\n",
    "\n",
    "    #restrict\n",
    "    if lon_min is not None and lon_max is not None and lat_min is not None and lat_max is not None:\n",
    "        ds = ds.sel(lon=slice(lon_min, lon_max), lat=slice(lat_min, lat_max))\n",
    "    else:\n",
    "        print('No domain restriction applied, missing lon_min, lon_max, lat_min, lat_max')\n",
    "    if date_min is not None and date_max is not None:\n",
    "        ds = ds.sel(time=slice(date_min, date_max))\n",
    "    else:\n",
    "        print('No date restriction applied, missing date_min, date_max')\n",
    "\n",
    "\n",
    "    #edit units and names\n",
    "    # if 'streamr' in ds:\n",
    "    #     ds['streamr'].attrs['units'] = 'kg/m²'\n",
    "    #     ds['streamr'].attrs['long_name'] = 'River reservoir volume'\n",
    "    # if 'slowr' in ds:\n",
    "    #     ds['slowr'].attrs['units'] = 'kg/m²'\n",
    "    #     ds['slowr'].attrs['long_name'] = 'GW reservoir volume'\n",
    "    # if 'fastr' in ds:\n",
    "    #     ds['fastr'].attrs['units'] = 'kg/m²'\n",
    "    #     ds['fastr'].attrs['long_name'] = 'Overland reservoir volume'\n",
    "    if 'evapot_corr' in ds:\n",
    "        ds['evapot_corr'] = ds['evapot_corr'] * 3600 * 24\n",
    "        ds['evapot_corr'].attrs['units'] = 'mm d⁻¹'\n",
    "        ds['evapot_corr'].attrs['long_name'] = 'PET'\n",
    "    if 'irrigmap_dyn' in ds and 'Areas' in ds:\n",
    "        ds['irrig_frac'] = ds['irrigmap_dyn'] / ds['Areas'] *100\n",
    "        ds['irrig_frac'].attrs['units'] = '%'\n",
    "        ds['irrig_frac'].attrs['long_name'] = 'Grid cell irrigation fraction'\n",
    "\n",
    "\n",
    "    # ds['evap_frac'] = ds['fluxlat'] / (ds['fluxlat'] + ds['fluxsens']) \n",
    "    # ds['evap_frac'].attrs['name'] = 'Evaporation fraction'\n",
    "    # ds['evap_frac'].attrs['units'] = '-'\n",
    "    \n",
    "    if 'coastalflow' in ds and 'riverflow' in ds:\n",
    "        ds['coast_and_river'] = ds['coastalflow'] + ds['riverflow']\n",
    "        ds['coast_and_river'].attrs['units'] = 'm³/s'\n",
    "        ds['coast_and_river'].attrs['long_name'] = 'Coastal and river flow'\n",
    "        \n",
    "    #remove history, description, title, Conventions, timeStamp, uuid, NCO :\n",
    "    for attr in ['history', 'description', 'title', 'Conventions', 'timeStamp', 'uuid', 'NCO']:\n",
    "        if attr in ds.attrs:\n",
    "            del ds.attrs[attr]\n",
    "        \n",
    "    return ds"
   ]
  },
  {
   "cell_type": "markdown",
   "metadata": {},
   "source": [
    "## LMDZ"
   ]
  },
  {
   "cell_type": "code",
   "execution_count": null,
   "metadata": {},
   "outputs": [],
   "source": [
    "present_noirr_dir='../../../JZ_simu_outputs/LAM/LAM_1000_40/CM6'\n",
    "future_noirr_dir='../../../JZ_simu_outputs/LAM/LAM_1000_40/future_noirr'\n",
    "future_irr_dir='../../../JZ_simu_outputs/LAM/LAM_1000_40/future_irr'"
   ]
  },
  {
   "cell_type": "code",
   "execution_count": null,
   "metadata": {},
   "outputs": [],
   "source": [
    "filename = '{}/ATM/*histmth.nc'.format(present_noirr_dir)\n",
    "color= 'orange'\n",
    "lmdz_pres_noirr = format_LMDZ_MO(filename, 'present, no_irr', color=color, date_min=date_min_pres, date_max=date_max_pres)\n",
    "lmdz_pres_noirr"
   ]
  },
  {
   "cell_type": "code",
   "execution_count": null,
   "metadata": {},
   "outputs": [],
   "source": [
    "filename = '{}/*histmth.nc'.format(future_noirr_dir)\n",
    "color = 'red'\n",
    "lmdz_fut_noirr = format_LMDZ_MO(filename, 'future, no_irr', color=color, date_min=date_min_fut, date_max=date_max_fut)\n",
    "lmdz_fut_noirr"
   ]
  },
  {
   "cell_type": "code",
   "execution_count": null,
   "metadata": {},
   "outputs": [],
   "source": [
    "filename = '{}/*histmth.nc'.format(future_irr_dir)\n",
    "color = 'blue'\n",
    "lmdz_fut_irr = format_LMDZ_MO(filename, 'future, irr', color=color, date_min=date_min_fut, date_max=date_max_fut)\n",
    "lmdz_fut_irr"
   ]
  },
  {
   "cell_type": "markdown",
   "metadata": {},
   "source": [
    "## ORC"
   ]
  },
  {
   "cell_type": "code",
   "execution_count": null,
   "metadata": {},
   "outputs": [],
   "source": [
    "filename = '{}/SRF/*sechiba_history.nc'.format(present_noirr_dir)\n",
    "color = 'orange'\n",
    "orc_pres_noirr = format_ORC_MO(filename, 'present, no_irr', color=color, date_min=date_min_pres, date_max=date_max_pres)\n",
    "orc_pres_noirr"
   ]
  },
  {
   "cell_type": "code",
   "execution_count": null,
   "metadata": {},
   "outputs": [],
   "source": [
    "filename = '{}/*sechiba_history.nc'.format(future_noirr_dir)\n",
    "color = 'red'\n",
    "orc_fut_noirr = format_ORC_MO(filename, 'future, no_irr', color=color, date_min=date_min_fut, date_max=date_max_fut)\n",
    "orc_fut_noirr"
   ]
  },
  {
   "cell_type": "code",
   "execution_count": null,
   "metadata": {},
   "outputs": [],
   "source": [
    "filename = '{}/*sechiba_history.nc'.format(future_irr_dir)\n",
    "color = 'blue'\n",
    "orc_fut_irr = format_ORC_MO(filename, 'future, irr', color=color, date_min=date_min_fut, date_max=date_max_fut)\n",
    "orc_fut_irr"
   ]
  },
  {
   "cell_type": "markdown",
   "metadata": {},
   "source": [
    "## Masks and interp"
   ]
  },
  {
   "cell_type": "code",
   "execution_count": null,
   "metadata": {},
   "outputs": [],
   "source": [
    "#define masks\n",
    "con_mask_pres=lmdz_pres_noirr['fract_ter']>0.95\n",
    "ip_mask_pres=polygon_to_mask(lmdz_pres_noirr, iberian_peninsula)\n",
    "\n",
    "con_mask_fut=lmdz_fut_irr['fract_ter']>0.95\n",
    "ip_mask_fut=polygon_to_mask(lmdz_fut_irr, iberian_peninsula)\n",
    "\n",
    "#apply masks\n",
    "ip_lmdz_pres_noirr = lmdz_pres_noirr.where(ip_mask_pres, drop=False).where(con_mask_pres)\n",
    "ip_lmdz_fut_noirr = lmdz_fut_noirr.where(ip_mask_fut, drop=False).where(con_mask_fut)\n",
    "ip_lmdz_fut_irr = lmdz_fut_irr.where(ip_mask_fut, drop=False).where(con_mask_fut)\n",
    "\n",
    "ip_orc_pres_noirr = orc_pres_noirr.where(ip_mask_pres, drop=False).where(con_mask_pres)\n",
    "ip_orc_fut_noirr = orc_fut_noirr.where(ip_mask_fut, drop=False).where(con_mask_fut)\n",
    "ip_orc_fut_irr = orc_fut_irr.where(ip_mask_fut, drop=False).where(con_mask_fut)\n"
   ]
  },
  {
   "cell_type": "code",
   "execution_count": null,
   "metadata": {},
   "outputs": [],
   "source": [
    "#mean DS\n",
    "ip_lmdz_pres_noirr_mean = mean_dataset(ip_lmdz_pres_noirr)\n",
    "ip_lmdz_fut_noirr_mean = mean_dataset(ip_lmdz_fut_noirr)\n",
    "ip_lmdz_fut_irr_mean = mean_dataset(ip_lmdz_fut_irr)    "
   ]
  },
  {
   "cell_type": "markdown",
   "metadata": {},
   "source": [
    "# Tests"
   ]
  },
  {
   "cell_type": "code",
   "execution_count": null,
   "metadata": {},
   "outputs": [],
   "source": [
    "stop"
   ]
  },
  {
   "cell_type": "markdown",
   "metadata": {},
   "source": [
    "## Maps"
   ]
  },
  {
   "cell_type": "code",
   "execution_count": null,
   "metadata": {},
   "outputs": [],
   "source": [
    "#Display map of var for ds\n",
    "var='netrad'\n",
    "ds=ip_lmdz_pres_noirr\n",
    "color_map=reds\n",
    "min_value=0\n",
    "max_value=110\n",
    "# min_value, max_value = None, None\n",
    "\n",
    "map_ave(ds, var, cmap=color_map, vmin=min_value, vmax=max_value, hex=False)"
   ]
  },
  {
   "cell_type": "code",
   "execution_count": null,
   "metadata": {},
   "outputs": [],
   "source": [
    "#Diff map\n",
    "var='rh2m'\n",
    "# ds1=ip_lmdz_fut_noirr_mean\n",
    "# ds2=ip_lmdz_pres_noirr_mean\n",
    "\n",
    "ds1=ip_lmdz_fut_irr\n",
    "ds2=ip_lmdz_pres_noirr\n",
    "\n",
    "max_value= 7\n",
    "min_value=-7\n",
    "# max_value, min_value = None, None\n",
    "\n",
    "color_map=emb_neutral\n",
    "# color_map=emb\n",
    "\n",
    "# title='Evapotranspiration bias (mm d⁻¹, {} - {})'.format( ds1.attrs['name'], ds2.attrs['name'])\n",
    "title=None\n",
    "\n",
    "map_diff_ave(ds1, ds2, var, \n",
    "             vmin=min_value, vmax=max_value, \n",
    "             title=title, cmap=color_map,\n",
    "            #  sig=True\n",
    "             )\n",
    "\n",
    "# diff=ds1[var]-ds2[var]\n",
    "# title='{} bias, {} vs {} ({})'.format( var, ds1.attrs['name'], ds2.attrs['name'], ds1[var].attrs['units'])\n",
    "# map_seasons(diff, cmap=color_map,  vmin=min_value, vmax=max_value, title=title, hex=False)"
   ]
  },
  {
   "cell_type": "code",
   "execution_count": null,
   "metadata": {},
   "outputs": [],
   "source": [
    "#Relative diff map\n",
    "var='cldm'\n",
    "ds1=ip_lmdz_fut_noirr_mean\n",
    "ds2=ip_lmdz_pres_noirr_mean\n",
    "\n",
    "# ds1=ip_lmdz_fut_irr\n",
    "# ds2=ip_lmdz_fut_noirr\n",
    "\n",
    "max_value=25\n",
    "min_value=-max_value\n",
    "min_value, max_value = None, None\n",
    "\n",
    "map_rel_diff_ave(ds1, ds2, var, vmin=min_value, vmax=max_value)"
   ]
  },
  {
   "cell_type": "code",
   "execution_count": null,
   "metadata": {},
   "outputs": [],
   "source": [
    "#map for 4 seasons\n",
    "var='precip'\n",
    "ds1=lmdz_fut_noirr\n",
    "ds2=lmdz_fut_irr\n",
    "max_value=2\n",
    "min_value=None\n",
    "# min_value=-max_value\n",
    "\n",
    "diff=ds1[var]-ds2[var]\n",
    "title='{} bias, {} vs {} ({})'.format( var, ds1.attrs['name'], ds2.attrs['name'], ds1[var].attrs['units'])\n",
    "plotvar=diff\n",
    "\n",
    "# plotvar=ds1[var]\n",
    "# title='P-E (mm d⁻¹, {})'.format(ds1.attrs['name'])\n",
    "\n",
    "map_seasons(plotvar, cmap=emb, vmax=max_value, title=title, hex=False)"
   ]
  },
  {
   "cell_type": "markdown",
   "metadata": {},
   "source": [
    "## Time series"
   ]
  },
  {
   "cell_type": "code",
   "execution_count": null,
   "metadata": {},
   "outputs": [],
   "source": [
    "var='cape'\n",
    "\n",
    "# ds1 = ip_lmdz_fut_noirr\n",
    "ds2 = ip_lmdz_fut_noirr\n",
    "ds3 = ip_lmdz_pres_noirr\n",
    "ds1 = ip_lmdz_fut_irr\n",
    "\n",
    "ds_list=[ds1, ds2, ds3]\n",
    "\n",
    "year_min, year_max = 2048, 2062\n",
    "year_min, year_max = 2010, 2022\n",
    "year_min, year_max = 2010, 2062\n",
    "\n",
    "time_series_ave(ds_list, var,\n",
    "                title='{} {}'.format(var, ds1[var].attrs['units']),\n",
    "                ds_colors=True,\n",
    "                year_min=year_min, year_max=year_max)\n",
    "seasonal_cycle_ave(ds_list, var, \n",
    "                   title='Seasonal cycle of {} ({})'.format(var, ds1[var].attrs['units']),\n",
    "                   ds_colors=True,\n",
    "                   year_min=year_min, year_max=year_max)"
   ]
  },
  {
   "cell_type": "markdown",
   "metadata": {},
   "source": [
    "# Figures"
   ]
  },
  {
   "cell_type": "markdown",
   "metadata": {},
   "source": [
    "## Present vs Future"
   ]
  },
  {
   "cell_type": "markdown",
   "metadata": {},
   "source": [
    "### Annual diff maps"
   ]
  },
  {
   "cell_type": "code",
   "execution_count": null,
   "metadata": {},
   "outputs": [],
   "source": [
    "savefig=True\n",
    "vars=['precip', 'evap', 't2m', 'fluxsens', 'q2m', 's_pblh', 's_lcl', 'rh2m', 'psol']\n",
    "# vars=['precip']\n",
    "vmaxs=[2, 0.3, 3, 15, 1e-3, 50, 200, 7, 1.80]\n",
    "cmaps=[emb_neutral, emb_neutral, emb, emb, emb_neutral, emb, emb, emb_neutral, emb]\n",
    "\n",
    "ds1= ip_lmdz_fut_noirr\n",
    "ds2= ip_lmdz_pres_noirr\n",
    "\n",
    "ds1_mean = ds1.mean(dim='time')\n",
    "ds2_mean = ds2.mean(dim='time')\n",
    "\n",
    "for var in vars:\n",
    "    title='off'\n",
    "    ylabel='{} diff. ({})'.format(ds1[var].attrs['name'], ds1[var].attrs['units'])\n",
    "    map_diff_ave(ds1_mean, ds2_mean, var, \n",
    "                 vmin=-vmaxs[vars.index(var)], vmax=vmaxs[vars.index(var)],\n",
    "                title=title, \n",
    "                clabel=ylabel,\n",
    "                cmap=cmaps[vars.index(var)],\n",
    "                )\n",
    "    if savefig:\n",
    "        plt.savefig('figures/chap4/future/diffmap_{}_presfut.png'.format(var), bbox_inches='tight', dpi=300)"
   ]
  },
  {
   "cell_type": "code",
   "execution_count": null,
   "metadata": {},
   "outputs": [],
   "source": [
    "savefig=True\n",
    "vars=['SWdnSFC', 'LWdnSFC', 'netrad', 'cldt', 'cldl', 'cldm', 'cldh']\n",
    "# vars=['precip']\n",
    "vmaxs=[15, 15, 10, 10, 10, 5, 1]\n",
    "cmap=emb\n",
    "\n",
    "ds1= ip_lmdz_fut_noirr\n",
    "ds2= ip_lmdz_pres_noirr\n",
    "\n",
    "ds1_mean = ds1.mean(dim='time')\n",
    "ds2_mean = ds2.mean(dim='time')\n",
    "\n",
    "for var in vars:\n",
    "    title='off'\n",
    "    ylabel='{} diff. ({})'.format(ds1[var].attrs['name'], ds1[var].attrs['units'])\n",
    "    map_diff_ave(ds1_mean, ds2_mean, var, \n",
    "                 vmin=-vmaxs[vars.index(var)], vmax=vmaxs[vars.index(var)],\n",
    "                title=title, \n",
    "                clabel=ylabel,\n",
    "                cmap=cmap\n",
    "                )\n",
    "    if savefig:\n",
    "        plt.savefig('figures/chap4/future/diffmap_{}_presfut.png'.format(var), bbox_inches='tight', dpi=300)"
   ]
  },
  {
   "cell_type": "markdown",
   "metadata": {},
   "source": [
    "### Summer diff maps"
   ]
  },
  {
   "cell_type": "code",
   "execution_count": null,
   "metadata": {},
   "outputs": [],
   "source": [
    "savefig=True\n",
    "vars=['precip', 'evap', 't2m', 'fluxsens', 'q2m', 's_pblh', 's_lcl', 'rh2m']\n",
    "# vars=['precip']\n",
    "vmaxs=[2, 1, 4, 30, 1e-3, 150, 450, 10]\n",
    "cmaps=[emb_neutral, emb_neutral, emb, emb, emb_neutral, emb, emb, emb_neutral]\n",
    "\n",
    "ds1= ip_lmdz_fut_noirr\n",
    "ds2= ip_lmdz_pres_noirr\n",
    "\n",
    "months=[6,7,8]  # JJA\n",
    "ds1 = ds1.sel(time=ds1['time.month'].isin(months))\n",
    "ds2 = ds2.sel(time=ds2['time.month'].isin(months))\n",
    "ds1_mean = ds1.mean(dim='time')\n",
    "ds2_mean = ds2.mean(dim='time')\n",
    "\n",
    "for var in vars:\n",
    "    title='off'\n",
    "    ylabel='{} diff. ({})'.format(ds1[var].attrs['name'], ds1[var].attrs['units'])\n",
    "    map_diff_ave(ds1_mean, ds2_mean, var, \n",
    "                 vmin=-vmaxs[vars.index(var)], vmax=vmaxs[vars.index(var)],\n",
    "                title=title, \n",
    "                clabel=ylabel,\n",
    "                cmap=cmaps[vars.index(var)],\n",
    "                )\n",
    "    if savefig:\n",
    "        plt.savefig('figures/chap4/future/diffmap_JJA_{}_presfut.png'.format(var), bbox_inches='tight', dpi=300)"
   ]
  },
  {
   "cell_type": "markdown",
   "metadata": {},
   "source": [
    "### Relative diff map (annual)"
   ]
  },
  {
   "cell_type": "code",
   "execution_count": null,
   "metadata": {},
   "outputs": [],
   "source": [
    "savefig=True\n",
    "vars=['precip', 'evap', 'fluxsens', 'SWdnSFC', 'LWdnSFC', 'q2m', 'rh2m', 'psol']\n",
    "# vars=['precip']\n",
    "vmaxs=[30, 20, 45, 10, 5, 10, 8, 0.2]\n",
    "cmaps=[emb_neutral, emb_neutral, emb, emb, emb, emb_neutral, emb_neutral, emb]\n",
    "\n",
    "ds1= ip_lmdz_fut_noirr\n",
    "ds2= ip_lmdz_pres_noirr\n",
    "\n",
    "ds1_mean = ds1.mean(dim='time')\n",
    "ds2_mean = ds2.mean(dim='time')\n",
    "\n",
    "for var in vars:\n",
    "    title='off'\n",
    "    ylabel='{} rel. diff. (%)'.format(ds1[var].attrs['name'])\n",
    "    map_rel_diff_ave(ds1_mean, ds2_mean, var, \n",
    "                 vmin=-vmaxs[vars.index(var)], vmax=vmaxs[vars.index(var)],\n",
    "                title=title, \n",
    "                clabel=ylabel,\n",
    "                cmap=cmaps[vars.index(var)],\n",
    "                )\n",
    "    if savefig:\n",
    "        plt.savefig('figures/chap4/future/reldiffmap_{}_presfut.png'.format(var), bbox_inches='tight', dpi=300)"
   ]
  },
  {
   "cell_type": "code",
   "execution_count": null,
   "metadata": {},
   "outputs": [],
   "source": [
    "savefig=True\n",
    "vars=['SWdnSFC', 'LWdnSFC', 'netrad', 'cldt', 'cldl', 'cldm', 'cldh']\n",
    "vmaxs=[10, 10, 10, 15, 25, 20, 10]\n",
    "cmap=emb\n",
    "\n",
    "ds1= ip_lmdz_fut_noirr\n",
    "ds2= ip_lmdz_pres_noirr\n",
    "\n",
    "ds1_mean = ds1.mean(dim='time')\n",
    "ds2_mean = ds2.mean(dim='time')\n",
    "\n",
    "for var in vars:\n",
    "    title='off'\n",
    "    ylabel='{} rel. diff. (%)'.format(ds1[var].attrs['name'])\n",
    "    map_rel_diff_ave(ds1_mean, ds2_mean, var, \n",
    "                 vmin=-vmaxs[vars.index(var)], vmax=vmaxs[vars.index(var)],\n",
    "                title=title, \n",
    "                clabel=ylabel,\n",
    "                cmap=cmap,\n",
    "                )\n",
    "    if savefig:\n",
    "        plt.savefig('figures/chap4/future/reldiffmap_{}_presfut.png'.format(var), bbox_inches='tight', dpi=300)"
   ]
  },
  {
   "cell_type": "markdown",
   "metadata": {},
   "source": [
    "## Future only, irr vs noirr"
   ]
  },
  {
   "cell_type": "markdown",
   "metadata": {},
   "source": [
    "### Irr maps and SC"
   ]
  },
  {
   "cell_type": "code",
   "execution_count": null,
   "metadata": {},
   "outputs": [],
   "source": [
    "savefig=True\n",
    "ds=ip_orc_fut_irr\n",
    "var = 'irrig_frac'\n",
    "map_ave(ds,var, cmap=reds,\n",
    "        vmin=0, vmax=50,\n",
    "        title='off', clabel='Grid cell irrigation fraction (%)')\n",
    "if savefig:\n",
    "    plt.savefig('figures/chap4/future/map_{}_fut.png'.format(var), bbox_inches='tight', dpi=300)"
   ]
  },
  {
   "cell_type": "code",
   "execution_count": null,
   "metadata": {},
   "outputs": [],
   "source": [
    "savefig=False\n",
    "ds=ip_orc_fut_irr\n",
    "var = 'root_deficit'\n",
    "map_ave(ds,var, cmap=reds,\n",
    "        # vmin=0, vmax=50,\n",
    "        title='off', \n",
    "        # clabel='Grid cell irrigation fraction (%)'\n",
    "        )\n",
    "if savefig:\n",
    "    plt.savefig('figures/chap4/future/map_{}_fut.png'.format(var), bbox_inches='tight', dpi=300)"
   ]
  },
  {
   "cell_type": "code",
   "execution_count": null,
   "metadata": {},
   "outputs": [],
   "source": [
    "savefig=True\n",
    "ds=ip_orc_fut_irr\n",
    "var = 'netirrig'\n",
    "map_ave(ds,var, cmap=blues,\n",
    "        vmin=0, vmax=6,\n",
    "        title='off', clabel='Irrigation requirement (mm d⁻¹)')\n",
    "if savefig:\n",
    "    plt.savefig('figures/chap4/future/map_{}_fut.png'.format(var), bbox_inches='tight', dpi=300)\n",
    "\n",
    "time_series_ave([ds], var, year_min=2050, year_max=2062)\n",
    "\n",
    "seasonal_cycle_ave([ds], var, year_min=2050, year_max=2062,\n",
    "                   title='off',\n",
    "                   ylabel='Irrigation requirement (mm d⁻¹)'\n",
    "                        )\n",
    "if savefig:\n",
    "    plt.savefig('figures/chap4/future/SC_{}_fut.png'.format(var), bbox_inches='tight', dpi=300)"
   ]
  },
  {
   "cell_type": "code",
   "execution_count": null,
   "metadata": {},
   "outputs": [],
   "source": [
    "savefig = True\n",
    "ds=ip_orc_fut_irr\n",
    "var = 'irrigation'\n",
    "map_ave(ds,var, cmap=wet,\n",
    "        vmin=0, vmax=0.75,\n",
    "        title='off', clabel='Irrigation (mm d⁻¹)')\n",
    "if savefig:\n",
    "    plt.savefig('figures/chap4/future/map_{}_fut.png'.format(var), bbox_inches='tight', dpi=300)\n",
    "\n",
    "time_series_ave([ds], var, year_min=2050, year_max=2062)\n",
    "\n",
    "seasonal_cycle_ave([ds], var, year_min=2050, year_max=2062, \n",
    "                   title='off',\n",
    "                   ylabel='Irrigation (mm d⁻¹)'\n",
    ")\n",
    "if savefig:\n",
    "    plt.savefig('figures/chap4/future/SC_{}_fut.png'.format(var), bbox_inches='tight', dpi=300)"
   ]
  },
  {
   "cell_type": "markdown",
   "metadata": {},
   "source": [
    "### Annual diff maps"
   ]
  },
  {
   "cell_type": "code",
   "execution_count": null,
   "metadata": {},
   "outputs": [],
   "source": [
    "savefig=True\n",
    "vars=['precip', 'evap', 't2m', 'fluxsens', 'q2m', 's_pblh', 's_lcl', 'rh2m']\n",
    "# vars=['precip']\n",
    "\n",
    "vmaxs=[0.25, 0.75, 0.5, 15, 1e-3, 100, 200, 4]\n",
    "cmaps=[emb_neutral, emb_neutral, emb, emb, emb_neutral, emb, emb, emb_neutral]\n",
    "\n",
    "ds1= ip_lmdz_fut_irr\n",
    "ds2= ip_lmdz_fut_noirr\n",
    "\n",
    "for var in vars:\n",
    "    title='off'\n",
    "    ylabel='{} diff. ({})'.format(ds1[var].attrs['name'], ds1[var].attrs['units'])\n",
    "    map_diff_ave(ds1, ds2, var, \n",
    "                 vmin=-vmaxs[vars.index(var)], vmax=vmaxs[vars.index(var)],\n",
    "                title=title, \n",
    "                clabel=ylabel,\n",
    "                cmap=cmaps[vars.index(var)],\n",
    "                # sig=True,\n",
    "                )\n",
    "    if savefig:\n",
    "        plt.savefig('figures/chap4/future/diffmap_{}_futirr.png'.format(var), bbox_inches='tight', dpi=300)"
   ]
  },
  {
   "cell_type": "code",
   "execution_count": null,
   "metadata": {},
   "outputs": [],
   "source": [
    "savefig=False\n",
    "vars=['rain', 'humtot', 'runoff', 'drainage', 'slowr', 'fastr', 'streamr']\n",
    "# vars=['twbr']\n",
    "# vars=['precip']\n",
    "vmaxs=[100, 100, 100]\n",
    "\n",
    "cmap = emb_neutral\n",
    "\n",
    "\n",
    "for var in vars:\n",
    "    # map_ave(ip_orc_pres_noirr, var)\n",
    "    # map_ave(ip_orc_fut_noirr, var)\n",
    "    # map_ave(ip_orc_fut_irr, var)\n",
    "\n",
    "    if savefig:\n",
    "        plt.savefig('figures/chap4/future/reldiffmap_{}_futirr.png'.format(var), bbox_inches='tight', dpi=300)"
   ]
  },
  {
   "cell_type": "code",
   "execution_count": null,
   "metadata": {},
   "outputs": [],
   "source": [
    "savefig=False\n",
    "vars=['rain', 'humtot', 'runoff', 'drainage', 'slowr', 'fastr', 'streamr']\n",
    "# vars=['twbr']\n",
    "# vars=['precip']\n",
    "vmaxs=[100, 100, 100]\n",
    "\n",
    "cmap = emb_neutral\n",
    "\n",
    "for var in vars:\n",
    "    map_diff_ave(ip_orc_fut_irr, ip_orc_fut_noirr, var,\n",
    "                 cmap=cmap\n",
    "            )\n",
    "    map_rel_diff_ave(ip_orc_fut_irr, ip_orc_fut_noirr, var,\n",
    "                 cmap=cmap,\n",
    "                 vmin=-100,\n",
    "                 vmax=100\n",
    "            )\n",
    "\n",
    "    if savefig:\n",
    "        plt.savefig('figures/chap4/future/reldiffmap_{}_futirr.png'.format(var), bbox_inches='tight', dpi=300)"
   ]
  },
  {
   "cell_type": "markdown",
   "metadata": {},
   "source": [
    "### Summer diff maps"
   ]
  },
  {
   "cell_type": "code",
   "execution_count": null,
   "metadata": {},
   "outputs": [],
   "source": [
    "savefig=False\n",
    "vars=['precip', 'evap', 't2m', 'fluxsens', 'q2m', 's_pblh', 's_lcl', 'rh2m']\n",
    "# vars=['precip']\n",
    "\n",
    "vmaxs=[0.5, 1.8, 1.25, 40, 1.8e-3, 250, 500, 10]\n",
    "cmaps=[emb_neutral, emb_neutral, emb, emb, emb_neutral, emb, emb, emb_neutral]\n",
    "\n",
    "ds1= ip_lmdz_fut_irr\n",
    "ds2= ip_lmdz_fut_noirr\n",
    "\n",
    "months=[6,7,8]  # JJA\n",
    "# months=[0,10,11]  # MAM\n",
    "ds1 = ds1.sel(time=ds1['time.month'].isin(months))\n",
    "ds2 = ds2.sel(time=ds2['time.month'].isin(months))\n",
    "\n",
    "for var in vars:\n",
    "    title='off'\n",
    "    ylabel='{} diff. ({})'.format(ds1[var].attrs['name'], ds1[var].attrs['units'])\n",
    "    map_diff_ave(ds1, ds2, var, \n",
    "                 vmin=-vmaxs[vars.index(var)], vmax=vmaxs[vars.index(var)],\n",
    "                title=title, \n",
    "                clabel=ylabel,\n",
    "                cmap=cmaps[vars.index(var)],\n",
    "                # sig=True,\n",
    "                )\n",
    "    if savefig:\n",
    "        plt.savefig('figures/chap4/future/diffmap_JJA_{}_futirr.png'.format(var), bbox_inches='tight', dpi=300)"
   ]
  },
  {
   "cell_type": "markdown",
   "metadata": {},
   "source": [
    "### Annual rel diff maps"
   ]
  },
  {
   "cell_type": "code",
   "execution_count": null,
   "metadata": {},
   "outputs": [],
   "source": [
    "savefig=True\n",
    "vars=['precip', 'evap', 'fluxsens', 's_pblh', 's_lcl', 'q2m', 'rh2m', 'psol']\n",
    "# vars=['precip']\n",
    "\n",
    "vmaxs=[10, 75, 25, 10, 15, 10, 10, 0.02]\n",
    "cmaps=[emb_neutral, emb_neutral, emb, emb, emb,emb_neutral, emb_neutral, emb]\n",
    "\n",
    "ds1= ip_lmdz_fut_irr\n",
    "ds2= ip_lmdz_fut_noirr\n",
    "\n",
    "for var in vars:\n",
    "    title='off'\n",
    "    ylabel='{} rel. diff. (%)'.format(ds1[var].attrs['name'])\n",
    "    map_rel_diff_ave(ds1, ds2, var, \n",
    "                 vmin=-vmaxs[vars.index(var)], vmax=vmaxs[vars.index(var)],\n",
    "                title=title, \n",
    "                clabel=ylabel,\n",
    "                cmap=cmaps[vars.index(var)],\n",
    "                )\n",
    "    if savefig:\n",
    "        plt.savefig('figures/chap4/future/reldiffmap_{}_futirr.png'.format(var), bbox_inches='tight', dpi=300)"
   ]
  },
  {
   "cell_type": "markdown",
   "metadata": {},
   "source": [
    "## Aridity index"
   ]
  },
  {
   "cell_type": "markdown",
   "metadata": {},
   "source": [
    "### Maps"
   ]
  },
  {
   "cell_type": "code",
   "execution_count": null,
   "metadata": {},
   "outputs": [],
   "source": [
    "def penman_monteith_pet(ds_lmdz,ds_orc) -> xr.DataArray:\n",
    "    \"\"\"\n",
    "    Computes Potential Evapotranspiration (PET) using the Penman-Monteith equation,\n",
    "    incorporating the bulk drag coefficient (cdrag) for aerodynamic resistance.\n",
    "    All constants and intermediate calculations are performed inline.\n",
    "\n",
    "    Args:\n",
    "        ds: xarray.Dataset containing the necessary model variables.\n",
    "            Requires: netrad (W/m^2), Qg (W/m^2), tair (K), qair (kg/kg),\n",
    "                      Wind (m/s), psol (Pa), and cdrag (dimensionless, bulk drag coefficient).\n",
    "\n",
    "    Returns:\n",
    "        xr.DataArray: Potential Evapotranspiration in mm/day.\n",
    "    \"\"\"\n",
    "    # --- 1. Physical Constants and Standard Values ---\n",
    "    # Specific heat of air at constant pressure (J kg^-1 K^-1)\n",
    "    CP_AIR = 1004.0\n",
    "    # Ratio of molecular weight of water vapor/dry air (dimensionless)\n",
    "    EPSILON = 0.622\n",
    "    # Gas constant for dry air (J kg^-1 K^-1)\n",
    "    R_D = 287.0\n",
    "    # Density of water (kg m^-3)\n",
    "    RHO_W = 1000.0\n",
    "\n",
    "    # --- 2. Extract Variables (Ensure correct units) ---\n",
    "    Rn = ds_orc['netrad']\n",
    "    G = ds_orc['Qg']\n",
    "    Ta = ds_orc['tair']   # Air Temperature (K)\n",
    "    qa = ds_orc['qair']   # Specific Humidity (kg/kg)\n",
    "    u = ds_orc['Wind']    # Wind Speed (m/s)\n",
    "    P = ds_lmdz['psol'] * 100  # Surface Pressure (Pa)\n",
    "    Cdrag = ds_orc['cdrag'] # Dynamic Bulk Drag Coefficient (dimensionless)\n",
    "\n",
    "    # --- 3. Intermediate Calculations ---\n",
    "    # Convert Air Temperature to Celsius\n",
    "    tair_c = Ta - 273.15\n",
    "\n",
    "    # 3.1 Latent Heat of Vaporization (Lv) in J kg^-1 (Temperature dependent)\n",
    "    # Lv = 2.501 x 10^6 - 2361 * T_c\n",
    "    Lv = (2.501e6 - 2361.0 * tair_c)\n",
    "\n",
    "    # 3.2 Saturation Vapour Pressure (es) in Pa (Tetens formula)\n",
    "    # es = 0.6108 * exp((17.27 * T_c) / (T_c + 237.3)) * 1000 (kPa to Pa)\n",
    "    es = (0.6108 * np.exp((17.27 * tair_c) / (tair_c + 237.3))) * 1000.0\n",
    "\n",
    "    # 3.3 Slope of the Saturation Vapour Pressure Curve (Delta) in Pa K^-1\n",
    "    # Delta = (4098 * es) / (T_c + 237.3)^2\n",
    "    Delta = (4098.0 * es) / ((tair_c + 237.3) ** 2)\n",
    "\n",
    "    # 3.4 Psychrometric Constant (gamma) in Pa K^-1\n",
    "    # gamma = (CP_AIR * P) / (EPSILON * L_v)\n",
    "    gamma = (CP_AIR * P) / (EPSILON * Lv)\n",
    "\n",
    "    # 3.5 Air Density (rho_a) in kg m^-3 (assuming dry air for simplicity)\n",
    "    # rho_a = P / (R_D * T_a)\n",
    "    rho_a = P / (R_D * Ta)\n",
    "\n",
    "    # 3.6 Aerodynamic Resistance (ra) in s m^-1\n",
    "    # ra = 1 / (Cdrag * u)\n",
    "    # This uses the bulk transfer coefficient (Cdrag) and wind speed (u)\n",
    "    ra = 1.0 / (Cdrag * u)\n",
    "\n",
    "    # 3.7 Actual Vapour Pressure (ea) in Pa (Simplified from specific humidity)\n",
    "    # ea ≈ P * qa / EPSILON\n",
    "    ea = P * qa / EPSILON\n",
    "    VPD = es - ea # Vapour Pressure Deficit (Pa)\n",
    "\n",
    "    # --- 4. Penman-Monteith Equation for Latent Heat Flux (LE) ---\n",
    "\n",
    "    # Numerator - Energy Term: Delta * (Rn - G)\n",
    "    term_energy = Delta * (Rn - G)\n",
    "\n",
    "    # Numerator - Aerodynamic Term: rho * cp * VPD / ra\n",
    "    term_aero = rho_a * CP_AIR * VPD / ra\n",
    "\n",
    "    # Denominator: Delta + gamma (1 + rc/ra)\n",
    "    # For PET, surface resistance rc is set to zero (rc = 0), so Denom = Delta + gamma\n",
    "    denominator = Delta + gamma\n",
    "\n",
    "    # LE (W/m^2)\n",
    "    LE = (term_energy + term_aero) / denominator\n",
    "    LE.name = 'LE_PET'\n",
    "    LE.attrs['units'] = 'W/m^2'\n",
    "\n",
    "    # --- 5. Convert LE (W/m^2) to PET (mm/day) ---\n",
    "\n",
    "    # PET (mm/day) = (LE * seconds_per_day) / (rho_w * L_v)\n",
    "    pet_mm_day = (LE * 86400.0) / (RHO_W * Lv) * 1000 \n",
    "    pet_mm_day.name = 'PET_mm_day'\n",
    "    pet_mm_day.attrs['units'] = 'mm/day'\n",
    "    pet_mm_day.attrs['long_name'] = 'Potential Evapotranspiration (Penman-Monteith)'\n",
    "\n",
    "    # Attach the latent heat flux result to the final DataArray for completeness\n",
    "    pet_mm_day = pet_mm_day.assign_coords(LE_PET=LE)\n",
    "\n",
    "    ds_orc['PET_PM'] = pet_mm_day\n",
    "    return ds_orc"
   ]
  },
  {
   "cell_type": "code",
   "execution_count": null,
   "metadata": {},
   "outputs": [],
   "source": [
    "ip_orc_pres_noirr = penman_monteith_pet(ip_lmdz_pres_noirr, ip_orc_pres_noirr)\n",
    "ip_orc_fut_irr = penman_monteith_pet(ip_lmdz_fut_irr, ip_orc_fut_irr)\n",
    "ip_orc_fut_noirr = penman_monteith_pet(ip_lmdz_fut_noirr, ip_orc_fut_noirr)"
   ]
  },
  {
   "cell_type": "code",
   "execution_count": null,
   "metadata": {},
   "outputs": [],
   "source": [
    "def compute_annual_aridity_index(ds_lmdz, ds_orc):\n",
    "    \"\"\"\n",
    "    Compute the annual aridity index (P/PET) for the given datasets.\n",
    "    \"\"\"\n",
    "    # Compute annual sums and means\n",
    "    annual_precip = ds_lmdz['precip'].mean(dim='time')\n",
    "    annual_pet = ds_orc['PET_PM'].mean(dim='time')\n",
    "\n",
    "    # Compute aridity index\n",
    "    aridity_index = (annual_precip / annual_pet)\n",
    "    aridity_index.attrs['name'] = 'Annual Aridity Index (P/PET)'\n",
    "    aridity_index.attrs['units'] = '-'\n",
    "\n",
    "    return aridity_index"
   ]
  },
  {
   "cell_type": "code",
   "execution_count": null,
   "metadata": {},
   "outputs": [],
   "source": [
    "ai_pres_noirr = compute_annual_aridity_index(ip_lmdz_pres_noirr, ip_orc_pres_noirr)\n",
    "ai_fut_noirr = compute_annual_aridity_index(ip_lmdz_fut_noirr, ip_orc_fut_noirr)\n",
    "ai_fut_irr = compute_annual_aridity_index(ip_lmdz_fut_irr, ip_orc_fut_irr)"
   ]
  },
  {
   "cell_type": "code",
   "execution_count": null,
   "metadata": {},
   "outputs": [],
   "source": [
    "savefig_AI=True"
   ]
  },
  {
   "cell_type": "code",
   "execution_count": null,
   "metadata": {},
   "outputs": [],
   "source": [
    "map_plotvar(ai_pres_noirr, cmap='Spectral', vmin=0, vmax=1, title='', clabel='Aridity Index (P/PET)')\n",
    "if savefig_AI:\n",
    "    plt.savefig('figures/chap4/future/map_AI_pres_noirr.png', bbox_inches='tight', dpi=300)"
   ]
  },
  {
   "cell_type": "code",
   "execution_count": null,
   "metadata": {},
   "outputs": [],
   "source": [
    "map_plotvar(ai_fut_noirr, cmap='Spectral', vmin=0, vmax=1, title='', clabel='Aridity Index (P/PET)')\n",
    "if savefig_AI:\n",
    "    plt.savefig('figures/chap4/future/map_AI_fut_noirr.png', bbox_inches='tight', dpi=300)"
   ]
  },
  {
   "cell_type": "code",
   "execution_count": null,
   "metadata": {},
   "outputs": [],
   "source": [
    "map_plotvar(ai_fut_irr, cmap='Spectral', vmin=0, vmax=1, title='', clabel='Aridity Index (P/PET)')\n",
    "if savefig_AI:\n",
    "    plt.savefig('figures/chap4/future/map_AI_fut_irr.png', bbox_inches='tight', dpi=300)"
   ]
  },
  {
   "cell_type": "code",
   "execution_count": null,
   "metadata": {},
   "outputs": [],
   "source": [
    "map_aridity_index(ip_lmdz_pres_noirr, ip_orc_pres_noirr)\n",
    "if savefig_AI:\n",
    "    plt.savefig(\"figures/chap4/future/aridity_index_pres_noirr.png\", dpi=300)"
   ]
  },
  {
   "cell_type": "code",
   "execution_count": null,
   "metadata": {},
   "outputs": [],
   "source": [
    "map_aridity_index(ip_lmdz_fut_noirr, ip_orc_fut_noirr)\n",
    "if savefig_AI:\n",
    "    plt.savefig(\"figures/chap4/future/aridity_index_fut_noirr.png\", dpi=300)"
   ]
  },
  {
   "cell_type": "code",
   "execution_count": null,
   "metadata": {},
   "outputs": [],
   "source": [
    "map_aridity_index(ip_lmdz_fut_irr, ip_orc_fut_irr)\n",
    "if savefig_AI:\n",
    "    plt.savefig(\"figures/chap4/future/aridity_index_fut_irr.png\", dpi=300)"
   ]
  },
  {
   "cell_type": "code",
   "execution_count": null,
   "metadata": {},
   "outputs": [],
   "source": [
    "savefig=True\n",
    "ds1_lmdz = ip_lmdz_pres_noirr\n",
    "ds1_orc = ip_orc_pres_noirr\n",
    "ds2_lmdz = ip_lmdz_fut_noirr\n",
    "ds2_orc = ip_orc_fut_noirr\n",
    "\n",
    "# map_aridity_index_change(ds1_lmdz, ds1_orc, ds2_lmdz, ds2_orc, clabel=\"Change in Aridity Index (no irrigation)\", left_labels=True)\n",
    "abs, rel = compute_aridity_index_change(ds1_lmdz, ds1_orc, ds2_lmdz, ds2_orc)\n",
    "map_plotvar(abs, cmap=emb_neutral, vmin=-0.3, vmax=0.3, clabel=\"Aridity Index difference\")\n",
    "if savefig:\n",
    "    plt.savefig(\"figures/chap4/future/diffmap_aridity_index_presfut.png\", dpi=300)\n",
    "map_plotvar(rel, cmap=emb_neutral, vmin=-40, vmax=40, clabel=\"Aridity Index relative difference (%)\")\n",
    "if savefig:\n",
    "    plt.savefig(\"figures/chap4/future/reldiffmap_aridity_index_presfut.png\", dpi=300)"
   ]
  },
  {
   "cell_type": "code",
   "execution_count": null,
   "metadata": {},
   "outputs": [],
   "source": [
    "savefig=True\n",
    "ds1_lmdz = ip_lmdz_fut_noirr\n",
    "ds1_orc = ip_orc_fut_noirr\n",
    "ds2_lmdz = ip_lmdz_fut_irr\n",
    "ds2_orc = ip_orc_fut_irr\n",
    "\n",
    "# map_aridity_index_change(ds1_lmdz, ds1_orc, ds2_lmdz, ds2_orc, clabel=\"Change in Aridity Index (no irrigation)\", left_labels=True)\n",
    "abs, rel = compute_aridity_index_change(ds1_lmdz, ds1_orc, ds2_lmdz, ds2_orc)\n",
    "map_plotvar(abs, cmap=emb_neutral, \n",
    "            vmin=-0.1, vmax=0.1, \n",
    "            clabel=\"Aridity Index difference\")\n",
    "if savefig:\n",
    "    plt.savefig(\"figures/chap4/future/diffmap_aridity_index_futirr.png\", dpi=300)\n",
    "\n",
    "map_plotvar(rel, cmap=emb_neutral, \n",
    "            vmin=-20, vmax=20, \n",
    "            clabel=\"Aridity Index relative difference (%)\")\n",
    "if savefig:\n",
    "    plt.savefig(\"figures/chap4/future/reldiffmap_aridity_index_futirr.png\", dpi=300)"
   ]
  },
  {
   "cell_type": "markdown",
   "metadata": {},
   "source": [
    "### Numbers and distribution"
   ]
  },
  {
   "cell_type": "code",
   "execution_count": null,
   "metadata": {},
   "outputs": [],
   "source": [
    "def ai_distribution(ds_lmdz, ds_orc):\n",
    "    precip = ds_lmdz['precip'].mean('time')\n",
    "    evapot = ds_orc['PET_PM'].mean('time') \n",
    "    ai = (precip / evapot)   \n",
    "\n",
    "    bounds = [0, 0.05, 0.2, 0.5, 0.65, np.inf]\n",
    "    colors = ['red', 'orange', 'yellow', 'lightskyblue', 'blue']\n",
    "    labels = [\"Hyperarid\", \"Arid\", \"Semiarid\", \"Dry subhumid\", \"Humid\"]\n",
    "\n",
    "    # Digitize AI values into class indices (0..4)\n",
    "    class_idx = np.digitize(ai.values.flatten(), bounds) - 1\n",
    "\n",
    "    # Count grid cells in each class\n",
    "    counts = [np.sum(class_idx == i) for i in range(len(labels))]\n",
    "    total = np.sum(counts)\n",
    "    fractions = [count / total * 100 for count in counts]\n",
    "\n",
    "    # Print results\n",
    "    for label, count, fraction in zip(labels, counts, fractions):\n",
    "        print(f\"%{label}: {count} grid cells ({fraction})\")\n",
    "    print(f\"%Total: {total} grid cells\")\n",
    "\n",
    "    # Bar chart\n",
    "    plt.figure(figsize=(4,4))\n",
    "    #bar with vmax height of 100%\n",
    "    plt.bar(labels, fractions, color=colors, width=0.5)\n",
    "    plt.ylim(0, 67)\n",
    "    plt.ylabel(\"Fraction of domain (%)\")\n",
    "    # plt.title(\"Aridity Index Distribution\")\n",
    "    plt.xticks(rotation=30, ha='right')\n",
    "    plt.tight_layout()\n",
    "\n",
    "    return counts\n"
   ]
  },
  {
   "cell_type": "code",
   "execution_count": null,
   "metadata": {},
   "outputs": [],
   "source": [
    "savefig=True\n",
    "\n",
    "ds_lmdz=ip_lmdz_pres_noirr\n",
    "ds_orc = ip_orc_pres_noirr\n",
    "print('% present_noirr')\n",
    "ai_distribution(ds_lmdz, ds_orc)\n",
    "if savefig:\n",
    "    plt.savefig(\"figures/chap4/future/aridity_index_distribution_pres_noirr.png\", dpi=300)\n",
    "\n",
    "ds_lmdz=ip_lmdz_fut_noirr\n",
    "ds_orc = ip_orc_fut_noirr\n",
    "print('% future_noirr')\n",
    "ai_distribution(ds_lmdz, ds_orc)\n",
    "if savefig:\n",
    "    plt.savefig(\"figures/chap4/future/aridity_index_distribution_fut_noirr.png\", dpi=300)\n",
    "\n",
    "ds_lmdz=ip_lmdz_fut_irr\n",
    "ds_orc = ip_orc_fut_irr\n",
    "print('% future_irr')\n",
    "ai_distribution(ds_lmdz, ds_orc)\n",
    "if savefig:\n",
    "    plt.savefig(\"figures/chap4/future/aridity_index_distribution_fut_irr.png\", dpi=300)"
   ]
  },
  {
   "cell_type": "code",
   "execution_count": null,
   "metadata": {},
   "outputs": [],
   "source": [
    "stop"
   ]
  },
  {
   "cell_type": "markdown",
   "metadata": {},
   "source": [
    "## Appendix"
   ]
  },
  {
   "cell_type": "markdown",
   "metadata": {},
   "source": [
    "### Seasonnal diff maps for precip, ET, t2m\n",
    "\n",
    "todo"
   ]
  },
  {
   "cell_type": "code",
   "execution_count": null,
   "metadata": {},
   "outputs": [],
   "source": [
    "savefig=True\n",
    "vars=['precip', 'evap', 't2m']\n",
    "# vars=['precip']\n",
    "vmaxs=[2, 0.5, 3]\n",
    "cmaps=[emb_neutral, emb_neutral, emb]\n",
    "\n",
    "ds1= ip_lmdz_fut_noirr\n",
    "ds2= ip_lmdz_pres_noirr\n",
    "#NB : pas straightforward car pas la même période, besoin de faire la moyenne avant mais en gardant les saisons"
   ]
  },
  {
   "cell_type": "markdown",
   "metadata": {},
   "source": [
    "### Mean SC for 3 sims (present no_irr, future irr & no_irr)\n",
    "\n",
    "todo: ideally add present irr but not available yet..."
   ]
  },
  {
   "cell_type": "code",
   "execution_count": null,
   "metadata": {},
   "outputs": [],
   "source": [
    "savefig=False\n",
    "include_irr=True\n",
    "vars=['precip', 'evap', 't2m', 'fluxsens', 'q2m', 's_pblh', 's_lcl', 'rh2m', 'LWdnSFC', 'SWdnSFC', 'netrad', 'cldt', 'cldl', 'cldm', 'cldh']\n",
    "# vars=['precip']\n",
    "vmins=[0, 0, 0, 0, ]\n",
    "vmaxs=[4, 4, 30, 0.012]\n",
    "\n",
    "ds1= ip_lmdz_pres_noirr\n",
    "ds2= ip_lmdz_fut_noirr\n",
    "ds3= ip_lmdz_fut_irr\n",
    "\n",
    "year_min, year_max = 2010, 2062\n",
    "\n",
    "ds_list = [ds1, ds2]\n",
    "if include_irr:\n",
    "    ds_list.append(ds3)\n",
    "    \n",
    "for var in vars:\n",
    "    title='off'\n",
    "    ylabel='{} ({})'.format(ds1[var].attrs['name'], ds1[var].attrs['units'])\n",
    "    # time_series_ave(ds_list, var,\n",
    "    #                 title=title,\n",
    "    #                 ylabel=ylabel,\n",
    "    #                 ds_colors=True,\n",
    "    #                 year_min=year_min, year_max=year_max)\n",
    "    \n",
    "    seasonal_cycle_ave(ds_list, var, \n",
    "                    title=title,\n",
    "                    ylabel=ylabel,\n",
    "                    ds_colors=True,\n",
    "                    year_min=year_min, year_max=year_max,\n",
    "                    # vmin=vmins[vars.index(var)],\n",
    "                    # vmax=vmaxs[vars.index(var)]\n",
    "                    )   \n",
    "    if savefig:\n",
    "        plt.savefig('figures/chap4/future/SC_{}_presfutirr.png'.format(var), bbox_inches='tight', dpi=300)"
   ]
  }
 ],
 "metadata": {
  "kernelspec": {
   "display_name": "lam1env",
   "language": "python",
   "name": "python3"
  },
  "language_info": {
   "codemirror_mode": {
    "name": "ipython",
    "version": 3
   },
   "file_extension": ".py",
   "mimetype": "text/x-python",
   "name": "python",
   "nbconvert_exporter": "python",
   "pygments_lexer": "ipython3",
   "version": "3.12.10"
  }
 },
 "nbformat": 4,
 "nbformat_minor": 2
}
