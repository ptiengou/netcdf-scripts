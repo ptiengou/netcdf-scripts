{
 "cells": [
  {
   "cell_type": "markdown",
   "metadata": {},
   "source": [
    "# Imports and setting up viz\n",
    "\n",
    "NB : conda lam1env (Python3.12)"
   ]
  },
  {
   "cell_type": "code",
   "execution_count": null,
   "metadata": {},
   "outputs": [],
   "source": [
    "%load_ext autoreload\n",
    "%autoreload 2\n",
    "%matplotlib inline\n",
    "\n",
    "#import personnal tools\n",
    "import sys\n",
    "sys.path.append('../../python_tools/')\n",
    "from tools import *\n",
    "from tools_mapping import *\n",
    "from tools_hf import *\n",
    "from tools_native import *\n",
    "from tools_LIAISE import *\n",
    "from tools_mesoNH import *\n",
    "\n",
    "# sys.path.append('../../python_tools/aborella/PLOTS/')\n",
    "# from datasets import *\n",
    "sys.path.append('../../python_tools/aborella/UTIL/')\n",
    "import xr_utils"
   ]
  },
  {
   "cell_type": "code",
   "execution_count": null,
   "metadata": {},
   "outputs": [],
   "source": [
    "psy.rcParams['auto_show'] = True\n",
    "mpl.rcParams['figure.figsize'] = [10., 8.]"
   ]
  },
  {
   "cell_type": "markdown",
   "metadata": {},
   "source": [
    "# Load files"
   ]
  },
  {
   "cell_type": "markdown",
   "metadata": {},
   "source": [
    "## LIAISE site obs"
   ]
  },
  {
   "cell_type": "code",
   "execution_count": null,
   "metadata": {},
   "outputs": [],
   "source": [
    "#load all July obs in one ds\n",
    "cen_mto_filename='../../../obs/LIAISE/LIAISE_LA-CENDROSA_CNRM_MTO-FLUX-30MIN_L2/LIAISE_LA-CENDROSA_CNRM_MTO-FLUX-30MIN_L2_2021-07*_V3.nc'\n",
    "cen_mto = format_Cendrosa_obs(cen_mto_filename)\n",
    "cen_mto"
   ]
  },
  {
   "cell_type": "code",
   "execution_count": null,
   "metadata": {},
   "outputs": [],
   "source": [
    "start_time = '2021-07-14T01:00:00'\n",
    "end_time = '2021-07-30T23:00:00'\n",
    "restrict_cen_mto = filter_xarray_by_timestamps(cen_mto, start_time, end_time)"
   ]
  },
  {
   "cell_type": "code",
   "execution_count": null,
   "metadata": {},
   "outputs": [],
   "source": [
    "filename =  '../../../obs/LIAISE/LIAISE_ELS-PLANS_UKMO_MTO-30MIN_L2/LIAISE_ELS-PLANS_UKMO_MTO-30MIN_L2_20210721_V4.0.dat'\n",
    "ds = dat_to_xarray(filename, 152, 153)\n",
    "els_mto_2107 = format_ElsPlans_obs(ds, start_day='2021-07-21')\n",
    "\n",
    "filename =  '../../../obs/LIAISE/LIAISE_ELS-PLANS_UKMO_MTO-30MIN_L2/LIAISE_ELS-PLANS_UKMO_MTO-30MIN_L2_20210722_V4.0.dat'\n",
    "ds = dat_to_xarray(filename, 152, 153)\n",
    "els_mto_2207 = format_ElsPlans_obs(ds, start_day='2021-07-22')"
   ]
  },
  {
   "cell_type": "code",
   "execution_count": null,
   "metadata": {},
   "outputs": [],
   "source": [
    "july_days=['01', '02', '03', '04', '05', '06', '07', '08', '09', '10', '11', '12', '13', '14', '15', '16', '17', '18', '19', '20', '21', '22', '23', '24', '25', '26', '27', '28', '29', '30', '31']\n",
    "for day in july_days:\n",
    "    filename =  '../../../obs/LIAISE/LIAISE_ELS-PLANS_UKMO_MTO-30MIN_L2/LIAISE_ELS-PLANS_UKMO_MTO-30MIN_L2_202107{}_V4.0.dat'.format(day)\n",
    "    ds = dat_to_xarray(filename, 152, 153)\n",
    "    day_els_mto = format_ElsPlans_obs(ds, start_day='2021-07-{}'.format(day))\n",
    "    if day=='01':\n",
    "        els_mto=day_els_mto\n",
    "    else:\n",
    "        els_mto=xr.concat([els_mto,day_els_mto],dim='time')\n",
    "els_mto"
   ]
  },
  {
   "cell_type": "code",
   "execution_count": null,
   "metadata": {},
   "outputs": [],
   "source": [
    "restrict_els_mto = filter_xarray_by_timestamps(els_mto, start_time, end_time)"
   ]
  },
  {
   "cell_type": "markdown",
   "metadata": {},
   "source": [
    "## MesoNH sim"
   ]
  },
  {
   "cell_type": "code",
   "execution_count": null,
   "metadata": {},
   "outputs": [],
   "source": [
    "mesoNH_dir = '../../../mesoNH_simulations'"
   ]
  },
  {
   "cell_type": "code",
   "execution_count": null,
   "metadata": {},
   "outputs": [],
   "source": [
    "def format_MesoNH_outputs_basic(filename, ds_name=None):\n",
    "    ds = xr.open_mfdataset(filename)\n",
    "    ds.attrs['name']= ds_name\n",
    "\n",
    "    rename_dict={\n",
    "        'time':'start_time',\n",
    "        'longitude':'lon',\n",
    "        'latitude':'lat'\n",
    "    }\n",
    "    ds = ds.rename(rename_dict)\n",
    "\n",
    "    # Add time coordinate\n",
    "    # Assuming 'time' coordinate is the starting time.\n",
    "    base_time = pd.to_datetime(ds[\"start_time\"].isel(start_time=0).item())\n",
    "    print(f\"Base time for the dataset: {base_time}\")\n",
    "    # Create a timedelta for each hour\n",
    "    hourly_offsets = pd.to_timedelta(ds[\"record\"].values, unit='h')\n",
    "    new_time_vals = base_time + hourly_offsets\n",
    "    # Assign new_time as a new coordinate, linked to the 'record' dimension\n",
    "    ds = ds.assign_coords(time=(\"record\", new_time_vals))\n",
    "    ds = ds.swap_dims({\"record\": \"time\"})\n",
    "    #drop start_time and record\n",
    "    ds = ds.drop_vars(['start_time'])\n",
    "    ds = ds.assign_coords(time_decimal=ds.time.dt.hour + ds.time.dt.minute / 60)\n",
    "\n",
    "    if 'LE_ISBA' in ds:\n",
    "        ds = ds.rename({'LE_ISBA': 'flat'})\n",
    "        ds['flat'].attrs['long_name'] = 'Latent Heat Flux on natural areas'\n",
    "        ds['flat'].attrs['units'] = 'W m⁻²'\n",
    "    if 'H_ISBA' in ds:\n",
    "        ds = ds.rename({'H_ISBA': 'sens'})\n",
    "        ds['sens'].attrs['long_name'] = 'Sensible Heat Flux on natural areas'\n",
    "        ds['sens'].attrs['units'] = 'W m⁻²'\n",
    "    if 'HU2M_ISBA' in ds:\n",
    "        ds['rh2m'] = ds['HU2M_ISBA'] * 100.0 \n",
    "        ds['rh2m'].attrs['long_name'] = 'Relative Humidity at 2m'\n",
    "        ds['rh2m'].attrs['units'] = '%'\n",
    "    if 'T2M_ISBA' in ds:\n",
    "        ds = ds.rename({'T2M_ISBA': 't2m'})\n",
    "        ds['t2m'] = ds['t2m'] - 273.15\n",
    "        ds['t2m'].attrs['units'] = '°C'\n",
    "        ds['t2m'].attrs['long_name'] = 'Temperature at 2m'\n",
    "    if 'SWD' in ds:\n",
    "        #remove dimension 'start_time' from SWD\n",
    "        ds['SWD'] = ds['SWD'].squeeze('start_time', drop=True)\n",
    "        ds = ds.rename({'SWD': 'SWdnSFC'})\n",
    "        ds['SWdnSFC'].attrs['long_name'] = 'Downward Shortwave Radiation at Surface'\n",
    "        ds['SWdnSFC'].attrs['units'] = 'W m⁻²'\n",
    "    if 'LWD' in ds:\n",
    "        #remove dimension 'start_time' from LWD\n",
    "        ds['LWD'] = ds['LWD'].squeeze('start_time', drop=True)\n",
    "    if 'LWU' in ds:\n",
    "        #remove dimension 'start_time' from LWU\n",
    "        ds['LWU'] = ds['LWU'].squeeze('start_time', drop=True)\n",
    "    if 'SWU' in ds:\n",
    "        #remove dimension 'start_time' from SWU\n",
    "        ds['SWU'] = ds['SWU'].squeeze('start_time', drop=True)\n",
    "    if 'HBLTOP' in ds:\n",
    "        #remove dimension 'start_time' from HBLTOP\n",
    "        ds['HBLTOP'] = ds['HBLTOP'].squeeze('start_time', drop=True)\n",
    "\n",
    "    # remove ds history attribute\n",
    "    if 'history' in ds.attrs:\n",
    "        del ds.attrs['history']\n",
    "\n",
    "    return(ds)"
   ]
  },
  {
   "cell_type": "code",
   "execution_count": null,
   "metadata": {},
   "outputs": [],
   "source": [
    "filename='{}/LIAIS.1*.nc'.format(mesoNH_dir)\n",
    "# filename='{}/LIAIS.1.UT10.nc'.format(mesoNH_dir)\n",
    "mesoNH = format_MesoNH_outputs_basic(filename)\n",
    "mesoNH"
   ]
  },
  {
   "cell_type": "code",
   "execution_count": null,
   "metadata": {},
   "outputs": [],
   "source": [
    "load_4D=True\n",
    "def format_MesoNH_outputs_4D(filename, ds_name=None):\n",
    "    ds = xr.open_mfdataset(filename)\n",
    "    ds.attrs['name']= ds_name\n",
    "\n",
    "\n",
    "    rename_dict={\n",
    "        'time':'start_time',\n",
    "        'longitude':'lon',\n",
    "        'latitude':'lat'\n",
    "    }\n",
    "    ds = ds.rename(rename_dict)\n",
    "\n",
    "    # Add time coordinate\n",
    "    # Assuming 'time' coordinate is the starting time.\n",
    "    base_time = pd.to_datetime(ds[\"start_time\"].isel(start_time=0).item())\n",
    "    print(f\"Base time for the dataset: {base_time}\")\n",
    "    #Create a timedelta for each hour\n",
    "    hourly_offsets = pd.to_timedelta(ds[\"record\"].values, unit='h')\n",
    "    new_time_vals = base_time + hourly_offsets\n",
    "    # Assign new_time as a new coordinate, linked to the 'record' dimension\n",
    "    ds = ds.assign_coords(time=(\"record\", new_time_vals))\n",
    "    ds = ds.swap_dims({\"record\": \"time\"})\n",
    "    #drop start_time\n",
    "    # ds = ds.drop_vars(['start_time'])\n",
    "    # ds = ds.drop_dims(['start_time'])\n",
    "    ds = ds.squeeze('start_time', drop=True)\n",
    "\n",
    "    # ds = ds.assign_coords(time_decimal=ds.time.dt.hour + ds.time.dt.minute / 60)\n",
    "\n",
    "    #remove ds history attribute\n",
    "    if 'history' in ds.attrs:\n",
    "        del ds.attrs['history']\n",
    "    return ds\n",
    "\n",
    "# if load_4D:\n",
    "# filename='{}/4D/LIAIS.1.SEG16.012subset_abl_6var.nc'.format(mesoNH_dir)\n",
    "filename='{}/4D/LIAIS.1.subset_abl_8vars.nc'.format(mesoNH_dir)\n",
    "\n",
    "mesoNH_4D = format_MesoNH_outputs_4D(filename)\n",
    "mesoNH_4D"
   ]
  },
  {
   "cell_type": "code",
   "execution_count": null,
   "metadata": {},
   "outputs": [],
   "source": [
    "mesoNH"
   ]
  },
  {
   "cell_type": "code",
   "execution_count": null,
   "metadata": {},
   "outputs": [],
   "source": [
    "#extract pressure at surface from mesoNH_4D and add it to mesoNH\n",
    "mesoNH = extract_pressure_surface(mesoNH_4D, mesoNH)\n",
    "#add specific humidity at 2m to mesoNH\n",
    "mesoNH = add_specific_humidity_2m(mesoNH, t2m_in_kelvin=False, psol_Pa=True)\n",
    "mesoNH"
   ]
  },
  {
   "cell_type": "markdown",
   "metadata": {},
   "source": [
    "## Subdataset for ICOLMDZ grid cells"
   ]
  },
  {
   "cell_type": "code",
   "execution_count": null,
   "metadata": {},
   "outputs": [],
   "source": [
    "mesoNH_elsplans_cell= subset_dataset_by_polygon(mesoNH, elsplans_cell, \n",
    "                                            name='mesoNH_mean',\n",
    "                                            plot_color='orange')\n",
    "mesoNH_cendrosa_cell= subset_dataset_by_polygon(mesoNH, cendrosa_cell, \n",
    "                                            name='mesoNH_mean',\n",
    "                                            plot_color='orange')"
   ]
  },
  {
   "cell_type": "code",
   "execution_count": null,
   "metadata": {},
   "outputs": [],
   "source": [
    "#select subdataset for precisely each site\n",
    "cendrosa_exact = select_dataset_lon_lat(mesoNH, \n",
    "                                        lon=Cendrosa_Longitude, lat=Cendrosa_Latitude, \n",
    "                                        name='mesoNH_exact',\n",
    "                                        plot_color='purple')"
   ]
  },
  {
   "cell_type": "code",
   "execution_count": null,
   "metadata": {},
   "outputs": [],
   "source": [
    "elsplans_exact = select_dataset_lon_lat(mesoNH, \n",
    "                                        lon=ElsPlans_Longitude, lat=ElsPlans_Latitude, \n",
    "                                        name='mesoNH_exact', \n",
    "                                        plot_color='purple')"
   ]
  },
  {
   "cell_type": "markdown",
   "metadata": {},
   "source": [
    "## Load LMDZ files"
   ]
  },
  {
   "cell_type": "code",
   "execution_count": null,
   "metadata": {},
   "outputs": [],
   "source": [
    "nat_dir='../../../JZ_simu_outputs/LAM/LAM_1500_60/halfhour_native'\n",
    "\n",
    "boost_irrig_dir= '../../../JZ_simu_outputs/LAM/LAM_1500_60/boost_irrig'"
   ]
  },
  {
   "cell_type": "code",
   "execution_count": null,
   "metadata": {},
   "outputs": [],
   "source": [
    "noirr=True\n",
    "irr100=True\n",
    "routing_restart_full_beta1=True\n"
   ]
  },
  {
   "cell_type": "code",
   "execution_count": null,
   "metadata": {},
   "outputs": [],
   "source": [
    "#load LMDZ\n",
    "if noirr:\n",
    "    lmdz_noirr_file = '{}/sim267_20210701_20210731_HF_histhf.nc'.format(nat_dir)\n",
    "    lmdz_noirr = format_lmdz_HF(lmdz_noirr_file, 'red', 'noirr')\n",
    "    lmdz_noirr = lmdz_noirr.sel(time=slice('2021-07-14', '2021-07-30'))\n",
    "    cen_lmdz_noirr, els_lmdz_noirr  , sop_cen_lmdz_noirr,   sop_els_lmdz_noirr = select_liaise_sites_sop(lmdz_noirr, 'no_irr')\n"
   ]
  },
  {
   "cell_type": "code",
   "execution_count": null,
   "metadata": {},
   "outputs": [],
   "source": [
    "if irr100:\n",
    "    dir=boost_irrig_dir\n",
    "    sim_name='sim275'\n",
    "    color='blue'\n",
    "    label='irr'\n",
    "\n",
    "    lmdz_irr100_file = '{}/{}_20210701_20210731_HF_histhf.nc'.format(dir, sim_name)\n",
    "    lmdz_irr100 = format_lmdz_HF(lmdz_irr100_file, color, label)\n",
    "    lmdz_irr100 = lmdz_irr100.sel(time=slice('2021-07-14', '2021-07-30'))\n",
    "    cen_lmdz_irr100, els_lmdz_irr100  , sop_cen_lmdz_irr100,   sop_els_lmdz_irr100 = select_liaise_sites_sop(lmdz_irr100, label)\n"
   ]
  },
  {
   "cell_type": "code",
   "execution_count": null,
   "metadata": {},
   "outputs": [],
   "source": [
    "if routing_restart_full_beta1 :\n",
    "    dir=boost_irrig_dir\n",
    "    sim_name='sim293'\n",
    "    color='green'\n",
    "    label='irr_boost'\n",
    "\n",
    "    lmdz_routingfull_beta1_file = '{}/{}_20210701_20210731_HF_histhf.nc'.format(dir, sim_name)\n",
    "    lmdz_routingfull_beta1 = format_lmdz_HF(lmdz_routingfull_beta1_file, color, label)\n",
    "    lmdz_routingfull_beta1 = lmdz_routingfull_beta1.sel(time=slice('2021-07-14', '2021-07-30'))\n",
    "    cen_lmdz_routingfull_beta1, els_lmdz_routingfull_beta1, sop_cen_lmdz_routingfull_beta1, sop_els_lmdz_routingfull_beta1 = select_liaise_sites_sop(lmdz_routingfull_beta1, label)"
   ]
  },
  {
   "cell_type": "markdown",
   "metadata": {},
   "source": [
    "# Tests"
   ]
  },
  {
   "cell_type": "markdown",
   "metadata": {},
   "source": [
    "## Maps"
   ]
  },
  {
   "cell_type": "code",
   "execution_count": null,
   "metadata": {},
   "outputs": [],
   "source": [
    "ds=mesoNH\n",
    "var='t2m'\n",
    "\n",
    "mean_ds = ds[var].mean(dim='time')\n",
    "# mean_ds = mean_ds[0,:,:]  # Select the specific level\n",
    "nice_map_mesoNH(mean_ds, poly=both_cells)"
   ]
  },
  {
   "cell_type": "code",
   "execution_count": null,
   "metadata": {},
   "outputs": [],
   "source": [
    "var='flat'\n",
    "vmin=0\n",
    "vmax=500\n",
    "# vmin,vmax=None, None\n",
    "cmap=blues\n",
    "map_mesoNH_timestamp_restrict(mesoNH, \n",
    "                     var,\n",
    "                     vmin=vmin, vmax=vmax, cmap=cmap,\n",
    "                     timestamp='2021-07-20T12:00:00',\n",
    "                     add_liaise=True,\n",
    "                    lon_min=0.6, \n",
    "                    lon_max=1.4, \n",
    "                    lat_min=41.37, \n",
    "                    lat_max=41.92,\n",
    "                    poly=both_cells\n",
    "                     )"
   ]
  },
  {
   "cell_type": "code",
   "execution_count": null,
   "metadata": {},
   "outputs": [],
   "source": [
    "#list of all variables names in mesoNH\n",
    "# mesoNH.data_vars.keys()\n",
    "varlist=['HBLTOP', 'sens', 'flat', 'rh2m', 't2m',  'LWD', 'LWU', 'SWdnSFC',\n",
    "          'SWI1_ISBA', 'SWI3_ISBA', 'TG1_ISBA', 'TG3_ISBA']"
   ]
  },
  {
   "cell_type": "code",
   "execution_count": null,
   "metadata": {},
   "outputs": [],
   "source": [
    "for var in varlist:\n",
    "    vmin=0\n",
    "    vmax=500\n",
    "    vmin,vmax=None, None\n",
    "    cmap=blues\n",
    "    map_mesoNH_timestamp_restrict(mesoNH, \n",
    "                        var,\n",
    "                        vmin=vmin, vmax=vmax, cmap=cmap,\n",
    "                        timestamp='2021-07-20T12:00:00',\n",
    "                        add_liaise=True,\n",
    "                        # lon_min=0.6, \n",
    "                        # lon_max=1.4, \n",
    "                        # lat_min=41.37, \n",
    "                        # lat_max=41.92,\n",
    "                        # poly=both_cells\n",
    "                        )"
   ]
  },
  {
   "cell_type": "code",
   "execution_count": null,
   "metadata": {},
   "outputs": [],
   "source": [
    "var='flat'\n",
    "vmin=-0\n",
    "vmax=200\n",
    "# vmin,vmax=None, None\n",
    "cmap=blues\n",
    "map_mesoNH_mean_restrict(mesoNH, \n",
    "                 var,\n",
    "                 vmin=vmin, vmax=vmax, cmap=cmap,\n",
    "                 title='ISBA latent heat flux mean (14-31 July)',\n",
    "                 add_liaise=True,\n",
    "                lon_min=0.6, \n",
    "                lon_max=1.4, \n",
    "                lat_min=41.37, \n",
    "                lat_max=41.92,\n",
    "                poly=both_cells,\n",
    "                label='Latent heat flux (W m⁻²)',\n",
    "                 )"
   ]
  },
  {
   "cell_type": "code",
   "execution_count": null,
   "metadata": {},
   "outputs": [],
   "source": [
    "map_mesoNH_timestamp(mesoNH_elsplans_cell,\n",
    "                 var='flat',\n",
    "                 vmin=0, vmax=250, cmap=myvir,\n",
    "                #  title='Latent Heat Flux mean (14-31/07/2021) in Ebro basin',\n",
    "                 add_liaise=True,\n",
    "                 timestamp='2021-07-20T12:00:00',\n",
    "                 )"
   ]
  },
  {
   "cell_type": "markdown",
   "metadata": {},
   "source": [
    "## Means and bins"
   ]
  },
  {
   "cell_type": "code",
   "execution_count": null,
   "metadata": {},
   "outputs": [],
   "source": [
    "ds=mesoNH_cendrosa_cell\n",
    "# ds=mesoNH_elsplans_cell\n",
    "timestamp='2021-07-20T12:00:00'\n",
    "var='sens'\n",
    "xmin=0\n",
    "xmax=550\n",
    "nbins=11\n",
    "bins_timestamp(ds, var, timestamp, nbins=nbins, xmin=xmin, xmax=xmax)"
   ]
  },
  {
   "cell_type": "code",
   "execution_count": null,
   "metadata": {},
   "outputs": [],
   "source": [
    "ds=mesoNH_cendrosa_cell\n",
    "ds=mesoNH_elsplans_cell\n",
    "# timestamp='2021-07-20T12:00:00'\n",
    "var='flat'\n",
    "xmin=0\n",
    "xmax=525\n",
    "nbins=21\n",
    "title='Distribution of mean latent heat flux at 12UTC (14-31/07/2021)'\n",
    "xlabel='Latent heat flux (W m⁻²)'\n",
    "bins_hour(ds, var, 12, nbins=nbins, xmin=xmin, xmax=xmax, \n",
    "          title=title, xlabel=xlabel)"
   ]
  },
  {
   "cell_type": "code",
   "execution_count": null,
   "metadata": {},
   "outputs": [],
   "source": [
    "vars=['flat', 'sens']\n",
    "ds1=cendrosa_exact\n",
    "ds2=mesoNH_cendrosa_cell\n",
    "ds3=cen_lmdz_noirr\n",
    "ds4=cen_lmdz_irr100\n",
    "ds5=cen_lmdz_routingfull_beta1\n",
    "ds6=cen_mto\n",
    "\n",
    "ds8=elsplans_exact\n",
    "ds9=mesoNH_elsplans_cell\n",
    "ds10=els_lmdz_noirr\n",
    "ds11=els_lmdz_irr100\n",
    "ds12=els_lmdz_routingfull_beta1\n",
    "ds13=els_mto\n",
    "\n",
    "for var in vars:\n",
    "    for ds in [ds1, ds2, ds3, ds4, ds5, ds6, ds8, ds9, ds10, ds11, ds12, ds13]:\n",
    "            mean = mean_value_hour(ds, var, 12)\n",
    "            print(f\"{ds.name} - {var} at 12 UTC: {mean:.2f} W m⁻²\")"
   ]
  },
  {
   "cell_type": "markdown",
   "metadata": {},
   "source": [
    "## Time series"
   ]
  },
  {
   "cell_type": "code",
   "execution_count": null,
   "metadata": {},
   "outputs": [],
   "source": [
    "var='t2m'\n",
    "ds=mesoNH\n",
    "vmin=0\n",
    "vmax=200\n",
    "vmin,vmax=None, None\n",
    "time_series_lonlat_mesoNH(ds, var, \n",
    "                          lon=ElsPlans_lon, \n",
    "                          lat=ElsPlans_lat,\n",
    "                          vmin=vmin, vmax=vmax\n",
    "                          )"
   ]
  },
  {
   "cell_type": "code",
   "execution_count": null,
   "metadata": {},
   "outputs": [],
   "source": [
    "var='sens'\n",
    "ds=mesoNH_cendrosa_cell\n",
    "ds=mesoNH_elsplans_cell\n",
    "vmin=0\n",
    "vmax=200\n",
    "vmin,vmax=None, None\n",
    "time_series_ave_mesoNH(ds, var, \n",
    "                    #    vmin=vmin, vmax=vmax\n",
    "                       )"
   ]
  },
  {
   "cell_type": "markdown",
   "metadata": {},
   "source": [
    "### TS and DC"
   ]
  },
  {
   "cell_type": "code",
   "execution_count": null,
   "metadata": {},
   "outputs": [],
   "source": [
    "var='q2m'\n",
    "ds1= cen_lmdz_noirr\n",
    "ds2= cen_lmdz_irr100\n",
    "ds3= cen_lmdz_routingfull_beta1\n",
    "ds4=mesoNH_cendrosa_cell\n",
    "ds5=cendrosa_exact\n",
    "ds6=restrict_cen_mto\n",
    "\n",
    "ds1= els_lmdz_noirr\n",
    "ds2= els_lmdz_irr100\n",
    "ds3= els_lmdz_routingfull_beta1\n",
    "ds4=mesoNH_elsplans_cell\n",
    "ds5=elsplans_exact\n",
    "ds6=restrict_els_mto\n",
    "\n",
    "ds4.attrs['show_envelope'] = True\n",
    "\n",
    "# ds1['q2m'].attrs['long_name'] = '2-m specific humidity'\n",
    "\n",
    "ds_list= [ds6, ds1, ds2, ds3, ds5, ds4]  \n",
    "# ds_list=[ds6, ds1, ds2, ds3]  \n",
    "ds_list=[ds6]\n",
    "\n",
    "# title=f'{ds1[var].attrs['long_name']} ({ds1[var].attrs['units']})'\n",
    "# if ds1[var].attrs['units'] == 'W m⁻²':\n",
    "#     title=f'{ds1[var].attrs[\"long_name\"]} (W m⁻²)'\n",
    "title='off'\n",
    "\n",
    "# ylabel = ds1[var].attrs['long_name'] + ' (' + ds1[var].attrs['units'] + ')'\n",
    "# ylabel = ds1[var].attrs['name'] + ' (' + ds1[var].attrs['units'] + ')'\n",
    "ylabel=var + ' (' + ds1[var].attrs['units'] + ')'"
   ]
  },
  {
   "cell_type": "code",
   "execution_count": null,
   "metadata": {},
   "outputs": [],
   "source": [
    "vmin=-0\n",
    "vmax=100\n",
    "vmin,vmax=None, None\n",
    "\n",
    "time_series_ave(ds_list, var, \n",
    "                vmin=vmin, vmax=vmax,\n",
    "                title=title,\n",
    "                legend_out=False,\n",
    "                xlabel='Date',\n",
    "                ylabel=ylabel,\n",
    "                ds_colors=True,\n",
    "                figsize=(7, 4),\n",
    "                envelope=False\n",
    "                )"
   ]
  },
  {
   "cell_type": "code",
   "execution_count": null,
   "metadata": {},
   "outputs": [],
   "source": [
    "vmin=0\n",
    "vmax=100\n",
    "vmin,vmax=None, None\n",
    "\n",
    "diurnal_cycle_ave(ds_list, var,\n",
    "                 vmin=vmin, vmax=vmax,\n",
    "                 title=title,\n",
    "                 legend_out=None,\n",
    "                 xlabel='Time (UTC)',\n",
    "                 ylabel=ylabel,\n",
    "                 ds_colors=True,\n",
    "                figsize=(4,4),\n",
    "                envelope=True\n",
    "                 )"
   ]
  },
  {
   "cell_type": "markdown",
   "metadata": {},
   "source": [
    "# Figures"
   ]
  },
  {
   "cell_type": "markdown",
   "metadata": {},
   "source": [
    "## Surface variables on both sites, time series and mean diurnal cycle (15-31/07)"
   ]
  },
  {
   "cell_type": "markdown",
   "metadata": {},
   "source": [
    "### La Cendrosa"
   ]
  },
  {
   "cell_type": "code",
   "execution_count": null,
   "metadata": {},
   "outputs": [],
   "source": [
    "savefig=True\n",
    "plot_TS=True\n",
    "plot_DC=True\n",
    "\n",
    "varlist=['flat', 'sens', 't2m']\n",
    "varlist=['q2m']\n",
    "\n",
    "ds1= cen_lmdz_noirr\n",
    "ds2= cen_lmdz_irr100\n",
    "ds3= cen_lmdz_routingfull_beta1\n",
    "ds4=mesoNH_cendrosa_cell\n",
    "ds4.attrs['show_envelope'] = True\n",
    "ds5=cendrosa_exact\n",
    "ds6=restrict_cen_mto\n",
    "ds_list= [ds6, ds1, ds2, ds3, ds5, ds4]  \n",
    "\n",
    "title='off'\n",
    "\n",
    "#TS\n",
    "mins=[0,-150,15,0]\n",
    "maxs=[700,450,35,0.015]\n",
    "for var in varlist:\n",
    "    if not plot_TS:\n",
    "        break\n",
    "    ylabel = ds1[var].attrs['long_name'] + ' (' + ds1[var].attrs['units'] + ')'\n",
    "    vmin=mins[varlist.index(var)]\n",
    "    vmax=maxs[varlist.index(var)]\n",
    "    vmin,vmax=None, None\n",
    "    time_series_ave(ds_list, var, \n",
    "                    vmin=vmin, vmax=vmax,\n",
    "                    title=title,\n",
    "                    legend_out=None,\n",
    "                    xlabel='Date',\n",
    "                    ylabel=ylabel,\n",
    "                    ds_colors=True,\n",
    "                    figsize=(7, 4),\n",
    "                    envelope=False\n",
    "                    )\n",
    "    if savefig:\n",
    "        plt.savefig(f'figures/chap5/time_series_cendrosa_{var}.png', dpi=300)\n",
    "\n",
    "#DC\n",
    "mins=[0,-150,15,0]\n",
    "maxs=[520,420,35,0.015]\n",
    "for var in varlist:\n",
    "    if not plot_DC:\n",
    "        break\n",
    "    ylabel = ds1[var].attrs['long_name'] + ' (' + ds1[var].attrs['units'] + ')'\n",
    "    vmin=mins[varlist.index(var)]\n",
    "    vmax=maxs[varlist.index(var)]\n",
    "    vmin,vmax=None, None\n",
    "    diurnal_cycle_ave(ds_list, var,\n",
    "                     vmin=vmin, vmax=vmax,\n",
    "                     title=title,\n",
    "                     legend_out=True,\n",
    "                    #  xlabel='Time (UTC)',\n",
    "                     ylabel=ylabel,\n",
    "                     ds_colors=True,\n",
    "                    figsize=(4,4),\n",
    "                    envelope=True\n",
    "                     )\n",
    "    if savefig:\n",
    "        plt.savefig(f'figures/chap5/diurnal_cycle_cendrosa_{var}.png', dpi=300, bbox_inches='tight')"
   ]
  },
  {
   "cell_type": "code",
   "execution_count": null,
   "metadata": {},
   "outputs": [],
   "source": [
    "#no mesoNH\n",
    "savefig=True\n",
    "plot_TS=False\n",
    "plot_DC=True\n",
    "\n",
    "varlist=['wind_speed_10m', 'wind_direction_10m']\n",
    "\n",
    "ds1= cen_lmdz_noirr\n",
    "ds2= cen_lmdz_irr100\n",
    "ds3= cen_lmdz_routingfull_beta1\n",
    "ds6=restrict_cen_mto\n",
    "ds_list= [ds6, ds1, ds2, ds3]  \n",
    "\n",
    "title='off'\n",
    "\n",
    "#TS\n",
    "for var in varlist:\n",
    "    if not plot_TS:\n",
    "        break\n",
    "    ylabel = ds1[var].attrs['long_name'] + ' (' + ds1[var].attrs['units'] + ')'\n",
    "    vmin=mins[varlist.index(var)]\n",
    "    vmax=maxs[varlist.index(var)]\n",
    "    vmin,vmax=None, None\n",
    "    time_series_ave(ds_list, var, \n",
    "                    vmin=vmin, vmax=vmax,\n",
    "                    title=title,\n",
    "                    legend_out=None,\n",
    "                    xlabel='Date',\n",
    "                    ylabel=ylabel,\n",
    "                    ds_colors=True,\n",
    "                    figsize=(7, 4),\n",
    "                    envelope=False\n",
    "                    )\n",
    "    if savefig:\n",
    "        plt.savefig(f'figures/chap5/time_series_cendrosa_{var}.png', dpi=300)\n",
    "\n",
    "#DC\n",
    "for var in varlist:\n",
    "    if not plot_DC:\n",
    "        break\n",
    "    ylabel = ds1[var].attrs['long_name'] + ' (' + ds1[var].attrs['units'] + ')'\n",
    "    vmin=mins[varlist.index(var)]\n",
    "    vmax=maxs[varlist.index(var)]\n",
    "    vmin,vmax=None, None\n",
    "    diurnal_cycle_ave(ds_list, var,\n",
    "                     vmin=vmin, vmax=vmax,\n",
    "                     title=title,\n",
    "                     legend_out=True,\n",
    "                    #  xlabel='Time (UTC)',\n",
    "                     ylabel=ylabel,\n",
    "                     ds_colors=True,\n",
    "                    figsize=(4,4),\n",
    "                    envelope=True\n",
    "                     )\n",
    "    if savefig:\n",
    "        plt.savefig(f'figures/chap5/diurnal_cycle_cendrosa_{var}.png', dpi=300  , bbox_inches='tight')"
   ]
  },
  {
   "cell_type": "markdown",
   "metadata": {},
   "source": [
    "### Els Plans"
   ]
  },
  {
   "cell_type": "code",
   "execution_count": null,
   "metadata": {},
   "outputs": [],
   "source": [
    "savefig=True\n",
    "plot_TS=True\n",
    "plot_DC=True\n",
    "\n",
    "varlist=['flat', 'sens', 't2m', 'rh2m']\n",
    "varlist=['q2m']\n",
    "\n",
    "ds1= els_lmdz_noirr\n",
    "ds2= els_lmdz_irr100\n",
    "ds3= els_lmdz_routingfull_beta1\n",
    "ds4=mesoNH_elsplans_cell\n",
    "ds4.attrs['show_envelope'] = True\n",
    "ds5=elsplans_exact\n",
    "ds6=restrict_els_mto\n",
    "ds_list= [ds6, ds1, ds2, ds3, ds5, ds4]\n",
    "\n",
    "title='off'\n",
    "#TS\n",
    "mins=[0,-150,15,0]\n",
    "maxs=[700,450,35,0.015]\n",
    "for var in varlist:\n",
    "    if not plot_TS:\n",
    "        break\n",
    "    ylabel = ds1[var].attrs['long_name'] + ' (' + ds1[var].attrs['units'] + ')'\n",
    "    vmin=mins[varlist.index(var)]\n",
    "    vmax=maxs[varlist.index(var)]\n",
    "    vmin,vmax=None, None\n",
    "    time_series_ave(ds_list, var, \n",
    "                    vmin=vmin, vmax=vmax,\n",
    "                    title=title,\n",
    "                    legend_out=None,\n",
    "                    xlabel='Date',\n",
    "                    ylabel=ylabel,\n",
    "                    ds_colors=True,\n",
    "                    figsize=(7, 4),\n",
    "                    envelope=False\n",
    "                    )\n",
    "    if savefig:\n",
    "        plt.savefig(f'figures/chap5/time_series_elsplans_{var}.png', dpi=300)\n",
    "#DC\n",
    "mins=[0,-150,15,0]\n",
    "maxs=[520,420,35,0.015]\n",
    "for var in varlist:\n",
    "    if not plot_DC:\n",
    "        break\n",
    "    ylabel = ds1[var].attrs['long_name'] + ' (' + ds1[var].attrs['units'] + ')'\n",
    "    vmin=mins[varlist.index(var)]\n",
    "    vmax=maxs[varlist.index(var)]\n",
    "    vmin,vmax=None, None\n",
    "    diurnal_cycle_ave(ds_list, var,\n",
    "                     vmin=vmin, vmax=vmax,\n",
    "                     title=title,\n",
    "                     legend_out=True,\n",
    "                    #  xlabel='Time (UTC)',\n",
    "                     ylabel=ylabel,\n",
    "                     ds_colors=True,\n",
    "                    figsize=(4,4),\n",
    "                    envelope=True\n",
    "                     )\n",
    "    if savefig:\n",
    "        plt.savefig(f'figures/chap5/diurnal_cycle_elsplans_{var}.png', dpi=300, bbox_inches='tight')"
   ]
  }
 ],
 "metadata": {
  "kernelspec": {
   "display_name": "lam1env",
   "language": "python",
   "name": "python3"
  },
  "language_info": {
   "codemirror_mode": {
    "name": "ipython",
    "version": 3
   },
   "file_extension": ".py",
   "mimetype": "text/x-python",
   "name": "python",
   "nbconvert_exporter": "python",
   "pygments_lexer": "ipython3",
   "version": "3.12.10"
  }
 },
 "nbformat": 4,
 "nbformat_minor": 2
}
