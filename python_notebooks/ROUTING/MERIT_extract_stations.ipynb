{
 "cells": [
  {
   "cell_type": "markdown",
   "metadata": {},
   "source": [
    "# Imports and setting up viz\n",
    "\n",
    "NB : conda env1 on Mac, lam1env on spirit (Python3.12)"
   ]
  },
  {
   "cell_type": "code",
   "execution_count": null,
   "metadata": {},
   "outputs": [],
   "source": [
    "%load_ext autoreload\n",
    "%autoreload 2\n",
    "%matplotlib inline\n",
    "\n",
    "#import personnal tools\n",
    "import sys\n",
    "sys.path.append('../../python_tools/')\n",
    "from tools import *"
   ]
  },
  {
   "cell_type": "markdown",
   "metadata": {},
   "source": [
    "# Load files\n",
    "\n",
    "Jan Polcher file, .nc and .csv\n",
    "\n",
    "Newly extracted file GRDC-Monthly_Spain (csv generated locally)\n",
    "\n"
   ]
  },
  {
   "cell_type": "code",
   "execution_count": null,
   "metadata": {},
   "outputs": [],
   "source": [
    "obs_dir='../../../obs/streamflow'"
   ]
  },
  {
   "cell_type": "code",
   "execution_count": null,
   "metadata": {},
   "outputs": [],
   "source": [
    "filename='{}/GRDC_Monthly_Jan20_v1_ES.nc'.format(obs_dir)\n",
    "# filename='/home/ptiengou/Desktop/obs/streamflow/GRDC-Monthly_1.nc'\n",
    "stations_JP = xr.open_dataset(filename)\n",
    "stations_JP"
   ]
  },
  {
   "cell_type": "code",
   "execution_count": null,
   "metadata": {},
   "outputs": [],
   "source": [
    "# load csv file \n",
    "filename = '{}/GRDC_stations_MERIT_ES.csv'.format(obs_dir)\n",
    "csv_JP = pd.read_csv(filename)\n",
    "csv_JP"
   ]
  },
  {
   "cell_type": "code",
   "execution_count": null,
   "metadata": {},
   "outputs": [],
   "source": [
    "# file with recent data\n",
    "filename = '{}/GRDC-Monthly_Spain.nc'.format(obs_dir)\n",
    "obs= xr.open_dataset(filename)\n",
    "obs"
   ]
  },
  {
   "cell_type": "markdown",
   "metadata": {},
   "source": [
    "## Create files csv <--> netcdf"
   ]
  },
  {
   "cell_type": "code",
   "execution_count": null,
   "metadata": {},
   "outputs": [],
   "source": [
    "#list all station names and id in a file\n",
    "# filename='/home/ptiengou/Desktop/obs/streamflow/GRDC-Monthly_Spain.csv'\n",
    "# obs.to_dataframe().to_csv(filename)"
   ]
  },
  {
   "cell_type": "code",
   "execution_count": null,
   "metadata": {},
   "outputs": [],
   "source": [
    "# extract subset of stations file where country contains ES\n",
    "# mask = (stations['country']==b'ES')\n",
    "# stations_ES = stations.sel(stations=mask)\n",
    "# stations_ES\n",
    "\n",
    "# print stations_ES to netcdf\n",
    "# stations_ES.to_netcdf('../obs/GRDC_Monthly_Jan20_v1_ES.nc')"
   ]
  },
  {
   "cell_type": "markdown",
   "metadata": {},
   "source": [
    "# Create dict from available data"
   ]
  },
  {
   "cell_type": "code",
   "execution_count": null,
   "metadata": {},
   "outputs": [],
   "source": [
    "#drop lines from csv_JP if lat_grid or lon_grid is nan\n",
    "csv_JP = csv_JP.dropna(subset=['Lat_Grid', 'Lon_Grid'])\n",
    "csv_JP"
   ]
  },
  {
   "cell_type": "code",
   "execution_count": null,
   "metadata": {},
   "outputs": [],
   "source": [
    "#keep only stations if id is present in obs\n",
    "mask = csv_JP['number'].isin(obs['id'].values)\n",
    "# mask = csv_JP['name'].isin(obs['station_name'].values)\n",
    "masked_csv_JP = csv_JP[mask]\n",
    "masked_csv_JP"
   ]
  },
  {
   "cell_type": "code",
   "execution_count": null,
   "metadata": {},
   "outputs": [],
   "source": [
    "# create dict with station id as key and name, river, lat_grid, lon_grid\n",
    "stations_merit_fromcsv = {}\n",
    "for index, row in masked_csv_JP.iterrows():\n",
    "    stations_merit_fromcsv[row['number']] = {'name': row['name'], 'river': row['river'], 'lat_grid': row['Lat_Grid'], 'lon_grid': row['Lon_Grid'], 'last_record': row['LastRecord']}\n",
    "stations_merit_fromcsv"
   ]
  },
  {
   "cell_type": "code",
   "execution_count": null,
   "metadata": {},
   "outputs": [],
   "source": [
    "stations_map_dict(stations_merit_fromcsv, river_cond=None, legend=False)"
   ]
  },
  {
   "cell_type": "code",
   "execution_count": null,
   "metadata": {},
   "outputs": [],
   "source": [
    "#print dict in a file\n",
    "filename = '{}/stations_merit_dict_fromcsv_ES.txt'.format(obs_dir)\n",
    "with open(filename, 'w') as f:\n",
    "    print(stations_merit_fromcsv, file=f)"
   ]
  },
  {
   "cell_type": "code",
   "execution_count": null,
   "metadata": {},
   "outputs": [],
   "source": [
    "# dict with id name, lon lat for a subset of stations (from JP csv)\n",
    "# stations_merit = {\n",
    "#     6298992: {'name': 'Albarreal De Tajo',  'river': 'Tajo', 'lon_grid':-4.17499303817749, 'lat_grid':39.891666412353516, 'year_min':1982, 'year_max':2021 },\n",
    "#     6298249: {'name': 'Zaragoza',  'river': 'Ebro', 'lon_grid':-0.8749926686286926, 'lat_grid':41.65833282470703, 'year_min':1982, 'year_max':2021},\n",
    "#     6298481: {'name': 'San Miguel del Pino', 'river': 'Duero', 'lon_grid':-4.92499303817749, 'lat_grid':41.508331298828125, 'year_min':1982, 'year_max':2021},\n",
    "#     # 6298564: {'name': 'Villanueva de Azoague', 'lon_grid':-5.641659736633301, 'lat_grid':41.974998474121094, 'year_min':1982, 'year_max':2010},\n",
    "#     # 6299121:{'name': 'Orellana La Vieja', 'river': ' Guadiana', 'lat_grid': 38.99166488647461, 'lon_grid': -5.541659832000732, 'last_record': '2013-09-15'},\n",
    "#     6298259:{'name': 'Badajoz', 'river': 'Guadiana', 'lat_grid': 38.85833358764648, 'lon_grid': -7.008326530456543, 'last_record': '2013-09-15', 'year_min':1996, 'year_max':2021},\n",
    "#     # 6298071:{'name': 'Constantina', 'river': ' Guadalquivir', 'lat_grid': 37.77499771118164, 'lon_grid': -5.691659450531006, 'last_record': '2013-09-15', 'year_min':1994, 'year_max':2009},\n",
    "#     # 6299029:{'name': 'Santiago-Pontones', 'river': ' Guadalquivir', 'lat_grid': 38.17499923706055, 'lon_grid': -2.791659355163574, 'last_record': '2013-09-15'},\n",
    "#     # # 6298149:{'name': 'Lucena', 'river': ' Guadalquivir', 'lat_grid': 37.29166412353516, 'lon_grid': -4.67499303817749, 'last_record': '2009-04-15'},\n",
    "#     # # 6298597:{'name': 'Guejar Sierra', 'river': ' Guadalquivir', 'lat_grid': 37.15833282470703, 'lon_grid': -3.474992752075196, 'last_record': '2012-09-15'},\n",
    "#     # 6298606:{'name': 'Pozo Alcon', 'river': ' Guadalquivir', 'lat_grid': 37.758331298828125, 'lon_grid': -2.9083261489868164, 'last_record': '2013-09-15'},\n",
    "#     # # 6298731:{'name': 'Valdepenas De Jaen', 'river': ' Guadalquivir', 'lat_grid': 37.625, 'lon_grid': -3.7249927520751953, 'last_record': '2013-09-15'},\n",
    "#     # 6299108:{'name': 'Hornachuelos', 'river': ' Guadalquivir', 'lat_grid': 37.90833282470703, 'lon_grid': -5.20832633972168, 'last_record': '2013-09-15'},\n",
    "#     # 6299220:{'name': 'Villacarrillo', 'river': ' Guadalquivir', 'lat_grid': 38.04166412353516, 'lon_grid': -2.9583261013031006, 'last_record': '2013-09-15'},\n",
    "# }\n",
    "\n",
    "stations_merit = {\n",
    "    6298992: {'name': 'Albarreal De Tajo',  'river': 'Tajo', 'lon_grid':-4.17499303817749, 'lat_grid':39.891666412353516, 'year_min':2010, 'year_max':2021 },\n",
    "    6298249: {'name': 'Zaragoza',  'river': 'Ebro', 'lon_grid':-0.8749926686286926, 'lat_grid':41.65833282470703, 'year_min':2010, 'year_max':2021},\n",
    "    6298481: {'name': 'San Miguel del Pino', 'river': 'Duero', 'lon_grid':-4.92499303817749, 'lat_grid':41.508331298828125, 'year_min':2010, 'year_max':2021},\n",
    "    6298259:{'name': 'Badajoz', 'river': 'Guadiana', 'lat_grid': 38.85833358764648, 'lon_grid': -7.008326530456543, 'last_record': '2013-09-15', 'year_min':2010, 'year_max':2021},\n",
    "    6298564: {'name': 'Villanueva de Azoague', 'lon_grid':-5.641659736633301, 'lat_grid':41.974998474121094, 'year_min':2010, 'year_max':2010},\n",
    "    6299121:{'name': 'Orellana La Vieja', 'river': ' Guadiana', 'lat_grid': 38.99166488647461, 'lon_grid': -5.541659832000732, 'last_record': '2013-09-15'},\n",
    "    6298071:{'name': 'Constantina', 'river': ' Guadalquivir', 'lat_grid': 37.77499771118164, 'lon_grid': -5.691659450531006, 'last_record': '2013-09-15', 'year_min':2010, 'year_max':2009},\n",
    "    6299029:{'name': 'Santiago-Pontones', 'river': ' Guadalquivir', 'lat_grid': 38.17499923706055, 'lon_grid': -2.791659355163574, 'last_record': '2013-09-15'},\n",
    "    6298149:{'name': 'Lucena', 'river': ' Guadalquivir', 'lat_grid': 37.29166412353516, 'lon_grid': -4.67499303817749, 'last_record': '2009-04-15'},\n",
    "    6298597:{'name': 'Guejar Sierra', 'river': ' Guadalquivir', 'lat_grid': 37.15833282470703, 'lon_grid': -3.474992752075196, 'last_record': '2012-09-15'},\n",
    "    6298606:{'name': 'Pozo Alcon', 'river': ' Guadalquivir', 'lat_grid': 37.758331298828125, 'lon_grid': -2.9083261489868164, 'last_record': '2013-09-15'},\n",
    "    6298731:{'name': 'Valdepenas De Jaen', 'river': 'Guadalquivir', 'lat_grid': 37.625, 'lon_grid': -3.7249927520751953, 'last_record': '2013-09-15'},\n",
    "    6299108:{'name': 'Hornachuelos', 'river': ' Guadalquivir', 'lat_grid': 37.90833282470703, 'lon_grid': -5.20832633972168, 'last_record': '2013-09-15'},\n",
    "    6299220:{'name': 'Villacarrillo', 'river': ' Guadalquivir', 'lat_grid': 38.04166412353516, 'lon_grid': -2.9583261013031006, 'last_record': '2013-09-15'},\n",
    "}"
   ]
  },
  {
   "cell_type": "markdown",
   "metadata": {},
   "source": [
    "# Time series and seasonnal cycles"
   ]
  },
  {
   "cell_type": "code",
   "execution_count": null,
   "metadata": {},
   "outputs": [],
   "source": [
    "list(stations_dict_filtered.keys())"
   ]
  },
  {
   "cell_type": "code",
   "execution_count": null,
   "metadata": {},
   "outputs": [],
   "source": [
    "#create a subdataset from obs with stations that are in dict stations_dict_filtered\n",
    "obs_filtered = obs.sel(id=(list(stations_dict_filtered.keys())))\n",
    "obs_filtered"
   ]
  },
  {
   "cell_type": "code",
   "execution_count": null,
   "metadata": {},
   "outputs": [],
   "source": [
    "#remove id when there is no data after 2010 in runoff_mean\n",
    "for id in list(stations_dict_filtered.keys()):\n",
    "    if id in obs_filtered['id'].values:\n",
    "        if obs_filtered.sel(id=id)['runoff_mean'].dropna('time').time[-1].dt.year < 2010:\n",
    "            del stations_dict_filtered[id]\n"
   ]
  },
  {
   "cell_type": "code",
   "execution_count": null,
   "metadata": {},
   "outputs": [],
   "source": [
    "#plot a time series for each station from station_dict_filtered\n",
    "fig, axes= plt.subplots(8,4, figsize=(30,50))\n",
    "axes= axes.flatten()\n",
    "for i, (station_id, station) in enumerate(stations_dict_filtered.items()):\n",
    "    nice_ts_station(obs,axes[i], station_id, name=station['name'], year_min=2010)"
   ]
  },
  {
   "cell_type": "code",
   "execution_count": null,
   "metadata": {},
   "outputs": [],
   "source": [
    "#plot time series of mergedhydro for a selected station\n",
    "station_id = 6299001\n",
    "mask = (stations_JP['id'] == station_id)\n",
    "station = stations.sel(stations=mask)\n",
    "station = station.where((stations['time.year'] >= 1981), drop=True)\n",
    "plt.figure(figsize=(15, 5))\n",
    "plt.plot(station['time'], station['mergedhydro'], label='GRDC')\n",
    "#print dict row for the selected station\n",
    "# print (str(station_id) + ':' + str(stations_merit_csv[station_id]) + ',')"
   ]
  },
  {
   "cell_type": "code",
   "execution_count": null,
   "metadata": {},
   "outputs": [],
   "source": [
    "# visualize time series for selected stations\n",
    "fig, ax = plt.subplots(2, 2, figsize=(25, 10))\n",
    "ax = ax.flatten()\n",
    "for i, (key, coordinates) in enumerate(stations_merit.items()):\n",
    "    mask = (stations['number'] == key)\n",
    "    station = stations.sel(stations=mask)\n",
    "    #remove years\n",
    "    year_min=2010\n",
    "    year_max=2021\n",
    "    # station = station.where((station['time.year'] >= coordinates['year_min']), drop=True)\n",
    "    # station = station.where((station['time.year'] <= coordinates['year_max']), drop=True)\n",
    "    station = station.where((station['time.year'] >= year_min), drop=True)\n",
    "    station = station.where((station['time.year'] <= year_max), drop=True)\n",
    "    ax[i].plot(station['time'],station['mergedhydro'], label='obs', c='black')\n",
    "    ax[i].set_title(coordinates['name'])\n",
    "    ax[i].set_ylabel('discharge [m3/s]')\n",
    "    ax[i].legend()"
   ]
  },
  {
   "cell_type": "code",
   "execution_count": null,
   "metadata": {},
   "outputs": [],
   "source": [
    "# visualize seasonnal cycle for selected stations\n",
    "fig, ax = plt.subplots(2, 2, figsize=(20, 10))\n",
    "for i, (key, coordinates) in enumerate(stations_merit.items()):\n",
    "    mask = (stations['number'] == key)\n",
    "    station = stations.sel(stations=mask)\n",
    "    ax = ax.flatten()\n",
    "    #remove years before 2003 and after 2012\n",
    "    station = station.where((station['time.year'] >= coordinates['year_min']), drop=True)\n",
    "    station = station.where((station['time.year'] <= coordinates['year_max']), drop=True)\n",
    "    station = station.groupby('time.month').mean()\n",
    "    ax[i].set_title(coordinates['name'])\n",
    "    ax[i].plot(station['month'],station['mergedhydro'], label='obs', c='black')\n",
    "    ax[i].set_ylabel('discharge [m3/s]')\n",
    "    #set Y minimum to 0\n",
    "    ax[i].set_ylim(bottom=0)\n",
    "    #add months name to x-axis ticks\n",
    "    months=['Jan','Feb','Mar','Apr','May','Jun','Jul','Aug','Sep','Oct','Nov','Dec']\n",
    "    ax[i].set_xticks(np.arange(1,13))\n",
    "    ax[i].set_xticklabels(months)\n",
    "    ax[i].legend()\n",
    "plt.tight_layout()"
   ]
  },
  {
   "cell_type": "code",
   "execution_count": null,
   "metadata": {},
   "outputs": [],
   "source": [
    "# seasonnal cycle for one station\n",
    "station_id=6298259\n",
    "mask = (stations['number'] == station_id)\n",
    "station = stations.sel(stations=mask)\n",
    "ds1=natDIAG_R\n",
    "ds2=natDIAG_Rirr\n",
    "# ds3=natDIAG_Rirr06\n",
    "lon = stations_merit[station_id]['lon_grid']\n",
    "lat = stations_merit[station_id]['lat_grid']\n",
    "name = stations_merit[station_id]['name']\n",
    "year_min = stations_merit[station_id]['year_min']\n",
    "year_max = stations_merit[station_id]['year_max']\n",
    "min_date='{}-01-01'.format(year_min)\n",
    "max_date='{}-12-31'.format(year_max)\n",
    "river=stations_merit[station_id]['river']\n",
    "\n",
    "plt.figure(figsize=(10, 5))\n",
    "\n",
    "station = station.where((station['time.year'] >= year_min), drop=True)\n",
    "station = station.where((station['time.year'] <= year_max), drop=True)\n",
    "station = station.groupby('time.month').mean()\n",
    "plt.plot(station['month'],station['mergedhydro'], label='obs', c='black')\n",
    "\n",
    "var1=ds1['hydrographs']\n",
    "var2=ds2['hydrographs']\n",
    "# var3=ds3['hydrographs']\n",
    "var1=var1.sel(time=slice(min_date, max_date))\n",
    "var2=var2.sel(time=slice(min_date, max_date))\n",
    "# var3=var3.sel(time=slice(min_date, max_date))\n",
    "var1.sel(lon=lon, lat=lat, method='nearest').groupby('time.month').mean(dim='time').plot(label=ds1.attrs['name'])\n",
    "var2.sel(lon=lon, lat=lat, method='nearest').groupby('time.month').mean(dim='time').plot(label=ds2.attrs['name'])\n",
    "# var3.sel(lon=lon, lat=lat, method='nearest').groupby('time.month').mean(dim='time').plot(label=ds3.attrs['name'])\n",
    "\n",
    "plt.xlabel('')\n",
    "plt.ylabel('')\n",
    "plt.legend()\n",
    "plt.title('Station {} on {} ({}-{})'.format(name, river, year_min, year_max))"
   ]
  },
  {
   "cell_type": "code",
   "execution_count": null,
   "metadata": {},
   "outputs": [],
   "source": [
    "# visualize time series for selected stations on a single plot\n",
    "fig, ax = plt.subplots(figsize=(25, 10))\n",
    "for i, (key, coordinates) in enumerate(stations_merit.items()):\n",
    "    mask = (stations['number'] == key)\n",
    "    station = stations.sel(stations=mask)\n",
    "    #remove years\n",
    "    year_min=2010\n",
    "    year_max=2021\n",
    "    # station = station.where((station['time.year'] >= coordinates['year_min']), drop=True)\n",
    "    # station = station.where((station['time.year'] <= coordinates['year_max']), drop=True)\n",
    "    station = station.where((station['time.year'] >= year_min), drop=True)\n",
    "    station = station.where((station['time.year'] <= year_max), drop=True)\n",
    "    ax.plot(station['time'],station['mergedhydro'], label='')\n",
    "    ax.set_title(coordinates['name'])\n",
    "    ax.set_ylabel('discharge [m3/s]')\n",
    "    ax.legend()"
   ]
  },
  {
   "cell_type": "code",
   "execution_count": null,
   "metadata": {},
   "outputs": [],
   "source": [
    "#Average time series\n",
    "var='hydrographs'\n",
    "ds1=natDIAG_R\n",
    "ds2=natDIAG_Rirr\n",
    "fig = plt.figure(figsize=(10, 6))\n",
    "ax = plt.axes()\n",
    "ax.grid()\n",
    "ds1[var].mean(dim=['lon','lat']).plot(ax=ax, label=ds1.name)\n",
    "ds2[var].mean(dim=['lon','lat']).plot(ax=ax, label=ds2.name)\n",
    "plt.title(var)\n",
    "plt.legend()"
   ]
  },
  {
   "cell_type": "code",
   "execution_count": null,
   "metadata": {},
   "outputs": [],
   "source": [
    "#Time series\n",
    "year_min=2003\n",
    "year_max=2012\n",
    "# # Guadalquivir\n",
    "lon=-6.34\n",
    "lat=36.79\n",
    "\n",
    "var=\"hydrographs\"\n",
    "ds1=std\n",
    "ds1 = ds1.where(ds1['time.year'] >= year_min, drop=True).where(ds1['time.year'] <= year_max, drop=True)\n",
    "ds2=natDIAG_R\n",
    "ds2 = ds2.where(ds2['time.year'] >= year_min, drop=True).where(ds2['time.year'] <= year_max, drop=True)\n",
    "#plot the time series of hydrographs at the point (lon,lat)\n",
    "fig = plt.figure(figsize=(10, 6))\n",
    "ax = plt.axes()\n",
    "ax.grid()\n",
    "ax.set_ylabel('hydrographs')\n",
    "# ds1[var].sel(lon=lon, lat=lat, method='nearest').plot(ax=ax, label=ds1.name)\n",
    "ds2[var].sel(lon=lon, lat=lat, method='nearest').plot(ax=ax, label=ds2.name)\n",
    "# ds2['runoff'].sel(lon=lon, lat=lat, method='nearest').plot(ax=ax, label='runoff')\n",
    "plt.title('hydrographs at (' + str(lon) + ',' + str(lat) + '), m³/s')\n",
    "plt.legend()"
   ]
  },
  {
   "cell_type": "code",
   "execution_count": null,
   "metadata": {},
   "outputs": [],
   "source": [
    "#Time series\n",
    "year_min=2003\n",
    "year_max=2012\n",
    "lon=-8.875\n",
    "lat=41.86\n",
    "ds1=natDIAG_R\n",
    "ds1 = ds1.where(ds1['time.year'] >= year_min, drop=True).where(ds1['time.year'] <= year_max, drop=True)\n",
    "#plot the time series of hydrographs at the point (lon,lat)\n",
    "fig = plt.figure(figsize=(10, 6))\n",
    "ax = plt.axes()\n",
    "ax.grid()\n",
    "ds1['runoff'].sel(lon=lon, lat=lat, method='nearest').plot(ax=ax, label='runoff',c='green')\n",
    "ds1['drainage'].sel(lon=lon, lat=lat, method='nearest').plot(ax=ax, label='drainage',c='brown')\n",
    "# ['rain'].sel(lon=lon, lat=lat, method='nearest').plot(ax=ax, label='rainfall',c='blue')\n",
    "plt.title('Runoff and drainage at (' + str(lon) + ',' + str(lat) + '), mm/d')\n",
    "plt.legend()"
   ]
  },
  {
   "cell_type": "code",
   "execution_count": null,
   "metadata": {},
   "outputs": [],
   "source": [
    "#cycle saisonnier pour x points de grille\n",
    "ds1 = natDIAG_R\n",
    "ds2 = natDIAG_Rirr\n",
    "# ds3 = natDIAG_Rirr06\n",
    "\n",
    "# Create subplots for each river in a 2x3 grid\n",
    "fig, axes = plt.subplots(nrows=2, ncols=2, figsize=(15, 10))\n",
    "\n",
    "# Flatten the axes array for easier iteration\n",
    "axes = axes.flatten()\n",
    "\n",
    "# Iterate over rivers and plot hydrographs\n",
    "for i, (sta_id, coordinates) in enumerate(stations_merit.items()):\n",
    "    lon = coordinates['lon_grid']\n",
    "    lat = coordinates['lat_grid']\n",
    "    name = coordinates['name']\n",
    "    # year_min = coordinates['year_min']\n",
    "    # year_max = coordinates['year_max']\n",
    "    year_min=2010\n",
    "    year_max=2014\n",
    "    river=coordinates['river']\n",
    "    min_date='{}-01-01'.format(year_min)\n",
    "    max_date='{}-12-31'.format(year_max)\n",
    "    \n",
    "    ax = axes[i]\n",
    "\n",
    "    #Compute the annual cycle of hydrographs at the point (lon, lat) for each dataset\n",
    "    var1=ds1['hydrographs']\n",
    "    var2=ds2['hydrographs']\n",
    "    # var3=ds3['hydrographs']\n",
    "    var1=var1.sel(time=slice(min_date, max_date))\n",
    "    var2=var2.sel(time=slice(min_date, max_date))\n",
    "    # var3=var3.sel(time=slice(min_date, max_date))\n",
    "    var1.sel(lon=lon, lat=lat, method='nearest').groupby('time.month').mean(dim='time').plot(ax=ax, label=ds1.attrs['name'])\n",
    "    var2.sel(lon=lon, lat=lat, method='nearest').groupby('time.month').mean(dim='time').plot(ax=ax, label=ds2.attrs['name'])\n",
    "    # var3.sel(lon=lon, lat=lat, method='nearest').groupby('time.month').mean(dim='time').plot(ax=ax, label=ds3.attrs['name'])\n",
    "    \n",
    "    # Compute the annual cycle of hydrographs at the point (lon, lat) for observation\n",
    "    mask = (stations['number'] == sta_id)\n",
    "    station = stations.sel(stations=mask)\n",
    "    station = station.where((station['time.year'] >= year_min), drop=True)\n",
    "    station = station.where((station['time.year'] <= year_max), drop=True)\n",
    "    station=station.groupby('time.month').mean()\n",
    "    ax.plot(station['month'],station['mergedhydro'], label='obs', c='black')\n",
    "    \n",
    "    #add months name to x-axis ticks\n",
    "    months=['Jan','Feb','Mar','Apr','May','Jun','Jul','Aug','Sep','Oct','Nov','Dec']\n",
    "    ax.set_xticks(np.arange(1,13))\n",
    "    ax.set_xticklabels(months)\n",
    "    ax.set_ylabel('')\n",
    "    ax.set_xlabel('')\n",
    "    ax.legend()\n",
    "    ax.set_title('Station {}, on {} ({}-{})'.format(name, river, year_min, year_max))\n",
    "\n",
    "# Remove any remaining empty subplots\n",
    "for i in range(len(stations_merit), len(axes)):\n",
    "    fig.delaxes(axes[i])\n",
    "\n",
    "plt.suptitle(\"Seasonal cycle of river discharge (m³/s)\")\n",
    "plt.tight_layout()"
   ]
  },
  {
   "cell_type": "code",
   "execution_count": null,
   "metadata": {},
   "outputs": [],
   "source": [
    "#Série temporelle pour x points de grille\n",
    "ds1 = natDIAG_R\n",
    "ds2 = natDIAG_Rirr\n",
    "\n",
    "# Create subplots for each river in a 2x3 grid\n",
    "fig, axes = plt.subplots(nrows=2, ncols=2, figsize=(15, 10))\n",
    "\n",
    "# Flatten the axes array for easier iteration\n",
    "axes = axes.flatten()\n",
    "\n",
    "# Iterate over rivers and plot hydrographs\n",
    "for i, (sta_id, coordinates) in enumerate(stations_merit.items()):\n",
    "    lon = coordinates['lon_grid']\n",
    "    lat = coordinates['lat_grid']\n",
    "    name = coordinates['name']\n",
    "    # year_min = coordinates['year_min']\n",
    "    # year_max = coordinates['year_max']\n",
    "    year_min=2010\n",
    "    year_max=2013\n",
    "    river=coordinates['river']\n",
    "    min_date='{}-01-01'.format(year_min)\n",
    "    max_date='{}-12-31'.format(year_max)\n",
    "    \n",
    "    ax = axes[i]\n",
    "\n",
    "    #Compute the annual cycle of hydrographs at the point (lon, lat) for each dataset\n",
    "    var1=ds1['hydrographs']\n",
    "    var2=ds2['hydrographs']\n",
    "    var1=var1.sel(time=slice(min_date, max_date))\n",
    "    var2=var2.sel(time=slice(min_date, max_date))\n",
    "    var1.sel(lon=lon, lat=lat, method='nearest').plot(ax=ax, label=ds1.attrs['name'])\n",
    "    var2.sel(lon=lon, lat=lat, method='nearest').plot(ax=ax, label=ds2.attrs['name'])\n",
    "    \n",
    "    # Compute the annual cycle of hydrographs at the point (lon, lat) for observation\n",
    "    mask = (stations['number'] == sta_id)\n",
    "    station = stations.sel(stations=mask)\n",
    "    station = station.where((station['time.year'] >= year_min), drop=True)\n",
    "    station = station.where((station['time.year'] <= year_max), drop=True)\n",
    "    ax.plot(station['time'],station['mergedhydro'], label='obs', c='black')\n",
    "    \n",
    "    ax.set_ylabel('')\n",
    "    ax.set_xlabel('')\n",
    "    ax.legend()\n",
    "    ax.set_title('Station {}, on {} ({}-{})'.format(name, river, year_min, year_max))\n",
    "\n",
    "plt.suptitle(\"River discharge (m³/s)\")\n",
    "plt.tight_layout()"
   ]
  },
  {
   "cell_type": "markdown",
   "metadata": {},
   "source": [
    "# Raw GRDC file (first tests)"
   ]
  },
  {
   "cell_type": "code",
   "execution_count": null,
   "metadata": {},
   "outputs": [],
   "source": [
    "filename='/home/ptiengou/Desktop/obs/streamflow/GRDC-Monthly_Spain.nc'\n",
    "stations = xr.open_dataset(filename)\n",
    "stations"
   ]
  },
  {
   "cell_type": "code",
   "execution_count": null,
   "metadata": {},
   "outputs": [],
   "source": [
    "#drop all years before 2010\n",
    "stations['runoff_mean'] = stations['runoff_mean'].where((stations['time.year'] >= 2010), drop=True)\n",
    "stations"
   ]
  },
  {
   "cell_type": "code",
   "execution_count": null,
   "metadata": {},
   "outputs": [],
   "source": [
    "station_id=6212740\n",
    "#select based on id coordinate\n",
    "station=stations.sel(id=station_id)\n",
    "station.station_name.values"
   ]
  },
  {
   "cell_type": "code",
   "execution_count": null,
   "metadata": {},
   "outputs": [],
   "source": [
    "#plot a specific station on map\n",
    "station_id=6226400\n",
    "station = stations.sel(id=station_id)\n",
    "stations_map(station.geo_x, station.geo_y)"
   ]
  },
  {
   "cell_type": "code",
   "execution_count": null,
   "metadata": {},
   "outputs": [],
   "source": [
    "#plot one station\n",
    "station_id=6226400\n",
    "station=stations.sel(id=station_id)\n",
    "plt.figure(figsize=(15, 5))\n",
    "plt.plot(station.time, station.runoff_mean, label='GRDC')\n",
    "plt.title(station.station_name.values)"
   ]
  }
 ],
 "metadata": {
  "kernelspec": {
   "display_name": "Python 3.12.2 64-bit",
   "language": "python",
   "name": "python3"
  },
  "language_info": {
   "codemirror_mode": {
    "name": "ipython",
    "version": 3
   },
   "file_extension": ".py",
   "mimetype": "text/x-python",
   "name": "python",
   "nbconvert_exporter": "python",
   "pygments_lexer": "ipython3",
   "version": "3.12.2"
  },
  "vscode": {
   "interpreter": {
    "hash": "9715f220877aa1dd3a10bcc1f3e7aef151ac70eccc8d755f78d50313f1675c6a"
   }
  }
 },
 "nbformat": 4,
 "nbformat_minor": 2
}
