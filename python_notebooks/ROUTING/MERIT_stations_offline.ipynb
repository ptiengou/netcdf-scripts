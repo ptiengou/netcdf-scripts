{
 "cells": [
  {
   "cell_type": "markdown",
   "metadata": {},
   "source": [
    "# Imports and setting up viz\n",
    "\n",
    "NB : conda env1 on Mac, lam1env on spirit (Python3.12)"
   ]
  },
  {
   "cell_type": "code",
   "execution_count": null,
   "metadata": {},
   "outputs": [],
   "source": [
    "import numpy as np\n",
    "import netCDF4 as nc\n",
    "import xarray as xr\n",
    "import pandas as pd\n",
    "import matplotlib.pyplot as plt\n",
    "from cycler import cycler\n",
    "import cartopy\n",
    "import cartopy.crs as ccrs\n",
    "import matplotlib as mpl\n",
    "from matplotlib.colors import ListedColormap\n",
    "%matplotlib inline"
   ]
  },
  {
   "cell_type": "code",
   "execution_count": null,
   "metadata": {},
   "outputs": [],
   "source": [
    "plt.rcParams.update(\n",
    "        {\n",
    "            'figure.facecolor': 'white',\n",
    "            'axes.facecolor': 'white',\n",
    "            'font.size': 15,\n",
    "            'figure.dpi': 72.0,\n",
    "            'xtick.direction': 'in',\n",
    "            'ytick.direction': 'in',\n",
    "            'xtick.major.size': 8.0,\n",
    "            'xtick.minor.size': 4.0,\n",
    "            'ytick.major.size': 8.0,\n",
    "            'ytick.minor.size': 4.0,\n",
    "            'xtick.minor.visible': True,\n",
    "            'ytick.minor.visible': True,\n",
    "            'axes.grid': True,\n",
    "            'axes.titlesize': 'larger',\n",
    "            'axes.labelsize': 'larger',\n",
    "            'grid.color': 'dimgray',\n",
    "            'grid.linestyle': '-',\n",
    "            'grid.alpha': 0.3,\n",
    "            'axes.prop_cycle': cycler(\n",
    "                color=[\n",
    "                    '#0C5DA5',\n",
    "                    '#FF9500',\n",
    "                    '#00B945',\n",
    "                    '#FF2C00',\n",
    "                    '#845B97',\n",
    "                    '#474747',\n",
    "                    '#9E9E9E',\n",
    "                ]\n",
    "            ) * cycler(alpha=[1.0]),\n",
    "            'scatter.marker': 'x',\n",
    "            'lines.linewidth': 1.5,\n",
    "        })"
   ]
  },
  {
   "cell_type": "markdown",
   "metadata": {},
   "source": []
  },
  {
   "cell_type": "code",
   "execution_count": null,
   "metadata": {},
   "outputs": [],
   "source": [
    "#define centered colorbar\n",
    "emb = ListedColormap(mpl.colormaps['RdYlBu_r'](np.linspace(0, 1, 8)))\n",
    "emb"
   ]
  },
  {
   "cell_type": "code",
   "execution_count": null,
   "metadata": {},
   "outputs": [],
   "source": [
    "#define progressive colorbar\n",
    "myvir = ListedColormap(mpl.colormaps['viridis'](np.linspace(0, 1, 10)))\n",
    "myvir"
   ]
  },
  {
   "cell_type": "code",
   "execution_count": null,
   "metadata": {},
   "outputs": [],
   "source": [
    "#define progressive colorbar\n",
    "reds = ListedColormap(mpl.colormaps['Reds'](np.linspace(0, 1, 10)))\n",
    "reds"
   ]
  },
  {
   "cell_type": "code",
   "execution_count": null,
   "metadata": {},
   "outputs": [],
   "source": [
    "#define progressive colorbar\n",
    "wet = ListedColormap(mpl.colormaps['YlGnBu'](np.linspace(0, 1, 10)))\n",
    "wet"
   ]
  },
  {
   "cell_type": "markdown",
   "metadata": {},
   "source": [
    "# Load files\n",
    "File to evaluate the behaviour of native routing compared to standard.\n",
    "\n",
    "First working on the same topographic grid (0.5°).\n",
    "\n",
    "4 files are considered : one from the standard routing simulation, three from the native routing simulation (sechiba_history, diag_routing, diag_routing_r)"
   ]
  },
  {
   "cell_type": "code",
   "execution_count": null,
   "metadata": {},
   "outputs": [],
   "source": [
    "dir='/data/ptiengou/JZ_simu_outputs/routing_native'"
   ]
  },
  {
   "cell_type": "code",
   "execution_count": null,
   "metadata": {},
   "outputs": [],
   "source": [
    "#standard routing\n",
    "filename = '{}/nat7.1/MO/combined_monthly.nc'.format(dir)\n",
    "std = xr.open_mfdataset(filename)\n",
    "std"
   ]
  },
  {
   "cell_type": "code",
   "execution_count": null,
   "metadata": {},
   "outputs": [],
   "source": [
    "#open netcdf files for native routing diag_routing_r.nc (on MERIT grid)\n",
    "filename='{}/nat12.1/*diag_routing_r.nc'.format(dir)\n",
    "tcst1=xr.open_mfdataset(filename)\n",
    "filename='{}/nat12/exact_std_csts/*diag_routing_r.nc'.format(dir)\n",
    "tcst2=xr.open_mfdataset(filename)\n",
    "filename='{}/nat12.2/correct_tcst/*diag_routing_r.nc'.format(dir)\n",
    "tcst3=xr.open_mfdataset(filename)\n",
    "\n",
    "filename='{}/tcst7_long/tcst7_hydrographs_1980-2010.nc'.format(dir)\n",
    "tcst4=xr.open_mfdataset(filename)\n",
    "filename='{}/tcst7GSWP3/*diag_routing_r.nc'.format(dir)\n",
    "tcst4_g=xr.open_mfdataset(filename)\n",
    "# filename='{}/tcst7irr_long/*_hydrographs_1980-2010.nc'.format(dir)\n",
    "filename='{}/tcst7irr/*diag_routing_r.nc'.format(dir)\n",
    "tcst4_irr=xr.open_mfdataset(filename)\n",
    "filename='{}/tcst7irr0.6_long/*_hydrographs_1980-2010.nc'.format(dir)\n",
    "tcst4_irr6=xr.open_mfdataset(filename)\n",
    "\n",
    "filename='{}/tcst2rsoil/*diag_routing_r.nc'.format(dir)\n",
    "tcst2_rsoil=xr.open_mfdataset(filename)"
   ]
  },
  {
   "cell_type": "code",
   "execution_count": null,
   "metadata": {},
   "outputs": [],
   "source": [
    "#open files on ORC grid\n",
    "filename='{}/nat12.1/*sechiba_history.nc'.format(dir)\n",
    "tcst1ORC=xr.open_mfdataset(filename)\n",
    "filename='{}/nat12/exact_std_csts/*sechiba_history.nc'.format(dir)\n",
    "tcst2ORC=xr.open_mfdataset(filename)\n",
    "filename='{}/nat12.2/correct_tcst/*sechiba_history.nc'.format(dir)\n",
    "tcst3ORC=xr.open_mfdataset(filename)\n",
    "filename='{}/tcst7/*sechiba_history.nc'.format(dir)\n",
    "tcst4ORC=xr.open_mfdataset(filename)\n"
   ]
  },
  {
   "cell_type": "code",
   "execution_count": null,
   "metadata": {},
   "outputs": [],
   "source": [
    "filename='{}/tcst7irr/*sechiba_history.nc'.format(dir)\n",
    "tcst4_irrORC=xr.open_mfdataset(filename)\n",
    "tcst4_irrORC = tcst4_irrORC.rename({'time_counter' : 'time'})\n",
    "tcst4_irrORC.attrs['name'] = 'tcst4'"
   ]
  },
  {
   "cell_type": "markdown",
   "metadata": {},
   "source": [
    "# File manipulations"
   ]
  },
  {
   "cell_type": "code",
   "execution_count": null,
   "metadata": {},
   "outputs": [],
   "source": [
    "#tcst1\n",
    "#rename time_counter to time\n",
    "tcst1 = tcst1.rename({'time_counter' : 'time'})\n",
    "tcst1ORC = tcst1ORC.rename({'time_counter' : 'time'})\n",
    "#Change dataset names attribute for automatic labeling\n",
    "tcst1.attrs['name'] = 'tcst1'\n",
    "tcst1ORC.attrs['name'] = 'tcst1'\n",
    "#Rename variables in natDIAG_R_month and natDIAG_R\n",
    "dict = {\n",
    "        'routing_hydrographs_r' : 'hydrographs'\n",
    "        }\n",
    "#change the variables that exist according to the dictionary\n",
    "tcst1 = tcst1.rename(dict)\n",
    "tcst1"
   ]
  },
  {
   "cell_type": "code",
   "execution_count": null,
   "metadata": {},
   "outputs": [],
   "source": [
    "#tcst2\n",
    "#rename time_counter to time\n",
    "tcst2 = tcst2.rename({'time_counter' : 'time'})\n",
    "tcst2ORC = tcst2ORC.rename({'time_counter' : 'time'})\n",
    "#Change dataset names attribute for automatic labeling\n",
    "tcst2.attrs['name'] = 'tcst2'\n",
    "tcst2ORC.attrs['name'] = 'tcst2'\n",
    "#Rename variables in natDIAG_R_month and natDIAG_R\n",
    "dict = {\n",
    "        'routing_hydrographs_r' : 'hydrographs'\n",
    "        }\n",
    "#change the variables that exist according to the dictionary\n",
    "tcst2 = tcst2.rename(dict)\n",
    "tcst2"
   ]
  },
  {
   "cell_type": "code",
   "execution_count": null,
   "metadata": {},
   "outputs": [],
   "source": [
    "#tcst2rsoil\n",
    "#rename time_counter to time\n",
    "tcst2_rsoil = tcst2_rsoil.rename({'time_counter' : 'time'})\n",
    "#Change dataset names attribute for automatic labeling\n",
    "tcst2_rsoil.attrs['name'] = 'tcst2_rsoil'\n",
    "#Rename variables in natDIAG_R_month and natDIAG_R\n",
    "dict = {\n",
    "        'routing_hydrographs_r' : 'hydrographs'\n",
    "        }\n",
    "#change the variables that exist according to the dictionary\n",
    "tcst2_rsoil = tcst2_rsoil.rename(dict)\n",
    "tcst2_rsoil"
   ]
  },
  {
   "cell_type": "code",
   "execution_count": null,
   "metadata": {},
   "outputs": [],
   "source": [
    "#tcst3\n",
    "#rename time_counter to time\n",
    "tcst3 = tcst3.rename({'time_counter' : 'time'})\n",
    "tcst3ORC = tcst3ORC.rename({'time_counter' : 'time'})\n",
    "#Change dataset names attribute for automatic labeling\n",
    "tcst3.attrs['name'] = 'tcst3'\n",
    "tcst3ORC.attrs['name'] = 'tcst3'\n",
    "#Rename variables in natDIAG_R_month and natDIAG_R\n",
    "dict = {\n",
    "        'routing_hydrographs_r' : 'hydrographs'\n",
    "        }\n",
    "#change the variables that exist according to the dictionary\n",
    "tcst3 = tcst3.rename(dict)\n",
    "tcst3"
   ]
  },
  {
   "cell_type": "code",
   "execution_count": null,
   "metadata": {},
   "outputs": [],
   "source": [
    "#tcst4 (old tcst7)\n",
    "#rename time_counter to time\n",
    "tcst4 = tcst4.rename({'time_counter' : 'time'})\n",
    "tcst4ORC = tcst4ORC.rename({'time_counter' : 'time'})\n",
    "#Change dataset names attribute for automatic labeling\n",
    "tcst4.attrs['name'] = 'tcst4'\n",
    "tcst4ORC.attrs['name'] = 'tcst4'\n",
    "#Rename variables in natDIAG_R_month and natDIAG_R\n",
    "dict = {\n",
    "        'routing_hydrographs_r' : 'hydrographs'\n",
    "        }\n",
    "#change the variables that exist according to the dictionary\n",
    "tcst4 = tcst4.rename(dict)\n",
    "tcst4"
   ]
  },
  {
   "cell_type": "code",
   "execution_count": null,
   "metadata": {},
   "outputs": [],
   "source": [
    "#tcst4_gswp3 (old tcst7)\n",
    "#rename time_counter to time\n",
    "tcst4_g = tcst4_g.rename({'time_counter' : 'time'})\n",
    "# tcst4ORC = tcst4ORC.rename({'time_counter' : 'time'})\n",
    "#Change dataset names attribute for automatic labeling\n",
    "tcst4_g.attrs['name'] = 'tcst4_gswp3'\n",
    "# tcst4ORC.attrs['name'] = 'tcst1'\n",
    "#Rename variables in natDIAG_R_month and natDIAG_R\n",
    "dict = {\n",
    "        'routing_hydrographs_r' : 'hydrographs'\n",
    "        }\n",
    "#change the variables that exist according to the dictionary\n",
    "tcst4_g = tcst4_g.rename(dict)\n",
    "tcst4_g"
   ]
  },
  {
   "cell_type": "code",
   "execution_count": null,
   "metadata": {},
   "outputs": [],
   "source": [
    "#tcst4irr (old tcst7)\n",
    "#rename time_counter to time\n",
    "tcst4_irr = tcst4_irr.rename({'time_counter' : 'time'})\n",
    "#Change dataset names attribute for automatic labeling\n",
    "tcst4_irr.attrs['name'] = 'tcst4_irr_default'\n",
    "#Rename variables in natDIAG_R_month and natDIAG_R\n",
    "dict = {\n",
    "        'routing_hydrographs_r' : 'hydrographs'\n",
    "        }\n",
    "#change the variables that exist according to the dictionary\n",
    "tcst4_irr = tcst4_irr.rename(dict)\n",
    "tcst4_irr"
   ]
  },
  {
   "cell_type": "code",
   "execution_count": null,
   "metadata": {},
   "outputs": [],
   "source": [
    "#tcst4irr_reduced (old tcst7)\n",
    "#rename time_counter to time\n",
    "tcst4_irr6 = tcst4_irr6.rename({'time_counter' : 'time'})\n",
    "# tcst4ORC = tcst4ORC.rename({'time_counter' : 'time'})\n",
    "#Change dataset names attribute for automatic labeling\n",
    "tcst4_irr6.attrs['name'] = 'tcst4_irr_reduced'\n",
    "# tcst4ORC.attrs['name'] = 'tcst1'\n",
    "#Rename variables in natDIAG_R_month and natDIAG_R\n",
    "dict = {\n",
    "        'routing_hydrographs_r' : 'hydrographs'\n",
    "        }\n",
    "#change the variables that exist according to the dictionary\n",
    "tcst4_irr6 = tcst4_irr6.rename(dict)\n",
    "tcst4_irr6"
   ]
  },
  {
   "cell_type": "code",
   "execution_count": null,
   "metadata": {},
   "outputs": [],
   "source": [
    "std = std.rename({'time_counter' : 'time'})\n",
    "std.attrs['name']='Standard routing (subgrid_halfdeg)'"
   ]
  },
  {
   "cell_type": "code",
   "execution_count": null,
   "metadata": {},
   "outputs": [],
   "source": [
    "# #Rename variables in natDIAG_R_month and natDIAG_R\n",
    "# dict = {\n",
    "#         # 'routing_stream_reservoir_r' : 'streamr',\n",
    "#         # 'routing_fast_reservoir_r' : 'fastr',\n",
    "#         # 'routing_slow_reservoir_r' : 'slowr',\n",
    "#         # 'routing_drainage_r' : 'drainage',\n",
    "#         # 'routing_runoff_r' : 'runoff',\n",
    "#         'routing_hydrographs_r' : 'hydrographs',\n",
    "#         # 'routing_irrigation_r' : 'irrigation',\n",
    "#         # 'irrig_netereq_r' : 'netirrig'\n",
    "#         # 'routing_riverflow_r' : 'riverflow',\n",
    "#         # 'routing_coastalflow_r' : 'coastalflow'\n",
    "#         }\n",
    "# #change the variables that exist according to the dictionary\n",
    "# natDIAG_R = natDIAG_R.rename(dict)\n",
    "# natDIAG_Rirr = natDIAG_Rirr.rename(dict)\n",
    "\n",
    "# natDIAG_RGSWP3 = natDIAG_RGSWP3.rename(dict)\n",
    "# natDIAG_RGSWP3irr = natDIAG_RGSWP3irr.rename(dict)\n",
    "# natDIAG_Rirr06 = natDIAG_Rirr06.rename(dict)"
   ]
  },
  {
   "cell_type": "code",
   "execution_count": null,
   "metadata": {},
   "outputs": [],
   "source": [
    "# time = pd.to_datetime(natDIAG_R['time'].values)\n",
    "# shifted_time = time - pd.Timedelta(days=1)\n",
    "# natDIAG_R['time'] = shifted_time\n",
    "\n",
    "# time = pd.to_datetime(natDIAG_Rirr['time'].values)\n",
    "# shifted_time = time - pd.Timedelta(days=1)\n",
    "# natDIAG_Rirr['time'] = shifted_time"
   ]
  },
  {
   "cell_type": "markdown",
   "metadata": {},
   "source": [
    "# Stations"
   ]
  },
  {
   "cell_type": "code",
   "execution_count": null,
   "metadata": {},
   "outputs": [],
   "source": [
    "filename='../../../routing/GRDC_Monthly_Jan20_v1_ES.nc'\n",
    "stations = xr.open_dataset(filename)\n",
    "stations"
   ]
  },
  {
   "cell_type": "code",
   "execution_count": null,
   "metadata": {},
   "outputs": [],
   "source": [
    "# create a dict with id name, lon lat for a subset of stations\n",
    "stations_merit = {\n",
    "    6298249: {'name': 'Zaragoza',  'river': 'Ebro', 'lon_grid':-0.8749926686286926, 'lat_grid':41.65833282470703, 'year_min':2003, 'year_max':2012},\n",
    "    6298992: {'name': 'Albarreal De Tajo',  'river': 'Tajo', 'lon_grid':-4.17499303817749, 'lat_grid':39.891666412353516, 'year_min':2003, 'year_max':2012 },\n",
    "    6298481: {'name': 'San Miguel del Pino', 'river': 'Duero', 'lon_grid':-4.92499303817749, 'lat_grid':41.508331298828125, 'year_min':2003, 'year_max':2012},\n",
    "    6298259:{'name': 'Badajoz', 'river': 'Guadiana', 'lat_grid': 38.85833358764648, 'lon_grid': -7.008326530456543, 'last_record': '2013-09-15', 'year_min':2003, 'year_max':2012},\n",
    "    # 6298564: {'name': 'Villanueva de Azoague', 'lon_grid':-5.641659736633301, 'lat_grid':41.974998474121094, 'year_min':1982, 'year_max':2012},\n",
    "    # 6299121:{'name': 'Orellana La Vieja', 'river': ' Guadiana', 'lat_grid': 38.99166488647461, 'lon_grid': -5.541659832000732, 'last_record': '2013-09-15'}\n",
    "}\n",
    "\n",
    "# # create a dict with id name, lon lat for a subset of stations\n",
    "# stations_merit = {\n",
    "#     6298249: {'name': 'Zaragoza',  'river': 'Ebro', 'lon_grid':-0.8749926686286926, 'lat_grid':41.65833282470703, 'year_min':1980, 'year_max':2010},\n",
    "#     6298992: {'name': 'Albarreal De Tajo',  'river': 'Tajo', 'lon_grid':-4.17499303817749, 'lat_grid':39.891666412353516, 'year_min':1980, 'year_max':2010 },\n",
    "#     6298481: {'name': 'San Miguel del Pino', 'river': 'Duero', 'lon_grid':-4.92499303817749, 'lat_grid':41.508331298828125, 'year_min':1980, 'year_max':2010},\n",
    "#     6298259:{'name': 'Badajoz', 'river': 'Guadiana', 'lat_grid': 38.85833358764648, 'lon_grid': -7.008326530456543, 'last_record': '2013-09-15', 'year_min':1996, 'year_max':2010},\n",
    "#     # 6298564: {'name': 'Villanueva de Azoague', 'lon_grid':-5.641659736633301, 'lat_grid':41.974998474121094, 'year_min':1982, 'year_max':2012},\n",
    "#     # 6299121:{'name': 'Orellana La Vieja', 'river': ' Guadiana', 'lat_grid': 38.99166488647461, 'lon_grid': -5.541659832000732, 'last_record': '2013-09-15'}\n",
    "# }"
   ]
  },
  {
   "cell_type": "code",
   "execution_count": null,
   "metadata": {},
   "outputs": [],
   "source": [
    "# keep copy of dict\n",
    "# stations_merit = {\n",
    "#     6298249: {'name': 'Zaragoza',  'river': 'Ebro', 'lon_grid':-0.8749926686286926, 'lat_grid':41.65833282470703, 'year_min':1982, 'year_max':2012},\n",
    "#     6298992: {'name': 'Albarreal De Tajo',  'river': 'Tajo', 'lon_grid':-4.17499303817749, 'lat_grid':39.891666412353516, 'year_min':1982, 'year_max':2012 },\n",
    "#     6298481: {'name': 'San Miguel del Pino', 'river': 'Duero', 'lon_grid':-4.92499303817749, 'lat_grid':41.508331298828125, 'year_min':1982, 'year_max':2012},\n",
    "#     6298259:{'name': 'Badajoz', 'river': 'Guadiana', 'lat_grid': 38.85833358764648, 'lon_grid': -7.008326530456543, 'last_record': '2013-09-15', 'year_min':1996, 'year_max':2012},\n",
    "    # 6298564: {'name': 'Villanueva de Azoague', 'lon_grid':-5.641659736633301, 'lat_grid':41.974998474121094, 'year_min':1982, 'year_max':2012},\n",
    "    # 6299121:{'name': 'Orellana La Vieja', 'river': ' Guadiana', 'lat_grid': 38.99166488647461, 'lon_grid': -5.541659832000732, 'last_record': '2013-09-15'},\n",
    "    # 6298071:{'name': 'Constantina', 'river': ' Guadalquivir', 'lat_grid': 37.77499771118164, 'lon_grid': -5.691659450531006, 'last_record': '2013-09-15', 'year_min':1994, 'year_max':2009},\n",
    "    # 6299029:{'name': 'Santiago-Pontones', 'river': ' Guadalquivir', 'lat_grid': 38.17499923706055, 'lon_grid': -2.791659355163574, 'last_record': '2013-09-15'},\n",
    "    # # 6298149:{'name': 'Lucena', 'river': ' Guadalquivir', 'lat_grid': 37.29166412353516, 'lon_grid': -4.67499303817749, 'last_record': '2009-04-15'},\n",
    "    # # 6298597:{'name': 'Guejar Sierra', 'river': ' Guadalquivir', 'lat_grid': 37.15833282470703, 'lon_grid': -3.474992752075196, 'last_record': '2012-09-15'},\n",
    "    # 6298606:{'name': 'Pozo Alcon', 'river': ' Guadalquivir', 'lat_grid': 37.758331298828125, 'lon_grid': -2.9083261489868164, 'last_record': '2013-09-15'},\n",
    "    # # 6298731:{'name': 'Valdepenas De Jaen', 'river': ' Guadalquivir', 'lat_grid': 37.625, 'lon_grid': -3.7249927520751953, 'last_record': '2013-09-15'},\n",
    "    # 6299108:{'name': 'Hornachuelos', 'river': ' Guadalquivir', 'lat_grid': 37.90833282470703, 'lon_grid': -5.20832633972168, 'last_record': '2013-09-15'},\n",
    "    # 6299220:{'name': 'Villacarrillo', 'river': ' Guadalquivir', 'lat_grid': 38.04166412353516, 'lon_grid': -2.9583261013031006, 'last_record': '2013-09-15'},\n",
    "# }"
   ]
  },
  {
   "cell_type": "code",
   "execution_count": null,
   "metadata": {},
   "outputs": [],
   "source": [
    "# plot station location on a map with rivers and coastlines\n",
    "fig = plt.figure(figsize=(10, 10))\n",
    "ax = plt.axes(projection=ccrs.PlateCarree())\n",
    "ax.coastlines()\n",
    "ax.add_feature(cartopy.feature.RIVERS)\n",
    "ax.set_extent([-10, 4, 35, 45])\n",
    "gl = ax.gridlines(draw_labels=True, dms=True, x_inline=False, y_inline=False)\n",
    "gl.ylocator = gl.ylocator = plt.MaxNLocator(5)\n",
    "gl.right_labels = False\n",
    "gl.top_labels = False\n",
    "for key, coordinates in stations_merit.items():\n",
    "    plt.scatter(coordinates['lon_grid'], coordinates['lat_grid'], s=30, label=coordinates['name'], marker='o')\n",
    "plt.title('Location of selected stations')\n",
    "#activate legend and put it in the bottom right corner\n",
    "plt.legend(loc='lower right')"
   ]
  },
  {
   "cell_type": "code",
   "execution_count": null,
   "metadata": {},
   "outputs": [],
   "source": [
    "# visualize time series for selected stations\n",
    "fig, ax = plt.subplots(2, 2, figsize=(10, 5))\n",
    "ax = ax.flatten()\n",
    "for i, (key, coordinates) in enumerate(stations_merit.items()):\n",
    "    mask = (stations['number'] == key)\n",
    "    station = stations.sel(stations=mask)\n",
    "    #remove years before 2003 and after 2012\n",
    "    station = station.where((station['time.year'] >= coordinates['year_min']), drop=True)\n",
    "    station = station.where((station['time.year'] <= coordinates['year_max']), drop=True)\n",
    "    ax[i].plot(station['time'],station['mergedhydro'], label='obs', c='black')\n",
    "    ax[i].set_title(coordinates['name'])\n",
    "    ax[i].set_ylabel('discharge [m3/s]')\n",
    "    ax[i].legend()"
   ]
  },
  {
   "cell_type": "code",
   "execution_count": null,
   "metadata": {},
   "outputs": [],
   "source": [
    "# visualize seasonnal cycle for selected stations\n",
    "fig, ax = plt.subplots(2, 2, figsize=(10, 5))\n",
    "for i, (key, coordinates) in enumerate(stations_merit.items()):\n",
    "    mask = (stations['number'] == key)\n",
    "    station = stations.sel(stations=mask)\n",
    "    ax = ax.flatten()\n",
    "    #remove years before 2003 and after 2012\n",
    "    station = station.where((station['time.year'] >= coordinates['year_min']), drop=True)\n",
    "    station = station.where((station['time.year'] <= coordinates['year_max']), drop=True)\n",
    "    station = station.groupby('time.month').mean()\n",
    "    ax[i].set_title(coordinates['name'])\n",
    "    ax[i].plot(station['month'],station['mergedhydro'], label='obs', c='black')\n",
    "    ax[i].set_ylabel('discharge [m3/s]')\n",
    "    #set Y minimum to 0\n",
    "    ax[i].set_ylim(bottom=0)\n",
    "    #add months name to x-axis ticks\n",
    "    months=['Jan','Feb','Mar','Apr','May','Jun','Jul','Aug','Sep','Oct','Nov','Dec']\n",
    "    ax[i].set_xticks(np.arange(1,13))\n",
    "    ax[i].set_xticklabels(months)\n",
    "    ax[i].legend()\n",
    "plt.tight_layout()"
   ]
  },
  {
   "cell_type": "markdown",
   "metadata": {},
   "source": [
    "# Seasonnal cycles"
   ]
  },
  {
   "cell_type": "code",
   "execution_count": null,
   "metadata": {},
   "outputs": [],
   "source": [
    "# seasonnal cycle for one station\n",
    "station_id=6298249\n",
    "station_id=6298481\n",
    "mask = (stations['number'] == station_id)\n",
    "station = stations.sel(stations=mask)\n",
    "ds1 = tcst1\n",
    "ds2 = tcst2\n",
    "ds3 = tcst3\n",
    "ds4 = std\n",
    "# ds3=natDIAG_Rirr06\n",
    "lon = stations_merit[station_id]['lon_grid']\n",
    "lat = stations_merit[station_id]['lat_grid']\n",
    "name = stations_merit[station_id]['name']\n",
    "year_min = stations_merit[station_id]['year_min']\n",
    "year_max = stations_merit[station_id]['year_max']\n",
    "# year_min = 2003\n",
    "# year_max = 2012\n",
    "min_date='{}-01-01'.format(year_min)\n",
    "max_date='{}-12-31'.format(year_max)\n",
    "river=stations_merit[station_id]['river']\n",
    "\n",
    "plt.figure(figsize=(10, 5))\n",
    "\n",
    "var1=ds1['hydrographs'].sel(time=slice(min_date, max_date))\n",
    "var2=ds2['hydrographs'].sel(time=slice(min_date, max_date))\n",
    "var3=ds3['hydrographs'].sel(time=slice(min_date, max_date))\n",
    "var4=ds4['hydrographs'].sel(time=slice(min_date, max_date))\n",
    "var1.sel(lon=lon, lat=lat, method='nearest').groupby('time.month').mean(dim='time').plot(label=ds1.attrs['name'])\n",
    "var2.sel(lon=lon, lat=lat, method='nearest').groupby('time.month').mean(dim='time').plot(label=ds2.attrs['name'])\n",
    "var3.sel(lon=lon, lat=lat, method='nearest').groupby('time.month').mean(dim='time').plot(label=ds3.attrs['name'])\n",
    "var4.sel(lon=lon, lat=lat, method='nearest').groupby('time.month').mean(dim='time').plot(label=ds4.attrs['name'],c='grey')\n",
    "\n",
    "station = station.where((station['time.year'] >= year_min), drop=True)\n",
    "station = station.where((station['time.year'] <= year_max), drop=True)\n",
    "station = station.groupby('time.month').mean()\n",
    "plt.plot(station['month'],station['mergedhydro'], label='obs', c='black')\n",
    "\n",
    "plt.ylim(bottom=0)\n",
    "# plt.ylim(top=400)\n",
    "months=['Jan','Feb','Mar','Apr','May','Jun','Jul','Aug','Sep','Oct','Nov','Dec']\n",
    "plt.xticks(np.arange(1,13), labels=months)\n",
    "# plt.ticks(labels=months)\n",
    "plt.xlabel('')\n",
    "plt.ylabel('')\n",
    "plt.legend(loc='upper right')\n",
    "plt.title('Mean seasonnal cycle for station {}, on {} ({}-{})'.format(name, river, year_min, year_max))"
   ]
  },
  {
   "cell_type": "code",
   "execution_count": null,
   "metadata": {},
   "outputs": [],
   "source": [
    "#cycle saisonnier pour x points de grille\n",
    "ds1 = tcst1\n",
    "ds2 = tcst2\n",
    "ds3 = tcst3\n",
    "ds4 = tcst4\n",
    "\n",
    "# Create subplots for each river in a 2x3 grid\n",
    "fig, axes = plt.subplots(nrows=2, ncols=2, figsize=(15, 10))\n",
    "\n",
    "# Flatten the axes array for easier iteration\n",
    "axes = axes.flatten()\n",
    "\n",
    "# Iterate over rivers and plot hydrographs\n",
    "for i, (sta_id, coordinates) in enumerate(stations_merit.items()):\n",
    "    lon = coordinates['lon_grid']\n",
    "    lat = coordinates['lat_grid']\n",
    "    name = coordinates['name']\n",
    "    # year_min = coordinates['year_min']\n",
    "    # year_max = coordinates['year_max']\n",
    "    year_min=2003\n",
    "    year_max=2012\n",
    "    river=coordinates['river']\n",
    "    min_date='{}-01-01'.format(year_min)\n",
    "    max_date='{}-12-31'.format(year_max)\n",
    "    \n",
    "    ax = axes[i]\n",
    "\n",
    "    #Compute the annual cycle of hydrographs at the point (lon, lat) for each dataset\n",
    "    var1=ds1['hydrographs'].sel(time=slice(min_date, max_date))\n",
    "    var2=ds2['hydrographs'].sel(time=slice(min_date, max_date))\n",
    "    var3=ds3['hydrographs'].sel(time=slice(min_date, max_date))\n",
    "    var4=ds4['hydrographs'].sel(time=slice(min_date, max_date))\n",
    "    var1.sel(lon=lon, lat=lat, method='nearest').groupby('time.month').mean(dim='time').plot(ax=ax, label=ds1.attrs['name'])\n",
    "    var2.sel(lon=lon, lat=lat, method='nearest').groupby('time.month').mean(dim='time').plot(ax=ax, label=ds2.attrs['name'])\n",
    "    var3.sel(lon=lon, lat=lat, method='nearest').groupby('time.month').mean(dim='time').plot(ax=ax, label=ds3.attrs['name'])\n",
    "    var4.sel(lon=lon, lat=lat, method='nearest').groupby('time.month').mean(dim='time').plot(ax=ax, label=ds4.attrs['name'])\n",
    "    \n",
    "    # Compute the annual cycle of hydrographs at the point (lon, lat) for observation\n",
    "    mask = (stations['number'] == sta_id)\n",
    "    station = stations.sel(stations=mask)\n",
    "    station = station.where((station['time.year'] >= year_min), drop=True)\n",
    "    station = station.where((station['time.year'] <= year_max), drop=True)\n",
    "    station=station.groupby('time.month').mean()\n",
    "    ax.plot(station['month'],station['mergedhydro'], label='obs', c='black')\n",
    "    \n",
    "    #add months name to x-axis ticks\n",
    "    months=['Jan','Feb','Mar','Apr','May','Jun','Jul','Aug','Sep','Oct','Nov','Dec']\n",
    "    ax.set_xticks(np.arange(1,13))\n",
    "    ax.set_xticklabels(months)\n",
    "    ax.set_ylabel('')\n",
    "    ax.set_xlabel('')\n",
    "    if (i==0):\n",
    "        ax.legend(loc='lower left')\n",
    "    ax.set_title('Station {}, on {} ({}-{})'.format(name, river, year_min, year_max))\n",
    "\n",
    "# Remove any remaining empty subplots\n",
    "for i in range(len(stations_merit), len(axes)):\n",
    "    fig.delaxes(axes[i])\n",
    "\n",
    "plt.suptitle(\"Seasonal cycle of river discharge (m³/s)\")\n",
    "plt.tight_layout()"
   ]
  },
  {
   "cell_type": "markdown",
   "metadata": {},
   "source": [
    "# Time series"
   ]
  },
  {
   "cell_type": "code",
   "execution_count": null,
   "metadata": {},
   "outputs": [],
   "source": [
    "#Série temporelle pour x points de grille\n",
    "ds1 = tcst4\n",
    "ds2 = tcst4_irr\n",
    "ds3 = tcst4_irr6\n",
    "ds4 = std\n",
    "\n",
    "# Create subplots for each river in a 2x3 grid\n",
    "fig, axes = plt.subplots(nrows=2, ncols=2, figsize=(15, 10))\n",
    "\n",
    "# Flatten the axes array for easier iteration\n",
    "axes = axes.flatten()\n",
    "\n",
    "# Iterate over rivers and plot hydrographs\n",
    "for i, (sta_id, coordinates) in enumerate(stations_merit.items()):\n",
    "    lon = coordinates['lon_grid']\n",
    "    lat = coordinates['lat_grid']\n",
    "    name = coordinates['name']\n",
    "    year_min = coordinates['year_min']\n",
    "    year_max = coordinates['year_max']\n",
    "    # year_min=2010\n",
    "    # year_max=2013\n",
    "    river=coordinates['river']\n",
    "    min_date='{}-01-01'.format(year_min)\n",
    "    max_date='{}-12-31'.format(year_max)\n",
    "    \n",
    "    ax = axes[i]\n",
    "\n",
    "    #Compute the annual cycle of hydrographs at the point (lon, lat) for each dataset\n",
    "    var1=ds1['hydrographs'].sel(time=slice(min_date, max_date))\n",
    "    var2=ds2['hydrographs'].sel(time=slice(min_date, max_date))\n",
    "    var3=ds3['hydrographs'].sel(time=slice(min_date, max_date))\n",
    "    var4=ds4['hydrographs'].sel(time=slice(min_date, max_date))\n",
    "    var1.sel(lon=lon, lat=lat, method='nearest').plot(ax=ax, label=ds1.attrs['name'])\n",
    "    var2.sel(lon=lon, lat=lat, method='nearest').plot(ax=ax, label=ds2.attrs['name'])\n",
    "    var3.sel(lon=lon, lat=lat, method='nearest').plot(ax=ax, label=ds3.attrs['name'])\n",
    "    # var4.sel(lon=lon, lat=lat, method='nearest').plot(ax=ax, label=ds4.attrs['name'],c='grey')\n",
    "    \n",
    "    # Compute the annual cycle of hydrographs at the point (lon, lat) for observation\n",
    "    mask = (stations['number'] == sta_id)\n",
    "    station = stations.sel(stations=mask)\n",
    "    station = station.where((station['time.year'] >= year_min), drop=True)\n",
    "    station = station.where((station['time.year'] <= year_max), drop=True)\n",
    "    ax.plot(station['time'],station['mergedhydro'], label='obs', c='black')\n",
    "    \n",
    "    ax.set_ylabel('')\n",
    "    ax.set_xlabel('')\n",
    "    ax.legend()\n",
    "    ax.set_title('Station {}, on {} ({}-{})'.format(name, river, year_min, year_max))\n",
    "\n",
    "plt.suptitle(\"River discharge (m³/s)\")\n",
    "plt.tight_layout()"
   ]
  },
  {
   "cell_type": "code",
   "execution_count": null,
   "metadata": {},
   "outputs": [],
   "source": [
    "#Average time series\n",
    "var='streamr'\n",
    "ds1=tcst1ORC\n",
    "ds2=tcst2ORC\n",
    "ds3=tcst3ORC\n",
    "ds4=tcst4ORC\n",
    "ds5=std\n",
    "fig = plt.figure(figsize=(10, 6))\n",
    "ax = plt.axes()\n",
    "ax.grid()\n",
    "ds1[var].mean(dim=['lon','lat']).plot(ax=ax, label=ds1.name)\n",
    "ds2[var].mean(dim=['lon','lat']).plot(ax=ax, label=ds2.name)\n",
    "ds3[var].mean(dim=['lon','lat']).plot(ax=ax, label=ds3.name)\n",
    "ds4[var].mean(dim=['lon','lat']).plot(ax=ax, label=ds4.name)\n",
    "ds5[var].mean(dim=['lon','lat']).plot(ax=ax, label=ds5.name, c='grey')\n",
    "plt.title(ds1[var].long_name + '({})'.format(ds1[var].units))\n",
    "plt.legend()"
   ]
  },
  {
   "cell_type": "code",
   "execution_count": null,
   "metadata": {},
   "outputs": [],
   "source": [
    "#Time series\n",
    "year_min=2003\n",
    "year_max=2012\n",
    "# # Guadalquivir\n",
    "lon=-6.34\n",
    "lat=36.79\n",
    "\n",
    "var=\"hydrographs\"\n",
    "ds1=std\n",
    "ds1 = ds1.where(ds1['time.year'] >= year_min, drop=True).where(ds1['time.year'] <= year_max, drop=True)\n",
    "ds2=natDIAG_R\n",
    "ds2 = ds2.where(ds2['time.year'] >= year_min, drop=True).where(ds2['time.year'] <= year_max, drop=True)\n",
    "#plot the time series of hydrographs at the point (lon,lat)\n",
    "fig = plt.figure(figsize=(10, 6))\n",
    "ax = plt.axes()\n",
    "ax.grid()\n",
    "ax.set_ylabel('hydrographs')\n",
    "# ds1[var].sel(lon=lon, lat=lat, method='nearest').plot(ax=ax, label=ds1.name)\n",
    "ds2[var].sel(lon=lon, lat=lat, method='nearest').plot(ax=ax, label=ds2.name)\n",
    "# ds2['runoff'].sel(lon=lon, lat=lat, method='nearest').plot(ax=ax, label='runoff')\n",
    "plt.title('hydrographs at (' + str(lon) + ',' + str(lat) + '), m³/s')\n",
    "plt.legend()"
   ]
  },
  {
   "cell_type": "code",
   "execution_count": null,
   "metadata": {},
   "outputs": [],
   "source": [
    "#Time series\n",
    "year_min=2003\n",
    "year_max=2012\n",
    "lon=-8.875\n",
    "lat=41.86\n",
    "ds1=natDIAG_R\n",
    "ds1 = ds1.where(ds1['time.year'] >= year_min, drop=True).where(ds1['time.year'] <= year_max, drop=True)\n",
    "#plot the time series of hydrographs at the point (lon,lat)\n",
    "fig = plt.figure(figsize=(10, 6))\n",
    "ax = plt.axes()\n",
    "ax.grid()\n",
    "ds1['runoff'].sel(lon=lon, lat=lat, method='nearest').plot(ax=ax, label='runoff',c='green')\n",
    "ds1['drainage'].sel(lon=lon, lat=lat, method='nearest').plot(ax=ax, label='drainage',c='brown')\n",
    "# ['rain'].sel(lon=lon, lat=lat, method='nearest').plot(ax=ax, label='rainfall',c='blue')\n",
    "plt.title('Runoff and drainage at (' + str(lon) + ',' + str(lat) + '), mm/d')\n",
    "plt.legend()"
   ]
  }
 ],
 "metadata": {
  "kernelspec": {
   "display_name": "Python 3.12.2 64-bit",
   "language": "python",
   "name": "python3"
  },
  "language_info": {
   "codemirror_mode": {
    "name": "ipython",
    "version": 3
   },
   "file_extension": ".py",
   "mimetype": "text/x-python",
   "name": "python",
   "nbconvert_exporter": "python",
   "pygments_lexer": "ipython3",
   "version": "3.12.2"
  },
  "vscode": {
   "interpreter": {
    "hash": "9715f220877aa1dd3a10bcc1f3e7aef151ac70eccc8d755f78d50313f1675c6a"
   }
  }
 },
 "nbformat": 4,
 "nbformat_minor": 2
}
