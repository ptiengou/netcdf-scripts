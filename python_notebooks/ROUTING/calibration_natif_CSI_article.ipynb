{
 "cells": [
  {
   "cell_type": "markdown",
   "metadata": {},
   "source": [
    "# Imports and setting up viz\n",
    "\n",
    "NB : conda env1 on Mac, lam1env on spirit (Python3.12)"
   ]
  },
  {
   "cell_type": "code",
   "execution_count": null,
   "metadata": {},
   "outputs": [],
   "source": [
    "%load_ext autoreload\n",
    "%autoreload 2\n",
    "%matplotlib inline\n",
    "\n",
    "#import personnal tools\n",
    "import sys\n",
    "sys.path.append('../../python_tools/')\n",
    "from tools import *\n",
    "from tools_routing import *"
   ]
  },
  {
   "cell_type": "code",
   "execution_count": 3,
   "metadata": {},
   "outputs": [],
   "source": [
    "rivers = cfeature.NaturalEarthFeature('physical', 'rivers_lake_centerlines', '10m',edgecolor=(0, 0, 0, 0.3), facecolor='none')"
   ]
  },
  {
   "cell_type": "markdown",
   "metadata": {},
   "source": [
    "# Load files\n",
    "\n",
    "LAM output analysis, routing files.\n",
    "\n",
    "Simu irr et simu no-irr."
   ]
  },
  {
   "cell_type": "markdown",
   "metadata": {},
   "source": [
    "## Sims"
   ]
  },
  {
   "cell_type": "code",
   "execution_count": 4,
   "metadata": {},
   "outputs": [],
   "source": [
    "dir='/data/ptiengou/JZ_simu_outputs/routing_native'"
   ]
  },
  {
   "cell_type": "code",
   "execution_count": 5,
   "metadata": {},
   "outputs": [],
   "source": []
  },
  {
   "cell_type": "code",
   "execution_count": null,
   "metadata": {},
   "outputs": [],
   "source": [
    "filename='{}/tcst7_long/tcst7_hydrographs_1980-2010.nc'.format(dir)\n",
    "sim_noirr=xr.open_mfdataset(filename)\n",
    "rename_dict = {\n",
    "        'time_counter' : 'time',\n",
    "        'routing_hydrographs_r' : 'hydrographs',\n",
    "}\n",
    "sim_noirr = sim_noirr.rename(rename_dict)\n",
    "\n",
    "# Resample to monthly average\n",
    "# sim_noirr = sim_noirr.resample(time='MS').mean()\n",
    "\n",
    "#add unit m³/s to hydrographs\n",
    "sim_noirr['hydrographs'].attrs['units'] = 'm³/s'\n",
    "\n",
    "sim_noirr.attrs['name'] = 'no_irr'\n",
    "\n",
    "sim_noirr"
   ]
  },
  {
   "cell_type": "code",
   "execution_count": null,
   "metadata": {},
   "outputs": [],
   "source": [
    "filename='{}/tcst7irr/*diag_routing_r.nc'.format(dir)\n",
    "sim_irr = xr.open_mfdataset(filename)\n",
    "\n",
    "rename_dict = {\n",
    "        'time_counter' : 'time',\n",
    "        'routing_hydrographs_r' : 'hydrographs',\n",
    "}\n",
    "sim_irr = sim_irr.rename(rename_dict)\n",
    "\n",
    "# Resample to monthly average (necessary for first part of sim)\n",
    "# sim_irr = sim_irr.resample(time='MS').mean()\n",
    "\n",
    "#add unit m³/s to hydrographs\n",
    "sim_irr['hydrographs'].attrs['units'] = 'm³/s'\n",
    "\n",
    "sim_irr.attrs['name']='irr'\n",
    "\n",
    "sim_irr"
   ]
  },
  {
   "cell_type": "code",
   "execution_count": null,
   "metadata": {},
   "outputs": [],
   "source": [
    "filename='{}/tcst7irr0.6_long/*_hydrographs_1980-2010.nc'.format(dir)\n",
    "sim_irr_06 = xr.open_mfdataset(filename)\n",
    "\n",
    "rename_dict = {\n",
    "        'time_counter' : 'time',\n",
    "        'routing_hydrographs_r' : 'hydrographs',\n",
    "}\n",
    "sim_irr_06 = sim_irr_06.rename(rename_dict)\n",
    "\n",
    "# Resample to monthly average (necessary for first part of sim)\n",
    "# sim_irr_06 = sim_irr_06.resample(time='MS').mean()\n",
    "\n",
    "#add unit m³/s to hydrographs\n",
    "sim_irr_06['hydrographs'].attrs['units'] = 'm³/s'\n",
    "\n",
    "sim_irr_06.attrs['name']='irr'\n",
    "\n",
    "sim_irr_06"
   ]
  },
  {
   "cell_type": "markdown",
   "metadata": {},
   "source": [
    "## Obs"
   ]
  },
  {
   "cell_type": "code",
   "execution_count": null,
   "metadata": {},
   "outputs": [],
   "source": [
    "filename = '../../../obs/streamflow/GRDC-Monthly_Spain.nc'\n",
    "# filename='../../../routing/GRDC_Monthly_Jan20_v1_ES.nc'\n",
    "obs = xr.open_dataset(filename)\n",
    "obs"
   ]
  },
  {
   "cell_type": "code",
   "execution_count": null,
   "metadata": {},
   "outputs": [],
   "source": [
    "#create a subdataset from obs with stations that are in dict stations_dict_filtered\n",
    "obs_filtered = obs.sel(id=(list(stations_dict_filtered.keys())))\n",
    "obs_filtered"
   ]
  },
  {
   "cell_type": "markdown",
   "metadata": {},
   "source": [
    "# River outlets and stations\n",
    "\n",
    "format :     id: {'name':,  'river':, 'lon_grid':, 'lat_grid':, 'year_min':, 'year_max': },\n"
   ]
  },
  {
   "cell_type": "code",
   "execution_count": null,
   "metadata": {},
   "outputs": [],
   "source": [
    "river_coords_merit = {\n",
    "        1:{'name':'Ebro','river':'Ebro', 'lon_grid': 0.86, 'lat_grid': 40.725, 'year_min':2010, 'year_max':2022 },\n",
    "        2:{'name':'Minho','river':'Minho', 'lon_grid': -8.875, 'lat_grid': 41.86, 'year_min':2010, 'year_max':2022 },\n",
    "        3:{'name':'Tajo','river':'Tajo', 'lon_grid': -9.175, 'lat_grid': 38.6875, 'year_min':2010, 'year_max':2022 },\n",
    "        4:{'name':'Duero','river':'Duero', 'lon_grid': -8.675, 'lat_grid': 41.1375, 'year_min':2010, 'year_max':2022 },\n",
    "        5:{'name':'Guadiana','river':'Guadiana', 'lon_grid': -7.39, 'lat_grid': 37.175, 'year_min':2010, 'year_max':2022 },\n",
    "        6:{'name':'Guadalquivir','river':'Guadalquivir', 'lon_grid': -6.325, 'lat_grid': 36.91, 'year_min':2010, 'year_max':2022 }\n",
    "}"
   ]
  },
  {
   "cell_type": "code",
   "execution_count": 21,
   "metadata": {},
   "outputs": [],
   "source": [
    "stations_merit = {\n",
    "    6298992: {'name': 'Albarreal De Tajo',  'river': 'Tajo', 'lon_grid':-4.17499303817749, 'lat_grid':39.891666412353516, 'year_min':2010, 'year_max':2021 },\n",
    "    # 6298249: {'name': 'Zaragoza',  'river': 'Ebro', 'lon_grid':-0.8749926686286926, 'lat_grid':41.65833282470703, 'year_min':2010, 'year_max':2021},\n",
    "    # 6298481: {'name': 'San Miguel del Pino', 'river': 'Duero', 'lon_grid':-4.92499303817749, 'lat_grid':41.508331298828125, 'year_min':2010, 'year_max':2021},\n",
    "    6298259:{'name': 'Badajoz', 'river': 'Guadiana', 'lat_grid': 38.85833358764648, 'lon_grid': -7.008326530456543, 'last_record': '2013-09-15', 'year_min':2010, 'year_max':2021},\n",
    "    6298564: {'name': 'Villanueva de Azoague', 'lon_grid':-5.641659736633301, 'lat_grid':41.974998474121094, 'year_min':2010, 'year_max':2010}\n",
    "}"
   ]
  },
  {
   "cell_type": "markdown",
   "metadata": {},
   "source": [
    "# Maps"
   ]
  },
  {
   "cell_type": "code",
   "execution_count": null,
   "metadata": {},
   "outputs": [],
   "source": [
    "ds=sim_irr\n",
    "var='hydrographs'\n",
    "map_ave(ds, var, cmap=wet, hex=True)"
   ]
  },
  {
   "cell_type": "code",
   "execution_count": null,
   "metadata": {},
   "outputs": [],
   "source": [
    "#diff\n",
    "ds1=sim_irr\n",
    "ds2=sim_noirr\n",
    "var='hydrographs'\n",
    "map_diff_ave(ds1, ds2, var)"
   ]
  },
  {
   "cell_type": "code",
   "execution_count": null,
   "metadata": {},
   "outputs": [],
   "source": [
    "#Display map of var for ds on restricted area\n",
    "var='hydrographs'\n",
    "ds = sim_irr\n",
    "\n",
    "subdomain = {\n",
    "    'latmin': 36.75,\n",
    "    'latmax': 37,\n",
    "    'lonmin': -6.5,\n",
    "    'lonmax': -6.25\n",
    "}\n",
    "subdomain = subdomain_spain\n",
    "\n",
    "#restrict ds to latmin, latmax, lonmin, lonmax\n",
    "ds=restrict_ds(ds, subdomain)\n",
    "plotvar = ds[var].mean(dim='time')\n",
    "map_plotvar(plotvar, cmap=reds)"
   ]
  },
  {
   "cell_type": "markdown",
   "metadata": {},
   "source": [
    "# Time series"
   ]
  },
  {
   "cell_type": "markdown",
   "metadata": {},
   "source": [
    "## Stations"
   ]
  },
  {
   "cell_type": "code",
   "execution_count": null,
   "metadata": {},
   "outputs": [],
   "source": [
    "fig=plt.figure(figsize=(10, 6))\n",
    "ax = plt.axes()\n",
    "# station_id, station_data=next(iter(stations_merit.items()))\n",
    "station_id=6226100\n",
    "\n",
    "ts_station(obs, ax, station_id)"
   ]
  },
  {
   "cell_type": "code",
   "execution_count": null,
   "metadata": {},
   "outputs": [],
   "source": [
    "#plot a time series for each station from station_dict_filtered\n",
    "fig, axes= plt.subplots(4,4, figsize=(40,25))\n",
    "axes= axes.flatten()\n",
    "ds_list=[sim_noirr, sim_irr]\n",
    "for i, (station_id, station_data) in enumerate(stations_dict_filtered.items()):\n",
    "    ts_with_obs(ds_list, obs, axes[i], station_id, station_data, year_min=2010, year_max=2022)\n",
    "    ts_station(obs,axes[i], station_id, name=station_data['name'], year_min=2010, year_max=2022)"
   ]
  },
  {
   "cell_type": "code",
   "execution_count": null,
   "metadata": {},
   "outputs": [],
   "source": [
    "#plot a seasonnal cycle for each station from station_dict_filtered\n",
    "fig, axes= plt.subplots(4,4, figsize=(40,25))\n",
    "axes= axes.flatten()\n",
    "ds_list=[sim_noirr, sim_irr]\n",
    "for i, (station_id, station_data) in enumerate(stations_dict_filtered.items()):\n",
    "    sc_with_obs(ds_list, obs, axes[i], station_id, station_data, year_min=2010, year_max=2022)\n",
    "    sc_station(obs,axes[i], station_id, name=station_data['name'], year_min=2010, year_max=2022)"
   ]
  },
  {
   "cell_type": "markdown",
   "metadata": {},
   "source": [
    "## Spatial averaging"
   ]
  },
  {
   "cell_type": "code",
   "execution_count": null,
   "metadata": {},
   "outputs": [],
   "source": [
    "var='hydrographs'\n",
    "\n",
    "ds1=sim_irr\n",
    "# ds2=ORCirr\n",
    "ds_list=[ds1, ds2]\n",
    "ds_list=[ds1]\n",
    "\n",
    "year_max=2015\n",
    "time_series_ave(ds_list, var, year_max=year_max, title=None)\n",
    "seasonal_cycle_ave(ds_list, var, title=None)"
   ]
  },
  {
   "cell_type": "markdown",
   "metadata": {},
   "source": [
    "## En un point lon-lat (ou plusieurs avec dict)"
   ]
  },
  {
   "cell_type": "code",
   "execution_count": null,
   "metadata": {},
   "outputs": [],
   "source": [
    "#Time series\n",
    "var=\"hydrographs\"\n",
    "ds1=sim_noirr\n",
    "ds_list=[ds1]\n",
    "year_min=2010\n",
    "year_max=2015\n",
    "lon=-6.325\n",
    "lat=36.91\n",
    "\n",
    "time_series_lonlat(ds_list, var, lon, lat, year_min=year_min, year_max=year_max, title=None)"
   ]
  },
  {
   "cell_type": "code",
   "execution_count": null,
   "metadata": {},
   "outputs": [],
   "source": [
    "ds_list=[sim_noirr]\n",
    "discharge_coord_ts(ds_list, stations_merit, var='hydrographs', year_min=2010, year_max=2015)"
   ]
  },
  {
   "cell_type": "code",
   "execution_count": null,
   "metadata": {},
   "outputs": [],
   "source": [
    "ds_list=[sim]\n",
    "discharge_coord_sc(ds_list, river_coords_merit, var='hydrographs', year_min=2010, year_max=2015)"
   ]
  },
  {
   "cell_type": "markdown",
   "metadata": {},
   "source": [
    "# Metrics"
   ]
  },
  {
   "cell_type": "markdown",
   "metadata": {},
   "source": [
    "## Compute and display in table"
   ]
  },
  {
   "cell_type": "code",
   "execution_count": null,
   "metadata": {},
   "outputs": [],
   "source": [
    "station_id, station = next(iter(stations_dict_filtered.items()))\n",
    "metric_list=[metric_sim_module, metric_obs_module, metric_bias, metric_rmse, metric_tcorr, metric_nse, metric_kge]\n",
    "for metric_to_use in metric_list:\n",
    "    metric_value=compute_metric_station(sim_noirr, obs, station_id, station, metric_to_use)\n",
    "    print('{} for station {} : {}'.format(metric_to_use.__short_name__, station['name'], metric_value))"
   ]
  },
  {
   "cell_type": "code",
   "execution_count": null,
   "metadata": {},
   "outputs": [],
   "source": [
    "# output a pandas dataframe with all metric values for a given list of metrics and stations\n",
    "sim=sim_noirr\n",
    "metric_list=[metric_sim_module, metric_obs_module, metric_bias, metric_rmse, metric_tcorr, metric_nse, metric_kge]\n",
    "stations_dict=stations_dict_filtered\n",
    "# define dataframe with one row per station and one column per metric\n",
    "df=[]\n",
    "for station_id, station in stations_dict.items():\n",
    "    df.append({'Station':station['name']})\n",
    "    for metric in metric_list:\n",
    "        name=metric.__short_name__\n",
    "        metric_value=compute_metric_station(sim, obs, station_id, station, metric)\n",
    "        metric_value=np.round(metric_value, 2)\n",
    "        # append metric_value to df\n",
    "        df[-1][name]=metric_value\n",
    "\n",
    "# convert df to pandas dataframe\n",
    "df_noirr=pd.DataFrame(df)\n",
    "# set Station as index\n",
    "df_noirr.set_index('Station', inplace=True)\n",
    "df_noirr['Bias (%)'] = np.round(df_noirr['Bias (m³/s)'] / df_noirr['Module (obs, m³/s)'], 3) * 100\n",
    "#move Bias (%) to the 4th column\n",
    "cols = df_noirr.columns.tolist()\n",
    "cols = cols[:3] + cols[-1:] + cols[3:-1]\n",
    "df_noirr = df_noirr[cols]\n",
    "df_noirr"
   ]
  },
  {
   "cell_type": "code",
   "execution_count": null,
   "metadata": {},
   "outputs": [],
   "source": [
    "# output a pandas dataframe with all metric values for a given list of metrics and stations\n",
    "sim=sim_irr\n",
    "metric_list=[metric_sim_module, metric_obs_module, metric_bias, metric_rmse, metric_tcorr, metric_nse, metric_kge]\n",
    "stations_dict=stations_dict_filtered\n",
    "# define dataframe with one row per station and one column per metric\n",
    "df=[]\n",
    "for station_id, station in stations_dict.items():\n",
    "    df.append({'Station':station['name']})\n",
    "    for metric in metric_list:\n",
    "        name=metric.__short_name__\n",
    "        metric_value=compute_metric_station(sim, obs, station_id, station, metric)\n",
    "        metric_value=np.round(metric_value, 2)\n",
    "        # append metric_value to df\n",
    "        df[-1][name]=metric_value\n",
    "\n",
    "# convert df to pandas dataframe\n",
    "df_irr=pd.DataFrame(df)\n",
    "# set Station as index\n",
    "df_irr.set_index('Station', inplace=True)\n",
    "df_irr['Bias (%)'] = np.round(df_irr['Bias (m³/s)'] / df_irr['Module (obs, m³/s)'], 3) * 100\n",
    "#move Bias (%) to the 4th column\n",
    "cols = df_irr.columns.tolist()\n",
    "cols = cols[:3] + cols[-1:] + cols[3:-1]\n",
    "df_irr = df_irr[cols]\n",
    "df_irr"
   ]
  },
  {
   "cell_type": "code",
   "execution_count": null,
   "metadata": {},
   "outputs": [],
   "source": [
    "df_noirr.describe()"
   ]
  },
  {
   "cell_type": "code",
   "execution_count": null,
   "metadata": {},
   "outputs": [],
   "source": [
    "df_irr.describe()"
   ]
  },
  {
   "cell_type": "markdown",
   "metadata": {},
   "source": [
    "## Display on map"
   ]
  },
  {
   "cell_type": "code",
   "execution_count": null,
   "metadata": {},
   "outputs": [],
   "source": [
    "sim=sim_noirr\n",
    "metric_to_use = metric_bias\n",
    "display_metric_map(sim, obs, stations_dict_filtered, metric_to_use, metric_min=-100, metric_max=100, legend=True)"
   ]
  },
  {
   "cell_type": "code",
   "execution_count": null,
   "metadata": {},
   "outputs": [],
   "source": [
    "sim=sim_irr\n",
    "metric_to_use = metric_bias\n",
    "display_metric_map(sim, obs, stations_dict_filtered, metric_to_use, metric_min=-100, metric_max=100, legend=True)"
   ]
  },
  {
   "cell_type": "code",
   "execution_count": null,
   "metadata": {},
   "outputs": [],
   "source": [
    "sim=sim_noirr\n",
    "metric_list=[metric_rmse, metric_tcorr, metric_nse, metric_kge]\n",
    "for metric_to_use in metric_list:\n",
    "    display_metric_map(sim, obs, stations_dict_filtered, metric_to_use, legend=True)"
   ]
  },
  {
   "cell_type": "code",
   "execution_count": null,
   "metadata": {},
   "outputs": [],
   "source": [
    "sim=sim_irr\n",
    "metric_list=[metric_rmse, metric_tcorr, metric_nse, metric_kge]\n",
    "for metric_to_use in metric_list:\n",
    "    display_metric_map(sim, obs, stations_dict_filtered, metric_to_use, legend=True)"
   ]
  }
 ],
 "metadata": {
  "kernelspec": {
   "display_name": "Python 3.12.2 64-bit",
   "language": "python",
   "name": "python3"
  },
  "language_info": {
   "codemirror_mode": {
    "name": "ipython",
    "version": 3
   },
   "file_extension": ".py",
   "mimetype": "text/x-python",
   "name": "python",
   "nbconvert_exporter": "python",
   "pygments_lexer": "ipython3",
   "version": "3.12.2"
  },
  "vscode": {
   "interpreter": {
    "hash": "9715f220877aa1dd3a10bcc1f3e7aef151ac70eccc8d755f78d50313f1675c6a"
   }
  }
 },
 "nbformat": 4,
 "nbformat_minor": 2
}
