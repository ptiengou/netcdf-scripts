{
 "cells": [
  {
   "cell_type": "markdown",
   "metadata": {},
   "source": [
    "# Imports and setting up viz"
   ]
  },
  {
   "cell_type": "code",
   "execution_count": null,
   "metadata": {},
   "outputs": [],
   "source": [
    "%load_ext autoreload\n",
    "%autoreload 2\n",
    "%matplotlib inline\n",
    "\n",
    "#import personnal tools\n",
    "import sys\n",
    "sys.path.append('../../python_tools/')\n",
    "from tools import *\n",
    "from tools_routing import *"
   ]
  },
  {
   "cell_type": "markdown",
   "metadata": {},
   "source": [
    "# Load files\n",
    "\n",
    "Looking at simulations over 30 years (1979-2008) to better understand the stabilisation dynamics of the routing (espacially native with MERIT grid)"
   ]
  },
  {
   "cell_type": "markdown",
   "metadata": {},
   "source": [
    "## Standard (nat7)"
   ]
  },
  {
   "cell_type": "code",
   "execution_count": null,
   "metadata": {},
   "outputs": [],
   "source": [
    "#open nat7/nat7_sechiba_history_all.nc as std\n",
    "filename = 'nat7/nat7_sechiba_history_all.nc'\n",
    "std = xr.open_dataset(filename)\n",
    "std"
   ]
  },
  {
   "cell_type": "markdown",
   "metadata": {},
   "source": [
    "## Native routing topo 0.5° (nat8)"
   ]
  },
  {
   "cell_type": "code",
   "execution_count": null,
   "metadata": {},
   "outputs": [],
   "source": [
    "#open nat8/nat8_sechiba_history_all.nc as natORC_half\n",
    "filename = 'nat8/nat8_sechiba_history_all.nc'\n",
    "natORC_half = xr.open_dataset(filename)\n",
    "natORC_half"
   ]
  },
  {
   "cell_type": "code",
   "execution_count": null,
   "metadata": {},
   "outputs": [],
   "source": [
    "#open nat8/diag_routing_monthly_all.nc as natDIAG_half\n",
    "filename = 'nat8/nat8_diag_routing_monthly_all.nc'\n",
    "natDIAG_half = xr.open_dataset(filename)\n",
    "natDIAG_half"
   ]
  },
  {
   "cell_type": "code",
   "execution_count": null,
   "metadata": {},
   "outputs": [],
   "source": [
    "#open nat8/nat8_diag_routing_r_all.nc as natDIAG__R_half\n",
    "filename = 'nat8/nat8_diag_routing_r_all.nc'\n",
    "natDIAG_R_half = xr.open_dataset(filename)\n",
    "natDIAG_R_half"
   ]
  },
  {
   "cell_type": "markdown",
   "metadata": {},
   "source": [
    "## Native routing topo MERIT (nat10)"
   ]
  },
  {
   "cell_type": "code",
   "execution_count": null,
   "metadata": {},
   "outputs": [],
   "source": [
    "#open sechiba_history_all.nc as natORC\n",
    "filename = 'nat10/dt3600/nat10_dt3600_sechiba_history_all.nc'\n",
    "natORC = xr.open_dataset(filename)\n",
    "natORC"
   ]
  },
  {
   "cell_type": "code",
   "execution_count": null,
   "metadata": {},
   "outputs": [],
   "source": [
    "#open diag_routing_all.nc\n",
    "filename = 'nat10/dt3600/nat10_dt3600_diag_routing_all.nc'\n",
    "natDIAG = xr.open_dataset(filename)\n",
    "natDIAG"
   ]
  },
  {
   "cell_type": "code",
   "execution_count": null,
   "metadata": {},
   "outputs": [],
   "source": [
    "#open file with hydrographs on 30 years sim\n",
    "filename = 'nat10/dt3600/nat10_dt3600_diag_routing_r_all.nc'\n",
    "natDIAG_R = xr.open_dataset(filename)\n",
    "natDIAG_R"
   ]
  },
  {
   "cell_type": "markdown",
   "metadata": {},
   "source": [
    "# File manipulations"
   ]
  },
  {
   "cell_type": "code",
   "execution_count": null,
   "metadata": {},
   "outputs": [],
   "source": [
    "#Change dataset names attribute for automatic labeling\n",
    "natORC.attrs['name'] = 'sechiba_history_native'\n",
    "natORC_half.attrs['name'] = 'sechiba_history_native_half'\n",
    "natDIAG_half.attrs['name'] = 'diag_routing_monthly_native_half'\n",
    "natDIAG_R_half.attrs['name'] = 'diag_routing_r_native_half'"
   ]
  },
  {
   "cell_type": "code",
   "execution_count": null,
   "metadata": {},
   "outputs": [],
   "source": [
    "#rename time_counter to time in all datasets\n",
    "std = std.rename({'time_counter' : 'time'})\n",
    "natORC_half = natORC_half.rename({'time_counter' : 'time'})\n",
    "natDIAG_half = natDIAG_half.rename({'time_counter' : 'time'})\n",
    "natDIAG_R_half = natDIAG_R_half.rename({'time_counter' : 'time'})\n",
    "natDIAG = natDIAG.rename({'time_counter' : 'time'})\n",
    "natDIAG_R = natDIAG_R.rename({'time_counter' : 'time'})\n",
    "natORC = natORC.rename({'time_counter' : 'time'})"
   ]
  },
  {
   "cell_type": "code",
   "execution_count": null,
   "metadata": {},
   "outputs": [],
   "source": [
    "#Rename variables in natDIAG_R_month and natDIAG_R\n",
    "dict = {'routing_stream_reservoir_r' : 'streamr',\n",
    "        'routing_fast_reservoir_r' : 'fastr',\n",
    "        'routing_slow_reservoir_r' : 'slowr',\n",
    "        'routing_hydrographs_r' : 'hydrographs'}\n",
    "#change the variables according to the dictionary\n",
    "natDIAG_R = natDIAG_R.rename(dict)\n",
    "natDIAG_R_half = natDIAG_R_half.rename(dict)"
   ]
  },
  {
   "cell_type": "code",
   "execution_count": null,
   "metadata": {},
   "outputs": [],
   "source": [
    "#Rename lat_domain_landpoints to lat and lon_domain_landpoints to lon in natDIAG\n",
    "# natDIAG = natDIAG.rename({'lat_domain_landpoints':'lat','lon_domain_landpoints':'lon'})\n",
    "\n",
    "#OR do it for lat_domain_landpoints_routing and lon_domain_landpoints_routing (for reservoirs)\n",
    "\n",
    "# natDIAG = natDIAG.rename({'lat_domain_landpoints_routing':'lat','lon_domain_landpoints_routing':'lon'})\n",
    "# natDIAG_half = natDIAG_half.rename({'lat_domain_landpoints_routing':'lat','lon_domain_landpoints_routing':'lon'})"
   ]
  },
  {
   "cell_type": "code",
   "execution_count": null,
   "metadata": {},
   "outputs": [],
   "source": [
    "#Rename variables in natDIAG_month\n",
    "dict = {'routing_stream_reservoir' : 'streamr',\n",
    "        'routing_fast_reservoir' : 'fastr',\n",
    "        'routing_slow_reservoir' : 'slowr',\n",
    "        'routing_drainage' : 'drainage',\n",
    "        'routing_runoff' : 'runoff',\n",
    "        'routing_riverflow' : 'riverflow',\n",
    "        'routing_coastalflow' : 'coastalflow'}\n",
    "#change the variables that exist according to the dictionary\n",
    "natDIAG = natDIAG.rename(dict)\n",
    "natDIAG_half = natDIAG_half.rename(dict)"
   ]
  },
  {
   "cell_type": "markdown",
   "metadata": {},
   "source": [
    "# Maps"
   ]
  },
  {
   "cell_type": "code",
   "execution_count": null,
   "metadata": {},
   "outputs": [],
   "source": [
    "#Display map of var for ds\n",
    "var='fastr'\n",
    "ds = natORC\n",
    "plotvar = ds[var].mean(dim='time')\n",
    "fig = plt.figure(figsize=(10, 6))\n",
    "ax = plt.axes(projection=ccrs.PlateCarree())\n",
    "ax.coastlines()\n",
    "ax.gridlines(draw_labels=True, dms=True, x_inline=False, y_inline=False)\n",
    "#use colormap with 20 bins from min to max value\n",
    "plotvar.plot(ax=ax, transform=ccrs.PlateCarree(), cmap=reds)\n",
    "plt.title(var + ' (' + ds.name + ')')"
   ]
  },
  {
   "cell_type": "code",
   "execution_count": null,
   "metadata": {},
   "outputs": [],
   "source": [
    "# Display map of var\n",
    "var = 'streamr'\n",
    "\n",
    "ds_std = std\n",
    "plotvar_std = ds_std[var].mean(dim='time')\n",
    "\n",
    "ds_nat = natORC\n",
    "plotvar_nat = ds_nat[var].mean(dim='time')\n",
    "\n",
    "# Create a figure with two subplots side by side\n",
    "fig, axs = plt.subplots(1, 2, figsize=(16, 6), subplot_kw={'projection': ccrs.PlateCarree()})\n",
    "fig.suptitle(var + ' average over the period')\n",
    "\n",
    "# Plot for std dataset\n",
    "axs[0].coastlines()\n",
    "plotvar_std.plot(ax=axs[0], transform=ccrs.PlateCarree(), cmap=reds)\n",
    "axs[0].set_title(f'{var} ({ds_std.name})')\n",
    "\n",
    "# Plot for natORC dataset\n",
    "axs[1].coastlines()\n",
    "plotvar_nat.plot(ax=axs[1], transform=ccrs.PlateCarree(), cmap=reds)\n",
    "axs[1].set_title(f'{var} ({ds_nat.name})')"
   ]
  },
  {
   "cell_type": "markdown",
   "metadata": {},
   "source": [
    "# Time series"
   ]
  },
  {
   "cell_type": "code",
   "execution_count": null,
   "metadata": {},
   "outputs": [],
   "source": [
    "river_coordinates = {\n",
    "    'Ebre': {'lon': 0.75, 'lat': 40.75},\n",
    "    'Minho': {'lon': -8.75, 'lat': 42.25},\n",
    "    'Douro': {'lon': -8.75, 'lat': 41.25},\n",
    "    'Tage': {'lon': -9.25, 'lat': 39.25},\n",
    "    'Guadiana': {'lon': -7.25, 'lat': 38.25},\n",
    "    'Guadalquivir': {'lon': -6.25, 'lat': 36.75}\n",
    "}"
   ]
  },
  {
   "cell_type": "code",
   "execution_count": null,
   "metadata": {},
   "outputs": [],
   "source": [
    "river_coordinates_native = {\n",
    "    'Ebre': {'lon': 0.86, 'lat': 40.725},\n",
    "    'Minho': {'lon': -8.875, 'lat': 41.86},\n",
    "    'Douro': {'lon': -8.675, 'lat': 41.1375},\n",
    "    'Tage': {'lon': -9.175, 'lat': 38.6875},\n",
    "    'Guadiana': {'lon': -7.39, 'lat': 37.175},\n",
    "    'Guadalquivir': {'lon': -6.34, 'lat': 36.79}\n",
    "}"
   ]
  },
  {
   "cell_type": "code",
   "execution_count": null,
   "metadata": {},
   "outputs": [],
   "source": [
    "#Time series on a specific lon-lat point\n",
    "year_min=1979\n",
    "year_max=2008\n",
    "\n",
    "# lon=-6.34\n",
    "# lat=36.79\n",
    "lon=-8.75\n",
    "lat=39.25\n",
    "\n",
    "var=\"streamr\"\n",
    "ds1=natORC\n",
    "ds1 = ds1.where(ds1['time.year'] >= year_min, drop=True).where(ds1['time.year'] <= year_max, drop=True)\n",
    "ds2=natORC_half\n",
    "ds2 = ds2.where(ds2['time.year'] >= year_min, drop=True).where(ds2['time.year'] <= year_max, drop=True)\n",
    "ds3=std\n",
    "ds3 = ds3.where(ds3['time.year'] >= year_min, drop=True).where(ds3['time.year'] <= year_max, drop=True)\n",
    "#plot the time series of hydrographs at the point (lon,lat)\n",
    "fig = plt.figure(figsize=(10, 6))\n",
    "ax = plt.axes()\n",
    "ax.grid()\n",
    "ds2[var].sel(lon=lon, lat=lat, method='nearest').plot(ax=ax, label=ds2.name)\n",
    "ds3[var].sel(lon=lon, lat=lat, method='nearest').plot(ax=ax, label=ds3.name)\n",
    "ds1[var].sel(lon=lon, lat=lat, method='nearest').plot(ax=ax, label=ds1.name)\n",
    "plt.title(var + ' at (' + str(lon) + ',' + str(lat) + ')')\n",
    "plt.legend()"
   ]
  },
  {
   "cell_type": "code",
   "execution_count": null,
   "metadata": {},
   "outputs": [],
   "source": [
    "#Time series on grid average\n",
    "year_min=1979\n",
    "year_max=2008\n",
    "var=\"streamr\"\n",
    "ds1= natORC\n",
    "ds1 = ds1.where(ds1['time.year'] >= year_min, drop=True).where(ds1['time.year'] <= year_max, drop=True)\n",
    "ds2=natORC_half\n",
    "ds2 = ds2.where(ds2['time.year'] >= year_min, drop=True).where(ds2['time.year'] <= year_max, drop=True)\n",
    "ds3=std\n",
    "ds3 = ds3.where(ds3['time.year'] >= year_min, drop=True).where(ds3['time.year'] <= year_max, drop=True)\n",
    "#plot the time series of var\n",
    "fig = plt.figure(figsize=(8, 5))\n",
    "ax = plt.axes()\n",
    "ax.grid()\n",
    "ds2[var].mean(dim=('lat','lon')).plot(ax=ax, label=ds2.name)\n",
    "ds3[var].mean(dim=('lat','lon')).plot(ax=ax, label=ds3.name)\n",
    "ds1[var].mean(dim=('lat','lon')).plot(ax=ax, label=ds1.name)\n",
    "plt.title(var + ' grid average (' + std[var].units + ')')\n",
    "plt.legend()"
   ]
  },
  {
   "cell_type": "code",
   "execution_count": null,
   "metadata": {},
   "outputs": [],
   "source": [
    "#cycle saisonnier pour 6 points de grille\n",
    "var = \"hydrographs\"\n",
    "ds1 = std\n",
    "ds2 = natDIAG_R_half\n",
    "ds3 = natDIAG_R\n",
    "spinup_last_year=1994\n",
    "#remove years before spinup for all datasets\n",
    "ds1 = ds1.where(ds1['time.year'] >= spinup_last_year, drop=True)\n",
    "ds2 = ds2.where(ds2['time.year'] >= spinup_last_year, drop=True)\n",
    "ds3 = ds3.where(ds3['time.year'] >= spinup_last_year, drop=True)\n",
    "\n",
    "# Create subplots for each river in a 2x3 grid\n",
    "fig, axes = plt.subplots(nrows=2, ncols=3, figsize=(20, 10))\n",
    "\n",
    "# Flatten the axes array for easier iteration\n",
    "axes = axes.flatten()\n",
    "\n",
    "# Iterate over rivers and plot hydrographs\n",
    "for i, (river, coordinates) in enumerate(river_coordinates.items()):\n",
    "    lon = coordinates['lon']\n",
    "    lat = coordinates['lat']\n",
    "    \n",
    "    ax = axes[i]\n",
    "\n",
    "    #Compute the annual cycle of hydrographs at the point (lon, lat) for each dataset\n",
    "    # ds1[var].sel(lon=lon, lat=lat, method='nearest').groupby('time.month').mean(dim='time').plot(ax=ax, label=ds1.name)\n",
    "    # ds2[var].sel(lon=lon, lat=lat, method='nearest').groupby('time.month').mean(dim='time').plot(ax=ax, label=ds2.name)\n",
    "\n",
    "for i, (river, coordinates) in enumerate(river_coordinates_native.items()):\n",
    "    lon = coordinates['lon']\n",
    "    lat = coordinates['lat']\n",
    "    \n",
    "    ax = axes[i]\n",
    "\n",
    "    # Compute the annual cycle of hydrographs at the point (lon, lat) for each dataset\n",
    "    ds3[var].sel(lon=lon, lat=lat, method='nearest').groupby('time.month').mean(dim='time').plot(ax=ax, label=ds3.name)\n",
    "    \n",
    "    ax.legend()\n",
    "    #set subplot title to river name\n",
    "    ax.set_title(river)\n",
    "\n",
    "# Remove any remaining empty subplots\n",
    "for i in range(len(river_coordinates), len(axes)):\n",
    "    fig.delaxes(axes[i])\n",
    "\n",
    "plt.suptitle(\"Cycle saisonnier du débit à l'exutoire (m³/s, à partir de {})\".format(spinup_last_year))\n",
    "plt.tight_layout()"
   ]
  },
  {
   "cell_type": "code",
   "execution_count": null,
   "metadata": {},
   "outputs": [],
   "source": [
    "#série temporelle pour 6 points de grille\n",
    "var = \"hydrographs\"\n",
    "ds1 = std\n",
    "ds2 = natDIAG_R_half\n",
    "ds3 = natDIAG_R\n",
    "\n",
    "# Create subplots for each river in a 2x3 grid\n",
    "fig, axes = plt.subplots(nrows=2, ncols=3, figsize=(20, 10))\n",
    "\n",
    "# Flatten the axes array for easier iteration\n",
    "axes = axes.flatten()\n",
    "\n",
    "# Iterate over rivers and plot hydrographs\n",
    "for i, (river, coordinates) in enumerate(river_coordinates.items()):\n",
    "    lon = coordinates['lon']\n",
    "    lat = coordinates['lat']\n",
    "    \n",
    "    ax = axes[i]\n",
    "\n",
    "    # Compute the annual cycle of hydrographs at the point (lon, lat) for each dataset\n",
    "    ds1[var].sel(lon=lon, lat=lat, method='nearest').plot(ax=ax, label=ds1.name)\n",
    "    ds2[var].sel(lon=lon, lat=lat, method='nearest').plot(ax=ax, label=ds2.name)\n",
    "\n",
    "for i, (river, coordinates) in enumerate(river_coordinates_native.items()):\n",
    "    lon = coordinates['lon']\n",
    "    lat = coordinates['lat']\n",
    "    \n",
    "    ax = axes[i]\n",
    "\n",
    "    # Compute the annual cycle of hydrographs at the point (lon, lat) for each dataset\n",
    "    ds3[var].sel(lon=lon, lat=lat, method='nearest').plot(ax=ax, label=ds3.name)\n",
    "    \n",
    "    ax.legend()\n",
    "    #set subplot title to river name\n",
    "    ax.set_title(river)\n",
    "\n",
    "# Remove any remaining empty subplots\n",
    "for i in range(len(river_coordinates), len(axes)):\n",
    "    fig.delaxes(axes[i])\n",
    "\n",
    "plt.suptitle(\"Série temporelle du débit à l'exutoire (m³/s)\")\n",
    "plt.tight_layout()"
   ]
  }
 ],
 "metadata": {
  "kernelspec": {
   "display_name": "Python 3",
   "language": "python",
   "name": "python3"
  },
  "language_info": {
   "codemirror_mode": {
    "name": "ipython",
    "version": 3
   },
   "file_extension": ".py",
   "mimetype": "text/x-python",
   "name": "python",
   "nbconvert_exporter": "python",
   "pygments_lexer": "ipython3",
   "version": "3.12.2"
  }
 },
 "nbformat": 4,
 "nbformat_minor": 2
}
