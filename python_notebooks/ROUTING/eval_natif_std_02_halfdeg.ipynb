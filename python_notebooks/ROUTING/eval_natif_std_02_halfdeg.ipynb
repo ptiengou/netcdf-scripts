{
 "cells": [
  {
   "cell_type": "markdown",
   "metadata": {},
   "source": [
    "# Imports and setting up viz"
   ]
  },
  {
   "cell_type": "code",
   "execution_count": null,
   "metadata": {},
   "outputs": [],
   "source": [
    "%load_ext autoreload\n",
    "%autoreload 2\n",
    "%matplotlib inline\n",
    "\n",
    "#import personnal tools\n",
    "import sys\n",
    "sys.path.append('../../python_tools/')\n",
    "from tools import *\n",
    "from tools_routing import *"
   ]
  },
  {
   "cell_type": "markdown",
   "metadata": {},
   "source": [
    "# Load files\n",
    "File to evaluate the behaviour of native routing compared to standard.\n",
    "\n",
    "First working on the same topographic grid (0.5°).\n",
    "\n",
    "4 files are considered : one from the standard routing simulation, three from the native routing simulation (sechiba_history, diag_routing, diag_routing_r)"
   ]
  },
  {
   "cell_type": "code",
   "execution_count": null,
   "metadata": {},
   "outputs": [],
   "source": [
    "dir='../../../JZ_simu_outputs/routing_native'"
   ]
  },
  {
   "cell_type": "code",
   "execution_count": null,
   "metadata": {},
   "outputs": [],
   "source": [
    "#open netcdf files for standard routing\n",
    "filename = '{}/eval_halfdeg/nat7.1/MO/nat7.1_*_1M_sechiba_history.nc'.format(dir)\n",
    "std = xr.open_mfdataset(filename)\n",
    "std"
   ]
  },
  {
   "cell_type": "code",
   "execution_count": null,
   "metadata": {},
   "outputs": [],
   "source": [
    "#open netcdf files for native routing on ORC grid\n",
    "# filename = 'nat8.1/MO/nat8.1_*_1M_sechiba_history.nc'\n",
    "filename = '{}/eval_halfdeg/nat14/MO/nat14_*_1M_sechiba_history.nc'.format(dir)\n",
    "natORC = xr.open_mfdataset(filename)\n",
    "natORC"
   ]
  },
  {
   "cell_type": "code",
   "execution_count": null,
   "metadata": {},
   "outputs": [],
   "source": [
    "#open netcdf files for native routing diag_routing.nc (on ORC grid)\n",
    "# filename = 'nat8.1/routing_ORC_grid/nat8.1_*_routing.nc'\n",
    "filename = '{}/eval_halfdeg/nat14/DA/nat14_*_routing.nc'.format(dir)\n",
    "natDIAG = xr.open_mfdataset(filename)\n",
    "natDIAG"
   ]
  },
  {
   "cell_type": "code",
   "execution_count": null,
   "metadata": {},
   "outputs": [],
   "source": [
    "#open netcdf files for native routing diag_routing_r (regridded to 38x36)\n",
    "# filename = 'nat8.1/routing_native_grid_regridded/nat8.1_*.nc'\n",
    "filename = '{}/eval_halfdeg/nat14/DA/nat14_*routing_r.nc'.format(dir)\n",
    "natDIAG_R = xr.open_mfdataset(filename)\n",
    "natDIAG_R"
   ]
  },
  {
   "cell_type": "markdown",
   "metadata": {},
   "source": [
    "# File manipulations"
   ]
  },
  {
   "cell_type": "code",
   "execution_count": null,
   "metadata": {},
   "outputs": [],
   "source": [
    "#rename time_counter to time all files\n",
    "std = std.rename({'time_counter' : 'time'})\n",
    "natORC = natORC.rename({'time_counter' : 'time'})\n",
    "natDIAG = natDIAG.rename({'time_counter' : 'time'})\n",
    "natDIAG_R = natDIAG_R.rename({'time_counter' : 'time'})"
   ]
  },
  {
   "cell_type": "code",
   "execution_count": null,
   "metadata": {},
   "outputs": [],
   "source": [
    "# Remove first years to consider a spinup\n",
    "spinupyears=[2000,2001,2002]\n",
    "# spinupyears=[]\n",
    "for year in spinupyears:\n",
    "    std = std.where(std['time.year'] != year, drop=True)\n",
    "    natORC = natORC.where(natORC['time.year'] != year, drop=True)\n",
    "    natDIAG = natDIAG.where(natDIAG['time.year'] != year, drop=True)\n",
    "    natDIAG_R = natDIAG_R.where(natDIAG_R['time.year'] != year, drop=True)"
   ]
  },
  {
   "cell_type": "code",
   "execution_count": null,
   "metadata": {},
   "outputs": [],
   "source": [
    "#Rename lat_domain_landpoints to lat and lon_domain_landpoints to lon in natDIAG\n",
    "# natDIAG = natDIAG.rename({'lat_domain_landpoints':'lat','lon_domain_landpoints':'lon'})\n",
    "\n",
    "#OR do it for lat_domain_landpoints_routing and lon_domain_landpoints_routing (for reservoirs)\n",
    "\n",
    "natDIAG = natDIAG.rename({'lat_domain_landpoints_routing':'lat','lon_domain_landpoints_routing':'lon'})\n",
    "natDIAG"
   ]
  },
  {
   "cell_type": "code",
   "execution_count": null,
   "metadata": {},
   "outputs": [],
   "source": [
    "#remove first and last longitude and latitude for natDIAG_R\n",
    "natDIAG_R = natDIAG_R.isel(lon=slice(2,-2),lat=slice(2,-2))"
   ]
  },
  {
   "cell_type": "code",
   "execution_count": null,
   "metadata": {},
   "outputs": [],
   "source": [
    "#extract monthly mean from natDIAG_R\n",
    "natDIAG_month= natDIAG.resample(time='MS').mean()\n",
    "#shift all values by 14 days to be in the middle of the month\n",
    "natDIAG_month['time'] = natDIAG_month['time'] + np.timedelta64(14, 'D')\n",
    "natDIAG_month"
   ]
  },
  {
   "cell_type": "code",
   "execution_count": null,
   "metadata": {},
   "outputs": [],
   "source": [
    "#extract monthly mean from natDIAG_R\n",
    "natDIAG_R_month= natDIAG_R.resample(time='MS').mean()\n",
    "#shift all values by 14 days to be in the middle of the month\n",
    "natDIAG_R_month['time'] = natDIAG_R_month['time'] + np.timedelta64(14, 'D')\n",
    "natDIAG_R_month"
   ]
  },
  {
   "cell_type": "code",
   "execution_count": null,
   "metadata": {},
   "outputs": [],
   "source": [
    "#Change dataset names attribute for automatic labeling\n",
    "std.attrs['name'] = 'Standard routing (subgrid_halfdeg)'\n",
    "natORC.attrs['name'] = 'Routing interp_topo_halfdeg'\n",
    "natDIAG_R.attrs['name'] = 'Routing interp_topo_halfdeg'\n",
    "natDIAG_month.attrs['name'] = 'diag_routing_monthly'\n",
    "natDIAG_R_month.attrs['name'] = 'diag_routing_monthly_r'"
   ]
  },
  {
   "cell_type": "code",
   "execution_count": null,
   "metadata": {},
   "outputs": [],
   "source": [
    "#Rename variables in natDIAG_R_month and natDIAG_R\n",
    "dict = {'routing_stream_reservoir_r' : 'streamr',\n",
    "        'routing_fast_reservoir_r' : 'fastr',\n",
    "        'routing_slow_reservoir_r' : 'slowr',\n",
    "        'routing_drainage_r' : 'drainage',\n",
    "        'routing_runoff_r' : 'runoff',\n",
    "        'routing_hydrographs_r' : 'hydrographs',\n",
    "        'routing_riverflow_r' : 'riverflow',\n",
    "        'routing_coastalflow_r' : 'coastalflow'}\n",
    "#change the variables that exist according to the dictionary\n",
    "natDIAG_R = natDIAG_R.rename(dict)\n",
    "natDIAG_R_month = natDIAG_R_month.rename(dict)"
   ]
  },
  {
   "cell_type": "code",
   "execution_count": null,
   "metadata": {},
   "outputs": [],
   "source": [
    "#Rename variables in natDIAG_month\n",
    "dict = {'routing_stream_reservoir' : 'streamr',\n",
    "        'routing_fast_reservoir' : 'fastr',\n",
    "        'routing_slow_reservoir' : 'slowr',\n",
    "        'routing_drainage' : 'drainage',\n",
    "        'routing_runoff' : 'runoff',\n",
    "        'routing_riverflow' : 'riverflow',\n",
    "        'routing_coastalflow' : 'coastalflow'}\n",
    "#change the variables that exist according to the dictionary\n",
    "natDIAG_month = natDIAG_month.rename(dict)\n",
    "natDIAG = natDIAG.rename(dict)\n",
    "natDIAG"
   ]
  },
  {
   "cell_type": "markdown",
   "metadata": {},
   "source": [
    "# Stations"
   ]
  },
  {
   "cell_type": "code",
   "execution_count": null,
   "metadata": {},
   "outputs": [],
   "source": [
    "filename='../../../routing/GRDC_Monthly_Jan20_v1_ES.nc'\n",
    "stations = xr.open_dataset(filename)\n",
    "stations"
   ]
  },
  {
   "cell_type": "code",
   "execution_count": null,
   "metadata": {},
   "outputs": [],
   "source": [
    "stations_merit = {\n",
    "    6298249: {'name': 'Zaragoza',  'river': 'Ebro', 'lon_grid':-0.8749926686286926, 'lat_grid':41.65833282470703, 'year_min':2003, 'year_max':2012},\n",
    "    6298992: {'name': 'Albarreal De Tajo',  'river': 'Tajo', 'lon_grid':-4.17499303817749, 'lat_grid':39.891666412353516, 'year_min':2003, 'year_max':2012 },\n",
    "    6298481: {'name': 'San Miguel del Pino', 'river': 'Duero', 'lon_grid':-4.92499303817749, 'lat_grid':41.508331298828125, 'year_min':2003, 'year_max':2012},\n",
    "    6298259:{'name': 'Badajoz', 'river': 'Guadiana', 'lat_grid': 38.85833358764648, 'lon_grid': -7.008326530456543, 'last_record': '2013-09-15', 'year_min':2003, 'year_max':2012}\n",
    "                }"
   ]
  },
  {
   "cell_type": "code",
   "execution_count": null,
   "metadata": {},
   "outputs": [],
   "source": [
    "# plot station location on a map with rivers and coastlines\n",
    "fig = plt.figure(figsize=(10, 10))\n",
    "ax = plt.axes(projection=ccrs.PlateCarree())\n",
    "ax.coastlines()\n",
    "ax.add_feature(cartopy.feature.RIVERS)\n",
    "ax.set_extent([-10, 4, 35, 45])\n",
    "gl = ax.gridlines(draw_labels=True, dms=True, x_inline=False, y_inline=False)\n",
    "gl.ylocator = gl.ylocator = plt.MaxNLocator(5)\n",
    "gl.right_labels = False\n",
    "gl.top_labels = False\n",
    "for key, coordinates in stations_merit.items():\n",
    "    plt.scatter(coordinates['lon_grid'], coordinates['lat_grid'], s=30, label=coordinates['name'], marker='o')\n",
    "plt.title('Location of selected station')\n",
    "#activate legend and put it in the bottom right corner\n",
    "plt.legend(loc='lower right')"
   ]
  },
  {
   "cell_type": "code",
   "execution_count": null,
   "metadata": {},
   "outputs": [],
   "source": [
    "# visualize time series for selected stations\n",
    "fig, ax = plt.subplots(2, 2, figsize=(25, 10))\n",
    "ax = ax.flatten()\n",
    "for i, (key, coordinates) in enumerate(stations_merit.items()):\n",
    "    mask = (stations['number'] == key)\n",
    "    station = stations.sel(stations=mask)\n",
    "    #remove years before 2003 and after 2012\n",
    "    station = station.where((station['time.year'] >= coordinates['year_min']), drop=True)\n",
    "    station = station.where((station['time.year'] <= coordinates['year_max']), drop=True)\n",
    "    ax[i].plot(station['time'],station['mergedhydro'], label='obs', c='black')\n",
    "    ax[i].set_title(coordinates['name'])\n",
    "    ax[i].set_ylabel('discharge [m3/s]')\n",
    "    ax[i].legend()"
   ]
  },
  {
   "cell_type": "markdown",
   "metadata": {},
   "source": [
    "# Maps"
   ]
  },
  {
   "cell_type": "code",
   "execution_count": null,
   "metadata": {},
   "outputs": [],
   "source": [
    "#Display map of var for ds\n",
    "var='fastr'\n",
    "ds = natDIAG_R_month\n",
    "valmax=1\n",
    "plotvar = ds[var].mean(dim='time')\n",
    "plotvar=plotvar.where(plotvar>1e-5)\n",
    "fig = plt.figure(figsize=(10, 6))\n",
    "ax = plt.axes(projection=ccrs.PlateCarree())\n",
    "ax.coastlines()\n",
    "ax.gridlines(draw_labels=True, dms=True, x_inline=False, y_inline=False)\n",
    "#use colormap with 20 bins from min to max value\n",
    "plotvar.plot(ax=ax, transform=ccrs.PlateCarree(), cmap=myvir, vmax=valmax)\n",
    "plt.title(var + ' (' + ds.name + ')')"
   ]
  },
  {
   "cell_type": "code",
   "execution_count": null,
   "metadata": {},
   "outputs": [],
   "source": [
    "# Display map of var\n",
    "var = 'hydrographs'\n",
    "max_val=600\n",
    "\n",
    "ds_std = std\n",
    "plotvar_std = ds_std[var].mean(dim='time')\n",
    "plotvar_std=plotvar_std.where(plotvar_std>0)\n",
    "\n",
    "ds_nat = natDIAG_R\n",
    "plotvar_nat = ds_nat[var].mean(dim='time')\n",
    "plotvar_nat=plotvar_nat.where(plotvar_nat>0)\n",
    "\n",
    "# Create a figure with two subplots side by side\n",
    "fig, axs = plt.subplots(1, 2, figsize=(16, 6), subplot_kw={'projection': ccrs.PlateCarree()})\n",
    "# fig.suptitle(var + ' average over the period (2003-2012)')\n",
    "fig.suptitle(ds_std[var].long_name + ' average over the period (2003-2012, {})'.format(ds_std[var].units))\n",
    "\n",
    "# Plot for std dataset\n",
    "axs[0].coastlines()\n",
    "plotvar_std.plot(ax=axs[0], transform=ccrs.PlateCarree(), cmap=reds, vmax=max_val)\n",
    "axs[0].set_title(f'{ds_std.name}')\n",
    "\n",
    "# Plot for natORC dataset\n",
    "axs[1].coastlines()\n",
    "plotvar_nat.plot(ax=axs[1], transform=ccrs.PlateCarree(), cmap=reds, vmax=max_val)\n",
    "axs[1].set_title(f'{ds_nat.name}')"
   ]
  },
  {
   "cell_type": "code",
   "execution_count": null,
   "metadata": {},
   "outputs": [],
   "source": [
    "#RMSE map\n",
    "var='fastr'\n",
    "ds1=std\n",
    "ds2=natORC\n",
    "#compute RMSE between ds1 and ds2\n",
    "rmse = np.sqrt(((ds1[var]-ds2[var])**2).mean(dim='time'))\n",
    "rel_rmse = rmse/ds2[var].mean(dim='time')\n",
    "\n",
    "#output the value of the rmse after spatial averaging over all grid points\n",
    "print(var + ' RMSE (' + ds1.name + '-' + ds2.name+ ', spatial and temporal mean) : ' + str(rmse.mean(dim=['lon','lat']).values))\n",
    "\n",
    "#display map of rmse\n",
    "fig = plt.figure(figsize=(10, 6))\n",
    "ax = plt.axes(projection=ccrs.PlateCarree())\n",
    "ax.coastlines()\n",
    "rmse.where(rmse>0).plot(ax=ax, transform=ccrs.PlateCarree(), cmap=reds)\n",
    "# plt.title(ds1[var].long_name + ' average RMSE  (' + ds1.name + ' - ' + ds2.name + ')')\n",
    "plt.title(ds1[var].long_name + ' average RMSD')"
   ]
  },
  {
   "cell_type": "code",
   "execution_count": null,
   "metadata": {},
   "outputs": [],
   "source": [
    "#Diff map\n",
    "var='hydrographs'\n",
    "ds1=natDIAG_R\n",
    "ds2=std\n",
    "maxval=None\n",
    "minval=None\n",
    "#compute diff between ds1 and ds2\n",
    "diff = (ds1[var]-ds2[var]).mean(dim='time')\n",
    "# rel_diff = ((ds1[var]-ds2[var]) / (ds2[var] + 1E-16)).mean(dim='time')\n",
    "# Transform rel_diff using log10\n",
    "# rel_diff_log = np.log10(rel_diff)\n",
    "#display map\n",
    "fig = plt.figure(figsize=(10, 6))\n",
    "ax = plt.axes(projection=ccrs.PlateCarree())\n",
    "ax.coastlines()\n",
    "# rel_diff.plot(ax=ax, transform=ccrs.PlateCarree(), cmap=emb)\n",
    "diff.where(diff!=0).plot(ax=ax, transform=ccrs.PlateCarree(), cmap=emb, vmin=minval, vmax=maxval)\n",
    "plt.title(ds2[var].long_name + ' difference')# (' + ds1.name + ' - ' + ds2.name + ')')"
   ]
  },
  {
   "cell_type": "code",
   "execution_count": null,
   "metadata": {},
   "outputs": [],
   "source": [
    "#RMSE and rRMSE values for multiple variables\n",
    "varlist=['streamr', 'fastr', 'slowr']\n",
    "# varlist=['drainage', 'runoff']\n",
    "ds1=natORC\n",
    "ds2=std\n",
    "#compute RMSE between ds1 and ds2\n",
    "for var in varlist:\n",
    "    rmse = np.sqrt(((ds1[var]-ds2[var])**2).mean(dim='time'))\n",
    "    # rel_rmse = rmse/ds2[var].mean(dim='time')\n",
    "    #output the value of the rmse after spatial averaging over all grid points\n",
    "    print(var + ' RMSE (' + ds1.name + '-' + ds2.name+ ', spatial and temporal mean) : ' + str((rmse.mean(dim=['lon','lat']).values)))\n",
    "    # print(var + ' rRMSE (' + ds1.name + '-' + ds2.name+ ', spatial and temporal mean) : ' + str((rel_rmse.mean(dim=['lon','lat']).values)))"
   ]
  },
  {
   "cell_type": "markdown",
   "metadata": {},
   "source": [
    "# Time series"
   ]
  },
  {
   "cell_type": "code",
   "execution_count": null,
   "metadata": {},
   "outputs": [],
   "source": [
    "#Average time series\n",
    "var='slowr'\n",
    "year_min=2000\n",
    "year_max=2012\n",
    "ds1=std\n",
    "ds1 = ds1.where(ds1['time.year'] >= year_min, drop=True).where(ds1['time.year'] <= year_max, drop=True)\n",
    "#plot the time series of hydrographs at the point (lon,lat)\n",
    "fig = plt.figure(figsize=(10, 6))\n",
    "ax = plt.axes()\n",
    "ax.grid()\n",
    "ds1[var].mean(dim=['lon','lat']).plot(ax=ax)\n",
    "plt.title(var + ' (' + ds1.name + ')')\n",
    "plt.legend()"
   ]
  },
  {
   "cell_type": "markdown",
   "metadata": {},
   "source": [
    "# Hydrographs en un point"
   ]
  },
  {
   "cell_type": "code",
   "execution_count": null,
   "metadata": {},
   "outputs": [],
   "source": [
    "river_coordinates = {\n",
    "    'Ebre': {'lon': 0.75, 'lat': 40.75},\n",
    "    'Tage': {'lon': -9.25, 'lat': 39.25},\n",
    "    'Douro': {'lon': -8.75, 'lat': 41.25},\n",
    "    'Guadiana': {'lon': -7.25, 'lat': 38.25},\n",
    "    'Guadalquivir': {'lon': -6.25, 'lat': 36.75},\n",
    "    'Minho': {'lon': -8.75, 'lat': 42.25}\n",
    "}"
   ]
  },
  {
   "cell_type": "code",
   "execution_count": null,
   "metadata": {},
   "outputs": [],
   "source": [
    "#Time series\n",
    "year_min=2003\n",
    "year_max=2011\n",
    "# Douro\n",
    "lon=-8.75\n",
    "lat=41.25\n",
    "\n",
    "var=\"hydrographs\"\n",
    "ds1=std\n",
    "ds1 = ds1.where(ds1['time.year'] >= year_min, drop=True).where(ds1['time.year'] <= year_max, drop=True)\n",
    "ds2=natDIAG_R\n",
    "ds2 = ds2.where(ds2['time.year'] >= year_min, drop=True).where(ds2['time.year'] <= year_max, drop=True)\n",
    "#plot the time series of hydrographs at the point (lon,lat)\n",
    "fig = plt.figure(figsize=(10, 6))\n",
    "ax = plt.axes()\n",
    "ax.grid()\n",
    "ax.set_ylabel('hydrographs')\n",
    "ds1[var].sel(lon=lon, lat=lat, method='nearest').plot(ax=ax, label=ds1.name)\n",
    "ds2[var].sel(lon=lon, lat=lat, method='nearest').plot(ax=ax, label=ds2.name)\n",
    "# ds2['runoff'].sel(lon=lon, lat=lat, method='nearest').plot(ax=ax, label='runoff')\n",
    "plt.title('hydrographs at (' + str(lon) + ',' + str(lat) + '), m³/s')\n",
    "plt.legend()"
   ]
  },
  {
   "cell_type": "code",
   "execution_count": null,
   "metadata": {},
   "outputs": [],
   "source": [
    "#Time series\n",
    "year_min=2010\n",
    "year_max=2011\n",
    "ds1=std\n",
    "ds1 = ds1.where(ds1['time.year'] >= year_min, drop=True).where(ds1['time.year'] <= year_max, drop=True)\n",
    "#plot the time series of hydrographs at the point (lon,lat)\n",
    "fig = plt.figure(figsize=(10, 6))\n",
    "ax = plt.axes()\n",
    "ax.grid()\n",
    "ds1['runoff'].sel(lon=lon, lat=lat, method='nearest').plot(ax=ax, label='runoff',c='green')\n",
    "ds1['drainage'].sel(lon=lon, lat=lat, method='nearest').plot(ax=ax, label='drainage',c='brown')\n",
    "ds1['rain'].sel(lon=lon, lat=lat, method='nearest').plot(ax=ax, label='rainfall',c='blue')\n",
    "plt.title('Runoff and drainage at (' + str(lon) + ',' + str(lat) + '), mm/d')\n",
    "plt.legend()"
   ]
  },
  {
   "cell_type": "code",
   "execution_count": null,
   "metadata": {},
   "outputs": [],
   "source": [
    "#Cycle saisonnier (moyenne par jour de l'année)\n",
    "var=\"hydrographs\"\n",
    "#Ebre\n",
    "# lon=0.75\n",
    "# lat=40.75\n",
    "# # Tage\n",
    "# lon=-9.25\n",
    "# lat=39.25\n",
    "# # Douro\n",
    "# lon=-8.75\n",
    "# lat=41.25\n",
    "# # Guadiana\n",
    "lon=-7.25\n",
    "lat=38.25\n",
    "# # Guadalquivir\n",
    "# lon=-6.25\n",
    "# lat=36.75\n",
    "ds1=std\n",
    "ds2=natDIAG_R\n",
    "fig = plt.figure(figsize=(10, 6))\n",
    "ax = plt.axes()\n",
    "ax.grid()\n",
    "ax.set_xlabel('month')\n",
    "ax.set_ylabel('hydrographs')\n",
    "ax.set_title('hydrographs at (' + str(lon) + ',' + str(lat) + ')')\n",
    "#compute the annual cycle of hydrographs at the point (lon,lat)\n",
    "ds1[var].sel(lon=lon, lat=lat, method='nearest').groupby('time.dayofyear').mean(dim='time').plot(ax=ax, label=ds1.name)\n",
    "ds2[var].sel(lon=lon, lat=lat, method='nearest').groupby('time.dayofyear').mean(dim='time').plot(ax=ax, label=ds2.name)\n",
    "plt.legend()"
   ]
  },
  {
   "cell_type": "code",
   "execution_count": null,
   "metadata": {},
   "outputs": [],
   "source": [
    "#cycle saisonnier pour 6 points de grille\n",
    "var = \"hydrographs\"\n",
    "ds1 = std\n",
    "ds2 = natDIAG_R\n",
    "\n",
    "# Create subplots for each river in a 2x3 grid\n",
    "fig, axes = plt.subplots(nrows=2, ncols=3, figsize=(20, 10))\n",
    "\n",
    "# Flatten the axes array for easier iteration\n",
    "axes = axes.flatten()\n",
    "\n",
    "# Iterate over rivers and plot hydrographs\n",
    "for i, (river, coordinates) in enumerate(river_coordinates.items()):\n",
    "    lon = coordinates['lon']\n",
    "    lat = coordinates['lat']\n",
    "    \n",
    "    ax = axes[i]\n",
    "\n",
    "    # Compute the annual cycle of hydrographs at the point (lon, lat) for each dataset\n",
    "    ds1[var].sel(lon=lon, lat=lat, method='nearest').groupby('time.month').mean(dim='time').plot(ax=ax, label=ds1.name)\n",
    "    ds2[var].sel(lon=lon, lat=lat, method='nearest').groupby('time.month').mean(dim='time').plot(ax=ax, label=ds2.name)\n",
    "    \n",
    "    ax.legend()\n",
    "    #set subplot title to river name\n",
    "    ax.set_title(river)\n",
    "\n",
    "# Remove any remaining empty subplots\n",
    "for i in range(len(river_coordinates), len(axes)):\n",
    "    fig.delaxes(axes[i])\n",
    "\n",
    "plt.suptitle(\"River discharge seasonnal cycle (m³/s, 2003-2012)\")\n",
    "plt.tight_layout()"
   ]
  },
  {
   "cell_type": "code",
   "execution_count": null,
   "metadata": {},
   "outputs": [],
   "source": [
    "#cycle saisonnier pour 6 stations\n",
    "var = \"hydrographs\"\n",
    "ds1 = std\n",
    "ds2 = natDIAG_R_month\n",
    "\n",
    "# Create subplots for each river in a 2x3 grid\n",
    "fig, axes = plt.subplots(nrows=2, ncols=2, figsize=(20, 10))\n",
    "\n",
    "# Flatten the axes array for easier iteration\n",
    "axes = axes.flatten()\n",
    "\n",
    "# Iterate over rivers and plot hydrographs\n",
    "# for i, (station, coordinates) in enumerate(stations_merit.items()):\n",
    "#     lon = coordinates['lon']\n",
    "#     lat = coordinates['lat']\n",
    "    \n",
    "#     ax = axes[i]\n",
    "\n",
    "#     # Compute the annual cycle of hydrographs at the point (lon, lat) for each dataset\n",
    "#     ds1[var].sel(lon=lon, lat=lat, method='nearest').groupby('time.month').mean(dim='time').plot(ax=ax, label=ds1.name)\n",
    "#     ds2[var].sel(lon=lon, lat=lat, method='nearest').groupby('time.month').mean(dim='time').plot(ax=ax, label=ds2.name)\n",
    "    \n",
    "#     ax.legend()\n",
    "#     #set subplot title to river name\n",
    "#     ax.set_title(river)\n",
    "\n",
    "for i, (key, coordinates) in enumerate(stations_merit.items()):\n",
    "    ax=axes[i]\n",
    "    mask = (stations['number'] == key)\n",
    "    station = stations.sel(stations=mask)\n",
    "    #remove years before 2003 and after 2012\n",
    "    station = station.where((station['time.year'] >= coordinates['year_min']), drop=True)\n",
    "    station = station.where((station['time.year'] <= coordinates['year_max']), drop=True)\n",
    "    ax.plot(station['time'],station['mergedhydro'], label='obs', c='black')\n",
    "\n",
    "    lon = coordinates['lon_grid']\n",
    "    lat = coordinates['lat_grid']\n",
    "    ds1[var].sel(lon=lon, lat=lat, method='nearest').plot(ax=ax, label=ds1.name)\n",
    "    ds2[var].sel(lon=lon, lat=lat, method='nearest').plot(ax=ax, label=ds2.name)\n",
    "\n",
    "    ax.set_title(coordinates['name'])\n",
    "    ax.set_ylabel('discharge [m3/s]')\n",
    "    ax.legend()\n",
    "\n",
    "# Remove any remaining empty subplots\n",
    "for i in range(len(river_coordinates), len(axes)):\n",
    "    fig.delaxes(axes[i])\n",
    "\n",
    "plt.suptitle(\"River discharge time series (m³/s)\")\n",
    "plt.tight_layout()"
   ]
  },
  {
   "cell_type": "code",
   "execution_count": null,
   "metadata": {},
   "outputs": [],
   "source": [
    "#cycle saisonnier pour 6 stations\n",
    "var = \"hydrographs\"\n",
    "ds1 = std\n",
    "ds2 = natDIAG_R\n",
    "\n",
    "# Create subplots for each river in a 2x3 grid\n",
    "fig, axes = plt.subplots(nrows=2, ncols=2, figsize=(20, 10))\n",
    "\n",
    "# Flatten the axes array for easier iteration\n",
    "axes = axes.flatten()\n",
    "\n",
    "# Iterate over rivers and plot hydrographs\n",
    "# for i, (station, coordinates) in enumerate(stations_merit.items()):\n",
    "#     lon = coordinates['lon']\n",
    "#     lat = coordinates['lat']\n",
    "    \n",
    "#     ax = axes[i]\n",
    "\n",
    "#     # Compute the annual cycle of hydrographs at the point (lon, lat) for each dataset\n",
    "#     ds1[var].sel(lon=lon, lat=lat, method='nearest').groupby('time.month').mean(dim='time').plot(ax=ax, label=ds1.name)\n",
    "#     ds2[var].sel(lon=lon, lat=lat, method='nearest').groupby('time.month').mean(dim='time').plot(ax=ax, label=ds2.name)\n",
    "    \n",
    "#     ax.legend()\n",
    "#     #set subplot title to river name\n",
    "#     ax.set_title(river)\n",
    "\n",
    "for i, (key, coordinates) in enumerate(stations_merit.items()):\n",
    "    ax=axes[i]\n",
    "\n",
    "    lon = coordinates['lon_grid']\n",
    "    lat = coordinates['lat_grid']\n",
    "    ds1[var].sel(lon=lon, lat=lat, method='nearest').groupby('time.month').mean(dim='time').plot(ax=ax, label=ds1.name)\n",
    "    ds2[var].sel(lon=lon, lat=lat, method='nearest').groupby('time.month').mean(dim='time').plot(ax=ax, label=ds2.name)\n",
    "\n",
    "\n",
    "    mask = (stations['number'] == key)\n",
    "    station = stations.sel(stations=mask)\n",
    "    #remove years before 2003 and after 2012\n",
    "    station = station.where((station['time.year'] >= coordinates['year_min']), drop=True)\n",
    "    station = station.where((station['time.year'] <= coordinates['year_max']), drop=True)\n",
    "    station = station.groupby('time.month').mean()\n",
    "    ax.plot(station['month'],station['mergedhydro'], label='obs', c='black')\n",
    "\n",
    "    ax.set_title(coordinates['name'])\n",
    "    ax.set_ylabel('discharge [m3/s]')\n",
    "    #add months name to x-axis ticks\n",
    "    months=['Jan','Feb','Mar','Apr','May','Jun','Jul','Aug','Sep','Oct','Nov','Dec']\n",
    "    ax.set_xticks(np.arange(1,13))\n",
    "    ax.set_xticklabels(months)\n",
    "    ax.legend()\n",
    "\n",
    "# Remove any remaining empty subplots\n",
    "for i in range(len(river_coordinates), len(axes)):\n",
    "    fig.delaxes(axes[i])\n",
    "\n",
    "plt.suptitle(\"River discharge seasonnal cycle (m³/s, 2003-2012)\")\n",
    "plt.tight_layout()"
   ]
  }
 ],
 "metadata": {
  "kernelspec": {
   "display_name": "lam1env",
   "language": "python",
   "name": "python3"
  },
  "language_info": {
   "codemirror_mode": {
    "name": "ipython",
    "version": 3
   },
   "file_extension": ".py",
   "mimetype": "text/x-python",
   "name": "python",
   "nbconvert_exporter": "python",
   "pygments_lexer": "ipython3",
   "version": "3.12.10"
  }
 },
 "nbformat": 4,
 "nbformat_minor": 2
}
