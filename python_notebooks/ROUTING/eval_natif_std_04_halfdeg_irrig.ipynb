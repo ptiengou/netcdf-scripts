{
 "cells": [
  {
   "cell_type": "markdown",
   "metadata": {},
   "source": [
    "# Imports and setting up viz"
   ]
  },
  {
   "cell_type": "code",
   "execution_count": 1,
   "metadata": {},
   "outputs": [],
   "source": [
    "%load_ext autoreload\n",
    "%autoreload 2\n",
    "%matplotlib inline\n",
    "\n",
    "#import personnal tools\n",
    "import sys\n",
    "sys.path.append('../../python_tools/')\n",
    "from tools import *\n",
    "from tools_routing import *"
   ]
  },
  {
   "cell_type": "markdown",
   "metadata": {},
   "source": [
    "# Load files\n",
    "File to evaluate the behaviour of irrigation in native routing compared to standard.\n",
    "\n",
    "First working on the same topographic grid (0.5°).\n",
    "\n",
    "4 files are considered : one from the standard routing simulation, three from the native routing simulation (sechiba_history, diag_routing, diag_routing_r)"
   ]
  },
  {
   "cell_type": "code",
   "execution_count": null,
   "metadata": {},
   "outputs": [],
   "source": [
    "#open netcdf files for standard routing\n",
    "filename = 'nat13/nat13_*_1M_sechiba_history.nc'\n",
    "std = xr.open_mfdataset(filename)\n",
    "std"
   ]
  },
  {
   "cell_type": "code",
   "execution_count": null,
   "metadata": {},
   "outputs": [],
   "source": [
    "#open netcdf files for native routing on ORC grid\n",
    "filename = 'nat15/MO/nat15*'\n",
    "natORC = xr.open_mfdataset(filename)\n",
    "natORC"
   ]
  },
  {
   "cell_type": "code",
   "execution_count": null,
   "metadata": {},
   "outputs": [],
   "source": [
    "#open netcdf files for native routing diag_routing.nc (on ORC grid)\n",
    "filename = 'nat15/DA/nat15_*_routing.nc'\n",
    "natDIAG = xr.open_mfdataset(filename)\n",
    "natDIAG"
   ]
  },
  {
   "cell_type": "code",
   "execution_count": null,
   "metadata": {},
   "outputs": [],
   "source": [
    "#open netcdf files for native routing diag_routing.nc (on MERIT grid)\n",
    "filename = 'nat15/DA/nat15_*_routing_r.nc'\n",
    "natDIAG_R = xr.open_mfdataset(filename)\n",
    "natDIAG_R"
   ]
  },
  {
   "cell_type": "markdown",
   "metadata": {},
   "source": [
    "# File manipulations"
   ]
  },
  {
   "cell_type": "code",
   "execution_count": null,
   "metadata": {},
   "outputs": [],
   "source": [
    "#rename time_counter to time all files\n",
    "std = std.rename({'time_counter' : 'time'})\n",
    "natORC = natORC.rename({'time_counter' : 'time'})\n",
    "natDIAG = natDIAG.rename({'time_counter' : 'time'})\n",
    "natDIAG_R = natDIAG_R.rename({'time_counter' : 'time'})"
   ]
  },
  {
   "cell_type": "code",
   "execution_count": null,
   "metadata": {},
   "outputs": [],
   "source": [
    "# Remove first years to consider a spinup\n",
    "spinupyears=[2000,2001,2002]\n",
    "# spinupyears=[]\n",
    "for year in spinupyears:\n",
    "    std = std.where(std['time.year'] != year, drop=True)\n",
    "    natORC = natORC.where(natORC['time.year'] != year, drop=True)\n",
    "    natDIAG = natDIAG.where(natDIAG['time.year'] != year, drop=True)\n",
    "    natDIAG_R = natDIAG_R.where(natDIAG_R['time.year'] != year, drop=True)"
   ]
  },
  {
   "cell_type": "code",
   "execution_count": null,
   "metadata": {},
   "outputs": [],
   "source": [
    "#Rename lat_domain_landpoints to lat and lon_domain_landpoints to lon in natDIAG (for runoff and drainage)\n",
    "# natDIAG = natDIAG.rename({'lat_domain_landpoints':'lat','lon_domain_landpoints':'lon'})\n",
    "\n",
    "#OR do it for lat_domain_landpoints_routing and lon_domain_landpoints_routing (for reservoirs)\n",
    "\n",
    "natDIAG = natDIAG.rename({'lat_domain_landpoints_routing':'lat','lon_domain_landpoints_routing':'lon'})\n",
    "natDIAG"
   ]
  },
  {
   "cell_type": "code",
   "execution_count": null,
   "metadata": {},
   "outputs": [],
   "source": [
    "#remove first and last longitude and latitude for natDIAG_R\n",
    "natDIAG_R = natDIAG_R.isel(lon=slice(2,-2),lat=slice(2,-2))\n",
    "natDIAG_R"
   ]
  },
  {
   "cell_type": "code",
   "execution_count": null,
   "metadata": {},
   "outputs": [],
   "source": [
    "#Change dataset names attribute for automatic labeling\n",
    "natORC.attrs['name'] = 'sechiba_history_native'"
   ]
  },
  {
   "cell_type": "code",
   "execution_count": null,
   "metadata": {},
   "outputs": [],
   "source": [
    "#Rename variables in natDIAG_R\n",
    "dict = {'routing_stream_reservoir_r' : 'streamr',\n",
    "        'routing_fast_reservoir_r' : 'fastr',\n",
    "        'routing_slow_reservoir_r' : 'slowr',\n",
    "        'routing_drainage_r' : 'drainage',\n",
    "        'routing_runoff_r' : 'runoff',\n",
    "        'routing_hydrographs_r' : 'hydrographs',\n",
    "        'routing_irrigation_r' : 'irrigation',\n",
    "        'irrig_netereq_r' : 'netirrig'\n",
    "        }\n",
    "#change the variables that exist according to the dictionary\n",
    "natDIAG_R = natDIAG_R.rename(dict)"
   ]
  },
  {
   "cell_type": "code",
   "execution_count": null,
   "metadata": {},
   "outputs": [],
   "source": [
    "coeff = std['Contfrac'] / std['Areas']\n",
    "#create variables _corr in natDIAG and fill it with var * coeff\n",
    "natDIAG['routing_stream_reservoir_corr'] = natDIAG['routing_stream_reservoir'] * coeff\n",
    "natDIAG['routing_fast_reservoir_corr'] = natDIAG['routing_fast_reservoir'] * coeff\n",
    "natDIAG['routing_slow_reservoir_corr'] = natDIAG['routing_slow_reservoir'] * coeff\n",
    "natDIAG['irrigation_corr'] = natDIAG['routing_irrigation'] * coeff * 48\n",
    "\n",
    "#rename coeff lat to lat_domain_landpoints and lon to lon_domain_landpoints\n",
    "coeff = coeff.rename({'lat':'lat_domain_landpoints','lon':'lon_domain_landpoints'})\n",
    "natDIAG['routing_runoff_corr'] = natDIAG['routing_runoff'] * coeff \n",
    "natDIAG['routing_drainage_corr'] = natDIAG['routing_drainage'] * coeff \n",
    "\n",
    "natDIAG"
   ]
  },
  {
   "cell_type": "code",
   "execution_count": null,
   "metadata": {},
   "outputs": [],
   "source": [
    "#Rename variables in natDIAG\n",
    "dict = {\n",
    "        \n",
    "        'routing_drainage' : 'drainage_orig',\n",
    "        'routing_runoff' : 'runoff_orig',\n",
    "        'routing_stream_reservoir' : 'streamr_orig',\n",
    "        'routing_fast_reservoir' : 'fastr_orig',\n",
    "        'routing_slow_reservoir' : 'slowr_orig',\n",
    "        'routing_irrigation' : 'irrigation_orig',        \n",
    "\n",
    "        'routing_drainage_corr' : 'drainage',\n",
    "        'routing_runoff_corr' : 'runoff',\n",
    "        'routing_stream_reservoir_corr' : 'streamr',\n",
    "        'routing_fast_reservoir_corr' : 'fastr',\n",
    "        'routing_slow_reservoir_corr' : 'slowr',\n",
    "        \n",
    "        'irrigation_corr' : 'irrigation'\n",
    "        }\n",
    "#change the variables that exist according to the dictionary\n",
    "natDIAG = natDIAG.rename(dict)"
   ]
  },
  {
   "cell_type": "markdown",
   "metadata": {},
   "source": [
    "# Maps"
   ]
  },
  {
   "cell_type": "code",
   "execution_count": null,
   "metadata": {},
   "outputs": [],
   "source": [
    "#Display map of var for ds\n",
    "var='irrigation'\n",
    "ds = natDIAG\n",
    "plotvar = ds[var].mean(dim='time')\n",
    "fig = plt.figure(figsize=(10, 6))\n",
    "ax = plt.axes(projection=ccrs.PlateCarree())\n",
    "ax.coastlines()\n",
    "ax.gridlines(draw_labels=True, dms=True, x_inline=False, y_inline=False)\n",
    "#use colormap reds\n",
    "plotvar.plot(ax=ax, transform=ccrs.PlateCarree(), cmap=myvir)\n",
    "plt.title(var + ' (' + ds.name + ')')"
   ]
  },
  {
   "cell_type": "code",
   "execution_count": null,
   "metadata": {},
   "outputs": [],
   "source": [
    "#Display map of var for ds on restricted area\n",
    "var='hydrographs'\n",
    "ds = std\n",
    "# ds = std\n",
    "latmin=36.0\n",
    "latmax=41.0\n",
    "lonmin=-5.0\n",
    "lonmax=-10.0\n",
    "\n",
    "#restrict ds to latmin, latmax, lonmin, lonmax\n",
    "ds = ds.where(ds.lat >= latmin, drop=True)\n",
    "ds = ds.where(ds.lat <= latmax, drop=True)\n",
    "ds = ds.where(ds.lon >= lonmin, drop=True)\n",
    "ds = ds.where(ds.lon <= lonmax, drop=True)\n",
    "plotvar = ds[var].mean(dim='time')\n",
    "fig = plt.figure(figsize=(10, 6))\n",
    "ax = plt.axes(projection=ccrs.PlateCarree())\n",
    "ax.coastlines()\n",
    "ax.gridlines(draw_labels=True, dms=True, x_inline=False, y_inline=False)\n",
    "#use colormap reds\n",
    "plotvar.plot(ax=ax, transform=ccrs.PlateCarree(), cmap=reds)\n",
    "plt.title(var + ' (' + ds.name + ')')"
   ]
  },
  {
   "cell_type": "code",
   "execution_count": null,
   "metadata": {},
   "outputs": [],
   "source": [
    "#Display map of var for ds averaged on a given year\n",
    "var='hydrographs'\n",
    "year=2012\n",
    "ds = natDIAG_R\n",
    "ds = ds.where(ds['time.year'] == year, drop=True)\n",
    "plotvar = ds[var].mean(dim='time')\n",
    "fig = plt.figure(figsize=(10, 6))\n",
    "ax = plt.axes(projection=ccrs.PlateCarree())\n",
    "ax.coastlines()\n",
    "ax.gridlines(draw_labels=True, dms=True, x_inline=False, y_inline=False)\n",
    "#use colormap reds\n",
    "plotvar.plot(ax=ax, transform=ccrs.PlateCarree(), cmap=myvir)\n",
    "plt.title(var + ' (' + ds.name + ')')"
   ]
  },
  {
   "cell_type": "code",
   "execution_count": null,
   "metadata": {},
   "outputs": [],
   "source": [
    "# Display map of var from 2 datasets\n",
    "var = 'irrigation'\n",
    "\n",
    "# First Dataset\n",
    "ds_std = std\n",
    "plotvar_std = ds_std[var].mean(dim='time')\n",
    "\n",
    "# Second Dataset\n",
    "ds_nat = natDIAG\n",
    "plotvar_nat = ds_nat[var].mean(dim='time')\n",
    "\n",
    "# Create a figure with two subplots side by side\n",
    "fig, axs = plt.subplots(1, 2, figsize=(18, 8), subplot_kw={'projection': ccrs.PlateCarree()})\n",
    "fig.suptitle(var + ' average over the period (2003-2012), ' + ds_std[var].units)\n",
    "\n",
    "# Plot for std dataset\n",
    "axs[0].coastlines()\n",
    "plotvar_std.plot(ax=axs[0], transform=ccrs.PlateCarree(), cmap=reds,vmax=0.6)\n",
    "axs[0].set_title(f'{var} ({ds_std.name})')\n",
    "\n",
    "# Plot for natORC dataset\n",
    "axs[1].coastlines()\n",
    "plotvar_nat.plot(ax=axs[1], transform=ccrs.PlateCarree(), cmap=reds,vmax=0.6)\n",
    "axs[1].set_title(f'{var} ({ds_nat.name})')"
   ]
  },
  {
   "cell_type": "code",
   "execution_count": null,
   "metadata": {},
   "outputs": [],
   "source": [
    "#RMSE map\n",
    "#Needed to plot RMSE on runoff or drainage (remember to revert it at the end)\n",
    "natDIAG = natDIAG.rename({'lat':'lat_domain_landpoints_routing','lon':'lon_domain_landpoints_routing'})\n",
    "natDIAG = natDIAG.rename({'lat_domain_landpoints':'lat','lon_domain_landpoints':'lon'})\n",
    "\n",
    "var='runoff'\n",
    "ds1=natORC\n",
    "ds2=natDIAG\n",
    "#compute RMSE between ds1 and ds2\n",
    "rmse = np.sqrt(((ds1[var]-ds2[var])**2).mean(dim='time'))\n",
    "rel_rmse = rmse/ds2[var].mean(dim='time')\n",
    "\n",
    "#output the value of the rmse after spatial averaging over all grid points\n",
    "print(var + ' RMSE (' + ds1.name + '-' + ds2.name+ ', spatial and temporal mean) : ' + str(rmse.mean(dim=['lon','lat']).values))\n",
    "\n",
    "#display map of rmse\n",
    "fig = plt.figure(figsize=(10, 6))\n",
    "ax = plt.axes(projection=ccrs.PlateCarree())\n",
    "ax.coastlines()\n",
    "rmse.plot(ax=ax, transform=ccrs.PlateCarree(), cmap=reds)\n",
    "plt.title(var + ' average RMSE  (' + ds1.name + ' - ' + ds2.name + ')')\n",
    "\n",
    "#revert dimension name change done above\n",
    "natDIAG = natDIAG.rename({'lat':'lat_domain_landpoints','lon':'lon_domain_landpoints'})\n",
    "natDIAG = natDIAG.rename({'lat_domain_landpoints_routing':'lat','lon_domain_landpoints_routing':'lon'})"
   ]
  },
  {
   "cell_type": "code",
   "execution_count": null,
   "metadata": {},
   "outputs": [],
   "source": [
    "#Diff map\n",
    "var='slowr'\n",
    "ds1=natORC\n",
    "ds2=std\n",
    "#compute diff between ds1 and ds2\n",
    "diff = (ds1[var]-ds2[var]).mean(dim='time')\n",
    "rel_diff = ((ds1[var]-ds2[var]) / (ds2[var] + 1E-16)).mean(dim='time')\n",
    "# Transform rel_diff using log10\n",
    "rel_diff_log = np.log10(rel_diff)\n",
    "#display map\n",
    "fig = plt.figure(figsize=(10, 6))\n",
    "ax = plt.axes(projection=ccrs.PlateCarree())\n",
    "ax.coastlines()\n",
    "# rel_diff.plot(ax=ax, transform=ccrs.PlateCarree(), cmap=emb)\n",
    "diff.plot(ax=ax, transform=ccrs.PlateCarree(), cmap=emb)\n",
    "plt.title(var + ' difference (' + ds1.name + ' - ' + ds2.name + ')')"
   ]
  },
  {
   "cell_type": "code",
   "execution_count": null,
   "metadata": {},
   "outputs": [],
   "source": [
    "#RMSE and rRMSE values for multiple variables\n",
    "varlist=['streamr', 'fastr', 'slowr']\n",
    "# varlist=['drainage', 'runoff']\n",
    "ds1=natORC\n",
    "ds2=std\n",
    "#compute RMSE between ds1 and ds2\n",
    "for var in varlist:\n",
    "    rmse = np.sqrt(((ds1[var]-ds2[var])**2).mean(dim='time'))\n",
    "    # rel_rmse = rmse/ds2[var].mean(dim='time')\n",
    "    #output the value of the rmse after spatial averaging over all grid points\n",
    "    print(var + ' RMSE (' + ds1.name + '-' + ds2.name+ ', spatial and temporal mean) : ' + str((rmse.mean(dim=['lon','lat']).values)))\n",
    "    # print(var + ' rRMSE (' + ds1.name + '-' + ds2.name+ ', spatial and temporal mean) : ' + str((rel_rmse.mean(dim=['lon','lat']).values)))"
   ]
  },
  {
   "cell_type": "markdown",
   "metadata": {},
   "source": [
    "# Time series"
   ]
  },
  {
   "cell_type": "code",
   "execution_count": null,
   "metadata": {},
   "outputs": [],
   "source": [
    "#Average time series\n",
    "var='irrigation'\n",
    "year_min=2003\n",
    "year_max=2012\n",
    "ds1=std\n",
    "ds1 = ds1.where(ds1['time.year'] >= year_min, drop=True).where(ds1['time.year'] <= year_max, drop=True)\n",
    "ds2=natDIAG\n",
    "ds2 = ds2.where(ds2['time.year'] >= year_min, drop=True).where(ds2['time.year'] <= year_max, drop=True)\n",
    "fig = plt.figure(figsize=(10, 6))\n",
    "ax = plt.axes()\n",
    "ax.grid()\n",
    "ds1[var].mean(dim=['lon','lat']).plot(ax=ax, label=ds1.name)\n",
    "ds2[var].mean(dim=['lon','lat']).plot(ax=ax, label=ds2.name)\n",
    "plt.title(var + (' (mm/d)'))\n",
    "plt.legend()"
   ]
  },
  {
   "cell_type": "code",
   "execution_count": null,
   "metadata": {},
   "outputs": [],
   "source": [
    "#Average seasonnal cycle\n",
    "var='irrigation'\n",
    "year_min=2003\n",
    "year_max=2012\n",
    "ds1=std\n",
    "ds1 = ds1.where(ds1['time.year'] >= year_min, drop=True).where(ds1['time.year'] <= year_max, drop=True)\n",
    "ds2=natDIAG\n",
    "ds2 = ds2.where(ds2['time.year'] >= year_min, drop=True).where(ds2['time.year'] <= year_max, drop=True)\n",
    "fig = plt.figure(figsize=(10, 6))\n",
    "ax = plt.axes()\n",
    "ax.grid()\n",
    "ds1[var].mean(dim=['lon','lat']).groupby('time.dayofyear').mean(dim='time').plot(ax=ax, label=ds1.name)\n",
    "ds2[var].mean(dim=['lon','lat']).groupby('time.dayofyear').mean(dim='time').plot(ax=ax, label=ds2.name)\n",
    "plt.title(var + (' seasonnal cycle (mm/d)'))\n",
    "plt.legend()"
   ]
  },
  {
   "cell_type": "markdown",
   "metadata": {},
   "source": [
    "# Hydrographs en un point"
   ]
  },
  {
   "cell_type": "code",
   "execution_count": null,
   "metadata": {},
   "outputs": [],
   "source": [
    "river_coordinates = {\n",
    "    'Ebre': {'lon': 0.75, 'lat': 40.75},\n",
    "    'Minho': {'lon': -8.75, 'lat': 42.25},\n",
    "    'Tage': {'lon': -9.25, 'lat': 39.25},\n",
    "    'Douro': {'lon': -8.75, 'lat': 41.25},\n",
    "    'Guadiana': {'lon': -7.25, 'lat': 38.25},\n",
    "    'Guadalquivir': {'lon': -6.25, 'lat': 36.75}\n",
    "}\n",
    "river_coordinates_native = {\n",
    "    'Ebre': {'lon': 0.86, 'lat': 40.725},\n",
    "    'Minho': {'lon': -8.875, 'lat': 41.86},\n",
    "    'Tage': {'lon': -9.175, 'lat': 38.6875},\n",
    "    'Douro': {'lon': -8.675, 'lat': 41.1375},\n",
    "    'Guadiana': {'lon': -7.39, 'lat': 37.175},\n",
    "    'Guadalquivir': {'lon': -6.34, 'lat': 36.79}\n",
    "}"
   ]
  },
  {
   "cell_type": "code",
   "execution_count": null,
   "metadata": {},
   "outputs": [],
   "source": [
    "#Time series\n",
    "year_min=2003\n",
    "year_max=2012\n",
    "# # Guadalquivir\n",
    "lon=-6.34\n",
    "lat=36.79\n",
    "\n",
    "var=\"hydrographs\"\n",
    "ds1=std\n",
    "ds1 = ds1.where(ds1['time.year'] >= year_min, drop=True).where(ds1['time.year'] <= year_max, drop=True)\n",
    "ds2=natDIAG_R\n",
    "ds2 = ds2.where(ds2['time.year'] >= year_min, drop=True).where(ds2['time.year'] <= year_max, drop=True)\n",
    "#plot the time series of hydrographs at the point (lon,lat)\n",
    "fig = plt.figure(figsize=(10, 6))\n",
    "ax = plt.axes()\n",
    "ax.grid()\n",
    "ax.set_ylabel('hydrographs')\n",
    "# ds1[var].sel(lon=lon, lat=lat, method='nearest').plot(ax=ax, label=ds1.name)\n",
    "ds2[var].sel(lon=lon, lat=lat, method='nearest').plot(ax=ax, label=ds2.name)\n",
    "# ds2['runoff'].sel(lon=lon, lat=lat, method='nearest').plot(ax=ax, label='runoff')\n",
    "plt.title('hydrographs at (' + str(lon) + ',' + str(lat) + '), m³/s')\n",
    "plt.legend()"
   ]
  },
  {
   "cell_type": "code",
   "execution_count": null,
   "metadata": {},
   "outputs": [],
   "source": [
    "#Time series\n",
    "year_min=2003\n",
    "year_max=2012\n",
    "lon=-8.875\n",
    "lat=41.86\n",
    "ds1=natDIAG_R\n",
    "ds1 = ds1.where(ds1['time.year'] >= year_min, drop=True).where(ds1['time.year'] <= year_max, drop=True)\n",
    "#plot the time series of hydrographs at the point (lon,lat)\n",
    "fig = plt.figure(figsize=(10, 6))\n",
    "ax = plt.axes()\n",
    "ax.grid()\n",
    "ds1['runoff'].sel(lon=lon, lat=lat, method='nearest').plot(ax=ax, label='runoff',c='green')\n",
    "ds1['drainage'].sel(lon=lon, lat=lat, method='nearest').plot(ax=ax, label='drainage',c='brown')\n",
    "# ['rain'].sel(lon=lon, lat=lat, method='nearest').plot(ax=ax, label='rainfall',c='blue')\n",
    "plt.title('Runoff and drainage at (' + str(lon) + ',' + str(lat) + '), mm/d')\n",
    "plt.legend()"
   ]
  },
  {
   "cell_type": "code",
   "execution_count": null,
   "metadata": {},
   "outputs": [],
   "source": [
    "#Cycle saisonnier (moyenne par jour de l'année)\n",
    "var=\"hydrographs\"\n",
    "#Ebre\n",
    "# lon=0.75\n",
    "# lat=40.75\n",
    "# # Tage\n",
    "# lon=-9.25\n",
    "# lat=39.25\n",
    "# # Douro\n",
    "# lon=-8.75\n",
    "# lat=41.25\n",
    "# # Guadiana\n",
    "lon=-7.25\n",
    "lat=38.25\n",
    "# # Guadalquivir\n",
    "# lon=-6.25\n",
    "# lat=36.75\n",
    "ds1=std\n",
    "ds2=natDIAG_R\n",
    "fig = plt.figure(figsize=(10, 6))\n",
    "ax = plt.axes()\n",
    "ax.grid()\n",
    "ax.set_xlabel('month')\n",
    "ax.set_ylabel('hydrographs')\n",
    "ax.set_title('hydrographs at (' + str(lon) + ',' + str(lat) + ')')\n",
    "#compute the annual cycle of hydrographs at the point (lon,lat)\n",
    "ds1[var].sel(lon=lon, lat=lat, method='nearest').groupby('time.dayofyear').mean(dim='time').plot(ax=ax, label=ds1.name)\n",
    "ds2[var].sel(lon=lon, lat=lat, method='nearest').groupby('time.dayofyear').mean(dim='time').plot(ax=ax, label=ds2.name)\n",
    "plt.legend()"
   ]
  },
  {
   "cell_type": "code",
   "execution_count": null,
   "metadata": {},
   "outputs": [],
   "source": [
    "#cycle saisonnier pour 6 points de grille\n",
    "var = \"hydrographs\"\n",
    "ds1 = std\n",
    "ds2 = natDIAG_R\n",
    "\n",
    "# Create subplots for each river in a 2x3 grid\n",
    "fig, axes = plt.subplots(nrows=2, ncols=3, figsize=(20, 10))\n",
    "\n",
    "# Flatten the axes array for easier iteration\n",
    "axes = axes.flatten()\n",
    "\n",
    "# Iterate over rivers and plot hydrographs\n",
    "for i, (river, coordinates) in enumerate(river_coordinates.items()):\n",
    "    lon = coordinates['lon']\n",
    "    lat = coordinates['lat']\n",
    "    \n",
    "    ax = axes[i]\n",
    "\n",
    "    #Compute the annual cycle of hydrographs at the point (lon, lat) for each dataset\n",
    "    ds1[var].sel(lon=lon, lat=lat, method='nearest').groupby('time.month').mean(dim='time').plot(ax=ax, label=ds1.name)\n",
    "\n",
    "for i, (river, coordinates) in enumerate(river_coordinates_native.items()):\n",
    "    lon = coordinates['lon']\n",
    "    lat = coordinates['lat']\n",
    "    \n",
    "    ax = axes[i]\n",
    "\n",
    "    # Compute the annual cycle of hydrographs at the point (lon, lat) for each dataset\n",
    "    ds2[var].sel(lon=lon, lat=lat, method='nearest').groupby('time.month').mean(dim='time').plot(ax=ax, label=ds2.name)\n",
    "    \n",
    "    ax.legend()\n",
    "    #set subplot title to river name\n",
    "    ax.set_title(river)\n",
    "\n",
    "# Remove any remaining empty subplots\n",
    "for i in range(len(river_coordinates), len(axes)):\n",
    "    fig.delaxes(axes[i])\n",
    "\n",
    "plt.suptitle(\"Cycle saisonnier du débit à l'exutoire (m³/s, 2003-2012)\")\n",
    "plt.tight_layout()"
   ]
  },
  {
   "cell_type": "code",
   "execution_count": null,
   "metadata": {},
   "outputs": [],
   "source": [
    "#série temporelle pour 6 points de grille\n",
    "var = \"hydrographs\"\n",
    "ds1 = std_month\n",
    "ds2 = natDIAG_R\n",
    "\n",
    "# Create subplots for each river in a 2x3 grid\n",
    "fig, axes = plt.subplots(nrows=2, ncols=3, figsize=(20, 10))\n",
    "\n",
    "# Flatten the axes array for easier iteration\n",
    "axes = axes.flatten()\n",
    "\n",
    "# Iterate over rivers and plot hydrographs\n",
    "for i, (river, coordinates) in enumerate(river_coordinates.items()):\n",
    "    lon = coordinates['lon']\n",
    "    lat = coordinates['lat']\n",
    "    \n",
    "    ax = axes[i]\n",
    "\n",
    "    # Compute the annual cycle of hydrographs at the point (lon, lat) for each dataset\n",
    "    # ds1[var].sel(lon=lon, lat=lat, method='nearest').plot(ax=ax, label=ds1.name)\n",
    "\n",
    "for i, (river, coordinates) in enumerate(river_coordinates_native.items()):\n",
    "    lon = coordinates['lon']\n",
    "    lat = coordinates['lat']\n",
    "    \n",
    "    ax = axes[i]\n",
    "\n",
    "    # Compute the annual cycle of hydrographs at the point (lon, lat) for each dataset\n",
    "    ds2[var].sel(lon=lon, lat=lat, method='nearest').plot(ax=ax, label=ds2.name)\n",
    "    \n",
    "    ax.legend()\n",
    "    #set subplot title to river name\n",
    "    ax.set_title(river)\n",
    "\n",
    "# Remove any remaining empty subplots\n",
    "for i in range(len(river_coordinates), len(axes)):\n",
    "    fig.delaxes(axes[i])\n",
    "\n",
    "plt.suptitle(\"Série temporelle du débit à l'exutoire (m³/s)\")\n",
    "plt.tight_layout()"
   ]
  }
 ],
 "metadata": {
  "kernelspec": {
   "display_name": "Python 3",
   "language": "python",
   "name": "python3"
  },
  "language_info": {
   "codemirror_mode": {
    "name": "ipython",
    "version": 3
   },
   "file_extension": ".py",
   "mimetype": "text/x-python",
   "name": "python",
   "nbconvert_exporter": "python",
   "pygments_lexer": "ipython3",
   "version": "3.12.2"
  }
 },
 "nbformat": 4,
 "nbformat_minor": 2
}
