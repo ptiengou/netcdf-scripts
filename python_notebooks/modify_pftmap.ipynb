{
 "cells": [
  {
   "cell_type": "code",
   "execution_count": null,
   "metadata": {},
   "outputs": [],
   "source": [
    "%load_ext autoreload\n",
    "%autoreload 2\n",
    "%matplotlib inline\n",
    "\n",
    "#import personnal tools\n",
    "import sys\n",
    "sys.path.append('../python_tools/')\n",
    "from tools import *\n",
    "from tools_native import *\n",
    "from tools_mapping import *"
   ]
  },
  {
   "cell_type": "code",
   "execution_count": null,
   "metadata": {},
   "outputs": [],
   "source": [
    "#on grid cell\n",
    "#highirr\n",
    "Cendrosa_lon=0.755\n",
    "Cendrosa_lat=41.63\n",
    "#lowirr\n",
    "ElsPlans_lon=0.996\n",
    "ElsPlans_lat=41.51\n",
    "\n",
    "# alt for these grid cells : (307.6005859375, 456.8945007324219)"
   ]
  },
  {
   "cell_type": "code",
   "execution_count": null,
   "metadata": {},
   "outputs": [],
   "source": [
    "#actual data from LIAISE db\n",
    "Cendrosa_Latitude=41.69336\n",
    "Cendrosa_Longitude=0.928538\n",
    "Cendrosa_altitude= 240\n",
    "\n",
    "ElsPlans_Latitude = 41.590111\n",
    "ElsPlans_Longitude = 1.029363\n",
    "ElsPlans_altitude = 334"
   ]
  },
  {
   "cell_type": "code",
   "execution_count": null,
   "metadata": {},
   "outputs": [],
   "source": [
    "def add_liaise_site_loc(ax=None):\n",
    "    if ax is not None:\n",
    "        ax.plot(Cendrosa_lon, Cendrosa_lat, 'go', markersize=10, transform=ccrs.Geodetic())\n",
    "        ax.plot(ElsPlans_lon, ElsPlans_lat, 'go', markersize=10, transform=ccrs.Geodetic())\n",
    "        ax.plot(Cendrosa_Longitude, Cendrosa_Latitude, 'ro', markersize=10, transform=ccrs.Geodetic())\n",
    "        ax.plot(ElsPlans_Longitude, ElsPlans_Latitude, 'ro', markersize=10, transform=ccrs.Geodetic())\n",
    "    else:\n",
    "        plt.plot(Cendrosa_lon, Cendrosa_lat, 'go', markersize=10, transform=ccrs.Geodetic())\n",
    "        plt.plot(ElsPlans_lon, ElsPlans_lat, 'go', markersize=10, transform=ccrs.Geodetic())\n",
    "        plt.plot(Cendrosa_Longitude, Cendrosa_Latitude, 'ro', markersize=10, transform=ccrs.Geodetic())\n",
    "        plt.plot(ElsPlans_Longitude, ElsPlans_Latitude, 'ro', markersize=10, transform=ccrs.Geodetic())"
   ]
  },
  {
   "cell_type": "code",
   "execution_count": null,
   "metadata": {},
   "outputs": [],
   "source": [
    "def locate_grid_cell(ds, lon, lat):\n",
    "    \"\"\"Edit the grid cell closest to the given lon/lat with new values.\"\"\"\n",
    "    dist = haversine(ds.nav_lat, ds.nav_lon, lat, lon)\n",
    "    closest_idx = dist.argmin(...)\n",
    "    print(closest_idx)\n",
    "\n",
    "def locate_grid_cell_var(ds, varname, value):\n",
    "    dist = np.abs(ds[varname]-value)\n",
    "    closest_idx = dist.argmin()\n",
    "    print(closest_idx)"
   ]
  },
  {
   "cell_type": "markdown",
   "metadata": {},
   "source": [
    "# Restarts"
   ]
  },
  {
   "cell_type": "code",
   "execution_count": null,
   "metadata": {},
   "outputs": [],
   "source": [
    "modif_dir='../../modif_ORCmaps' #adapt if on spirit or local\n",
    "\n",
    "irr=False\n",
    "\n",
    "change_PFT=True"
   ]
  },
  {
   "cell_type": "code",
   "execution_count": null,
   "metadata": {},
   "outputs": [],
   "source": [
    "if irr:\n",
    "    restart_filename='{}/restarts/sim258_20210630_sechiba_rest_original.nc'.format(modif_dir)\n",
    "    restart_routing_new_filename='{}/restarts/sim258_20210630_sechiba_rest_new.nc'.format(modif_dir)\n",
    "else :\n",
    "    # restart_filename='{}/restarts/sim248_20210630_sechiba_rest_original.nc'.format(modif_dir)\n",
    "    # restart_new_filename='{}/restarts/sim248_20210630_sechiba_rest_new.nc'.format(modif_dir)\n",
    "    restart_filename='{}/restarts/sim258_20210131_sechiba_rest_original.nc'.format(modif_dir)\n",
    "    restart_new_filename='{}/restarts/sim258_20210131_sechiba_rest_new.nc'.format(modif_dir)\n",
    "\n",
    "\n",
    "restart=xr.open_dataset(restart_filename, decode_times=False)\n",
    "\n",
    "restart"
   ]
  },
  {
   "cell_type": "code",
   "execution_count": null,
   "metadata": {},
   "outputs": [],
   "source": [
    "var='irrigmap_dyn'\n",
    "value=326599456.0\n",
    "locate_grid_cell_var(restart, var, value)\n",
    "value=95288328.0\n",
    "locate_grid_cell_var(restart, var, value)"
   ]
  },
  {
   "cell_type": "code",
   "execution_count": null,
   "metadata": {},
   "outputs": [],
   "source": [
    "cen_idx=2877\n",
    "els_idx=2823"
   ]
  },
  {
   "cell_type": "markdown",
   "metadata": {},
   "source": [
    "## Print before"
   ]
  },
  {
   "cell_type": "code",
   "execution_count": null,
   "metadata": {},
   "outputs": [],
   "source": [
    "#Cendrosa\n",
    "ds=restart\n",
    "print(\"Lon, lat\")\n",
    "print(ds['nav_lon'][cen_idx,0].values)\n",
    "print(ds['nav_lat'][cen_idx,0].values)\n",
    "if irr:\n",
    "    print(\"aei_sw, irrigmap_dyn\")\n",
    "    print(ds['fraction_aeirrig_sw'][:,cen_isim258_20210131_sechiba_rest.ncdx,0].values)\n",
    "    print(ds['irrigmap_dyn'][:,cen_idx,:].values)\n",
    "print(\"veget_max\")\n",
    "for i in range(15):\n",
    "    print(ds['veget_max'][:,i,cen_idx,:].values)"
   ]
  },
  {
   "cell_type": "code",
   "execution_count": null,
   "metadata": {},
   "outputs": [],
   "source": [
    "#Els Plans\n",
    "ds=restart\n",
    "print(\"Lon, lat\")\n",
    "print(ds['nav_lon'][els_idx,0].values)\n",
    "print(ds['nav_lat'][els_idx,0].values)\n",
    "if irr:\n",
    "    print(\"aei_sw, irrigmap_dyn\")\n",
    "    print(ds['fraction_aeirrig_sw'][:,els_idx,0].values)\n",
    "    print(ds['irrigmap_dyn'][:,els_idx,:].values)\n",
    "print(\"veget_max\")\n",
    "for i in range(15):\n",
    "    print(ds['veget_max'][:,i,els_idx,:].values)"
   ]
  },
  {
   "cell_type": "markdown",
   "metadata": {},
   "source": [
    "## Make changes"
   ]
  },
  {
   "cell_type": "code",
   "execution_count": null,
   "metadata": {},
   "outputs": [],
   "source": [
    "if change_PFT:\n",
    "    for i in range(15):\n",
    "        restart['veget_max'][0,i,cen_idx,0]=0.0\n",
    "        restart['veget_max'][0,i,els_idx,0]=0.0\n",
    "    restart['veget_max'][0,11,cen_idx,0]=1.0\n",
    "    restart['veget_max'][0,11,els_idx,0]=1.0\n",
    "\n",
    "if irr:\n",
    "    restart['irrigmap_dyn'][0,cen_idx,0]=5e+8\n",
    "    restart['irrigmap_dyn'][0,els_idx,0]=0.0\n",
    "\n",
    "#export to netcdf\n",
    "if os.path.exists(restart_new_filename):\n",
    "    print('Removing existing file')\n",
    "    os.remove(restart_new_filename)\n",
    "restart.to_netcdf(restart_new_filename)\n",
    "\n",
    "restart2=xr.open_dataset(restart_new_filename, decode_times=False)\n",
    "restart2"
   ]
  },
  {
   "cell_type": "markdown",
   "metadata": {},
   "source": [
    "## Print after"
   ]
  },
  {
   "cell_type": "code",
   "execution_count": null,
   "metadata": {},
   "outputs": [],
   "source": [
    "#Cendrosa\n",
    "ds=restart2\n",
    "print(\"Lon, lat\")\n",
    "print(ds['nav_lon'][cen_idx,0].values)\n",
    "print(ds['nav_lat'][cen_idx,0].values)\n",
    "if irr:\n",
    "    print(\"aei_sw, irrigmap_dyn\")\n",
    "    print(ds['fraction_aeirrig_sw'][:,cen_idx,0].values)\n",
    "    print(ds['irrigmap_dyn'][:,cen_idx,:].values)\n",
    "print(\"veget_max\")\n",
    "for i in range(15):\n",
    "    print(ds['veget_max'][:,i,cen_idx,:].values)"
   ]
  },
  {
   "cell_type": "code",
   "execution_count": null,
   "metadata": {},
   "outputs": [],
   "source": [
    "#Els Plans\n",
    "ds=restart2\n",
    "print(\"Lon, lat\")\n",
    "print(ds['nav_lon'][els_idx,0].values)\n",
    "print(ds['nav_lat'][els_idx,0].values)\n",
    "if irr:\n",
    "    print(\"aei_sw, irrigmap_dyn\")\n",
    "    print(ds['fraction_aeirrig_sw'][:,els_idx,0].values)\n",
    "    print(ds['irrigmap_dyn'][:,els_idx,:].values)\n",
    "print(\"veget_max\")\n",
    "for i in range(15):\n",
    "    print(ds['veget_max'][:,i,els_idx,:].values)"
   ]
  },
  {
   "cell_type": "markdown",
   "metadata": {},
   "source": [
    "# Modify PFTmap"
   ]
  },
  {
   "cell_type": "code",
   "execution_count": null,
   "metadata": {},
   "outputs": [],
   "source": [
    "# filename='/data/ptiengou/PFTmap_2014.nc'\n",
    "filename='../../data/modif_ORCmaps/PFTmap_2014.nc'\n",
    "map0=xr.open_dataset(filename, decode_times=False)\n",
    "#select subset\n",
    "# map=map0.sel(lon=slice(lon_min,lon_max),lat=slice(lat_max,lat_min))\n",
    "map=map0\n",
    "#rename time\n",
    "map=map.rename({'time_counter':'time'})\n",
    "#add var or pft12\n",
    "# map['pft12'] = map['maxvegetfrac'][0,11,:,:]\n",
    "\n",
    "map"
   ]
  },
  {
   "cell_type": "code",
   "execution_count": null,
   "metadata": {},
   "outputs": [],
   "source": [
    "vmin,vmax=0,1"
   ]
  },
  {
   "cell_type": "code",
   "execution_count": null,
   "metadata": {},
   "outputs": [],
   "source": [
    "#Display map of var for ds on restricted area\n",
    "var='maxvegetfrac'\n",
    "nb=11\n",
    "ds = map\n",
    "\n",
    "latmin=36.0\n",
    "latmax=44\n",
    "lonmin=-10\n",
    "lonmax=3.5\n",
    "\n",
    "#restrict ds to latmin, latmax, lonmin, lonmax\n",
    "ds = ds.where(ds.lat >= latmin, drop=True).where(ds.lat <= latmax, drop=True)\n",
    "ds = ds.where(ds.lon >= lonmin, drop=True).where(ds.lon <= lonmax, drop=True)\n",
    "plotvar = ds[var][:,nb,:,:]\n",
    "\n",
    "map_plotvar(plotvar, cmap=myvir,title=var+'_'+str(nb+1),vmin=0,vmax=1)\n"
   ]
  },
  {
   "cell_type": "code",
   "execution_count": null,
   "metadata": {},
   "outputs": [],
   "source": [
    "def change_pfts(ds, lon_min, lon_max, lat_min, lat_max, var_name='maxvegetfrac', output_file='pftmap_new.nc'):\n",
    "    ds = ds.copy()  # Ensure we don't modify the original dataset\n",
    "    \n",
    "    # Select the latitude and longitude range\n",
    "    selected = ds[var_name].sel(lon=slice(lon_min, lon_max), lat=slice(lat_max, lat_min))\n",
    "\n",
    "    # Set all k values to 0 in the selected region\n",
    "    ds[var_name].loc[:,:, selected.lat, selected.lon] = 0\n",
    "    \n",
    "    # Set k=12 to 1 in the selected region\n",
    "    ds[var_name].loc[:,12, selected.lat, selected.lon] = 1\n",
    "\n",
    "    ds.to_netcdf(output_file)\n",
    "    print(f\"Dataset saved as {output_file}\")\n",
    "\n",
    "    return ds"
   ]
  },
  {
   "cell_type": "code",
   "execution_count": null,
   "metadata": {},
   "outputs": [],
   "source": [
    "lonmin=0.5\n",
    "lonmax=1.2\n",
    "latmin=41.4\n",
    "latmax=41.8\n",
    "output_file='../../data/PFTmap_2014_new.nc'\n",
    "# newds=change_pfts(map0, lonmin, lonmax, latmin, latmax, output_file=output_file)"
   ]
  },
  {
   "cell_type": "code",
   "execution_count": null,
   "metadata": {},
   "outputs": [],
   "source": [
    "filename=output_file\n",
    "map1=xr.open_dataset(filename, decode_times=False)\n",
    "map1"
   ]
  },
  {
   "cell_type": "code",
   "execution_count": null,
   "metadata": {},
   "outputs": [],
   "source": [
    "#Display map of var for ds on restricted area\n",
    "var='maxvegetfrac'\n",
    "nb=11\n",
    "ds = map\n",
    "\n",
    "latmin=36.0\n",
    "latmax=44\n",
    "lonmin=-10\n",
    "lonmax=3.5\n",
    "\n",
    "latmin=41.35\n",
    "latmax=42\n",
    "lonmin=0.45\n",
    "lonmax=1.35\n",
    "\n",
    "#restrict ds to latmin, latmax, lonmin, lonmax\n",
    "ds = ds.where(ds.lat >= latmin, drop=True).where(ds.lat <= latmax, drop=True)\n",
    "ds = ds.where(ds.lon >= lonmin, drop=True).where(ds.lon <= lonmax, drop=True)\n",
    "plotvar = ds[var][:,nb,:,:]\n",
    "\n",
    "map_plotvar(plotvar, cmap='viridis',title=var+'_'+str(nb+1),vmin=0,vmax=1)\n",
    "add_liaise_site_loc()"
   ]
  },
  {
   "cell_type": "markdown",
   "metadata": {},
   "source": [
    "# Modify irrigmap"
   ]
  },
  {
   "cell_type": "code",
   "execution_count": null,
   "metadata": {},
   "outputs": [],
   "source": [
    "def change_irrig(ds, newval, lon_min, lon_max, lat_min, lat_max, var_name='irrig', output_file='irrigmap_new.nc'):\n",
    "    ds = ds.copy()  # Ensure we don't modify the original dataset\n",
    "    \n",
    "    # Select the latitude and longitude range\n",
    "    selected = ds[var_name].sel(lon=slice(lon_min, lon_max), lat=slice(lat_max, lat_min))\n",
    "\n",
    "    # Set all k values to 0 in the selected region\n",
    "    ds[var_name].loc[selected.lat, selected.lon] = newval\n",
    "\n",
    "    ds.to_netcdf(output_file)\n",
    "    print(f\"Dataset saved as {output_file}\")\n",
    "\n",
    "    return ds"
   ]
  },
  {
   "cell_type": "code",
   "execution_count": null,
   "metadata": {},
   "outputs": [],
   "source": [
    "# filename='/data/ptiengou/PFTmap_2014.nc'\n",
    "filename='../../data/modif_ORCmaps/IRRIGmap2012_FillValue_cropped.nc'\n",
    "irrmap0=xr.open_dataset(filename, decode_times=False)\n",
    "irrmap=irrmap0\n",
    "\n",
    "irrmap"
   ]
  },
  {
   "cell_type": "code",
   "execution_count": null,
   "metadata": {},
   "outputs": [],
   "source": [
    "zero_lonmin, zero_lonmax = 0.9, 1.2\n",
    "zero_latmin, zero_latmax = 41.4, 41.7\n",
    "# zero_lonmin, zero_lonmax = 0.8, 1.2\n",
    "# zero_latmin, zero_latmax = 41.4, 41.62\n",
    "newval=0\n",
    "output_file='../../data/modif_ORCmaps/IRRIGmap2012_FillValue_cropped_new.nc'\n",
    "newds=change_irrig(irrmap0, newval, zero_lonmin, zero_lonmax, zero_latmin, zero_latmax, output_file=output_file)\n"
   ]
  },
  {
   "cell_type": "code",
   "execution_count": null,
   "metadata": {},
   "outputs": [],
   "source": [
    "hundred_lonmin, hundred_lonmax = 0.5, 0.9\n",
    "hundred_latmin, hundred_latmax = 41.5, 41.8\n",
    "# hundred_lonmin, hundred_lonmax = 0.8, 1.2\n",
    "# hundred_latmin, hundred_latmax = 41.62, 41.85\n",
    "newval=100\n",
    "output_file='../../data/modif_ORCmaps/IRRIGmap2012_FillValue_cropped_new.nc'\n",
    "newds=change_irrig(newds, newval, hundred_lonmin, hundred_lonmax, hundred_latmin, hundred_latmax, output_file=output_file)"
   ]
  },
  {
   "cell_type": "code",
   "execution_count": null,
   "metadata": {},
   "outputs": [],
   "source": [
    "filename='../../data/modif_ORCmaps/IRRIGmap2012_FillValue_cropped_new.nc'\n",
    "irrmap1=xr.open_dataset(filename, decode_times=False)\n",
    "irrmap1"
   ]
  },
  {
   "cell_type": "code",
   "execution_count": null,
   "metadata": {},
   "outputs": [],
   "source": [
    "#Display map of var for ds on restricted area\n",
    "var='irrig'\n",
    "ds = irrmap\n",
    "ds=newds\n",
    "ds=irrmap1\n",
    "\n",
    "lat_min, lat_max, lon_min, lon_max = 41.35, 41.82, 0.45, 1.35  \n",
    "# lat_min, lat_max, lon_min, lon_max = 41., 42., 0., 2.  \n",
    "# lat_min, lat_max, lon_min, lon_max = 36.0, 44, -10, 3.5  \n",
    "\n",
    "#restrict ds to latmin, latmax, lonmin, lonmax\n",
    "ds = ds.where(ds.lat >= latmin, drop=True).where(ds.lat <= latmax, drop=True)\n",
    "ds = ds.where(ds.lon >= lonmin, drop=True).where(ds.lon <= lonmax, drop=True)\n",
    "plotvar = ds[var]\n",
    "\n",
    "map_plotvar(plotvar, cmap='viridis',title='Irrig_frac (%)',vmin=0,vmax=100)\n",
    "add_liaise_site_loc()"
   ]
  },
  {
   "cell_type": "markdown",
   "metadata": {},
   "source": [
    "# Restart routing"
   ]
  },
  {
   "cell_type": "code",
   "execution_count": null,
   "metadata": {},
   "outputs": [],
   "source": [
    "modif_dir='../../modif_ORCmaps' #adapt if on spirit or local\n",
    "\n",
    "irr=True"
   ]
  },
  {
   "cell_type": "code",
   "execution_count": null,
   "metadata": {},
   "outputs": [],
   "source": [
    "if irr:\n",
    "    restart_routing_filename='{}/restarts/sim258_20210630_routing_restart_original.nc'.format(modif_dir)\n",
    "    restart_routing_new_filename='{}/restarts/sim258_20210630_routing_restart_new.nc'.format(modif_dir)\n",
    "\n",
    "restart_routing=xr.open_dataset(restart_routing_filename, decode_times=False)\n",
    "\n",
    "#add units (kg) to all vars\n",
    "restart_routing['fast_reservoir'].attrs['units']='kg'\n",
    "restart_routing['slow_reservoir'].attrs['units']='kg'\n",
    "restart_routing['stream_reservoir'].attrs['units']='kg'\n",
    "\n",
    "\n",
    "restart_routing"
   ]
  },
  {
   "cell_type": "markdown",
   "metadata": {},
   "source": [
    "## Print before"
   ]
  },
  {
   "cell_type": "code",
   "execution_count": null,
   "metadata": {},
   "outputs": [],
   "source": [
    "ds=restart_routing\n",
    "var='stream_reservoir'\n",
    "# var='slow_reservoir'\n",
    "var='fast_reservoir'\n",
    "cmap=bluesW\n",
    "\n",
    "lat_min, lat_max, lon_min, lon_max = 41.35, 41.82, 0.45, 1.35  \n",
    "lat_min, lat_max, lon_min, lon_max = 41., 42., 0., 2.  \n",
    "# lat_min, lat_max, lon_min, lon_max = 36.0, 44, -10, 3.5  \n",
    "\n",
    "ds = ds.where(ds.lat >= lat_min, drop=True).where(ds.lat <= lat_max, drop=True)\n",
    "ds = ds.where(ds.lon >= lon_min, drop=True).where(ds.lon <= lon_max, drop=True)\n",
    "\n",
    "map_ave(ds, var, cmap=cmap)\n",
    "add_liaise_site_loc()"
   ]
  },
  {
   "cell_type": "markdown",
   "metadata": {},
   "source": [
    "## Make changes"
   ]
  },
  {
   "cell_type": "code",
   "execution_count": null,
   "metadata": {},
   "outputs": [],
   "source": [
    "#make all reservoirs 10e+10 in given zone\n",
    "lat_min, lat_max, lon_min, lon_max = 41., 43., 0., 2.  \n",
    "ds=restart_routing\n",
    "\n",
    "# Select the region of interest\n",
    "region = ds.sel(lat=slice(lat_min, lat_max), lon=slice(lon_min, lon_max))\n",
    "\n",
    "# Assign the value 1e+8 to the specified variables within the region\n",
    "region['fast_reservoir'] = 1e+10\n",
    "region['slow_reservoir'] = 1e+10\n",
    "region['stream_reservoir'] = 1e+10\n",
    "\n",
    "# Assign the modified region back to the original dataset\n",
    "ds['fast_reservoir'] = xr.where((ds.lat >= lat_min) & (ds.lat <= lat_max) & (ds.lon >= lon_min) & (ds.lon <= lon_max), region['fast_reservoir'], ds['fast_reservoir'])\n",
    "ds['slow_reservoir'] = xr.where((ds.lat >= lat_min) & (ds.lat <= lat_max) & (ds.lon >= lon_min) & (ds.lon <= lon_max), region['slow_reservoir'], ds['slow_reservoir'])\n",
    "ds['stream_reservoir'] = xr.where((ds.lat >= lat_min) & (ds.lat <= lat_max) & (ds.lon >= lon_min) & (ds.lon <= lon_max), region['stream_reservoir'], ds['stream_reservoir'])\n",
    "\n",
    "#export to netcdf\n",
    "if os.path.exists(restart_routing_new_filename):\n",
    "    print('Removing existing file')\n",
    "    os.remove(restart_routing_new_filename)\n",
    "restart_routing.to_netcdf(restart_routing_new_filename)\n",
    "\n",
    "restart_routing_2=xr.open_dataset(restart_routing_new_filename, decode_times=False)\n",
    "#add units (kg) to all vars\n",
    "restart_routing_2['fast_reservoir'].attrs['units']='kg'\n",
    "restart_routing_2['slow_reservoir'].attrs['units']='kg'\n",
    "restart_routing_2['stream_reservoir'].attrs['units']='kg'\n",
    "restart_routing_2"
   ]
  },
  {
   "cell_type": "markdown",
   "metadata": {},
   "source": [
    "## Print after"
   ]
  },
  {
   "cell_type": "code",
   "execution_count": null,
   "metadata": {},
   "outputs": [],
   "source": [
    "ds=restart_routing_2\n",
    "var='stream_reservoir'\n",
    "# var='slow_reservoir'\n",
    "# var='fast_reservoir'\n",
    "cmap=bluesW\n",
    "\n",
    "lat_min, lat_max, lon_min, lon_max = 41.35, 41.82, 0.45, 1.35  \n",
    "lat_min, lat_max, lon_min, lon_max = 41., 42., 0., 2.  \n",
    "# lat_min, lat_max, lon_min, lon_max = 36.0, 44, -10, 3.5  \n",
    "# lat_min, lat_max, lon_min, lon_max = 36.0, 44, -10, 3.5  \n",
    "lat_min, lat_max, lon_min, lon_max =36,43,-4, 4\n",
    "\n",
    "ds = ds.where(ds.lat >= lat_min, drop=True).where(ds.lat <= lat_max, drop=True)\n",
    "ds = ds.where(ds.lon >= lon_min, drop=True).where(ds.lon <= lon_max, drop=True)\n",
    "\n",
    "map_ave(ds, var, cmap=cmap)\n",
    "add_liaise_site_loc()"
   ]
  }
 ],
 "metadata": {
  "kernelspec": {
   "display_name": "Python 3",
   "language": "python",
   "name": "python3"
  },
  "language_info": {
   "codemirror_mode": {
    "name": "ipython",
    "version": 3
   },
   "file_extension": ".py",
   "mimetype": "text/x-python",
   "name": "python",
   "nbconvert_exporter": "python",
   "pygments_lexer": "ipython3",
   "version": "3.12.2"
  }
 },
 "nbformat": 4,
 "nbformat_minor": 2
}
